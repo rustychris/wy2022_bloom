{
 "cells": [
  {
   "cell_type": "markdown",
   "id": "fccc6438",
   "metadata": {},
   "source": [
    "Temporary version for an additional tracer run\n",
    "==\n",
    "\n",
    "Testing Numerical Diffusion in DFM vs DWAQ\n",
    "--\n",
    "\n",
    "One tracers with upward swimming behavior, 15 m/day. Initialize unit concentration everywhere, including all BCs.\n",
    "\n",
    "A second tracer with no swimming behavior, initialized in a single cell in South Bay.\n",
    "\n"
   ]
  },
  {
   "cell_type": "code",
   "execution_count": 2,
   "id": "0360f905",
   "metadata": {},
   "outputs": [],
   "source": [
    "import sys\n",
    "sys.path.append(\"/richmondvol1/rusty/stompy\")"
   ]
  },
  {
   "cell_type": "code",
   "execution_count": 3,
   "id": "e1723b95",
   "metadata": {},
   "outputs": [],
   "source": [
    "from stompy import utils\n",
    "import six\n",
    "import shutil\n",
    "import stompy.model.delft.dflow_model as dfm\n",
    "import stompy.model.delft.waq_scenario as dwaq\n",
    "import subprocess\n",
    "import os\n",
    "%matplotlib notebook"
   ]
  },
  {
   "cell_type": "code",
   "execution_count": 4,
   "id": "28db20a3",
   "metadata": {},
   "outputs": [
    {
     "data": {
      "text/plain": [
       "<module 'stompy.model.delft.waq_scenario' from '/richmondvol1/rusty/stompy/stompy/model/delft/waq_scenario.py'>"
      ]
     },
     "execution_count": 4,
     "metadata": {},
     "output_type": "execute_result"
    }
   ],
   "source": [
    "six.moves.reload_module(dwaq)"
   ]
  },
  {
   "cell_type": "code",
   "execution_count": 5,
   "id": "ca731f92",
   "metadata": {},
   "outputs": [],
   "source": [
    "# This is not the same run as I've used for previous tracer runs\n",
    "dfm_path=\"/chicagovol1/hpcshared/open_bay/hydro/full_res/wy2022_bloom/runs/wy2022_bloom_16layer\"    \n",
    "dwaq_hydro=os.path.join(dfm_path, \"DFM_DELWAQ_wy2022_bloom_16layer\")\n",
    "hydro=dwaq.HydroFiles(os.path.join(dwaq_hydro,\"wy2022_bloom_16layer.hyd\"))"
   ]
  },
  {
   "cell_type": "code",
   "execution_count": 6,
   "id": "e49a3906",
   "metadata": {},
   "outputs": [],
   "source": [
    "import logging\n",
    "log = logging.getLogger()\n",
    "\n",
    "import re, os, six\n",
    "import matplotlib.pyplot as plt\n",
    "from matplotlib import colors\n",
    "from matplotlib import gridspec\n",
    "import xarray as xr\n",
    "\n",
    "import numpy as np\n",
    "import pandas as pd\n",
    "\n",
    "import stompy.model.delft.waq_scenario as dwaq\n",
    "from stompy.memoize import memoize\n",
    "from stompy.grid import unstructured_grid\n",
    "from stompy import utils, filters\n",
    "from stompy.plot import plot_wkb\n"
   ]
  },
  {
   "cell_type": "code",
   "execution_count": 13,
   "id": "0c0c67c7",
   "metadata": {},
   "outputs": [],
   "source": [
    "def hydro_name(hydro): return \"wy2022_16layer\"\n",
    "\n",
    "def configure_dwaq(): # May be outdated, esp. for chicago.\n",
    "    # configure DWAQ:\n",
    "    DELFT_SRC=\"/opt/software/delft/delwaq/precompiled_binaries/DFM1.6.2.49199/lnx64\"\n",
    "    #DELFT_SRC=\"/home/alliek/software/Delft3D-FM/64634\"\n",
    "    DELFT_SHARE=os.path.join(DELFT_SRC,\"share\",\"delft3d\")\n",
    "    DELFT_LIB=os.path.join(DELFT_SRC,\"lib\")\n",
    "\n",
    "    os.environ['DELFT_SRC']=DELFT_SRC\n",
    "    os.environ['DELFT_SHARE']=DELFT_SHARE\n",
    "    \n",
    "    if 'LD_LIBRARY_PATH' in os.environ:\n",
    "        os.environ['LD_LIBRARY_PATH']=DELFT_LIB+\":\"+os.environ['LD_LIBRARY_PATH']\n",
    "    else:\n",
    "        os.environ['LD_LIBRARY_PATH']=DELFT_LIB\n",
    "    \n",
    "configure_dwaq()\n",
    "\n",
    "class CommonSetup(object):\n",
    "    \"\"\"\n",
    "    Common code for various tracers runs\n",
    "    \"\"\"\n",
    "    name='common' # should overload\n",
    "    hydro=None\n",
    "    base_path=None # must be set!\n",
    "\n",
    "    force=True # whether to allow re-using an existing run\n",
    "    \n",
    "    start_time=np.datetime64(\"2022-08-10 00:00\")\n",
    "    stop_time=np.datetime64(\"2022-08-12 00:00\") # seems that even temperature run is dicey on last step\n",
    "    \n",
    "    integration_option=\"15.60\" # if set, copied to WaqModel\n",
    "    time_step=3000\n",
    "    map_time_step=3000 # otherwise it will default to time_step, which could be really short.    \n",
    "\n",
    "    waq_kws={}\n",
    "    def __init__(self,**kw):\n",
    "        utils.set_keywords(self,kw)   \n",
    "        if self.base_path is None:\n",
    "            self.base_path=self.calc_base_path()\n",
    "                \n",
    "            yyyymmdd=utils.to_datetime(self.start_time).strftime('%Y%m%d')\n",
    "            self.base_path+=\"_%s\"%(yyyymmdd)   \n",
    "            \n",
    "            # And make it unique on successive runs\n",
    "            for seq in range(50):\n",
    "                test_path=self.base_path\n",
    "                if seq>0:\n",
    "                    test_path+=f\"-v{seq:03}\"\n",
    "                if not os.path.exists(test_path):\n",
    "                    self.base_path=test_path\n",
    "                    break\n",
    "            else:\n",
    "                raise Exception(\"Too many runs with same name\")\n",
    "            \n",
    "            log.info(\"base_path defaults to %s\"%self.base_path)\n",
    "    def calc_base_path(self):\n",
    "        p='run_%s_%s'%(hydro_name(self.hydro),self.name)\n",
    "        return p\n",
    "        \n",
    "    def release_conc_2d(self,X0,L):\n",
    "        grid=self.hydro.grid()\n",
    "        X=grid.cells_centroid()\n",
    "        \n",
    "        c=np.exp( -((X-X0)**2).sum(axis=-1)/L**2 )\n",
    "        c=c/c.max() # make max value 1\n",
    "        return c\n",
    "    def release_conc_3d(self,*a,**kw):\n",
    "        C_2d=self.release_conc_2d(*a,**kw)\n",
    "        C_3d=self.hydro.extrude_element_to_segment(C_2d)\n",
    "        return C_3d\n",
    "\n",
    "    def setup_model(self):\n",
    "        # Create a WaqModel, add some tracers\n",
    "        self.wm=wm=dwaq.WaqModel(hydro=self.hydro,\n",
    "                                 overwrite=True,\n",
    "                                 base_path=self.base_path,\n",
    "                                 mon_time_step=1000000, # daily\n",
    "                                 map_time_step=self.map_time_step,\n",
    "                                 time_step=self.time_step,\n",
    "                                 **self.waq_kws)\n",
    "        # add some option for balances.\n",
    "        wm.integration_option=\"\"\"%s ;\n",
    "    LOWER-ORDER-AT-BOUND NODISP-AT-BOUND\n",
    "    BALANCES-OLD-STYLE BALANCES-GPP-STYLE\n",
    "    BAL_NOLUMPPROCESSES BAL_NOLUMPLOADS BAL_NOLUMPTRANSPORT\n",
    "    BAL_NOSUPPRESSSPACe BAL_NOSUPPRESSTIME\"\"\"%self.integration_option\n",
    "        #wm.start_time+= self.start_offset\n",
    "        wm.start_time = self.start_time # may have to be smarter about starting on an output time step.\n",
    "        # hydro reports the wrong stop time. manually set.\n",
    "        if self.stop_time is not None:\n",
    "            wm.stop_time=self.stop_time\n",
    "        \n",
    "        self.setup_tracers()\n",
    "        \n",
    "    def run_waq_model(self):\n",
    "        assert self.base_path is not None,\"Must specify base_path\"\n",
    "        \n",
    "        if not self.force:\n",
    "            if os.path.exists(os.path.join(self.base_path,'dwaq_map.nc')):\n",
    "                log.info(\"Run seems to exist -- will not run again\")\n",
    "                self.wm=dwaq.WaqModel.load(self.base_path,load_hydro=False)\n",
    "                return\n",
    "\n",
    "        self.setup_model()\n",
    "        \n",
    "        wm=self.wm\n",
    "        wm.cmd_write_hydro()\n",
    "        wm.cmd_write_inp()\n",
    "        self.copy_notebook()        \n",
    "        wm.cmd_delwaq1()\n",
    "        wm.cmd_delwaq2()\n",
    "        wm.cmd_write_nc()\n",
    "    def copy_notebook(self):\n",
    "        script_fn=\"run_dfm_vs_dwaq_swimming.ipynb\"\n",
    "        shutil.copyfile(script_fn,os.path.join(self.base_path,script_fn))\n"
   ]
  },
  {
   "cell_type": "code",
   "execution_count": 14,
   "id": "608db046",
   "metadata": {},
   "outputs": [],
   "source": [
    "# Instantaneous release, just see how the blob moves.\n",
    "# Rather than using \"anonymous\" tracers as in the age tracer code, easier \n",
    "# to use substances that already have settling defined, but with no\n",
    "# other processes. Use AlgNN tracers since there are lots of them.\n",
    "\n",
    "class DwaqSwimAndPoint(CommonSetup):\n",
    "    swim_speeds=[-15.0] # positive down.\n",
    "    # close to the start in case we have to run DFM from cold start.\n",
    "    # But enough into the run that tides are spun up, and hopefully any\n",
    "    # initial baroclinic adjustments are done.\n",
    "    start_time=np.datetime64(\"2022-05-10 00:00\")\n",
    "    stop_time=np.datetime64(\"2022-05-13 00:00\") \n",
    "    name=\"dwaq_swim_point\"\n",
    "    \n",
    "    point=[561470,4.16814e6]\n",
    "    def setup_tracers(self):\n",
    "        all_bcs=[b.decode() for b in np.unique(self.hydro.boundary_defs()['type'])]\n",
    "\n",
    "        for swim_i,speed in enumerate(self.swim_speeds):\n",
    "            name=f'Alg{swim_i+1:02d}'\n",
    "            conc=f'BLOOM' + name\n",
    "            # initial condition of 1.0\n",
    "            unity=1.0\n",
    "            self.wm.substances[conc]=dwaq.Substance(initial=unity)\n",
    "            self.wm.parameters['VSed' + name]=  speed             \n",
    "            self.wm.add_process('SED' + name)        \n",
    "            \n",
    "            # This adds a concentration=1.0 boundary condition on all the boundaries.\n",
    "            self.wm.add_bc(all_bcs,conc,unity)\n",
    "\n",
    "        self.wm.parameters['TaucS']=0.0 # no deposition - covers all algae.\n",
    "        \n",
    "        # And a non-swimming, instantaneous point release. \n",
    "        \n",
    "        # boundary condition will default to 0.0\n",
    "        if 1: # is this causing the segfault? seems to. \n",
    "            grid=self.hydro.grid()\n",
    "            C_2d=np.zeros(grid.Ncells(),np.float32) \n",
    "            C_2d[grid.select_cells_nearest(self.point)] = 10000.0\n",
    "            C_3d=self.hydro.extrude_element_to_segment(C_2d)\n",
    "            # HERE using that IC appears to trigger a seg fault. \n",
    "            self.wm.substances['dye1']=dwaq.Substance(initial=C_3d)"
   ]
  },
  {
   "cell_type": "code",
   "execution_count": 15,
   "id": "748c7de2",
   "metadata": {},
   "outputs": [],
   "source": [
    "def configure_dwaq_new():\n",
    "    DELFT_SRC=\"/opt/software/delft/dfm/2023.01\"\n",
    "    DELFT_SHARE=os.path.join(DELFT_SRC,\"share\",\"delft3d\")\n",
    "    DELFT_LIB=os.path.join(DELFT_SRC,\"lib\")\n",
    "\n",
    "    os.environ['DELFT_SRC']=DELFT_SRC\n",
    "    os.environ['DELFT_SHARE']=DELFT_SHARE\n",
    "\n",
    "    # While mucking around with this just clobber whatever was in LD_LIBRARY_PATH\n",
    "    os.environ['LD_LIBRARY_PATH']=DELFT_LIB"
   ]
  },
  {
   "cell_type": "code",
   "execution_count": 30,
   "id": "4339dc24",
   "metadata": {
    "scrolled": false
   },
   "outputs": [
    {
     "name": "stderr",
     "output_type": "stream",
     "text": [
      "INFO:WaqModel:NEFIS file didn't exist. Skipping ugrid_nef()\n"
     ]
    }
   ],
   "source": [
    "configure_dwaq_new()\n",
    "\n",
    "if 1:\n",
    "    # With the old DWAQ (/opt/software/delft/delwaq/precompiled_binaries/DFM1.6.2.49199/lnx64)\n",
    "    # This appears to get a segfault for 3D IC when specified as csv.\n",
    "    pb=DwaqSwimAndPoint(hydro=hydro)\n",
    "    pb.run_waq_model()"
   ]
  },
  {
   "cell_type": "code",
   "execution_count": 57,
   "id": "05ee06ff",
   "metadata": {},
   "outputs": [
    {
     "name": "stderr",
     "output_type": "stream",
     "text": [
      "INFO:root:base_path defaults to run_wy2022_16layer_dfm_swim_and_point_20220810\n"
     ]
    }
   ],
   "source": [
    "# And a DFM run to do something as similar as possible\n",
    "# dfm_path=\"/chicagovol1/hpcshared/open_bay/hydro/full_res/wy2022_bloom/runs/wy2022_bloom_16layer\"\n",
    "# Copy DFM inputs\n",
    "class DfmSwimAndPoint(CommonSetup):\n",
    "    name=\"dfm_swim_and_point\"\n",
    "    \n",
    "    # This part is pretty slow (2 minutes?). Would be nice to avoid redoing it...\n",
    "    def copy_dfm_inputs(self):\n",
    "        assert dfm_path!=self.base_path\n",
    "        shutil.copytree(dfm_path, self.base_path,\n",
    "                       ignore=shutil.ignore_patterns('*.dia','DFM_*','postprocessing'))\n",
    "        \n",
    "dfm_sap=DfmSwimAndPoint()\n",
    "dfm_sap.copy_dfm_inputs()"
   ]
  },
  {
   "cell_type": "markdown",
   "id": "6614ea5f",
   "metadata": {},
   "source": [
    "DFM Run with Newest DFM\n",
    "=="
   ]
  },
  {
   "cell_type": "code",
   "execution_count": 283,
   "id": "2a65c0a1",
   "metadata": {},
   "outputs": [],
   "source": [
    "# Try to leave as much the same as possible --\n",
    "import stompy.model.delft.io as dio\n",
    "six.moves.reload_module(dio)\n",
    "import stompy.model.delft.dflow_model as dfm\n",
    "six.moves.reload_module(dfm)\n",
    "\n",
    "model=dfm.DFlowModel.load(dfm_sap.base_path)\n",
    "\n",
    "#model.dfm_bin_dir=os.path.join(os.environ['DELFT_SRC'],'bin')\n",
    "# Which mpi to use???\n",
    "# Best I can follow, hydro runs have been using a quite old DFM compile\n",
    "# that includes MPI binaries. \n",
    "\n",
    "# Base on /chicagovol1/hpcshared/open_bay/hydro/full_res/wy2022_bloom/sfb_dfm/run_launcher_part_2.sh\n",
    "# we should be looking at this install:\n",
    "\n",
    "#model.dfm_bin_dir=\"/opt/software/delft/dfm/r52184-opt/bin\"\n",
    "#os.environ['LD_LIBRARY_PATH']=model.dfm_bin_dir.replace(\"/bin\",\"/lib\")\n",
    "\n",
    "model.dfm_bin_dir=\"/opt/software/delft/dfm/2023.01/bin\"\n",
    "#model.mpi_bin_dir=model.dfm_bin_dir\n"
   ]
  },
  {
   "cell_type": "code",
   "execution_count": 325,
   "id": "3450aa68",
   "metadata": {},
   "outputs": [],
   "source": [
    "# Adjust end time to match DWAQ run.\n",
    "model.run_stop = DwaqSwimAndPoint.stop_time\n",
    "#shutil.copyfile(os.path.join(dfm_path,\"../../\"))"
   ]
  },
  {
   "cell_type": "code",
   "execution_count": 326,
   "id": "8f64445a",
   "metadata": {},
   "outputs": [
    {
     "name": "stdout",
     "output_type": "stream",
     "text": [
      "Updating out-of-tree relative paths\n"
     ]
    }
   ],
   "source": [
    "# MDU references cross sections file that's outside the folder\n",
    "print(\"Updating out-of-tree relative paths\")\n",
    "for entry in model.mdu.entries():\n",
    "    idx,sec,key,value,comment = entry\n",
    "    if value and \"../\" in value:\n",
    "        real_path=os.path.abspath( os.path.join(dfm_path,value) )\n",
    "        sec=sec.replace('[','').replace(']','')\n",
    "        model.mdu[sec,key]=real_path\n",
    "        print(f\"{value} => {real_path}\")\n",
    "        "
   ]
  },
  {
   "cell_type": "code",
   "execution_count": 327,
   "id": "2e2cc3ee",
   "metadata": {},
   "outputs": [
    {
     "name": "stdout",
     "output_type": "stream",
     "text": [
      "FILENAME=../../sfb_dfm/inputs-static/friction12e.xyz\n",
      " =>\n",
      "FILENAME=/chicagovol1/hpcshared/open_bay/hydro/full_res/wy2022_bloom/sfb_dfm/inputs-static/friction12e.xyz\n",
      " # updated to absolute\n",
      "\n"
     ]
    }
   ],
   "source": [
    "# And also in ext boundary file. \n",
    "ext_fn=model.mdu.filepath(('external forcing','ExtForceFile'))\n",
    "orig_ext_fn=ext_fn+\".orig\"\n",
    "if not os.path.exists(orig_ext_fn):\n",
    "    shutil.copyfile(ext_fn,orig_ext_fn)\n",
    "    \n",
    "import re\n",
    "with open(orig_ext_fn,'rt') as fp_orig:\n",
    "    with open(ext_fn,'wt') as fp_new:\n",
    "        for line in fp_orig:\n",
    "            m=re.match(r'\\s*filename\\s*=\\s*(\\.\\./[^#]+)(#.*)?',line,re.I)\n",
    "            if m:\n",
    "                print(line.strip())\n",
    "                real_path=os.path.abspath(os.path.join(dfm_path,m.group(1)))\n",
    "                line=f\"FILENAME={real_path} # updated to absolute\\n\"\n",
    "                print(\" =>\")\n",
    "                print(line.strip())\n",
    "                print()\n",
    "            fp_new.write(line)"
   ]
  },
  {
   "cell_type": "code",
   "execution_count": 328,
   "id": "190a77a4",
   "metadata": {},
   "outputs": [],
   "source": [
    "# For recent DFM, have to drop a few mdu entries\n",
    "for sec_key in [\n",
    "    ('numerics','transportmethod'),\n",
    "    ('numerics','qhrelax'),\n",
    "    ('numerics','transporttimestepping'),\n",
    "    ('physics','effectspiral'),\n",
    "    ('waves','knikuradse'),\n",
    "    ('trachytopes','trtdt'),\n",
    "    ('output','writebalancefile')\n",
    "]:\n",
    "    if sec_key in model.mdu:\n",
    "        print(\"Drop old mdu setting\",sec_key)\n",
    "        del model.mdu[sec_key]"
   ]
  },
  {
   "cell_type": "code",
   "execution_count": 329,
   "id": "61621c22",
   "metadata": {},
   "outputs": [],
   "source": [
    "cc=model.grid.cells_centroid()\n",
    "conc=np.zeros(model.grid.Ncells())\n",
    "point=DwaqSwimAndPoint.point\n",
    "conc[model.grid.select_cells_nearest(point)] = 10000\n",
    "xyc=np.c_[cc,conc]\n",
    "blob_ic_fn=\"point-blob.xyz\"\n",
    "np.savetxt(os.path.join(model.run_dir,blob_ic_fn),xyc,fmt=\"%11.1f\")\n",
    "# And a spatially uniform one:\n",
    "xyc[:,2] = 1.0\n",
    "unity_ic_fn=\"uniform-blob.xyz\"\n",
    "np.savetxt(os.path.join(model.run_dir,unity_ic_fn),xyc,fmt=\"%11.1f\")\n"
   ]
  },
  {
   "cell_type": "code",
   "execution_count": 330,
   "id": "c1967740",
   "metadata": {},
   "outputs": [],
   "source": [
    "# And add conservative, non-swimming tracer. The spatial distribution will be\n",
    "# updated in a restart file later.\n",
    "fall_velocity=-15/86400.0\n",
    "\n",
    "with open(ext_fn,'at') as fp_ext:\n",
    "    fp_ext.write(f\"\"\"\n",
    "\n",
    "QUANTITY=initialtracerblob\n",
    "FILENAME={blob_ic_fn}\n",
    "FILETYPE=7\n",
    "METHOD=5\n",
    "OPERAND=O\n",
    "\n",
    "\"\"\")\n",
    "    fp_ext.write(f\"\"\"\n",
    "\n",
    "QUANTITY=initialtracerswim\n",
    "FILENAME={unity_ic_fn}\n",
    "FILETYPE=7\n",
    "METHOD=5\n",
    "OPERAND=O\n",
    "TRACERFALLVELOCITY={fall_velocity:.8f}\n",
    "\"\"\"\n",
    ")"
   ]
  },
  {
   "cell_type": "code",
   "execution_count": 331,
   "id": "bf6f1033",
   "metadata": {},
   "outputs": [],
   "source": [
    "# How to get a tracer field in there?\n",
    "if 1:\n",
    "    model.mdu['external forcing','ExtForceFileNew']=\"\"\n",
    "else:\n",
    "    fn=\"forcing.new\"\n",
    "    \n",
    "    model.mdu['external forcing','ExtForceFileNew']=fn\n",
    "    with open(os.path.join(model.run_dir,fn),\"wt\") as fp:\n",
    "        fp.write(\"\"\"\n",
    "    [General]\n",
    "    fileVersion = 2.01\n",
    "    fileType = extForce\n",
    "\n",
    "    [Boundary]\n",
    "    quantity = tracerbndswim\n",
    "    locationFile = bc_files/Sea_temp.pli\n",
    "    tracerFallVelocity = {fall_velocity:.8f}\n",
    "    forcingFile = swim.bc\n",
    "    \"\"\")\n",
    "    \n",
    "    # locationFile and forcingFile both required..\n",
    "    \n",
    "    with open(os.path.join(model.run_dir,\"swim.bc\"),\"wt\") as fp:\n",
    "        fp.write(\"\"\"\n",
    "[General]\n",
    "fileVersion = 1.01\n",
    "[Forcing]\n",
    "quantity = tracerbndswim\n",
    "function = constant\n",
    "value = 1.0\n",
    "\"\"\")"
   ]
  },
  {
   "cell_type": "code",
   "execution_count": 332,
   "id": "b8226249",
   "metadata": {
    "scrolled": false
   },
   "outputs": [
    {
     "name": "stdout",
     "output_type": "stream",
     "text": [
      "Encountered 47 BCs with quantity=salinitybnd that weren't fully parsed\n",
      "Encountered 45 BCs with quantity=temperaturebnd that weren't fully parsed\n",
      "Encountered 41 BCs with quantity=discharge_salinity_temperature_sorsin that weren't fully parsed\n",
      "Encountered 1 BCs with quantity=rainfall that weren't fully parsed\n",
      "Encountered 1 BCs with quantity=windx that weren't fully parsed\n",
      "Encountered 1 BCs with quantity=windy that weren't fully parsed\n",
      "Encountered 1 BCs with quantity=humidity_airtemperature_cloudiness that weren't fully parsed\n",
      "Encountered 1 BCs with quantity=initialsalinity that weren't fully parsed\n",
      "Encountered 1 BCs with quantity=initialtemperature that weren't fully parsed\n",
      "Encountered 1 BCs with quantity=initialtracerblob that weren't fully parsed\n",
      "Encountered 1 BCs with quantity=initialtracerswim that weren't fully parsed\n"
     ]
    }
   ],
   "source": [
    "# And.... have to add a column to any source/sink files to get the\n",
    "# the additional tracers...\n",
    "bcs=model.load_bcs()"
   ]
  },
  {
   "cell_type": "code",
   "execution_count": 333,
   "id": "29b5eb06",
   "metadata": {},
   "outputs": [],
   "source": [
    "orig_nvalues=3 # discharge, salinity, temperature\n",
    "new_values =[0,1.0] # adding passive tracer and swimming\n",
    "for bc in bcs:\n",
    "    if bc['QUANTITY'].upper()!='DISCHARGE_SALINITY_TEMPERATURE_SORSIN': continue\n",
    "    pli_fn=os.path.join(model.run_dir,bc['FILENAME'])\n",
    "    assert pli_fn.lower().endswith('.pli')\n",
    "    fn=pli_fn[:-4] + \".tim\"\n",
    "    assert os.path.exists(fn)\n",
    "    fn_orig=fn+\".orig\"\n",
    "    if not os.path.exists(fn_orig):\n",
    "        shutil.copyfile(fn,fn_orig)\n",
    "    data_orig=np.loadtxt(fn_orig)\n",
    "    columns=[data_orig]\n",
    "    for new_val in new_values:\n",
    "        columns.append( np.full(data_orig.shape[0],new_val))\n",
    "    data=np.column_stack(columns)\n",
    "    np.savetxt(fn,data,fmt=\"%.6g\")"
   ]
  },
  {
   "cell_type": "code",
   "execution_count": 334,
   "id": "24f611a4",
   "metadata": {
    "scrolled": false
   },
   "outputs": [
    {
     "name": "stderr",
     "output_type": "stream",
     "text": [
      "INFO:HydroModel:Could not find BC to get initial water level\n",
      "INFO:DFlowModel:Writing MDU to run_wy2022_16layer_dfm_swim_and_point_20220810/wy2022_bloom_16layer.mdu\n",
      "INFO:HydroModel:Shallow restart, don't copy partitioned grid\n"
     ]
    },
    {
     "data": {
      "text/plain": [
       "b\"Scattering original MDU file 'wy2022_bloom_16layer.mdu' across partitioned files...\\n #0: wy2022_bloom_16layer_0000.mdu\\n #1: wy2022_bloom_16layer_0001.mdu\\n #2: wy2022_bloom_16layer_0002.mdu\\n #3: wy2022_bloom_16layer_0003.mdu\\n #4: wy2022_bloom_16layer_0004.mdu\\n #5: wy2022_bloom_16layer_0005.mdu\\n #6: wy2022_bloom_16layer_0006.mdu\\n #7: wy2022_bloom_16layer_0007.mdu\\n #8: wy2022_bloom_16layer_0008.mdu\\n #9: wy2022_bloom_16layer_0009.mdu\\n #10: wy2022_bloom_16layer_0010.mdu\\n #11: wy2022_bloom_16layer_0011.mdu\\n #12: wy2022_bloom_16layer_0012.mdu\\n #13: wy2022_bloom_16layer_0013.mdu\\n #14: wy2022_bloom_16layer_0014.mdu\\n #15: wy2022_bloom_16layer_0015.mdu\\n\""
      ]
     },
     "execution_count": 334,
     "metadata": {},
     "output_type": "execute_result"
    }
   ],
   "source": [
    "# 12 day run is 9h or so.\n",
    "# but for testing something very short -- just enough time to see if\n",
    "# swimming is working.\n",
    "# openmp but no mpi: 30 minutes for 6h.\n",
    "#model.run_stop = model.run_start + np.timedelta64(6,'h')\n",
    "model.mdu['output','mapinterval'] = 3*3600\n",
    "model.update_config()\n",
    "model.write_config()\n",
    "model.partition(partition_grid=False)\n",
    "#model.run_simulation()"
   ]
  },
  {
   "cell_type": "code",
   "execution_count": 17,
   "id": "38915d13",
   "metadata": {},
   "outputs": [
    {
     "name": "stderr",
     "output_type": "stream",
     "text": [
      "INFO:root:base_path defaults to run_wy2022_16layer_dwaq_swim_point_coldstart_20220501-v016\n",
      "INFO:WaqModel: start time updated from hydro: 2022-05-01T00:00:00.000000\n",
      "INFO:WaqModel: stop time update from hydro: 2022-10-01T00:00:00.000000\n",
      "INFO:HydroFiles:Segment depth will be inferred\n",
      "INFO:WaqModel:Parameters gleaned from hydro: NamedObjects([('surf', <stompy.model.delft.waq_scenario.ParameterSpatial object at 0x7fdd80a063a0>), ('bottomdept', <stompy.model.delft.waq_scenario.ParameterSpatial object at 0x7fdd80a065e0>), ('vertdisper', <stompy.model.delft.waq_scenario.ParameterSpatioTemporal object at 0x7fdd80a06bb0>), ('tau', <stompy.model.delft.waq_scenario.ParameterSpatioTemporal object at 0x7fdd80a06fd0>), ('temp', <stompy.model.delft.waq_scenario.ParameterSpatioTemporal object at 0x7fdd80a06220>), ('salinity', <stompy.model.delft.waq_scenario.ParameterSpatioTemporal object at 0x7fdd80a06eb0>)])\n",
      "INFO:WaqModel:Writing hydro data\n",
      "INFO:HydroFiles:Using .bnd file, not writing out kludgey boundary-links.csv\n",
      "INFO:HydroFiles:Writing hyd file\n",
      "INFO:HydroFiles:Segment depth will be inferred\n",
      "INFO:HydroFiles:Segment depth will be inferred\n",
      "INFO:HydroFiles:Writing srf file\n",
      "INFO:HydroFiles:Writing hydro parameters\n",
      "WARNING:HydroFiles:Exchange length file lazily reports 0 exchanges\n",
      "INFO:InpFile:No dispersion arrays, will skip assignment to substances\n",
      "INFO:InpFile:No velocity arrays, will skip assignment to substances\n",
      "WARNING:WaqModel:BLOOM not found (/opt/software/delft/dfm/2023.01/share/delft3d/bloominp.d09)! Tread carefully\n",
      "INFO:WaqModel:Running delwaq1:\n",
      "INFO:WaqModel:  /opt/software/delft/dfm/2023.01/bin/delwaq1 -waq  -p /opt/software/delft/dfm/2023.01/share/delft3d/proc_def\n",
      "INFO:WaqModel:delwaq1 ran in 13.09s\n",
      "INFO:WaqModel:Running delwaq2 - might take a while...\n",
      "INFO:WaqModel:  /opt/software/delft/dfm/2023.01/bin/delwaq2 waqmodel\n",
      "INFO:WaqModel:Waiting for run_wy2022_16layer_dwaq_swim_point_coldstart_20220501-v016/waqmodel.mon to be created\n",
      "INFO:WaqModel:Okay - run_wy2022_16layer_dwaq_swim_point_coldstart_20220501-v016/waqmodel.mon exists now\n",
      "INFO:WaqModel:0.00% Completed\n",
      "INFO:WaqModel:8.51% Completed\n",
      "INFO:WaqModel:Time remaining: 7.631h (Tue Mar 14 18:44:15 2023) 33.81x realtime\n",
      "INFO:WaqModel:17.02% Completed\n",
      "INFO:WaqModel:Time remaining: 6.912h (Tue Mar 14 18:43:38 2023) 33.85x realtime\n",
      "INFO:WaqModel:25.53% Completed\n",
      "INFO:WaqModel:Time remaining: 6.013h (Tue Mar 14 18:27:46 2023) 34.92x realtime\n",
      "INFO:WaqModel:34.04% Completed\n",
      "INFO:WaqModel:Time remaining: 5.067h (Tue Mar 14 18:03:00 2023) 36.71x realtime\n",
      "INFO:WaqModel:42.55% Completed\n",
      "INFO:WaqModel:Time remaining: 4.222h (Tue Mar 14 17:43:17 2023) 38.38x realtime\n",
      "INFO:WaqModel:51.06% Completed\n",
      "INFO:WaqModel:Time remaining: 3.448h (Tue Mar 14 17:25:02 2023) 40.03x realtime\n",
      "INFO:WaqModel:59.57% Completed\n",
      "INFO:WaqModel:Time remaining: 2.722h (Tue Mar 14 17:04:59 2023) 41.89x realtime\n",
      "INFO:WaqModel:68.09% Completed\n",
      "INFO:WaqModel:Time remaining: 2.054h (Tue Mar 14 16:46:54 2023) 43.80x realtime\n",
      "INFO:WaqModel:76.60% Completed\n",
      "INFO:WaqModel:Time remaining: 1.444h (Tue Mar 14 16:30:59 2023) 45.71x realtime\n",
      "INFO:WaqModel:85.11% Completed\n",
      "INFO:WaqModel:Time remaining: 0.883h (Tue Mar 14 16:17:18 2023) 47.58x realtime\n",
      "INFO:WaqModel:93.62% Completed\n",
      "INFO:WaqModel:Time remaining: 0.364h (Tue Mar 14 16:05:35 2023) 49.38x realtime\n",
      "INFO:WaqModel:delwaq2 ran in 20083.20s\n",
      "INFO:WaqModel:Done\n",
      "INFO:WaqModel:NEFIS file didn't exist. Skipping ugrid_nef()\n"
     ]
    }
   ],
   "source": [
    "# Run a DWAQ simulation, using original hydro and old DWAQ, but following\n",
    "# the spinup period of the new DFM run. Not apples-to-apples in terms of versions,\n",
    "# but should be an okay test to understand how different things might be.\n",
    "\n",
    "if 1:\n",
    "    configure_dwaq_new()\n",
    "    # For reference:\n",
    "    #   dfm_path=\"/chicagovol1/hpcshared/open_bay/hydro/full_res/wy2022_bloom/runs/wy2022_bloom_16layer\"    \n",
    "    #   dwaq_hydro=os.path.join(dfm_path, \"DFM_DELWAQ_wy2022_bloom_16layer\")\n",
    "    #   hydro=dwaq.HydroFiles(os.path.join(dwaq_hydro,\"wy2022_bloom_16layer.hyd\"))\n",
    "    pb=DwaqSwimAndPoint(hydro=hydro,\n",
    "                        start_time=np.datetime64(\"2022-05-01 00:00\"),\n",
    "                        # HERE - check that this is slightly shorter than the hydro.\n",
    "                        # I think it's getting stuck on the last step due to the \n",
    "                        # hydro ending at the exact same time.\n",
    "                        # hmm - no, it's seeming like NFS issues. Stop shy anyway.\n",
    "                        stop_time =np.datetime64(\"2022-05-12 18:00\"),\n",
    "                        name=\"dwaq_swim_point_coldstart\",\n",
    "                        integration_option=\"16.62\", \n",
    "                        time_step=100,\n",
    "                        # Match DFM output time step\n",
    "                        map_time_step=30000)\n",
    "    pb.run_waq_model()"
   ]
  },
  {
   "cell_type": "code",
   "execution_count": null,
   "id": "20edc363",
   "metadata": {},
   "outputs": [],
   "source": []
  }
 ],
 "metadata": {
  "kernelspec": {
   "display_name": "Python 3 (ipykernel)",
   "language": "python",
   "name": "python3"
  },
  "language_info": {
   "codemirror_mode": {
    "name": "ipython",
    "version": 3
   },
   "file_extension": ".py",
   "mimetype": "text/x-python",
   "name": "python",
   "nbconvert_exporter": "python",
   "pygments_lexer": "ipython3",
   "version": "3.9.16"
  }
 },
 "nbformat": 4,
 "nbformat_minor": 5
}
