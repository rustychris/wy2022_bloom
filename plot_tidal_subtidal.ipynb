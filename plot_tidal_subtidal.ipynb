{
 "cells": [
  {
   "cell_type": "code",
   "execution_count": 1,
   "id": "2223c40a-c119-4761-a050-4d173dd6c726",
   "metadata": {},
   "outputs": [],
   "source": [
    "%matplotlib widget"
   ]
  },
  {
   "cell_type": "code",
   "execution_count": 85,
   "id": "13cb23d6-9462-4ef8-b1e3-692059085cbf",
   "metadata": {},
   "outputs": [],
   "source": [
    "import stompy.model.delft.dflow_model as dfm\n",
    "import matplotlib.pyplot as plt\n",
    "import numpy as np\n",
    "import os\n",
    "from stompy.plot import plot_wkb\n",
    "from stompy import memoize, utils\n",
    "from shapely import geometry\n",
    "from shapely.ops import nearest_points\n",
    "from matplotlib import collections\n",
    "from stompy.plot import stream_quiver"
   ]
  },
  {
   "cell_type": "code",
   "execution_count": 51,
   "id": "380024a1-455e-43a6-8845-876fc102d6cb",
   "metadata": {},
   "outputs": [
    {
     "data": {
      "text/plain": [
       "<module 'stompy.model.delft.dflow_model' from '/richmondvol1/rusty/stompy/stompy/model/delft/dflow_model.py'>"
      ]
     },
     "execution_count": 51,
     "metadata": {},
     "output_type": "execute_result"
    }
   ],
   "source": [
    "from stompy.grid import multi_ugrid\n",
    "import six\n",
    "six.moves.reload_module(multi_ugrid)\n",
    "six.moves.reload_module(dfm)"
   ]
  },
  {
   "cell_type": "code",
   "execution_count": 52,
   "id": "27567388-62c2-4d2d-8d4c-d0142678f7ed",
   "metadata": {},
   "outputs": [],
   "source": [
    "# Find a reasonably long run (month+?)\n",
    "# This is only daily map output\n",
    "# dfm_base_run_dir=\"dfm_spinup\"\n",
    "\n",
    "# longer hourly output - but takes forever to load.\n",
    "dfm_base_run_dir=\"/fortcollinsvol2/hpcshared/open_bay/hydro/full_res/wy2017-v24-hf/runs/wy2017-v24-hf\"\n",
    "\n",
    "# dfm_base_run_dir = \"bloom_tracers_v15/run_20220804T1820_20220830T0000_v00\""
   ]
  },
  {
   "cell_type": "code",
   "execution_count": 53,
   "id": "8f2c9e8b-11ef-4ada-89a4-179720a1ead2",
   "metadata": {},
   "outputs": [],
   "source": [
    "model = dfm.DFlowModel.load(dfm_base_run_dir)"
   ]
  },
  {
   "cell_type": "code",
   "execution_count": 54,
   "id": "1bf778a2-9cc1-4371-b9e2-abbe6632977c",
   "metadata": {},
   "outputs": [
    {
     "name": "stderr",
     "output_type": "stream",
     "text": [
      "INFO:join_features:0 open strings, 16 simple polygons\n",
      "INFO:join_features:Building index\n",
      "/richmondvol1/rusty/stompy/stompy/spatial/join_features.py:514: ShapelyDeprecationWarning: Setting custom attributes on geometry objects is deprecated, and will raise an AttributeError in Shapely 2.0\n",
      "  p.join_id=i\n",
      "INFO:join_features:done building index\n",
      "INFO:join_features:Examining largest poly left with area=3345371672.523513, 15 potential interiors\n"
     ]
    }
   ],
   "source": [
    "map_ds = model.map_dataset()\n",
    "\n",
    "grid = map_ds.grid\n",
    "shore_poly = grid.boundary_polygon()"
   ]
  },
  {
   "cell_type": "code",
   "execution_count": 55,
   "id": "0dc78e8c-35f3-4e0a-b04e-8ee6fa4efd07",
   "metadata": {},
   "outputs": [],
   "source": [
    "# Get the Godin window\n",
    "x_in = (np.arange(101)==50).astype(float)\n",
    "from stompy import filters\n",
    "\n",
    "impulse_resp = filters.lowpass_godin(x_in,mean_dt_h=1.0)\n",
    "godin_window = impulse_resp[impulse_resp>0.0]\n",
    "godin_offset=len(godin_window)//2 # truncate is probably correct"
   ]
  },
  {
   "cell_type": "code",
   "execution_count": 100,
   "id": "74888758-75db-4efa-8b97-a26924551a39",
   "metadata": {},
   "outputs": [],
   "source": [
    "# Extract instantaneous velocities, but also subtidal velocities.\n",
    "# All from depth-averaged velocity field.\n",
    "# Does this run have evenly spaced layers?\n",
    "\n",
    "dsigma = np.diff(map_ds.dss[0].LayCoord_w.values)\n",
    "\n",
    "@memoize.memoize(lru=100)\n",
    "def get_davg_data(tidx):\n",
    "    u = map_ds.ucx.isel(time=tidx)\n",
    "    v = map_ds.ucy.isel(time=tidx)\n",
    "    return dict(time=map_ds.time.isel(time=tidx),\n",
    "                u_davg=(u.values * dsigma[None,:]).sum(axis=1),\n",
    "                v_davg=(v.values * dsigma[None,:]).sum(axis=1),\n",
    "                sa1=map_ds.sa1.isel(time=tidx,laydim=-1).values,\n",
    "                waterdepth=map_ds.waterdepth.isel(time=tidx).values)"
   ]
  },
  {
   "cell_type": "code",
   "execution_count": 104,
   "id": "9d4ed908-f7b3-4cd1-89e3-0bca338b81f3",
   "metadata": {},
   "outputs": [],
   "source": [
    "def get_data(tidx):\n",
    "    tidx_low = int(np.floor(tidx))\n",
    "    tidx_high= int(np.ceil(tidx))\n",
    "    data_low = dict(get_davg_data(tidx_low))\n",
    "    if tidx_low==tidx_high:\n",
    "        return data_low\n",
    "    else:\n",
    "        data_high = dict(get_davg_data(tidx_high))\n",
    "        alpha=(tidx-tidx_low)/(tidx_high-tidx_low)\n",
    "        data_interp = {k:(data_low[k] + alpha*(data_high[k]-data_low[k])) \n",
    "                       for k in data_low }\n",
    "        return data_interp\n",
    "#data = get_data(tidx=300.5)"
   ]
  },
  {
   "cell_type": "code",
   "execution_count": 105,
   "id": "e518a140-d1cd-4f61-ac6a-0f0d2e7ed7c4",
   "metadata": {},
   "outputs": [],
   "source": [
    "@memoize.memoize(lru=10)\n",
    "def cart_samples(zoom,dx):\n",
    "    x=np.arange(zoom[0], zoom[1], dx)\n",
    "    y=np.arange(zoom[2], zoom[3], dx)\n",
    "    X,Y=np.meshgrid(x,y)\n",
    "    xy=np.c_[X.ravel(), Y.ravel()]\n",
    "    def neg(i): return i if i is not None else -1\n",
    "    cells=np.array([neg(grid.select_cells_nearest(p,inside=True)) for p in utils.progress(xy)])\n",
    "    \n",
    "    valid=cells>=0\n",
    "    samples = np.zeros( valid.sum(), dtype=[('x',float,2),('c',int)])\n",
    "    samples['x']=xy[valid]\n",
    "    samples['c']=cells[valid]\n",
    "    return samples"
   ]
  },
  {
   "cell_type": "code",
   "execution_count": 106,
   "id": "8bf66206-ec83-4aab-8984-77f1871b25e2",
   "metadata": {},
   "outputs": [
    {
     "data": {
      "text/plain": [
       "<module 'stompy.plot.stream_quiver' from '/richmondvol1/rusty/stompy/stompy/plot/stream_quiver.py'>"
      ]
     },
     "execution_count": 106,
     "metadata": {},
     "output_type": "execute_result"
    }
   ],
   "source": [
    "six.moves.reload_module(stream_quiver)"
   ]
  },
  {
   "cell_type": "code",
   "execution_count": 107,
   "id": "d79a985a-1ee4-4c02-9488-1515050db233",
   "metadata": {},
   "outputs": [],
   "source": [
    "_quiv=None\n",
    "\n",
    "@memoize.memoize(lru=5)\n",
    "def get_quiver(data,zoom):\n",
    "    global _quiv\n",
    "    U=np.c_[data['u_davg'],data['v_davg']]\n",
    "    if _quiv is None:\n",
    "        _quiv = stream_quiver.RegularStreamlineQuiver(grid,\n",
    "                                                      U=U,\n",
    "                                                      max_t=5000.0,max_dist=10000,\n",
    "                                                      dt=60.0,\n",
    "                                                      clip=zoom,\n",
    "                                                      dx=1200)\n",
    "    else:\n",
    "        _quiv.update_U(U)\n",
    "    return _quiv"
   ]
  },
  {
   "cell_type": "code",
   "execution_count": 108,
   "id": "1af9b18d-b4fc-4b41-af54-86b18e38497e",
   "metadata": {},
   "outputs": [],
   "source": [
    "import stompy.plot.cmap as scmap\n",
    "from matplotlib import cm\n",
    "desat=0.3\n",
    "salt_cmap = scmap.transform_color(lambda rgb: desat+(1.0-desat)*rgb, cm.turbo)"
   ]
  },
  {
   "cell_type": "code",
   "execution_count": 110,
   "id": "c77f3ed7-1b32-4a47-a5bb-733418cb3dad",
   "metadata": {},
   "outputs": [
    {
     "name": "stderr",
     "output_type": "stream",
     "text": [
      "INFO:join_features:0 open strings, 16 simple polygons\n",
      "INFO:join_features:Building index\n",
      "/richmondvol1/rusty/stompy/stompy/spatial/join_features.py:514: ShapelyDeprecationWarning: Setting custom attributes on geometry objects is deprecated, and will raise an AttributeError in Shapely 2.0\n",
      "  p.join_id=i\n",
      "INFO:join_features:done building index\n",
      "INFO:join_features:Examining largest poly left with area=3345371672.523513, 15 potential interiors\n",
      "INFO:utils:206/806\n",
      "INFO:utils:416/806\n",
      "INFO:utils:625/806\n",
      "/richmondvol1/rusty/stompy/stompy/utils.py:660: RuntimeWarning: invalid value encountered in divide\n",
      "  return vecs / mag(vecs)[...,None]\n"
     ]
    },
    {
     "name": "stdout",
     "output_type": "stream",
     "text": [
      "Plotting  2016-10-01 00:00Z\n"
     ]
    },
    {
     "name": "stderr",
     "output_type": "stream",
     "text": [
      "INFO:utils:208/806\n",
      "INFO:utils:415/806\n",
      "INFO:utils:611/806\n",
      "/richmondvol1/rusty/stompy/stompy/utils.py:660: RuntimeWarning: invalid value encountered in divide\n",
      "  return vecs / mag(vecs)[...,None]\n"
     ]
    },
    {
     "name": "stdout",
     "output_type": "stream",
     "text": [
      "Plotting  2016-10-01 00:30Z\n"
     ]
    },
    {
     "name": "stderr",
     "output_type": "stream",
     "text": [
      "INFO:utils:205/806\n",
      "INFO:utils:408/806\n",
      "INFO:utils:608/806\n"
     ]
    },
    {
     "name": "stdout",
     "output_type": "stream",
     "text": [
      "Plotting  2016-10-01 01:00Z\n"
     ]
    },
    {
     "name": "stderr",
     "output_type": "stream",
     "text": [
      "INFO:utils:205/806\n",
      "INFO:utils:410/806\n",
      "INFO:utils:620/806\n",
      "/richmondvol1/rusty/stompy/stompy/utils.py:660: RuntimeWarning: invalid value encountered in divide\n",
      "  return vecs / mag(vecs)[...,None]\n"
     ]
    },
    {
     "name": "stdout",
     "output_type": "stream",
     "text": [
      "Plotting  2016-10-01 01:30Z\n"
     ]
    },
    {
     "name": "stderr",
     "output_type": "stream",
     "text": [
      "INFO:utils:198/806\n",
      "INFO:utils:390/806\n",
      "INFO:utils:589/806\n",
      "INFO:utils:792/806\n"
     ]
    },
    {
     "name": "stdout",
     "output_type": "stream",
     "text": [
      "Plotting  2016-10-01 02:00Z\n"
     ]
    },
    {
     "name": "stderr",
     "output_type": "stream",
     "text": [
      "INFO:utils:208/806\n",
      "INFO:utils:418/806\n",
      "INFO:utils:628/806\n",
      "/richmondvol1/rusty/stompy/stompy/utils.py:660: RuntimeWarning: invalid value encountered in divide\n",
      "  return vecs / mag(vecs)[...,None]\n"
     ]
    },
    {
     "name": "stdout",
     "output_type": "stream",
     "text": [
      "Plotting  2016-10-01 02:30Z\n"
     ]
    },
    {
     "name": "stderr",
     "output_type": "stream",
     "text": [
      "INFO:utils:210/806\n",
      "INFO:utils:416/806\n",
      "INFO:utils:624/806\n"
     ]
    },
    {
     "name": "stdout",
     "output_type": "stream",
     "text": [
      "Plotting  2016-10-01 03:00Z\n"
     ]
    },
    {
     "name": "stderr",
     "output_type": "stream",
     "text": [
      "INFO:utils:211/806\n",
      "INFO:utils:420/806\n",
      "INFO:utils:627/806\n",
      "/richmondvol1/rusty/stompy/stompy/utils.py:660: RuntimeWarning: invalid value encountered in divide\n",
      "  return vecs / mag(vecs)[...,None]\n"
     ]
    },
    {
     "name": "stdout",
     "output_type": "stream",
     "text": [
      "Plotting  2016-10-01 03:30Z\n"
     ]
    },
    {
     "name": "stderr",
     "output_type": "stream",
     "text": [
      "INFO:utils:206/806\n",
      "INFO:utils:414/806\n",
      "INFO:utils:620/806\n"
     ]
    },
    {
     "name": "stdout",
     "output_type": "stream",
     "text": [
      "Plotting  2016-10-01 04:00Z\n"
     ]
    },
    {
     "name": "stderr",
     "output_type": "stream",
     "text": [
      "INFO:utils:209/806\n",
      "INFO:utils:418/806\n",
      "INFO:utils:624/806\n",
      "/richmondvol1/rusty/stompy/stompy/utils.py:660: RuntimeWarning: invalid value encountered in divide\n",
      "  return vecs / mag(vecs)[...,None]\n"
     ]
    },
    {
     "name": "stdout",
     "output_type": "stream",
     "text": [
      "Plotting  2016-10-01 04:30Z\n"
     ]
    },
    {
     "name": "stderr",
     "output_type": "stream",
     "text": [
      "INFO:utils:204/806\n",
      "INFO:utils:408/806\n",
      "INFO:utils:610/806\n"
     ]
    },
    {
     "name": "stdout",
     "output_type": "stream",
     "text": [
      "Plotting  2016-10-01 05:00Z\n"
     ]
    },
    {
     "name": "stderr",
     "output_type": "stream",
     "text": [
      "INFO:utils:207/806\n",
      "INFO:utils:414/806\n",
      "INFO:utils:618/806\n",
      "/richmondvol1/rusty/stompy/stompy/utils.py:660: RuntimeWarning: invalid value encountered in divide\n",
      "  return vecs / mag(vecs)[...,None]\n"
     ]
    },
    {
     "name": "stdout",
     "output_type": "stream",
     "text": [
      "Plotting  2016-10-01 05:30Z\n"
     ]
    },
    {
     "name": "stderr",
     "output_type": "stream",
     "text": [
      "INFO:utils:207/806\n",
      "INFO:utils:415/806\n",
      "INFO:utils:620/806\n"
     ]
    },
    {
     "name": "stdout",
     "output_type": "stream",
     "text": [
      "Plotting  2016-10-01 06:00Z\n"
     ]
    },
    {
     "name": "stderr",
     "output_type": "stream",
     "text": [
      "INFO:utils:210/806\n",
      "INFO:utils:420/806\n",
      "INFO:utils:628/806\n",
      "/richmondvol1/rusty/stompy/stompy/utils.py:660: RuntimeWarning: invalid value encountered in divide\n",
      "  return vecs / mag(vecs)[...,None]\n"
     ]
    },
    {
     "name": "stdout",
     "output_type": "stream",
     "text": [
      "Plotting  2016-10-01 06:30Z\n"
     ]
    },
    {
     "name": "stderr",
     "output_type": "stream",
     "text": [
      "INFO:utils:210/806\n",
      "INFO:utils:422/806\n",
      "INFO:utils:633/806\n"
     ]
    },
    {
     "name": "stdout",
     "output_type": "stream",
     "text": [
      "Plotting  2016-10-01 07:00Z\n"
     ]
    },
    {
     "name": "stderr",
     "output_type": "stream",
     "text": [
      "INFO:utils:211/806\n",
      "INFO:utils:423/806\n",
      "INFO:utils:634/806\n",
      "/richmondvol1/rusty/stompy/stompy/utils.py:660: RuntimeWarning: invalid value encountered in divide\n",
      "  return vecs / mag(vecs)[...,None]\n"
     ]
    },
    {
     "name": "stdout",
     "output_type": "stream",
     "text": [
      "Plotting  2016-10-01 07:30Z\n"
     ]
    },
    {
     "name": "stderr",
     "output_type": "stream",
     "text": [
      "INFO:utils:212/806\n",
      "INFO:utils:424/806\n",
      "INFO:utils:636/806\n"
     ]
    },
    {
     "name": "stdout",
     "output_type": "stream",
     "text": [
      "Plotting  2016-10-01 08:00Z\n"
     ]
    },
    {
     "name": "stderr",
     "output_type": "stream",
     "text": [
      "INFO:utils:211/806\n",
      "INFO:utils:422/806\n",
      "INFO:utils:632/806\n",
      "/richmondvol1/rusty/stompy/stompy/utils.py:660: RuntimeWarning: invalid value encountered in divide\n",
      "  return vecs / mag(vecs)[...,None]\n"
     ]
    },
    {
     "name": "stdout",
     "output_type": "stream",
     "text": [
      "Plotting  2016-10-01 08:30Z\n"
     ]
    },
    {
     "name": "stderr",
     "output_type": "stream",
     "text": [
      "INFO:utils:210/806\n",
      "INFO:utils:419/806\n",
      "INFO:utils:626/806\n"
     ]
    },
    {
     "name": "stdout",
     "output_type": "stream",
     "text": [
      "Plotting  2016-10-01 09:00Z\n"
     ]
    },
    {
     "name": "stderr",
     "output_type": "stream",
     "text": [
      "INFO:utils:209/806\n",
      "INFO:utils:418/806\n",
      "INFO:utils:625/806\n",
      "/richmondvol1/rusty/stompy/stompy/utils.py:660: RuntimeWarning: invalid value encountered in divide\n",
      "  return vecs / mag(vecs)[...,None]\n"
     ]
    },
    {
     "name": "stdout",
     "output_type": "stream",
     "text": [
      "Plotting  2016-10-01 09:30Z\n"
     ]
    },
    {
     "name": "stderr",
     "output_type": "stream",
     "text": [
      "INFO:utils:199/806\n",
      "INFO:utils:397/806\n",
      "INFO:utils:593/806\n",
      "INFO:utils:788/806\n"
     ]
    },
    {
     "name": "stdout",
     "output_type": "stream",
     "text": [
      "Plotting  2016-10-01 10:00Z\n"
     ]
    },
    {
     "name": "stderr",
     "output_type": "stream",
     "text": [
      "INFO:utils:207/806\n",
      "INFO:utils:414/806\n",
      "INFO:utils:619/806\n",
      "/richmondvol1/rusty/stompy/stompy/utils.py:660: RuntimeWarning: invalid value encountered in divide\n",
      "  return vecs / mag(vecs)[...,None]\n"
     ]
    },
    {
     "name": "stdout",
     "output_type": "stream",
     "text": [
      "Plotting  2016-10-01 10:30Z\n"
     ]
    },
    {
     "name": "stderr",
     "output_type": "stream",
     "text": [
      "INFO:utils:206/806\n",
      "INFO:utils:413/806\n",
      "INFO:utils:618/806\n"
     ]
    },
    {
     "name": "stdout",
     "output_type": "stream",
     "text": [
      "Plotting  2016-10-01 11:00Z\n"
     ]
    },
    {
     "name": "stderr",
     "output_type": "stream",
     "text": [
      "INFO:utils:207/806\n",
      "INFO:utils:415/806\n",
      "INFO:utils:621/806\n",
      "/richmondvol1/rusty/stompy/stompy/utils.py:660: RuntimeWarning: invalid value encountered in divide\n",
      "  return vecs / mag(vecs)[...,None]\n"
     ]
    },
    {
     "name": "stdout",
     "output_type": "stream",
     "text": [
      "Plotting  2016-10-01 11:30Z\n"
     ]
    },
    {
     "name": "stderr",
     "output_type": "stream",
     "text": [
      "INFO:utils:208/806\n",
      "INFO:utils:416/806\n",
      "INFO:utils:622/806\n"
     ]
    },
    {
     "name": "stdout",
     "output_type": "stream",
     "text": [
      "Plotting  2016-10-01 12:00Z\n"
     ]
    },
    {
     "name": "stderr",
     "output_type": "stream",
     "text": [
      "INFO:utils:210/806\n",
      "INFO:utils:420/806\n",
      "INFO:utils:628/806\n",
      "/richmondvol1/rusty/stompy/stompy/utils.py:660: RuntimeWarning: invalid value encountered in divide\n",
      "  return vecs / mag(vecs)[...,None]\n"
     ]
    },
    {
     "name": "stdout",
     "output_type": "stream",
     "text": [
      "Plotting  2016-10-01 12:30Z\n"
     ]
    },
    {
     "name": "stderr",
     "output_type": "stream",
     "text": [
      "INFO:utils:207/806\n",
      "INFO:utils:418/806\n",
      "INFO:utils:628/806\n"
     ]
    },
    {
     "name": "stdout",
     "output_type": "stream",
     "text": [
      "Plotting  2016-10-01 13:00Z\n"
     ]
    },
    {
     "name": "stderr",
     "output_type": "stream",
     "text": [
      "INFO:utils:208/806\n",
      "INFO:utils:420/806\n",
      "INFO:utils:631/806\n",
      "/richmondvol1/rusty/stompy/stompy/utils.py:660: RuntimeWarning: invalid value encountered in divide\n",
      "  return vecs / mag(vecs)[...,None]\n"
     ]
    },
    {
     "name": "stdout",
     "output_type": "stream",
     "text": [
      "Plotting  2016-10-01 13:30Z\n"
     ]
    },
    {
     "name": "stderr",
     "output_type": "stream",
     "text": [
      "INFO:utils:201/806\n",
      "INFO:utils:413/806\n",
      "INFO:utils:625/806\n"
     ]
    },
    {
     "name": "stdout",
     "output_type": "stream",
     "text": [
      "Plotting  2016-10-01 14:00Z\n"
     ]
    },
    {
     "name": "stderr",
     "output_type": "stream",
     "text": [
      "INFO:utils:210/806\n",
      "INFO:utils:419/806\n",
      "INFO:utils:627/806\n",
      "/richmondvol1/rusty/stompy/stompy/utils.py:660: RuntimeWarning: invalid value encountered in divide\n",
      "  return vecs / mag(vecs)[...,None]\n"
     ]
    },
    {
     "name": "stdout",
     "output_type": "stream",
     "text": [
      "Plotting  2016-10-01 14:30Z\n"
     ]
    },
    {
     "name": "stderr",
     "output_type": "stream",
     "text": [
      "INFO:utils:209/806\n",
      "INFO:utils:417/806\n",
      "INFO:utils:623/806\n"
     ]
    },
    {
     "name": "stdout",
     "output_type": "stream",
     "text": [
      "Plotting  2016-10-01 15:00Z\n"
     ]
    },
    {
     "name": "stderr",
     "output_type": "stream",
     "text": [
      "INFO:utils:210/806\n",
      "INFO:utils:418/806\n",
      "INFO:utils:624/806\n",
      "/richmondvol1/rusty/stompy/stompy/utils.py:660: RuntimeWarning: invalid value encountered in divide\n",
      "  return vecs / mag(vecs)[...,None]\n"
     ]
    },
    {
     "name": "stdout",
     "output_type": "stream",
     "text": [
      "Plotting  2016-10-01 15:30Z\n"
     ]
    },
    {
     "name": "stderr",
     "output_type": "stream",
     "text": [
      "INFO:utils:206/806\n",
      "INFO:utils:414/806\n",
      "INFO:utils:620/806\n"
     ]
    },
    {
     "name": "stdout",
     "output_type": "stream",
     "text": [
      "Plotting  2016-10-01 16:00Z\n"
     ]
    },
    {
     "name": "stderr",
     "output_type": "stream",
     "text": [
      "INFO:utils:209/806\n",
      "INFO:utils:417/806\n",
      "INFO:utils:623/806\n",
      "/richmondvol1/rusty/stompy/stompy/utils.py:660: RuntimeWarning: invalid value encountered in divide\n",
      "  return vecs / mag(vecs)[...,None]\n"
     ]
    },
    {
     "name": "stdout",
     "output_type": "stream",
     "text": [
      "Plotting  2016-10-01 16:30Z\n"
     ]
    },
    {
     "name": "stderr",
     "output_type": "stream",
     "text": [
      "INFO:utils:208/806\n",
      "INFO:utils:416/806\n",
      "INFO:utils:621/806\n"
     ]
    },
    {
     "name": "stdout",
     "output_type": "stream",
     "text": [
      "Plotting  2016-10-01 17:00Z\n"
     ]
    },
    {
     "name": "stderr",
     "output_type": "stream",
     "text": [
      "INFO:utils:208/806\n",
      "INFO:utils:414/806\n",
      "INFO:utils:620/806\n",
      "/richmondvol1/rusty/stompy/stompy/utils.py:660: RuntimeWarning: invalid value encountered in divide\n",
      "  return vecs / mag(vecs)[...,None]\n"
     ]
    },
    {
     "name": "stdout",
     "output_type": "stream",
     "text": [
      "Plotting  2016-10-01 17:30Z\n"
     ]
    },
    {
     "name": "stderr",
     "output_type": "stream",
     "text": [
      "INFO:utils:209/806\n",
      "INFO:utils:418/806\n",
      "INFO:utils:624/806\n"
     ]
    },
    {
     "name": "stdout",
     "output_type": "stream",
     "text": [
      "Plotting  2016-10-01 18:00Z\n"
     ]
    },
    {
     "name": "stderr",
     "output_type": "stream",
     "text": [
      "INFO:utils:210/806\n",
      "INFO:utils:421/806\n",
      "INFO:utils:630/806\n",
      "/richmondvol1/rusty/stompy/stompy/utils.py:660: RuntimeWarning: invalid value encountered in divide\n",
      "  return vecs / mag(vecs)[...,None]\n"
     ]
    },
    {
     "name": "stdout",
     "output_type": "stream",
     "text": [
      "Plotting  2016-10-01 18:30Z\n"
     ]
    },
    {
     "name": "stderr",
     "output_type": "stream",
     "text": [
      "INFO:utils:201/806\n",
      "INFO:utils:402/806\n",
      "INFO:utils:606/806\n"
     ]
    },
    {
     "name": "stdout",
     "output_type": "stream",
     "text": [
      "Plotting  2016-10-01 19:00Z\n"
     ]
    },
    {
     "name": "stderr",
     "output_type": "stream",
     "text": [
      "INFO:utils:209/806\n",
      "INFO:utils:419/806\n",
      "INFO:utils:628/806\n",
      "/richmondvol1/rusty/stompy/stompy/utils.py:660: RuntimeWarning: invalid value encountered in divide\n",
      "  return vecs / mag(vecs)[...,None]\n"
     ]
    },
    {
     "name": "stdout",
     "output_type": "stream",
     "text": [
      "Plotting  2016-10-01 19:30Z\n"
     ]
    },
    {
     "name": "stderr",
     "output_type": "stream",
     "text": [
      "INFO:utils:210/806\n",
      "INFO:utils:420/806\n",
      "INFO:utils:629/806\n"
     ]
    },
    {
     "name": "stdout",
     "output_type": "stream",
     "text": [
      "Plotting  2016-10-01 20:00Z\n"
     ]
    },
    {
     "name": "stderr",
     "output_type": "stream",
     "text": [
      "INFO:utils:210/806\n",
      "INFO:utils:420/806\n",
      "INFO:utils:629/806\n",
      "/richmondvol1/rusty/stompy/stompy/utils.py:660: RuntimeWarning: invalid value encountered in divide\n",
      "  return vecs / mag(vecs)[...,None]\n"
     ]
    },
    {
     "name": "stdout",
     "output_type": "stream",
     "text": [
      "Plotting  2016-10-01 20:30Z\n"
     ]
    },
    {
     "name": "stderr",
     "output_type": "stream",
     "text": [
      "INFO:utils:209/806\n",
      "INFO:utils:418/806\n",
      "INFO:utils:626/806\n"
     ]
    },
    {
     "name": "stdout",
     "output_type": "stream",
     "text": [
      "Plotting  2016-10-01 21:00Z\n"
     ]
    },
    {
     "name": "stderr",
     "output_type": "stream",
     "text": [
      "INFO:utils:210/806\n",
      "INFO:utils:419/806\n",
      "INFO:utils:627/806\n",
      "/richmondvol1/rusty/stompy/stompy/utils.py:660: RuntimeWarning: invalid value encountered in divide\n",
      "  return vecs / mag(vecs)[...,None]\n"
     ]
    },
    {
     "name": "stdout",
     "output_type": "stream",
     "text": [
      "Plotting  2016-10-01 21:30Z\n"
     ]
    },
    {
     "name": "stderr",
     "output_type": "stream",
     "text": [
      "INFO:utils:209/806\n",
      "INFO:utils:418/806\n",
      "INFO:utils:625/806\n"
     ]
    },
    {
     "name": "stdout",
     "output_type": "stream",
     "text": [
      "Plotting  2016-10-01 22:00Z\n"
     ]
    },
    {
     "name": "stderr",
     "output_type": "stream",
     "text": [
      "INFO:utils:209/806\n",
      "INFO:utils:418/806\n",
      "INFO:utils:625/806\n",
      "/richmondvol1/rusty/stompy/stompy/utils.py:660: RuntimeWarning: invalid value encountered in divide\n",
      "  return vecs / mag(vecs)[...,None]\n"
     ]
    },
    {
     "name": "stdout",
     "output_type": "stream",
     "text": [
      "Plotting  2016-10-01 22:30Z\n"
     ]
    },
    {
     "name": "stderr",
     "output_type": "stream",
     "text": [
      "INFO:utils:208/806\n",
      "INFO:utils:416/806\n",
      "INFO:utils:622/806\n"
     ]
    },
    {
     "name": "stdout",
     "output_type": "stream",
     "text": [
      "Plotting  2016-10-01 23:00Z\n"
     ]
    },
    {
     "name": "stderr",
     "output_type": "stream",
     "text": [
      "INFO:utils:208/806\n",
      "INFO:utils:416/806\n",
      "INFO:utils:622/806\n",
      "/richmondvol1/rusty/stompy/stompy/utils.py:660: RuntimeWarning: invalid value encountered in divide\n",
      "  return vecs / mag(vecs)[...,None]\n"
     ]
    },
    {
     "name": "stdout",
     "output_type": "stream",
     "text": [
      "Plotting  2016-10-01 23:30Z\n"
     ]
    },
    {
     "name": "stderr",
     "output_type": "stream",
     "text": [
      "INFO:utils:209/806\n",
      "INFO:utils:418/806\n",
      "INFO:utils:624/806\n"
     ]
    },
    {
     "name": "stdout",
     "output_type": "stream",
     "text": [
      "Plotting  2016-10-02 00:00Z\n"
     ]
    },
    {
     "name": "stderr",
     "output_type": "stream",
     "text": [
      "INFO:utils:208/806\n",
      "INFO:utils:416/806\n",
      "INFO:utils:622/806\n",
      "/richmondvol1/rusty/stompy/stompy/utils.py:660: RuntimeWarning: invalid value encountered in divide\n",
      "  return vecs / mag(vecs)[...,None]\n"
     ]
    },
    {
     "name": "stdout",
     "output_type": "stream",
     "text": [
      "Plotting  2016-10-02 00:30Z\n"
     ]
    },
    {
     "name": "stderr",
     "output_type": "stream",
     "text": [
      "INFO:utils:209/806\n",
      "INFO:utils:418/806\n",
      "INFO:utils:626/806\n"
     ]
    },
    {
     "name": "stdout",
     "output_type": "stream",
     "text": [
      "Plotting  2016-10-02 01:00Z\n"
     ]
    },
    {
     "name": "stderr",
     "output_type": "stream",
     "text": [
      "INFO:utils:210/806\n",
      "INFO:utils:420/806\n",
      "INFO:utils:629/806\n",
      "/richmondvol1/rusty/stompy/stompy/utils.py:660: RuntimeWarning: invalid value encountered in divide\n",
      "  return vecs / mag(vecs)[...,None]\n"
     ]
    },
    {
     "name": "stdout",
     "output_type": "stream",
     "text": [
      "Plotting  2016-10-02 01:30Z\n"
     ]
    },
    {
     "name": "stderr",
     "output_type": "stream",
     "text": [
      "INFO:utils:210/806\n",
      "INFO:utils:421/806\n",
      "INFO:utils:632/806\n"
     ]
    },
    {
     "name": "stdout",
     "output_type": "stream",
     "text": [
      "Plotting  2016-10-02 02:00Z\n"
     ]
    },
    {
     "name": "stderr",
     "output_type": "stream",
     "text": [
      "INFO:utils:204/806\n",
      "INFO:utils:416/806\n",
      "INFO:utils:628/806\n",
      "/richmondvol1/rusty/stompy/stompy/utils.py:660: RuntimeWarning: invalid value encountered in divide\n",
      "  return vecs / mag(vecs)[...,None]\n"
     ]
    },
    {
     "name": "stdout",
     "output_type": "stream",
     "text": [
      "Plotting  2016-10-02 02:30Z\n"
     ]
    },
    {
     "name": "stderr",
     "output_type": "stream",
     "text": [
      "INFO:utils:209/806\n",
      "INFO:utils:416/806\n",
      "INFO:utils:626/806\n"
     ]
    },
    {
     "name": "stdout",
     "output_type": "stream",
     "text": [
      "Plotting  2016-10-02 03:00Z\n"
     ]
    },
    {
     "name": "stderr",
     "output_type": "stream",
     "text": [
      "INFO:utils:212/806\n",
      "INFO:utils:422/806\n",
      "INFO:utils:631/806\n",
      "/richmondvol1/rusty/stompy/stompy/utils.py:660: RuntimeWarning: invalid value encountered in divide\n",
      "  return vecs / mag(vecs)[...,None]\n"
     ]
    },
    {
     "name": "stdout",
     "output_type": "stream",
     "text": [
      "Plotting  2016-10-02 03:30Z\n"
     ]
    },
    {
     "name": "stderr",
     "output_type": "stream",
     "text": [
      "INFO:utils:208/806\n",
      "INFO:utils:418/806\n",
      "INFO:utils:626/806\n"
     ]
    },
    {
     "name": "stdout",
     "output_type": "stream",
     "text": [
      "Plotting  2016-10-02 04:00Z\n"
     ]
    },
    {
     "name": "stderr",
     "output_type": "stream",
     "text": [
      "INFO:utils:209/806\n",
      "INFO:utils:417/806\n",
      "INFO:utils:623/806\n",
      "/richmondvol1/rusty/stompy/stompy/utils.py:660: RuntimeWarning: invalid value encountered in divide\n",
      "  return vecs / mag(vecs)[...,None]\n"
     ]
    },
    {
     "name": "stdout",
     "output_type": "stream",
     "text": [
      "Plotting  2016-10-02 04:30Z\n"
     ]
    },
    {
     "name": "stderr",
     "output_type": "stream",
     "text": [
      "INFO:utils:205/806\n",
      "INFO:utils:409/806\n",
      "INFO:utils:611/806\n"
     ]
    },
    {
     "name": "stdout",
     "output_type": "stream",
     "text": [
      "Plotting  2016-10-02 05:00Z\n"
     ]
    },
    {
     "name": "stderr",
     "output_type": "stream",
     "text": [
      "INFO:utils:198/806\n",
      "INFO:utils:400/806\n",
      "INFO:utils:601/806\n",
      "INFO:utils:800/806\n",
      "/richmondvol1/rusty/stompy/stompy/utils.py:660: RuntimeWarning: invalid value encountered in divide\n",
      "  return vecs / mag(vecs)[...,None]\n"
     ]
    },
    {
     "name": "stdout",
     "output_type": "stream",
     "text": [
      "Plotting  2016-10-02 05:30Z\n"
     ]
    },
    {
     "name": "stderr",
     "output_type": "stream",
     "text": [
      "INFO:utils:207/806\n",
      "INFO:utils:413/806\n",
      "INFO:utils:616/806\n"
     ]
    },
    {
     "name": "stdout",
     "output_type": "stream",
     "text": [
      "Plotting  2016-10-02 06:00Z\n"
     ]
    },
    {
     "name": "stderr",
     "output_type": "stream",
     "text": [
      "INFO:utils:206/806\n",
      "INFO:utils:411/806\n",
      "INFO:utils:616/806\n",
      "/richmondvol1/rusty/stompy/stompy/utils.py:660: RuntimeWarning: invalid value encountered in divide\n",
      "  return vecs / mag(vecs)[...,None]\n"
     ]
    },
    {
     "name": "stdout",
     "output_type": "stream",
     "text": [
      "Plotting  2016-10-02 06:30Z\n"
     ]
    },
    {
     "name": "stderr",
     "output_type": "stream",
     "text": [
      "INFO:utils:209/806\n",
      "INFO:utils:418/806\n",
      "INFO:utils:624/806\n"
     ]
    },
    {
     "name": "stdout",
     "output_type": "stream",
     "text": [
      "Plotting  2016-10-02 07:00Z\n"
     ]
    },
    {
     "name": "stderr",
     "output_type": "stream",
     "text": [
      "INFO:utils:209/806\n",
      "INFO:utils:418/806\n",
      "INFO:utils:626/806\n",
      "/richmondvol1/rusty/stompy/stompy/utils.py:660: RuntimeWarning: invalid value encountered in divide\n",
      "  return vecs / mag(vecs)[...,None]\n"
     ]
    },
    {
     "name": "stdout",
     "output_type": "stream",
     "text": [
      "Plotting  2016-10-02 07:30Z\n"
     ]
    },
    {
     "name": "stderr",
     "output_type": "stream",
     "text": [
      "INFO:utils:209/806\n",
      "INFO:utils:419/806\n",
      "INFO:utils:630/806\n"
     ]
    },
    {
     "name": "stdout",
     "output_type": "stream",
     "text": [
      "Plotting  2016-10-02 08:00Z\n"
     ]
    },
    {
     "name": "stderr",
     "output_type": "stream",
     "text": [
      "INFO:utils:212/806\n",
      "INFO:utils:403/806\n",
      "INFO:utils:577/806\n",
      "INFO:utils:764/806\n",
      "/richmondvol1/rusty/stompy/stompy/utils.py:660: RuntimeWarning: invalid value encountered in divide\n",
      "  return vecs / mag(vecs)[...,None]\n"
     ]
    },
    {
     "name": "stdout",
     "output_type": "stream",
     "text": [
      "Plotting  2016-10-02 08:30Z\n"
     ]
    },
    {
     "name": "stderr",
     "output_type": "stream",
     "text": [
      "INFO:utils:212/806\n",
      "INFO:utils:424/806\n",
      "INFO:utils:634/806\n"
     ]
    },
    {
     "name": "stdout",
     "output_type": "stream",
     "text": [
      "Plotting  2016-10-02 09:00Z\n"
     ]
    },
    {
     "name": "stderr",
     "output_type": "stream",
     "text": [
      "INFO:utils:213/806\n",
      "INFO:utils:426/806\n",
      "INFO:utils:638/806\n",
      "/richmondvol1/rusty/stompy/stompy/utils.py:660: RuntimeWarning: invalid value encountered in divide\n",
      "  return vecs / mag(vecs)[...,None]\n"
     ]
    },
    {
     "name": "stdout",
     "output_type": "stream",
     "text": [
      "Plotting  2016-10-02 09:30Z\n"
     ]
    },
    {
     "name": "stderr",
     "output_type": "stream",
     "text": [
      "INFO:utils:206/806\n",
      "INFO:utils:412/806\n",
      "INFO:utils:616/806\n"
     ]
    },
    {
     "name": "stdout",
     "output_type": "stream",
     "text": [
      "Plotting  2016-10-02 10:00Z\n"
     ]
    },
    {
     "name": "stderr",
     "output_type": "stream",
     "text": [
      "INFO:utils:205/806\n",
      "INFO:utils:410/806\n",
      "INFO:utils:613/806\n",
      "/richmondvol1/rusty/stompy/stompy/utils.py:660: RuntimeWarning: invalid value encountered in divide\n",
      "  return vecs / mag(vecs)[...,None]\n"
     ]
    },
    {
     "name": "stdout",
     "output_type": "stream",
     "text": [
      "Plotting  2016-10-02 10:30Z\n"
     ]
    },
    {
     "name": "stderr",
     "output_type": "stream",
     "text": [
      "INFO:utils:205/806\n",
      "INFO:utils:410/806\n",
      "INFO:utils:613/806\n"
     ]
    },
    {
     "name": "stdout",
     "output_type": "stream",
     "text": [
      "Plotting  2016-10-02 11:00Z\n"
     ]
    },
    {
     "name": "stderr",
     "output_type": "stream",
     "text": [
      "INFO:utils:205/806\n",
      "INFO:utils:408/806\n",
      "INFO:utils:613/806\n",
      "/richmondvol1/rusty/stompy/stompy/utils.py:660: RuntimeWarning: invalid value encountered in divide\n",
      "  return vecs / mag(vecs)[...,None]\n"
     ]
    },
    {
     "name": "stdout",
     "output_type": "stream",
     "text": [
      "Plotting  2016-10-02 11:30Z\n"
     ]
    },
    {
     "name": "stderr",
     "output_type": "stream",
     "text": [
      "INFO:utils:206/806\n",
      "INFO:utils:412/806\n",
      "INFO:utils:617/806\n"
     ]
    },
    {
     "name": "stdout",
     "output_type": "stream",
     "text": [
      "Plotting  2016-10-02 12:00Z\n"
     ]
    },
    {
     "name": "stderr",
     "output_type": "stream",
     "text": [
      "INFO:utils:207/806\n",
      "INFO:utils:416/806\n",
      "INFO:utils:622/806\n",
      "/richmondvol1/rusty/stompy/stompy/utils.py:660: RuntimeWarning: invalid value encountered in divide\n",
      "  return vecs / mag(vecs)[...,None]\n"
     ]
    },
    {
     "name": "stdout",
     "output_type": "stream",
     "text": [
      "Plotting  2016-10-02 12:30Z\n"
     ]
    },
    {
     "name": "stderr",
     "output_type": "stream",
     "text": [
      "INFO:utils:207/806\n",
      "INFO:utils:415/806\n",
      "INFO:utils:622/806\n"
     ]
    },
    {
     "name": "stdout",
     "output_type": "stream",
     "text": [
      "Plotting  2016-10-02 13:00Z\n"
     ]
    },
    {
     "name": "stderr",
     "output_type": "stream",
     "text": [
      "INFO:utils:212/806\n",
      "INFO:utils:424/806\n",
      "INFO:utils:635/806\n",
      "/richmondvol1/rusty/stompy/stompy/utils.py:660: RuntimeWarning: invalid value encountered in divide\n",
      "  return vecs / mag(vecs)[...,None]\n"
     ]
    },
    {
     "name": "stdout",
     "output_type": "stream",
     "text": [
      "Plotting  2016-10-02 13:30Z\n"
     ]
    },
    {
     "name": "stderr",
     "output_type": "stream",
     "text": [
      "INFO:utils:210/806\n",
      "INFO:utils:421/806\n",
      "INFO:utils:631/806\n"
     ]
    },
    {
     "name": "stdout",
     "output_type": "stream",
     "text": [
      "Plotting  2016-10-02 14:00Z\n"
     ]
    },
    {
     "name": "stderr",
     "output_type": "stream",
     "text": [
      "INFO:utils:210/806\n",
      "INFO:utils:420/806\n",
      "INFO:utils:629/806\n",
      "/richmondvol1/rusty/stompy/stompy/utils.py:660: RuntimeWarning: invalid value encountered in divide\n",
      "  return vecs / mag(vecs)[...,None]\n"
     ]
    },
    {
     "name": "stdout",
     "output_type": "stream",
     "text": [
      "Plotting  2016-10-02 14:30Z\n"
     ]
    },
    {
     "name": "stderr",
     "output_type": "stream",
     "text": [
      "INFO:utils:206/806\n",
      "INFO:utils:412/806\n",
      "INFO:utils:617/806\n"
     ]
    },
    {
     "name": "stdout",
     "output_type": "stream",
     "text": [
      "Plotting  2016-10-02 15:00Z\n"
     ]
    },
    {
     "name": "stderr",
     "output_type": "stream",
     "text": [
      "INFO:utils:207/806\n",
      "INFO:utils:413/806\n",
      "INFO:utils:619/806\n",
      "/richmondvol1/rusty/stompy/stompy/utils.py:660: RuntimeWarning: invalid value encountered in divide\n",
      "  return vecs / mag(vecs)[...,None]\n"
     ]
    },
    {
     "name": "stdout",
     "output_type": "stream",
     "text": [
      "Plotting  2016-10-02 15:30Z\n"
     ]
    },
    {
     "name": "stderr",
     "output_type": "stream",
     "text": [
      "INFO:utils:199/806\n",
      "INFO:utils:404/806\n",
      "INFO:utils:610/806\n"
     ]
    },
    {
     "name": "stdout",
     "output_type": "stream",
     "text": [
      "Plotting  2016-10-02 16:00Z\n"
     ]
    },
    {
     "name": "stderr",
     "output_type": "stream",
     "text": [
      "INFO:utils:210/806\n",
      "INFO:utils:418/806\n",
      "INFO:utils:625/806\n",
      "/richmondvol1/rusty/stompy/stompy/utils.py:660: RuntimeWarning: invalid value encountered in divide\n",
      "  return vecs / mag(vecs)[...,None]\n"
     ]
    },
    {
     "name": "stdout",
     "output_type": "stream",
     "text": [
      "Plotting  2016-10-02 16:30Z\n"
     ]
    },
    {
     "name": "stderr",
     "output_type": "stream",
     "text": [
      "INFO:utils:210/806\n",
      "INFO:utils:418/806\n",
      "INFO:utils:619/806\n"
     ]
    },
    {
     "name": "stdout",
     "output_type": "stream",
     "text": [
      "Plotting  2016-10-02 17:00Z\n"
     ]
    },
    {
     "name": "stderr",
     "output_type": "stream",
     "text": [
      "INFO:utils:209/806\n",
      "INFO:utils:418/806\n",
      "INFO:utils:625/806\n",
      "/richmondvol1/rusty/stompy/stompy/utils.py:660: RuntimeWarning: invalid value encountered in divide\n",
      "  return vecs / mag(vecs)[...,None]\n"
     ]
    },
    {
     "name": "stdout",
     "output_type": "stream",
     "text": [
      "Plotting  2016-10-02 17:30Z\n"
     ]
    },
    {
     "name": "stderr",
     "output_type": "stream",
     "text": [
      "INFO:utils:211/806\n",
      "INFO:utils:421/806\n",
      "INFO:utils:628/806\n"
     ]
    },
    {
     "name": "stdout",
     "output_type": "stream",
     "text": [
      "Plotting  2016-10-02 18:00Z\n"
     ]
    },
    {
     "name": "stderr",
     "output_type": "stream",
     "text": [
      "INFO:utils:202/806\n",
      "INFO:utils:407/806\n",
      "INFO:utils:614/806\n",
      "/richmondvol1/rusty/stompy/stompy/utils.py:660: RuntimeWarning: invalid value encountered in divide\n",
      "  return vecs / mag(vecs)[...,None]\n"
     ]
    },
    {
     "name": "stdout",
     "output_type": "stream",
     "text": [
      "Plotting  2016-10-02 18:30Z\n"
     ]
    },
    {
     "name": "stderr",
     "output_type": "stream",
     "text": [
      "INFO:utils:210/806\n",
      "INFO:utils:422/806\n",
      "INFO:utils:631/806\n"
     ]
    },
    {
     "name": "stdout",
     "output_type": "stream",
     "text": [
      "Plotting  2016-10-02 19:00Z\n"
     ]
    },
    {
     "name": "stderr",
     "output_type": "stream",
     "text": [
      "INFO:utils:207/806\n",
      "INFO:utils:414/806\n",
      "INFO:utils:620/806\n",
      "/richmondvol1/rusty/stompy/stompy/utils.py:660: RuntimeWarning: invalid value encountered in divide\n",
      "  return vecs / mag(vecs)[...,None]\n"
     ]
    },
    {
     "name": "stdout",
     "output_type": "stream",
     "text": [
      "Plotting  2016-10-02 19:30Z\n"
     ]
    },
    {
     "name": "stderr",
     "output_type": "stream",
     "text": [
      "INFO:utils:209/806\n",
      "INFO:utils:420/806\n",
      "INFO:utils:629/806\n"
     ]
    },
    {
     "name": "stdout",
     "output_type": "stream",
     "text": [
      "Plotting  2016-10-02 20:00Z\n"
     ]
    },
    {
     "name": "stderr",
     "output_type": "stream",
     "text": [
      "INFO:utils:209/806\n",
      "INFO:utils:420/806\n",
      "INFO:utils:631/806\n",
      "/richmondvol1/rusty/stompy/stompy/utils.py:660: RuntimeWarning: invalid value encountered in divide\n",
      "  return vecs / mag(vecs)[...,None]\n"
     ]
    },
    {
     "name": "stdout",
     "output_type": "stream",
     "text": [
      "Plotting  2016-10-02 20:30Z\n"
     ]
    },
    {
     "name": "stderr",
     "output_type": "stream",
     "text": [
      "INFO:utils:209/806\n",
      "INFO:utils:419/806\n",
      "INFO:utils:628/806\n"
     ]
    },
    {
     "name": "stdout",
     "output_type": "stream",
     "text": [
      "Plotting  2016-10-02 21:00Z\n"
     ]
    },
    {
     "name": "stderr",
     "output_type": "stream",
     "text": [
      "INFO:utils:210/806\n",
      "INFO:utils:420/806\n",
      "INFO:utils:628/806\n",
      "/richmondvol1/rusty/stompy/stompy/utils.py:660: RuntimeWarning: invalid value encountered in divide\n",
      "  return vecs / mag(vecs)[...,None]\n"
     ]
    },
    {
     "name": "stdout",
     "output_type": "stream",
     "text": [
      "Plotting  2016-10-02 21:30Z\n"
     ]
    },
    {
     "name": "stderr",
     "output_type": "stream",
     "text": [
      "INFO:utils:210/806\n",
      "INFO:utils:420/806\n",
      "INFO:utils:628/806\n"
     ]
    },
    {
     "name": "stdout",
     "output_type": "stream",
     "text": [
      "Plotting  2016-10-02 22:00Z\n"
     ]
    },
    {
     "name": "stderr",
     "output_type": "stream",
     "text": [
      "INFO:utils:210/806\n",
      "INFO:utils:420/806\n",
      "INFO:utils:197/806\n",
      "INFO:utils:398/806\n",
      "INFO:utils:594/806\n",
      "INFO:utils:794/806\n",
      "/richmondvol1/rusty/stompy/stompy/utils.py:660: RuntimeWarning: invalid value encountered in divide\n",
      "  return vecs / mag(vecs)[...,None]\n"
     ]
    },
    {
     "name": "stdout",
     "output_type": "stream",
     "text": [
      "Plotting  2016-10-03 00:30Z\n"
     ]
    },
    {
     "name": "stderr",
     "output_type": "stream",
     "text": [
      "INFO:utils:208/806\n",
      "INFO:utils:416/806\n",
      "INFO:utils:622/806\n"
     ]
    },
    {
     "name": "stdout",
     "output_type": "stream",
     "text": [
      "Plotting  2016-10-03 01:00Z\n"
     ]
    },
    {
     "name": "stderr",
     "output_type": "stream",
     "text": [
      "INFO:utils:208/806\n",
      "INFO:utils:399/806\n",
      "INFO:utils:594/806\n",
      "INFO:utils:791/806\n",
      "/richmondvol1/rusty/stompy/stompy/utils.py:660: RuntimeWarning: invalid value encountered in divide\n",
      "  return vecs / mag(vecs)[...,None]\n"
     ]
    },
    {
     "name": "stdout",
     "output_type": "stream",
     "text": [
      "Plotting  2016-10-03 01:30Z\n"
     ]
    },
    {
     "name": "stderr",
     "output_type": "stream",
     "text": [
      "INFO:utils:208/806\n",
      "INFO:utils:418/806\n",
      "INFO:utils:626/806\n"
     ]
    },
    {
     "name": "stdout",
     "output_type": "stream",
     "text": [
      "Plotting  2016-10-03 02:00Z\n"
     ]
    },
    {
     "name": "stderr",
     "output_type": "stream",
     "text": [
      "INFO:utils:209/806\n",
      "INFO:utils:420/806\n",
      "INFO:utils:631/806\n",
      "/richmondvol1/rusty/stompy/stompy/utils.py:660: RuntimeWarning: invalid value encountered in divide\n",
      "  return vecs / mag(vecs)[...,None]\n"
     ]
    },
    {
     "name": "stdout",
     "output_type": "stream",
     "text": [
      "Plotting  2016-10-03 02:30Z\n"
     ]
    },
    {
     "name": "stderr",
     "output_type": "stream",
     "text": [
      "INFO:utils:205/806\n",
      "INFO:utils:416/806\n",
      "INFO:utils:627/806\n"
     ]
    },
    {
     "name": "stdout",
     "output_type": "stream",
     "text": [
      "Plotting  2016-10-03 03:00Z\n"
     ]
    },
    {
     "name": "stderr",
     "output_type": "stream",
     "text": [
      "INFO:utils:208/806\n",
      "INFO:utils:419/806\n",
      "INFO:utils:629/806\n",
      "/richmondvol1/rusty/stompy/stompy/utils.py:660: RuntimeWarning: invalid value encountered in divide\n",
      "  return vecs / mag(vecs)[...,None]\n"
     ]
    },
    {
     "name": "stdout",
     "output_type": "stream",
     "text": [
      "Plotting  2016-10-03 03:30Z\n"
     ]
    },
    {
     "name": "stderr",
     "output_type": "stream",
     "text": [
      "INFO:utils:211/806\n",
      "INFO:utils:421/806\n",
      "INFO:utils:629/806\n"
     ]
    },
    {
     "name": "stdout",
     "output_type": "stream",
     "text": [
      "Plotting  2016-10-03 04:00Z\n"
     ]
    },
    {
     "name": "stderr",
     "output_type": "stream",
     "text": [
      "INFO:utils:207/806\n",
      "INFO:utils:417/806\n",
      "INFO:utils:615/806\n",
      "/richmondvol1/rusty/stompy/stompy/utils.py:660: RuntimeWarning: invalid value encountered in divide\n",
      "  return vecs / mag(vecs)[...,None]\n"
     ]
    },
    {
     "name": "stdout",
     "output_type": "stream",
     "text": [
      "Plotting  2016-10-03 04:30Z\n"
     ]
    },
    {
     "name": "stderr",
     "output_type": "stream",
     "text": [
      "INFO:utils:198/806\n",
      "INFO:utils:404/806\n",
      "INFO:utils:609/806\n"
     ]
    },
    {
     "name": "stdout",
     "output_type": "stream",
     "text": [
      "Plotting  2016-10-03 05:00Z\n"
     ]
    },
    {
     "name": "stderr",
     "output_type": "stream",
     "text": [
      "INFO:utils:208/806\n",
      "INFO:utils:414/806\n",
      "INFO:utils:618/806\n",
      "/richmondvol1/rusty/stompy/stompy/utils.py:660: RuntimeWarning: invalid value encountered in divide\n",
      "  return vecs / mag(vecs)[...,None]\n"
     ]
    },
    {
     "name": "stdout",
     "output_type": "stream",
     "text": [
      "Plotting  2016-10-03 05:30Z\n"
     ]
    },
    {
     "name": "stderr",
     "output_type": "stream",
     "text": [
      "INFO:utils:205/806\n",
      "INFO:utils:413/806\n",
      "INFO:utils:619/806\n"
     ]
    },
    {
     "name": "stdout",
     "output_type": "stream",
     "text": [
      "Plotting  2016-10-03 06:00Z\n"
     ]
    },
    {
     "name": "stderr",
     "output_type": "stream",
     "text": [
      "INFO:utils:209/806\n",
      "INFO:utils:417/806\n",
      "INFO:utils:623/806\n",
      "/richmondvol1/rusty/stompy/stompy/utils.py:660: RuntimeWarning: invalid value encountered in divide\n",
      "  return vecs / mag(vecs)[...,None]\n"
     ]
    },
    {
     "name": "stdout",
     "output_type": "stream",
     "text": [
      "Plotting  2016-10-03 06:30Z\n"
     ]
    },
    {
     "name": "stderr",
     "output_type": "stream",
     "text": [
      "INFO:utils:209/806\n",
      "INFO:utils:418/806\n",
      "INFO:utils:625/806\n"
     ]
    },
    {
     "name": "stdout",
     "output_type": "stream",
     "text": [
      "Plotting  2016-10-03 07:00Z\n"
     ]
    },
    {
     "name": "stderr",
     "output_type": "stream",
     "text": [
      "INFO:utils:210/806\n",
      "INFO:utils:420/806\n",
      "INFO:utils:628/806\n",
      "/richmondvol1/rusty/stompy/stompy/utils.py:660: RuntimeWarning: invalid value encountered in divide\n",
      "  return vecs / mag(vecs)[...,None]\n"
     ]
    },
    {
     "name": "stdout",
     "output_type": "stream",
     "text": [
      "Plotting  2016-10-03 07:30Z\n"
     ]
    },
    {
     "name": "stderr",
     "output_type": "stream",
     "text": [
      "INFO:utils:210/806\n",
      "INFO:utils:420/806\n",
      "INFO:utils:629/806\n"
     ]
    },
    {
     "name": "stdout",
     "output_type": "stream",
     "text": [
      "Plotting  2016-10-03 08:00Z\n"
     ]
    },
    {
     "name": "stderr",
     "output_type": "stream",
     "text": [
      "INFO:utils:212/806\n",
      "INFO:utils:425/806\n",
      "INFO:utils:638/806\n",
      "/richmondvol1/rusty/stompy/stompy/utils.py:660: RuntimeWarning: invalid value encountered in divide\n",
      "  return vecs / mag(vecs)[...,None]\n"
     ]
    },
    {
     "name": "stdout",
     "output_type": "stream",
     "text": [
      "Plotting  2016-10-03 08:30Z\n"
     ]
    },
    {
     "name": "stderr",
     "output_type": "stream",
     "text": [
      "INFO:utils:214/806\n",
      "INFO:utils:429/806\n",
      "INFO:utils:643/806\n"
     ]
    },
    {
     "name": "stdout",
     "output_type": "stream",
     "text": [
      "Plotting  2016-10-03 09:00Z\n"
     ]
    },
    {
     "name": "stderr",
     "output_type": "stream",
     "text": [
      "INFO:utils:213/806\n",
      "INFO:utils:426/806\n",
      "INFO:utils:639/806\n",
      "/richmondvol1/rusty/stompy/stompy/utils.py:660: RuntimeWarning: invalid value encountered in divide\n",
      "  return vecs / mag(vecs)[...,None]\n"
     ]
    },
    {
     "name": "stdout",
     "output_type": "stream",
     "text": [
      "Plotting  2016-10-03 09:30Z\n"
     ]
    },
    {
     "name": "stderr",
     "output_type": "stream",
     "text": [
      "INFO:utils:209/806\n",
      "INFO:utils:417/806\n",
      "INFO:utils:624/806\n"
     ]
    },
    {
     "name": "stdout",
     "output_type": "stream",
     "text": [
      "Plotting  2016-10-03 10:00Z\n"
     ]
    },
    {
     "name": "stderr",
     "output_type": "stream",
     "text": [
      "INFO:utils:209/806\n",
      "INFO:utils:417/806\n",
      "INFO:utils:624/806\n",
      "/richmondvol1/rusty/stompy/stompy/utils.py:660: RuntimeWarning: invalid value encountered in divide\n",
      "  return vecs / mag(vecs)[...,None]\n"
     ]
    },
    {
     "name": "stdout",
     "output_type": "stream",
     "text": [
      "Plotting  2016-10-03 10:30Z\n"
     ]
    },
    {
     "name": "stderr",
     "output_type": "stream",
     "text": [
      "INFO:utils:208/806\n",
      "INFO:utils:416/806\n",
      "INFO:utils:623/806\n"
     ]
    },
    {
     "name": "stdout",
     "output_type": "stream",
     "text": [
      "Plotting  2016-10-03 11:00Z\n"
     ]
    },
    {
     "name": "stderr",
     "output_type": "stream",
     "text": [
      "INFO:utils:209/806\n",
      "INFO:utils:417/806\n",
      "INFO:utils:624/806\n",
      "/richmondvol1/rusty/stompy/stompy/utils.py:660: RuntimeWarning: invalid value encountered in divide\n",
      "  return vecs / mag(vecs)[...,None]\n"
     ]
    },
    {
     "name": "stdout",
     "output_type": "stream",
     "text": [
      "Plotting  2016-10-03 11:30Z\n"
     ]
    },
    {
     "name": "stderr",
     "output_type": "stream",
     "text": [
      "INFO:utils:209/806\n",
      "INFO:utils:418/806\n",
      "INFO:utils:625/806\n"
     ]
    },
    {
     "name": "stdout",
     "output_type": "stream",
     "text": [
      "Plotting  2016-10-03 12:00Z\n"
     ]
    },
    {
     "name": "stderr",
     "output_type": "stream",
     "text": [
      "INFO:utils:210/806\n",
      "INFO:utils:420/806\n",
      "INFO:utils:627/806\n",
      "/richmondvol1/rusty/stompy/stompy/utils.py:660: RuntimeWarning: invalid value encountered in divide\n",
      "  return vecs / mag(vecs)[...,None]\n"
     ]
    },
    {
     "name": "stdout",
     "output_type": "stream",
     "text": [
      "Plotting  2016-10-03 12:30Z\n"
     ]
    },
    {
     "name": "stderr",
     "output_type": "stream",
     "text": [
      "INFO:utils:203/806\n",
      "INFO:utils:409/806\n",
      "INFO:utils:615/806\n"
     ]
    },
    {
     "name": "stdout",
     "output_type": "stream",
     "text": [
      "Plotting  2016-10-03 13:00Z\n"
     ]
    },
    {
     "name": "stderr",
     "output_type": "stream",
     "text": [
      "INFO:utils:211/806\n",
      "INFO:utils:422/806\n",
      "INFO:utils:632/806\n",
      "/richmondvol1/rusty/stompy/stompy/utils.py:660: RuntimeWarning: invalid value encountered in divide\n",
      "  return vecs / mag(vecs)[...,None]\n"
     ]
    },
    {
     "name": "stdout",
     "output_type": "stream",
     "text": [
      "Plotting  2016-10-03 13:30Z\n"
     ]
    },
    {
     "name": "stderr",
     "output_type": "stream",
     "text": [
      "INFO:utils:213/806\n",
      "INFO:utils:425/806\n",
      "INFO:utils:637/806\n"
     ]
    },
    {
     "name": "stdout",
     "output_type": "stream",
     "text": [
      "Plotting  2016-10-03 14:00Z\n"
     ]
    },
    {
     "name": "stderr",
     "output_type": "stream",
     "text": [
      "INFO:utils:214/806\n",
      "INFO:utils:428/806\n",
      "INFO:utils:642/806\n",
      "/richmondvol1/rusty/stompy/stompy/utils.py:660: RuntimeWarning: invalid value encountered in divide\n",
      "  return vecs / mag(vecs)[...,None]\n"
     ]
    },
    {
     "name": "stdout",
     "output_type": "stream",
     "text": [
      "Plotting  2016-10-03 14:30Z\n"
     ]
    },
    {
     "name": "stderr",
     "output_type": "stream",
     "text": [
      "INFO:utils:210/806\n",
      "INFO:utils:420/806\n",
      "INFO:utils:629/806\n"
     ]
    },
    {
     "name": "stdout",
     "output_type": "stream",
     "text": [
      "Plotting  2016-10-03 15:00Z\n"
     ]
    },
    {
     "name": "stderr",
     "output_type": "stream",
     "text": [
      "INFO:utils:210/806\n",
      "INFO:utils:420/806\n",
      "INFO:utils:629/806\n",
      "/richmondvol1/rusty/stompy/stompy/utils.py:660: RuntimeWarning: invalid value encountered in divide\n",
      "  return vecs / mag(vecs)[...,None]\n"
     ]
    },
    {
     "name": "stdout",
     "output_type": "stream",
     "text": [
      "Plotting  2016-10-03 15:30Z\n"
     ]
    },
    {
     "name": "stderr",
     "output_type": "stream",
     "text": [
      "INFO:utils:210/806\n",
      "INFO:utils:419/806\n",
      "INFO:utils:627/806\n"
     ]
    },
    {
     "name": "stdout",
     "output_type": "stream",
     "text": [
      "Plotting  2016-10-03 16:00Z\n"
     ]
    },
    {
     "name": "stderr",
     "output_type": "stream",
     "text": [
      "INFO:utils:210/806\n",
      "INFO:utils:420/806\n",
      "INFO:utils:629/806\n",
      "/richmondvol1/rusty/stompy/stompy/utils.py:660: RuntimeWarning: invalid value encountered in divide\n",
      "  return vecs / mag(vecs)[...,None]\n"
     ]
    },
    {
     "name": "stdout",
     "output_type": "stream",
     "text": [
      "Plotting  2016-10-03 16:30Z\n"
     ]
    },
    {
     "name": "stderr",
     "output_type": "stream",
     "text": [
      "INFO:utils:210/806\n",
      "INFO:utils:420/806\n",
      "INFO:utils:627/806\n"
     ]
    },
    {
     "name": "stdout",
     "output_type": "stream",
     "text": [
      "Plotting  2016-10-03 17:00Z\n"
     ]
    },
    {
     "name": "stderr",
     "output_type": "stream",
     "text": [
      "INFO:utils:210/806\n",
      "INFO:utils:420/806\n",
      "INFO:utils:627/806\n",
      "/richmondvol1/rusty/stompy/stompy/utils.py:660: RuntimeWarning: invalid value encountered in divide\n",
      "  return vecs / mag(vecs)[...,None]\n"
     ]
    },
    {
     "name": "stdout",
     "output_type": "stream",
     "text": [
      "Plotting  2016-10-03 17:30Z\n"
     ]
    },
    {
     "name": "stderr",
     "output_type": "stream",
     "text": [
      "INFO:utils:210/806\n",
      "INFO:utils:420/806\n",
      "INFO:utils:627/806\n"
     ]
    },
    {
     "name": "stdout",
     "output_type": "stream",
     "text": [
      "Plotting  2016-10-03 18:00Z\n"
     ]
    },
    {
     "name": "stderr",
     "output_type": "stream",
     "text": [
      "INFO:utils:211/806\n",
      "INFO:utils:422/806\n",
      "INFO:utils:630/806\n",
      "/richmondvol1/rusty/stompy/stompy/utils.py:660: RuntimeWarning: invalid value encountered in divide\n",
      "  return vecs / mag(vecs)[...,None]\n"
     ]
    },
    {
     "name": "stdout",
     "output_type": "stream",
     "text": [
      "Plotting  2016-10-03 18:30Z\n"
     ]
    },
    {
     "name": "stderr",
     "output_type": "stream",
     "text": [
      "INFO:utils:211/806\n",
      "INFO:utils:422/806\n",
      "INFO:utils:631/806\n"
     ]
    },
    {
     "name": "stdout",
     "output_type": "stream",
     "text": [
      "Plotting  2016-10-03 19:00Z\n"
     ]
    },
    {
     "name": "stderr",
     "output_type": "stream",
     "text": [
      "INFO:utils:207/806\n",
      "INFO:utils:415/806\n",
      "INFO:utils:621/806\n",
      "/richmondvol1/rusty/stompy/stompy/utils.py:660: RuntimeWarning: invalid value encountered in divide\n",
      "  return vecs / mag(vecs)[...,None]\n"
     ]
    },
    {
     "name": "stdout",
     "output_type": "stream",
     "text": [
      "Plotting  2016-10-03 19:30Z\n"
     ]
    },
    {
     "name": "stderr",
     "output_type": "stream",
     "text": [
      "INFO:utils:210/806\n",
      "INFO:utils:420/806\n",
      "INFO:utils:629/806\n"
     ]
    },
    {
     "name": "stdout",
     "output_type": "stream",
     "text": [
      "Plotting  2016-10-03 20:00Z\n"
     ]
    },
    {
     "name": "stderr",
     "output_type": "stream",
     "text": [
      "INFO:utils:210/806\n",
      "INFO:utils:421/806\n",
      "INFO:utils:631/806\n",
      "/richmondvol1/rusty/stompy/stompy/utils.py:660: RuntimeWarning: invalid value encountered in divide\n",
      "  return vecs / mag(vecs)[...,None]\n"
     ]
    },
    {
     "name": "stdout",
     "output_type": "stream",
     "text": [
      "Plotting  2016-10-03 20:30Z\n"
     ]
    },
    {
     "name": "stderr",
     "output_type": "stream",
     "text": [
      "INFO:utils:211/806\n",
      "INFO:utils:423/806\n",
      "INFO:utils:634/806\n"
     ]
    },
    {
     "name": "stdout",
     "output_type": "stream",
     "text": [
      "Plotting  2016-10-03 21:00Z\n"
     ]
    },
    {
     "name": "stderr",
     "output_type": "stream",
     "text": [
      "INFO:utils:211/806\n",
      "INFO:utils:423/806\n",
      "INFO:utils:634/806\n",
      "/richmondvol1/rusty/stompy/stompy/utils.py:660: RuntimeWarning: invalid value encountered in divide\n",
      "  return vecs / mag(vecs)[...,None]\n"
     ]
    },
    {
     "name": "stdout",
     "output_type": "stream",
     "text": [
      "Plotting  2016-10-03 21:30Z\n"
     ]
    },
    {
     "name": "stderr",
     "output_type": "stream",
     "text": [
      "INFO:utils:211/806\n",
      "INFO:utils:422/806\n",
      "INFO:utils:631/806\n"
     ]
    },
    {
     "name": "stdout",
     "output_type": "stream",
     "text": [
      "Plotting  2016-10-03 22:00Z\n"
     ]
    },
    {
     "name": "stderr",
     "output_type": "stream",
     "text": [
      "INFO:utils:211/806\n",
      "INFO:utils:422/806\n",
      "INFO:utils:625/806\n",
      "/richmondvol1/rusty/stompy/stompy/utils.py:660: RuntimeWarning: invalid value encountered in divide\n",
      "  return vecs / mag(vecs)[...,None]\n"
     ]
    },
    {
     "name": "stdout",
     "output_type": "stream",
     "text": [
      "Plotting  2016-10-03 22:30Z\n"
     ]
    },
    {
     "name": "stderr",
     "output_type": "stream",
     "text": [
      "INFO:utils:206/806\n",
      "INFO:utils:413/806\n",
      "INFO:utils:619/806\n"
     ]
    },
    {
     "name": "stdout",
     "output_type": "stream",
     "text": [
      "Plotting  2016-10-03 23:00Z\n"
     ]
    },
    {
     "name": "stderr",
     "output_type": "stream",
     "text": [
      "INFO:utils:211/806\n",
      "INFO:utils:421/806\n",
      "INFO:utils:629/806\n",
      "/richmondvol1/rusty/stompy/stompy/utils.py:660: RuntimeWarning: invalid value encountered in divide\n",
      "  return vecs / mag(vecs)[...,None]\n"
     ]
    },
    {
     "name": "stdout",
     "output_type": "stream",
     "text": [
      "Plotting  2016-10-03 23:30Z\n"
     ]
    },
    {
     "name": "stderr",
     "output_type": "stream",
     "text": [
      "INFO:utils:211/806\n",
      "INFO:utils:422/806\n",
      "INFO:utils:631/806\n"
     ]
    },
    {
     "name": "stdout",
     "output_type": "stream",
     "text": [
      "Plotting  2016-10-04 00:00Z\n"
     ]
    },
    {
     "name": "stderr",
     "output_type": "stream",
     "text": [
      "INFO:utils:208/806\n",
      "INFO:utils:416/806\n",
      "INFO:utils:622/806\n",
      "/richmondvol1/rusty/stompy/stompy/utils.py:660: RuntimeWarning: invalid value encountered in divide\n",
      "  return vecs / mag(vecs)[...,None]\n"
     ]
    },
    {
     "name": "stdout",
     "output_type": "stream",
     "text": [
      "Plotting  2016-10-04 00:30Z\n"
     ]
    },
    {
     "name": "stderr",
     "output_type": "stream",
     "text": [
      "INFO:utils:206/806\n",
      "INFO:utils:412/806\n",
      "INFO:utils:616/806\n"
     ]
    },
    {
     "name": "stdout",
     "output_type": "stream",
     "text": [
      "Plotting  2016-10-04 01:00Z\n"
     ]
    },
    {
     "name": "stderr",
     "output_type": "stream",
     "text": [
      "INFO:utils:209/806\n",
      "INFO:utils:418/806\n",
      "INFO:utils:624/806\n",
      "/richmondvol1/rusty/stompy/stompy/utils.py:660: RuntimeWarning: invalid value encountered in divide\n",
      "  return vecs / mag(vecs)[...,None]\n"
     ]
    },
    {
     "name": "stdout",
     "output_type": "stream",
     "text": [
      "Plotting  2016-10-04 01:30Z\n"
     ]
    },
    {
     "name": "stderr",
     "output_type": "stream",
     "text": [
      "INFO:utils:209/806\n",
      "INFO:utils:418/806\n",
      "INFO:utils:626/806\n"
     ]
    },
    {
     "name": "stdout",
     "output_type": "stream",
     "text": [
      "Plotting  2016-10-04 02:00Z\n"
     ]
    },
    {
     "name": "stderr",
     "output_type": "stream",
     "text": [
      "INFO:utils:212/806\n",
      "INFO:utils:424/806\n",
      "INFO:utils:635/806\n",
      "/richmondvol1/rusty/stompy/stompy/utils.py:660: RuntimeWarning: invalid value encountered in divide\n",
      "  return vecs / mag(vecs)[...,None]\n"
     ]
    },
    {
     "name": "stdout",
     "output_type": "stream",
     "text": [
      "Plotting  2016-10-04 02:30Z\n"
     ]
    },
    {
     "name": "stderr",
     "output_type": "stream",
     "text": [
      "INFO:utils:211/806\n",
      "INFO:utils:423/806\n",
      "INFO:utils:633/806\n"
     ]
    },
    {
     "name": "stdout",
     "output_type": "stream",
     "text": [
      "Plotting  2016-10-04 03:00Z\n"
     ]
    },
    {
     "name": "stderr",
     "output_type": "stream",
     "text": [
      "INFO:utils:203/806\n",
      "INFO:utils:416/806\n",
      "INFO:utils:629/806\n",
      "/richmondvol1/rusty/stompy/stompy/utils.py:660: RuntimeWarning: invalid value encountered in divide\n",
      "  return vecs / mag(vecs)[...,None]\n"
     ]
    },
    {
     "name": "stdout",
     "output_type": "stream",
     "text": [
      "Plotting  2016-10-04 03:30Z\n"
     ]
    },
    {
     "name": "stderr",
     "output_type": "stream",
     "text": [
      "INFO:utils:209/806\n",
      "INFO:utils:421/806\n",
      "INFO:utils:632/806\n"
     ]
    },
    {
     "name": "stdout",
     "output_type": "stream",
     "text": [
      "Plotting  2016-10-04 04:00Z\n"
     ]
    },
    {
     "name": "stderr",
     "output_type": "stream",
     "text": [
      "INFO:utils:215/806\n",
      "INFO:utils:429/806\n",
      "INFO:utils:642/806\n",
      "/richmondvol1/rusty/stompy/stompy/utils.py:660: RuntimeWarning: invalid value encountered in divide\n",
      "  return vecs / mag(vecs)[...,None]\n"
     ]
    },
    {
     "name": "stdout",
     "output_type": "stream",
     "text": [
      "Plotting  2016-10-04 04:30Z\n"
     ]
    },
    {
     "name": "stderr",
     "output_type": "stream",
     "text": [
      "INFO:utils:211/806\n",
      "INFO:utils:424/806\n",
      "INFO:utils:635/806\n"
     ]
    },
    {
     "name": "stdout",
     "output_type": "stream",
     "text": [
      "Plotting  2016-10-04 05:00Z\n"
     ]
    },
    {
     "name": "stderr",
     "output_type": "stream",
     "text": [
      "INFO:utils:209/806\n",
      "INFO:utils:410/806\n",
      "INFO:utils:606/806\n",
      "INFO:utils:804/806\n",
      "/richmondvol1/rusty/stompy/stompy/utils.py:660: RuntimeWarning: invalid value encountered in divide\n",
      "  return vecs / mag(vecs)[...,None]\n"
     ]
    },
    {
     "name": "stdout",
     "output_type": "stream",
     "text": [
      "Plotting  2016-10-04 05:30Z\n"
     ]
    },
    {
     "name": "stderr",
     "output_type": "stream",
     "text": [
      "INFO:utils:206/806\n",
      "INFO:utils:411/806\n",
      "INFO:utils:615/806\n"
     ]
    },
    {
     "name": "stdout",
     "output_type": "stream",
     "text": [
      "Plotting  2016-10-04 06:00Z\n"
     ]
    },
    {
     "name": "stderr",
     "output_type": "stream",
     "text": [
      "INFO:utils:210/806\n",
      "INFO:utils:420/806\n",
      "INFO:utils:626/806\n",
      "/richmondvol1/rusty/stompy/stompy/utils.py:660: RuntimeWarning: invalid value encountered in divide\n",
      "  return vecs / mag(vecs)[...,None]\n"
     ]
    },
    {
     "name": "stdout",
     "output_type": "stream",
     "text": [
      "Plotting  2016-10-04 06:30Z\n"
     ]
    },
    {
     "name": "stderr",
     "output_type": "stream",
     "text": [
      "INFO:utils:207/806\n",
      "INFO:utils:416/806\n",
      "INFO:utils:623/806\n"
     ]
    },
    {
     "name": "stdout",
     "output_type": "stream",
     "text": [
      "Plotting  2016-10-04 07:00Z\n"
     ]
    },
    {
     "name": "stderr",
     "output_type": "stream",
     "text": [
      "INFO:utils:211/806\n",
      "INFO:utils:422/806\n",
      "INFO:utils:631/806\n",
      "/richmondvol1/rusty/stompy/stompy/utils.py:660: RuntimeWarning: invalid value encountered in divide\n",
      "  return vecs / mag(vecs)[...,None]\n"
     ]
    },
    {
     "name": "stdout",
     "output_type": "stream",
     "text": [
      "Plotting  2016-10-04 07:30Z\n"
     ]
    },
    {
     "name": "stderr",
     "output_type": "stream",
     "text": [
      "INFO:utils:211/806\n",
      "INFO:utils:423/806\n",
      "INFO:utils:632/806\n"
     ]
    },
    {
     "name": "stdout",
     "output_type": "stream",
     "text": [
      "Plotting  2016-10-04 08:00Z\n"
     ]
    },
    {
     "name": "stderr",
     "output_type": "stream",
     "text": [
      "INFO:utils:203/806\n",
      "INFO:utils:411/806\n",
      "INFO:utils:621/806\n",
      "/richmondvol1/rusty/stompy/stompy/utils.py:660: RuntimeWarning: invalid value encountered in divide\n",
      "  return vecs / mag(vecs)[...,None]\n"
     ]
    },
    {
     "name": "stdout",
     "output_type": "stream",
     "text": [
      "Plotting  2016-10-04 08:30Z\n"
     ]
    },
    {
     "name": "stderr",
     "output_type": "stream",
     "text": [
      "INFO:utils:214/806\n",
      "INFO:utils:429/806\n",
      "INFO:utils:643/806\n"
     ]
    },
    {
     "name": "stdout",
     "output_type": "stream",
     "text": [
      "Plotting  2016-10-04 09:00Z\n"
     ]
    },
    {
     "name": "stderr",
     "output_type": "stream",
     "text": [
      "INFO:utils:216/806\n",
      "INFO:utils:432/806\n",
      "INFO:utils:647/806\n",
      "/richmondvol1/rusty/stompy/stompy/utils.py:660: RuntimeWarning: invalid value encountered in divide\n",
      "  return vecs / mag(vecs)[...,None]\n"
     ]
    },
    {
     "name": "stdout",
     "output_type": "stream",
     "text": [
      "Plotting  2016-10-04 09:30Z\n"
     ]
    },
    {
     "name": "stderr",
     "output_type": "stream",
     "text": [
      "INFO:utils:210/806\n",
      "INFO:utils:420/806\n",
      "INFO:utils:629/806\n"
     ]
    },
    {
     "name": "stdout",
     "output_type": "stream",
     "text": [
      "Plotting  2016-10-04 10:00Z\n"
     ]
    },
    {
     "name": "stderr",
     "output_type": "stream",
     "text": [
      "INFO:utils:209/806\n",
      "INFO:utils:418/806\n",
      "INFO:utils:626/806\n",
      "/richmondvol1/rusty/stompy/stompy/utils.py:660: RuntimeWarning: invalid value encountered in divide\n",
      "  return vecs / mag(vecs)[...,None]\n"
     ]
    },
    {
     "name": "stdout",
     "output_type": "stream",
     "text": [
      "Plotting  2016-10-04 10:30Z\n"
     ]
    },
    {
     "name": "stderr",
     "output_type": "stream",
     "text": [
      "INFO:utils:208/806\n",
      "INFO:utils:415/806\n",
      "INFO:utils:622/806\n"
     ]
    },
    {
     "name": "stdout",
     "output_type": "stream",
     "text": [
      "Plotting  2016-10-04 11:00Z\n"
     ]
    },
    {
     "name": "stderr",
     "output_type": "stream",
     "text": [
      "INFO:utils:203/806\n",
      "INFO:utils:412/806\n",
      "INFO:utils:621/806\n",
      "/richmondvol1/rusty/stompy/stompy/utils.py:660: RuntimeWarning: invalid value encountered in divide\n",
      "  return vecs / mag(vecs)[...,None]\n"
     ]
    },
    {
     "name": "stdout",
     "output_type": "stream",
     "text": [
      "Plotting  2016-10-04 11:30Z\n"
     ]
    },
    {
     "name": "stderr",
     "output_type": "stream",
     "text": [
      "INFO:utils:211/806\n",
      "INFO:utils:421/806\n",
      "INFO:utils:630/806\n"
     ]
    },
    {
     "name": "stdout",
     "output_type": "stream",
     "text": [
      "Plotting  2016-10-04 12:00Z\n"
     ]
    },
    {
     "name": "stderr",
     "output_type": "stream",
     "text": [
      "INFO:utils:211/806\n",
      "INFO:utils:422/806\n",
      "INFO:utils:631/806\n",
      "/richmondvol1/rusty/stompy/stompy/utils.py:660: RuntimeWarning: invalid value encountered in divide\n",
      "  return vecs / mag(vecs)[...,None]\n"
     ]
    },
    {
     "name": "stdout",
     "output_type": "stream",
     "text": [
      "Plotting  2016-10-04 12:30Z\n"
     ]
    },
    {
     "name": "stderr",
     "output_type": "stream",
     "text": [
      "INFO:utils:210/806\n",
      "INFO:utils:419/806\n",
      "INFO:utils:628/806\n"
     ]
    },
    {
     "name": "stdout",
     "output_type": "stream",
     "text": [
      "Plotting  2016-10-04 13:00Z\n"
     ]
    },
    {
     "name": "stderr",
     "output_type": "stream",
     "text": [
      "INFO:utils:211/806\n",
      "INFO:utils:422/806\n",
      "INFO:utils:632/806\n",
      "/richmondvol1/rusty/stompy/stompy/utils.py:660: RuntimeWarning: invalid value encountered in divide\n",
      "  return vecs / mag(vecs)[...,None]\n"
     ]
    },
    {
     "name": "stdout",
     "output_type": "stream",
     "text": [
      "Plotting  2016-10-04 13:30Z\n"
     ]
    },
    {
     "name": "stderr",
     "output_type": "stream",
     "text": [
      "INFO:utils:212/806\n",
      "INFO:utils:423/806\n",
      "INFO:utils:633/806\n"
     ]
    },
    {
     "name": "stdout",
     "output_type": "stream",
     "text": [
      "Plotting  2016-10-04 14:00Z\n"
     ]
    },
    {
     "name": "stderr",
     "output_type": "stream",
     "text": [
      "INFO:utils:212/806\n",
      "INFO:utils:425/806\n",
      "INFO:utils:637/806\n",
      "/richmondvol1/rusty/stompy/stompy/utils.py:660: RuntimeWarning: invalid value encountered in divide\n",
      "  return vecs / mag(vecs)[...,None]\n"
     ]
    },
    {
     "name": "stdout",
     "output_type": "stream",
     "text": [
      "Plotting  2016-10-04 14:30Z\n"
     ]
    },
    {
     "name": "stderr",
     "output_type": "stream",
     "text": [
      "INFO:utils:209/806\n",
      "INFO:utils:419/806\n",
      "INFO:utils:628/806\n"
     ]
    },
    {
     "name": "stdout",
     "output_type": "stream",
     "text": [
      "Plotting  2016-10-04 15:00Z\n"
     ]
    },
    {
     "name": "stderr",
     "output_type": "stream",
     "text": [
      "INFO:utils:210/806\n",
      "INFO:utils:421/806\n",
      "INFO:utils:631/806\n",
      "/richmondvol1/rusty/stompy/stompy/utils.py:660: RuntimeWarning: invalid value encountered in divide\n",
      "  return vecs / mag(vecs)[...,None]\n"
     ]
    },
    {
     "name": "stdout",
     "output_type": "stream",
     "text": [
      "Plotting  2016-10-04 15:30Z\n"
     ]
    },
    {
     "name": "stderr",
     "output_type": "stream",
     "text": [
      "INFO:utils:210/806\n",
      "INFO:utils:420/806\n",
      "INFO:utils:630/806\n"
     ]
    },
    {
     "name": "stdout",
     "output_type": "stream",
     "text": [
      "Plotting  2016-10-04 16:00Z\n"
     ]
    },
    {
     "name": "stderr",
     "output_type": "stream",
     "text": [
      "INFO:utils:213/806\n",
      "INFO:utils:425/806\n",
      "INFO:utils:637/806\n",
      "/richmondvol1/rusty/stompy/stompy/utils.py:660: RuntimeWarning: invalid value encountered in divide\n",
      "  return vecs / mag(vecs)[...,None]\n"
     ]
    },
    {
     "name": "stdout",
     "output_type": "stream",
     "text": [
      "Plotting  2016-10-04 16:30Z\n"
     ]
    },
    {
     "name": "stderr",
     "output_type": "stream",
     "text": [
      "INFO:utils:209/806\n",
      "INFO:utils:420/806\n",
      "INFO:utils:630/806\n"
     ]
    },
    {
     "name": "stdout",
     "output_type": "stream",
     "text": [
      "Plotting  2016-10-04 17:00Z\n"
     ]
    },
    {
     "name": "stderr",
     "output_type": "stream",
     "text": [
      "INFO:utils:211/806\n",
      "INFO:utils:421/806\n",
      "INFO:utils:630/806\n",
      "/richmondvol1/rusty/stompy/stompy/utils.py:660: RuntimeWarning: invalid value encountered in divide\n",
      "  return vecs / mag(vecs)[...,None]\n"
     ]
    },
    {
     "name": "stdout",
     "output_type": "stream",
     "text": [
      "Plotting  2016-10-04 17:30Z\n"
     ]
    },
    {
     "name": "stderr",
     "output_type": "stream",
     "text": [
      "INFO:utils:211/806\n",
      "INFO:utils:422/806\n",
      "INFO:utils:630/806\n"
     ]
    },
    {
     "name": "stdout",
     "output_type": "stream",
     "text": [
      "Plotting  2016-10-04 18:00Z\n"
     ]
    },
    {
     "name": "stderr",
     "output_type": "stream",
     "text": [
      "INFO:utils:210/806\n",
      "INFO:utils:420/806\n",
      "INFO:utils:627/806\n",
      "/richmondvol1/rusty/stompy/stompy/utils.py:660: RuntimeWarning: invalid value encountered in divide\n",
      "  return vecs / mag(vecs)[...,None]\n"
     ]
    },
    {
     "name": "stdout",
     "output_type": "stream",
     "text": [
      "Plotting  2016-10-04 18:30Z\n"
     ]
    },
    {
     "name": "stderr",
     "output_type": "stream",
     "text": [
      "INFO:utils:211/806\n",
      "INFO:utils:423/806\n",
      "INFO:utils:631/806\n"
     ]
    },
    {
     "name": "stdout",
     "output_type": "stream",
     "text": [
      "Plotting  2016-10-04 19:00Z\n"
     ]
    },
    {
     "name": "stderr",
     "output_type": "stream",
     "text": [
      "INFO:utils:211/806\n",
      "INFO:utils:422/806\n",
      "INFO:utils:631/806\n",
      "/richmondvol1/rusty/stompy/stompy/utils.py:660: RuntimeWarning: invalid value encountered in divide\n",
      "  return vecs / mag(vecs)[...,None]\n"
     ]
    },
    {
     "name": "stdout",
     "output_type": "stream",
     "text": [
      "Plotting  2016-10-04 19:30Z\n"
     ]
    },
    {
     "name": "stderr",
     "output_type": "stream",
     "text": [
      "INFO:utils:208/806\n",
      "INFO:utils:416/806\n",
      "INFO:utils:619/806\n"
     ]
    },
    {
     "name": "stdout",
     "output_type": "stream",
     "text": [
      "Plotting  2016-10-04 20:00Z\n"
     ]
    },
    {
     "name": "stderr",
     "output_type": "stream",
     "text": [
      "INFO:utils:210/806\n",
      "INFO:utils:421/806\n",
      "INFO:utils:630/806\n",
      "/richmondvol1/rusty/stompy/stompy/utils.py:660: RuntimeWarning: invalid value encountered in divide\n",
      "  return vecs / mag(vecs)[...,None]\n"
     ]
    },
    {
     "name": "stdout",
     "output_type": "stream",
     "text": [
      "Plotting  2016-10-04 20:30Z\n"
     ]
    },
    {
     "name": "stderr",
     "output_type": "stream",
     "text": [
      "INFO:utils:210/806\n",
      "INFO:utils:421/806\n",
      "INFO:utils:631/806\n"
     ]
    },
    {
     "name": "stdout",
     "output_type": "stream",
     "text": [
      "Plotting  2016-10-04 21:00Z\n"
     ]
    },
    {
     "name": "stderr",
     "output_type": "stream",
     "text": [
      "INFO:utils:211/806\n",
      "INFO:utils:423/806\n",
      "INFO:utils:634/806\n",
      "/richmondvol1/rusty/stompy/stompy/utils.py:660: RuntimeWarning: invalid value encountered in divide\n",
      "  return vecs / mag(vecs)[...,None]\n"
     ]
    },
    {
     "name": "stdout",
     "output_type": "stream",
     "text": [
      "Plotting  2016-10-04 21:30Z\n"
     ]
    },
    {
     "name": "stderr",
     "output_type": "stream",
     "text": [
      "INFO:utils:212/806\n",
      "INFO:utils:424/806\n",
      "INFO:utils:635/806\n"
     ]
    },
    {
     "name": "stdout",
     "output_type": "stream",
     "text": [
      "Plotting  2016-10-04 22:00Z\n"
     ]
    },
    {
     "name": "stderr",
     "output_type": "stream",
     "text": [
      "INFO:utils:212/806\n",
      "INFO:utils:423/806\n",
      "INFO:utils:632/806\n",
      "/richmondvol1/rusty/stompy/stompy/utils.py:660: RuntimeWarning: invalid value encountered in divide\n",
      "  return vecs / mag(vecs)[...,None]\n"
     ]
    },
    {
     "name": "stdout",
     "output_type": "stream",
     "text": [
      "Plotting  2016-10-04 22:30Z\n"
     ]
    },
    {
     "name": "stderr",
     "output_type": "stream",
     "text": [
      "INFO:utils:210/806\n",
      "INFO:utils:420/806\n",
      "INFO:utils:628/806\n"
     ]
    },
    {
     "name": "stdout",
     "output_type": "stream",
     "text": [
      "Plotting  2016-10-04 23:00Z\n"
     ]
    },
    {
     "name": "stderr",
     "output_type": "stream",
     "text": [
      "INFO:utils:210/806\n",
      "INFO:utils:420/806\n",
      "INFO:utils:628/806\n",
      "/richmondvol1/rusty/stompy/stompy/utils.py:660: RuntimeWarning: invalid value encountered in divide\n",
      "  return vecs / mag(vecs)[...,None]\n"
     ]
    },
    {
     "name": "stdout",
     "output_type": "stream",
     "text": [
      "Plotting  2016-10-04 23:30Z\n"
     ]
    },
    {
     "name": "stderr",
     "output_type": "stream",
     "text": [
      "INFO:utils:212/806\n",
      "INFO:utils:423/806\n",
      "INFO:utils:632/806\n"
     ]
    },
    {
     "name": "stdout",
     "output_type": "stream",
     "text": [
      "Plotting  2016-10-05 00:00Z\n"
     ]
    },
    {
     "name": "stderr",
     "output_type": "stream",
     "text": [
      "INFO:utils:207/806\n",
      "INFO:utils:415/806\n",
      "INFO:utils:620/806\n",
      "/richmondvol1/rusty/stompy/stompy/utils.py:660: RuntimeWarning: invalid value encountered in divide\n",
      "  return vecs / mag(vecs)[...,None]\n"
     ]
    },
    {
     "name": "stdout",
     "output_type": "stream",
     "text": [
      "Plotting  2016-10-05 00:30Z\n"
     ]
    },
    {
     "name": "stderr",
     "output_type": "stream",
     "text": [
      "INFO:utils:207/806\n",
      "INFO:utils:414/806\n",
      "INFO:utils:619/806\n"
     ]
    },
    {
     "name": "stdout",
     "output_type": "stream",
     "text": [
      "Plotting  2016-10-05 01:00Z\n"
     ]
    },
    {
     "name": "stderr",
     "output_type": "stream",
     "text": [
      "INFO:utils:208/806\n",
      "INFO:utils:416/806\n",
      "INFO:utils:622/806\n",
      "/richmondvol1/rusty/stompy/stompy/utils.py:660: RuntimeWarning: invalid value encountered in divide\n",
      "  return vecs / mag(vecs)[...,None]\n"
     ]
    },
    {
     "name": "stdout",
     "output_type": "stream",
     "text": [
      "Plotting  2016-10-05 01:30Z\n"
     ]
    },
    {
     "name": "stderr",
     "output_type": "stream",
     "text": [
      "INFO:utils:209/806\n",
      "INFO:utils:418/806\n",
      "INFO:utils:624/806\n"
     ]
    },
    {
     "name": "stdout",
     "output_type": "stream",
     "text": [
      "Plotting  2016-10-05 02:00Z\n"
     ]
    },
    {
     "name": "stderr",
     "output_type": "stream",
     "text": [
      "INFO:utils:210/806\n",
      "INFO:utils:421/806\n",
      "INFO:utils:631/806\n",
      "/richmondvol1/rusty/stompy/stompy/utils.py:660: RuntimeWarning: invalid value encountered in divide\n",
      "  return vecs / mag(vecs)[...,None]\n"
     ]
    },
    {
     "name": "stdout",
     "output_type": "stream",
     "text": [
      "Plotting  2016-10-05 02:30Z\n"
     ]
    },
    {
     "name": "stderr",
     "output_type": "stream",
     "text": [
      "INFO:utils:210/806\n",
      "INFO:utils:421/806\n",
      "INFO:utils:631/806\n"
     ]
    },
    {
     "name": "stdout",
     "output_type": "stream",
     "text": [
      "Plotting  2016-10-05 03:00Z\n"
     ]
    },
    {
     "name": "stderr",
     "output_type": "stream",
     "text": [
      "INFO:utils:212/806\n",
      "INFO:utils:425/806\n",
      "INFO:utils:637/806\n",
      "/richmondvol1/rusty/stompy/stompy/utils.py:660: RuntimeWarning: invalid value encountered in divide\n",
      "  return vecs / mag(vecs)[...,None]\n"
     ]
    },
    {
     "name": "stdout",
     "output_type": "stream",
     "text": [
      "Plotting  2016-10-05 03:30Z\n"
     ]
    },
    {
     "name": "stderr",
     "output_type": "stream",
     "text": [
      "INFO:utils:208/806\n",
      "INFO:utils:420/806\n",
      "INFO:utils:632/806\n"
     ]
    },
    {
     "name": "stdout",
     "output_type": "stream",
     "text": [
      "Plotting  2016-10-05 04:00Z\n"
     ]
    },
    {
     "name": "stderr",
     "output_type": "stream",
     "text": [
      "INFO:utils:214/806\n",
      "INFO:utils:428/806\n",
      "INFO:utils:642/806\n",
      "/richmondvol1/rusty/stompy/stompy/utils.py:660: RuntimeWarning: invalid value encountered in divide\n",
      "  return vecs / mag(vecs)[...,None]\n"
     ]
    },
    {
     "name": "stdout",
     "output_type": "stream",
     "text": [
      "Plotting  2016-10-05 04:30Z\n"
     ]
    },
    {
     "name": "stderr",
     "output_type": "stream",
     "text": [
      "INFO:utils:210/806\n",
      "INFO:utils:422/806\n",
      "INFO:utils:633/806\n"
     ]
    },
    {
     "name": "stdout",
     "output_type": "stream",
     "text": [
      "Plotting  2016-10-05 05:00Z\n"
     ]
    },
    {
     "name": "stderr",
     "output_type": "stream",
     "text": [
      "INFO:utils:209/806\n",
      "INFO:utils:417/806\n",
      "INFO:utils:623/806\n",
      "/richmondvol1/rusty/stompy/stompy/utils.py:660: RuntimeWarning: invalid value encountered in divide\n",
      "  return vecs / mag(vecs)[...,None]\n"
     ]
    },
    {
     "name": "stdout",
     "output_type": "stream",
     "text": [
      "Plotting  2016-10-05 05:30Z\n"
     ]
    },
    {
     "name": "stderr",
     "output_type": "stream",
     "text": [
      "INFO:utils:209/806\n",
      "INFO:utils:416/806\n",
      "INFO:utils:622/806\n"
     ]
    },
    {
     "name": "stdout",
     "output_type": "stream",
     "text": [
      "Plotting  2016-10-05 06:00Z\n"
     ]
    },
    {
     "name": "stderr",
     "output_type": "stream",
     "text": [
      "INFO:utils:208/806\n",
      "INFO:utils:415/806\n",
      "INFO:utils:621/806\n",
      "/richmondvol1/rusty/stompy/stompy/utils.py:660: RuntimeWarning: invalid value encountered in divide\n",
      "  return vecs / mag(vecs)[...,None]\n"
     ]
    },
    {
     "name": "stdout",
     "output_type": "stream",
     "text": [
      "Plotting  2016-10-05 06:30Z\n"
     ]
    },
    {
     "name": "stderr",
     "output_type": "stream",
     "text": [
      "INFO:utils:209/806\n",
      "INFO:utils:417/806\n",
      "INFO:utils:624/806\n"
     ]
    },
    {
     "name": "stdout",
     "output_type": "stream",
     "text": [
      "Plotting  2016-10-05 07:00Z\n"
     ]
    },
    {
     "name": "stderr",
     "output_type": "stream",
     "text": [
      "INFO:utils:209/806\n",
      "INFO:utils:418/806\n",
      "INFO:utils:625/806\n",
      "/richmondvol1/rusty/stompy/stompy/utils.py:660: RuntimeWarning: invalid value encountered in divide\n",
      "  return vecs / mag(vecs)[...,None]\n"
     ]
    },
    {
     "name": "stdout",
     "output_type": "stream",
     "text": [
      "Plotting  2016-10-05 07:30Z\n"
     ]
    },
    {
     "name": "stderr",
     "output_type": "stream",
     "text": [
      "INFO:utils:210/806\n",
      "INFO:utils:398/806\n",
      "INFO:utils:592/806\n",
      "INFO:utils:796/806\n"
     ]
    },
    {
     "name": "stdout",
     "output_type": "stream",
     "text": [
      "Plotting  2016-10-05 08:00Z\n"
     ]
    },
    {
     "name": "stderr",
     "output_type": "stream",
     "text": [
      "INFO:utils:211/806\n",
      "INFO:utils:422/806\n",
      "INFO:utils:632/806\n",
      "/richmondvol1/rusty/stompy/stompy/utils.py:660: RuntimeWarning: invalid value encountered in divide\n",
      "  return vecs / mag(vecs)[...,None]\n"
     ]
    },
    {
     "name": "stdout",
     "output_type": "stream",
     "text": [
      "Plotting  2016-10-05 08:30Z\n"
     ]
    },
    {
     "name": "stderr",
     "output_type": "stream",
     "text": [
      "INFO:utils:211/806\n",
      "INFO:utils:422/806\n",
      "INFO:utils:631/806\n"
     ]
    },
    {
     "name": "stdout",
     "output_type": "stream",
     "text": [
      "Plotting  2016-10-05 09:00Z\n"
     ]
    },
    {
     "name": "stderr",
     "output_type": "stream",
     "text": [
      "INFO:utils:212/806\n",
      "INFO:utils:424/806\n",
      "INFO:utils:635/806\n",
      "/richmondvol1/rusty/stompy/stompy/utils.py:660: RuntimeWarning: invalid value encountered in divide\n",
      "  return vecs / mag(vecs)[...,None]\n"
     ]
    },
    {
     "name": "stdout",
     "output_type": "stream",
     "text": [
      "Plotting  2016-10-05 09:30Z\n"
     ]
    },
    {
     "name": "stderr",
     "output_type": "stream",
     "text": [
      "INFO:utils:209/806\n",
      "INFO:utils:419/806\n",
      "INFO:utils:628/806\n"
     ]
    },
    {
     "name": "stdout",
     "output_type": "stream",
     "text": [
      "Plotting  2016-10-05 10:00Z\n"
     ]
    },
    {
     "name": "stderr",
     "output_type": "stream",
     "text": [
      "INFO:utils:209/806\n",
      "INFO:utils:419/806\n",
      "INFO:utils:629/806\n",
      "/richmondvol1/rusty/stompy/stompy/utils.py:660: RuntimeWarning: invalid value encountered in divide\n",
      "  return vecs / mag(vecs)[...,None]\n"
     ]
    },
    {
     "name": "stdout",
     "output_type": "stream",
     "text": [
      "Plotting  2016-10-05 10:30Z\n"
     ]
    },
    {
     "name": "stderr",
     "output_type": "stream",
     "text": [
      "INFO:utils:209/806\n",
      "INFO:utils:419/806\n",
      "INFO:utils:628/806\n"
     ]
    },
    {
     "name": "stdout",
     "output_type": "stream",
     "text": [
      "Plotting  2016-10-05 11:00Z\n"
     ]
    },
    {
     "name": "stderr",
     "output_type": "stream",
     "text": [
      "INFO:utils:210/806\n",
      "INFO:utils:420/806\n",
      "INFO:utils:629/806\n",
      "/richmondvol1/rusty/stompy/stompy/utils.py:660: RuntimeWarning: invalid value encountered in divide\n",
      "  return vecs / mag(vecs)[...,None]\n"
     ]
    },
    {
     "name": "stdout",
     "output_type": "stream",
     "text": [
      "Plotting  2016-10-05 11:30Z\n"
     ]
    },
    {
     "name": "stderr",
     "output_type": "stream",
     "text": [
      "INFO:utils:210/806\n",
      "INFO:utils:419/806\n",
      "INFO:utils:627/806\n"
     ]
    },
    {
     "name": "stdout",
     "output_type": "stream",
     "text": [
      "Plotting  2016-10-05 12:00Z\n"
     ]
    },
    {
     "name": "stderr",
     "output_type": "stream",
     "text": [
      "INFO:utils:210/806\n",
      "INFO:utils:421/806\n",
      "INFO:utils:630/806\n",
      "/richmondvol1/rusty/stompy/stompy/utils.py:660: RuntimeWarning: invalid value encountered in divide\n",
      "  return vecs / mag(vecs)[...,None]\n"
     ]
    },
    {
     "name": "stdout",
     "output_type": "stream",
     "text": [
      "Plotting  2016-10-05 12:30Z\n"
     ]
    },
    {
     "name": "stderr",
     "output_type": "stream",
     "text": [
      "INFO:utils:211/806\n",
      "INFO:utils:422/806\n",
      "INFO:utils:632/806\n"
     ]
    },
    {
     "name": "stdout",
     "output_type": "stream",
     "text": [
      "Plotting  2016-10-05 13:00Z\n"
     ]
    },
    {
     "name": "stderr",
     "output_type": "stream",
     "text": [
      "INFO:utils:211/806\n",
      "INFO:utils:422/806\n",
      "INFO:utils:632/806\n",
      "/richmondvol1/rusty/stompy/stompy/utils.py:660: RuntimeWarning: invalid value encountered in divide\n",
      "  return vecs / mag(vecs)[...,None]\n"
     ]
    },
    {
     "name": "stdout",
     "output_type": "stream",
     "text": [
      "Plotting  2016-10-05 13:30Z\n"
     ]
    },
    {
     "name": "stderr",
     "output_type": "stream",
     "text": [
      "INFO:utils:211/806\n",
      "INFO:utils:422/806\n",
      "INFO:utils:632/806\n"
     ]
    },
    {
     "name": "stdout",
     "output_type": "stream",
     "text": [
      "Plotting  2016-10-05 14:00Z\n"
     ]
    },
    {
     "name": "stderr",
     "output_type": "stream",
     "text": [
      "INFO:utils:213/806\n",
      "INFO:utils:426/806\n",
      "INFO:utils:638/806\n",
      "/richmondvol1/rusty/stompy/stompy/utils.py:660: RuntimeWarning: invalid value encountered in divide\n",
      "  return vecs / mag(vecs)[...,None]\n"
     ]
    },
    {
     "name": "stdout",
     "output_type": "stream",
     "text": [
      "Plotting  2016-10-05 14:30Z\n"
     ]
    },
    {
     "name": "stderr",
     "output_type": "stream",
     "text": [
      "INFO:utils:207/806\n",
      "INFO:utils:414/806\n",
      "INFO:utils:620/806\n"
     ]
    },
    {
     "name": "stdout",
     "output_type": "stream",
     "text": [
      "Plotting  2016-10-05 15:00Z\n"
     ]
    },
    {
     "name": "stderr",
     "output_type": "stream",
     "text": [
      "INFO:utils:210/806\n",
      "INFO:utils:420/806\n",
      "INFO:utils:630/806\n",
      "/richmondvol1/rusty/stompy/stompy/utils.py:660: RuntimeWarning: invalid value encountered in divide\n",
      "  return vecs / mag(vecs)[...,None]\n"
     ]
    },
    {
     "name": "stdout",
     "output_type": "stream",
     "text": [
      "Plotting  2016-10-05 15:30Z\n"
     ]
    },
    {
     "name": "stderr",
     "output_type": "stream",
     "text": [
      "INFO:utils:211/806\n",
      "INFO:utils:422/806\n",
      "INFO:utils:633/806\n"
     ]
    },
    {
     "name": "stdout",
     "output_type": "stream",
     "text": [
      "Plotting  2016-10-05 16:00Z\n"
     ]
    },
    {
     "name": "stderr",
     "output_type": "stream",
     "text": [
      "INFO:utils:211/806\n",
      "INFO:utils:422/806\n",
      "INFO:utils:632/806\n",
      "/richmondvol1/rusty/stompy/stompy/utils.py:660: RuntimeWarning: invalid value encountered in divide\n",
      "  return vecs / mag(vecs)[...,None]\n"
     ]
    },
    {
     "name": "stdout",
     "output_type": "stream",
     "text": [
      "Plotting  2016-10-05 16:30Z\n"
     ]
    },
    {
     "name": "stderr",
     "output_type": "stream",
     "text": [
      "INFO:utils:210/806\n",
      "INFO:utils:420/806\n",
      "INFO:utils:629/806\n"
     ]
    },
    {
     "name": "stdout",
     "output_type": "stream",
     "text": [
      "Plotting  2016-10-05 17:00Z\n"
     ]
    },
    {
     "name": "stderr",
     "output_type": "stream",
     "text": [
      "INFO:utils:212/806\n",
      "INFO:utils:423/806\n",
      "INFO:utils:633/806\n",
      "/richmondvol1/rusty/stompy/stompy/utils.py:660: RuntimeWarning: invalid value encountered in divide\n",
      "  return vecs / mag(vecs)[...,None]\n"
     ]
    },
    {
     "name": "stdout",
     "output_type": "stream",
     "text": [
      "Plotting  2016-10-05 17:30Z\n"
     ]
    },
    {
     "name": "stderr",
     "output_type": "stream",
     "text": [
      "INFO:utils:211/806\n",
      "INFO:utils:421/806\n",
      "INFO:utils:629/806\n"
     ]
    },
    {
     "name": "stdout",
     "output_type": "stream",
     "text": [
      "Plotting  2016-10-05 18:00Z\n"
     ]
    },
    {
     "name": "stderr",
     "output_type": "stream",
     "text": [
      "INFO:utils:211/806\n",
      "INFO:utils:422/806\n",
      "INFO:utils:631/806\n",
      "/richmondvol1/rusty/stompy/stompy/utils.py:660: RuntimeWarning: invalid value encountered in divide\n",
      "  return vecs / mag(vecs)[...,None]\n"
     ]
    },
    {
     "name": "stdout",
     "output_type": "stream",
     "text": [
      "Plotting  2016-10-05 18:30Z\n"
     ]
    },
    {
     "name": "stderr",
     "output_type": "stream",
     "text": [
      "INFO:utils:211/806\n",
      "INFO:utils:420/806\n",
      "INFO:utils:628/806\n"
     ]
    },
    {
     "name": "stdout",
     "output_type": "stream",
     "text": [
      "Plotting  2016-10-05 19:00Z\n"
     ]
    },
    {
     "name": "stderr",
     "output_type": "stream",
     "text": [
      "INFO:utils:210/806\n",
      "INFO:utils:420/806\n",
      "INFO:utils:628/806\n",
      "/richmondvol1/rusty/stompy/stompy/utils.py:660: RuntimeWarning: invalid value encountered in divide\n",
      "  return vecs / mag(vecs)[...,None]\n"
     ]
    },
    {
     "name": "stdout",
     "output_type": "stream",
     "text": [
      "Plotting  2016-10-05 19:30Z\n"
     ]
    },
    {
     "name": "stderr",
     "output_type": "stream",
     "text": [
      "INFO:utils:207/806\n",
      "INFO:utils:414/806\n",
      "INFO:utils:619/806\n"
     ]
    },
    {
     "name": "stdout",
     "output_type": "stream",
     "text": [
      "Plotting  2016-10-05 20:00Z\n"
     ]
    },
    {
     "name": "stderr",
     "output_type": "stream",
     "text": [
      "INFO:utils:207/806\n",
      "INFO:utils:415/806\n",
      "INFO:utils:621/806\n",
      "/richmondvol1/rusty/stompy/stompy/utils.py:660: RuntimeWarning: invalid value encountered in divide\n",
      "  return vecs / mag(vecs)[...,None]\n"
     ]
    },
    {
     "name": "stdout",
     "output_type": "stream",
     "text": [
      "Plotting  2016-10-05 20:30Z\n"
     ]
    },
    {
     "name": "stderr",
     "output_type": "stream",
     "text": [
      "INFO:utils:208/806\n",
      "INFO:utils:417/806\n",
      "INFO:utils:625/806\n"
     ]
    },
    {
     "name": "stdout",
     "output_type": "stream",
     "text": [
      "Plotting  2016-10-05 21:00Z\n"
     ]
    },
    {
     "name": "stderr",
     "output_type": "stream",
     "text": [
      "INFO:utils:211/806\n",
      "INFO:utils:422/806\n",
      "INFO:utils:633/806\n",
      "/richmondvol1/rusty/stompy/stompy/utils.py:660: RuntimeWarning: invalid value encountered in divide\n",
      "  return vecs / mag(vecs)[...,None]\n"
     ]
    },
    {
     "name": "stdout",
     "output_type": "stream",
     "text": [
      "Plotting  2016-10-05 21:30Z\n"
     ]
    },
    {
     "name": "stderr",
     "output_type": "stream",
     "text": [
      "INFO:utils:213/806\n",
      "INFO:utils:426/806\n",
      "INFO:utils:638/806\n"
     ]
    },
    {
     "name": "stdout",
     "output_type": "stream",
     "text": [
      "Plotting  2016-10-05 22:00Z\n"
     ]
    },
    {
     "name": "stderr",
     "output_type": "stream",
     "text": [
      "INFO:utils:213/806\n",
      "INFO:utils:426/806\n",
      "INFO:utils:635/806\n",
      "/richmondvol1/rusty/stompy/stompy/utils.py:660: RuntimeWarning: invalid value encountered in divide\n",
      "  return vecs / mag(vecs)[...,None]\n"
     ]
    },
    {
     "name": "stdout",
     "output_type": "stream",
     "text": [
      "Plotting  2016-10-05 22:30Z\n"
     ]
    },
    {
     "name": "stderr",
     "output_type": "stream",
     "text": [
      "INFO:utils:212/806\n",
      "INFO:utils:424/806\n",
      "INFO:utils:635/806\n"
     ]
    },
    {
     "name": "stdout",
     "output_type": "stream",
     "text": [
      "Plotting  2016-10-05 23:00Z\n"
     ]
    },
    {
     "name": "stderr",
     "output_type": "stream",
     "text": [
      "INFO:utils:212/806\n",
      "INFO:utils:423/806\n",
      "INFO:utils:633/806\n",
      "/richmondvol1/rusty/stompy/stompy/utils.py:660: RuntimeWarning: invalid value encountered in divide\n",
      "  return vecs / mag(vecs)[...,None]\n"
     ]
    },
    {
     "name": "stdout",
     "output_type": "stream",
     "text": [
      "Plotting  2016-10-05 23:30Z\n"
     ]
    },
    {
     "name": "stderr",
     "output_type": "stream",
     "text": [
      "INFO:utils:210/806\n",
      "INFO:utils:420/806\n",
      "INFO:utils:628/806\n"
     ]
    },
    {
     "name": "stdout",
     "output_type": "stream",
     "text": [
      "Plotting  2016-10-06 00:00Z\n"
     ]
    },
    {
     "name": "stderr",
     "output_type": "stream",
     "text": [
      "INFO:utils:208/806\n",
      "INFO:utils:416/806\n",
      "INFO:utils:622/806\n",
      "/richmondvol1/rusty/stompy/stompy/utils.py:660: RuntimeWarning: invalid value encountered in divide\n",
      "  return vecs / mag(vecs)[...,None]\n"
     ]
    },
    {
     "name": "stdout",
     "output_type": "stream",
     "text": [
      "Plotting  2016-10-06 00:30Z\n"
     ]
    },
    {
     "name": "stderr",
     "output_type": "stream",
     "text": [
      "INFO:utils:205/806\n",
      "INFO:utils:410/806\n",
      "INFO:utils:614/806\n"
     ]
    },
    {
     "name": "stdout",
     "output_type": "stream",
     "text": [
      "Plotting  2016-10-06 01:00Z\n"
     ]
    },
    {
     "name": "stderr",
     "output_type": "stream",
     "text": [
      "INFO:utils:206/806\n",
      "INFO:utils:412/806\n",
      "INFO:utils:616/806\n",
      "/richmondvol1/rusty/stompy/stompy/utils.py:660: RuntimeWarning: invalid value encountered in divide\n",
      "  return vecs / mag(vecs)[...,None]\n"
     ]
    },
    {
     "name": "stdout",
     "output_type": "stream",
     "text": [
      "Plotting  2016-10-06 01:30Z\n"
     ]
    },
    {
     "name": "stderr",
     "output_type": "stream",
     "text": [
      "INFO:utils:210/806\n",
      "INFO:utils:419/806\n",
      "INFO:utils:626/806\n"
     ]
    },
    {
     "name": "stdout",
     "output_type": "stream",
     "text": [
      "Plotting  2016-10-06 02:00Z\n"
     ]
    },
    {
     "name": "stderr",
     "output_type": "stream",
     "text": [
      "INFO:utils:210/806\n",
      "INFO:utils:421/806\n",
      "INFO:utils:630/806\n",
      "/richmondvol1/rusty/stompy/stompy/utils.py:660: RuntimeWarning: invalid value encountered in divide\n",
      "  return vecs / mag(vecs)[...,None]\n"
     ]
    },
    {
     "name": "stdout",
     "output_type": "stream",
     "text": [
      "Plotting  2016-10-06 02:30Z\n"
     ]
    },
    {
     "name": "stderr",
     "output_type": "stream",
     "text": [
      "INFO:utils:210/806\n",
      "INFO:utils:421/806\n",
      "INFO:utils:630/806\n"
     ]
    },
    {
     "name": "stdout",
     "output_type": "stream",
     "text": [
      "Plotting  2016-10-06 03:00Z\n"
     ]
    },
    {
     "name": "stderr",
     "output_type": "stream",
     "text": [
      "INFO:utils:212/806\n",
      "INFO:utils:424/806\n",
      "INFO:utils:635/806\n",
      "/richmondvol1/rusty/stompy/stompy/utils.py:660: RuntimeWarning: invalid value encountered in divide\n",
      "  return vecs / mag(vecs)[...,None]\n"
     ]
    },
    {
     "name": "stdout",
     "output_type": "stream",
     "text": [
      "Plotting  2016-10-06 03:30Z\n"
     ]
    },
    {
     "name": "stderr",
     "output_type": "stream",
     "text": [
      "INFO:utils:212/806\n",
      "INFO:utils:413/806\n",
      "INFO:utils:617/806\n"
     ]
    },
    {
     "name": "stdout",
     "output_type": "stream",
     "text": [
      "Plotting  2016-10-06 04:00Z\n"
     ]
    },
    {
     "name": "stderr",
     "output_type": "stream",
     "text": [
      "INFO:utils:207/806\n",
      "INFO:utils:418/806\n",
      "INFO:utils:629/806\n",
      "/richmondvol1/rusty/stompy/stompy/utils.py:660: RuntimeWarning: invalid value encountered in divide\n",
      "  return vecs / mag(vecs)[...,None]\n"
     ]
    },
    {
     "name": "stdout",
     "output_type": "stream",
     "text": [
      "Plotting  2016-10-06 04:30Z\n"
     ]
    },
    {
     "name": "stderr",
     "output_type": "stream",
     "text": [
      "INFO:utils:207/806\n",
      "INFO:utils:419/806\n",
      "INFO:utils:631/806\n"
     ]
    },
    {
     "name": "stdout",
     "output_type": "stream",
     "text": [
      "Plotting  2016-10-06 05:00Z\n"
     ]
    },
    {
     "name": "stderr",
     "output_type": "stream",
     "text": [
      "INFO:utils:206/806\n",
      "INFO:utils:412/806\n",
      "INFO:utils:617/806\n",
      "/richmondvol1/rusty/stompy/stompy/utils.py:660: RuntimeWarning: invalid value encountered in divide\n",
      "  return vecs / mag(vecs)[...,None]\n"
     ]
    },
    {
     "name": "stdout",
     "output_type": "stream",
     "text": [
      "Plotting  2016-10-06 05:30Z\n"
     ]
    },
    {
     "name": "stderr",
     "output_type": "stream",
     "text": [
      "INFO:utils:210/806\n",
      "INFO:utils:419/806\n",
      "INFO:utils:627/806\n"
     ]
    },
    {
     "name": "stdout",
     "output_type": "stream",
     "text": [
      "Plotting  2016-10-06 06:00Z\n"
     ]
    },
    {
     "name": "stderr",
     "output_type": "stream",
     "text": [
      "INFO:utils:202/806\n",
      "INFO:utils:389/806\n",
      "INFO:utils:581/806\n",
      "INFO:utils:786/806\n",
      "/richmondvol1/rusty/stompy/stompy/utils.py:660: RuntimeWarning: invalid value encountered in divide\n",
      "  return vecs / mag(vecs)[...,None]\n"
     ]
    },
    {
     "name": "stdout",
     "output_type": "stream",
     "text": [
      "Plotting  2016-10-06 06:30Z\n"
     ]
    },
    {
     "name": "stderr",
     "output_type": "stream",
     "text": [
      "INFO:utils:207/806\n",
      "INFO:utils:416/806\n",
      "INFO:utils:623/806\n"
     ]
    },
    {
     "name": "stdout",
     "output_type": "stream",
     "text": [
      "Plotting  2016-10-06 07:00Z\n"
     ]
    },
    {
     "name": "stderr",
     "output_type": "stream",
     "text": [
      "INFO:utils:210/806\n",
      "INFO:utils:419/806\n",
      "INFO:utils:626/806\n",
      "/richmondvol1/rusty/stompy/stompy/utils.py:660: RuntimeWarning: invalid value encountered in divide\n",
      "  return vecs / mag(vecs)[...,None]\n"
     ]
    },
    {
     "name": "stdout",
     "output_type": "stream",
     "text": [
      "Plotting  2016-10-06 07:30Z\n"
     ]
    },
    {
     "name": "stderr",
     "output_type": "stream",
     "text": [
      "INFO:utils:210/806\n",
      "INFO:utils:420/806\n",
      "INFO:utils:628/806\n"
     ]
    },
    {
     "name": "stdout",
     "output_type": "stream",
     "text": [
      "Plotting  2016-10-06 08:00Z\n"
     ]
    },
    {
     "name": "stderr",
     "output_type": "stream",
     "text": [
      "INFO:utils:210/806\n",
      "INFO:utils:420/806\n",
      "INFO:utils:628/806\n",
      "/richmondvol1/rusty/stompy/stompy/utils.py:660: RuntimeWarning: invalid value encountered in divide\n",
      "  return vecs / mag(vecs)[...,None]\n"
     ]
    },
    {
     "name": "stdout",
     "output_type": "stream",
     "text": [
      "Plotting  2016-10-06 08:30Z\n"
     ]
    },
    {
     "name": "stderr",
     "output_type": "stream",
     "text": [
      "INFO:utils:211/806\n",
      "INFO:utils:422/806\n",
      "INFO:utils:622/806\n"
     ]
    },
    {
     "name": "stdout",
     "output_type": "stream",
     "text": [
      "Plotting  2016-10-06 09:00Z\n"
     ]
    },
    {
     "name": "stderr",
     "output_type": "stream",
     "text": [
      "INFO:utils:205/806\n",
      "INFO:utils:413/806\n",
      "INFO:utils:622/806\n",
      "/richmondvol1/rusty/stompy/stompy/utils.py:660: RuntimeWarning: invalid value encountered in divide\n",
      "  return vecs / mag(vecs)[...,None]\n"
     ]
    },
    {
     "name": "stdout",
     "output_type": "stream",
     "text": [
      "Plotting  2016-10-06 09:30Z\n"
     ]
    },
    {
     "name": "stderr",
     "output_type": "stream",
     "text": [
      "INFO:utils:212/806\n",
      "INFO:utils:424/806\n",
      "INFO:utils:635/806\n"
     ]
    },
    {
     "name": "stdout",
     "output_type": "stream",
     "text": [
      "Plotting  2016-10-06 10:00Z\n"
     ]
    },
    {
     "name": "stderr",
     "output_type": "stream",
     "text": [
      "INFO:utils:207/806\n",
      "INFO:utils:414/806\n",
      "INFO:utils:621/806\n",
      "/richmondvol1/rusty/stompy/stompy/utils.py:660: RuntimeWarning: invalid value encountered in divide\n",
      "  return vecs / mag(vecs)[...,None]\n"
     ]
    },
    {
     "name": "stdout",
     "output_type": "stream",
     "text": [
      "Plotting  2016-10-06 10:30Z\n"
     ]
    },
    {
     "name": "stderr",
     "output_type": "stream",
     "text": [
      "INFO:utils:210/806\n",
      "INFO:utils:421/806\n",
      "INFO:utils:631/806\n"
     ]
    },
    {
     "name": "stdout",
     "output_type": "stream",
     "text": [
      "Plotting  2016-10-06 11:00Z\n"
     ]
    },
    {
     "name": "stderr",
     "output_type": "stream",
     "text": [
      "INFO:utils:210/806\n",
      "INFO:utils:420/806\n",
      "INFO:utils:630/806\n",
      "/richmondvol1/rusty/stompy/stompy/utils.py:660: RuntimeWarning: invalid value encountered in divide\n",
      "  return vecs / mag(vecs)[...,None]\n"
     ]
    },
    {
     "name": "stdout",
     "output_type": "stream",
     "text": [
      "Plotting  2016-10-06 11:30Z\n"
     ]
    },
    {
     "name": "stderr",
     "output_type": "stream",
     "text": [
      "INFO:utils:210/806\n",
      "INFO:utils:420/806\n",
      "INFO:utils:630/806\n"
     ]
    },
    {
     "name": "stdout",
     "output_type": "stream",
     "text": [
      "Plotting  2016-10-06 12:00Z\n"
     ]
    },
    {
     "name": "stderr",
     "output_type": "stream",
     "text": [
      "INFO:utils:209/806\n",
      "INFO:utils:418/806\n",
      "INFO:utils:628/806\n",
      "/richmondvol1/rusty/stompy/stompy/utils.py:660: RuntimeWarning: invalid value encountered in divide\n",
      "  return vecs / mag(vecs)[...,None]\n"
     ]
    },
    {
     "name": "stdout",
     "output_type": "stream",
     "text": [
      "Plotting  2016-10-06 12:30Z\n"
     ]
    },
    {
     "name": "stderr",
     "output_type": "stream",
     "text": [
      "INFO:utils:211/806\n",
      "INFO:utils:422/806\n",
      "INFO:utils:633/806\n"
     ]
    },
    {
     "name": "stdout",
     "output_type": "stream",
     "text": [
      "Plotting  2016-10-06 13:00Z\n"
     ]
    },
    {
     "name": "stderr",
     "output_type": "stream",
     "text": [
      "INFO:utils:209/806\n",
      "INFO:utils:419/806\n",
      "INFO:utils:628/806\n",
      "/richmondvol1/rusty/stompy/stompy/utils.py:660: RuntimeWarning: invalid value encountered in divide\n",
      "  return vecs / mag(vecs)[...,None]\n"
     ]
    },
    {
     "name": "stdout",
     "output_type": "stream",
     "text": [
      "Plotting  2016-10-06 13:30Z\n"
     ]
    },
    {
     "name": "stderr",
     "output_type": "stream",
     "text": [
      "INFO:utils:211/806\n",
      "INFO:utils:422/806\n",
      "INFO:utils:632/806\n"
     ]
    },
    {
     "name": "stdout",
     "output_type": "stream",
     "text": [
      "Plotting  2016-10-06 14:00Z\n"
     ]
    },
    {
     "name": "stderr",
     "output_type": "stream",
     "text": [
      "INFO:utils:211/806\n",
      "INFO:utils:423/806\n",
      "INFO:utils:633/806\n",
      "/richmondvol1/rusty/stompy/stompy/utils.py:660: RuntimeWarning: invalid value encountered in divide\n",
      "  return vecs / mag(vecs)[...,None]\n"
     ]
    },
    {
     "name": "stdout",
     "output_type": "stream",
     "text": [
      "Plotting  2016-10-06 14:30Z\n"
     ]
    },
    {
     "name": "stderr",
     "output_type": "stream",
     "text": [
      "INFO:utils:210/806\n",
      "INFO:utils:420/806\n",
      "INFO:utils:630/806\n"
     ]
    },
    {
     "name": "stdout",
     "output_type": "stream",
     "text": [
      "Plotting  2016-10-06 15:00Z\n"
     ]
    },
    {
     "name": "stderr",
     "output_type": "stream",
     "text": [
      "INFO:utils:210/806\n",
      "INFO:utils:420/806\n",
      "INFO:utils:629/806\n",
      "/richmondvol1/rusty/stompy/stompy/utils.py:660: RuntimeWarning: invalid value encountered in divide\n",
      "  return vecs / mag(vecs)[...,None]\n"
     ]
    },
    {
     "name": "stdout",
     "output_type": "stream",
     "text": [
      "Plotting  2016-10-06 15:30Z\n"
     ]
    },
    {
     "name": "stderr",
     "output_type": "stream",
     "text": [
      "INFO:utils:211/806\n",
      "INFO:utils:422/806\n",
      "INFO:utils:633/806\n"
     ]
    },
    {
     "name": "stdout",
     "output_type": "stream",
     "text": [
      "Plotting  2016-10-06 16:00Z\n"
     ]
    },
    {
     "name": "stderr",
     "output_type": "stream",
     "text": [
      "INFO:utils:212/806\n",
      "INFO:utils:424/806\n",
      "INFO:utils:636/806\n",
      "/richmondvol1/rusty/stompy/stompy/utils.py:660: RuntimeWarning: invalid value encountered in divide\n",
      "  return vecs / mag(vecs)[...,None]\n"
     ]
    },
    {
     "name": "stdout",
     "output_type": "stream",
     "text": [
      "Plotting  2016-10-06 16:30Z\n"
     ]
    },
    {
     "name": "stderr",
     "output_type": "stream",
     "text": [
      "INFO:utils:211/806\n",
      "INFO:utils:422/806\n",
      "INFO:utils:633/806\n"
     ]
    },
    {
     "name": "stdout",
     "output_type": "stream",
     "text": [
      "Plotting  2016-10-06 17:00Z\n"
     ]
    },
    {
     "name": "stderr",
     "output_type": "stream",
     "text": [
      "INFO:utils:211/806\n",
      "INFO:utils:422/806\n",
      "INFO:utils:632/806\n",
      "/richmondvol1/rusty/stompy/stompy/utils.py:660: RuntimeWarning: invalid value encountered in divide\n",
      "  return vecs / mag(vecs)[...,None]\n"
     ]
    },
    {
     "name": "stdout",
     "output_type": "stream",
     "text": [
      "Plotting  2016-10-06 17:30Z\n"
     ]
    },
    {
     "name": "stderr",
     "output_type": "stream",
     "text": [
      "INFO:utils:209/806\n",
      "INFO:utils:418/806\n",
      "INFO:utils:625/806\n"
     ]
    },
    {
     "name": "stdout",
     "output_type": "stream",
     "text": [
      "Plotting  2016-10-06 18:00Z\n"
     ]
    },
    {
     "name": "stderr",
     "output_type": "stream",
     "text": [
      "INFO:utils:212/806\n",
      "INFO:utils:424/806\n",
      "INFO:utils:634/806\n",
      "/richmondvol1/rusty/stompy/stompy/utils.py:660: RuntimeWarning: invalid value encountered in divide\n",
      "  return vecs / mag(vecs)[...,None]\n"
     ]
    },
    {
     "name": "stdout",
     "output_type": "stream",
     "text": [
      "Plotting  2016-10-06 18:30Z\n"
     ]
    },
    {
     "name": "stderr",
     "output_type": "stream",
     "text": [
      "INFO:utils:210/806\n",
      "INFO:utils:419/806\n",
      "INFO:utils:627/806\n"
     ]
    },
    {
     "name": "stdout",
     "output_type": "stream",
     "text": [
      "Plotting  2016-10-06 19:00Z\n"
     ]
    },
    {
     "name": "stderr",
     "output_type": "stream",
     "text": [
      "INFO:utils:210/806\n",
      "INFO:utils:419/806\n",
      "INFO:utils:626/806\n",
      "/richmondvol1/rusty/stompy/stompy/utils.py:660: RuntimeWarning: invalid value encountered in divide\n",
      "  return vecs / mag(vecs)[...,None]\n"
     ]
    },
    {
     "name": "stdout",
     "output_type": "stream",
     "text": [
      "Plotting  2016-10-06 19:30Z\n"
     ]
    },
    {
     "name": "stderr",
     "output_type": "stream",
     "text": [
      "INFO:utils:208/806\n",
      "INFO:utils:416/806\n",
      "INFO:utils:622/806\n"
     ]
    },
    {
     "name": "stdout",
     "output_type": "stream",
     "text": [
      "Plotting  2016-10-06 20:00Z\n"
     ]
    },
    {
     "name": "stderr",
     "output_type": "stream",
     "text": [
      "INFO:utils:209/806\n",
      "INFO:utils:419/806\n",
      "INFO:utils:626/806\n",
      "/richmondvol1/rusty/stompy/stompy/utils.py:660: RuntimeWarning: invalid value encountered in divide\n",
      "  return vecs / mag(vecs)[...,None]\n"
     ]
    },
    {
     "name": "stdout",
     "output_type": "stream",
     "text": [
      "Plotting  2016-10-06 20:30Z\n"
     ]
    },
    {
     "name": "stderr",
     "output_type": "stream",
     "text": [
      "INFO:utils:209/806\n",
      "INFO:utils:419/806\n",
      "INFO:utils:627/806\n"
     ]
    },
    {
     "name": "stdout",
     "output_type": "stream",
     "text": [
      "Plotting  2016-10-06 21:00Z\n"
     ]
    },
    {
     "name": "stderr",
     "output_type": "stream",
     "text": [
      "INFO:utils:210/806\n",
      "INFO:utils:395/806\n",
      "INFO:utils:587/806\n",
      "INFO:utils:787/806\n",
      "/richmondvol1/rusty/stompy/stompy/utils.py:660: RuntimeWarning: invalid value encountered in divide\n",
      "  return vecs / mag(vecs)[...,None]\n"
     ]
    },
    {
     "name": "stdout",
     "output_type": "stream",
     "text": [
      "Plotting  2016-10-06 21:30Z\n"
     ]
    },
    {
     "name": "stderr",
     "output_type": "stream",
     "text": [
      "INFO:utils:207/806\n",
      "INFO:utils:416/806\n",
      "INFO:utils:625/806\n"
     ]
    },
    {
     "name": "stdout",
     "output_type": "stream",
     "text": [
      "Plotting  2016-10-06 22:00Z\n"
     ]
    },
    {
     "name": "stderr",
     "output_type": "stream",
     "text": [
      "INFO:utils:211/806\n",
      "INFO:utils:422/806\n",
      "INFO:utils:633/806\n",
      "/richmondvol1/rusty/stompy/stompy/utils.py:660: RuntimeWarning: invalid value encountered in divide\n",
      "  return vecs / mag(vecs)[...,None]\n"
     ]
    },
    {
     "name": "stdout",
     "output_type": "stream",
     "text": [
      "Plotting  2016-10-06 22:30Z\n"
     ]
    },
    {
     "name": "stderr",
     "output_type": "stream",
     "text": [
      "INFO:utils:211/806\n",
      "INFO:utils:422/806\n",
      "INFO:utils:633/806\n"
     ]
    },
    {
     "name": "stdout",
     "output_type": "stream",
     "text": [
      "Plotting  2016-10-06 23:00Z\n"
     ]
    },
    {
     "name": "stderr",
     "output_type": "stream",
     "text": [
      "INFO:utils:211/806\n",
      "INFO:utils:422/806\n",
      "INFO:utils:632/806\n",
      "/richmondvol1/rusty/stompy/stompy/utils.py:660: RuntimeWarning: invalid value encountered in divide\n",
      "  return vecs / mag(vecs)[...,None]\n"
     ]
    },
    {
     "name": "stdout",
     "output_type": "stream",
     "text": [
      "Plotting  2016-10-06 23:30Z\n"
     ]
    },
    {
     "name": "stderr",
     "output_type": "stream",
     "text": [
      "INFO:utils:210/806\n",
      "INFO:utils:420/806\n",
      "INFO:utils:629/806\n"
     ]
    },
    {
     "name": "stdout",
     "output_type": "stream",
     "text": [
      "Plotting  2016-10-07 00:00Z\n"
     ]
    },
    {
     "name": "stderr",
     "output_type": "stream",
     "text": [
      "INFO:utils:209/806\n",
      "INFO:utils:419/806\n",
      "INFO:utils:627/806\n",
      "/richmondvol1/rusty/stompy/stompy/utils.py:660: RuntimeWarning: invalid value encountered in divide\n",
      "  return vecs / mag(vecs)[...,None]\n"
     ]
    },
    {
     "name": "stdout",
     "output_type": "stream",
     "text": [
      "Plotting  2016-10-07 00:30Z\n"
     ]
    },
    {
     "name": "stderr",
     "output_type": "stream",
     "text": [
      "INFO:utils:205/806\n",
      "INFO:utils:410/806\n",
      "INFO:utils:613/806\n"
     ]
    },
    {
     "name": "stdout",
     "output_type": "stream",
     "text": [
      "Plotting  2016-10-07 01:00Z\n"
     ]
    },
    {
     "name": "stderr",
     "output_type": "stream",
     "text": [
      "INFO:utils:208/806\n",
      "INFO:utils:416/806\n",
      "INFO:utils:622/806\n",
      "/richmondvol1/rusty/stompy/stompy/utils.py:660: RuntimeWarning: invalid value encountered in divide\n",
      "  return vecs / mag(vecs)[...,None]\n"
     ]
    },
    {
     "name": "stdout",
     "output_type": "stream",
     "text": [
      "Plotting  2016-10-07 01:30Z\n"
     ]
    },
    {
     "name": "stderr",
     "output_type": "stream",
     "text": [
      "INFO:utils:208/806\n",
      "INFO:utils:416/806\n",
      "INFO:utils:623/806\n"
     ]
    },
    {
     "name": "stdout",
     "output_type": "stream",
     "text": [
      "Plotting  2016-10-07 02:00Z\n"
     ]
    },
    {
     "name": "stderr",
     "output_type": "stream",
     "text": [
      "INFO:utils:209/806\n",
      "INFO:utils:418/806\n",
      "INFO:utils:625/806\n",
      "/richmondvol1/rusty/stompy/stompy/utils.py:660: RuntimeWarning: invalid value encountered in divide\n",
      "  return vecs / mag(vecs)[...,None]\n"
     ]
    },
    {
     "name": "stdout",
     "output_type": "stream",
     "text": [
      "Plotting  2016-10-07 02:30Z\n"
     ]
    },
    {
     "name": "stderr",
     "output_type": "stream",
     "text": [
      "INFO:utils:209/806\n",
      "INFO:utils:419/806\n",
      "INFO:utils:627/806\n"
     ]
    },
    {
     "name": "stdout",
     "output_type": "stream",
     "text": [
      "Plotting  2016-10-07 03:00Z\n"
     ]
    },
    {
     "name": "stderr",
     "output_type": "stream",
     "text": [
      "INFO:utils:191/806\n",
      "INFO:utils:382/806\n",
      "INFO:utils:583/806\n",
      "INFO:utils:784/806\n",
      "/richmondvol1/rusty/stompy/stompy/utils.py:660: RuntimeWarning: invalid value encountered in divide\n",
      "  return vecs / mag(vecs)[...,None]\n"
     ]
    },
    {
     "name": "stdout",
     "output_type": "stream",
     "text": [
      "Plotting  2016-10-07 03:30Z\n"
     ]
    },
    {
     "name": "stderr",
     "output_type": "stream",
     "text": [
      "INFO:utils:208/806\n",
      "INFO:utils:417/806\n",
      "INFO:utils:626/806\n"
     ]
    },
    {
     "name": "stdout",
     "output_type": "stream",
     "text": [
      "Plotting  2016-10-07 04:00Z\n"
     ]
    },
    {
     "name": "stderr",
     "output_type": "stream",
     "text": [
      "INFO:utils:211/806\n",
      "INFO:utils:423/806\n",
      "INFO:utils:633/806\n",
      "/richmondvol1/rusty/stompy/stompy/utils.py:660: RuntimeWarning: invalid value encountered in divide\n",
      "  return vecs / mag(vecs)[...,None]\n"
     ]
    },
    {
     "name": "stdout",
     "output_type": "stream",
     "text": [
      "Plotting  2016-10-07 04:30Z\n"
     ]
    },
    {
     "name": "stderr",
     "output_type": "stream",
     "text": [
      "INFO:utils:209/806\n",
      "INFO:utils:418/806\n",
      "INFO:utils:626/806\n"
     ]
    },
    {
     "name": "stdout",
     "output_type": "stream",
     "text": [
      "Plotting  2016-10-07 05:00Z\n"
     ]
    },
    {
     "name": "stderr",
     "output_type": "stream",
     "text": [
      "INFO:utils:201/806\n",
      "INFO:utils:411/806\n",
      "INFO:utils:621/806\n",
      "/richmondvol1/rusty/stompy/stompy/utils.py:660: RuntimeWarning: invalid value encountered in divide\n",
      "  return vecs / mag(vecs)[...,None]\n"
     ]
    },
    {
     "name": "stdout",
     "output_type": "stream",
     "text": [
      "Plotting  2016-10-07 05:30Z\n"
     ]
    },
    {
     "name": "stderr",
     "output_type": "stream",
     "text": [
      "INFO:utils:207/806\n",
      "INFO:utils:414/806\n",
      "INFO:utils:621/806\n"
     ]
    },
    {
     "name": "stdout",
     "output_type": "stream",
     "text": [
      "Plotting  2016-10-07 06:00Z\n"
     ]
    },
    {
     "name": "stderr",
     "output_type": "stream",
     "text": [
      "INFO:utils:208/806\n",
      "INFO:utils:418/806\n",
      "INFO:utils:627/806\n",
      "/richmondvol1/rusty/stompy/stompy/utils.py:660: RuntimeWarning: invalid value encountered in divide\n",
      "  return vecs / mag(vecs)[...,None]\n"
     ]
    },
    {
     "name": "stdout",
     "output_type": "stream",
     "text": [
      "Plotting  2016-10-07 06:30Z\n"
     ]
    },
    {
     "name": "stderr",
     "output_type": "stream",
     "text": [
      "INFO:utils:208/806\n",
      "INFO:utils:418/806\n",
      "INFO:utils:626/806\n"
     ]
    },
    {
     "name": "stdout",
     "output_type": "stream",
     "text": [
      "Plotting  2016-10-07 07:00Z\n"
     ]
    },
    {
     "name": "stderr",
     "output_type": "stream",
     "text": [
      "INFO:utils:210/806\n",
      "INFO:utils:419/806\n",
      "INFO:utils:626/806\n",
      "/richmondvol1/rusty/stompy/stompy/utils.py:660: RuntimeWarning: invalid value encountered in divide\n",
      "  return vecs / mag(vecs)[...,None]\n"
     ]
    },
    {
     "name": "stdout",
     "output_type": "stream",
     "text": [
      "Plotting  2016-10-07 07:30Z\n"
     ]
    },
    {
     "name": "stderr",
     "output_type": "stream",
     "text": [
      "INFO:utils:206/806\n",
      "INFO:utils:415/806\n",
      "INFO:utils:622/806\n"
     ]
    },
    {
     "name": "stdout",
     "output_type": "stream",
     "text": [
      "Plotting  2016-10-07 08:00Z\n"
     ]
    },
    {
     "name": "stderr",
     "output_type": "stream",
     "text": [
      "INFO:utils:209/806\n",
      "INFO:utils:418/806\n",
      "INFO:utils:624/806\n",
      "/richmondvol1/rusty/stompy/stompy/utils.py:660: RuntimeWarning: invalid value encountered in divide\n",
      "  return vecs / mag(vecs)[...,None]\n"
     ]
    },
    {
     "name": "stdout",
     "output_type": "stream",
     "text": [
      "Plotting  2016-10-07 08:30Z\n"
     ]
    },
    {
     "name": "stderr",
     "output_type": "stream",
     "text": [
      "INFO:utils:207/806\n",
      "INFO:utils:416/806\n",
      "INFO:utils:623/806\n"
     ]
    },
    {
     "name": "stdout",
     "output_type": "stream",
     "text": [
      "Plotting  2016-10-07 09:00Z\n"
     ]
    },
    {
     "name": "stderr",
     "output_type": "stream",
     "text": [
      "INFO:utils:208/806\n",
      "INFO:utils:419/806\n",
      "INFO:utils:628/806\n",
      "/richmondvol1/rusty/stompy/stompy/utils.py:660: RuntimeWarning: invalid value encountered in divide\n",
      "  return vecs / mag(vecs)[...,None]\n"
     ]
    },
    {
     "name": "stdout",
     "output_type": "stream",
     "text": [
      "Plotting  2016-10-07 09:30Z\n"
     ]
    },
    {
     "name": "stderr",
     "output_type": "stream",
     "text": [
      "INFO:utils:212/806\n",
      "INFO:utils:424/806\n",
      "INFO:utils:634/806\n"
     ]
    },
    {
     "name": "stdout",
     "output_type": "stream",
     "text": [
      "Plotting  2016-10-07 10:00Z\n"
     ]
    },
    {
     "name": "stderr",
     "output_type": "stream",
     "text": [
      "INFO:utils:209/806\n",
      "INFO:utils:417/806\n",
      "INFO:utils:625/806\n",
      "/richmondvol1/rusty/stompy/stompy/utils.py:660: RuntimeWarning: invalid value encountered in divide\n",
      "  return vecs / mag(vecs)[...,None]\n"
     ]
    },
    {
     "name": "stdout",
     "output_type": "stream",
     "text": [
      "Plotting  2016-10-07 10:30Z\n"
     ]
    },
    {
     "name": "stderr",
     "output_type": "stream",
     "text": [
      "INFO:utils:210/806\n",
      "INFO:utils:420/806\n",
      "INFO:utils:629/806\n"
     ]
    },
    {
     "name": "stdout",
     "output_type": "stream",
     "text": [
      "Plotting  2016-10-07 11:00Z\n"
     ]
    },
    {
     "name": "stderr",
     "output_type": "stream",
     "text": [
      "INFO:utils:211/806\n",
      "INFO:utils:422/806\n",
      "INFO:utils:632/806\n",
      "/richmondvol1/rusty/stompy/stompy/utils.py:660: RuntimeWarning: invalid value encountered in divide\n",
      "  return vecs / mag(vecs)[...,None]\n"
     ]
    },
    {
     "name": "stdout",
     "output_type": "stream",
     "text": [
      "Plotting  2016-10-07 11:30Z\n"
     ]
    },
    {
     "name": "stderr",
     "output_type": "stream",
     "text": [
      "INFO:utils:211/806\n",
      "INFO:utils:422/806\n",
      "INFO:utils:633/806\n"
     ]
    },
    {
     "name": "stdout",
     "output_type": "stream",
     "text": [
      "Plotting  2016-10-07 12:00Z\n"
     ]
    },
    {
     "name": "stderr",
     "output_type": "stream",
     "text": [
      "INFO:utils:211/806\n",
      "INFO:utils:423/806\n",
      "INFO:utils:635/806\n",
      "/richmondvol1/rusty/stompy/stompy/utils.py:660: RuntimeWarning: invalid value encountered in divide\n",
      "  return vecs / mag(vecs)[...,None]\n"
     ]
    },
    {
     "name": "stdout",
     "output_type": "stream",
     "text": [
      "Plotting  2016-10-07 12:30Z\n"
     ]
    },
    {
     "name": "stderr",
     "output_type": "stream",
     "text": [
      "INFO:utils:212/806\n",
      "INFO:utils:424/806\n",
      "INFO:utils:636/806\n"
     ]
    },
    {
     "name": "stdout",
     "output_type": "stream",
     "text": [
      "Plotting  2016-10-07 13:00Z\n"
     ]
    },
    {
     "name": "stderr",
     "output_type": "stream",
     "text": [
      "INFO:utils:211/806\n",
      "INFO:utils:423/806\n",
      "INFO:utils:633/806\n",
      "/richmondvol1/rusty/stompy/stompy/utils.py:660: RuntimeWarning: invalid value encountered in divide\n",
      "  return vecs / mag(vecs)[...,None]\n"
     ]
    },
    {
     "name": "stdout",
     "output_type": "stream",
     "text": [
      "Plotting  2016-10-07 13:30Z\n"
     ]
    },
    {
     "name": "stderr",
     "output_type": "stream",
     "text": [
      "INFO:utils:211/806\n",
      "INFO:utils:422/806\n",
      "INFO:utils:632/806\n"
     ]
    },
    {
     "name": "stdout",
     "output_type": "stream",
     "text": [
      "Plotting  2016-10-07 14:00Z\n"
     ]
    },
    {
     "name": "stderr",
     "output_type": "stream",
     "text": [
      "INFO:utils:212/806\n",
      "INFO:utils:424/806\n",
      "INFO:utils:635/806\n",
      "/richmondvol1/rusty/stompy/stompy/utils.py:660: RuntimeWarning: invalid value encountered in divide\n",
      "  return vecs / mag(vecs)[...,None]\n"
     ]
    },
    {
     "name": "stdout",
     "output_type": "stream",
     "text": [
      "Plotting  2016-10-07 14:30Z\n"
     ]
    },
    {
     "name": "stderr",
     "output_type": "stream",
     "text": [
      "INFO:utils:207/806\n",
      "INFO:utils:414/806\n",
      "INFO:utils:620/806\n"
     ]
    },
    {
     "name": "stdout",
     "output_type": "stream",
     "text": [
      "Plotting  2016-10-07 15:00Z\n"
     ]
    },
    {
     "name": "stderr",
     "output_type": "stream",
     "text": [
      "INFO:utils:208/806\n",
      "INFO:utils:416/806\n",
      "INFO:utils:623/806\n",
      "/richmondvol1/rusty/stompy/stompy/utils.py:660: RuntimeWarning: invalid value encountered in divide\n",
      "  return vecs / mag(vecs)[...,None]\n"
     ]
    },
    {
     "name": "stdout",
     "output_type": "stream",
     "text": [
      "Plotting  2016-10-07 15:30Z\n"
     ]
    },
    {
     "name": "stderr",
     "output_type": "stream",
     "text": [
      "INFO:utils:210/806\n",
      "INFO:utils:420/806\n",
      "INFO:utils:629/806\n"
     ]
    },
    {
     "name": "stdout",
     "output_type": "stream",
     "text": [
      "Plotting  2016-10-07 16:00Z\n"
     ]
    },
    {
     "name": "stderr",
     "output_type": "stream",
     "text": [
      "INFO:utils:210/806\n",
      "INFO:utils:420/806\n",
      "INFO:utils:630/806\n",
      "/richmondvol1/rusty/stompy/stompy/utils.py:660: RuntimeWarning: invalid value encountered in divide\n",
      "  return vecs / mag(vecs)[...,None]\n"
     ]
    },
    {
     "name": "stdout",
     "output_type": "stream",
     "text": [
      "Plotting  2016-10-07 16:30Z\n"
     ]
    },
    {
     "name": "stderr",
     "output_type": "stream",
     "text": [
      "INFO:utils:211/806\n",
      "INFO:utils:422/806\n",
      "INFO:utils:633/806\n"
     ]
    },
    {
     "name": "stdout",
     "output_type": "stream",
     "text": [
      "Plotting  2016-10-07 17:00Z\n"
     ]
    },
    {
     "name": "stderr",
     "output_type": "stream",
     "text": [
      "INFO:utils:212/806\n",
      "INFO:utils:424/806\n",
      "INFO:utils:636/806\n",
      "/richmondvol1/rusty/stompy/stompy/utils.py:660: RuntimeWarning: invalid value encountered in divide\n",
      "  return vecs / mag(vecs)[...,None]\n"
     ]
    },
    {
     "name": "stdout",
     "output_type": "stream",
     "text": [
      "Plotting  2016-10-07 17:30Z\n"
     ]
    },
    {
     "name": "stderr",
     "output_type": "stream",
     "text": [
      "INFO:utils:212/806\n",
      "INFO:utils:424/806\n",
      "INFO:utils:636/806\n"
     ]
    },
    {
     "name": "stdout",
     "output_type": "stream",
     "text": [
      "Plotting  2016-10-07 18:00Z\n"
     ]
    },
    {
     "name": "stderr",
     "output_type": "stream",
     "text": [
      "INFO:utils:212/806\n",
      "INFO:utils:423/806\n",
      "INFO:utils:634/806\n",
      "/richmondvol1/rusty/stompy/stompy/utils.py:660: RuntimeWarning: invalid value encountered in divide\n",
      "  return vecs / mag(vecs)[...,None]\n"
     ]
    },
    {
     "name": "stdout",
     "output_type": "stream",
     "text": [
      "Plotting  2016-10-07 18:30Z\n"
     ]
    },
    {
     "name": "stderr",
     "output_type": "stream",
     "text": [
      "INFO:utils:211/806\n",
      "INFO:utils:422/806\n",
      "INFO:utils:631/806\n"
     ]
    },
    {
     "name": "stdout",
     "output_type": "stream",
     "text": [
      "Plotting  2016-10-07 19:00Z\n"
     ]
    },
    {
     "name": "stderr",
     "output_type": "stream",
     "text": [
      "INFO:utils:211/806\n",
      "INFO:utils:422/806\n",
      "INFO:utils:632/806\n",
      "/richmondvol1/rusty/stompy/stompy/utils.py:660: RuntimeWarning: invalid value encountered in divide\n",
      "  return vecs / mag(vecs)[...,None]\n"
     ]
    },
    {
     "name": "stdout",
     "output_type": "stream",
     "text": [
      "Plotting  2016-10-07 19:30Z\n"
     ]
    },
    {
     "name": "stderr",
     "output_type": "stream",
     "text": [
      "INFO:utils:209/806\n",
      "INFO:utils:418/806\n",
      "INFO:utils:625/806\n"
     ]
    },
    {
     "name": "stdout",
     "output_type": "stream",
     "text": [
      "Plotting  2016-10-07 20:00Z\n"
     ]
    },
    {
     "name": "stderr",
     "output_type": "stream",
     "text": [
      "INFO:utils:207/806\n",
      "INFO:utils:413/806\n",
      "INFO:utils:618/806\n",
      "/richmondvol1/rusty/stompy/stompy/utils.py:660: RuntimeWarning: invalid value encountered in divide\n",
      "  return vecs / mag(vecs)[...,None]\n"
     ]
    },
    {
     "name": "stdout",
     "output_type": "stream",
     "text": [
      "Plotting  2016-10-07 20:30Z\n"
     ]
    },
    {
     "name": "stderr",
     "output_type": "stream",
     "text": [
      "INFO:utils:210/806\n",
      "INFO:utils:420/806\n",
      "INFO:utils:628/806\n"
     ]
    },
    {
     "name": "stdout",
     "output_type": "stream",
     "text": [
      "Plotting  2016-10-07 21:00Z\n"
     ]
    },
    {
     "name": "stderr",
     "output_type": "stream",
     "text": [
      "INFO:utils:210/806\n",
      "INFO:utils:420/806\n",
      "INFO:utils:629/806\n",
      "/richmondvol1/rusty/stompy/stompy/utils.py:660: RuntimeWarning: invalid value encountered in divide\n",
      "  return vecs / mag(vecs)[...,None]\n"
     ]
    },
    {
     "name": "stdout",
     "output_type": "stream",
     "text": [
      "Plotting  2016-10-07 21:30Z\n"
     ]
    },
    {
     "name": "stderr",
     "output_type": "stream",
     "text": [
      "INFO:utils:211/806\n",
      "INFO:utils:422/806\n",
      "INFO:utils:631/806\n"
     ]
    },
    {
     "name": "stdout",
     "output_type": "stream",
     "text": [
      "Plotting  2016-10-07 22:00Z\n"
     ]
    },
    {
     "name": "stderr",
     "output_type": "stream",
     "text": [
      "INFO:utils:212/806\n",
      "INFO:utils:424/806\n",
      "INFO:utils:635/806\n",
      "/richmondvol1/rusty/stompy/stompy/utils.py:660: RuntimeWarning: invalid value encountered in divide\n",
      "  return vecs / mag(vecs)[...,None]\n"
     ]
    },
    {
     "name": "stdout",
     "output_type": "stream",
     "text": [
      "Plotting  2016-10-07 22:30Z\n"
     ]
    },
    {
     "name": "stderr",
     "output_type": "stream",
     "text": [
      "INFO:utils:212/806\n",
      "INFO:utils:424/806\n",
      "INFO:utils:635/806\n"
     ]
    },
    {
     "name": "stdout",
     "output_type": "stream",
     "text": [
      "Plotting  2016-10-07 23:00Z\n"
     ]
    },
    {
     "name": "stderr",
     "output_type": "stream",
     "text": [
      "INFO:utils:213/806\n",
      "INFO:utils:427/806\n",
      "INFO:utils:641/806\n",
      "/richmondvol1/rusty/stompy/stompy/utils.py:660: RuntimeWarning: invalid value encountered in divide\n",
      "  return vecs / mag(vecs)[...,None]\n"
     ]
    },
    {
     "name": "stdout",
     "output_type": "stream",
     "text": [
      "Plotting  2016-10-07 23:30Z\n"
     ]
    },
    {
     "name": "stderr",
     "output_type": "stream",
     "text": [
      "INFO:utils:213/806\n",
      "INFO:utils:427/806\n",
      "INFO:utils:640/806\n"
     ]
    },
    {
     "name": "stdout",
     "output_type": "stream",
     "text": [
      "Plotting  2016-10-08 00:00Z\n"
     ]
    },
    {
     "name": "stderr",
     "output_type": "stream",
     "text": [
      "INFO:utils:214/806\n",
      "INFO:utils:428/806\n",
      "INFO:utils:641/806\n",
      "/richmondvol1/rusty/stompy/stompy/utils.py:660: RuntimeWarning: invalid value encountered in divide\n",
      "  return vecs / mag(vecs)[...,None]\n"
     ]
    },
    {
     "name": "stdout",
     "output_type": "stream",
     "text": [
      "Plotting  2016-10-08 00:30Z\n"
     ]
    },
    {
     "name": "stderr",
     "output_type": "stream",
     "text": [
      "INFO:utils:209/806\n",
      "INFO:utils:419/806\n",
      "INFO:utils:627/806\n"
     ]
    },
    {
     "name": "stdout",
     "output_type": "stream",
     "text": [
      "Plotting  2016-10-08 01:00Z\n"
     ]
    },
    {
     "name": "stderr",
     "output_type": "stream",
     "text": [
      "INFO:utils:209/806\n",
      "INFO:utils:418/806\n",
      "INFO:utils:626/806\n",
      "/richmondvol1/rusty/stompy/stompy/utils.py:660: RuntimeWarning: invalid value encountered in divide\n",
      "  return vecs / mag(vecs)[...,None]\n"
     ]
    },
    {
     "name": "stdout",
     "output_type": "stream",
     "text": [
      "Plotting  2016-10-08 01:30Z\n"
     ]
    },
    {
     "name": "stderr",
     "output_type": "stream",
     "text": [
      "INFO:utils:209/806\n",
      "INFO:utils:418/806\n",
      "INFO:utils:625/806\n"
     ]
    },
    {
     "name": "stdout",
     "output_type": "stream",
     "text": [
      "Plotting  2016-10-08 02:00Z\n"
     ]
    },
    {
     "name": "stderr",
     "output_type": "stream",
     "text": [
      "INFO:utils:210/806\n",
      "INFO:utils:420/806\n",
      "INFO:utils:628/806\n",
      "/richmondvol1/rusty/stompy/stompy/utils.py:660: RuntimeWarning: invalid value encountered in divide\n",
      "  return vecs / mag(vecs)[...,None]\n"
     ]
    },
    {
     "name": "stdout",
     "output_type": "stream",
     "text": [
      "Plotting  2016-10-08 02:30Z\n"
     ]
    },
    {
     "name": "stderr",
     "output_type": "stream",
     "text": [
      "INFO:utils:209/806\n",
      "INFO:utils:418/806\n",
      "INFO:utils:626/806\n"
     ]
    },
    {
     "name": "stdout",
     "output_type": "stream",
     "text": [
      "Plotting  2016-10-08 03:00Z\n"
     ]
    },
    {
     "name": "stderr",
     "output_type": "stream",
     "text": [
      "INFO:utils:210/806\n",
      "INFO:utils:421/806\n",
      "INFO:utils:629/806\n",
      "/richmondvol1/rusty/stompy/stompy/utils.py:660: RuntimeWarning: invalid value encountered in divide\n",
      "  return vecs / mag(vecs)[...,None]\n"
     ]
    },
    {
     "name": "stdout",
     "output_type": "stream",
     "text": [
      "Plotting  2016-10-08 03:30Z\n"
     ]
    },
    {
     "name": "stderr",
     "output_type": "stream",
     "text": [
      "INFO:utils:207/806\n",
      "INFO:utils:417/806\n",
      "INFO:utils:626/806\n"
     ]
    },
    {
     "name": "stdout",
     "output_type": "stream",
     "text": [
      "Plotting  2016-10-08 04:00Z\n"
     ]
    },
    {
     "name": "stderr",
     "output_type": "stream",
     "text": [
      "INFO:utils:210/806\n",
      "INFO:utils:421/806\n",
      "INFO:utils:630/806\n",
      "/richmondvol1/rusty/stompy/stompy/utils.py:660: RuntimeWarning: invalid value encountered in divide\n",
      "  return vecs / mag(vecs)[...,None]\n"
     ]
    },
    {
     "name": "stdout",
     "output_type": "stream",
     "text": [
      "Plotting  2016-10-08 04:30Z\n"
     ]
    },
    {
     "name": "stderr",
     "output_type": "stream",
     "text": [
      "INFO:utils:211/806\n",
      "INFO:utils:422/806\n",
      "INFO:utils:632/806\n"
     ]
    },
    {
     "name": "stdout",
     "output_type": "stream",
     "text": [
      "Plotting  2016-10-08 05:00Z\n"
     ]
    },
    {
     "name": "stderr",
     "output_type": "stream",
     "text": [
      "INFO:utils:214/806\n",
      "INFO:utils:428/806\n",
      "INFO:utils:640/806\n",
      "/richmondvol1/rusty/stompy/stompy/utils.py:660: RuntimeWarning: invalid value encountered in divide\n",
      "  return vecs / mag(vecs)[...,None]\n"
     ]
    },
    {
     "name": "stdout",
     "output_type": "stream",
     "text": [
      "Plotting  2016-10-08 05:30Z\n"
     ]
    },
    {
     "name": "stderr",
     "output_type": "stream",
     "text": [
      "INFO:utils:209/806\n",
      "INFO:utils:419/806\n",
      "INFO:utils:629/806\n"
     ]
    },
    {
     "name": "stdout",
     "output_type": "stream",
     "text": [
      "Plotting  2016-10-08 06:00Z\n"
     ]
    },
    {
     "name": "stderr",
     "output_type": "stream",
     "text": [
      "INFO:utils:208/806\n",
      "INFO:utils:419/806\n",
      "INFO:utils:629/806\n",
      "/richmondvol1/rusty/stompy/stompy/utils.py:660: RuntimeWarning: invalid value encountered in divide\n",
      "  return vecs / mag(vecs)[...,None]\n"
     ]
    },
    {
     "name": "stdout",
     "output_type": "stream",
     "text": [
      "Plotting  2016-10-08 06:30Z\n"
     ]
    },
    {
     "name": "stderr",
     "output_type": "stream",
     "text": [
      "INFO:utils:211/806\n",
      "INFO:utils:422/806\n",
      "INFO:utils:632/806\n"
     ]
    },
    {
     "name": "stdout",
     "output_type": "stream",
     "text": [
      "Plotting  2016-10-08 07:00Z\n"
     ]
    },
    {
     "name": "stderr",
     "output_type": "stream",
     "text": [
      "INFO:utils:206/806\n",
      "INFO:utils:417/806\n",
      "INFO:utils:627/806\n",
      "/richmondvol1/rusty/stompy/stompy/utils.py:660: RuntimeWarning: invalid value encountered in divide\n",
      "  return vecs / mag(vecs)[...,None]\n"
     ]
    },
    {
     "name": "stdout",
     "output_type": "stream",
     "text": [
      "Plotting  2016-10-08 07:30Z\n"
     ]
    },
    {
     "name": "stderr",
     "output_type": "stream",
     "text": [
      "INFO:utils:208/806\n",
      "INFO:utils:419/806\n",
      "INFO:utils:629/806\n"
     ]
    },
    {
     "name": "stdout",
     "output_type": "stream",
     "text": [
      "Plotting  2016-10-08 08:00Z\n"
     ]
    },
    {
     "name": "stderr",
     "output_type": "stream",
     "text": [
      "INFO:utils:212/806\n",
      "INFO:utils:423/806\n",
      "INFO:utils:632/806\n",
      "/richmondvol1/rusty/stompy/stompy/utils.py:660: RuntimeWarning: invalid value encountered in divide\n",
      "  return vecs / mag(vecs)[...,None]\n"
     ]
    },
    {
     "name": "stdout",
     "output_type": "stream",
     "text": [
      "Plotting  2016-10-08 08:30Z\n"
     ]
    },
    {
     "name": "stderr",
     "output_type": "stream",
     "text": [
      "INFO:utils:208/806\n",
      "INFO:utils:419/806\n",
      "INFO:utils:628/806\n"
     ]
    },
    {
     "name": "stdout",
     "output_type": "stream",
     "text": [
      "Plotting  2016-10-08 09:00Z\n"
     ]
    },
    {
     "name": "stderr",
     "output_type": "stream",
     "text": [
      "INFO:utils:211/806\n",
      "INFO:utils:421/806\n",
      "INFO:utils:629/806\n",
      "/richmondvol1/rusty/stompy/stompy/utils.py:660: RuntimeWarning: invalid value encountered in divide\n",
      "  return vecs / mag(vecs)[...,None]\n"
     ]
    },
    {
     "name": "stdout",
     "output_type": "stream",
     "text": [
      "Plotting  2016-10-08 09:30Z\n"
     ]
    },
    {
     "name": "stderr",
     "output_type": "stream",
     "text": [
      "INFO:utils:212/806\n",
      "INFO:utils:423/806\n",
      "INFO:utils:632/806\n"
     ]
    },
    {
     "name": "stdout",
     "output_type": "stream",
     "text": [
      "Plotting  2016-10-08 10:00Z\n"
     ]
    },
    {
     "name": "stderr",
     "output_type": "stream",
     "text": [
      "INFO:utils:210/806\n",
      "INFO:utils:419/806\n",
      "INFO:utils:626/806\n",
      "/richmondvol1/rusty/stompy/stompy/utils.py:660: RuntimeWarning: invalid value encountered in divide\n",
      "  return vecs / mag(vecs)[...,None]\n"
     ]
    },
    {
     "name": "stdout",
     "output_type": "stream",
     "text": [
      "Plotting  2016-10-08 10:30Z\n"
     ]
    },
    {
     "name": "stderr",
     "output_type": "stream",
     "text": [
      "INFO:utils:209/806\n",
      "INFO:utils:418/806\n",
      "INFO:utils:626/806\n"
     ]
    },
    {
     "name": "stdout",
     "output_type": "stream",
     "text": [
      "Plotting  2016-10-08 11:00Z\n"
     ]
    },
    {
     "name": "stderr",
     "output_type": "stream",
     "text": [
      "INFO:utils:210/806\n",
      "INFO:utils:421/806\n",
      "INFO:utils:630/806\n",
      "/richmondvol1/rusty/stompy/stompy/utils.py:660: RuntimeWarning: invalid value encountered in divide\n",
      "  return vecs / mag(vecs)[...,None]\n"
     ]
    },
    {
     "name": "stdout",
     "output_type": "stream",
     "text": [
      "Plotting  2016-10-08 11:30Z\n"
     ]
    },
    {
     "name": "stderr",
     "output_type": "stream",
     "text": [
      "INFO:utils:206/806\n",
      "INFO:utils:413/806\n",
      "INFO:utils:619/806\n"
     ]
    },
    {
     "name": "stdout",
     "output_type": "stream",
     "text": [
      "Plotting  2016-10-08 12:00Z\n"
     ]
    },
    {
     "name": "stderr",
     "output_type": "stream",
     "text": [
      "INFO:utils:213/806\n",
      "INFO:utils:426/806\n",
      "INFO:utils:638/806\n",
      "/richmondvol1/rusty/stompy/stompy/utils.py:660: RuntimeWarning: invalid value encountered in divide\n",
      "  return vecs / mag(vecs)[...,None]\n"
     ]
    },
    {
     "name": "stdout",
     "output_type": "stream",
     "text": [
      "Plotting  2016-10-08 12:30Z\n"
     ]
    },
    {
     "name": "stderr",
     "output_type": "stream",
     "text": [
      "INFO:utils:213/806\n",
      "INFO:utils:426/806\n",
      "INFO:utils:639/806\n"
     ]
    },
    {
     "name": "stdout",
     "output_type": "stream",
     "text": [
      "Plotting  2016-10-08 13:00Z\n"
     ]
    },
    {
     "name": "stderr",
     "output_type": "stream",
     "text": [
      "INFO:utils:213/806\n",
      "INFO:utils:426/806\n",
      "INFO:utils:639/806\n",
      "/richmondvol1/rusty/stompy/stompy/utils.py:660: RuntimeWarning: invalid value encountered in divide\n",
      "  return vecs / mag(vecs)[...,None]\n"
     ]
    },
    {
     "name": "stdout",
     "output_type": "stream",
     "text": [
      "Plotting  2016-10-08 13:30Z\n"
     ]
    },
    {
     "name": "stderr",
     "output_type": "stream",
     "text": [
      "INFO:utils:210/806\n",
      "INFO:utils:420/806\n",
      "INFO:utils:631/806\n"
     ]
    },
    {
     "name": "stdout",
     "output_type": "stream",
     "text": [
      "Plotting  2016-10-08 14:00Z\n"
     ]
    },
    {
     "name": "stderr",
     "output_type": "stream",
     "text": [
      "INFO:utils:213/806\n",
      "INFO:utils:425/806\n",
      "INFO:utils:637/806\n",
      "/richmondvol1/rusty/stompy/stompy/utils.py:660: RuntimeWarning: invalid value encountered in divide\n",
      "  return vecs / mag(vecs)[...,None]\n"
     ]
    },
    {
     "name": "stdout",
     "output_type": "stream",
     "text": [
      "Plotting  2016-10-08 14:30Z\n"
     ]
    },
    {
     "name": "stderr",
     "output_type": "stream",
     "text": [
      "INFO:utils:213/806\n",
      "INFO:utils:426/806\n",
      "INFO:utils:638/806\n"
     ]
    },
    {
     "name": "stdout",
     "output_type": "stream",
     "text": [
      "Plotting  2016-10-08 15:00Z\n"
     ]
    },
    {
     "name": "stderr",
     "output_type": "stream",
     "text": [
      "INFO:utils:210/806\n",
      "INFO:utils:420/806\n",
      "INFO:utils:629/806\n",
      "/richmondvol1/rusty/stompy/stompy/utils.py:660: RuntimeWarning: invalid value encountered in divide\n",
      "  return vecs / mag(vecs)[...,None]\n"
     ]
    },
    {
     "name": "stdout",
     "output_type": "stream",
     "text": [
      "Plotting  2016-10-08 15:30Z\n"
     ]
    },
    {
     "name": "stderr",
     "output_type": "stream",
     "text": [
      "INFO:utils:210/806\n",
      "INFO:utils:420/806\n",
      "INFO:utils:628/806\n"
     ]
    },
    {
     "name": "stdout",
     "output_type": "stream",
     "text": [
      "Plotting  2016-10-08 16:00Z\n"
     ]
    },
    {
     "name": "stderr",
     "output_type": "stream",
     "text": [
      "INFO:utils:210/806\n",
      "INFO:utils:421/806\n",
      "INFO:utils:630/806\n",
      "/richmondvol1/rusty/stompy/stompy/utils.py:660: RuntimeWarning: invalid value encountered in divide\n",
      "  return vecs / mag(vecs)[...,None]\n"
     ]
    },
    {
     "name": "stdout",
     "output_type": "stream",
     "text": [
      "Plotting  2016-10-08 16:30Z\n"
     ]
    },
    {
     "name": "stderr",
     "output_type": "stream",
     "text": [
      "INFO:utils:211/806\n",
      "INFO:utils:422/806\n",
      "INFO:utils:632/806\n"
     ]
    },
    {
     "name": "stdout",
     "output_type": "stream",
     "text": [
      "Plotting  2016-10-08 17:00Z\n"
     ]
    },
    {
     "name": "stderr",
     "output_type": "stream",
     "text": [
      "INFO:utils:212/806\n",
      "INFO:utils:425/806\n",
      "INFO:utils:637/806\n",
      "/richmondvol1/rusty/stompy/stompy/utils.py:660: RuntimeWarning: invalid value encountered in divide\n",
      "  return vecs / mag(vecs)[...,None]\n"
     ]
    },
    {
     "name": "stdout",
     "output_type": "stream",
     "text": [
      "Plotting  2016-10-08 17:30Z\n"
     ]
    },
    {
     "name": "stderr",
     "output_type": "stream",
     "text": [
      "INFO:utils:213/806\n",
      "INFO:utils:426/806\n",
      "INFO:utils:639/806\n"
     ]
    },
    {
     "name": "stdout",
     "output_type": "stream",
     "text": [
      "Plotting  2016-10-08 18:00Z\n"
     ]
    },
    {
     "name": "stderr",
     "output_type": "stream",
     "text": [
      "INFO:utils:213/806\n",
      "INFO:utils:427/806\n",
      "INFO:utils:640/806\n",
      "/richmondvol1/rusty/stompy/stompy/utils.py:660: RuntimeWarning: invalid value encountered in divide\n",
      "  return vecs / mag(vecs)[...,None]\n"
     ]
    },
    {
     "name": "stdout",
     "output_type": "stream",
     "text": [
      "Plotting  2016-10-08 18:30Z\n"
     ]
    },
    {
     "name": "stderr",
     "output_type": "stream",
     "text": [
      "INFO:utils:212/806\n",
      "INFO:utils:424/806\n",
      "INFO:utils:636/806\n"
     ]
    },
    {
     "name": "stdout",
     "output_type": "stream",
     "text": [
      "Plotting  2016-10-08 19:00Z\n"
     ]
    },
    {
     "name": "stderr",
     "output_type": "stream",
     "text": [
      "INFO:utils:213/806\n",
      "INFO:utils:426/806\n",
      "INFO:utils:638/806\n",
      "/richmondvol1/rusty/stompy/stompy/utils.py:660: RuntimeWarning: invalid value encountered in divide\n",
      "  return vecs / mag(vecs)[...,None]\n"
     ]
    },
    {
     "name": "stdout",
     "output_type": "stream",
     "text": [
      "Plotting  2016-10-08 19:30Z\n"
     ]
    },
    {
     "name": "stderr",
     "output_type": "stream",
     "text": [
      "INFO:utils:210/806\n",
      "INFO:utils:420/806\n",
      "INFO:utils:629/806\n"
     ]
    },
    {
     "name": "stdout",
     "output_type": "stream",
     "text": [
      "Plotting  2016-10-08 20:00Z\n"
     ]
    },
    {
     "name": "stderr",
     "output_type": "stream",
     "text": [
      "INFO:utils:210/806\n",
      "INFO:utils:420/806\n",
      "INFO:utils:629/806\n",
      "/richmondvol1/rusty/stompy/stompy/utils.py:660: RuntimeWarning: invalid value encountered in divide\n",
      "  return vecs / mag(vecs)[...,None]\n"
     ]
    },
    {
     "name": "stdout",
     "output_type": "stream",
     "text": [
      "Plotting  2016-10-08 20:30Z\n"
     ]
    },
    {
     "name": "stderr",
     "output_type": "stream",
     "text": [
      "INFO:utils:210/806\n",
      "INFO:utils:420/806\n",
      "INFO:utils:629/806\n"
     ]
    },
    {
     "name": "stdout",
     "output_type": "stream",
     "text": [
      "Plotting  2016-10-08 21:00Z\n"
     ]
    },
    {
     "name": "stderr",
     "output_type": "stream",
     "text": [
      "INFO:utils:211/806\n",
      "INFO:utils:421/806\n",
      "INFO:utils:630/806\n",
      "/richmondvol1/rusty/stompy/stompy/utils.py:660: RuntimeWarning: invalid value encountered in divide\n",
      "  return vecs / mag(vecs)[...,None]\n"
     ]
    },
    {
     "name": "stdout",
     "output_type": "stream",
     "text": [
      "Plotting  2016-10-08 21:30Z\n"
     ]
    },
    {
     "name": "stderr",
     "output_type": "stream",
     "text": [
      "INFO:utils:212/806\n",
      "INFO:utils:424/806\n",
      "INFO:utils:634/806\n"
     ]
    },
    {
     "name": "stdout",
     "output_type": "stream",
     "text": [
      "Plotting  2016-10-08 22:00Z\n"
     ]
    },
    {
     "name": "stderr",
     "output_type": "stream",
     "text": [
      "INFO:utils:210/806\n",
      "INFO:utils:421/806\n",
      "INFO:utils:631/806\n",
      "/richmondvol1/rusty/stompy/stompy/utils.py:660: RuntimeWarning: invalid value encountered in divide\n",
      "  return vecs / mag(vecs)[...,None]\n"
     ]
    },
    {
     "name": "stdout",
     "output_type": "stream",
     "text": [
      "Plotting  2016-10-08 22:30Z\n"
     ]
    },
    {
     "name": "stderr",
     "output_type": "stream",
     "text": [
      "INFO:utils:212/806\n",
      "INFO:utils:424/806\n",
      "INFO:utils:634/806\n"
     ]
    },
    {
     "name": "stdout",
     "output_type": "stream",
     "text": [
      "Plotting  2016-10-08 23:00Z\n"
     ]
    },
    {
     "name": "stderr",
     "output_type": "stream",
     "text": [
      "INFO:utils:212/806\n",
      "INFO:utils:424/806\n",
      "INFO:utils:635/806\n",
      "/richmondvol1/rusty/stompy/stompy/utils.py:660: RuntimeWarning: invalid value encountered in divide\n",
      "  return vecs / mag(vecs)[...,None]\n"
     ]
    },
    {
     "name": "stdout",
     "output_type": "stream",
     "text": [
      "Plotting  2016-10-08 23:30Z\n"
     ]
    },
    {
     "data": {
      "application/vnd.jupyter.widget-view+json": {
       "model_id": "99ee9c3824304f92ba69a6e11639b093",
       "version_major": 2,
       "version_minor": 0
      },
      "image/png": "[encoded data removed]",
      "text/html": [
       "\n",
       "            <div style=\"display: inline-block;\">\n",
       "                <div class=\"jupyter-widgets widget-label\" style=\"text-align: center;\">\n",
       "                    Figure\n",
       "                </div>\n",
       "                <img src='data:image/png;base64,iVBORw0KGgoAAAANSUhEUgAAAyAAAAJYCAYAAACadoJwAAAAOXRFWHRTb2Z0d2FyZQBNYXRwbG90bGliIHZlcnNpb24zLjcuMSwgaHR0cHM6Ly9tYXRwbG90bGliLm9yZy/bCgiHAAAACXBIWXMAAA9hAAAPYQGoP6dpAAEAAElEQVR4nOydd5wlRfn1v1XV3TdP3pmdzZHdJeecBEEEJYMZMGDGgAkBwYQoBhQwAYKiBEkiiGQk55w359mZ2Z148+2uqveP6ju7K/CKPwFF7+GzOtvTsW733Tr9POccYa21NNDA/xEnf+lUHnngMeZO2Zx5EyzH7Fwh42usteiiQQiLTHgIIdwGVoPvgxRgIvA9SCrAYnIJSChAE/kSnZRYIipJKKUsRhoAtAAjJUYYSr7ECDBCYkX8e6AsPUCNLavhEaLwhKQwXOJPP3iEy8+8800frwtP/SQDi58lISK+ePkjnPnp3dl16wkkmpPMndHGwECZpO/T2ZbECIH1wQo46Yd3cd4lj7H03s8wWq6RSiv8pgRPilG+9sEbMRZOuexQcnMmYlEgILQwRA6LoNw3ype6TwEh2Osnn2fTjx6CNhKNx9Lr7uDO407jXX/6AVP324ZAGKwwKEJ8AUYYpK4ysriX5hmdBL7bPxgUIDEsu/s5frPfmRx7w4nMPWALFBIjInw0PhYr1n/NSCTWQg3ptraWqk0Q4WOBmvaISGAArSWaBAKIjEAb9zNYwiiBRYAFqwM0AmFB6gCsQADaSCQSAwgLIpJgFb7xMRYEFqk9tx8DygisZ8G484ywKGnRQoO0GKXdvtzKWK9K5FfcOliUNBjAl1WUVwNh8YXBCktCRHgyIuxbjVcr0jKlFakEARorLEmqpEUZISxBfAwrNB4aW6pyww8f5NC9PsBRex/3Jt6xDTTQQAMNNPD6Q/67T6CBtzbO+NF32H6X7Vi55kmO3KZAxtcAmCoQWWwlIhqtYnXkyIdSIAXCaoTvI5RChBabUpCQgEZ7Ep0UOCrhJoV1aCGxSoEwCCAZWYwAKwwWsCgkCs+K+O9umiwADw2EZJo9qsWQMAzfzKECoHfVcjrSklOufYJZ3c3ssHk3TV0Zpk9pZtXaEsmUoqMtCcJNnNGwbPUwf7r5JXbeZhLVWkRNa4Z0xOqBAm1VwS7vmsWCJ/tY8lw/CVPFxlPkQAjSVAmIGFw+AEB2fAuPnHkJT517FVIIFBFT3r4DKuGz7C/34wmNFQYfgxJghSZAozxF89R2Ckv70WGIRCOxWAwCQaFvBICmzlYEMp44C0w8iRd2/WdosVhh3MQaixKCFDUk7jNNSI1HDQEoZfCoYrAIaQhkCSs0Rlg8VcHgPn+jaoDBCtCqhkFjIb5PrCMagFAWhCGUNYyIsAIiFSGFxUqL9iN3VZL4HAUWg5EgEFitkIBBoEVIpCKwCqxEIRzhESFSGiQShSS0EmkFNSsp96xCYklP60ZKDxDUUARUSQgNwkPiUQMsAmXBw5JMBxzwue25+tbf87cnbn4T79gGGmiggQYaeP3RICAN/EsQQnDmj7/LO/ffnvNueoa+4RKmZrEVDTrCWguRJRquEtU0SBBWgxC4Ga4GJRFagLFoJYiSAjBYLNqXSCzZIqDBSIGtTy5xk75EJMAI6rezRePbEKxGWy9+T2/dhB738r6pw2d134o3fbxaN9mWL17+MIEn+cmJ+9A+Lks2HTBSjJg2qYX2jgxIsBhWD+X55DdvYYsDfsOKNXl23WYio4UaNgEag05D1Vj2PWQTMk0J/vjDh4lKJXxCrDVECHw00lr6VuSZ8/Z5FNYMsfWnD2WzTx6OFAYlLcmmJJP23o4lf7mPSDtSYoVGIFztQFg8IJEMaJ7WzuiyfnSxhsSisCAshbWjAKQ7c26ErcVikSisq4EgxmoXriolhCEgdJ+0tKQpU1gzyBVHnsXQMwvx0CgMCaVd9QCNryyBrCLQSCnwvSpgWHXT31j7+GMIa5AIhDJxyaNOTi3aOrqEtAgF1nMVOgTUZIhR0RjxkLhKWyRDIrW+eqMQGC0xqoZUoIxCIdFGOhIiDFIACEIrsFYgEdS0IVy5GJX0yXW3I5FU8MBCRtQI4kpdhCM3Eg8DKKJ4zAS51iz7n7AtP7/8ezy96JE343ZtoIEGGmiggTcEbwkCMtDXS7Vc/nefRgOvAiEEnzz1Bxx47Bf50Q0v8uyCtevJhxVgjWuTKRlM1WKswPrKLRdAIBHGIAohxo8njTH5IJ6YKTyyVQ9pbfxmW7oJJobAaDxjsNaOkROLhyJ+ax1XUrA1kiYkbQ3TNmnm/qf++qaNkTGGL374SL54+vcRwI++uBfTZ7ajArBpyeQJWTxPgpCsK5T53A/uYN4B5/Pba5/BWEtTNmDvPadjkpLurgx5L6IsNTWhyQTwwVN35aVHerjmx49RWTtMoVhDO7ZHghpt0zv44HVfpXvbGSy44laUJxECpNB4MmTWYXtQ6huk76EXsdZzzVECNNK1GwlXtfATiraZnYz2DKBroWuxw1BeVwAg25F21YR6x52rH6ARuPqUQMWfigQ8AT4RYOl9YSW/2eNUFt36FAZDSpQRGDSGQNZcdQaLLy2BdNsIYen92z3cecxXWHrtzUgvHKuKaBm5ewwBAqSyY+QH3H0WyhBrI4SyWGmQcfXDCI0RGqFA4f5owGDAC1HCVdiMVWAkbsQsSI2NCYlEElqBMYbaihUEra1k21tddSMmJhPkAAlZxsYcWiAJMQhqeGgiUW9yc3f1+PEpDvjIFvzwgpMZHhl8k+7eBhpooIEGGnh98R9PQO6/4c+ccMDbOOvjx9KQq/xnY5cDjuazp53NFU+u4ebnVmOthPpHpjyEtZiRMiZfZWwemPSpt86Q9vCLFlHTaI8x8uGmf+BrS1M+5h0Y1r9Ll6S0Rdn1LVdGWLy4TUhYg6qFPHLtS+iaBjSb79bN7fddhzH1Y7x2DKzr+6fat0ZHhtl/xzn89LfXMLEtw8Vf25+tZnZSMjWyE7J0TchQTbqrqdRC+oYr7LXLFCaMz5JKehhj+emZ+7PZFuOQKUGt2UMAqc4kUdLDSth0z+nM22kCl37vfh6+fTWjPaOEtRoCCdIyZ9tOQj/Nph/Yl4GXVtH32ItASCANUhhmHrgDQkkW3XCv00MgwIakRIQQFkGEB4DFU9AypY3h5f3ochWwFPpHSDSlCFI+Ftd+5RBv56QaWAw2rmyImJ54wrDk9uf5+Z7fJyrX+PjtX2PSNpOR0pKSRXwROk2KrKKouMqK1HiiwuALi7nzI6fRMnca257ySaQQCK+GsNbpU5S7T+p3DNJghMFgGX7pJa7dd08e++kZ1AlJJLXTXigNypFZ7U7fVXu8EG1qaG0wcTuW09JEWBlhrERY4e5BrZAYPOkqfkZ41KyHtIoaMEn20CrztDOCgnhEIEmEj4j/k3EzGnhESCyT5rYzb+8uvnX+59Ba/9P3bwMNNNBAAw38u/EfT0Da2lo4ftNp9C5awAM33fjvPp0G/gGmb7M7J//mBp4f9fn1XS8xWqqAVLEI3YLysDWI+gsY68TJFrBpv84s8CKBCp1AuU4+6nqQwCiaihJpFIb6Ok47kAm1m8QJQ53hJGyNhNUsfnoN3/nADdz2h+fxtGFGZ4aODstt91z5T13f44/ezilfOYQfnnEM+fzI2PJ8foR7br70ZYRm4QtPs8Pms7jj8UXsOq+Li7+2P1vO7CCZ9Jk2s5X2jgRaSbRvGabGst5RkinJd8+7nyUrhilXImbNaGPLLTtZODjAorVD3HbnQpauLdDbVyQKfHqiJCqX5EM/eSdN7Wku+tIt5Ec1/UuHWLtqhKGeApV1gxTWDDPl8HeiEj4vXnxjXIcI8YUm05Fm4m6bs+SGBzAYjBV4MsIKQxCPNBg8XPdckPTomNHJyMpBjNaMrh6kaUJLfNWWB351B6ZcQ8Wfh6tGuX0oLEIYvPi9/oMX38+v3/UzmrqbOeH+k9lkl2mkCBEYfAFJWUViCIQmpULcJ28or1rNLUd+BRX4HHjFD8i0pKjTHKFCNK6NSiu3LxGTDKkMi6+7lhsOP5haPs+kt++HVm5yb4VFqwgtDUZajNAoIMRS82oU+nv5y+GHctPRRyEQaC1AVZHKaT48JFFc3bDCIIVGSklq6kTyy/opFkIiq2hXw5RJEqEIhKaFERSGFLW4rU2ghQUERmsCW4vrIO4Z2Xq/qfQOruTeJ275p+7fBhpooIEGGvhPwH88AZmz4660tLRwwKRxfPTDx9Hf1/vvPqUG/gGa2zr42m/+wrQ9D+X7t83n6ZUDzvFKuFYYrAYUR552IzfduxSbcG/pLWB955iVqFi8io1baOpveSXWar72pVtJDRuEXU80iCW/udAirRxbJrDYCDq6m5ixeQcjPXnSUYRCs/8Rs7jy+vMoFEZf03U98dgdXHzB6Xz+E9swY2qNb59+GCMjg/SsXMyZXz2Km6/9JX/547lj6z9621V85WNHsrxviGPePpdfnLAPW8zsIEp5zJ7eTrMMxjQHNW1Zvi5PutnnsOOv5aXFA2w6ZxybzxvHF07YkWE0i5aNsHqkDE0+iZzHQFGzpgwy5RF5SVqmdfHFq95HrRzRu2wILQK0gWoIK2vjEX5AbbTMzKP2Y8EVt1BY2oOMHZqUEMw7ck/a50zC5gtIAZFReETxRDpCighELObGojxJ04RWCj0jtM/qYu47t0QgWXDb81z3+ctZ/tCi2P2qXlMRsQ5HoKxFCYvUNR7+3YPM2HUGX77vi3TObMUKi6dqJEQ5bhMz5GRh7FwzqoAUmjVPLCAslTno6jPITZ+AUBopq84JSwiQ4fovOEFMcC1RFPHixRfRtulc3nXjdYzfblvXjqVCrIzbsWIdiJEWLSKMV0NI6Hv0EUYWLWLuh44FDNIPEdKRgsiCteAhMdagVA0rJNZIfOlx86fO5rEf/hGvNoK1rrFrjW1BW4+ECGmigEK7djcnQceiueFbt/LX85zmQwiParXGX37xBNMmzWCXLff5J5/OBhpooIEGGvj3Q7wVbHiX/eZnrLvvDn76xEvsst8BfOZH5/y7T6mB14ilT9zPRd8/mSkZOGr7qaQDNyWsGDjq3Nv42L6bcvi75kFrEhNIJzxAY6TCKog8i/a103zEZOOhR3vYZstuoiZJPm2wdYvfmKiUpaTkizEdQt/KUVIpj1QqoFapke+v0NWRojOX4rbrFqALM/j8J87+h9dy4S9OZO2aZ/j4R7fBJAR/u3sZjz08jB6pcNS+U5nVleM7v3yQ40/6GUuef5S/Xv0H3r5FF6l0wIzxLWRSkmogmTKtDTIe1hNEMiLvaVasHkFrwfuPuZqenjwX/+oQ9tx9MqtGiyxdPkRvf5GoJaBtao5SbxFa0vjZABMobFsbqdYMw+tqVLWkpdljZKCGUBLSSQZkJ/nBComJcxgeFgy8MJ+bDjuRmQfuxN4//AheJkmqrdmpGKxzv/KFxhMRngjxRIgSoK0bX4Ef1y4cBhb10jalDS+hWLtoDT/f5QzKQ0X2P+3dvPO0g7HCuVB5cducINZ9xE5Zo4MVZCZBkAgw1hKhnJMWlqpxdrwIZ8MbEiDxiKylpDOUhsskm7OEOkVonKtUqL3YlhesEYgwRb3+IgFjBeW+tSRaW5BB4LqvjNPEAEjjzlQYnIYpbuOSSDRQ6e0lPb4L7ZcxSscSE4OUFo1rFfO8CCssvnTtXoEwzL/iZqbtNpOELtAyvZ22RIQvNEpUaRF5FBYrvLi+Y/CISFNDRyHrlo8yYWYL5dGQ6899lHkztuTLR5+Fp/x/+plsoIEGGmiggX833hIEZOTZJ1h09reoRpqLXlrBl355IfO22/E1bWutXZ9B0cC/BbVajWvO+gpPPHQfR287ka2mjXPVCwkinUBYjR2Xxo5LgHQZH1Y5ImJxJMSMCdJjfUI8BS4Flnxmw5wJ17I1EghCaREWKqM1SoUqnROasTZCGsHQ/EEmTsgileD8Hz7BkQd/id13PvT/ex2Fwiif/uTbOProOey04wS8muSZe1aT9gPafZ9wtEqlUuWcPz9HOvA5cJsJtLVlyAQeKvAY35mlORsQZSUm56OlYLRSZfVAnv6REsd85DqqNc1vLzyEOTPbWZkvsmjpICUg6E6Sawl4+t4+lr8wSFN3ht0/sAWRVRSKIUuXFJmw+WSs71GqKWZs0kRFe6xZWSI9rZsVw90Ue4ukJk/GlKs89d0f8MwFf+FjD5yF35KBTBOJbBqjJNSqJMICRofkgohkWwaEJUWEtVAhiP2vnAC9mi9RK9UI0gG/3udMwnJIZaRM19xuPn37ic79Stgx614AiSYgiotigjButxNYrLWE+BgM0gqqcROYBEIjqZFyd4YRFEzGTdgtVKMExjrCIiKfMPIBD2sEKiYkQCwJcfeRjO8kd9y4UcyAZ51JMDJCWIUFPOu2ibCYoISUTtEi3SZINMKv4imnmyEW4PvSYglJqzKetNhaieqK1bTMaKc9USEpqngiJEcIQmPwUYSkCKm3lIFhpLfEjec+wb577c9H9jup8b3WQAMNNNDAWxb/8S1YAE3ztkRlcyQ8xdsntPHzr534D0XAURRx4elf58M7b8Pg2v436UwbeCUEQcD7Tv0Zn/zBb7h+/jAX3rOA0XINkfKdJa8vkYFCFlzfvlVO+msBqyTKClRo4wLHevJhhSIVeqSqzomIuhMRmlw1IhkaFJJMk0+lGGKiCM8KPCFpnZFj9YoCgfF43/s349LLzmZoaN2rXkOtVuOCi77GlJnNBIFCjsDgkhId7WkmdiSZkAqY0JpEBj7v3XcOR79tFp2dOZqyAePGZdlkWist2QCBRBUNxloKtRpr1xZYvSzPUe+7Cs+XXPnHoxk3Nc1KXWTtSAkxoYXEFhOIvCS3XbGQ9sRsLv/5vWSyHbzw8Bryw0UeuvwF+p8c5ulbFzJclFQiwQtLoZpoQjbl6BtpwkulqIUSU/WwQRNbnfgx/HSCu797Ba3TxiGFpTAwSqFnlOJIhBCaloyhViii160jLSog3Ft+n9C1YOG66hK5JLV8GRtZPnnvyVRHy0zcZgp+OqBWc9N+13hVd8IChUKLuNKAs/4Vse7D6UOqjqwIS0BlLBnDkxE+zh0LaUmrItI6epIc04eAlRFIpw2y0mJkOJYHggAZEwSNa7dyfES7L0QJoQixXg0rLSLWgUTCotHYoASyTngFxjqfKqUipHC5KHqM5Li2wUBGaDwXkBikSE6eSH5JLyZ0dscajzIBwioStkaSarx/i0DSs3CI637yKMcc9ik+uv/XG+SjgQYaaKCBtzTeEgREeB6t2+0KwOy2ZlqiGtee++otM/2rV3HSoe9k2d13sFlTkgtP/eqbdaoN/H8wc7OtOf3SO5m499F875YXeXBBv+t170iP5TFYb/07X6vWt1051HMkHPlw0GRLhmw5tsDCWf4mtSQXCqR1jfktTSkqw+V4CqzxfEXH+DT9q/N0T8yw2x7j+Nl5x1OpvNzueXi4n+98770ofxUf//RWbL3VeMLhGpVylRnT22ib2MRILWTJQIlqFDJ+XIa2tiSzp7Yxd0Ynne1ZRNXgXIkNpjmBDGHVqhGefXEdR3/8Gro6slz463eTaPfpr4Ws7C2yOpOmmE2w4Mk13PnHRbz/iBM4/XO/JJPJ8t1Pn8+qZ4d55OqlnPqJH3DRN37P8KoS/UuHyNeyjIzA4hdLrNPdVEOJDrMkO7rJ9/Riwxq0TmWbzx7BwhsfZ8VDC0i1tZLu7iY7pZPOiVnSbc0kcwmmTcuQKI8g8yMolzWOFztQIQw2DiyUniJoDiiuHGJ0zQhz9t+CD19zAtoIxxttXdfgPlMjXMqFjTNaPCRB3J6lsASCuO5hnRA9doACQ0rWSIoID4EUlrQqAc761/dK4PLLkV7k3LLAnavSiDgTxPEDjZQ6JibExY/IWQT7EcTieS1tHGhosIkKQtrYtWr9F6jwqnFKusRagYdEW1CihifddSskVeuBlSSSknHTWhhcOkChBlhJFUmIRaHrZwTAkqd7uPX8p/nG8T/hgO2P/lcewQYaaKCBBhr4j8BbgoAAtO64+9jP+03q4KbLf0/P0iUbrWOt5e6rr+Crhx3EJrbCodPHs+fEcSx86gmee/jBN/uUG3gFeJ7HIcedwIm/+BP3D2Q4956FrMu7HISwJYhD+CxaueyMkXyVZatHWNozitUGXY2o1jT1SgfWxRFmq4JEJBEaAu2yKwJjSFcsSQ1t7UlG1pWx2uBp8K0kaA2QvmJkoMw+e0+ja7zme2d+gNHRobHzXbjwaU47/T3M21xx+JGzSVrfieS7koQYtNaEhYjVIyWMtWTTKdqbUnQ1pcgGitF8icUL17FoyRALlg7w6OoBqiZCS8Htdy/l2M//mamTmrnk7HcxriXD0p4hVvaVWO2nKQOP37yQkcWaX3/ncg7Z85ixN9/jWjv56ckXcf43r2T7TXeltamVn3z2TBb8bSmVUkQoWsiLyQyvzBMxmUgnCIJmvHSa0WUrEGHI5COPJNGU5q7T/khkk2grSMkSCVkDocnKEglRoX1KFjMwSDQ4Qj353CkVdNzwZkmmFVGhzOJ7FwAwbfc5SN8jSCYx+FjWFw00TqxtrMsHiXBmAhaNTxj/bFAiJBBVNxWXloQoxUntlkCUUdQcWZCGtCo4210kCaVdgCJgVBUtdNwyBkJaPOlao6x0lQ8rXb6HAtcCSOiE4NJi6y5YMkInSgixPkmk3r4l/TJC2rEmssgKjLX4MsSTrkoUITFxWrrAkJQVRDJF89ROhpcOU9YQEBKFsHLRCGsWjTAyWOKlh1bzwGWLOevzv2HL2du/MQ9lAw000EADDbzJeEtoQACs1tz8ifdi8yMklOKlgRFWpVv53rV/QQjB4uef5cJvnMTIyuUcNGMi4zPJsW0XDo5wf9Hws1vuQsq3DOf6r4cxhr/ddDV/vfwc3rn/FHbbeZJ7x+25qd2SpSPksh65lhTaaNb0FZC+R2g0rS1JWlsSiHpQHoCGfMYQBrGdbyjIlhRr2gzVwDDYU2Scl8Rv9Vy6tQUvgqH5I7S3pcjmAu64YxmPPjTIJ47/Pn19S7n22p9z9HtnM3uTdry4U0dqiRdJViwcYGYmw5JlI1SqVVLJBHPGNzMyUmPtUBFlLcnIMC6bwvc9rLYUuwMWjRR5dkE/H/vqjWwxt5NfnvlORk1I/1CJdS0+1QktaGt44A8vsvN2u/LVD36XwA9e05iee90lXHz/PWx6/Hsors3TNHWemxxHCaTxCNEMLX8SWyujmppYeuVfeOYnF/CuP59JbtIEuueOo90bpM0bQYqIFFUSTvXAmkXDmHGdqKYmJAptIUK4GkYYMbBqiBtOuY5Ftz3HKWt+7pLCIRahQ5pqXEmoBxFalKgTD43CIhFoDCbeL8IS2iQRbsKvraVKMnac8qjYJDo29K1FAXmTc41WVhCGabRWYDys8bFWjlUtjHO4RVoRt0DVY2cEVkVIC8J5UjnXNuXuMS/Wg2hc25XwqiDNmA6kbjesVBUhw7hoZ/CEi1RMyjJJ6VrcMqLqqjClPOVVa0j4EJiItqlZmnzLU399iQV39fPDr57PlK7p/8qj1kADDTTQQAP/UXjLEBCAFZeez6pbrqeqNZVI86ela9j/I59g+dNP8vxjj7BnVwubj2tFKAV/l8dw9eIedvnAhzn445/+N519A6+GtX2rOef7x7P13DT7v30mQjqdx6KlQ0yf2oJUTtuhhcQqsDZiVU+eVMKjsz0DWIQWSC2xQjPUZAlCSaomkdYQScu6nCE/UMb3BE3NCUq+cKF1gIgM/QtGaB+XIZfzWbJoiCsve4FUKuDY4zanvT0NSISx+KHA04rRkSIjy8vIckS5qmlrSdGU9mjRCiEFpqahGGHCkHXDZaznoxSk25LcPzzMu4+/itkz2vnlme+gaEMGCzV62zIkp7Wyrr/IMzcv4aOHfI6D9jj8NY/j0p41HHv69/G3nkH3vjsRFUMiDdnOKbHDlZtkj6yaT2JyE8JoRlb2cOvBH6Z1zmRGl63hsGu+xXa7ZcnJIhkR4hM6Uihca9HqResQ3RPw01m0NbE3lEFbQe+CQX6553eY9fbNed8fPoONKxsuC8QRjiSV9W5TaAJc6rjvovvGbH7d15JyGSJWUEZi8bBYIgNlMjHRgIpJE+Jh8ahqn6pJEVrQUUAlzEC8ntJBXL9xcDYHTlxuYlJkhUYIR0iUERhhkCpy2g0kkQVlnT2u8KtjAYtiTIxu8VUFFQvUvXiZxBDICp60+CIE4VyuUqKGCEuUl62kpTNNS3uKBJpnb3uJ5fet5mdf+C3j2jr/9YesgQYaaKCBBv6D8JYiIIVFLzH/e18b+/u6So2rX1zC+Gyafad0k0vElpRKxcYx61OChypV/rBoDT+9+U5a2trf5DNv4B+hUBjlh998L9tu2cS+e0zBAktXjjJ5QhbP81wbjVKMidOlZNXqYdK+T1dzGmnWV0KMcK5L69voFVUvYlWpjJeAtlQKpS2jWVwbjgWvAj1LRxk3LkUum0SHBiUlrmAmwBqElQQ1KA/XWLc4D8ZNhjszAcVClemZLJ612FpEWNJUqjV61pboyCTxkgqyAetGC7zj9Bsp1CJuv/KD9PXnqVZDVk7OkpzXwSPXLSC/MuJbn/0JsybOec3jN3/Faj506ndo3WEPurfcgaLqJzN5POWVa9HGku7owk8FlEdHELUQb2ISvBpSwCOn/pAXzr8UAD+d4NDLvsQ73t1Bk6jGqeEut9w5TSnWLB4mObUbGaScnsJChM/iu1/kN28/k3f99EPs8pn9kGNOWSESgRACSYhPDYUcIx4+4ZhrlIdGIeMwSafYEXGuRpVknEouCI3nKiFYrFHkbXqsIaymU+TDDML61AwQpVzblxYQC8GpV25wFZHIWudqJSyejZNORIRBo6QgshYVu2QZIoQXsZG1L84fy/dc+5YnXCuhIyGGQNaQwullNJqkiBAiJEmV0vI1pNuT+MVRrI0Q5RL3//pxfvfNq2htav2/PE4NNNBAAw008B+Nt1Q/UmbGJvhtHXGasaQrm+bTO2zGuzeZymClSjWKCYeuawTWozWZYMuWDL89/eQ3/8Qb+IfIZpv44imXcO8ja3l+/lq0AWs1nifdNE4AsXjYSgkCJkzIsXZdibDihMQO0gURuugG6s5YiUgQaEjkIV1TJCNBqipRoSCIJNKDSdNaGOgvMTxUwfNAyji9PSYfAgh9w8CqPC2ZAC/wyOWSFAoVJqgAzxr61xY58TcP8LU/PEjP2hIz2jO0taZYN1pm7WCBU//wKMt6R/nFl/chl/bpaEux6exOtvR8bjz7QVr1JC48/ep/inwAVGs1Im1omTKDSn4EP59Cj2jSEybR1DqB6sp+SusGiQpFZDaLCBOAezs/71PvHSNrQTbJLZ/+Jbdc8BSFchRb0zqSUcMHT9ExrZ38qgHq03ghPASw5J75AEzZfS7auswMDURxi5RGj1EMWE8vnK7FosaS7d1n7ddT03E6imSs+bBYPBniU3XbS0jLkqM7Me9Urp8KKS1CVcAIFD4gXNQMFo27TZzdrkEIG7tdaTRh7KQVEyMBWmiQVTy/hhBm7ExdW1dI4EVIQZyG7q5QYvBEiBC4LHbrdCraCjwitFDkJnVQ7Csi2lvJ5RTUNNKHB5+/55+6BxpooIEGGmjgrYK3FAERUtK+4x4ozwNjsDoCrfGlYGIuTW+xTKg3aL1S3kbb79rdznMPP8hLTz6+0XJrLW+hQtB/LVpaO/j0F87msj+9yMBgAahHNsj6PDB+eS3QOmL5kmEmj2/GT6mYmqwPJJSwgYGWIQoNldVVWpIudwQLTXlJIoxXtJCyihlTWimXQvr7ytT7a5xWOd6ZkIzfqpXhaogQhnCoQosNWNmX5+sXPsCsT/6Bc258lrmTW0knPBYMFihXQ/AVzy5bx1X3LuK4/eYxpyXHwqd6CTzFi4vWculFz/Khnd/D9z57Hqlk6p8euy1nTecDhx/C4hv+iBf4CCGprRxGDfsIP0Xz9GmYSg0T1vAzIBJVl9CtynRMb6V51hSkpyj2j7DvN97NFu/akrXrInoXD6IjgRIKD+vqE4kEvjKYagmNJbJubJbf+xK5ia10bTE9nmxbhHUeUxqFsDauHyhqxNRQQKUuEI+JphaOprgpux4beykESWpj7WRSOJIiYjeslChQMwEaQaAqLr0dN+EXYv33gsHlXUqsq+3EYnT32sKiZIQXkwkpxmpu+CrE8+LsEgE2tu31RDS2vM57Vaxm8WMdiLXCCdSxYEOUMMQ+XtS8BE1TOyis6Eel0kzabDy7HrsV5/7hJyxaPf+fvhcaaKCBBhpo4D8dbykCAtC60x7YKHrZ8iAI6M6m6CmUHAkxxs1SNoCvJG/rbuPXJ38FE2tElrzwPCcffhAnHXbg2LIG/n2YMWtLDj3yc1xy1XyshXzRuSIJxFjrTLUasXTpMBPHNdOcqydB18nHeo8iCWAFJrSsXJFnSneWlJTubXgkUQaa8xIVStJVD0+DZ2ByZxYB9KweRhq50W6FMQyvKJNsUlTXlqkNV+npGeIv9y/hsUX9NKWdWHzb2Z1MnthEazbJQKjpz5f5yHl3Mbkjy3Chwk5fuJJ77lnO88/2c8vdqznhSz/h0CNO+JfyHU48/EDmzpjGsjv+iicDUn6Oypo+194kLekJ3WQ2accEIRpNLjVC4NUQwjLnkJ0xkSbIJln+t+fp7E6Tm9xBenwT/UsGiHSIHxM7g6F5fDOV/kFH5lAYa+l9diWTdpwVV6sE9SYqWJ/+4VqeFIaAenXKi3MwbFwTKfbn+dVH/8QVp9zGvb9/kiWPLqeSr2LQMemoEjnFCB41JBprJVWbJhCOoAgBvipiDGirQBmEDPHGzsddh5Z2AztdCyLECoMWLtXcfegWqaqgNEY4By13DIsnK0jPkQw5di0GIap4UscNZG4srHUWu1LI+JZSaOvqPlHkyO663iKR8Jg0bzx7fGQrTv31lyi/gjV0Aw000EADDbyV8ZYjIOmpM0mOn7TxwphsBErRnU3RVyrTWygRhhF4G1dB5rQ14RVHueZXP+fcEz/Ld459L3PCPGZwLbdedsmbeCUNvBr2fvv76Oqew4OPrWZouMSKVSOUKpqB4RLLlgzS2zPC9K5mMikVVygk9ZC7uGRCGIasGyixfOkQi5cMsrp3hD/9dT5SK7wqCOuE7ioStA4LZ3JkDdIoPC3p7kjjIxhcV0Ba5VIcapbSmho/+cWDHPXxP9FfqDAwUEBXDLvP6eSlVcNIIUh4ikTgM1CqopKK1YMFjjv3TsrViKFCleseXEo11By660wSo5pWlWXW3O3+5XETQnDBFz+BHB2m/9knqVUqCCsI83lCGWLTo1hpkKpCNrPOaUBklYw/yLyjdkV6ilx3Cy/d/hLaOIWFn0nSNLGJ/iVDWGFJU3FtRUkfXbOkRARYBub3UlqXp2veBAQGGftcRdQ/FksNRWhdZcRgKVpXFbFxFnkIeNZVPpo6M/z1Z/fx82Ou5tSdf8mjVz3pagoWwCMginUlIKlSNT4agZIGX1QQBrRJxRkc7kWEURFWRNRtfqWEepqMwSJkiFBxUCHEFQ2NpypI5QT1Gy+v4nkmrqQI3EgYfBGhZJ181YMKXaChFO5salatlylZzcDifhJTJtI+pYOyo1RM33YC3Zu38t3fndyo0DbQQAMNNPBfhbccAQFo3XHXly80Gul5BEoxKZehJRnQVyrRmy8SbVDZEEKw/+RObvzVudSee5zj501li8423j6hnT+e91OK+fybeCUNvBKEEHz002czMJrj6ecGaG1L0j9UREnLtKktTJ/Shp/0nGmrEWNkol4hWb5qlJ7eAkp5TJ3YzJyZ7dx61xI+8bWbWLho0LVzaYOMBNIo/Ejgl0Fq995eWIsXSsaPy1IsRgwPVZDa4mtJqVDlwsufpqMlRXMqRWQthVKV71zzJGtGSnzjkG045ahtacsE9OarKF/w9UsfYknfKJ8+cHOqYcSMrhzbz+6ksz1Dd1uK1at76Vn64usydqlUiotP+QJ9j99LdXiQyETonlF0ooiRmoRXIZEoIoUlIUKyXpXKwAhtEzNM3W0OtUKF0mCRvqdXQiwIT6RTpHIBxcEKUghS9SRyITEmJCNKLLjtWQBm7z0PU6lRzzcHr26o61yk4kqHsC58sIIPVlIeKHLv+Q/x3X0v5NPjv8f137+brhltSCX5zO+OZJ+PbI9Eo1GxsNtlhhgrCEPFqjse5aZP/Yrf7nUK1eFhIiSRVRhhkV4l1oe4drCx1iprGV22kpW33IEUEUKsj/9zVRFD4IXEBYuYeBgkhqRXQwlHCpzNsGvnkjJExFUVZx0cE2PWu2ttQE0QhBihaJncwWhfgZpRBDYiilNNtjt8LsuHF/KHOy98Xe6PBhpooIEGGvhPwFuSgLRsvzvK917hN+vfEiY9zxERX7G6WOHhNeswQiA9j46kzxd23oK3TRlPwnOTo450krm5FL8/4/Q36Soa+P8hkUjwxa/9hpcWV/nb/SuYOCFLS0sSKRUDg2Xue3g5Ok6tBlz3DIJisYrVmmkTm2lrDlDKIix89kPb43uKcy5+GGHB0wJprGshMoJE2bVlEYuEpbUEkWLqpCbK+Sqrl+W56NInOehDVxJFhg/vtymjwyWkUtz1whpufnoV791pBttNa+ewrabQly8zvSvLXQv6uPf5NRy8w1R+fcsLdLdmOGynGey6aTcPPL+ai29fwqe+dibT5mz1uo3dzEkT+Prxx7H01muwOgSlCF+qMPLcE3heCSNccJ+vKlihSVTzNDV7zNxnHvk1wwC89EhPLDK3WGFo7UqRX5dH24hAQJoauXFJSn2jeEKz7O7naJrYysQdZlBcOxInh7gJdw2JsXULAQhRLpFcOIPay794LV/qPpXfffIq1i4d4sAv78UZD32SVFOCz112NHt8cBtsrObw48oHwMCyAX598C84fcIXufDAs3nmsntonjIOmsa7Fqw4LV0IsDLEaqcYMcCTZ57Dtdvtx7U7H8j9nz2VdU8865JJYq2GQKPi9jRYn/ExunAJt3/gy9zyodOIKhXEWNtVhJROB1J31nKIkMKAEKy4+1mGFvagsQSiFtsRe0gUojlNIjCMrBoiMh7CKqoIlFLM2GUi19x0Bc8vfuZ1u0caaKCBBhpo4N+JtyQBSU6cykC27eW/0BrpqY0WZVJJFg8M85mbH+CwK2/j6ucXUY00Vkf8fbv97t3tPHzHbSxf8NIbePYNvFZkMlm+fMpv6Rto4dxfPcW6gRIAF13yBAcffSXvfs8fWZsvOXciAAwJX1EsanQUd/YbgTCSiV1Z/nje4Zxx4l4IIxEuihs0SOvyQpIF8EKc65VRSANBVTGpI8t7Pno1J556G9Zafnny25ne1YQXWkZHKpxz83PM6mris/vNQ0qFtYKEkCwfKXPQDlP42Sf25MklAzSnA37ykV05bOdptKYCHl0wzCk/uZTt9zrwdR+7o962CzvusB0r7rmZ0NaoqTy5CVNRStPmj+CrkAQ1crKIDSuoQLDbh3fiS4+eipf0XAXESgQRSTRKQGtHguK6AhZDUoa0NgmiSohB8Z5ff4gPXvppyiNl/OYW4kh7hCWWY3vO7jgmeDXrgxF4VtAxs4s9Pr4733jgC/xo8Sm85wfvYuaO0zj62/ux89FbjJEGg0EJiyIiROE3ZVi3sJd579iMY674FKf2nMNhl3yReh1DyBpSaEzkgU4ihF7fcmUt7Vtuyvbf+hL7XfsrOrffIta3CCDEj8mHiNurAIQISSUMQ/OX46cTJJIJjDBufeWE7OsrKBZPhPgSlBAoJLd/8efc8omzSYoobvNybWfWGpIiQiqPfH+edQNVNBY/FvIve7yHTQ+YxrcuOInh/PDrfq800EADDTTQwJuNt1QOyIb47ne/w0O/u4APbTaDTdqbAbh58SoOmDMNE0V4de2HjtDG8ufFq/jDM4tYMpynI5Xgg5vP5IhNZ5L2PFaP5En7ipZkgqf6BlmcaOaMa274/wqCR4eGuO+6q9jnvR8imfrnXYsaeO2w1vK3Oy7n2qvPYeftJ7DDdl1cec1LXPT7J/ntL97NdvMmIoxBGOhdWyTwJO2tKXAvnuOdgLDSkQu3U0Qk4xmys+0VOOvfahqsJxDWTT2N0Vx54wuUCjUO2H46pZEKlWV5+kYqnP3np7nnhR4u+cxezOtsoVSLSGZTNDclGIlCFIInFvXzsXP+xpcP3ZoP7j2Hax9aRrpjMp8+40JyTc1v2LhVq1V2Pu7jjD/8INKTJxHYtUzZxqKkISvKdMghBsoJhntHmDi9GSsMASFnbvd9su1pTr7tEwS4sL0Ai7CGZQuH6J49DiEk2moWLSySmzXN2dkawfL5eVpndYPYQJczFjxoCIjcmAOKiJQIscJJwlPUSIj67y0BdWIp43qKwFiLJqCKQhNgMM6swGQomoyruhhF1WSILBidoFDLxCJ4pxci/lxtHDxoRV334RywpIqQMXsyuLR0KUJ85XyyBC4XRMSURQoxRpLq16mEc/xSsYuWwlLs6SeRUmTaM1hh8QBBSCAipKmxbuEaJs0bjy9CklRIi0pMgtz1P33jfAoLIs75/O+Q8i357qiBBhpooIEGgLdoBQTgox/8ILcvXc17/3w3x/3lXv6ycCU/f+IlHlzRQyABHbk/gJKCw+dM4+x9d+BH++zApFyGnz76AgddfjO/fuIFHu7p59LnlwCwVWcrhd7VPPDX61/xuOt6VvGrr3yOz+2/J9f/4hxuuviCN+uS/2chhGCft7+f75z5F4zcjPN+/TTTprRwx/UfYJvNup0GRDhhuQ4N6aTnKhgosGqsCjIm+tWOfAhrQBtENYx/1ggtSeQtqmoRxoABheLdO89k9zkTGF1bZGTBCAMDRR59sZe7nu/hg3vMZl5XOyPlGjIhmdCZBQyt6QTjW1Is73eWwvttPZE7n1pBqnMaX/7pFW8o+cgXixz7vR8im5vx0ilSLKFrE4hQTJC9dKlBlAxJr1nIxEk+CE1O1MiIkI6prQytGCIRk4UktTiKUNOSMIRl50glhEeGCGEtxngYkrSMS1HqGyGWXTsKYd1nY5BjlRARV0U0PtIKAgQG37Vaxa9EdLwPWw+YxFLFc2LzWA0ikUQ2QLA+4VxJTUCFqk4Q2QDl1WL/LdDCjP0xUmPjSgTWomQIMhrTb9STSgJZQ6koDhZ0kMISyCpSOAm9jQXqMtaIiJgyWSvi5ZqmiS0k2nOYWBUjsCjhzkErn1RzlpGBPJIQgaWKj4hT1xWabQ/chIpX4MIbzn3D7psGGmiggQYaeDPwliUg3dOmc99Jn+LzO27KulKV0+59Em0sX779UV4YzL/8yqxhYmsTM1tzXHjQblx44G5sNq6F85+czxUvLuXKF5cyWq0hhODtE9v53ZnfpVKpjG3eu2IZ55zwcT75jn3oe+R+DpvayR4T2rj+D79Da00DbzxaWzs45iPf4ZtnXEsiuxM//eWzXHTJU8xf3A+RRVhJR3OSvv6ia7GyGqG103rg/o6RCB2/ZNcGGQpEBIQarEBYjTQSr2gRoQs4LK6tsGbJKHaoRnnpKFE1ZLQU8dObnmNmV47P7rsZEkNnS5ZsIsFQuUJbe5ZpXTk6JjSRSbpqnNGwz+YT6Vu+mFUL3th+/sO+8W1Wasv0o95H06xxeMkyiQxsFSymU42iiEgWhsklLBMTo7SK0TiRPKRrfJKR3jyIkAwhCo2wIQGGdE4hi6OOdFiD8Cw5O0oUOzclWjOUR4qx0xUIPDRyrJqokUSxygKgbKXLxsBghKVE7GYVkxC3Dxmv4btMj3pLlK1SNoIKPlZYkrLk0s0t1Gxi7CtACBBeFayNHc1il6ux2q91eg9px2xziascgaw6dwIYO64hwpdVkAYlY9vf2PPL6T3c2s4ZSyNwVR4T0yQDbuxczrqrzAHZ8U3oQpmepaNUihEGychoBaq12EVLsOdHtuLWh//Cvc/e8YbcNw000EADDTTwZuAtS0AApu6+D8dvPZsbjt6H3Sd10lssU440n77pfnryf+edb12acVsqQX+xwrbj2/n0tnPZpquNxUN5imHEZXEVZGIuw6RAcvXZZ7Fy0UJ+dPwxfO3d+yMWPMsXt5nFPtMn0JFOMqOliSCqcfd11/wbrv5/F+3t4zn6/Sfx43PvYNs9PsH1dwzw/fMe5Knne0glAjzpUa6ErvJRf6NuLEJLFyoocNWOSCCMdtWRKght4mqJxtMSryiorCrSt2IEM1il2lsmrGp8BN+77km0MZz7kT1ozwUIT1GLIpLtaYKkT6g1S4sVVg0XmTq1BYD+oSLt2QQHbtbJr7/5OYqFN85xbcvZs4jCMkGXJAw1AYot1bNkRAGfKq2lXgprhmnrTpIhpIkKARVaqJBtTVDOV8kv6SWsVPEsJNAIIN2UoDZSJUPNtadZhZSWFpnHWpdfnu3MUeodrGeYu8qHdTkuIiYgxsZVB6BKQD1XXIKrkozVM5xOop6m7gIFHdmskUbF+engqhIeZQpRjhCFkiEyDguEej2jnn7ujmatRUqDtHVi49q8FBEp5YTi64mHxaNKUoYIYdfbAIsqUmiUcNUOhYirIhpPGKwQY/u21lVIrBDxGQlq9YqOkLRN7aRlYhtrB2v0zu+jWghZt3wUaww6DLHa8LaPb8tP/3Amw/mhN+z+aaCBBhpooIE3Em9ZDQhAbaCfRScfz+N9QzzfP0RrMqA1GdCWSjChJUdGKSc0rkMprLH0jBZIKMVItcaCwVHmD44yf3CE1aNFLnn3nmQDn2It5PynF+AnkuzU2cy2E8bh14dKyNjHU7NspMDd+Yizb77rXwqRa+D/Dmst859/lGsv+yGito73HzyXwqgml/ZQSqCEoDWXQkk36XVtWRYRRjj9ukDoCCsl+AInoLYURqusWpun1lukUtTUaiFtqYCzb3uOi+5ewE8+tDPv2W02fUNFtLEkOzNMHN9EsVpjQneOMNKEVlKs1hj/jl/whYO24Ifv34mFPcM8t3qYflr49E+ufEPum1qtxl5f+hxNb9uF2VOrbDprGDEyyKRJCbKE9C4doGVCKyLhgQAPiLBofK745p384dv3cvmqz1MrV2lqTZNr9V2Lm5CsXjTIxNktFEmweHGVtumtRCLDkElTs86aeGDROppmTYzf+LvJuiQac5USQCAqqDihXKDJiApB7Lol0aRimmBE3bZWYDAYCyWbROO7jHILNRJUjaJkcoTGJzIJl8thoRKm0DqFQSBNnQTVCYlBKndenrAgjCMtMoz/7s5B4Vy1kGEcLGhZb6cLxkgMPtp5aQGOELl0d0d7FAaFQAqDiAMNfUKC+Ji+sGg0AREJEREQkhCa4mgeRgrk2pOsfGkdbRObWfJoD2J1ju994tzG904DDTTQQANvObySl+1bBkF7J6kZc9hOLmS7CeMwf5+QLgV6QwKiNUJKxmdSjFRDpBBsO76dfad14yvpxMgWhJQ0+4pPbTeXQCk3SNaCUqA1WANx28TUpgx6zUqeeeA+ttptjzft2htYDyEEczffka+fcSW33vAbzvvdb/j8B7Ylm/IwBspVzereUaaMb4r1By6XwXmmGqf/EBJhDLYmwLOUixG9a/PI4RqlQhWpoTOb5sWeAS6+ewE7zhzHwTtMZ22+QiLhYTM+E7ub6B2tMGNKCyPFMv3DZfxEgqfnrwGgsyVFGEYk0wkO3GE6Z/zpKW7+/dm885gTX/cxCYKAy085nWO//yk6j5mFtE3IUoksFhNpVAQtvqVgXe1BCYENa4z2DpNfWwSgu90n8pKsWjhEc6YZ35fUECSTHrWSJpuu4puQqkhjUKREhTDWgmgL1kRY4TG6vJ/+51dQXDtMpW+I4tpRZrxtczZ51zakqIFwVSVHKGqAi/yrAh5O+A0xAbGSCD9OA3GVDCHARoaCbXEtVDJCWYW1PqHxqeeQABhpURaEdaRIC9eWZdBEWDwRoWJtiCV2SxMaiXPFqn+bqNjby2AQeFipkUbFGhEbZ4a4s/biYEYQCOECCz0bC9Xj6ohGoqzZgKBZQqHwsKSb0gwOFEhWI9on5NCRZdp23dz79DNc/+gVHLLj+173+6eBBhpooIEG3ki8pVuwAJq232MsCf1lEBIhxcuXCUFLMmBqc5a0p+irVKkZl2jsxMgRaE3WUwRq/eRlvczVkRRwk9+d2nNc87MfvSHX18BrhxCCdxz8MfY96MNcdfMCMsqHyDKar9GaTSF0HFqoNWjhiIhyFRSss+0V1qIrESt7RlCjIQNDRXzpMS6bpLPJ57vXPwUCWjIJjDFkmwK85iRTxmVYWywxaUKOkUKJgaEqHbk0tWptTFQ9e944gpYkiYRHZELe88653HbTFcx/9hHAnceNf/0Vjzzyl9dlPKaN7+a0D32aR//wOG3VYXJ+hIk0hdV5ck0++eEioyuGKA6VGFgzzMCSYVqbfJIphRDgeZYkERO6kwz15QFN0oZ4PugowiJI2NBVALBYlGtPwhI0pajmq1gkqY5mltz+FDd/5tfcedoVPH/VA0zeYx4WScX6KDTSydqp4SGsdPkdcZChjMl+aG0sh3cTfI8qGKjoFKFIk6C2gWVulYpW1EyAESBUuJ6GCA3SYIRen9thZZxgLjBWYa1zr7JAUlZRysTtWM4OWIgqUjrNh6g3m4kaQmgYywKJvy+sHROw29gIoS5Yt3GLmoxpsYfbPoqvuxzXW5KpAKECwlJEMquwWrP9obO45KoLWDfc/7rcLw000EADDTTwZuGtT0C22y2OKDZI7+8KOjpC/j0B0RHSc9MUz1e05NJMziTpK5RYXShtXDEBVxWJYXUE8TFsFCGU+3leRwtrli9j2fyX54e8+PgjrF44/1++zgZeO/Y/9GMMjBqent/H0FCJ6Z1pmpIJhNHOAUtb9zMSpEKo9ekN64arLF4+SDBUZe1QmaSRzGrPUDWWyx5czBPLB7AWXlg9RFtXFgJFd3uSoi9oyiUZHS5RLkWkA0VxuMyspjR9gy6/ZM7cLmxHkmTOp5QLmDOzjf12n8IvfvoFentX8ZOzP8Ejj17DJb89k8ULHn3Fa1u04ClO/NTbuOGa8zZaPjyy7hXXD5QkHM1jyhU8qTFDFaqlkJGhMrUatHQmEbWQjC+ZMruFXMZjaNUo7d1ZpLUkjaAl7RGVI0zNWdCKchXP96iQxEtJmmtrwRoifKyAtCziZxJUCxEGwaLbnuLFq+6naUonAPuc9WHSTVnqlrahTVD/KgpjDyism+iHsZuUsQrwY1+s9c90hEcFjwiLlBqPEGkFVZ1DiXq1C1dZECEbhpXWvxrqmhDXKBWL5603JlLfMNtD4BLkPVEnHcT7dXa8jkzVEeKxPvNDjmW5R1hRF7xLQizYCIFxAn3rWsRMbDQcokjkkhSLVcbNaKUyXCWZ8vADj7n7TOLM35/MW7iTtoEGGmiggf9BvOUJiN/SRnr2Zrjpw6tUQTasYgiBj0H5TmxMFKKkYFpzhvZ0ip5CaeN/zKNwY2Lz9wQFkEKwXXuOa392ltskinjk9lv5+sH78/2Pf5iffP5TjQnCmwgpJTvucSCLVwxjrSSQylW2rIwjJkz8OcYVr/j+6B8qUS1UyZVgYKhMp5CkfUUmFTClLcPJVz9OwpPMndjMqoEiC/vztDQlCVqSFMpVOnMZKuUIDJSGQyYl08hixJo+Jzaf2JWBTEDT1Bz5qob2BHN3mMDmm7Vx0kmHEOkVHL7fdD62zxzOP+urjAwPbnRd9919LWd+83h22KKZm268hKefuhWtNb/63al84sT9uPuBP42ta63lV9f8kHMu/x77fmp7mlqTiHLE6EAJ31eMm5ijtTNDKhEwblyW5pYknjYkrGD1kmGmzGgmMAAGZS1dTT6l0SrWRvjKx9dOlB6GBvwUWWoIbFyI9El4lupIgRs/+jOue+9ZpDtb2P4z72ba27dm7tF7UbXOBtliqVmPmvXA1LUobhovrKst1PCIYv2Ha2TSGCMo2CxaePixrxYAIqKgk66mIkCq6pgzFrFgfb2ovC4DtyhVQwiJNe53Tlti8GSNcMx7S+OLeiuWjamRa1/z6uJ4AYIIRYgvRExKXLMWhPjCYoWI6xrCjScaI9Z7aRmIE9/HzHrxM2kq+RoRinHTWqmWQozWzNhuAmtLq7ny/otevweogQYaaKCBBt5gvKU1IHU0bb8HpQXPxUno3sZakLgKYqXAU9K1TukIKRWRWb+eEIK0gNZMir5ihfHZVwkX3EALYnUEygMdsfW4Fn75yCNc/K1vcPf119CZTjKvJcuO08dzw/I+nn3ofrbcZfc3eCQaqGPnfY/mh1+9hq1mt1OraAJlwIuzP4xzPxIYUBK0C9EbWlNgghfQl68ShNCVCxgWhhXrRukvh+QrITvOGscLq4f50hFbsy5fYafWDMv6h+nKZUBbpnXmGFg2wrhMAMZVzJ5dsJbujgxhBAiBDSSVJogygtZcwEEfnMtO66YwzctQ6qkxrEfYttnj/FOP50vnXAXA5Zd/h6cfvJXPfXQrMm1pJm/axoUXfJeWyRcRyQHeedQsfnnxd5g2ZTPGtU3kzF9/hlXRGnZ9/xxmzmimNDAKArQWdIzPsXrpINPmtiGlAgwJ45qAjDGsWDjMfgfPxjcSg8FD4guIQoMyEAQSUasRhGUqJDBK4ROSM0XW2mYsknUvLOHKo85hdPUgO37xcHY9/QMUl/Ux84DtYrLg4ZQekcv3sMo9p9bZlJXxSGIQ1ukmnNLChQcaKymRjnNCLFJaMJqaDijZrBO229j2VoC1Ica459nGVYw6EbEbRAi6mphC2IhA1vCUW+JM1DQJGY21VykkJq5TWHwQFhW38dXXcRTFidIVIIULLnSkwuLFCfNxMyAhgoB6S5eIK0D1jBRJdlyWNQvXkWtK0tbdQu+StQysHGHv47bhyh9dxl7z3sn49glv1iPWQAMNNNBAA/9n/HcQkG13ofeKXzstyN9Bem6qYKVwwXI6XudVnGOakwHlao3BcpW2VAKAsFbDSOU8dzYQoAMIEyGUJKUU+05oZ809t3DM3Cm0ZTOImKBsO1rk8h99ny2veX16+xv4x+gcP5nJU6bT21ciIXymdWUgMtz4wFKuu3cRF3zlHRBpEAYrJCsXDdIpA5avHKbZ8wmVQCY82jFUUgl+df3TAAwWq2wxtZ0ffHwPKtqydiBPqibIJjxsrYZZW6VVebjX7xKwPLagnx3njmdwpExrawKTcu5ceb+GTSqM0DR3p1ErLbmaoY0EwawOnn9iOZf9+jSWDa1g3eASjjhkE2xWIVOSZgI23bmFfG2UPQ+cTZAKsEpy5jmfRviKzumKg/aZjpf2iEYKGBOhtaVWCeldMUTn+CwSQa0UQlVTKIWUSzWWPr2O/EiVrXcaTyq0RNKilSCV9iksL+CPS1HOV2mZnKWmXPVhzLpWaAIbcs+v/saNX/4DiaY077npW0zdaxsMluY5E6GuhcBSth4pDD4RnoSaDfBFlfokvUqCBLV6UxQRhtD41EgRT/XjioEhsoqiTQMSISxKVtFREm09hPBchcIqIgHaOu0HFqzAkQDrPgfXFhaBjKjTj4AIJevJHgYTRxVKiK20YsIgNdY4erLeI6v+feMIjkK4pHTqTlju6rzYJryuJ6mhSMbjBC6PJtmWpaktQ3GkyNqVQ1gD6eYULV1ZtjxwGmf+7mR++sWLG65YDTTQQAMN/MfjLd+CBeDlmsnM3cr9RUdIJVG+jx8olHQNF6+kBfH+XjMSL+9qylKONCtGC6wYLbCuXGFdqcTqfJFyGKGERUrwAh8lZdzSo9mqs4UDZk6iNZnAmno7imXniZ2sW7WCZfNffINHooENsd9hn+Cup3uJalVMJCgXIj5+1u088OwabKihYrFVTe+L/fgVw8hAmbRUDJUqTG3PuSaZREBaKB5d1M/mU9voGy6z2eQ2JK6Vb3ioQmdTAj1UxfSUINQYYzGFGtbAkrUjrFxXYNd546Gm0QFYoamO81hXrRIKTSgE69YVeLQ0yOrF61g8OErUneXQd8zmsfm3k8z0c8R7N6E0ThJ50D+Yp5aR7HfQDA44ZDaVqmbpggEmTWti1tYppm+ZZO9DptOWlFT6XVuZLkaE5Qi0xWrD6GCJ3qVDlAdK6FpEJusxc3IrLzzRB8B2207AN4JkBF5o8DX4viBV0+jIUk1mQIFvSggbEhJQrYRce/z5XP+53zJ517m8508nM2XXTcZ0GDL+b8NOSW0ViPqkXlCyASZOTrdANdZEWAuhSVEmFU/RAQzCWopRhopNo0Q0dqw6IqucvkO6Cb/A4sUu2lK69xDa7QlhLb5XxvNiZ6v6roRGY1yTmbV4uLZLKertWlEsoRcoYVjfxKXHSIqjJSImGC4Jsx5M6MbGUCuUCA1j12ew+DaKazb15jPINCdJNqVIpH3Gz2wFLJvtPY0867j87gtep6engQYaaKCBBt44/FdUQACad9iD4gtP4iV8hIkwNhp7+Qix3FVK7IZVEuHaO/5enyEwTMylN1ompaAWafoqNYJIkAwCbBS63ymFieI0dBnPaLBYJRFa4wc+27U3cc1Pf8iXftno1X6zMHfbPUhl21i2pkhrOs2Ti/pYM1DkJ5/cA1E12Egz3FckP1qjHcm6kRIIydSWLFJaRMI1v1ireG7FIG/fahLPLR9k2rgMthjSP1KksymBKVuoxc02tQiExGpNtK7MzU+vBGDfXaYjpcIKGGi3tMg0Ly0coMlGhMMhrS0pps9pQ082TF0rMcKy1K9wcPccQgXrwpD+lQUe6i1iChHlQo1sa4LNdp3I5Fkt3HD5i8zZtJMDD51N1VjWri1SqURMnZQhP1JlbcG19gQJH98XTJrRjC9c+xURpC0YrbnushfYdY/JpHxFIV/mop8/wTvfOZvx81pQnovZyxpQFkrlEJVIEmDp7Rnh3MMvYukjK9jrxHew63c/TL4vj65FCD/CxkGCdUgLfuxCVaxKsoFBSOtE2dZHxdUIi6JqBSEJwGd9Nrog1BEjeYXJKBBOfyGponWCmklihUSJCKyPBiIiEJ5LItcaqdSYM5YUGiHd81wPKwRQojZGHhxl0GhjkWr9uxspQFpLRP0cQrASKZzPVV0DYolQIiYYcYlEm4hw7RD5YoUg4RH110BYurp8vGwKEX9GIQbfAgiM1uQHikye0xk3cxmEEOz+gS257idXc/TuH3nllysNNNBAAw008B+C/5p/pXJb70xw1fkQVgFQnocOncZjoFTl/dfdy9GbTeeoTaaQS/huIx2hlCSqk4c6hEBIgTWWnz32ItVI8/Ht5tKZSTBeWPqLFSYlE/U4Zdb75ABRhPQ9Vg2OcsJtD/ORLWdx0JypbNPZwi8fe5R1vWvoGN8NwDMP3Msl3/4GR37uRHY+8OA3cHT+NyGE4NBjv8Svzvwyu8/rwg6H7DCjg7dPH4euhtRGaqzqG2FKOs2y/hGwgowvCRL1gDuL9D0K5Qrv2HIy283s4Mr7F9PVkqFQDKkUq4yXHuD0QLoSt/agXVilgVwkeNeu0+nuzOClfawQGKGpBZLmyTnwLN0dGVIWioEgSil6pKVUqHDuzx7m1z9//B9ep+dLNt26kwvPeoQLrj2Crs40F5/3GJ8+dWeGVhXRWqMUKOHak6JQkB+ukl9bwVeSluYkieYEldGIrbft5qB3zeKJh3o467v30d9X5NgPbUlGw9qyRkhn3tBZKbF8TY2mSeNAGPJLVtG3YC3vu+R4tnr/rkSmwnChQjC+w7ljxToIMybdXv+W/7av/YEXrryPCdtMZfsP7MrmR++AChSBFRTzRYJcbkww7rYxGCPpWVnjnFnH46UC0uOaSbZkMBb2/+2pNM2e7baRFmEMWisUKm6rgvtPPJOBp19k6kF7M/u976BlRgcA1np4aKTQeKKu+ZBgNQkZMrCol9/sdgpTd5/HO392HM2T2wCFFRZpNQaFFBv6dIFFo7Dc/Nlfk2rNsPd33k8kLMqEjCxZR64tRcukDCqh8AjxdMjI8n4Skz1MUtL75Erm/20hB524u6uheD7S86iGIb4vx+x+m7vStE3NcusjN3Dgrof9y89PAw000EADDbxR+K8hICqdIT13S264/nr2nd690e8GylVakgE/fOA5fv7oSxwyexIf2HwGM1tzICVCmrh3O4bWrnVLSkZrIX96aRlXv7SMozedzoe3mImSgnKlQiqRxEZRbO27gfjdWAYrVQTwjXue5PfPLebzO23Olq1ZfnTSlznymOO4+YKfs2jhQrp8yQ0XX9ggIG8Q5myzB5MmTOaRh1byttmd3H/KwW4Gmq9hyiG6YlhdyTMhl2LVcImulvSYPEgYDULRlEvz+0/tw10vrAKgqynJ6rUjzGjJgY0zMaoadPx23HP3FAjeu9VU3veuzai0eawph2SURRpBpCyZtiRGQBFDOVYzhELS2yFp9hNM36aLD5ywHU3tCVq6c0ydlmNcd4Ygk0Ray+CqPIteHOCxe1bx3GNrGB2ucsZX7uQ9x27GFb96ilox5Piv7UgkfUSoibQmkfLwAx9jIdccMK4tTe+qUTxhGZdNcPa5B3DaSXfw52tfIgwNQULR3p5CViWZSFEYrpLMeNQ8RSoMCQKFxjJn99l8b/E3CZs70YAuVwjSitrYV4wgrNUo9I+ilARPUVOWZGCZsOMsqgOjLL/vRa447nyyJ/2RXT65D7t9fE+e+dMTjNtkPLPeNndMnB0aScWm8FOGvb75Xor9IxT7hykNV6kVXTaIIkLgEdl64vl6SmCA9s1mMfT8Qp78/vksu+42jnzwt4i4HKKtRskqVjr73IQI49YqidWGWQdszfJ7XqDv6aW0TG5DxPtUQmCswRESA9apQeri/spwkWV/e5bdvnoIqazLSVG+wmvL4qFdYKGweJ6iaUobA8sHGDe7jft/+whrXljDgV/avW4qTLYzy+jaEu0TmtdXQZBsvt8Urrj0Nxyw8yFI+V/RYdtAAw000MB/IYT9L/KHffb2v/LNEz5JVybFiTvPA+mhN3DEeqJ3kD88u4Rbl/QQGcvOEzv44OYz2HvaBKwx1CJNCejKBIBFh25olg7n+eXjC/jLolUkPMVntpvDnpO78DyP8anEWIq6qQvclYfRGq0NNy5ZzS8ff4G+YoVDN5nC032D7Dp9IvtO7mTLjma0MZz9zFIuuv9xUqlXcd5q4P+Me669nGt//gNO2H82U8Y1ga8QgSQqhixZto6mRMBoKSSlBNZCV1sG6Ssn5DURKuMjfA8hBb+5Zz6fOP8eHvrWwXQ3ZehuSqBDsJUQZOytZCzWREhPIj3POaUJhdmhlZfyebq3bENLTSEQlALhRNFSYjFEoSWqWRJZhbYSv1xhdLBMAQ8v6dHZGqAErrqCQWrD2uUFTv/4zfStGHUhdwIOO3pTnnp0DY8+vJrzbjwMP5kg1BFSKRIJRZBSSBTdU3KkEYz0FUj7PrkmnyAUVEdD3rb7xTQ3JymXI66+/Eham5OEkWFNWCWY04QMJKsWD5ObOZ4BlSMigcZQNmmKNsVQXpJfWyI7ZQIGRWgtpmIYXNJD27RxRFpjIo0flZG1ItITyMBj5e1P8eDPb2XFI0vwkj4z95zDqieX84VHT6NlUhsVE8TpGOutdbW1GJugZjx03G4FYLRHzfpIBJEFjI9BoDAgXLDg0KJlRMUynVvPQYoIX1bxZRwSKCMkhoSoxuUXO0YS6hkmJpaJu79JjCX2twIRi9zrkDj9jVQwuqQXPEHTuCb8tCIhnPkwAgIsQkRUhgrYwijtU1pRxqAkWBGhMNTyNcJilZbxmdhVLHbzspabznmE/Tc/iqP2PfZNe84aaKCBBhpo4J/BfxUBKRQK7DZ3Js+s7uebe27JB7aahf779irl0Tea54/PLefKF5exrlxlYi7NMVvM4OBNp3LCjQ/x+0N3xZMSKz10bT2BWTyU54wHnuPBVf1s29XGN/bYEt/zmZRJUkWS2FAAKxVGu5aVmo744YPPc/VLy+jKpJjenOVX79zFhRpGEVcvWcM7TjyZ3d916JszUP8DsNZy/a9+zC1X/JbP7TWHaeNzqKyEwGd0oEzPQIFWpRgcLQOCpO8xIZdEeM79SkiBiG17ZcZH+IqTLn2Qn/zlOR7/1qHMmdACFYPV1mmBLIg64UAipEAqHCOwBhI+L27r4bX6pMalsRJGfEtNufadSHhYY/jpZ27hsTtXMG2zdqbMbWfKnDambdaB8j2mbTaOrLRuAh23BfkagoqmZ9kIrR0pdFlTHdU89WQPnz/+JsZ1Zzjko1uw24GzCFKKIBBkcwnax+fAajwtya8YobUtRTLp4UWCk0+4lSsufY7L/ngEV13xPD/83n6MjJRpm5hl/tpR2jdtoxhq+leP0jK7m3UiS40Ag0VbwRo9jqpNk+8fwWhDalwXIT4CyeDS1bRObscLFM7dCVKigpJR/PS46fvqRxbxt+/fwNqXehhY1MfkHWfwsTu/iQ0ScU3Bra0NVGwKiavEYDy09QitxVoPbTxMbKXrEu8VSgg0Fi+ujRBneHiyipJRrOMAKUISsuJMJxBOwxHrLewGz3qdiIi6zsVCGGd44O4GTHwW7ogWUYsYWtFH56wuAllFCJxVL2CISFLFE5KR1evIZHxSrQk8G1EdLhFVQir5Ku1Tc6STAZYIL66ACCyjA0Wu//4jnPPVS5gwbtKb8LQ10EADDTTQwD+H/6oafTabZbPd9gbg2/c+wy0LVyL9l6ejd+WynLDDXP527Ds4+x070J5OcOYDz/HO39/KY2sG+P79zwMvd+qd2ZrjNwfuzDf32ob5g6O890/3cNuSVSweGuV79zwxFmgHoDB4nsCTkPIDdp3YweSmDH3FMg/1rOXJvoGxUMNNsgke+NPVb9i4/C9idGiAP19yAZ/dexPwQSYUGMFA7yiLe4aZkEwwUgzxpUQJ4ciHchUMrEEo4chHKnB999owf9UIk1rTTG9PY0ar2FDH5EOAwbXjWQFaYyKLieJwusBHCsn0l0L6B8sYaSh6gmIxYs3yYZYuGmXlokGee7yPauSEzPf/eRFX/vhRtJXM3n4iM7fqRvqSkvRigbRr8apow8rlo3ROyBKGUDWGSBk22ambk87ai2TK445rFtDSkSaZVEgjaWlPIywERiGMJV+NSCU8PC259KKnuOLS5/jYJ7Zl8826+MrXdkUkBSXfUMoJpG/JRJp1q0ZJTeskFNBEAYWmZhQjtgU/fkuf6WymVigTmbr3kyU1rpWhVYOEkRnLvyjZBNa6Z0cisfi0ThlHrVil0DdCqiXNwJK13HHmn8csfCUCYwWRTbGR4kJGGOvohRUgZGyXi8WXOFF6TB4iLBGA1ShVRUgQeCjrqiSJjUIHNR52TIiiEHiuKWtM0eL2ZuPwQbM+HDFOLIF6CKLABopkxkMXy3HSikRjEYQk4/R0AeQmtjK6roCphAwsG6JWiki2JBg/u50g6WPHjlOnH5am9hxbv2saZ1xyYiMAtYEGGmiggf9I/FcREICTP/UxfrLfdvz24F3ZpL0J8Qr/ACth8HxBJhFwyCYT+dNRe3LJ4XswuTkDwO+eWcINC1Y5kXqwMYERQvCeTafxpyP3Ztvx7fzskRc55a4nuX7hSm5dvIo1pTJCOeLheR5YS2QNHekkx241m6PmTmObrnb+8NyS+g6Z3dbE888+QxiGb/j4/K+gua2DQ45+H39+diXWExSqVWTGp6U1RQ7Il2rUQk3S8/GEjEMlDCLwAQUCZDpwE1Bjoap5btUQm3Q149UEGOtMDowA47JErHbWy1a4t9+6qrHWki9XuWN+D5nIJ7ewyqq1JRYtHiSfr9E+PkuuPcUNFz7Ll/e5jJsveoZsW4pEyuO0a49g3w9vTyjiyTQKISRlodAWyoWInuUjZKc3ITxBqVghSAckWhJ4vuLAo+dx9cPH8OPfv4u2loDJU5vJNPkUh8p4RiMxrO0ZpbMzB8DD963kWyfdxW57TuHk0/dkNF9l2owWBgshbZ1Z1vWXaG5NUgldFcAL3DgJAUmq5MkS4cL/krKINeC1dlLoH8GFDoKfSZFsamJkucuxcBAUTQIdW+9qLMH4No6/5et8Y+ACvtZ/MR+9/3vs8bX1wuqallRMIm63isMFrcBqHxEnnoM7NyFrSGFcdSJur1LuU8YXIZ5X34s7NoT4qgTSNVYlRURC6LEXEjZONXdtXHaMhLiMD0ccpHCUS2KQMTkA4mDC0NWLjEH6Mk5EtwRo/NhJi3ivCkvHlGaGVw2SakvROqmFZDqFlfXj1rPc65khABFb7DmVsi5w84N/er0eqQb+x7F69Wp++tOfsv/++zNlyhSCIGD8+PEcccQRPPzww6+63ejoKCeeeCJTp04lkUgwdepUTjzxREZHR1+2bqlU4sc//jHvf//7mTt3LlJKhBAsW7bsH57fXXfdxSGHHEJnZyeJRILJkydz2GGH8fTTT7/ma+zv7+fMM8/kyCOPZPr06YjYKfMf4dFHH+XAAw+ktbWVTCbDjjvuyGWXXfaaj7shqtUq3/72t9lkk01IJpN0d3fzsY99jN7e3ldcP4oiLrroInbZZRfGjRtHLpdj00035atf/eqrbvP3CMOQa665huOOO4558+aRyWTI5XLstNNO/OIXv0Br/bJtnn76aT784Q+z5ZZb0t7eTjKZZObMmRx99NE89thj/9Q133XXXbz//e9n3rx5tLS0kE6nmTNnDh/5yEeYP3/+q273Wsf9m9/85thn+Y/+HHfccf/UuTfwf8d/VQsWgKlVWfr1Y7HVytgyKz1sFOElfDcxsAaEHLPOtdbyy8cXcv/KtXhS4EtJc8Lnm3ttSTqRIKr9fRuXwmiD1pqrXlzGZS8sY/FQnnkdzVx22B6sGS0ztTmDVB5R5GxZEQKrNSgfYy3ouLVLKjCaKxb1cPg3vscO++73Zg3Vfz2stZz/5WNQoyvYdfPxTGlO49egPFJh/uphkp6kqgXjm5K0pX1k0nNC58BD+BIVqPhluaBarZD7xO85Ya+5nPGurd0be2Ni+1flPt8oxFpny+weK8FzPQMcc8UDHLztNL575HY80zcM7+xEbJJDJzyeeXgl33jfX1i7cpTdjpjL+0/bm6vOup93f3Jb5u421UnThcGzmgDr3tYjqY2WyPcUmDijBSz0Lh5ganeO/tUlJkzJ0Lu8QPfsZtb1FVFS4QeSoVJIGEZMmdaCwFLJR+TXlpg6pZUnH17JRw/7E+0dKW647YPkRyu0NqXINPssWTrK1Ok5liwfpmPTNkaqmmKhipYC1d1BngwVElSMYJRmZ3lrAoomRUUnGVzcQ+usiRiDc4lCUhocISwU6JzWhhUaJQSSkJSIMMLEnx9YFJXRErVChdaJ7S4PxAbUrB+L0i0ai7EQmqCu8Ii39WK3W4E2rrqhcRUuT0UY49zuIG65QuPLCoF0JERKiyIkKTRWOHIpcDkgRjhz3nrLld6ACNTPASviXHPiY9gx/YlEsHbRGjpndqFkhI8mECHEhMYZHmt8qmMtYQqBESEeGn+Dqo+rzgggop5BopAM9Axz09lPceHp19KUbX7jHrQG/idw0kkn8YMf/ICZM2ey11570dnZycKFC7nuuuuw1nL55Zdz9NFHb7RNsVhk991356mnnmK//fZj22235emnn+bmm29m66235r777iOTyYytv2zZMqZPnw7A1KlTyefzDA4OsnTpUqZNm/aq53bGGWdw6qmnMmHCBA466CA6Ojro6+vj/vvv59RTT+WDH/zga7rGu+66i7e97W0IIZg9ezarVq2iVCr9fyuJd911F+94xzsIgoD3vve9NDc3c+2117J06VLOOOMMTj755Nd0bABjDAceeCC33HILO+20E3vvvTeLFy/m2muvZdKkSTz88MOMHz9+o22OOOIIrr32WmbNmsUBBxxAIpHgoYce4v7776e7u5snnnjiZdv8PV566SXmzZtHLpdjn332Yc6cOYyMjHDDDTfQ09PDu9/9bv785z9vRMYuvPBCTjnlFHbZZRcmT55MJpNhyZIl3HDDDVSrVS655JLXPO6nnnoql1xyCTvttBMTJ04kCAJefPFFbrrpJjzP46abbuJtb3vbRtv8M+N+1113cdddd73q8aMo4sc//jGVSoWzzjqLr3zlK6/pvBv41/BfR0AAen93NoVH7wZASOGSjuuBgXUoDxNGG2/oeejay6sQf68FAUAKBqs1vnvP0zyyeh1DlSrGwil7bMGhsyYzUg0Zl01TiTTpWKRutRnThqA80JHTDUQRT/QOMDJtHl84rxEk9nqiVqvxw0+9my3aJDOaUkzLpegfKLN2tETSU5Qj99540+4W/JREJn2kJ8Ho2CHNVTgenb+W3X54I+cetSPHbjcTELHAXCCVxMTtdFYbt0xKLn18MSf++XHKoeZz+2/Gjz+ye5xRo3jmgAyX/O4pfv7Vu2npyvDVyw5n0z2mAjDQm6d5fItTFMQTXWsNKesmn8WRKiPrikyanCWtFGtXj9CcTdGU9uhZOMy0aa2sWjLMpFlNVK1hbW+Z1cuGOOc7D7Cur0SpUKMwWuNzp+3GsZ/YiqceXsPxR/yJltYUV/z5aKZNbWHp4gE2mdLBijUjJJoDRoaLJMdnke0BPSuLZFo9brtyPhef9Rgz95jJJnvMYM6eM2iZMZFe04EmgcZSLWgKgzVSE9qx1rWPqbgdq7xuBFMs0DGtybW/AQk0ngjjqbpr0qqNFqlWqmQ6WyibBFBvQ3NkQFswNogdr+T6+B8L0QZGf9IoR3akjSsRTpyukFg0aVkG6bYWWBIiJJAVVBybruJWrLrexP0nELEQvk5IBGI9IYmF8gaNj6uiWJwuJL9mkHQuSSYXV2owJLBYoUlScdkjwoxlkNSdsoQwY+cs4t8pdNyKVc+HB2kjHr/uebzhLk758Hlv0BPWwP8Krr32WsaNG8cee+yx0fJ7772Xfffdl1wuR09PD4lEYux3p59+Ot/+9rf56le/yg9+8IOXLT/ttNP41re+Nba8UCjw4IMPst1229HW1sYBBxzALbfc8v8lINdffz2HHHIIhx56KJdddtnLzFyi6FVCh18BfX19zJ8/n2222YZcLsfcuXOZP3/+qxKQKIqYO3cuq1at4sEHH2SbbbYBIJ/Ps8suuzB//nxeeOEFZs+e/ZqOf/HFF/ORj3yE9773vVx22WVjE/768mOOOYbf/e53Y+s/8sgj7LTTTuy4447cd999+L4/9rsvfOEL/OxnP+Nb3/oWp5122v/3uKtXr+b666/n2GOPJZ1en4FWLBbZe++9eeyxx7jyyis56qijxn5XqVRIJpMv29fzzz/P9ttvT1NTE729va+pgvRq+7rjjjt4+9vfzvbbb8+jjz46tvz1HvcTTjiB8847j3e9611cf/31r+mcG/jX8V/XggWQ234PlO/hBwo/8JBq/ZvOMcTWuRshilCv8EUlNkg0VEqQTHukEjA+E/Dzd+7Aox97Jy9+9jDuO25/9pzWTS4V4EvB6pEC5TBi5WiRFfkSo9WQsYbxuuQ2ikB5bNLWxNOPPcrT99/Ddz5wOM8/dP/rOyj/owiCgM/86DLufWkdK/sKrFpbYqRYoaYtg8UqVkB7LkXvaDHOf7GOfCg37dORISyEPLGsH4DpzRmstS7QUkqscetgbEw+XPvVo8vX8uTqIWa2Z8kEHlFoXAVMSwg1F3zgFs458W9stc80zn3i42y6x1Q3cRWS5u5WrICakLF02dlbVQgoFUNG1haZMKMN63toC7VCRDbnM1qqEmQVnrRIz6K1wFOK7klNzNmqi9mbj8MYw9o1RXbYfRLHfnpbrr/yJT562LW0tae54sajmDg9hwkNqiooFSrI0FAp1BCdSfy2BNVSlWqpxi1XLOC+u9aQakrwwCWP8dvjr+S6b97CcDXJhrk4JizjJSTaqg1zQZFArqOJdHsLQ4vWEg4XAZd8XrYeUUxSIix+Lk1lpEzNJOMmpzqcJW9oA+c6JYjtaOMKgnBp9XWxuS9rSBmNtSrF0ZF4IiShyvF3hEABAREeYbyeQcRnJMYcsJyHuWu5EuvzX2JiU69YCOGqKH7scOWy4J0oPduWpNA3RGjjtHckEJGiihQQ1iKi0I2aPyY0rzec1UfAoOK6C3E9yGlOIhJU2enA6cxf+BxPvfTQv/ooNfA/jsMPP/xl5ANgjz324G1vexuDg4M8++yzY8uttVx44YVks9mXTYC//vWv09raym9+85uNJvfZbJb99tuPtra213xeJ510Erlcjt/+9rev6CT5z4RydnV1seeee5LL5V7T+nfeeSeLFy/m/e9//9gkGCCXy/GNb3yDKIq4+OKLX/PxL7jAvYD8/ve/v9Ek+MMf/jDz5s3jj3/8I/l8fmz5kiWulXu//fbbiHwAHHTQQYBrK/tHmDhxIp/61Kc2Ih8AmUyGE088EYC77757o9+9EmEA2GyzzZg3bx79/f2v2Gb3Sni1fe277760trayaNGijZa/nuN+8cUXc9555zFnzhwuvfTSBvl4E/FfSUDSc7bCSyVdq5WOYr/OV3qD8QrLXuHmExb8hCCVViRSHtK695tqA4G7LwVdmRQzmlIoKenMpJjekqUrl6Erk2JCKmAk0qwezrOmVHVVkLpPvzVkA5/xynDBlz4LK5fy62+e0hCQvk5oaW3nMz+6iD89tZJVQ3l0HMiXTPps2tXEhKYENSmohRFWA9IJ0I0RoC3WCpaucxPkma0ZTGSw1mxAOOoVEOHIC4LtJrezeVcLz/WOcOwOM9CVCFMIiXTEpy55gF/f/ALHHboFZ115NE3jck67LlRspmpxhq8BBg8QVAohPUsH6RuI6JrW7LQpQrCqr0SuJYnFMDxYI9OZIhRODj0yUiY/XOY3P32Yg7a8iCt+9RS55gQt7SlO/+m+nH7CrZz08VuYvWkHl//1aCZOaUJGgt5lo3R1ZujrLdDUElCShlx7ilpY43c/foxP7v9HzvrMrTxz51KS2QAhBEd890AOveQL6EQKJZx9rbBQHYnwstlYsO0Q4SoQCIvKpUjNmEw1HzK8tM8J+1Eb+NcKQiugqY3B5WtjrYNxGnyjcOnojGksxAbkXmNdHkfc3iSkcecV71kBCVEloVybk47VHb4o46sqSrq2qSQR3gYaEEGIFCFWuGR0Ymm8FOuF4I7eOA2IECDjjTUal+tu8JM+qaYkleEyFkiKKr6Is04qIQMrBhldNcTg4l7CQgWEdYGHqHg/JiZA7n9tXA9xvl+GCIUf+Oz9vpn8/PcnU6vVXs/HqoEGxlCf/G442V+4cCE9PT3stttuG7VZgZtw7rnnnqxevfplk8t/Bs888wwvvvgi++23H9lslptuuokf/OAHnHvuuf+U9uP/inpbz/777/+y39WX/f3E/dVQqVR4+OGHmTNnDlOnTn3F/VWrVR56aP3LhM022wyA22+/3bV7b4C//vWvAOyzzz6v6fivhlf6bP9/WLx4MfPnz2fy5Mk0N2/c+nncccchhOC3v/3ta9rXgw8+yNDQEJtvvvlGy1+vcX/kkUf41Kc+RVNTE9dddx1NTU2v6bwaeH3wXxNEuCGE55PeejeKD966wULhtBgbtmEZPdYCNQYdIT0fE4VIKfATHlIIrNEu50Ov315sSGDibAawsGG1RUekkwmiMGRSUxodRlStYOVIgaTv0d2cQRqNUfC+edPGrHkvfHElzzxwL1vttufrPTz/k5g2Zws+9o0f8MvTTuQj28+gOZdAAstGiszubmZKa4rV5ZCZzSmnH9Bx9rbRRDXNi2uGaU8HdOUyTj9k4iYb6wToxEJihJsKDxUqfPPWp9l2UhvfPWhbXuwdodRf5ISbnuTSBxbzhYO35Mef24eFw7A4C0Y5omGxRPE79DAMqYzWqA7nCQLJ+KkteJ4kMhGSkJH+MkaAmpBDR6FrNUgo+vMhzz/Tz1+vfIl7b1tGpRwxd6tOvvHzt5MfrbHkxQGOO+hqVi4Z5pjPbMeXvrMbCaXwQuhdWqSlJWBgqETLhAwrRkp0T89y+zUL+P7J97BmxShzdujmS787mDlvn8fPjruGd355b6a9ezeK1nk9CQHKViiYJipVSyLpY22EsHVNhozbl2KXMKnwJ3ThV/MMr+gn0Zwh3ZEjsBZtJQaP9LgE1YE8oyvWkps8DoOKp9/1Z9D9v0RghEXauj2uRklHCk0s8Ja2SiDjaoVw6zkNiCUpiyixfq8uDb1eeYjboIRAuz2j42YxPUY8XCtW/Zzqtrs2/nSdyFzEyyHdkWNw0RqamyVSOm1JiECHhqamBK1dSaJQM9I3ymh/kVxnikwuGHO+YqwVy8bGv/XvJ4kVFqEjtp3dwspJAVf/9Rzef+iX34Cnq4H/ZaxYsYLbb7+d8ePHs8UWW4wtX7hwIcCrtsHUly9cuPA1t8r8Pepi5/b2dnbfffeNJucAH/jAB7jooosIguD/tP9/hP/fNba2ttLR0TG2zj/C4sWLMca8pvHabz+nFd1iiy347Gc/y3nnncdmm23GO97xDhKJBI888ggPP/ww3/jGNzj88MP/L5c2hosuugh45ck+wFNPPcV1111HGIYsX76c66+/HoBf/epX//Sx6lqNarXKwoUL+ctf/kJHRwdnn332Ruu9HuPe29vLYYcdRq1W46qrrmLu3Ln/9Pk28K/hv5KAAKS33nVjAqI1Qir3hnsDbOzo76CExk9KZKzTwIJQXmzRuvHaQsXaDh2hfOWckXSEF6iXideltUjPI6WgOciSDyPWDI8yqSmDkgpt4vWFYLfOJi7/4ffYctc9GiXB1wk7vuNgljz/LDf+9XKO3mYKyvdpTiZYMVRmeneWViVZuGaI9kyStnSAjUJqBQ3GsnqkxKz2HMLWW602qJ+J9doPIQ0IjzPufIGhco2rDtoWBWw6LssJ1z3GpY8v5cuHbcP3P78XQglmrqkwkIOlQqBSimpVUhwtEFYiPN8j3ZSidVobSeVaiSyGEMlgTwnPWDonNYO1LFg8yr1XL+DZh9bwyJ3LqVU12aaAfQ+bzdEf35LNd57I4ufX8uOv3M3Dd65g0vRmfn7NIezzjtlgNSKSrFgxQlsmSaFQJd2epJSwLF8xzMmfu5VH7l1F97RmTr3yMPY4Yi5CCAxVDj7jYPyJk9FAQIWqTRFZQdlkEJFGem4yLoRLGHdTcDdooZX4Iq5KCIFJZmmbkSDfO8DwsrXkJnc67VaMRHuOKDQMrxolO3HcWPuTHnODWp93ruNakifd52Sta43yhMaTTlQurCCiPo0PScnKRgXQQIQoEeLyPQwpIue6FZNMaTUaFTdduRwOI5xRQL24XNd7MKbfEGPKEYlASUPrhDQDy9biB4r2cSkQEUkZMjpSIGr38QOP9smtmDAkv2YEUw1p7siOXW1d3F43BXYWxRFpW8NzDWLsf8RMLjjzT+y985FMGD/t9X2wGvifRRiGfOhDH6JarXLWWWehNrCiHxkZAXjZW/A66m+b6+v9X1BvL7rooouYPn06d955JzvssAMLFy7kM5/5DJdeeikTJ07cSH/yeuK1XOOqVatet31tuF4d5557LtOnT+ekk07i3HPPHVt+4IEHcuSRR76mY78azj//fG666Sb22WcfDjzwwFdc56mnntpIx9PV1cUll1zyioTlzDPP5KSTTqK7u/sV93XXXXdttK9Zs2ZxxRVXsN1222203r867rVajSOOOIKenh6+9a1v8e53v/tV123gjcN/LQFJztwcmWvB5IfXLxQS+DsGYm2c/2DwEj5CWIQxWCnXO1WBIxheTDDqMBopFWMOdRtykw1nMjoi8CXKc8ex1oLyaJauiaKvWKarKe451QaUx7z2Zu59YQXPPfwgW+y8678+IA0A8J4vnsxQ3wpufP4R3rPtNErVKv+PvfOOs6sq1/937XJ6m16SmfQeSKgBQgkdpItcQAGRoihIUeyigChSLKAiCgjSRKSEGnpoIaEmgfQyySSZXs7M6efsvdf6/bH3mSSC9er93Svn4cMnsOfstvbZk/Ws932eB78OmkZN0KA6GKdrKMvmvgJ1wkD30q2H8haNdUHv2enud6McSOc4oOkox0YpjRVd/fzurfWctcd4dm+uxnEcLn9iKfe+u4mL9p/C94/cBSEEpYCgPyzRV/ZijKsimdHR/TqxujC+gOlNKF1xsWsia5EdKtK1IUmqP03nym7WLO5kxeIOBjozANQ1Rzju7JkceNxE9jhwFGGfwdoPBvja6U/y0qPrCIQMLrpqLmdeshd+v8CxHfSCZNuWYWrrAmSSFoR0Sn7BDy5/kcf/uIZw1McFPziAQ8/YhZrWGA46EskAVQRHhbC8yb8mFMKxyMgqV8+gu3a1OuDIsvFtOZjP02EovKwNAIGtdCKNtRSG8yQ39hJpriYYDuAgUUrDV1+L05dmaHM3sdZ6NG3nLtJymKEpvCANb4lBCIWPEgiFLLdSCXdRwBQWumZ5DUyuEiNIDlOTOLgVExPlaTi8zHHFCImQXi2mfE+aEG4KOhoODlo5B8SrtghcXYmBjRACXzREfTRIqVikb0MHRinPmN0bqWmtor89STDmp6ougGnqFAM+csN5YrUR7/z2jrJ7QCCUjd+jVkIIMhqsWz4ACHKFf36yV0EFO0JKyTnnnMOrr77K+eefz5lnnvn/5RrKfz744IMjeoDddtuN+fPnM3HiRH75y19y9dVX4/f7P9INafbs2Zx44on/I9c7f/58li1bttO2efPmMW/evH/qeEopvvjFL3Lfffdx8803c+KJJxIKhVi8eDEXX3wx++67Ly+88AL77rvvP3zsp556iosuuogxY8Zw7733/sXPnX322Zx99tkUCgXWr1/PT37yE44++miuu+46Lr9854prU1PTXyQf4NrlXnnllWSzWVatWsXVV1/N3Llz+d3vfsenP/3pf/ge/hIuuugi3njjDU488USuuOKKf9lxK/jH8B9LQISuE5q1L5nXF2zf6FgfarnSDIGQEs1ngLRHSMRHVUY+Sh+y0zYptx/fsfH5NDRD27mFyzBwLMtt03KgKugjVyjSl85QHQ67k1nltmnsXx/njzf8kF0efopcJkMgFPrQhKuCfwxCCM79wS+45sxP8FpbL3tPrGdCTWgkFFKgaIiGSaWLtA+kGOUPouk6vZk8c1pqkUogHBuhaa6oXHhtQNK1W7Ydh6889g6xgI8rDpkJms7Vzy3jd29t4PP7TuYHR+1OsTtHHzZD00JolqBhchW+mMYmfxxbsEPStoOdK7J+WTfrFm9h5YsbaVvaTbI7M3I/NU1hJu3WyIlf2oO9Dmtl+ux6/BpIpVjy/Gb++MulLHlmE4GQwWe+sgefvmxvmuuCbvuggoLtMLQ1TXNzhFLRxjYUb7zezrXfeZWBvhwnfWY65153EI6mYQZ1T32gs1XV4QgfwrMIdjDIS5McEdemFkHJkWiahi3B9qTSLrZbzQrcEoUuJI5Ht6QS+OIRYuEA6Y5+rKEsweZaTx6uCNfFMQImw21dhBuqMCNBHO81LCeOqxFS457L9CxuhfdPuUISEgXP+apcQZFEtKyX4+G6cplCeooLw3WzUjYWPq+SYeNK3T0NyoiGx5WK+5Ceta67XXqExMcOMpcyicmkiET9NI6pdStpQY2miTXk+tL0tSWpH5sgO5yjcUKtaxnseW25o6ghlU2A0ogblhKSnq0pnr9nNXFfFT/61h9orG/5d7xWFXzMoJTi/PPP59577+WMM874yHab8ur0X6pwlAXKf2kV++9Bed/Ro0fvJEYGqK+vZ86cObzwwgusXr2a2bNnf2iFHeCzn/3sP01A/p573PH+5s+fv5OLVRnz5s37p8brzjvv5De/+Q033XQTF1xwwcj2I488kvnz5zN9+nS++c1v/t06lDKeffZZTj75ZBoaGnjppZf+KmkoIxAIsMsuu3DXXXfR19fHN77xDY466qgP6Tf+HoTDYfbaay8effRR9txzTz7/+c9z+OGHU1dXB/zj474jfv3rX3Pbbbcxffp07r777kqHyf9H/McSEIDQbvuTeX0BUinue38zn5jUTE3UvWXdb7qrkkqBoXvi4R0hQAje2dZP1G8ypTbm6kNME7ljYKBjo5llS1+3FUIL6CgEL23s5JAx9W5rju4RnB2OoZsGji1pikcYyuXZOpymKRSgfThDUzTMtNo4r65s5/rzz+LNxW9w4mmf5szvXv0/Nn7/qfD5fFz2qz9w1RlH0FqXZWJTFUPFEsl0lmLepiEaJmpq1IfCbO5PEzJ0CrakJRYknbeIBQ2PfLgr+kp6008l+fnra3m3Y5Cbjt+T6kiQhRu7+Plrqzl11hi+NW867YPDIHTiDozes4bhcT4yQYEubBIyy4AeRqHQETx2/Ss88P2XsAouYU40hJmxfwsTdq2ndVoNU/ZsYvToENs2DjF6cjUaboWtpyPF5w+6n+72FPGaIGd9cx9OvWg3qhoiKKEoSPDZNkPdeQr5Eo3jIhhKp7Mjw89/9AZPPrKW8ZOq+Pn9xzL1wDE4mqR9c4ZITQALnS6qvIYiFwKbYTvE4tsWMe6I2cTH1KNJDZm3EL4wmtAxlEtKykLvslWsA3S/vQZTUzTsORlNuM1MKDAMnVhrA8MbuvF7eg8hQCqJEQ0R9Rmse+RVGveaiqHrhJqr8Af8XkZ8uZoh0bHd/XB1HDoO2U3dJBoC6NEAwgtA9GF7bVieXgSFgY3yKh9KgZCSttc3MfaAKVj4sYVEKAdJ2YFmxyqIGrHdlShS2wZINEbRDeGRTBc6Dj4kWUvii/kpCp2Aco8ohCReF8EXMuheP0CkJohfs7aL7r371GWREF5rmVc5W/1mF288tInPnXIRh+39qcpftBX8SyCl5LzzzuPOO+/k9NNP56677vrIhbEdNQsfhb+lEfl7MGXKFAASicRH/ry8PZ/PA9tX2P9V2PEe/7xNKJlM0t/fz377be9guOuuu/6iAHvChAlomvYPjddTTz0F8KGMDIBp06bR1NTEu++++/ffEPDMM89w0kknUVtby8KFCxk/fvw/tD+4epGnn36a11577Z8iIGUYhsHBBx/M8uXLeeeddzj66KOBf3zcy3j99de55JJLSCQSzJ8//+92O6vg34P/6OV0/9ip6Ik63u0a5LsLlzPn9mf48pNLeLOrH+FYLulQ0st80HfeWToITeP7L3/Aob9/kfMff5MPeoZcZ60/g1ASw6/jCxiYPoGmJE+sbuec+Yv59CNvsGU467VwGSOfB7y0NImmQdzvoyESYmMyxflPLuKcx18lbdscP7aBeOcGzpnRyhMP/4l8LvfvHraPBapq67j053cz//0O3t7ci2VZjIpHmVAXZzBdoL07RwCN2nCQnGXz3kVH87m9JjGQL7GuZ5hsycayLEqOAuESzvc6B7nhlZV8Ykozn5k9Fst2mF4b5YrDduGy/adRlIrmWIixVSGqfBq+1wYpKRtHOCSNIErTXPtX5SCkTbTGz97HT+bS35/AbzdcxB86LuWaB0/krO8ewLxPTmVMa4TMYI5Ywo8uXdcppSmizWGm7d3Et+48mgc3f4FzrjmQaGN4ZMW96CjaNg3j8xu0jE9g+HU2dA5TWxfihFOmcPn35nL/86cy5aAWpOaSK822yGpBtlFPSehownanvgpSMkHnBz0suOg33DL5i9y579dZdMMfSfZkET7TIx32iGmDNiKgdtuR3vzBXfzhoEt47FPfZ7CtA5fSQKnkADrCNLCLJddhysvt0IAtL7zH8+fdwMIv34xdKJDZ2kupUPSesEs8TCFRQoByheYB4aAVCtx75JXcc+z1FFI5EApTFPHrOZSQXvUCfBS9pHMNDYmfEkt+t4SfHPwzHrzoPqx81qVRAkzUDvnrrvBceqRHRyPdMcjNe17Bu/e8PtIapiEwvUqGEpJAQ5xMXw4lbU9MLpFKceHY63jixtcYNbWGujr/iPYF3JXooCwS8MZXQ6Gkw8t/WMPyBb1cd/ldHD7nlAr5qOBfgh3Jx6mnnso999yzk+5jR0yaNInm5mYWLVpENpvd6WeFQoFXX32V5uZmJk6c+E9fzz777EMwGKStrY1CofChn69evRrgr4YY/ndw0EEHAfDcc8996GflbeXP/C0EAgH23ntv1q5dS3t7+0cez+/3M2fOnJFtZWe7vr6+D33ecRySyeROuSx/C8888wwnnngiVVVVLFy48J9+Np2dncA/ZoH8jxzrnxn3rVu3cvLJJ+M4Dvfff/9/i/hW8K/BfzQBEZpGaPa+zBlTxzNnHcppu4zlpU3dnPrg6xx614vc9/4m8tZ24Tews/WtENx14j58ca9JvLK5h6PvXciZDy/i3e4kALrPxPAZGKZLOoRy26ySlmTXhgRfnjOFpd2DHHHPS9y5dCOyTDy8ZPSRpnLhPoagBmOrIlywxxTWD6b4wlNvEPPpHNDayLhElOlVEZ6567f/Q6P3n4+xU3fhrG/8kKdXdGMoDRPQhWJ0OIAmFRsHMoR9JmHDIGjoNEb8jEmEGVUdYTBbojOVZ3MyQ1v/MG0Dab746Nskgj6+d9iubB7MsG0oi6lrXLzfFCbVxagL+jF11wlK8xnoRYeGxwYZtkxKGthCglJkBrJ0bejlwE/N5Ft/PJVDz9yVseMiBIQ7KTXtIgGn6Db1SEUg72BKb0qvwKfp/OAPx3HUmbsQCAVA6K5PklJkhkt0bkpRNSZOsCaEIxXbNqWJ1wYxawLsc+BYjvyv6QQbIh6p0bAth4weYViP43jfVbfi49DnVFNQJvW7tnLBsp9w4PdPQzqSV793Hw/Ou5RNT7+JUgo7X2Rg1SagrJVwSYYCjv79d5nzrTPZ+vJy7tn9At648vdYuSJLf/U46Y4+7JKFU7BwVLmxyZ2ejzlqLw664Yv0vLeOPxx4CVtfWkpmSy/Stl1Rttj+LttIDFFECAc9ZHLwVaexdcl67jz8WqzeHgKaGzCooaGjCFJAF8qz7bVGjrffGbty0JcO5LVbX+Oxr/yRspuVm1iyQ2unR7NcE2CbWFOMaGOcF3/8lJsjg4NGCYSDLDtxaRrhmhClgbRLmoSGEBrn3HoCR35hd0zKfl2eI5d0iKii1wDmOYpJgWY7rH1zG18988e0NI77d75CFXyMIKXk3HPP5c477+SUU07h3nvv/YvkA9xW0vPOO49MJsPVV+9cub/22mtJJpOcd955/y1yHIlEOPPMM8lms1xzzTU7/eyee+5h5cqV7L///n9XC9E/g0MPPZTx48dz//3376TtSKfT/OAHP8AwDM4+++y/+3if//znATfbZMe5yJ133snq1as59dRTd7KKnTt3LgA/+tGPKBaLOx3rmmuuoVAofGR15KPw5+Tjb03QFy1a9CHrX3BF6bfeeiuGYYy4dZXR1dXFmjVrPtQ69eqrr35k7MBzzz3Ho48+Sjwe36mi8Y+Oe6FQ4KSTTqK3t5drrrlmpJJSwf9f/Ecmoe+I0pb19P/qO277E5At2TyypoM73l3P+oE0VUEfZ+w6ls/OHk9TIsqv3ljFF/aaiFEuKeuupiOZL3L7exu5c2kbqaLFweMauXDvSbQmwliOJBYMkCsUsaSkKhwkomsIAct7U3zvhaUs7U4yt6WOHx++B6PCAdB0HNseSUbXBGi6jpKSrnSe17b08r1XljGxKsrtx8ylKhykL53h/k39/OrlN/8lKwsVuHjwx19j2WsvcNrs0ehKI+7X0YpQsBRD+QKjExHa+lNMqI264ZVeSrpnrwSa4MaXV/DjV1Zx5WG7cPqssVSFQ2iaQCnptuLoOsq2UJqOzy/QNAGGjmZqdOweo32POL1FSPamiSQCVNf6EZ6+JKRc3YBQgoCUmNLh+q+8yDuvbGPMpCoaRoWpb45w/DmzMBIBDFN4bm2CghIUCxaFTAknbSEMQV1LFE0T2AWH4U1JGhoihKMmhYLN1m0Zxo6Po+vupMBG470+DRGL44v5kco1k81LjUFZizUSrOf+GilYAQoE6HpzFS986Wck12xh9IGzmHTywSTXbWW/675E2bC6rM8oT+JTW3p4/Zu30vb460Rb6qme2oIR9HP0bZejR4Jea5FbQXG8ab+GIr21l2fOu4GO11cw7qi92PcbpxAf20ByYxetc2cgsDGFW2UwACXcasWqRxbx0Fm/pGWPVi5+/ZsA+LHwUaKsYd+eub79Hm2l88ErW4jUR6mf2kxJ+cGjKq6nV/lX6nbnMh3F6meW8/6DS/j0nZ/DQEMKx70eT65uYpPcMkRtfQBfUAOh8GFhjhwdVyWjPG2KKu1AczRQtmfFK1jzThfvPjXIz7/zyD+0AlpBBX8JV155JVdddRWRSIRLLrnkI/8OOvHEE5k9e/bI/2ezWfbff3+WLVvG4Ycfzh577MHy5ctZsGABs2fP5vXXX/9QRsjll19Of38/AM8//zydnZ2cfPLJRCIRwJ2c72iZOjAwwH777ce6des46KCD2HPPPVm/fj1PPPEEiUSC119/nenTp//d97njxPXRRx8llUrx2c9+dmTbjTfeSG1t7cj/L1y4cMT+9vTTTycWi/HII4+wadMmrrnmGr7zne/83ed2HIdjjjmGZ599ljlz5jBv3jza2tp4+OGHGTVqFG+99RaNjY0jn0+n0+yzzz6sWrWKsWPHctRRRxEMBlm8eDFLliyhurqaxYsXM3ny5L963jVr1jB79myKxSKnnXbaSGvbjhg7duxOYzN79mz6+vqYO3cura2t2LbN2rVree6551BK8dOf/pRLL710p2OcffbZ/P73v+fOO+/c6ViJRILa2lr22msvWlpayOfzvP/++7z66quYpsn999//IUevf2TcL7zwQm655Raqqqq4+OKL/+pYJBKJD113Bf8e/McTEIDe6y7E7u/aaZsSGq9u6uL2dzfy0qYeDE1w3JTR9GTyTKmNcc2hs9wPaprb46/rZEo2HUNp7vugnQeWbyJrORw3ZRRfmzud6kiQkAaWlEQCATcp2xtaR+j8YtFKfvn2WgxN4zv7z+S/Zo5FaJonmHUbKhzLzStwhEZb/zCrBlJ8/YV3GJ+IcPtx+1PjN3lgQycHnn8xh512Jo7jkBlKEq+ppYJ/Hkoprjv3RKbrKfYfW0vfUIlkpsiYRJieTIGqoEnakvh0QXXI5xIDJd22PemwsmeYI3/3EvuPref+U/dFCM0lHI6NVBqaphCaQCmP1EobX9TECPoQ0kGE/bx/aC1rohr5oRyNzSF8QTeMz22tcb9LEcdGWopli7bxyvwNvPPqNtat7EfTBFf94gjmHTGOfikpSXukHcjRdIygQTysEwyZaIabk50eyJNOFmlsCRHTDQr5Els6czSMTxDRNXTlisK3mtVsbEtRN6Ee5VUUhu0oAyqxgw0soDRyTghbGdi4KeB9a9ppf+FdFv/g90Rb6in0D/PZ9Q+iGbo3od5u9aB7wnADaH/xbRZe/itkySHV3sMx93ybCZ/cXk73Muo9vYirl3Ecm3d+9ifeuPpe/Ikwu37uCLa88gFnv3IdmrC8kg0Iz5HKJ1wB+dbX15Ha2sPeZ+yNTglTgE7JaxBzMHEJi1Ig0VyRuVIUcd2/lIKi8iExR6Tn5Xx0cNApV3ykawE8ElqoIT1ionlHNrDp3dBN/aRa/Nj4cNCEdw3ldBhlESxL+pX0xkKCEhgjonSX4j32+zb82nSuOfsH/54Xp4KPFcqTx7+GP59YgisUvuqqq3jooYfo7u6msbGRT33qU3z/+9//SKHw2LFjP7IFqYyFCxd+yDVqcHCQq666ikcffZTu7m6qq6s54ogjuPLKK/9hDcPfqshs2rTpQy1db731Ft///vdZvHgxpVKJGTNmcOmll/KZz3zmHzo3QLFY5LrrruOee+5hy5YtVFVVccwxx3DNNdd8ZCUnlUpx/fXXM3/+fDZu3IjjOIwaNYojjjiCb3/72x8ZavjnePnll/9mpeSggw7ayUHsnnvu4ZFHHmHp0qX09vbiOA5NTU3MnTuXiy666COdt/4SAbnpppt45plnWLFiBX19fQghaGlp4aCDDuLSSy8dCVz8c/y94z5v3ry/W4g/ZswYNm/e/Hd9toL/Hj4WBCS14D4yL8/fWWium+C4YvINA2nueG8jD65sZ1Q0xMZkhusOn80Ze0wiXywxmC9iS0nEZxAP+PDpGgMFh18sWsldS9uwpeL0Xcdy6X7TeeD9Nk6cOppxNXFXqAyg6dgli1fbe/n5m2t5r2uQT0xq5vojdydmmihNR9k2SjOQloXSNPIFm958kXc6B7ji5aWMjoX53TH7UbBtnuzNcfQZn+WRO36LY5X49StvEwgE/ucH9j8Ea997kx986bMc0BJnYjzCxOooBQnSkUR8Oj3ZIq3xMJuGMjRFA4T9Pq+NDrL5AvNue4F0weKFcw+hOR7BDY4RKEeBVCjlZoRIAfmSjWmaRCIm/qgPM+5DmBpSk3xwUA2dCY2hvgxOwSbkVzS0JBDKIbU+ycN3LGP+XSsZ6s9jGBozZ9fz/ns9XHvLEZz0mZmARElI+wWOV8Eov9zlnIxSyaFnWxp/0KSmMeTatKZL9PXkGDUujmFoLnF2dDrNOJbQ6NrYT8PEJhwFSZkgI0Ne/oXn+KQgbUdgB2G6jqB/fQcbHl/E8l89Qq5nEIBP/OkaJhy9z4jQ3hkx4HWbqzQhWPvIKyy85GYKg2kAwo3VnPXOb/FXxZBe1QPP1hbvLsuJ491LN/DMuT/ByhVJtffyyfsvZ8rJczBwQwldVyowUAjhTuoVNhEthy62X4sfBw0LXWhe5KCGVNJzwvLuWYVw8OEoUJgjBt/uGLhXaXieWwLQRAmDcpp52WK5HB7o3tPQum6aptRgeGnpSriOWWBjKknAI0flbBFUmfLo6Kos81estcewKtvKWzc+wndOPIej964EmlZQQQUVVPC/Bx8LAmJ1bqL/5q9vJwRllIMGgXTR4vzH3+S1dlfMZWiCm4/Zg/1a60iEAvi1P1sVEW4AYUcqx0/fWM0fV7Tj0zVmN1YhhOBPp89jJCBEc61wcrakM5XlTyu38Ou31tIaD3PrsXOY3lCFtF0hvGPZoBvYlo1S0Jkt8n5nP99Y+B5NkSB3nnggi9q7kJrObrUxXugY4JOXX8GBJ/73Aoc+zjhr7kymxw2m1scJ6SbNkSC1kSBtfUPUR4JkbYuI30/Yb9A1nMHQNeqjIXQU33nufX771noeOHUuh0xqBimRCJSUaF57nVSCwUyenHIImSY5y2JsIkygxo+/PojtOPib4xTjBm/NCqBMV4uydX0f2f489/1oMa8vaAPgwMPHcdKp0zjo0DHccfO7TJ1QyzGnT8MyBUIqdAWWkKSCBlJ4rTlIpBQM9mbIZWzqRkfwB3wIoLc/x1BG0jgmQlhzJ7UFTPq1qGtoKxTdG/qpm1BLh91AicDIdFmgYymNghPGVsKbVHtuU1KQ6hnGDJj0r9zE5gWLaV+whJrpYznmnu95CeLuO+VQtuR1XaOGt/WgpMQX9GGlshSGs4Sba4k0VrsqCOHuk9nSi6Mk0aow/ngQhaB35WZe+eYdtL+wFIDEhEY+v/wm/KbrUFcmLRoCHRufkGiiiC7ApIQu3GwNHw5CuGnpwhOYKyRSGV5NyqAkdQoEXZG9wqMpukeq9O2VDxyX6AjpESC3+iNGKhbuWBSyOYqDaZpao4AigAPedYRwna9MJb0je0nuaGiebbdSNpoS9IsYG6xWuu1Ghjr6WHfLE/zpuz+nubb+f+BtqqCCCiqooIK/jY8FAQHo/ell2F1/Vtb1WmiEJtiQzLK2P0WV36Q+4ifuN4n6TYKmvhNR2b6vgZJ2ebmTDYNpvvn8MjYlM3Sl81x/xG6cMWscwnCzC1BuWrZSiqGSw/PrO7j65Q/IWw43HrUXx0xqduMkFCjHQWkeCdEE7ckMHekcFy14k5qgn7uO34/RVXGKxSLvdg2wzkxw7SNP/4+M438ibrjwDHo+eJeDJjSQCAYwlfu8GqJBelJ5WqrDbBvK0pII4/eZpPJFBnJF3u1McsGjb3L89Ba+e9AMxlRH3PV5pdyKlsStlCjJpuE8pgZSEzSEfQRNg950Dq0pSHR8nIJ08Gsawqex5ZhaNm0c4Ddfe5k3nt5IJO7nxLNmcPa5uzF2fBykwmcL+tqzjB4VQaEoGAppCGzb4fqrXueh+1e6JEEIxkyp5pu3Hk5VQ5h4lVspk1LR3lkAXad2tGtFaEhFXhhkRGgkV0OgsW19P/r4KZSUTkn5R6ocjtTJyIhHH7yOQ6UhlY7EoJDN4qSyhJprAJcKZTp7iTTv3DJY1oCAcjNEhCTd1kmktQ7TNL2JvPIowHbfjOH2bkxd4mQLVE1tQQFOoURqUxfJDR0k13XQu6yN3c46iImHzXCDQMGroritVgFtu95DwyFIHsOrUICNKcqNVe7ZHQUlTKQXqliSAdyYQg1HgdsIJSkni2hei5SBclPSkZgeVVHCdrUgnnIk3TFIqCpELFw2KJYEKeETeBoRhVI2Pk8P4rpeCa89y9WeWEonKWI4wOrCVPqHFCtveYz/2udwLj7m9P/uq1JBBRVUUEEF/xJ8bJTMwZlzyPR1ouztGR6a5q7jDpXcicYRE+oJGDpK3zmsEMf+MAmRNkLTUV5bV9tghr5sgbxlI4BrXlnBEZObaQh7AlDdAEcihKAq6OeUmWOYVhvjkgXvcuGTS1ix1xQu32cqL2zq4bCxDWhITNNttBgVDxHQBXcevy/nPbmET89/nTuPn8vDq9q5dO8pLHxvE8PJQeJV1f/2cfxPw8I/3c2yt99mbksVphAEDJ24oRHxGWxLFaiLhRgs2IyKh9iWzjOhWicWCuDzGVz3h9dpjgb56TF7MpDOMZwrEfWbKClRwnA1E57F85hEBNuy0Az3HPmSTaYkqRl2CJoGPkcQSUneWd/Fr+9dwiOPr8bw6Zx1+Z6cfM6uhEvusQb6siRCIXRdMHpUHHAQ6ARsyGuSQsEmVBMklgiwZeMQwbDJZT8/lJap9d6quUaxWGLTNotwQ4x43I0NVMCwFiY/YnLr0oyCozEcasJqTxJvqfb0EX5K0sTGxBAWzg6kRCrNyz5XGKEg2Y4+gk7CNVgAQs11HuFQnn6hTD0AbzItkDiOg2boIy1XwmtdQjmeT5VD/dhqcoNptEgItwlKoAcNGqaPoXZ6i7vNTlPoTzO0rR9pO+57FQpQ1RxG11w6YCgHTZQphQmUvPap7XJy5ZEfIQSGcrC9n+qi5BEuj8V46zkG5SyRsoCdEa2H8Kx71Qj5UAgFpaxFrNmggCDghRUKL//ENSR2W9RsJTxdyPYE+fL4m8IhTIksAaJbFvPCrev59MEncdHRp/5rX5wKKqigggoq+G/gY1MBsXq20v+zrwAKTRMITaNUKtGZKRDSNerC/u3iM691ZidoHxFWqOsoy0EzDTfbQ9NAOkgpGSqU8Jk+QvoOrVvaDsRGc0XKOVtx0RNv8uzGLg4Z28DWdI5fHzuHyTUxpBJea5bG5sEU9eEA65NZPvfYIlCKoiO5/dh96cjbTD35DI47/8J/2/j9J+KJO37Bw7+9iX1HV1MdCVEX8DE6FiQRDKAcm3X9aSbWxWkfyjCuOkpvOocERlVFue7F5Vz/6mruPWU/Dp/YiK00tiQztFaFUZZ0W/Skg6MEuubKrYWuYyvJYK6ArmmE/Sa5YpGUBlnD4cG3N3H3GxtwpOLEU6bxuR/NZdSoOLoCIR18RSgmLXKZEqWiheaIEdejYtHiiafWc9sdSxkeLDB9jwZWvdvDVfccwyGnTXf9eYFkb47ujCDRGKOYL5GoC2GgyBB0wwWF9Fb7FXnpJ0uYkjLIp0qkB1IkxtTiKB8ZFR4RoSup4SgTS5koBLaX1eEAdiZLvruf+IRR7vsB4NUxdtSAaAgMYaMJSbo/iYaOvzY+4itlFyyUcANEDSERO2hAhFuwQhdipLVLYRMQFgjpuXRJb0IvyQ6kKAxnqB5Xi65rGNiYwhqRj/so4hMKhYUp3MqH25i1HbYyyCsfChNbSU+xgVsB2i5OGTm3DmiifATluXHZGMDQ1gGsfIloY5RILIBPKHSKbta6cLymN9sVz+Nep6GEV1txRfXlbBXhaV3Wrsvx4u0r+P4XbmTWxJ0ToiuooIIKKqjg/zc+NhUQs6EFs6mVYudmhrIF0kULIQQNsTDBj0pDEWJkNRPw7Fa3kxBhGggpUaZAeBa/OBJ0A00pqoPbKx+yTDp2DDH0yE7I0PjVcXvx0zdW89CKLfTmijy8egvfmjvDc/kBNI26UID+bJFpdVVctvdU7v5gExuTaR5ft41zZk/ghfkPjRAQpRSb1q5m8aMPsuqtN7jg+l/QMunDtnofV0gpeejG7/D0Y4/yiWmN+NEImQZSKJL5Ej2ZIjG/SX0kQDJXpCbo5/GVW7j+1dX87pR9WLx8Mz95bQ2HT2xkt+YqCpbEp4PtOBSLDj5Dx7E9ZYOUOIChAVKyJZnGb+ok80Wipsa6wSx/WL6ZJ9ZspWhLPjV7DN85bCbjRsXo1wPkpHI1AwpMBKFEgKqEz9VgK0GyO8ftt7/HPfe+z+BAnl33aOSi+w9k/Mwqfn31Eo46bToWAst26NySxo4laJgYRheCW774JKmBPHudvidzTppGILo9YyInfWQIe61ENoGYn1IpxFB7klhzNQHdoeRG6IGQSCm3r/R7lQAdiS8aQDhxct0DRJvrPacrsUNtwT2joRXBC+4rDWeItzaS7+wjUh8h0zsMtutEp0oFTFMQGVWL0N12J1M4uMkfLgQOPlEaIV2yrMMQbptSuDaKL+gj2dZLw6Q6DFGmHu4RnHIlxiMf5TFxaxE6Uilvqu86d2kCDOVQVAaa53uledUN6dU5lHCPW7bdxSMltuVgWQ6Nk5uQ2K7dMsqjFe65LcBH+V5MDCQ2tqebMVA4CG8vt6YrqA0rAspmVHXzv/4FqqCCCiqooIL/Jj42FRCAvuceZP0jv6Pab5IImmjlisdHajw+ogoiBJqhu5WS8ueF9lfF7TsdRzdQ1vbzKO+YG/uHuWTBuyztcgMO68MBlpx3JIZp4lgOSiqUbrC5f4iMLZm/up2XNnfTPpwl7jd59awj+fWKLZzx/WtZs+gV3nllIWYhw4z6BEpKknWtfOuuB//7A/gfgL7Odm77zpfIDXSzb2sVpq3IFWxMIaiOhAgIRcQ0SRZsWhJh3trWz2/eXMeCtZ1E/QavfeFwDr39RUKmwUOfPoCQz49tWdSFg6SLDluSKaL+AM1e650UmmuRarotOGnLwbZsujMFbn1nPfNXb0OhOH5aC1+dN43ZrTUIU+BvjlBKaLTvGwJd4Hfc1XvdduXQyYE8t/ziLe66YxmFvM2Bh4zls5+fxbzDx1H06QwqVz/k8+sMJwt09RUJjGnADPuwihbvzl/Ls3e8x/p3Oskl8/hCJmffdALzztsDgYajBAMqPiKT1pWNowyGM5DtS6OkQlTVI6JRhHDbkWwn4BEB5ZEMOVLlSLV34wsHCdRut910RegSv15EExLltTINdw+y5o7nyHUMkJg+iqlnHIxTsll19ws07z6O5n0mke5MEqwKE6mNuu1Myp3S6yh0AY7rT4US0nOTUiN5JWVdRq6zj1DChz/i6mJ82BhYCAE6EMDyBONl0uCep4gJeBa8BCkpgcLAUsZI9aOsa3HtkB2EwBsPZ0QMXxrOk+1JEWuJEQjq7niUheq4jlYhiujCpTNl8bnpWfK6Nry6tw3A9oiIi/deaKf3fY3rv3JPJQm9ggoqqKCC/1X4WBGQYl8XyZ9finBsdvr7+CPbq9zKhdAFQtMR3l/4O1UxvM8py9p5247H0zSkVCPVlHLqgTsjcdy8EN1A2RYvbOplWdcgr23u5ZL9pjOvtQ6l6TglGzSNVK5IumTRGIvi2DYbkmle2tzNvLFNDBcKvNczzOSqCLUBkzG1CRKGhlSKX76/mYtuvp0pu+/1LxzN/3tY8thd/Ol3t3DExGr2Gl3F+u5hOgaz2CWIaIJIwEfU76M2YLItlSMW8PODF99neVeS9qEsjZEAUb/JhoE0T545j2n1CaTjsDlVot5v0JktUhX0EzVNcBz3kes6OA5C1zE0yaahNDcsWs2Tazvw6Rqn7jqWC/aezJhEBByHcH2A8JgoQiiGciXaRmlkqhmZ0RZ7Szz40EoefGAl2azFscdM5qtf3Rd/rQ/DL4iE/YRCPpIBQV5IerYO4/P5iDZHWNFW5Lk73uWlO5eS6s8Ra4jgWBJpS0698TgOP28Pt4bhBSAWpUGKOCYWcZHFQdHjNGCh4dg2zsAwnYMGwVGNmCE/SkFJBoHtYYF6edKvJNmuXjRfkEBtgnK9xK8V0DVPz6Ag251m+W+f5hOzD+SSY8/i1Gsvxmr0k17TzQXHfYZ7XvgTo06cRevuE8h0DaIHffirXdcowzPMLf9C81HCFM4OzldlUgBgoUo2w92D1I+t9XJJHEyPgBjYBHBGsk/A1WMIBJbScdBwlMRSJlkClAmJxNyhErNdXK8j0YQrfle2xVDHAJqhUdUcxdA0z2nL07kgCVPwpO3SM9FzPPG68Dy4pFuVUS7BcZvfnBHNCehsWtnNE796n1uvfoTGutH/npeqggoqqKCCCv4JfKwICMDAL7+B1bUZTe5Q8RDCnXSNkBABugDp9u3vnB/yFxyxdhC3/zmhUYAS7rQHKVFSjRxrZD/doFAs0pe3GB0JoMo5ErqBXbRAN3Asi81DGVoTETTdXVtVUroEZ4drU0qxJZWlIR4lKBTv9yRZKkNc/dDTH8uV0GwmzT1XfZGV7y/n8F2aqQv5MIuSfMkmV7DJ51zHqqqwSWs84smCFdUBkyVb+jjurpeZ01rDxoEMfdkiNx27F6fMGItCki5YpEuSQrFIUziIYRiu25mmg3RXujVNpzeb56bFK3lgRTuGJvjs7HF8fo/JNEQCaLqG7dhkHVAmRMZHyUgL/6xqqkaFKUQEm7uHuPsX73H3PcvJF2wOPGgMF5y7B0ceMglwWLNliHiTn+7uHJOmVKGAZV3DBKI+3nhuM4/f9T7LXu9ACMHso6dw8OfnoPk0nrnpDc7+7Sk0tESIk6eID1vo7oq/UphKYgl9ZBJfkCb9sgafcFfyC45iw3qJWRMnkAhj4pB1wju4VSl04aB7oYFDbV0Ea2rwRX34NAcl3CwMJRR9K9tZf8+rXPCpz/GZuccAsK2vm6/feR1f/+R5zJ44gw/a1nDOjy9h9/MOpWH2GAbWdVE9oQFTF15goIZCxy9sdLH9HZRe5oZCIsT2q+vf2ENdawS/z/Dk4W5gINiEkCBcNyrhKUTKRKmofBTxAwJbmV7zlEIqbcQhC8ouWA4GLhHK9qfJJbNUN0cJRgKek5UcacvyoQiJIhqO+34Ll3RoXm1J98bUAE+QL0cCCIVHkYrFIq8+vIGOlVm+8tkfseuUj/fCQwUVVFBBBf/78LEjINnXHie94F43gXrHubgQCN3wEq41l2RoGtJxtrdqwUdXS4QrKN95m0AJVxqKlMjyMGu6W/UYIQ1uCKErYJdszRSp8RkE/T6k9zkldFdHImCgYOHTBBHDlR+jG9gl60PXZjmSrZk8MVOnNuTn1g+2cMbVN7LbvEP/RSP5fwOZoUG+eebRjIsJ9plQS6FoY9sKn6Zh5CX92RIoSXMkyLjqMCu6hgn7DMZVhyk4isNue4HBXIlPzx7LL95Yy5fnTOaUXcYzIRHEkYKtqSyNIR/tqQLj42G3BWfEOkmRtWxuW7qB295dT9FxOGpiM5fOnYap6TRFQoR0QWc2h1IQDvgwlCQQ95M4o5W124Z49Mm1PPXcBlau7kMIOPYTkzn/7NlMb6mlJ5tn6pQaULB59TB2TGEHBYmEn7tvX8ZrL7Tz3vIuCjmbpjExjj1rOgefuQdMHIMUiv4tSapbqvBhEcFCCIeh/hxDeRN/zE9zTODHJk2QPCbKE38rqTFAYmSlP28bbNlkYQT9hBvjSKVRsCM4KPzCQYiy0Swo6ZBr20ZoVDVmyLMEtm3S769m46Pvc9OFVzFz7F/XKz362tP89OHfsNdXPkEk6ifdPUDVuCaU7q7/+4SFQB9pm9LKEYE7ZIBo3sTfKeRIdwxRM6EaU+hIbHzC8a5WEsByRe1Cghe+6ChBURmeTNwtbpa86EKB8EiQ24ImlKTQP4yUklKqQCgRJlQXwiccN7vDVQqhuXJ2/CLvkgxRTjl3W8mEcj+ve5QGZePDHsknKX+2c32SF+5ezeyp+/KFk79LKBj5F71JFVRQQQUVVPCvw0fJr/+jYczYF5RyV6gBoRsIXXfJiLRdArKDvuMbzyzly0+8Q3c6/5cPKsTIv8IwEYbB+oEUx/7+Rdb2Jt2flR2ApIPQdhj2MjER7rb6gMHlzy3lidXtaAKEYaDhoJsGuq677jxKopvmyPE03b2X5T1JLn/+XTIlC1PXGFsVI2c52FJxWGstd1/9LZw/16v8h0MYJlJKJtRF+f5D7zEwXMKxFX2DWXqzBUKGxkDO4pGV2zjzj4s59+ElxEMmhq5xyeNvs6E/zbfnTQelOHbKKL5+wEwCBgwXHAolC8eW6MIllZYbiU2qaNOZylKQCtuR3LVsI/u11HHXCXO59uDZtITCCKkIaJAr2WSKDrUhPzFDw+/zYxQ07A0FHn58LdfftBgjoHP+BbvzwH2f4sffO4TdxzYRNU1aqmMgBf6CzsTmONNiMcY2xenvyvKz6xazdcswxx83hRsfPJEHl5/Fl781l5mjfQSlDQpqWxMEhfSmzi4euWExF7Zex3mJq/ny7rdy1/dfZts769GlhaYkIWx6P9hMhOJIkGDQkMSCJR457To2vbgcWSzg17L4tCJoDlKU3ZokId2hbmIt+c4eZNFCKcmb3/w1Xc8tIm4WGF3d8Def6UkHfILD9zyIJTc8yvzzf00oEWBoYzeqVCQsSl7wn5sdYnrVgh0XEbKDaV68/kkGN3XhC5qEqiOkuobRypUKl2ZhevWJMnGROLz+wDKWPb8RIRSm1wKlPAUGXruZ9DI8dBTZniFQivcfepve9V1E6gP4hFsZE2UXMRz85DCxvCfh6W6wCGCx6d1tfGvf20l2pXGUja6KBEZqTO5nc9kSz9+9ihfv2sgFp32by874cYV8VFBBBRVU8L8WHxsXrDL81XXcsNniCH+K3VvqXdJRxp+1VynbIuAzuXfZep5Ys41L9pvKBXtPIuj377wfboKz2+/vbu/KlNgwkObIuxZy9WG7cuZuE/jIUpPw3He8rBGrZLFhMMWXntxKwXY4ZcYYt0oiHRA6mq5TtGxGltmVImM5hDTBqp4BntywjTUDw9x+3L40xSLUhvx05Iq0RAJU6cM8fuvNnHThZf/aQf1fjHAkymXX3sI1F36GF1d3URcN8OWDplFrmiipeG5VB797ayObk1kAPjmzBYnGz15fy/yV27j8wBkcPqERQ2lE/D6QEtuSCAN6skXqo2GKtoMpNHTdAOkwmC8Q95n0Z3KMioZ57jOHUh8JUrAsurIlTE3SGI2AAL9pUh+UDGSKOEphoVHj11EvdnP63mM58a0ZFEslWkbHacz7kZakaDk4UiJyNj2dGQooHK8VT1uvUVNn8vgDp1BfE8bn17H9OhtWJUnMdpOwx5X62eB3wwGFAEe4FrMGMPekyYxujdLflead5zZzzw8Wcc8PFlHTHGHeGbty9IV7c+NpD3HDW+dTDDfj4EOhke/oYmDNNp489xcc97uLqJsymmBjHQo/NgpNKPyi6JrLIUiMq2eorZMpEySLfvU8h1xyIOP3Hs/lt3yF3379djTtr6+NfPu0i3nuyaf44OG3KGYLnP3ABQxv2UZoYqO7ryrhEwqB4XlR4eWbKIrJNAu+/TB2Os+x1xxPuDpI//ohlLC9TyhMr2oihcBLIUHail+ffh/HfPMwph8+GYFFCcOjGspr0BIoAUpJSrkSxXyJQCzAM1c8yqR5U5l1zC4IUW64cjUnPpTniuf+ayNJqAKGcFUdyc4M6cEcXWt6aWocM9Ju5VZfJKvf6mDxw23sM2dfrvzelQQCwX/5e1RBBRVUUEEF/0p87CogAFMOPIKjfr+Qz/3pNTYOpLf/4M+60YQQ/ODw2bxy/mHs11rHta+sZO5vnuOJ1e0ucdC8lHQvbI4dqgsHja1l4flHMqsxwdeeWcp5jy5hqFDyziPdz4NLPITw9reJ+P08+F8HsGtjgq888x4PrtrqVjk09zyGruOUBe0CtqWypEslOtN5zthtEr85Zh+2pXOc/fhiBrM5wgE/o0J++nNFdq0K8eidt9Hbse3fOr7/2zBp173YZZ95AFQFfeRsi6KQJPwmDdEAliOZUBNBABftO5k/Ld3ENS9+wFGTmvjqflNJ+EP050ooR1J0oGRLlHRXoP0CevI2taEg4Gp2muNRhoslBvMlSkBdyE+qUOT7L7/PlS8v45pXl/ON597hljfXIpQk6jOoCYWpCYUACBo6SmjUrCwxpjZCNOhDri2ybc0QvR1ZcgWJk5UUByxk2kbaCsuSCEcnaJjU6X6qYmHGjUnQGokT6nAYG40hlPe6C0WtSnnaA7eRqoTAVopZc5o4/ouzOePb+/KTlz7N79ddwMW/PIJxM+p4+Po3OH/cTWxb088dlz1DLcNeo5FkzJzxXPDspdiFEk+efwvFdI7htm3IYgENh4CwR1b9dQR+E6ZOgEJXkrPv+gyf+O6RGAGdbR1bKRT/SrXRg2EYPPGbh5ly0EzWPfM+T3z1PqoagqQ7htBwiGglfJQoE3UfCj9F/NjUT6xl0qFTefOuRV44oY1uChzLVVHont5DG6Ej7lGyQ+51RaoCOErDwu+Z/5al5q5LFYBdskh1DlEzppZXb1hAMV3gqO8fhxR4qSIQwMFAubbFHqEIYpGguF2vgs1ex07itjUXsce8lh2UNTDUl2X+Te+y6qV+rv7yrVzyqesq5KOCCiqooIL/E/hYEpBzPnM6F+83lRc39rD/b5/nG88spTdTAOCOdzbs/GGlmFwX5/5T5/LApw8k5NM59+ElXDB/CcO5/PaKiSqvYm7HqHiIRz59IF/ffxpPr93GoXe+yOKt/Z4IXbqJ60JzCYl0RtyHEgGT3xy/L7s3V/PVBe9w7/JNlCc5mueqlcoXWN0/TCIcpCUWJBrQ6RxKc8iEUfzq6L3ZOpzh/CeXkCnZmLrG6FiIabVx9m2IcvtXvvDvHeD/D/hrUqa295fw/MKXAaiJ+UjlS+Qsm1sWr+OiR96mYDucPKOF/cfV8+KGbq588QP2a63jusNnYRWlK8bWDQqWpDudpz4Wob9gUxsNoRQ4UuGUHc2kg6kcWqtjNEaCeCp0fIbJxKoI7UMZnmvr4rmNnew3ug7LUVhSI18ssTWZptZvYpQF7HkH554OdsmFaA4HmNwSZ3xtmNGORqonR9hnIIAGzcDIO9RG/YR8Gn29OWp9frpXDrNx1QDxoMmuxSD+IpTQSJsmQkgiKo+uymGCgsEBh20bhuhsGyI1WCCfLqCHfcw9YRKX3HI433/wBEZPqgbghTuW8tYTq6gTSQxPmN2y+3jOf+Iy8v0pHjv7ZkK1EQod23CGBjwNhZu57iNHgzFAICioGl/D7BNm884fljL8fpo7rriTUDD8dz3zqniC+2+/h9GzWli/cC2heBC/zKIX0iAkhqYwsTCxMDzrW024U/29z9yPVNcwba+vp7+tHyEEQi9njltehUJhKOUpPxS5pEtAQlVhyioR17LX1WBpXlOVnS+RbB8gMbYKQ3fY75y5XLjwckbvNgY8tyuDIgjHrZbgNm9FKBCkiBBu2xoINCUJYqGLHVJObMmbC9bzp+ve4tBZp3LLNx9nUuv0v/NNqaCCCiqooIL///hYEhAjVsWVnzuNxRccyX/t0srvl7Yx59Zn+fHC97nqpRWs60+NfNbVayiEYXDouDpeOvdQLt5vCo+u3Mq821/gjfY+94OqbF+6M3RD46v7T+PRTx+IAD71h9f45ZvrUI4E2/KqJ8aHjtGSCHPtYbPZr7WOb76wjJsXrwJNQ5MO6ZJNsmQzsz5O3OeKUmujIUKmwdZkiv3GNPGTw/fgg94hLnxqMUVvkmn6TA6bMJr1G9soFov/ziH+t2HDymXcdsUXGU4OAm6o4FN33cL5B+7C4qcfplAo8OpDd1MouIRyybOP8pPLP8/7G7dRFfaxS1MCXQiufep9bn5lDTMaE/zulH05ceYYLNvhhwtXcsTEJq46ZBcSAbciUSo5ZIsWtnRTHkKawLZtTE0HoTEqGqInV8KVgGzPgagN+hnO57nlrTUceOczXPvGKjThTlK/PXcmLVVxBnMlNg9lGcwXqYtEvZYh7xi6jpZSZFdlCJp+cBSq32Zb2zBVIT/11SEMBc16gCbNTyZbwnYk1TE/ctjGzkvq4kGy+RIbtw1TXJyib7jkTW7Bj4XK5+ltH6anLYkSkvD4Bpon1FIzKkagsY5oUxU1oxI0tMbo3jzMrIPHMO+MXdjz2Cks/tMKVDFPNUOU5dSt+4zj1N9/nu6lm3jqvF9RO74WclkyHQOAIixK+DWbHal6dVSRXNPBZZ+6lFH1/5hd7O4TZ/OLm29m1jGz0TIZmptDFHqGR6oXflHEEBI5QoBcj7Oph08C4P1HlxEfXU3tmBp8moM5UgNRnjWvq+kQQGJUnD1PmcWUQyd5WRweeRDaSPqGtGySW/qoG19NyNTQBDRMbWTCgZOROPixMHA8gwr3XddwiJJDEzZ2ORRRgU+V8HnX69lZ0NnWzwM/XESpPcGvvzufTx5y9t9sV6ugggoqqKCC/2342LlglZF/63nSj98O0mZNX4prXl7Bki39pEs2sxqrWHDOIZiGMaLN+HPr3cXbklw4fwnbhnNctO9kvnHgDHw+384aEuX2hEuv9WU4V+CSp9/huQ1dnDSthRuO2oOg/mdhiGUnKyHIW5LOVIYfv76ap9d18Pk9JnLxvjPYPJhiZn0cTWigaa4Dl27glGyyJZuefImGoI9H12zle68s57Bxjdx89Bz83jzlztUdnHrNTczcZ7//1himUsMsffFppu0+h/ox4/9bx/pb6Nq6mT/95OusX7uemE8wdvY+HHnGl7n1619AL6TZrSnG85uShMIRcqkke847HH8gzKIXHuOCeZM5+LoFJHMlqsM+bEeRLlicvfcEzt1jIm9v6efG11bRmcpz8b5T+eJek+lJ54n5fSSCAXozBfyaYqhoMzoRRkewaTDF6GgE3ZvMpyybkuVQGw6glOLdrkHuW7GZBes7sKRkr+Yajp3cQq5YojtX5JRpYzBNg7AmqA4F3eqJtv17FvQLDP/271N8z1pCMZN125I0VoVIxAOgC7Z0pAkagupoAFEVxAoI2rtSCC+vxnIEpiGwDUFDXZiuYp5NLTr+GpPeniK9WjX1jQFCQW0kOVwoV9UwUtBTihCWp3Jw079LBEinSwz2pDHCYWSiBstfheO1dL103QIWfOch5l1xMvOuOJl0fxqRHqZ2bB3obihjVORIiBzZvhRbVnWz+plt/Ppb91ITr/2Hvx/fuuNrbOpfw9FfP5C+zUkiDXG0YLB8+Vj4cBvABAILDY0rZ15NKB7k8kWXY+Kgeba9Go4bBijKieVlSbugpMrqELCURp6Aa96rFGDgKIfkul7qptSNuFwJBAaWG4yIAuHqUtyqRw4DDYGN6eV9+JRFkJKn89BRSIpFmzfmr2fL0jRfPO2bzN3t4+VmV0EFFVRQwX8WPrYERObS9P/wXNe5Sjncu7yd7z63lJzlTi8umzuVb8+bsX2Hj7DfHS45fHPBezy0Ygu7NCS45YS9GJsI88bWJHNGV5OzJVbJJqBrhH2G2z6lFDe+vpKfL17LrMYqbj9hDs3R4A7Ew2MJ3gSyI1PCLxQ/fHUlD65s57SZYzhr9iRm1sUA5REQl7BI5f63DWwdzlIbCnD/B21ct2glB41p4LZj5qBrguc391B98PGc8pVv/cPj1t/bw3vPP8HbT/6Jru4eqvyC2gnTuORX9wNQLBZ55/kneeG+O2gcNZov3Pjbf/gcOyI50MfjN3+Xpe+9w+yWGJ+Y1UpXf4rfvrQW29HZsznCxKooQtPoSGYwfQatMT/3vrOZhniYI6c1Eg36eK2tj4XrOtnYkyZbsjlv74mMi4a5872NPLGmg5qQn+8cOIPdm2sJ6hr1oQBtySxN4QAd6Tzja6K0JzOMTYSQaPTnivh1QdQTpiuleLd7kMVb+3h8XQdtQxmChs5xk0fz6V0nML0migDah7I0RUP0ZQvE/CYh0xgJq1RKeBUxDV0XhAIGSBsjaGL6BPFdqklbJfpTBUylYdkOUhcUSxZKgT/gI1jjp6Dt8EorxYQJ1Ti6RnvnEIlogJ6wYnlMp9Q4CvwmoIhRQAgHN85Pw8TG9DQNCrCVQYjCyEq/AtIEsTHJZYpkBnIMFcPotQlCiTBSSe49/Tbef+hNPjP/q+xx7DSyqTzpnhzxcTWEDIdaLYkfRce6Hmpb4mx8dSOb3xjkt1fMxyy7vP2dsGyLL/z4s9TvG2PXA1pJbhkkMKFlJJpPV65DlYXutlspwR1n3Mny+cu5afg6BjYO0jClBjcNxA39cwmI8o7g6UG8DBAbw/PM0j0q4f5MAP0be6mdWO8RCEmEEuCgRhidgcAihOU2cnnn8SlJmPxIlKFVsujvTNO+apB3F2zlgH0O5guf/Dah0N/XolZBBRVUUEEF/1vxsSUgAEN3X0tpzbsUHcnGwTQFy6FgOxQchWXbHDm5abt950flf2huPsfDK7byzeeWYUnJObuP540t/fz2xDmETB2/z0c2VyRT8la2fT7qgiZPrevg0gXvEvUZ3HbCHPZqbdguSFfKO59ESklXtkTBsrhh0SqeWNvBwWMb+M0J+xHQ2CnMUIFLYBTYUtE+mKI25Oee9zdx45LV3HbMHA4Z18i6wTSvDdv88MlX/q5x6ty0kTeffJD3Xnya9PAQMxur2bUhwoSqEI5SXP3KBi644Te8/dj9vPPyi4yvjTGzOsCj6/u57rGXiVdVk8/nCQQC/1AQ4sblb/LLKy5inzFxpo2uZmJzhGSygFWwCRk63QN5pGXjWBIhBI7jIIRGwZbYjoPlSAqWxDHcqWD3QI6i7QY1ruhM8ccV7WRKNkdMaOTMWeOJ+UxmNtaweTDF2HiEtlSOxqCPoUKJ5miIrnSOoKETD/goOg6d6TwB0+S5DR0829bF2539SAWTq2McOaGJQ8c2UhMOURsJokuvNiDcvJdMySJvO9RFQiMExo2G0UbIZyBoEA5rGKZLRDSfRnRGDdKW9A8XKJZKlIRGUUrv2AKlHHx1Qfx+HaGgVJBMHhPHiflROGzcMoS5Vy3vV0VIichIO5aGQ4gCCBPpCauDSMAZoSKmp0dQONj4KaFTxBxJC7ccwaZtEqkZxJurKKQL/GK/H5LuGuKr736XD+YvZZ/zD6HQ0cmYMSF8QQ0TkFaJdFsPzePiPHzDEqaO3pOvf/bHf/f3pIz3Vr/Nt35xMef/8hgGO4fxxUI40SqPCKiR9I+8LXn4skfob+tjw6I26ibUctrPT2biAePwYXk6Edz0cvDGw3W6KhOQAv4RcbobcaiNnKd/Qy/VE2oxhEOYvJvcIZSXku5aGQvKCe1uWryuLMJuDCQoSWqwQN+WNOve6mGow+GSM69m18mVQMEKKqigggr+M/CxJiCFpa+QfviXuJO+D6ed7zRX3qENSymFjcZAKkfacie9Q9kCly14B0sqNg5meO7sQ9ilIeHuqxlu2CCQtiS96Swh06AjXeCLjy+hN1vkhiN355QZLQzkS9SEgyNtWArc0EJdxy5Z/HjRam59ex17j6rl9uPnkAgFvPYd3UtZ98SqmoZVsmkfztIYDnDQ3S8wsTrCjw7dnXX9KdamCpx97U3M2v+gvzlOXz1yL6ZX+dhzVILWqhga0iVqloNumDy7aiur+zPs2Zxgn7H1xEyNobzFH1ZsI1UzjoHuTja3t3PxpZdx/Be/+nc/n+6tm/nJl/+Ls/dtZWx1jEKmRMdAhgnNcbb1p9BzEr9pYFsOOelgWZArOUjhYNtQLFmUcDUc6XyRwVyRRVsGeGVTDwP5ErMbq/jS3lNoigYpWQ6GrlEb8mE5gtZYmG2pDDWhAH3ZIlGfSzzak2kE8EbnIE+s2cLbXQNIBS2xEIeNa+KEKaOZUZdAKfd7krUdBnNFRieirrDcC5y0hUb3cMbb7iAMw93uKJASIcDvNwhHNAzPME0PGmSigqyC6ohJ2G+QypXoy5RI1IXx6YJM3iJbsrECGpNGV2NZNgPDeZpHVaHVmLxkDROaEEUPCjqoJ4+BJiQx8u5keoSA4Okgdv71EFA2tudlJYWb7mErHw4GNhq2UnT3Qj5boGFMDb1rO7lx7x9SN6WBVNcwN3b8CNNKMbB5kLrx1fhMiKssxYxFJpknGDF44AeLOOuTF3D8AZ/7u78rC995ml/c+2NmHdXCxLkTSHanaRhbhWOY5Al5RrwubAzalrRxw/4/R0lF7fgarl3/PTRhew5YNqZw/9Q8UuFWgXQcrz7hKN9I+rlC9yotLpKb+6hvChHxi5G2NoVE8yorAoEUCg0DiUNAWS75U4pUf5b8YIGutkGWL+zg8LnHc9YxX/mHK0IVVFBBBRVU8L8ZH2sCIgtZBq49z50Y/nl1QzcQckc9h/unLQX9uSLZQpHakJ9I0A9S8uz6Tq5a+AGbvDyJT81o5RfH7unupGko2yMGnutVzlb0ZPMULYuvP7uUdzoH+fZBMxFKsd+YBmY3xL19dbfFqlyB0XRufXMN1762kim1Me4+aT/qo+HtSey6R3Z0A6dkkbEdMiWHJ9dv49rXPmBWQ4Ijxzczb0wDL6Uk1z+58G9WJX51yWeZUuhgdnMV6/vT+Awdv6Hj1wS2I7EciWaYaNKhYNsUbcXXnn6PRZtdgX7Q0PnqAdMohqu46sFnWfHai0yavQeJ+qaRcwwnkzz2y+vIp4b5wg2/Htl+w4X/xdhCP/NaamkfzjGuPkhbX5a46WM4V0QqheVArmBhCYW0HVDCE+ZK+tNF3ulMsqInyTudg2RKNpNronxz/xm0xsLYCqRUmJogY1k4Dhi6oC4UIOozSNuS+qCf17d083ZXkhfaulg34JoUNEaCfGLiKI6Y0MSYWJi8VCAd6sNBfGVhsBD05wqgGVT79JHnn5WQKxSoC4cQSIRHcKVy7Z8NQ0Mol4iE4z70hEmPY5EI6NTXxxgqWvQMpKn2+12SkAhQV+1ZsAZMCraNP+RDILFsh7a+NNa+MTY4FsWiRfP4BA6CLhIEvLRyoJy77WVNKM8Kdvsk3FImfiw07/NKQYYAEmNkim9JjeFhh1THMOteXssHjy+ne1Unw53D/Lz3h0Rqg2iFApltA0yYFAFlo6HR3TZAc2OQbesGWPC71Vzzld8wZdysv/rdBCiWCnzy4oM46ku7Ea8Lkc9LasYmMDQThUNWhSl5kUflFjILwR8vfYSXbn6VY684gk9edaT7uiEwKKELMXLvEjdPxFJ46hCJUpDHT7kygpdnLrFJb+iksTWM4S+f07XX9WFjo2OXZV9K4sd2n7d06Nk0QChm0LWmn2ULevj+F3/FuJZJf/P+K6igggoqqOD/Gj52QYQ7QguE8U3endLadz/8Q+VOMtB1UAobGEjnyBQsakN+Gqq9lGEhkMCRk5qZXp/g7Y4B3uoYZFnnAH3ZAnXhgFvB0Dx3G3cnQgaMjQXZmhbceeI+fO25pfzolRVMronSPpxl9lF77Sx8V2UbTsU5u08k5jf57kvLOfGBV7jvUwcwNh6iZDv4NG/1Wkk0XRDV/by5dRure5OMS0RY3jPEjLoEk2uivN69lZfv+x0Hn3HuXxyjfD5PrHkM77++kupwgHE1EQLlybVHjpRSnh2Q313hdxzuO3Uux9y5kJW9w4R9Ovcs3cSk2n7OP2g3Ej6dmfvM5YIbf8vw4ABP/PpGFj31GOOqwnRkS6xb9h65ZD8LfvNTujo72XNyA5v6U9SGg7R1ZCjZimGfheNIUjmLvOUglKTkCBwp6UzleKtzgHc7k2xMZpBKYQjBlNoYh41r4MCx9VQFgyTzBUq2JOwz6c8WWdLRT10owITqCA3hAM+3dfF8WzcreofYls4BMK02xmVzprLf6HrGxsMMFYtuVchjqAVb0p0p0JqIeBUPnWzJoSrsc4dMw9PquE5Qrsla2U8JfH5je6XEcZ+lGdbpKBUYUxMm4DPo7B7CUTCxKoYmFFsHMtQWDKQEETIQGgymcpAp0lwfQ0Y1ikEfTneOaFOQ6qYQUimSGZ1grKyS8B6pKuJTkqIIjLRWKdyKn8RECkUekzAWUinyBD2ZtTurlih0TRBL+AmGG8gMZWh7fR3pXjdvp2NlJ1MOmkAoAFrAIp/JE4z4UMpm9OgAvZuHGb9LDXseMYof/PpL/PK7T5CIVf/F7yeA3xfgk584nSXPP8/cUychpMTQto9pgBwGOjn8lJPDTQSf/NFxLH/sA/b65K5oXirKdrWHR7CQ3hZcK1wlkUpg4/P2YeRzGjZ6NovhEwi/39vLIk7Oa48EHQepTILYBLAooSNRpNJFfAGN2toQ5rQa3pzfTsBfyfSooIIKKqjgPxMf6woIQOH9RaT/+LOdna7K/y0ESkr6c0XSRYu6WITInzte6gbStv9so3C1HOV/HRvQdmiP2q4nsYXGpv4hNgyk+ekba1jTnyJk6iz90icImiYob+1Z7bCfpiFtyeKOQc6bvwhdE9x14n68vrWP83ebQKDcs6PpOJaDLSWPr93GHcs2srp/mANb67nrpANoG8rwfG+eHz+9sxYkm8nw3oKHePuph9nYvpWxiSCTEn72G1OL39BRmo6yvPFRCoSXW+GRpLyE4WyBjQNpznloCSfMGM0rbb1sGEgzrS7GF/aayPtDRXbbax9WvPk6c0bXMLu5GmnbdKXzPLKmm9pIkBnVQSZVRzA0DZ+hMZC30IRGyIDhvIWtBCXLxlEOQ0WbRe19PLuhi860m9fQGg+xS0MV02vjTK+LE/AZRHRBNOBHKUUyW6Q3V8AQGjVBP7ctXc/TG7vKTxAFhAyd6fUJjhzfxGETRhHUBVIpGmIRUIpcschQSdIU8iEVFKWiP5tnVNwlID25IqYQVAV93iTd1REMF0sUHEljOABAUUo6Mzmm1CdQtlvp0nVFrM5PRypDvDpKfV0YpE1bT4bWmjCGz0AoSSpfoi9VYMzoOL5RUYRQWLbD3p9/gJqaECeePp1jj59EOOxjOFtilW7TlTewpEbz9Fo0PH8oZRFVJQSSpIhiey2AEh8WeBNuz85WMTIxxxsrt4FJ8yoCYCsfBhb2UIbNy7bw+p3vMHG/sRx/wW5uLodToq8tScvEOKZQaEqSTxYo5ItEq0M8e+9K5HCM6y+7D8P462sltm3z6a8fyS5HN9M0uYaq5hiaaXop5ZpXtdA9zyl9pCWra20PmiZomFSHAAxshChnf7h34yA8cb6DrQRZFUTivWPe6Ll6EYmVy5PuT1MzppooOSIUEEJ516GjlCs+L9ccJYISJqpoMdw1RPPYOKVCiVcfXkupK8KNl9/3D+mmKqigggoqqOD/Aj72BESVCvT/6Fywiu6qs9BGiEjGVvQMZ6gK+qgO+d0dNH1EzwF47lNeC0Z5oqDkh1LV3f28Nq8/s/XtzZZYsG4rr2/p552OAXqyBW76xF58avrokc8reweLXt1AWu7+6wZTnPHwGwwXSsQDJlfN25WjprSO2Ac7nvjd1jS2JtO809HPo2u2cv8n90cpxU+Xbubb9z5KrKaGt5/4E28/8yhbOrYxtS7CrIYoE+NBOlMFWqujmEKNWMUqsb0lrDweBVvSky2hIYkHTCI+H8s6BujLW+w3qpo/fLCZmxatpTtTYN64ev5rZivTGqvw6xpR06Am6KOoYF3fMDUBk3DAR6ZokbMl6aKFicKSimzJneqaukZ3rsQTa7byUls3OcthdCzEQWMa2KMxQX00RMRnIJQiEfDRGAvj1wSOoyhKxdPrtvLU+g7WDKToyxWx5fZnNjoW4mv7TmdyXZzmSJB00aIpEgQh2JRMMy4eAV1jIJtHIagNBymWLLamcoyKBPD7TCxH0ZnOMSYedtfWlSKZK5C2JT5NEA/4COkaQgikpihYDnGvbScQ9xGO6fSlCwgBdZEARsyP0AXZfIlkrkRLdQRh6ChgS3+aZZv76BeKgUKJt1Z18faaHjoH3JbAqqoAN998FNNmNTDYEqKHEJlUgbrWhHs+WSJEaaRFyUGQFFGK+FFC82xjXRc3NZKC4eA2OUnA8OxpBeXscFO59AUBmcEcuYEUoxoMwrGgq41QilL/EIZSJOrc1X5dKbo3J4nVhrAdxRO3vM+MCXtw6Wk3/MV3eDid5KrbLqUruYXjvzoH25JIR5JojFHcocgrlKCIho3PSy1x72u4K00gZBBOBBAe3dhutuvCVoYXZ2hgK4WF3yMxZSri6j0EivTWARqikkTC8FyuXNKW6suglUpE4j6C4ZA3Sg6OLenvyBKt9qMLnYHOFFtW97PylR7uvu55fD7/X7z3CiqooIIKKvi/iI89AQFI/elmistfH1nBLzmSrnQe09BpCPnRtR1WIIW+k97CdTCSH+IbH8oO2ZGAlA9lGIBEOZJUSTKQydFSFWVD3xA92QIHjW92z6VpbnDhSFaI8Nq6dCzb4rFV2/jV2+tYP5jmqAlN/OaEfUfaeJSUoJtgW/RlC2QdRZVpEPW7otbnNnWzIm2TLebZpS7K7MYYs8cmMHUNRwnaeoZpjIcJmZp7j1JuJ0S4K995y6E/W8JxbJqiQfyGDpqObdlsGcoSMHUsBxwgnS/w09fW8OTaDs7fcyJn7T6BoC4oOW4IoykgYBpkiiXQdUqWTaFkkSk55G2J5TgITWcwV2D+qi283t6HBBrDAabXx6kPBzh20ijqIgFsR+JIqA35GRULIhG0D2X5yRureKGti/wOz8PvpcV3Z/J8anor5+4+idqASWemwPjqOBv6h5hQFWWoaJG3bJoiQZIFi+FCkbGJCDlH0pPK0Rhx779gO3Rl8jR746GkojtTwNQFddEQQrrfGaFrGKaOkA7SMxuI1fkxgwbCtkiXJLlCkca6GLe+uoaBfJGJ9VHeax+gcyjH6s4hNvVnKFg7f7caq0JMG1PNwmXb2GtaAyedNp3m6TXoE2MEqkxSeUFi8miUkESVRVAVkQg2r+mnkC0xac8msgRIyjDFko2SCukoHH8An98/UuXQFV4i+PbqiFtJkLDD//uxMawCfVsGiNWECSf8BJAI5dCzvp9RkxJownBbnByb7s3DjJpYRce6JAvu+IBzTvoah+570ke+v9/81Xn0FbZyxPmzCcUCSCXobU8RrQ/iC4W9KD/XB8tRwosCFCM2uTg2fZsGaZxUh45DAAcvB92jGBJHmRQwKAdNOso9hoaGFNt1MgYWMWeYXHeaYr6EP2yQ6spwyxef5IIbDqFlai35dIF81gKh8AdMNF0jVhNGMzU2Luvi/YVbGZWYxFfO+DFViZqPvOcKKqigggoq+L+Mj7UGpAz/jH0oLnsVdIPBdJahQommaIhgIMAHnX3UhwPUh73+cWm7M6odQuNEWSi+AxxHsqS9j7lj6twNSrkRH5q7Xqqkg3Qs0kWLnON6/o9NhBG6jqMUezRv73sXAjA0hHDlsEIJ0DWk49CRKbIhmcby2rtebu9lczLDmHgYIaV7bZ5Nb104QMxRbEvliAYDIOCgsY2MTqapCVczJhFB6G5Cs+MItibT1IR9hAzPGtjLKLEsi3ShxAsbe0nlihwxqYm6sJ+APzIyJtlCkc50ntpwiOF8Edt2tSIBw+Ar+09l01CG+5Zv4pPTRlEwTcKGwNRgUzJDwDBojAXJFS1yJZuOVA7bkei6TsDQeXFjJ79ftgmfrnHgmHp6cwVW9aXo3lTg8AlNHDC+eedMFRSre4a4+c21PL2hAwBDE+zWWMWc5hr2bamhPhYmUyiytDvJp6aNxVaS4ZJFXchPqlBkdX+Kn7+5Br+hM6UmhqEJGsJB9hxVS0e2CMpNry9J6MgWkBJaE1FMQ+eHry5HU4qWRJTxiQhZW1IbNElEg66E2aucGT6NeKMfoWkIafOn5e3c82YbPZkC3akC/ZnCTt+xRMjHHq3VzJs2irG1IVqqI1SH/UhH8sPnV/De+l50TfD26h7e/n7PTvvqhkaiPkxtc4TWyVWMmVJFy5Rq2tcOcc+P3uCIs2dxzg2HkOrMoCIRpKZwND/Z7iFqx9Wie4S0iIGOa+Lw9gPvsuenZmP6ypN7d+xDFNyKgg8aJ1QztG0ImUrjHx1DaIKSUnRuTNIysQYlJLqh4Q8aZIeLjJoQY/8TxnH7gzcyvmUG40ZP/tD7e9KBZ3Hj769A0zW3VUpIYg1RBruGaRjvR3q/5hzcV9hUDgrTfY1xEIaOL2RSyliEI+VGOQAbx9O+KKHQpUV3W4aaCdVonkS9nLCukIQpuOTFMKgZHUdKm96NAxSTabau7ueJW9/jCzcegunXKRUkmgFN46vRdejdlmLFG12sf7Ofz33yYo6ae3Kl9aqCCiqooIL/WFQqIICySvT88Bw6BpL4NagPu3kVJdthv98+h+0o7j11f2bUJ0ZaoP68uiGls13JC9z+3kaueH45X91/OpcfMB3N00uULJt0ySJrK2zbJuozCAb8hLzJRqpose9vn2V8TZT7T9mPRMjvZlwo5YqSxfZqiLRcYiE8rclXn3mHBz9o59J9pnLC9FYagj6Cfj/Ka5Vyr0/RnswyKhIYyTi59d31/PLtNay8+Hj8uobpF+SlQ6poMboqMlL1SKazDOZt3t3axw9eXMHWoRy7NiZYeMERIy1nlu3QnbPAcdB1Qb7kEPMbpIo2JUdhOZJM0UJKh4wlifkNNvSnWbK1nyVb+8mVHB44dX9AkcwX6c+WKDiKkM+gKRRgdCLIhv4UT67rpCUe4k8rtrB2IM24qgi5ks1znz2MKr9JWWzcn83z40WreHBlO35dY0pNjJOmtvDpmeNQGmxKuuLoumiAhN9HbzaHVG7AYN52sG0HTRM8ta6D376znnTJprBD5UTgVliaoiGm18Q4YEw9ezfXUBX0gxB0p7Ic88DLDBetj/zuhUydsGngN3UkuK5iUlKyJQXLcZ/7DhiVCNIxlKcm7OcHx8/moMmNAAQiPgpFiV/XaYqYHPrz5whG/YxvjjFuRh0t4xI4dT5W9aXo7UxRyJQY6s3RszXN1nWDDPbkPnRtQoNp+45m6uHT2PXkPWia0YRVtBlsH6RmYoOXGeI2Em1+ZQ0/OeQXjN6liXPv+QzNk+rIp7LUxQSBgI6mCYQCHzY+bDLpIgNdeYIxnS/Nup19j53ART8/nGDURCidQr5IaiBHw+gIHyzaxit/3MSVl93MjAl7kS/kuP6eb9HT383Pvno3fp+fn913FZuc5Rxy1h6eakMn2ZNC6SbR2jAgsJRECI2Ft73N/d9YwI9XXEZVcxyBRtGySLYP0zAhRkAI7xhuW5ntOV0tf2YtPzvh93z15YsZv89Y784NwCGIjY8SBgolJErapNZ3U18fIpIwWfpiO5P2bCAQMulpTxGpChCvCQIahYzFk7cuQ5RCfPu8nzG6Ydxf+3VVQQUVVFBBBf/nUSEgHjb+/kb01UsIaZ6oWgAI3t3ay1kPLaZgO9x24t4cMr7xL4QSumnWmuFqDvKWxcVPvM1jq7dx5MQmrjx4Jug6OoqIzyQcDOAb8dABhEDTdYSAhz/YzJefeJtJtTEePG0uDZEgStNd3Yeug+2gmW7VRegGynH7yAfzRU770xus7R/mV8fuzeTqKGMTUS/vbPtj7koXSAT9+E0DFPxpZRvfeGEpz511CDMbEkhN0G0VmFAdRQiJlIItyTSmoXPnkg385NXVjKkKc/lBMzhhegshQ2BJRW8mT9GBhF8nWbQJahoWAstxsG1JybKxHIVUEp/PRBeCF9d3cv/yzWwczKCAk6aN5tRdWr2WLMFw3qEmoLNrUw2mJhguWgwXbX65ZA2PrdlGVcDHN/efztMbuvjCHhPZf0w9ILAdh3s/2MxPFq0iXbI4Y9fxfHnvydTHIu5zEhJN12hPZpFKein1kpZIgL6cKxBHSkxNpyjBL6AkHQK6Rrpo0z6cI1OyWNWXYuNQmo50njV9w65XgIApNTF2a6ph/5Y69hldi+NI+go2bQND3LF8I3uPrsXUdTKFEkVNYSmJobu6FkMTmLqO3+e2bkUDJuPqY4ytDnHxA28xvTHBTafPoc5z1pJSksk7hMImGtCXKZApWIweUw37VaGCOmV2vCiVJjQ+hM9nwogUWyM1mKVz7RCLF7Rx1/Vv4tiSaHUAzdAZ7nV1JJMPnsRuJ+7CrsfMJDG2FoRvJLTQVDbLHnqPey98iEK6wLHfOoTDz5qBz69TylsIATURRSDgIxxz2/9KRYe+zUPc/YNFLPzjan44/1PscWgLht+HXbJIdufZ+H4PbW9l+NYXbmJ8yxQ2d27gylsvJd5qkM9YjK/ahZkT9+LO+bdwwGdn0jqzDuEpVjJpi2yyQG1rglLeonvDIP5ogGXPrOV3X3yMn2/8BnXjyy1OinR/GuVIEg1hL//ESz/HIJux+fbuP6eYLfHD9d/FCLpjL5D4KGcGKQI4bpK6Y9G3oY+x4+NohjvK6WSB4b489a1RfAEfINm8so8X7lnFkXNP4cxjLkbXy+L2CiqooIIKKvjPRYWAeCiuW8rwXT9ydSBiexo1usGWgWHOeOgNNgxkuPaIWXx2z8nb2690A4TbUiW8/WwpGS5YpEoOv3t7Pb95ewNTa2Pcc+r+jI4EvP00lFTohu72WElnO0nQdJ5ft41zH1lCYzTEI58+gJaqCOjClX84rthVCQ1ZskHoONLtah8uFjn5/tfYOJjhnk/NpTUSpDEW3q4hUYrBbA6hXBE0wAc9SU548BVuOGoPPjNrPEWrRFpYjKmOYCmNzX3DNEQDXP3CCm5bsp6TZrbys+P2IOozSBVK9OcthCNJRILkiyUKDoQNQdqS+IQiXbTQEFSFfKAZWJZNvmTRmcrxqzfX8fKmXmqCfvpyRX58xCyaIiGiIT8+FJatmFwbJREMoAQ8uHwTV7/yAZmSzVmzxnHctFZ2qYvxXleSfVrqSJccFqzbyi/fXMvmoSy7NiS4at6u7NVShyM9m1XdJZBbUzkcFEIqV1wtdPyaZ6frOG6rm/u00IXApwmylkPAMNBQZC2HsN9H1NSxhWDzwDDvdA2yKZnhva5BVnmEBGBUNMiUujiTaiIs60qyvDvJF/aezLePm0U04kcoZ/v3TndJLEKwoSfJhLooSkH3UJ7XN/Twqd3Huldluroi6YBl2SRtSdZ2qA0bVEVDCF2jNCuKU+8H4ZKNje0p+kZpaHGTYMRE1zWUcgXjVtHhl995jfHTqpl1zHRKNdX0dxXo2dTHWw+v5O1HVpLuTRNvinHQF/dn7ucPIlQXwYckN5QhWhUi1TXE3ef/gWVPr2Hq3Fa+/tCpVDeECNpFirki+YxFIVuioTlGMKRj2YrVb3XytaP+yJQ9Gvjar4+kaVIVQhN0bkixZMEG9h53HGeecAnPLZnPLQ9cx66Hj2P8rAbiDWEevm4xCo1Dv7An8bqw97QE0pZ0tg3QMLEeq2QxuCVF1agoyc4UK15t57bzHuGGVZfRPK0BPGWHAPo29NM0Lga6ALaHMv72oqd48VdvcNnT5zPzqKlIdC//3H0XhVf5MLGJkEcAxVyJ9LYUjWPC9Hdk8QU0qhtiCE1iWw6vPbKOjvfzfO2c65g+cfa//HdaBRVUUEEFFfxvRYWAeFCOTf+PzkUVcm7L0Y7QDYazOc599E1ea+/jgr0n8b2Dd8HwmSNEJC8hlcuTLTluDoLfJBb0o0nJgnWdfOmJdwgaGr8+cW/mTRzlicm17efasa3L2/5mV5LT7nuVmpCfx84+iNZE2CvMaG7gnu46UOl+E2XbSOnuty1V4KjfvYAmBLeduC8Tq0MEdN/IuSwJXekso+NREALLkex+6xPMG1fPL47Zi0DAT0c2xeSGOP3ZIrqAjYM5Drv1Oc7cfTw/+cRsBvMWyXyJsOkjbGok8yUUiljAR7pg4fOZXtaFwJYaNSGTgC7YOJBmbHWEPy7fzNULV5AqWhwzpZkDWur57bsbuPmYvakKGDhKkbVsDKExuS7B1mSKrz+3jFfbe5ndWMWNR+/J5JooGwbSoAlKJZvNQ1nufG8Db3YMUBvyc9ascew/toFcsUTUb9IYDlAfDeIzdDqGs25mhaFj2w6WrfD73DDFvGeDK5VAOTZKeJoGx0HTXNeqsCGQCnK2RANCpkHMb+LTNaRyFRApW/Lmlm5W96dZO5hibX+K9qEM46uiI2GGc8bV8vgFhxALeknXQiCE65jVm7EoOQ6jEhFPz60o65CUUigJuaJNj2c7XB3yEU+EMHw6wtARykEJKOxbjYxoSE1DSkiVCqzzu+nw2ApTd8+pazq6qRCmTjEcIRdKID2CLRXkbcGyJ9by4s2vsO6VDRh+gwM/vx/HXHEkj13xNMdffTQtdWAoh6d/uYTfX/4skaogV/zheHY7uNV9z5RCWTaDnXkUDtWNYfyGxl3XLOF3Vy/iCz88gMNOnUbtmASlkqRjwwAv3ree8WN2ZXXb+xx45lSaJ9bhC5tIDKTCdaHzjCIE7rVmknkKmRJVzTG61vfjD5rY+RLVzQneemY9N5/2R3747pcZv/uoEUG9AEqDQyipiNWG3dwTIJ8rcdHYG5h93Aw+d/up4AUUMmI57MrVg5QwhELDwa05OZQyBVKdQ9SNihIImQh0+jqGefb2lUxs3YXLTr+WYDD0r/o1VkEFFVRQQQX/J1AhIDsg9eitFN5duLO+owzdwJaSbzzzHvcubePQCY387JjdQUHOsvEbOvFQkLDuaTI0HZSnC9ENVncN8LlHlrA5meWKg2fypTmT3OpJuZXLW2zXDMOV73pBgm91DPGp3y8k6jd59OyDmVQdRmjaSDVESdfOVGk6dq7kuoFqGu91JDnh9wtpTYS56eg9mNZQjbIchNci1jaYojkcwvAmbuc+sYR1g8P88bR5NIZ99OcKTBtTRedQhmjQzzG/fZGOVJ5nzj0YW0J1KIiuJAPZAqamETR10o5CB2pDJlJBMldkdCJKRzJNdTiElDbDJcnrm7q58PG3GV8V4YpDZzKtJs5QwXE1MX4DTQg0TRAL+AnrGne8t4GfvLEGgG8cMJPz9piALkDoOlsGUwzkirzfneSaV1eStx2OnzKK46eNRjoKWxNIyyZn2fhMkyqfwfiaGKZPx3Fswj4DXTPIWza5ok3QNFGOWy2wlKJkWeiGiaYUAU3DUZK85WDqGomASdDnc5MgdN0tYCmFpgmUckMIsS2CUR+aUChHMpgtsv9tzzOtOcEXD5zCcbuOQtfKCel4z09gWxbre1NUBfwYuo5PB1PXMHUTKS0GszZDuQIB06Q+bOIzdDJFi55MCSNs0FoTxm+67TwypJOfE0f6t+d2ZA3oi0ocU8dxLJQCJTWytiTtGBSKFvmcTVqGcDSDYHWEYCLg5WEIti7bxnM/eYk3738Xf9RP3fgaGsfG+cYjp7tcQDmsenoNv/ryAnq3prn4piM47oJd0HET6gU6+WyeTEeOeLUfMx7gwkPuZ+27Pdz42ElM2b0Jf3WAbW1DoHTWrOhnj6Mn4A+aKPCSzf9cpO0eu3dLCscWBIKu0a6VtwnVBMmlilgFh80re7jhpAf4xoKzmXXUFG9PgcAi35/DMDRCCR/gthA6aKx5bTOjdm3GF4ugI1ydh9K9mEKHsBcpiBfeaCrpmfaC7RSxshLHsVi1uJP3F27jglO/y7y9PvFP/66qoIIKKqiggv/LqBCQHVDa+AELvncR+45rcAXf5cRv5fa5CyEo2g6/WLyWG19fTWs8zG0nzWFWU9VIcp3Qvcmk44mONWPEtjdVsLjwiXd4dn0nJ00fzU+O3oOwT0cbCVlTaGJ7G5bmOews60ryyd+/iq4JHjlnHrObqtxVeSVRQkPZDkLf3r6DlNgFm2fXdfGZBxZxyIRGfnL0blQHwuC5deUcRV8qx6h4CE0zuO2dNfzwtRW88NlDSAR9SKExZXSEtqE8K7b1c+YfFnPFoTM5Y/fxRH0GncM5/IZOXThAX87Csko0xYKYuo5UirahPOOq3F769sE8TREfWVsxkMlxwr2vEgsY3Hf6AdQGfcSCfjZ0DdOcCIEC03TvYdHmXr7zwjLWDaSZN66BHx0223UK01xXLlsIVnQNsi2V5ZvPLsNWiu/N24VRiTCWZZGxHAqWjaG5LVM92SLVIT+GDtMaE0R0nYJjI9Bd3YDHF4V025+UAOUoNE1D1zVCukbYNAj6fG4AI2p7YrlXjdJ0L/FeudtCIYGma15oI3wwOEw0YjKjOTHS5lc+1IiLgUdMHaVI50o4UlCybSzboeSAchwSIR+JgA9NE+Qs1wLY1HUao36kgE7LpikecO1dqwNYEUF2lA8MN9RSoDEYlgyFBFJz3Em9ZpIV+ogrlwKyBBl2fKR6s1gFi+rWhNvC5gmztyzdxn0X/oneDf2k+3NceOdJHPLZ2SRUlkx/nnQyx0+/9DzvvbSFk760G1/++SHouoaQEJASoWDL+kEaxiXo2DLMeXPvp6ouyNX3HseYGbWkcu61OULQ21kglPATTgQwwn7QzJF8EoVESUj2pLGLFtGqAMW0Ralog1JuaKNpUNMYYdlza7nyqPs5//ZPcui5+6BwPFolyacLWDmLREOEch66jR/3KnQc5VU+hHRb17Dxo0C491JIFZHSQrdtKFkUsyU0Q0ND47WHVqPn41x54S+pr236l/7uqqCCCiqooIL/S/jzXO+PNYyx07n5gx46PWckpAPSQUrJQFHSNpihJ1Pggr0n8YdT92eoUOKk+17lsTWdCE3n+Y3d7j7Ojo5HCqUUUirCgSB3nDiHy/abyqOrtvGJuxfSNpwH6bC6e5AdV3QFCnQNzdTZraWaBecfjKFpHH/7QpZ1DGz/uabQ/Bq6qaH5DIR0g9R0v8Endh3D94/clRc3dnPNK6tQ3nVphkYirKMbgrytQNoc0OraBb/ZmaQpFmFU2E++JNGV5J73NlMT8nHuPlMI+g06Ujka4xHqwn62DufwIWmpirhp1ZpOwZZEDIHm6Wlsx8YwDEqlEt9+fjkDuSLfP3QWLbEA/QULgaQ6FiBjWQT8buvW9a+t5JQ/vkbWcvjNiXO47+T9GF8TQeig6RqaodObypIt2Vz7yipSRYtDxjUwtS6KTxMEDZ2E3yTu8xM3DSKGwc8Wr+bBFZvpzxZoH0iTKlqu25RjUSxJHCmRUmErd41eIQiaBkLojK2KUhsJEvSZ25+PUm6/j5swgWFq7uq/AN0URBI6muGREeUQiOnsPbGGGU0xUJ5/lNC2V8yEa22rHNeyWMe12q0Om9THQoyqijKuJsb42jjVEVfv0D6YoT+VpzkeZHQiiKFr+DSNMZEg/UjaikU2diXZsn6QzhVJ2jYm2bRpmC1bkzhbssihEo4DBd2HLXRM4WqJJJAjhEInpEN1U4JoXYjBjYOU0jnKFGVofTeFZA7D1AnFA9zztWcpbe7GQBGrDiIUXP/oyXzyS7vx6C1LufZzC8CSBKSka9Mww4Ou09VA2xCjRkf5ys8OZuv6JHdft4TujmECER/poTzhkEY4DNGaIPlskb62fro29NHXPkTXxkG6NgzQ05bEH9RpbImT7ssRivlHdFWGT6eYzrF56VYM0/21l+4a4q2HloFVHPlFGAgGKGQtymTQzTl3UF67lRASIdxnHhYuNRFAdihP54Y+SvkchrQxfIJAws+oiTVIR/LMbR+w26SD+MV3H6yQjwoqqKCCCj72qOSA7ABN15k57wjuW/YiX5s7FVtK+rNFcpZDIuRnTCKEbvpAKQ6e1Mxz5xzKuQ8v4fxHFvNGew9vbu1nbFWESdVhdyIpDJyCBZqGEDpYrhj76wfuwuymBF9+8l2OuON5fnXcXvzyzXU8cPoBJCI+NMP0SIzy8kN0pjXEefr8gznm9oUc/7tXeOicA9lnTC0AQjNA2m5rlqmDJtCVRJUcLjtwKh3DeW5bsp6GiJ/vHTLLnfBKh9baKOs6h2hORJhaX0VLLMRjq7Zw9qyxgGBrf4bW+hgD2SItiTAGkp5UgbFVEXoyBfKWpCHiJxwMgmO5fkiOjWVLNJcGudUBBTgOd723iYVtPXzv8FlMaYxjGjo1QYOhQomaaJANvcNE/RYXPfE2j6/exidntnLjUbsRDZquN4DAnQjaDpaErcNZHlrRTlsyA0BtJEhN0E/GstGFG0jn0zW6htIgNFpjYd7Y4tr97t5czfHTRrP7qCr8polCYTugBO6Y25Jo0EfJdqgO+l35zEhSuqcZEAKlaWiaS4o8QQLBsIHP505SlabA0PBFfGhlhzXlTmhR0qvmSFA2ysGtnknlclHdfa4KAbbjDYDCkZLhvKQ/k6MxEibq95Vnym7bH6AbOuPrw2iJIMJL9VaGQbZRYIc0LMshn7cJbiuwZsCh5NeJ1wUJRf0IbLK46e0Iif7/2DvvODvK8n1f78yc3nbP9r7ZbHpvhFBDCb1LEQQp0lVEUUQEQYoiiihKUwQVpPfeQ00ICYH0ZJNsNtv77ullyvv7Y85uwlf9WYiAeC4/+eDunjNnzszs2fee57mfGwtNSnx+F55GB0OdUZLDKWpr3Ox34iQWnjQeCbgtHR96Tr6AIiTl1QEGuxN859f74w85+fNPl6FJ+M4v98XCIjGURo9qVNX66WqNcshJE1m7tJPH7lzF+OklHHnRbjicCkbSxK0JZNYkXO5HSNvSlDIEilO1ww5znpeubUOEy324/RqDXRbBIi+pSAKnohKN6fzsxMeom1bK4ns+ZPqBDexx/KRcrUOiaQJFmkjTQlE1TFSUXI3MzJnVFbK4chJVzxoMtMVx+zVqGgrR1BH5ZmGaFi/9eS2tqwb5wTk/Z9bk+f+pj648efLk+Ri33347t99+Oy0tLQBMmTKFH/3oRxx66KHous4VV1zB888/T3NzM6FQiAMPPJAbbriBysrKz3bH8/zPkK+A/B9OPOkk7vuwma3DKdqjKfxOjbFlhYS9TpSR8EHLBNOkPhzkudMXctacBh5c1UJTf4yfv7EO3VQwpIaZ1QEFTPkxX4lEcuiUWl49dxHVQS9ffXQpKzsGuWXJxo+3bwmREy8SoSqMqwjz/LkHEHRrHPW7xbzW1A3AqrY+uxVICIRit2YJoYKqIFxOfnHsHI6cUs2tS5v444rNCGmiuh143YL6oiB9sQTtwzGOmFDN+x0DvNs2wPZYChUFXdepDnnZPpSgK5amNuynLZLAoyo0FHrxOR1IQ0cK1Z7cpNheGYdmt55J08KUkl8tbeIX725g77oSLlowjkKXRiSjUxhwM2yYaLlRpSfc/zZPb2jnsoVTuPOYeQS9ThRhV22klVt1KoLW4Tjvdwzy0NrW0ePqUQVxQxLQ7HG0RU6FrGFR6ffiVCTjwgE0RVDud7PfmFLGFQdRFYFXU/C7NbxOBb+m4FIF9cVedMOk3OeiYKcxtopqh/gJVQFVxelWcKgit/638IUduP0aQrWrGqrbidPvsL8GpGVgmdL2iEhpC1WEHWypiNErBAmWaeYsQrb3JJox2D4YZ/tgAmkYNIR8BByKHY5pGOR6q1C9tufE7EsiM4a9504HwqHg67NQDIHDoeIr8FBaHWR+aYjyiiCpuE5rU4TIgI4bCyU3hlZF4M4ZqxVVoaQ6SLk7S7R1ICeeJEFTJyB1lFzFQVjglOBxO1AUQTqhc+GP9+bMy+bzwv3r+fm3XmfxY5vZ/FEvqiowdAu/34ExlOHCa/dk+oJK/nD9e6x5aQtvPrCe4b44xRVeEl0DKDkhryoSr9NClRCQOj5MXFInUOAlncigoeDUwOVUqBwbpqIxxLR9ajjgqzPYvqaXvpZhjr1kz1wmukDBQgV8BW5SkRRWTpbYbV46AokLEw8WirQY7kow0B6lqMZPcbkbVZVILCwkieEsD/xoCWZXAXdd80xefOTJk+dTpbq6mhtuuIEVK1awYsUK9t9/f44++mjWrVtHMplk5cqVXHnllaxcuZLHH3+cpqYmjjrqqM96t/P8D5EXIP+HBQsWUFtby8aeQeqLggT8XjANe0ynuuNw2VOILGIZA1Uodq+4JXl6Uzube4cglz6OtBfMilPD4XHg8Gg4HKBIi7GFXi4/YBp1BT4MS3Lne5vpiiQQDodtFrfzBXOvbYufxtIQL59/IDWFfr5095v8eeV2zn/kfTKGMboY3GFIkQwnkyQNkysPnsbCsWX84OVVPNHUiSJNEOB2CcaUFlBTFOTLM8bgc2jcvGQ9lV4HZR4XXbEMC+pLGUplaRmI0TGUIOxxUeCzm08+7Bywp0blkseloaNb9sQo01LQpcrtyzbz0zfXckhjBVftPwPFqVEU8hI3dFQhcaswnDG4+NkVvN/Wz2+Pnsd39p5MNJMTbUJBNwyGMzod0STDaYOORIa3tvUiAK+mEvY4URWBR9PwOjXcQqE3bhB2OklkTcJeDxPKQuxZW8xwWufhtW0MJNNks/Zdc82hEvI5UDSFxsoQxSEXQhUUFLhxeRwIIdBcGu6AA6HYi1VfUMGh2oUKoQkCZV40tyOnGwWqW0F15jLBR9q6pD28FZlrtzJskYa0R7naT9aQQDptT7ja0j1I23CKVCZLWdBLQ0kBRQEfqqqM+pSklLy5qYsbF69nMJ5iNMu7PYq0cpUYaSIkeHt0pCWxVAALlwk1aSgqCVA2rgTDMOjb0o2ZSKKO7peJS6TxyhRhEoRLXAQCKv1b+ggZCdw5uzbSRLWsXM64vXwvrvQy1BHHNAzOu2ZPzvz+fF5+aBNP/2kdrz+9FT1j0tMRp7DEz1B/kqDHxaW/OoBgoYubvv06d1/9LpYOmYROadhLqic24vVGxSJAEg0TiYGGRWGBSjqSIZvNUjamgGhfgq4tg/RuixLtT3L8d3fHV+Bm3lETqBpflKsQmeQa6/AG3SSGbFP5iCRUkHjJoKKTjCfp3tKP061RMbYIt8uBpRv0bBsm0pegeVUPj/x0KYfvdSK/vOwegoHQf+KjKk+ePHn+LkceeSSHHXYY48ePZ/z48Vx//fX4/X7ee+89QqEQr7zyCieeeCITJkxg99135ze/+Q0ffPABra2t/3jjefLsAvItWP8HRVF47aYrGHj9SduwPZIHAmBZ9t1r1WGniwtBocvFhfPGsV99Ket7I6zvj/FcUyff2bsARVNHJ1oJsVOuhGq3WEXSWaLpLMdNq2HrYJytA3F+/e5Gfn7ELLtNKteCgxC2CFJVpLSoKvTx8gX7c8q973LZk8uJpg0e+qCFo2bWkcnopEYStIVC0KGRzeiEXU7u+8qeHPfHNzn/0aVkjN04bmotTqdAT5koAsYXB7hkz4lc88Za/vBhC4dMqKIsoLFndZiw18nFz3zAdYfO5ugp1bb/Whp81DHEIXcvZmxRgKmlIeZUFXHE+Eosp5PuSILvvLiSN1p6+NLkGm46bDfah2NYho7DYZvVhRA4nS6+ct/bvNfaz48XTSPkdfG1R5awri/CI1/ZG9MClypwODQK/V4GYgmSqSxL2/op9rlJZHWuWTSDvkQGsBhOg1tV8LsUUhmdQo8Xl1Mys6KQmRUFHDgU55pXV/ONp1cwo6KQY6dWs2h8FW6vk5qgByS0DCWoLPHa63vLwhtSUZVcXoRX4HA5EYqCngGkwBPQUHLmeAtQHGrO26GAZe6o3oyKQw076kPZSTgClklfNMVw2sCtCoIeJ6WlhZiGztvNfby8fhMHjK/ggHGlJHWDgYROypAs3tJD1BFg7pfO4bYn/8Ql+zXidTlQnA5kXwpR4yBjGMTTBnHDIjJokg4poNjeFXfQhc/lR/dAYZmfYKFBoruf/h4nwcoQTo8Dr2XgJIOJhhQQKnBRIAz6m4eoGBvCTs5QIbdwH3FRaJpCWW2QzpYopmFi6iaVtUFamgbRMwalJT62bu5HSpPSSj9DXTES/QlmLahiw6peMmmTzg29+FxlVDaESLVGSQ/E8YbdqAq51jTbsyNQyEbTCGmLQEURVDSE7cqEYZCKZckmDQ49ZxZzjpyEXeFRcw1VJhYSzaHg8CikomncQbBQ0AA9qzPQkUTRFMrGhHBrAkNmSQwkiQ+mKKzws/TRjXSvS3LtN25nQv2U//jnVZ48eT6/pNNpstnsLtuezP3N3BmXy4XL5fr/Ps80TR555BESiQQLFiz4m4+JRCIIISgoKNhVu5snz/+XvAD5G7imLsDz5pMw0kaEQCoqGLl+fH0nk7miUupzU+Z3s/+EGjtQTkp7GlKuHx/VAVbuOaqwu8kVQWHQxymzx9gp6MrI9Kuc6FDU0YlVaPZUKDvsEFDsBO9ir5O0bgukO5ds5rCp1XgcKkVeJ6riyLX4WJi6SUy3SOsmdxwzj689uoxvPvE+W3ojnDKznkxW4nU6KPJonDSjgZe3dPGTN9dQ7HMyvzqM3+Phyv2ncuObGzjzoXeZVRlmTKGP/kSGjX1RGosCbOyL0j6c5PgptWQshSc/aubmJRtJ6AZnzx7LYeOr0LM6woJ0SuJwqQhVI5bW+caj7/Hutj5OnTOGJ9Z38FHHGgCOnlyFw6EhsgYGCoph4nE4KHQ7eXidfZemN5HmrDljWVhfQixjIU0LPatT6HWRtkyUnKk7Fjep9HnAIRhXHCDgVHhodRsb+qJc/coabnl3EwUeJ/NqijhwfAWHTKgg6HbYwkEoKJpmm/gVBacvJyyFgsNjIRQ1N3p2pE1L2VFbtExbw460VwmBtOz9zGZ0kqaJ26HhdDjQFBhOGSR1k8aS4Kj4Xd89zKOr2qmeMJULf30jt196LiqScSUBVAHPrWuloGEKP/j5XbjdbrLxCDe++Ain7DGWnN8aMZzCVebGF/JSFlKpdWpES1TSHoOUKYnFUqTX9pKpDuEqdeN1QKDGT0HGpKU7htPIEKr1ozlAwQLTwoOJCDiwdCe9rTGqaoOQy8UwscWWEApgork1ahpC9LcnWHh0IxLJ8/dtoGN7lN72GNNnlmEqCqpPYag/TajQTWmVn3df3gbAR2+2M21BNf1dccqq/XQ3xzA9oObS4CUGIIj0JxnoiVEzPoylqiB3tMcJzYFWqBAs9HPC9xeQSsncc+3qhy1f7CEOoSIfg91RfAE3RirNUEQnnUhTWBXE7VbRkFiWSf+2IbwhH96Qixd+8xE1JQ1cf+3P8Xp8//4HUJ48ef7rSafTlBcUEMlkdtk2/X4/8Xj8Y9+76qqruPrqq//m49esWcOCBQtIp9P4/X6eeOIJJk+e/Df39bLLLuOUU04hGAzusv3Nk+f/R34M799h4BffwBzowkLZkVQOoGpIPZeCrghEzvyrfCxI0E7aFoJRXwZIFIdjR+K5YgfF2Y9XEAq5hG7LnrYzsiOqNvo407IYyJhEkym8TidtQzGWtQ7y9tYelmzr45lz9mN2bSmYJlJaZAyTzkgS01IIODUcqh1UqCqC8x57n+c3dvClqTWcNWcsj61p5eJ9puJSIGuYnPLQO6zpifCVGfVcuMcEFm/twacpbBlKsHhrFz3xDCGXg8klQZK6yaqeYW47aj6b+yL85r2N9CQyuHItaxnTYn5VEY+cvD/98SROp0pNmZtIKsNp9y/lzeZebjxqDifMqOW2tzby8KrtbB9Oct0hMzhuWi1+p4YLQdKw6ImlGUzrHP3H1yn2uRlIZnjy1H0o83qQQiAtiKd1gpqTxdt7mFFWRKnbwUBaJ+RxECrUeGpDB20ZwbxDjuLtx/5C2KOypKWPgUSGDT0RDEsysyrMuQsaWVBfmjsRij1qVQGXQyPoUgm4HLbYkBKhKaPVjLQpcAoLoQlMC+KpLAldEnQqeDWVZMZgOG2QNYyc0V3HkBqGaeBQBbVhHygaGd3gidUdNEUNzrj0GiYu2B+ANUve4E9Xf5tFY8O8sHWIo876JvuddMbonTEpJXd+/yy04e2cvnsdQgiE34UocYHPwUhtQqLQV21i2mt4pCWJ9xmsIUXphAL7eVISzEAvFt2tUSrGhPArGqrUsYSGFPa1OdSbRM9alFb7cxJEGc3EGDl+qmmiodC+dYCSch8+ReGdF7cRLvYwa/dKJGDkfp+iw2n6e5KEitzcdeNy+rviXHTdXpiaisfvxBd00N4coWhCqf07aFr0dURJJSyyuRsE7oCbsjEFORFETl5YgIbEpHPLMCWNRXY1CgsFudOxgZ5tQ0gLnB4Nt8+DJ+gk0Rvn+TuXc/gFc4gN2VWPbav7WPbkZs465mIO3eNLf3WHMk+ePP97RKNRQqEQtxy8CI/2ye/1pgyDi156hba2to+JhP9fBSSbzdLa2srw8DCPPfYYd911F2+++ebHRIiu65xwwgm0trbyxhtv5AVInk+NvAD5O8RfeZDkG49jGsb/WVAIu7VKgN3Yb308xZwdwsSUih30J+3UcrFzO1cuMFAoymjOiJK7S25IgSZyfgDsNp3hjE5fNEFp0E3I7cxVQnZUS0xDJ5qVuJG4HBrDqQz9SZ3qoAcH7KioKCqxVAbFktz09kZufncjE4oDtEaSrLjwEAo9TnoSGdISrnttFc9t6MDjUNmjtpjXt/Zw6swxXLTnZCq9LtKGwbreGNe9sRqJ5MOuIQxLMqkkxMFjK3mtuZPWSJJYVucvX9qbPaqLsCS0xRLUlPk59YF3ebell2/tPYFzFoxjWesg5z/yHhNLgwynsjz8lb0oC3pIGhbJjEGxz02BS+Osh5fy7MYOLEty9OQaLtpjIn6HA01aGFKlbTDGNW+toczn5tu7T6Ha56E7kSaaybK0d5DSsY1ccMuf8Pr93PqtrxJt2cCedYU8tr6XWDKDR1g8tGo7g8ks+zWWsXtdMTOqw8wdU0zY68SSglgmy3DKpCrkwetQEKogktRJ6jqxjGmH1WHhdGp4HQpep5NIIkPKsBe6irBbs9KmhWqbfFCFxON2IqTFqo5B3tnax/R9DuGE712L2+352PX55G9/wrr33ubMa39D5ZjGv7p+s9ksN3/zJMY4Yxw0vx6h2WJClPnISpNEysThUFHcknidA5dPwa076GyN0BdPkhgXoKjKSzgrUaVFSlHoNSHSEqG+PoDmAF1oWGKkJcCityuOKQUllYFR8WE7kuyYPykNHJYC6Sx926JU1PjxuFzASGuawBISUxFYmPR0JACLULGPzm1DBAIeTCzShsRX4EDTFIa7UwTHFtDaNEhZbRBv0EsmazLclySTyuJyuyiqCWHl9kTmjOUg6Nw6RNmYAqTiQgoztwdKzgli3waQOS+LxPZt3X3JKzz5m+XcvOwsKseGefmuVcQ6LH7y3VsZUznuX/+gyZMnzxeSEQFyzxGH4nU4PvH2krrOmc++QCQS+bdFwoEHHsjYsWO58847AVt8nHjiiTQ3N/P6669TVFT0ifczT55/lrwJ/e/gnrYAaRpc8tKH3PjOBtBUVKcDVRN2RcIycz39gGWiODRUh4bqcqAosKEvxpxbnuXR1dvs0DrLniMrVDVnMM8Jj5GKSO4uLarGV//yNmc/soyuWBqhqvTFk0QSKRqLA4Q8LoSi5l7XQAoFyzAQwsHGzkEm/ewZrnz+I9qHk9QX+HAqIxUci5RpsaV3mGhGpy2a5vv7TeMbu48nmjFI6SbH/uVt3useojjopsij8YvDZnHvSXtwwNhy3mzuRVME9360jTMfeYf24QQuVWNN9yDvdwzQEU1x2syxXLvfdIrcDn713ga2R5LUhnycNG0MVUE3iqrgcGoEPC6G4ikSGZ1fHzmHKw+YxnDK4DtPLqfU7+LmY+Zy2QFTKAq4GdYlLk1hXEmAWDpDbyrL+OIgtQU+VEVwwpRqXEKSzuroJrQNRPnGC8v5qGeIpG6BBb1pnZW9QzzXPsSh37yMS+5+DF8ggBCCs2/8PUlngIfW93P+T27lkl/+Dq/Xw/LLjuR7B07hve39/PS1dbzS1E3A46InlqYzlkJTVcYU++mLJWgeiLGlN0ralAQ9LhqLAtQUuCn1u3ng/WZ+/85mDMvE61QwDSMnQCRCVSkN+qgrDjG22E9NoZd4OstdS7fyQdTFeTf9mdOu/MVfiQ+AY75xOT+874W/KT4AnE4nX//Fn1jeFWdlcy+pdJZEWifWHsXMmhSFnHhdCkoWNi7u5I+3foiRyvL7P37Aeec+S8tz23jkuqX0d0QwDAuPaTFGl9RVe+lsGSKbMnBZI1UDi562KN869DHWLetksCdpX57sqCfI3ChgpMSrKVTVB+hqi5FIpfnFlW/xwmMbANMW6ZbdElVW7cMXdNKzPUow4CKd0BGmhcelkYoabHu/j+vOfYmt73Xj9roY6kmSimVQpIW/wImeNUkl0+ip1GhuiQC2rujm0V8sJZ3QMU1rVGbYjzAZMc+Ta8fqbYnQvz0KlkW4IsCh58xEU+G+K9+grnAif7zhmb8SH++veoGb7zmby288jgsv34eb/3ABnd3b/8VPoTx58vy3o4pd9++TIqUkk2sJGxEfmzdv5tVXX82LjzyfOnkPyN9BK69DlNeR0pdz87sbWNszxG1HzSPkdtpiQbEN68AOISFgZJ2V1Q2CbgfnPfE+d3/QzE8PncnMioKdsiQARSA0LefVsFMGzGyWMUUBbn93E8+ta+crc8bwtfljmVxVbIsYy7LbXuROzSJSkMmkGUrp1Bf6+PXbG7lz6WaOnVbD+bs3Mr0iTEyX9MVS1Bb6cSiCYYfOsxvbiRkGtQVeBpIZmvqjfOmPb3DAuHLmVhVxyPhKJpUU8KsjSjk7vYQlbf0sHFPCzIoiTKlgGBYzywq49dB5bBiM8tSGNtqiSfxOjXPnjuOi+RO5ffkmzpnTSDyr28fHMin2OOmI6tx27HyCHhcrW4c47eF3UYTg0a/uy6TKQubV2u+3XAg6I0m2R5LUFAUYSGRoKPXTPBjnzDkN1BT40U2BUxG0DCf5/QebCbgcFBgmcV1nMJVh8dZOaqqq+flf/kxhadnHzrPb7eYHdz+BaZoEC+0P4D2OPJ4n3n2Rqw6dzpWHz2B7XxxNEfgdKv4iP9KSDCYzbB+M4hAKPk3g9ThRBWSyOn3plJ2CoqrMqSlCSgvdMDEtSV1xCGkZtA0lKQ24yRg6HckUhiVY1dbPsq4EJ114CXsec+onbuXxB4J8/frfcesV5zJrbDEFBX5QBNIBuF1IafL8kk6WrBsmVFvPb3/3EccfM4lAwEt/u5PJ4w/kkT++zpEnjMWb0agpDxAKu1DqCujaHqWkQuDxqaRVhciwQTqp86OTn+H0HyzgqPOnU1wetBPKEQgJzlyWS0YFt9Soqi6gdcsgb7/cwgO/X8WEaSXUjy/ODf+1Ww4j/WnSsSx+nwND19GzIGQWr0ujtz3Cmg+6ufas57jiz4fjDrnp2WRPRjNcLlSnQkGxD5fHicRipMaxfmk7f7j0dSbtXo3TYSe6m1KMVjXFSKXEsGj+qBsJNM4sYbAjxoFnzuCjl5t55Xfr+ebpV3DAbkd+7JhLKbnnict5462XaZxUxNwDygkXlbBpdQ+X/eRLXHfpA9RW5yslefL8r6CInSasf8Lt/CtcfvnlHHroodTU1BCLxXjwwQd54403ePHFFzEMg+OPP56VK1fy7LPPYpom3d32WP9wOIzT6fzkO5wnzz8g34L1/yGx+FESrz/C7Us3cM3ra6gt8HPP8XswpTSQEx87HbpcdSM32ggsE8My+eOKbfx08VoiaZ0vz6znioNmUhX0gCJIpNL43TkNONKnnmvJauqNcOmzK3l9cw9+p8bpu43ljN0amVgayE3HstjSM0x1yEN3LI0JlAa8+Bwqy7f3cc/yrTy6upWMYTGjooBjp9XwtXmN+N0OQOH97b1MLQvRG89gSYnXodGdSHPne1t4eVMHgyl7cke53zbYezSNsUUB/A6VeMYgnjXoiKVY3zdMUrdV125VxRw7qYZFDRVY0qLc7yFhmAR9LnrjKXyqgj8XWoiqogiTTX0RznxsGd3xFE+dsR8TSwJEszopw6A6HMQl7PC+RCpDdyKFJSUn3fsu8YzOQyftjSrBMCXFbidDaYNIRueER99ibnmYvmSG+WNrOe+HV7Hn0cf/0wt6y7K46YKTaBSDHDqlAsuS9jRlTRu9Oy80u7KUTutEE2lMCajgVAQOVaOlL8q9y+0E+eOmV1Nc6ENB8tTqdiqDHsaEfTSUhEAoZLIZHvqwjc6U5MKb76W8fuwuuX5HePHPN7P+7ce5+NiZufYiiCoK9y3eSFot4Zzv/xaP1891Pz6N9rYtzJ27J2edeyNOp5Obbr0Ap9zOccdMoK0tSlVVgGxQJe6Atm1D1IwtQNdUdEUQHU5zzVefY+kL29j/xAlcdPN+FJX5AXBYFpocmY0l0Sxwm/ZSf+OaXk456BFKK3z86oEjcThUJBCLZlBQmDCtiHTKoLM1ishKFBQsaYBTY80HnVz3nTdwezRO/95u7HNMA0iBKSVF1UGUgDvXyqggpcASCh8t3sb3DvgLJ1++J1+9biGgkBsvMdL1SDKSpXPzIMFiD+W1Ifo74ujZLO880oRMa1xzwe1Ul9V/7DgPDQ9w+wPfYlPTBo46dQq1YwsY6ElQVWtPCHv2gU1MKD+aYw49J+8TyZPnC85IC9b9R++6FqxTnvrnW7C+9rWv8dprr9HV1UUoFGL69Ol8//vfZ9GiRbS0tDBmzJi/+bzFixezcOHCT7y/efL8I/IC5P+D0d/J0K8vBsvinbYBzn1sKfGszo2HzeXk6TUIIbAUBRWQckdmgE3OeO50MJhIc8Pra7l7+RacqsKFC8bzzb0m8OcPmjl4YhUTywts4SLtxVlaN+mKpSjwe2kdjPOL19fy7PoOLClZUF/CaXPHcsSkSo6863VuOGousyoLcau5ka+mZYsZAX3xNLe/s5FH1rTSNmxXJo6eWsMpM+u474NtzK0p4szdxuXSty16ogmyhkVZyM+q1j5e2tzD+p5hmgaiRNJZYlmDrGmhCkGJz02h28Hk0hD71JaxoL6Cco+dXWIBXYk0dWG/PbkLyJoW7bE09QHP6OLrw95hTn/kXdKGyW+PmseksiBeh4rf5cSlOdg+ECXsc1IadCOlJKVbfOX+d3ljWw83HTKHeZVhHDnjedIUlLqd/HLZBv64agt3HLaA5qE4pTPmcMnt9/zL5z4yPMjVXzmUA+r8jCkNgiWxpEKJT8Pt0FAcCv2xFC39MV7f0MW8+lLGlxegKJKVLX28tbWfky66nPeee4xxSoTasJc/L29m+j4Hse79pexf6+OACRV0xjLc/V4zk3dfyEk/+Nl/5M6TlJKbLzmRKUU6i2ZW8c66bp7+oIM9DziIo8++erSSl0oladq0jOkzFo6eo0wmwy9+cSZFRQkOP3QMHe1x6scEGQ4p9A4nSEtBYZkXC4EpBKaE277/Bg/evJwFhzVw2Z2HUFLhR0oTp2VPgBsJOHQbCoo9iS8osQABAABJREFUIowXHt/Et7/6DBdctjtfv3IBEoVUMstgT4qaMXa7llNCMq7j9TuQpiQSy+ANOFn3US+/vnYJzZsGmbV3Nd/99YGUVvhZ8lIzex03EeF3YBoW8UiGyGCaQKGbG776LJuWd3Fv60W4PC4sTEBBCslQd5z4UBok1E4M07s9gkDlxbs+ZO6kffnmST/C4XBgmiZbWtbx/rpHWL9+I1u2NjFmYiEzd6/AE3RRXR+iuzVGfUMBFtC7XuH5+wyyWZ1JkyYxY8YM5s2bh9vt3uXnPE+ePJ8tIwLkwaMP2WUC5MtPvfiJPCB58nyeyAuQf8DQrd/D7GkFy6QrmuLsJ5bxfvsAX55ex08Pn8Pjq1s4clIVRQGfbUQXyo7bqJZpj+PNsbk/xjWvruHZDR2E3A7m1RTTGU3y+vkH4tAUhhIZorqF06FS5NbwOnJeDyHoiKT4y8pt3Lt8K63DSdyaSnnQjaYoPH/WfpT4XQihIBVhm81VjdaBKD6nk0KXyhstfTywchvPbewgpZtMKStgfe8wNx8xhy/PrKdjOIVTFZSHAmDoDGctMqksRX4PQgFpSKSikUqncWgOeqJx3JpKoddle1qkiZQyVyWw2DYYZUyhH6moxBJpskJFswz6U1mKfB5e3drFpS+uIOhycuNBM5lZEabI77WXppaFptrm5u2RpH1MDcmvlm7g/jUtXDB3HKdMayBjWgRdLryqQncshd+hcsTDi6n0e/ndYbuT1E3uXdfMpXf9hYlzdvuXz33Th+9z56Vf4/uLJuPUFB5csR2nqrD32BJMRWFzb5TFzUMs/NJXWfzwHzlzThWvbOom4S7ka9f8lqqx44kMDnDNaYdj6FlOvOAS9jz2K2z+aDl3XHYe+9QXsrhlmFPOv5jdjjltF1ytf5+hgV6u//qxhL0azlAZp3z7p1TW/nOVlnQ6zc9/fiYVZXEW7ltHIqFTUuWjOwgdnTEUVVBc6ccQClKoSEz+dP173HPtEs6+ek+OPmc6BcVekAKXZewwnklwGKChABYXn/Ysrz69hfvfPIXJs+3pY8O9Gcy0Tnmpj2Q8QyYDxaUeBvtTABSUuEmlTXo6o7zyzFZ+c/1SVIfCpbfsz+9+vISfP3YseF1IVcEX0ggUeEETrHilhcsOeYiv3bAf0xbWEQh7KG8M09MSweVxUljmITmsk4xm8Be66G8b5sPnm9DSIc476UpeXXo3b76xBH+BSlV9kNrGQqrHFtgZJ2NCdGyLUFkXZLArSUmFj6BU8eoKiv51IsNpmpqaeOyxxzjjjDPYf//9d/0Jz5Mnz2fKiAB59NhD8O0CAZLQdY5/Ii9A8nxxyAuQf0Dy7SdJvvQXQCI0Dd20uO61Vdy6tImKgIeZFQUEPS5uO3oeIzN/RluzhMhNuhL2Itq0x4Mubx/gutfW0hlJsWUgxpem13LFAVMp9LoJulRUTdkRTJcLLRwZ7ZvRLR5f3cojq1t5v62fWMZgWnkBz5yxLyG/N2dqh7ZoAr/LSaFLG30uCCLpLH94fwt3LttCbzyNAH54wHTOndeA1+VCGgbC4WBNxwB1BT78zpxHRWiYWR2hCKLpLDHdoirkQ1rGx0YGS8NgdfcQ172xlv5kho5oknjW4NlTFzKrIowhBTe9s5Zb3tvExOIgvz92D+rDQVu85d6zVFSkZWJZtmk7bZjcuGQdf1q1jQMbyrlu4WyimSzFXidJ3TbQl/s93PbBFm5fsZFrF87kuIn1dCZSRJJp3ksJfvbMazs8O/8Cz951M6tfeJBY1mTqXotYu+wdjmwIsLEvQWtScsHN91JWXcfS5x/jDz+9gv0OO5ovX3o9qqqObqOvdRumZX2ster1B+5i5WvPcvqPb6GkqvZf3q9/h63rVjDY28nchUf+yy1AyWSSn994JjU1OlNnhnGVePAWOog6VQYjKSIDGSobgyA0LGFXNVa908rYySXEhjMUlnjxBVwIy8Al7clwCna7octUkFgM9mU4Yu7d1DYUcO/iL6MIgSoVYn0JkrEspmHhDzpxexz096Sobwwhgb7+FA6HQrDQw5aNfVx85gu0bhkikzI44/vzOfvavcgqyk7vWWBIwQ+OeJhVi7dTPaGIc246kBkLx9C+eQBNU9GcArfPQTKaxevT8CgGiQGd/q4Iy19uR48lOPuy3RCKQkGRPSSgoyVCUaUPp0sjEcsy1JMkXOQmGdWpKw/YHpjoybRtS9HR0cEbb7zBTTfdhN/v36XnOU+ePJ89IwLk8eN2nQA57vG8AMnzxSFvQv8HuKbuQfKV+3NtSiYOAT8+cDqHjK/gm0+vYFN/jObBLr48vZZ9xpQhtB0LTzvh2kSaAoQ12uokFJWOSJKWoQSKgMfXtHL4pBqOm2qbhBnpxhK5aoZQwbCrGp3RYcYUB0lkDfaoK6Ey6KEy5Kd5MMEsj92+0xFJ4nU6KfQ4bdO7ZebW9hKhqGwfSnDYhEqKvE6qQj5mVxbidbns7BJVBdNgYkmAluEk6awGqoqlp8hIga7bY4mrgx6kaYCi2GF9igK6AaqDKSWFNBYHadvaTSxrcOLUOmZUFJEyLS57aQWPrGvlkMYKbjliN7yqgtSzIFRMC6QUSMPKWQVMdFPyg9c/4ulN7Rw+rorr9p1BfypDscfFQDJDoddNaTBAbyzBg2ubmV5WyN7VJQghyWR1utNZBgbipBNxvIF//UP7sLO+RaK/m3Hz92P2fofQsmE1P73wK8zabQE/uOY3o/PXFxz2JaYs2I9gYfivtlFS+9e9tvuffDb7n3z2v7w/n4SxU+Yy9t8M5/Z6vXzv0nu44YbTybj7GK+GKXcHcCkQKHQjBfR3ximuCuZ0uMWMvaoB8Bc4ad8yjNunoigC3ZTYV6oFAnTFQpEQLvXyrav35MfffI2n71vPl06dhgCCxR6KinxIaRKPGqQTWSpqAgBk0wbJoQzV40KARW1DAUd9eSJ33LCMDPDALR9w7AUzKK4qIItE5DI/lr/YTFldiPIxBWxb3Ut/WxRFhdqJRQhUMhk7Md3tVLCSOsFaP8GgxB9yUljiQ+oGfd1JHE6VgmIPliVJJHREXxqv34HTrZLRTVS3SrY/TUYDQ8JLL9/OwLYipkyaybe+9a28+MiT5wvOZ2VCz5Pn806+AvJPMHzn5Rhtm0HN3UUVgufXt/Ld51bSm0gDMDbs5+3zF+FyqDvutI6M2lU1LMNkMJlmOKXjdakU+724NGXH9KwRRs3sjIYfytyY3uFkhoRhUelz7ahqjAQaCmGrFlWjuS9CQ3hHErO0R3aNZpVIKcmakrZIioYC7+h+SkW1QxZVDWlZpNJZsrk0dkVz4ETaYYZC5PbJDk7cUa3ReKe5k6sXr2F9X4TJJSFaIwneOmsRpiU595llfNg1xIXzxnHZ3pNB2gNQpVByk8BAmhZJ3aAnkSGS0bn6jVWs7h3iiMYqJhWH0DSNYydUEckYFHmcKEB/MsPL2zq5ccl6fnrAbI5qrKJpMMbjW7tZsN8BfOWKawkWFO6y6yERi+L1B/4njcSJRIJrf/5VasYaTJpfQXFtAF1IDEWhqz2GL+jCW2APOrDD/ez2quhgBtMwKCkJgJQ4LGknqkvbVK5Y0g4KNHVO3vdBujtivLzmbLw+W9ALS6BKiSJH3VWYlklrc4SaugCK04FUBUNDCdau6mfF0jYiUZ2Nq3sZP6OE4y6YQySSom5GJZpLoGckD/3yfe7/ybukEzqn/XgfTrlyH0ZM8rk8RLTR8cECIQ203Pf1tEF2OEV8KENlXYCB3hQev4bD7SAe1zEyJl6fk2Chi67NQ9SNLSAVzfKHny/n8m/cy5i68Z/+ycuTJ8+nxkgF5Onjd10F5KhH8xWQPF8c8gLknyC19HkSz99jJ16P3IZQVWLJNAMZg/5Ykr54hunlBVSFvCgOLVe9MMgYFgPJDCkLwm4HBS714wvXkbDB0bwOk49N17ITCzFNg+b+OGPCPjt1XUr7OZZpJ6lLe9wpUrJ9OEGh20nI7wHLwjLN0aqKFAKhqFiGQfNgjLqiIIplIRTbuyGlNToqWAoFaVmgaXYFBrlD+AgVmRMnEljXH+fmd9bwwuYuyv0ezp4zliklQdb2RphdVcL5Ty0lmtW58cDZHDOpJhfeaNrbZ0RkCboTOllDpzua5MIXljOYyqAqAiO3T/cdszdhjwuvJsiaFq6cD+XoBxdjSsndR+xObWGIJW09NDkKuP6RZ/+DV8b/JvF4jCtvPJ7iOpWDTmjE4dLICoUsgvatg1Q2FKCqiq2rc5e6lJKOpkHqxoXtS15KNFPiyAkUJET7U2QzFtuahvna4Q/zvev34axvzQFURO7xpm6STGSJJywyqQylZT78AedoirquCqQQ9HZG8QXdWEGNwb408UgWb5GbQInP9knl6O5I8vvvv47H5+CiO49AYqHm9kkgULBbDIUUSGmhItEkgGVPYMvo9HckMS0Ly4LacYV2OCN2yJKekbRvGqCvI8bKt9s5dN+v8qXDv/4/KV7z5PlfYkSAPH/irhMghz2cFyB5vjjkBcg/gRkdZOjn59mLfm2HuJBCBctAqCOdbPYiWkiTuG4LD2maFPs9BFwao4da8rHtoNitWTv/Vyj2tqVl35HdNpikxOvE53aNTssaFQRIO9gw5/MwLYuuWJpUVseyBEVeB4W+EX+IfQtZWhDPGnRHU5QF3ARcjlERIIU6+rqjYYsw6vEYaSWTQmFpWz+/X76Jl7Z04dFUvjZ3HGfNGEPWsvBoKn9Y2cyt72+i3O/m90ftztTSAqQQo+LFjoGzvRk9kQSKkDzV1MHPl66nyOPi9JmN3L+6mfZYktnlYX66cBYmgkKfkyKvCyHh4XXb+OHij7hy72mcNLkOp6qSMUx+9t5GfnDH3UxesPencp38LzE41Mel153AzH0KWXBoI5YAUyikUlkGOhPUjC2088OFkgv3U4gOxJFZKCpzI3KiwmXZQYYAmz7qw6kJxk4q4oxDHmHrhkEeX3oq2WTOuC7BoQi8ARc+vwuXS6BIJZdtrmApkowKUkjSKYPhgRQl1QFSDgcG5ug4Xl2AEComEpmLUhzoihOuCDASVjiCkKBgIbB2JKVLC1Xav0t2RUTFwqKnLY6eNfAVutAcCu8+tZXWjcOk4lkW7nkoB+11KmNqJ3yapylPnjyfESMC5MUTD8Hn3AUCJKtzSF6A5PkCkfeA/BOowTCOhmnozWvtBbiiAjsW/KOtUorKUCzJUNbEqwrKvS6cqr24ttugco9VhO2fEEpuwpOJcDh2iBrTIHeTFSxJf9rEqyn4XE574a4oYMkduSOAtAwQKpZlL/YqvC7wukkbBgOpLCFdzwkmC6E5QBr4NJW6kI/OeIqEASVelz3Gl5FWLYhkdPwuF6oibI+H5qAvEuPppk7u/XArTQMx/E6NC3Ybx3nzJuFC0pPSMU2Trz+7nA+6Bjm0sZLv7zON7kicuz/cRlcswXf3nIoyIpqkSSyrM5DK8MtlG1jc0sPetaVMCAf4xZJ1VPo9lHjdnDC5HqmqVPrcuDUFYVnEszq/XraBKSUF7FVTgjMX7JiVsLCuhD/+5Mf87OlX8necdzHhwhIu++atXH7DafiKvUycXYqqKXg8Kt6Ag+HBOKGwB0vmBjMIi2CRl46mIUJFThyaghQWuhBo0l7Yj59RjJACgcrXf7gnZx76MA/etYpvfG8PXO6RUgqjbV0AlrR9JAiBwEKzwFBVLDOLqqpYAhQpd2qgtisXOnYrpSVN0nELh8NBOpbF6VXRVNsnInJtZHY04cjL22IEoeb+vwAspClwehRMS2DoJl3NETZ+2Euht4yrfvAr6vLhg3ny/E+S94DkyfO3yQuQfxLnlAXoW1fbX8idfA+ApagMpXSGEjEKvW4aQs7cIn8klNCyhYMAFM2ueqgqYsQcrgjbe6GotukcEIY91jZlSKKpDGOKgjtES65KIk07Pk1atrl8JBUdaSKFXQnJWgJTt7DkiPhRkLoOQiGrm/xx1TbmV4YJmhYlbm3H21JUElmD3liadNbAsCSvbuvl2Y1tLG3rw5IwoSjI9QfO4tiJ1fgdGkOpDB0pnac2bOfOD7agKYKfHDiH3niSRX98BT1XTblkwRSUkXYvIYjqJi9t7eaXS9czmMpw9syxbBmMcddHW5ldHubHC2fxxMbt7FFVQrHXSTSj0xnNUB3y8oPFq+hLZvjFgXPRNMdoQnxfPIkGbG1upre9jbKaT2fS1P8SjfVTuPicG7jz/h/jcCmUVoUIlbgpLPbS3jxIQdiPgrSv0dyJCRS4iPRnKC5Xc5ergiUtVMj5q8CyTObtXcXM3St47E9rOfPrc2neHGXStHIQJjInUiAnxndClSAtk4HuJOE6PyjgkBLDspCKw044R6CiYCJJRTJEhrIECt2kkxmG+w0sU6JqAo/HieoEp0PD6VTRHHJUlNiiCkwJKoJ0Okt3WxwpJWMmFxMsdHOsewrbNgxw1a++Qn1NAwfucQozJ+2fN57nyfM/RF6A5Mnzt8kLkH8S15T5JJ79ve2PUFTbtI2gL54ils4Q9nsYWxyyuzwsiTTskbsjXgfUnPfDNJCKAoZdTbCNGTlBYxq5Ni2BKRT642li6TR1hf5cVUTQG01QHPAjdGNH3ohQbTEy6vMY8ZMIBmIJin1uu6VK1ezXzYkiK7eCOuTPi6nwuzloXCXHTK5jfmWYZCrD29t7eWt7H29v72HrYByAqoCHc+aM58jxlUwrK7QNwVLSEU3y6rZe7lyxifZokoMbq7hirylU+Nw8uakdn0NDUwRZy2Kv6mISuoXb6aB1KMqdHzTxyIZWqgNevrfHZO5fs422aJLTpo3hzJnj0E2TC2ePJ2latMUzBJ0OfA4nf/hwCy9u6eCi3SYysTiEZZsL2DQQ5eXWflzhIq7+w5/z4uM/yB5zDqKtczPvvPIw+x49FqdHweNzoAgwTJORacQiV+UoKPHQ0xpleCBJOOwFwBSMmsvtMEDbvH7Od3fj68c/xc8ufwNVVfjJrYsAkJhIPl4JIddKJYWCgsDncZJJmzjdGmDikpAE+5kidy9AClSHhstl2fkgCCQmAgVd18mmDcysQSKWJpKRGHrW9odIOztd0zQKit2kYlk8fgfj5pQhwH5/vUnCJR6m7l7JuMlFbN88xGOv/4Kb7/wRxcWFzJ49h7lTFzGtcb//SPhknjx5Ph+IXSRA8kX8PF808gLkn0TxBXE0zkRvWgmmQSJr0J3IUujWGFsURAiBHB13i/1poaq5Bb9iG641ezqQbfIWHxMcyJywUQSDsSRDqQyFHhcNhfa4UUvad3ojKYOTHniR8+eN45iptXa7iGGbzFFUe1OmSda06IqmWN0zjIWgK5qgM5akI5qiJ56mL5mmI5rEkjA2HGDrYIwXmjpRgV+8vZb32/vRLYkiYGJxiO8smMjBjRVMKi9C6jsqL1JVeWFzO7cu28javgiNhQH+cNQC9q0ppTmS5Pznl/Pqti4aCvzUhnzMqSwh4HQigNWdfXz31ZW0RBIcNq6aqSVBfvXeBpyayk/3m8Ws8jBeh4bmdtMbT1LoclLnd2FYFr9euYm7V29hv/pyzps9nvZYimq/G0tRWd0zRMX4ifzgnofyrVefAicecSHtPc2semcTM/eGcKkfX8BFIpIlGHaioth+kBwur4ahj3xtezN0QMv5LRCwZmUXLz7WxMRpJbz4RBNHfXkSjAgOoXysAglgYSEF9rhroLTMw7bmCL6AC0W1X1+zJGYuGFTmplu5vQ76O+M7qhq5ao3mUHE4HICREzqA3OEFQVqYKYPh/iT+kIt4RKevK4FDU1E1gS/kQM+a6BaEgi7m7lvDnL2rMS1Jx7Zhmlav4sMHlxAbvJz6hmpmTt6H+VOPoaaqIX/N5snzBUJVhN3CvAu2kyfPF4m8Cf1fIL3ydYYfv42uSAKhapR7HWgjLSC5yVQj43CTmQw3vrWBReOqmF8TRst9dnTHUizvGOTIiVU5wWBXIxCQyRp0RJPc/UEzW/qjaKqKpgpUsSPcMK2bdMczrO4eojro5bx5jZw6cwxuh4OVHQNc8sIH9CbSDKayf7X/TlWhIuChwu+h2OuirsDHmHCQH7/+EU5VYSD3nPoCH/uPKaO+0M+cijC1BT4KvF5bLJkmlqKBYbdx/f6DJq5/ey1FHhcX7TaBE6eNRZgmf17dwq0rNhDL6pwxrZFvzpvISy3dHFhXQm8yg0tROOyh13FrKhfMGU/TQJTHN7UxoSjIFXtPZ3JZGJ+mkshk6Y9nqA567WqLEPxsyVr+vGYrC6pK+NVBc4llDQIuBwVuB/3JNMmMwe/Xt3Hna0soKCr6FK6MPNlslh/c9GVqpylUjQlSPTZEe3OUmsYCe1obEikFyXiGod4UVQ1BFGlXK1LxLIqm4HIK7MHKJqCy+OkmLj/7RRKxLF85dwY/umn/jxnEpSXYvmWIMeOK7M7D3BCIXJ2DSCTDcCJLYV0g932VlJBYikZ/Zwx/gRvN66KnPUZBiSdXLdkpSHR0JK8YFR7SFAx0RyitDKFII+cB2fERapoW2aTOfT97n8SgSbjcRbjYRajAzfoPulEdgtMunkugwEU8kmWwJ0FfR5zezjgdLTGMtMLECROYOm4f5s84gqKi4v/8ycuTJ88uZ8SE/taph+LfBSb0eFZnn/teyJvQ83xhyFdA/gW0SbvRGv0lZX4vPlXsEB2WNZqxMdKetaxtgDuWbebW95oo9DjZd0wp08sLmVJeyI9eXc2S1n6u3n+abVJXNbLZLG3DSaoK/eimSWc8jWlaGFJimFYuewNcmoLXkctGEBB0u3A6HCAt/E6NyoCH6eVhyv0uSv1uvJpKXThITciNS1EIuBx4nA6ktAMRV7b3cf1Bs+mOJcnoBgtqipleWoAEhrMWqiLwOXLTr3LvT+q2UJGWxfTSQr4+bwLnzmrE43CwvneIq95cxaqeIaaWFPCjvWcyuTSMJWHPyhI6EzpSChJZg2/OnUB1yMsfPtrKmt5hDmms4od7zqDY7UAogGXRG09RFfTbokdKpGlyaEMldUEfx02oYyCdwe91UehUSRgW77T20pTQmTFrNj6/769PYp7/CE6nkysu+D2X/vQkXC6FQIGLQIGL4f40haXe0byPwe4EVWPDCCGRQrJhZTdn7f0A19xzCIuOn4Bh5fwgSBYe2cCv7z+Kay9+FV/AZefOjN4vsfjJ5Yt57N51vLb6axQWue1vSwVL2K1Y/gI30bhOPJLBX+BmpBWradMAX5t1N+f+dD+O+9ZsCko8DHTGqWwY+aOu5jJMciOydzKhX3nco3Q2D3PPqjPsvEV29oXYPpbOrRESEZ0Hb11GV3cHm7a9z8aWJbzx9FJ6u6JYhmTuwhoq64IEC9wUlXiZML2EZG5f+7oGeeGt3/Pnh36Nx+Nhwrgp7DHnSGZNWUjg3wjT/GdZ+uETuLQQs6ft/1c/W77qfR599UYWTDuAoxedn6/S5MnzT5L3gOTJ87fJV0D+Rf5y5UXspbfhczowDZOuWIrqAt9oCOCoEAGGMyavbunkhaYulm7vpS+RAWByaYj1vRFmVhTy+y/tQbnXQXs0RVXQg0vTci1bdqo4pg6KhpXbbjRjcMifXuPMOeM4fdYYnCOfSoqKtEyEoiEtIzfG18REYdtABJemEnBpDKYNGgp8jN61VTXbAC8ElmURzZqkTQtpmTiFQko38Lld+FQFoTqQho4pGQ0hzBoG3fE0bqfGrcs2cv+6bXg0jTNnNHJ4Yy0KFllT2jkJioJl6BhSopuwuLWb+9c1I6Xk63MncEhDFS5VoSTgwzJNUhYMp7KUeXb0yFuKwtb+CDUFflKGSTJr0FDoRlEVnm1qowUP373tHqrHNn4al0Oe/8O2tk1c9asz2fuIOibNLaG7LU5lXQiH05YVrVsGqGksGi006Bmdgypu48Djx/OjOw8BCzRpERtKMzSQorjUi2bBxo/6mL9P9U7FBoV1q3o5bq97+dpFc/n+9faoZYnAEKOGEixLsq05SnFjCM1hj97NAhfu+yBd24b5y5bzcHpdDPYkUFQIFXtzwmIHtuHdbr964jcr+c23XuHOZacxcW4lSDMnVOwd07Mm/R0xHv31R9x707t/5e/YvHkTG7e/w/urX2Xbtq2UVXmorA9SVuMnXOTF63ciBCRjGYb6Ugz0JGjbFqG7PU5sKENRcSGTJ09h2vi9mDZ+P8rKKj+RGEin0/zuoUtp2rqK4YEYhmHi0Fw4XRpCMSguLgbLSV9zAbsfXMY777zK9ElzOXzRmYyrn4c6YvLJkyfPxxipgCz56q6rgOzx53wFJM8Xh7wA+Re5//77+dY5Z3HObo18ZVYDZz6yhF8dPpvxpQV2JWTnqshOrRkSQU88xfNN3Vz58ocYlsXsyiKOnlTFgeOrqQl6cIx6auXHUtQxTbuHXtHoHIoS8nnsCkxu3aPkxvFaIy501Z6mJVQNLAMQCEVBSov+eJpoRke3LOrCIVxC7hj5K5RRH8u2oThJwyKZNelLpPE6VCaEA5T43FhCxdINLGnbWd7c3seP3/qQzniK4ybUcs7sCbiFQAiBoqgMxlNkVQVpmFhS0hxJ8vsPN9ASiTO3vIgfLJhm+2gUjW1DMar9XlRFopsmPYkUFaEAwrKwUJFCoGd1+lNJ3JpKdYEPVUgcDo2POvt4uTvGLa+9lzf2foa8u/J57nrgJxxw4hiqxoQY6klSMy4MQtK6eYjacUU7KgbABQc9QmQgxYMrziQeSTLQkyAcdBMu8dqLa2nhsnY2nO/g26c/x6vPbuWVVWdSURWC3KMsRYya1ZNpg86uOKXjRtrBFN5+uZlLD3+Mb/zqAI67aC6mlHRuiVBaW4DTZReG7d8Me0CEyO1rtD/Ol6pu56jzZnLxr/ff4Q/JtWtZukVfe5Q3Ht3ERSfcybixk/7uccpkMny0/i2WfPQ4a9atwumWVDeEqKgJUFrux+N1oGkCy5L09STw+Rxs3zxMV2uUoYEUw4MZFDRq66qprmigumI8laWNFIXqKAgVoWkaiqKQTqfp7e2hu38bXf1b6OjeSMv2LcSTMWLRBBW1fubuVU3j5CIG+1P0dyXIZExM0yI2nEFRBQWhMD6fhjtosOq9Ltq2DpNOWkya0sjusw9nvwWn5H/n8uTZiREBsvT0XSdAFvwpL0DyfHHIC5B/ESOd4qCZE1m8qRVNETQWBehLZHjgpD2YVVVsi4adGfF5mAaWENz05nrqiwLs31BO2K2hm5L2aIIxhX5A2BOspBzNFhlhJJVcaHaVxRYXubDA3GtKBELLTeiyJGLE2D6yLbGjWhJJpEgbJiU+t71twxZMEkDR2NQ7xDlPvUfzkD39qtzv5o4jF1DicVPqcWIpGvF0hl+9t4F712ylxOvi+v3mUOX38G5bL22RJFsjcbYMRphSUsD5MydiWJI/rd3CK9s6CDgdnD9rEilLsnUwgk9T8TpVYhmdC2ZPotDrRgiLhA7dsQS1IZ/9fgBVU/A6BZpmh8IhBMKy2B5NsLS9n9mnnM2hZ3/9P3L+8/xz3PvEL1m5+Vn2OrQBf0jD4VZxeZwM9SYprwnaw3CFisTklsve5oFfr+DVrm8w2BOnprEABYG9nLXPubBGTOojQsS+896ypZ/D5vyJL502het+cxAj17ApBKaQuYlwFoP9aZKKpLDUh4XAlJLz9rqfvvYY920+F6dbI5u16N4eo2JsCFW1hQrSzCWj5/YDkyuOfYI173bwWNv5uJy5TKCRoEIpad88xMYPephd8WWOOODUf+p4SSnZun0tSz56jJWrlzI0OEBdYwFVdUGKyryYhj3GuKDYgy/gRM8YdoWkP0lsKEMynmV4MEVkOEM2Y5JJ2eOKQeJwKATDLgIhNx6vhtOtURB2UVYTpKzSRyKmk0rojJ20k19qp78KoxkoliQ6nGF4IIWqQDZj0bp1iA0f9YHu5spL76G8pP7fuFry5PniMSJAlp952C4TIPPueT4vQPJ8Ych7QP5FNLeHp358ER+9/hJ3vL+Z17Z0M5DMcOxf3ubeE/Zg74Zy+4G5xPHRxb+qoZgG39136o7vKSoOTByaxnDGpMClfqyFy57fp9nTdywToeSS00davRSRm34lEKqGMM3RbQsFEPZzpRC2cLFMexyvaRB0O+gZzBJ0C5xipxR2IUikUjyzsY3OaJLKgIfeRJpbDp5Hnd9DUjdBUVm8pZ2r315NdzzFcRPrOW3aWBQpcTrceDSNV7d30RVPogrBUePq2DIU45fL1zGYSnPI2DqOmtBAQ8BH0+AwL21tpWkwAsBBDTWguulPmATdAkcuRSJrmgQ9Dpya3Y8vFIEYea8CelMZvC4He1YX8+C993DwWReg/J+MiDyfHl85+mK23PIRq5d2sv9xDQz1JglXqCDkqKHbkvb5m7uwmvt+uZy3nt3K/ANqUBS75cmylNxwXQupKEhz56qiXd2obwxz7KlTePy+9VzwvQVU1doZG4oEQ2F0Kla42M3w1mH0sB9NU1EVyRlXLOD7Rz3O83d9xLFf3w2nE4orA3Rvi1DREEIRVq6+kbvOcu6Ug786hXee3sKyF7exz1HjGK3MSHt/3V6NcLmX1dtf5gj+OQEihKCxfhqN9dP46jEwMNjLstVPs3Lta7z7ShOhIicVVX78QSdFZT40zd6zhglhVFXB0EeCGSWGbmEY9j/L2qEkFEXg9qh4fE48Xg09a5GM6ZiGhdOlIqVEz5qsXdFDX1ecTNrOIhq9p5LbVFGpl5oxQTwejXGTi5k9v5Ilr7fyg2tO4rtf/w1TJu72z14mefJ84RnJG94V28mT54tEXoD8Gzin7UXlB2/THkkysSTIcVNrmVpeQGnA/TFxQe7u/KinYyQ1XdV2CjMUVPld9MTTNCdMSv1u/G4XYAeqYY7kieTaqjSHLSQUMRrcNpIhYrvUBCKXMC5HxUhOuOSmEaGoCGnh0xRMw0C6nFi6joHKo2ub+fm7G+hNpDmwoZzeeJpTptQzu6qE/liKjKVwxasreWhDC3UhP3cdvgdzy4vtxYtQGIgleaqpja54kpDLyZyKYpZ39vPghmbCbhe/WrQXk4sKiWWzPLhhK49v2kokkyXgdFLqdXPihEYM3USoKrpu4nSC26mhmwYOVBQ5kogtEKqKIgR98SSKohDSFF5u6yMaidCxpYma8RM/xasiz84oisKl59zGd645jg/f6WTC9FKkaWKmLfSsgcvpRORCAWfuVYWqKbz/WguHnTKBkQW9IUzUXNAfWBgKKNaI32IkiRzO/+48nrhvHXf84j2uueVAEIqdii5VTAEWJhKVkgofPW3DlDUUALDHIQ1MmFPGQzet4Kjz5qE6wOtTkKUeepqjVI0tZGRoL1h2RoiEBYc24PY6WPZCMzP2rMHQDYrKvIyIIqfTSaQvRWXBrH/7+BWFSzls4dkctvBsLMtic8sqVqx9ljXrl7H8rc1U1PopLvPS3RGjpMyHmhMkXr8Dl1vD6dJyo4TtFi7TtMhmTHTdIhnX0bP2Z0M6pTM8mCZU6CabNnnlic0kBj3Mm3E4Xo8fRQgUxYEi7Alh0pK0dW7g1ccX4w1YHHb8eAzDYub8CgrCbn72mwv40pFnctTBX88b1fPkIW9Cz5Pn75Fvwfo3kHqWvp+djZpNjY7d/RiKNipEJOSqIfZdXWlZH2tvsB9vt5PopkV3LIEClPs9uTaQnNDAwpISMZpULuzWIyGQpoXi0HJtXioiJ3bssaS5FqwRT4lQsAx739oiSQrcbtyq4JWtXfzs7fVsGogyuTjED/eewu7VJdy2YjPnzJ4AUvJh1wCXvLKCzniKL0+u59u7TcbtcGCaElOo9MfjfOuVZTQNRjl35kRW9w6QMkxW9Q6yoLKMC2ZPxqFqOJ1enti0lftWr6WxsIATJo7nz2vWc+6cGcwrLcTrto300UwaRREUexx4NA3FoeHSJKpit1yBZDitkzIM0obFg00d1I2fxAmXXM6EmXP+A2c+z79KS9sWLrn6eE65eAaqUCgq9zLYk6R6bBhFybkspOC8RQ/T0x7j3qWnECz0MdpmJS2coyYlcib1kWqEmZtQpXD5hS/w9AMbeHn1mVTWhBhpxcoK7OwPoSAx6WyN4y7x4PO5MbF49eGNXP2VZ7nqgaNZeOIEyGW3x4YypBIZSqsDiFwrloZCbChJZ3OEO374Jq2bBvD4nPxuyVcIBtyj7zmbzPDgzWs467irmTttn11+TNPpNGs2vsVHG1+laetqujr7KCp1U1Lhp6jMS3GpF1WzBfzIZ43br+HxOujcHqVl8xDbNw8jLZXi4kLChUWsW7+OmbtX0rRqgFuufR2Px/v/3QcpJU+/dAdPv3AP+x1ez7jJxQz2p0jGs7z69BbKSur5xlm3UFxUtsvff548/w2MtGCtPOcwArugBSuW1Zn9+3wLVp4vDnkB8m8Se/QWsmvezQUIKqM+j1FBoqiA3CE4Rg6zyNlZRe6fafJ/T0FCN+lJZqkPeWydMfIDYY/+FVIipbnT93eICyktyDWOSGnlfCK5XRAa0tBzTU0KW/uHaRmMc/PSjXzYPURVwMvF8ydw5PgaVIcTTBPDMDEsyW0fbOJ3KzdT6HFy+R7TmRgOoqMipd3mMZRMc9U7H9IVT/H12ZOZWV7Cj956n/ZYktOnTeCkyeORikbL4BCvtrTzxKYtTC0p5qzZMynQBF3JBLOKCwn5NHpjcQRQ4PUQcgg0VeB0O1AsA0Wxj69pSYazBilTUh1ws6pnmLUiwJUPPPUfPOt5/h3eeu9Zbv/TNZz53RlkkiahIhfDw1kkEqdTJVzq5ZHfr+Gm7y7m5sePJhh2M2NBFSPeCsVScqVaOyxQsUCVdt7HCG1bhzlk1h857YKZXP6z/ZFYSFRMYaGrAplrxcoYkrbtUWpyRvisIThpwp2Ey3zcuuRUFKFhCQuBSk/7MN6Ak0DQhToSQAjccM5LvHz/ejSHQlltkAdWnTG6HwIV09K58bw3ue83b+L3+//jxzebzbC++S1WN73Kps1raWvpIVjooqo+iNfrYLA/ydZNQ3jdASZPnMb0iXsyc9KBhMM7MkbWNL3Fy2//iWMPvJiGumn/9Gt3dW/j0quP5eRzZlA9JkRvRxwpJSve7WD9qn5mzZjPEYsuZNzYqfmKSJ7/KUYEyKrzDt9lAmTGnc/lBUieLwz5Fqx/E9f0vciuecf+Yue2q5EWq5yXQwg7I0CouUMtLbuXfadKhrDEDhEjJX4BAgctw3HqQ340p2bngJgmwsptN/daQrXH746IkKwluey591nVPUyZ302p38PYcIAL5jfa7VzCbqN4fuN2frusiVU9w5T63Fy17zROmlyHS1WRioql60gJ7dEkl7z6Aat7h1g0poIr9pxOodsFioph2OKpaSjGpW+sIKmbXLr7DEr9Pi5+5V2ypsWP9pzDwoZa0mkDaeq839HDE5u2MKuinIt22w2HgEq/QoXPQcK0iA9HKfO58Tk1XE4FTQGn0x5HbAiFoWSKWEbH4XDgcwiqPU6ElEwtDvD8B810bW+hoq7+07sQ8vxD9tn9CDa2LOOJe17jjG/PorczSWV9CM2pkElZrF/eyW771gFw/29WUlDkYeaC6tFfEUuxMCyJlhMklgBFjqR02GK7bmyYg48Zx8P3rOH8S+cTLPLk/CYS1VLQVQEoODRwOjWymazdpqTB8d+Yza2XvsmG97qYskdtbricSUmln44tEbw+N5pqV1wAvnv7Ivo6Yrz/cgtT5lYgcu1gdtXFZLgvQ0VV8aciPgCcThczJy5i5sRF9vGyLFraNtHUsox4coBpNVV848v7UVL896sR08bvw7Tx/3q1pqJ8DAsWzGPNilZcLo3quhA9nXF226uGuXtUsWp5Cz//7VkUhUs48ytXM27MXJ578gXCBX723H/ff/s958nz34KS+/O+K7aTJ88XibwA+TdxNExHuLzIdCInHnI+D0Xd8V8AK3fndKepVkLJ+UIU+zlSyyWLw6gQ8Xs9VKgqLdEkZT4nAZcjdwfRHqlrm8t32q60QFHpHopS6nejW5JXtnTjUhXuP2lPhFAwgXe39XDzkg0sbesn7HHyo32nccrUelxOJ3rWwBQalm6AovHc5jauftMeGXz9vrM4ckIdlmlhChVLN9ERrO0b5jsvL0VVBNfvM5e+dIbvv76UoNPJTQfuSU0gQCprEdMtfrtyNe+0tjGluJgTJ06kPx5H1TQM3cCtKoT9Too8QXxu1a50mAZZKegcjpAxLZwODb9DpaGkcFSIpS3BB+19LO+PEy4qxqnlnXqfR84+8cdcsn4NHy7pYfLsElJxg2DYhdujUFDk4ZxDHiZY6Gb54jZO+/Yc7KlSak6EKFhiJ9EuwBBWrhUrZ75G4Zzv7MYLjzdx/+9Wc8EPFuwY9StNe5quYn8dDGgkIzruUtuHcsSZ0/nD1e/y+G8/IBkzKK3zUT+xFEuxKKn209M6ROWYkC2ApIlbVfnJg0dywX4PMXleGRITdpqU1dE8RO2Y6k/x6H4cRVFoqJtEQ93fHwG8Kznl6J/xnSsWsc+B9WzfOkxVTYBs1qS/O8le+9ey5361rHyvk5/dfCHDmVL6VwuiGZPFi2dSWBj6VPYxT57PipFmh12xnTx5vkjkBci/idA0nFMXkPngtVzmh5WrgIz0qn98jO6oIAG7HUtaYNrPEZYBmrbjeaoKloHPqdIQ9tIZTZG0oNzrsMeK7rRtqai0D8V5bkM7j69r44OOQQBmlBegCPjtkfOYX1PGSxs7uOW9TXzQOUihx8n395zMQWMrcSoKmurA0G0DrTQM4obFtW8s46nN7UwqCvGzA+ZRVxDAMu1gQ2nYVZ5lLZ1c9sZygi4n1+49hw+6B/j9RxuoDvr56X57EnY5SaPRG43z06Xvs204wqIxYzhlxnTUkZG6iqDMaxFwQ9Y0cDognc0Qy+qkdBOXplIS8OB1OnKtbbYw6YwlWdYdYW3PENPnL+DCq75F4/SZ+TaPzymKonD5RbfzrauOYtyMYhJDCdw+BafLScPEIv7w0kl87eCHAGicao+DlTtqICBAlxbaSC65Ypurd7RiWUyaWcLu+9Zw/+8+4uxvz0Fza7kxvAJVmphSRQoTr99JpC0GJV5M0ySbyHLgyZNZ/MhG3nuxmT9+dCa2vwQ8Xgdun4NIf5KiIg9azhDvCzj55TNfIpULFx2xxisoeHwuBvqGP83D+5lSUBBmxvTZ3HvHR/iDTsLFXhYdMZYxjQUM9CWJR7NMnlHKhGklrOieRmKPs3jzrV/x3Vvv5roLTqWiqOTvbjuRiLNyzYsMR3ooLxnDtMn743a7/+7j8+T5vCGE2CV/l/J/2/J80cgLkE+Ac/LupFe8CpZEOBw7jdAdGXuxw+fxV4IEdrRq7dyypWlI02BJ6wB3r9jMgY0VHNhYDtKkLWJQE/KgS8HKzkEWb+7ixU2drOkZBmBcUYBL953CcZOqeG1bHyeYJjHdZL/fv8TmwRilPjdXLpzOyZNrcTudYEnaIkmyWR0tV3nZNBTn4hffY9twnCPG1VDh89AZTVAbGDGlSqSULN7axuVvrqAq4OP6febx8rYO/ry2iQlFBVy/93x8TieoGh+1d/GLZR+QMUzOnzuHuVVVDCUS9mJNEVimScZyMF4Dt6rSEUviVQUFPi9VTnXHtDDLJG2YrO0dZnn3ECmHjwOOO4GzTzsbfzB/F/XzznBkkF/f810Kij0EC9y4PSqRwTQl5faSvmFCAfe8ciJfO+gRGiYUQ27kbS7dxg4VVASmJUf9IJYAIcklkSuAyVkXzeXcLz3BMw9t5LjTp2IJANO2rEsTEDg0B5ZhIbCzZF7+yzqeu3v1qE3LH/TAyKtLi+JSL51bhsl4VTSPi5FKR3FFAPAhcsZ1AIlFeY2PluZ1xOMx/P7Ap3J8P2suOud39PR00D/Yzt0PXsqyt9uZNruMiko/RaU+shmDpCkxOp2kU0OMPfJLbN30e476/knsuftcLjv2EspzhvXBoV4eefI6tm7fQHdXhHCxRmHYTSqu87t7rubQQ47iiEXfw+l0fcbvOk+ef4yi7KIWrHxxP88XjLwJ/RMgTZPBG89FpmIIcmb03Khdw7LsRT2wU2T5Tmb1kaTzXNUkZ2bviyVpi2XY1DPEfR9uY1nbAAIYXxJkj9pi2iJJ3mvtJ561BcuMikIOnVDFoePKmVgcRAhBTzLLr95ax+Mb2hlKZWkMBzhvtwkcO6EKR64ebJoSy5JE0wYp06LI5+HZjdv54eIPsaTEranEsgZOVeGVkw/C7/EhTRPdMHi5tYdr3lzB2MIg1+w9lyebtvHghmamlYS5du/dcGgOsqi8tGUbv/twNUUeD2fPmkGB24Nb1fA5HSBAWhaGaREzMri1JK0pk47BYU6cXMOM0gL7GEvJtmiKD/sibBpKMHn6dPY94VRmHXBI/o7Qfwm6nuWMi/djt4PKqW0MUt9YTF97lGDYjdfr3DHZDZPmpmHClV68QTcfHxdnT7uS0sAhldHWKyyBlksqB7AsyVHz/oyiCJ55/zRMRcMUdouUFBJDCKSQ9HbE8Bd6cPs0QGHxk5u56oznyaR03sxcAoqKRObEjZ2p0dk8TPWYsN3mJw1UbH+XBfZEOuxgxaHuBG880cx+M7/KIXt/5dM4xJ8rNjZ9wC/vOJ+TTp+GZUpKy334A04sYIm3go4Wk56hapSSNF5jkKZX1jK4oZ0D99qbCw7+NldddwKhIp1pCyqpmxTG43Ngpk1ikSydW4dZ+U4H/b0ZvnzCeRy48Kz850CezyUjJvRNFx1JwLULTOgZnQm3PJM3oef5wpCvgHwChKrimroH6WUvIBXFTurOpXb98KVVWMCe9WWoQmJYkNF1YhmDmG4STWUYSusMJNIMJDP0J7J0RpNkzB1J6iPyRQKb+qJs6otSEfBw5KQq9hlbwT51xZT6PUjTvrO7oS/Cze9u4rmN7eiWZL/6Ms6c28jC2pLc3VyBgYo07UBCS2h4HdAWi3Dju2t4qqmdaSUFnDClgT+v2kwsG2PfugqCLifpTIbeRJpXtndx64p1NBYGuWqv2TzZtJ0HNzQzu6yY7+0xD1PRGEhkeKqpmac3b2FcOMzp06ZS4PcjTJPeRIKmwTRxXScuLaK6TlnQzwGHHcRZhx/DcE8XL9x0LV5V4cOeYTZF05QWBNn/5DO54PhT8AX+N+4of5FQVY3yskqiQ0m8/mKGBhPoWR2H02tXNthR66ifUITExJK2UNiBbfBGCHSsHanoih1YONKKpSgqp54/ix9/+zWWvdXO5g0DnHjBTHvYAxaKFFhCxR9yER/K4PZqICz2O2YsZYtP5uoznkUVduVDIkaDDB2ag7KaAJ0tg9Q3hFBzY7WVnAFdYhvXkYJMwqS40k3P4LZP+1B/Lpg4fg4nHHMO9911JyecOZWB4TRDQ2lKyrxMEf2YtRWUlLehZlN0dessOrqSgT0L+fDp9zjmqf2YXO9h+m516KqgezCF2ZuAuIHb46BhXJgZ08vYumGABx+4lfeWPc35Z99GSXHVZ/228+T5m+SDCPPk+dvkBcgnpLN6Orfe8HO8zpHucIElJX2JNE9v6OCeFVv/5vMEUOhxEva6KPK6mFQaZNG4CqpDHh5d08rq7mE8Dg2npnDclGr2GlPOvOpCMoZJRciPA2mP3bXscaMIwXBS55UtXZwyo57TZzUyrsCPzE29soQK0kTmzO5CUZG6XUVxKxodsRRfm9HI3MpivvfqCpyaSrnPzWENlfSlskRSGVZ0D/DbFeuYUVrEdQvng2VRXxBkfkUp399jDpG0TtTMcM+aDbzX0cX00hK+PGUKRX4/zQODvN/VSWlpKY0TJzJ3wgTmH3E446ZOQ9N2XIbpdJrbr/4BXWmDPQ5YxClfPZuaxvH/6dOY5z+Ioij88Ju3ccH3j6RxchE+r4OCYhfRwQxSmtzzixUcdtIEJs+pYMR7oWBiylxrVU4EjFQYhNCwpMmrjzex4cNuvnXtXkgTNASRoSR7LarDH3Ry01XvECxwc/IFsxjJUBdY9HVG+cMNy1lwUB27lzXgcGhITCbNLObON05GRcXCxNq5tUqaeN1OVrzSynPbI3z9mr1RHbboUFAw5Yhp3sIyDYY6dPbZZ8FndMQ/exbtcy7S8vPgvb/krG/NxeV30t6bRM/GKC+O4C3ykg568Pud6AMRTI8k3hcn0hdl1qWzsNwKhX4HfZ1x3n56K8nBDAUFLmZOK6FhXJia6iDfvnR3Xn2hmR9ddSwXnPdzpk/PT9XK8/kjH0SYJ8/fJi9APiGNM+bwaEuMzs7Ov/pZwKURyxiU+d1cuGACB44tI+DWCHg8+DVQdm4d2GmE75GTa/FqgjXdEfZtKEERgpEmk4RhMRBLUR4KgKnbY35NEylhXlWYDy88HJ/TgbRMLEuxp3ApGpaezYWxgVQ0pGEghYKUUB30cc3e03mztZeLXlpGmc/DL/afx/PNHdSGgjgQtEST/OK9NcwsK+KGfXfDoSpEpGRyUQF7VpbRl8nSGUtz24er6IzF8TkcnDl7NoVOJ/3JJH6HxsSJk7jt+ef/v8fT7XZz2yvv4g0EUfJNr18YwoUlXPL1H/Obu6/gxPOmoWkKwwNJQgVuHrpzFZmUzuQ55TtEBqrdZiXEaCOWPQLB9llIIVmzvIt7b/mAE8+ZSUWNHyyBaVh872svEI9mWb2im0OOG2/n5limbUhXQFUUnrh7NZmMzoRZpZRWBVBQEAgKCr1YORE0UpVRcuN/BbDqnTbee7mFw06dTFVdEI/PYVdWAIS9f0iFnvYY42pnfgZH+vPDon1P5tEXbmXz5kFm7V1NqT+IKSXRuE7X5iF8pRmKir2YJW6KS1WOP3cygeLZqJbE5dLobBnkzUebOGiv4znl8O+yev3bPPLEDaxesYG5cyuZMKmIw48YT3lZJ7fe9l1+cNld1NfP+Kzfdp48H0Mowp58uQu2kyfPF4m8APmEKIrCxt9dx8DbzyAsC9Vpz+l5fE0L17++liv3n8aps8bgdGi2GNC0nczqir3K2TlN3TSoDbmRQmFhgwtULRcoaC/GNGkhFQVpZJG5thNTAkIDaeLTGE0+l5YJih0+aImRKVwCadhjgqWeC0EUgheau/nNig1MLSngJ/vvhk9TOGv6OHwOB2sHolzxxnLqQ35+su9cErpBLJUl4HDgc7roTOkkszoPb2yiMxYHYFJxMUUuF0PZLB5Nw+twsLyzEynlP+zZ9ocKdvl5yvPZs9uMgzlwrw956aEX+Op3puNAIxz2sv+RjTz/0CYuuWFf3F5yvxN2/cGS0h43PSJIALCv2aO+Np0//WoFT967hgt+uABdWBSUePnjcyfxwwte4LlHNhEMuRDY6elZxW6UKinzcuBxE3jlkSZOOm82pZV+25OEiSJBoiGFiYbEkBKEmVMjCvt/aTyvPryJ7pZhPE6FcGkAX1BDRcHCIpXQsSyJrhsUFoY/mwP9OUEIwfFHn8ODT9+ON+xm1XsdNK8fZMyUYubtX4NmmERaIxTWBlGwGDuhEIkkOpjB0E0CRV7icZPdZx6MEIIZU/ZhxpR9WLv+LR58+Kd8uGItx58wiQV7VDM8lOKPf7qCq6965rN+23nyfAxFFSjqJxcPu2Ibu5KWlhbefvttWlpaSCaTlJSUMGvWLBYsWJCfVJfnnyJ/i3kX4J6xN36Hhs/lwKMI3AoUe12s+MahfG3+eFwuJ0Jadn7HyNQrxe4hR1q2YJB2yrNUNKTYaWSvaYBlIYWSy+CwczrkyD1amQs7NHSkZTeMmKhYhmW3X41mk5j2+FzscHQrl5BuCJWfL13Lb1ZsYNGYCv541D5U+9wUupz4PW46YgkufnkJBW4XP953Pves3sKjm7ZR4nKTMUyGszqlHjdjCkL0JpMAVAUCBJxOlrS18X5HB693dvJ8RyfjJ+Rbqf7XOfW476GYHrasGsCyTBKxDMedMZVELMurj2/ZaaKVHG3Fsi9ykMJ2W4xkg9SPL2LGgkqe+csGW0jnhkC43Aq/uOcwLrxsPsFCF7Z4scMLwd7cSedOJ5XQWfpqM/Hh9KiJXQBCGih2yM5O+wMWJnseVI/bq7H4iS1UNYQZ6o8THUrbo4GlxONUMZNZVKHzpwevIZ1OfWrH9vPIogWnc+zBZ7PqrWHGV+/Or658nt0nH8/T96zn9cc3ExtI0b9lCMU0EUgUwBdyEhtM4y9wc+jpk/nhTeewvmnl6DanTt6Ha696njmzDuSpJzZhmZIDDmygu7OTrVtWfXZvNk+ev4XYkQXySf7xOdEf999/P7vvvjsNDQ1873vf48knn+Ttt9/mrrvu4pBDDqGsrIwLL7yQ7du3f9a7mudzTn4K1i5i8KYLsYb7QFF23OHPmdKFYKdRuyOJAexou1I0+3uWyf89G1JRc4rBNusapkVXLEV1YRCpG0hFRRp2v/rIZKls1qRlOE5/2qAvlqA/mSVjmJwxczxCWpi5hviEYfLdV5bzRmsPx06o44o9pqEoymgXflbXOf/FJWzqH+a06eN5fOM2BtMZLpgzlXllJRS4XbhdbtIZk2e2bOOe1WsJu92cOWsmr7W2ccpJJzF9/nymLlhAZXV1flrN/zhSSh599lZefOMBTv36NIrKPLRsHqJuXCGHTb6bqvoQd794PBKwxIj3Q8FEYgkFmfOCMGJAx+KJP6zm+gtf5Z5XTmTOXlUgwWHtkBPDg0kKwj7AxAJMASgKUpocv9t9mJbk5kePpKqhEHuloORavOwqiMRuvrJncIFiWfzwtGd598VtvNJ+IQ6nQndrBJfbQSjswqNqRIeSRAaybHyvm+ZNKc485QpmTNubpi0f8cGaF3E4JScccTmqqv7fQ/Q/g67rvPjuH/nTQ7czc68KwuV+Vr3bgT/sZuqCSmonF9G3PUqo2EPL+gFef3Azl15wI/Om7T+6DcMwOPf8+Zx19nRKS3088/gmamoWcOJJ13yG7yxPHpuRKVgtlx1D0P3Jp2BF0zr1Nzz5mU7Bmj17NoqicMYZZ3DUUUdRW1v7sZ9nMhmWLl3Kgw8+yGOPPcZtt93GCSec8Jnsa57PP/kKyC7CNWMvO3BopKJh5e7cwsdyPmRuAYSi7mi7soyPiw9F3RFcaOz4mT2VR0U37TYqS9HsqkZOyEjDAAmqpvFe5yBnP/ku33hhBVe/uRqHptn7pmogJe3RBCc/8SZvtvZwyfwpXLXXdBSH094HSyJNk3vWbGF17yAL6ypY1tGLngtZLHK5KA2GcDrcJDM6HWmDxzY2AfC1mTModLkYV1PN9266iYNPPJGqmpq8+MjDbfd+i3dWPsbhp4yluMJLJm3h9TlQFZVDThjPirfb6O9J5KoQI8nnFioSxf4FQKB+7E7gouMn4XSpPPvgRvsbAvTR6VkWBWF3zlBuiwsx4uwQghPOnk7z+gE2LO/DIXMBhzmvxwgC1X79nBSxkBx84mQS0SxLXmpGCElVXQEOh6CjOUoqlSVY6EZxwL6Hj+G4U+v48yOXc/Y3F3Dv4z8gJT6gqeUNrvjJCfT2tf/nD/rnFIfDwZELz+EbZ1zB1jX9rF3SzpxJe3PwrLN57g9r2LS0E2FKYoNp6icWse9xDdx892Vcf+cZ9A90A6BpGg0NdbS3x0hEdSaML6J567rP+J3lyfNxdkX1Y1elqX9Srr32WlasWME3vvGNvxIfAC6Xi4ULF3LHHXewYcMG6uvrP/2dzPNfQ16A7CJcU/ZgR2VDGV3oo6i24VvJpTLb/U+2YLCsHaZwkXtOLkdkpOIx8vMRwaJKC59D0BHLYGWzSClzCeVgCRXLlGzrj/DWtm4yhokqBNNKC/jK1HosoWIaJh/1DPHlJ9+mI5biloN24/RpY1FU25gOoGgayzp7uevDjexXV8l35s/CqSoYloVDUZhQHMbQDfriCQbTWVoGB4hms/gdDuoLC3FpGrHhYQzD+JvHKs//HlJKlr2/jK9+ayZuj4ZpWWTSOk6X3Yp4wJGNSAlvvdBCX1cSIyNtsZFb+o/87ZXk2ghzo2/9IQd7HdbAK49vIpO18z5QyDXzMOoasTdg2Xk90m5dPPLLU3B7NV56dCPZtI4iR15Tokgz9+ssd94AKILdD6rGH3Lx0oMbR3NCQmE3VQ0BujuSSEtSWemnry9BIOThG9/fnUuv3ZOzLprGfoeM4ctnzWTaPI0rrj+Zt5c+DUAqlWLdhvdpaV37Lx1Xy7Jo2baJjo5W+vv7icViZDIZ/lsK22MqpiNTJkbSYObY/Tlozy8zZ8ZkEl0JQmE3Ztaie1uEafMrOOnrM0grnXz72qN5Zcn9SClJxmJoUlBe4iObNtGz2c/6LeXJ8zFGTOi74t9nzeGHH/5PP7a4uJh58+b9B/cmz387eRP6LkKrqEcprcXqa7MFBtaOysdI+CDYgiQ37cpO+LZ2VEekmRv2nWv4zC2aRp8r7NaRYr+fwXiSrkSGiqAfTAOBoCsS59blm7l/zTY0ReGcOeN4dH0r1+4/GyHBMk2e3NTK1W+votDt4vdH7c644kLbL2JZdtsLgmQyzfVLVlPh9/L1uZN5t62TD7r7OW78GIQQFHu9tA3H8DkcFLjd3L5yNQD71deTNAzKg0H8qkZ7Swv1jY2f7onI87kkEhnG7XLicmkEQh5iwwahsJe2LUNImaJxSjEl5T6ee3A9D9+1igffOQUpcwMWFDuPw04zzzVDCYGU9rSsQ0+eyOtPbOadl1o44MhxABiKbSi3BUVOmIxMt8pl9fiDGgcfN54XH2ti+5Yhxk0pQVoGItf+JdFGYgbtSVq5mVhOl4ODjp/AM/euo6c9ykdLujn4xHE4NJVAgYN4b5riEj9jGgoZ7k2wfeswXr8bj0/BG3CiKBrz9qqmdmwBD99zAw889nOyKZPSMi/JhMKvfvbyPzyeUkqWvvs0jz/yGxLxIdxuL1Jm0Q2BbkgsS6empoGxY6dw7AnfwecL/SdO6ycmXFhGKpJBSCcFgXL6B7pYs3wt514yjwKvE49bJRHVyUazVNUEKD5+Apsae3nk2d/w5ptPkE0nqK6oQVUV+vuTlJRUf9ZvKU+ej/FFNaGrqkpXVxelpaUf+/7AwAClpaWYpvkZ7Vme/xbyAmQX4pq8G6k32uwvRsWHYgsNYbdPIe3QwB2TsHL3WEdShqQ12pq1uT9GecCD1+mw268MuyqCYVDodhLNpkmlM6R0g9++38QfP2rGsCyOnVDDt/eYSoXXSW0owORwgDQKP37zAx7b2MrMsjC/XDSPEp8XaZpYqmaP8s2FIP5udRNd8SQ/2nMWUgoe27SNoNPBQQ21lPpDDCYzOB0aTrePrGnSNDAIwISSEko8djBiod9H87q1eQGSB4D2rs0Ul3lBmgRCDtpbIhQUOSmr9rG9aYirLnwFVVPYsKqPCdNLSCZ0vD43Wq7mIXOmdFtO2O1QNgZ7HzIGf8jFi49sYv8jx9qtVELYE9d2GuJrY6eoS2F7SI76ymSeum89S19ppa6hCIdXYcRCIqSBGP2IHGnNstiyvo/5B9Ty+B9W861jn+KwkyaiWbZ4D4c9dG8dprjEgxAQLvETLvKQSZvEYxkG+9MgJOVVAcoqQpz/vXlEB7OUFtlTY2648n0ikWFC/2AS3AfLX+Xpx27kK8dPoq5mJrFkllTawLLsFrNUWqerO8b7K15n8WvlHHHUBZ/4HP4n8Pv9zN99GkveWkVJcRV3/eXbTJleSmV1kHgiy9aVPfQNpxg7PkxpkQdUhamzy6is9LPqzU4O3n08QhEYSZO27XEOP+rIz/ot5cnzMb6oY3j/XpU1k8ngdDo/5b3J899IXoDsQpzT9iT1xqO2qXyk8iFEbsKVYns9ABA7KiAIhGXk0sx32EJQNYYyBgfd8xx+p8a4ogDjigJ8e++phB0qUoJHSK55cy2Pr28loRscMa6Ki+dPoqEoZE+/Ao6bWEvzQJRvvrScpsEop89o5NvzJqEg7NfMtYgBCE3jja2t3L9mC3tVl7NXfQ3ruvtY1z/E+XOm4VBUezSpZeFyurAMg2gmQ0LXUYWg2u9DUVW7qpPNsv795ex/9DGf5inI8zmlvWsThaV2q6Gu56oMgMutEQp7+MldB/ON458iFslQXR9koDeBGRYEQhrCAqmQ83BYKChYUuayO8DpUtjv6LG88mgT8YROwOcELLvTSsqct2Nk+ENOSEiJlDB/zzoqagK88XwzR5w8kSKPz/ZbCexAQmnmmq/lTkGICjd99w0Amlb3cea35+a2b6IotoF+5HWltHCgoblVvG4NWSZIZ3Q62+IIIXG6VMJFPhAC07SoqPXw1nsPcOTB/3/B8OyTN3PM4eNpqC8EIBRwEQy4dnqEQkN9AaVFXl5e/NrnVoAIIfjO+fdz8bkWiqLQ1trMEV8ey4bVvTz10EamTZ/MuOq9eeWxJ9m6bpB5+1bR0xnH53Ewf1EtqZSBZiiYLoGJSTKd+KzfUp48H+OLloR+yy23APbv7l133YXf7x/9mWmavPXWW0ycOPGz2r08/0XkBcguRCupRi2rw+zZDkLBsCStQxEaikOjIYOMZHrsXAEZnfBjT7IajCd5ect2nm/qwO/U6I6n6Y6nObCxirBDpSOR4Q8rtnD/qmZiWYO9ako4dVYjc0sLcCoKyUyWjGkR003e3NbJjUvWA3DjAXNZVF+OQCIVhWzWIC1N4uksLdEkYaeDXy5fT4nPww/2mIlDSp7e0opHU9m3qhwjdw94pI1FSpWtQxEAirxeCr1esCwUTcPjdNLWtOnTPgV5Pqd0DqxHcaqkUhl6OuJUjwlBzvhdWhlgoAeu+u1BXHr6c+y2Xx1VdQW0bo3gCwZRhV0HGZ3RMFr9yHmokCw6fgLP/Hk9b7/UzGHHTQbs7A5L2lWTHRUTBaSFmmvJQrE4/IQJ/OHmFbQ1D1Nc6kMxLUxVIIVpC3UU+/WlXYsZP6mEu1//Mhce/iitW4cpq/KzwysCLrdKbEinsMCda/eyby4IVKQ0cbs0xjSGkZikkjr9fXFM3UJRVabOKeHhh37Hug0fceFZNxAMFv7Vsezpbqejo4f62h1jrXearZeb12UhJdRVh2ltXfNP5e98loyEjh5+yKncc+ttVFYXcdm37mT82DkAHLbwHO64/3vc96sVTJpVhFMVTJlZhmFYSL9G2m2x4IBaFr99Dwv3OyEfYprn88MXLAr95ptvBuybO3fcccfHpvk5nU7q6+u54447Pqvdy/NfRF6A7GKc0/ci9Vo7WCaagDvf38r7rX0cM6WaoydXU1/oz1U5pC1ILItMVmdF+wBvNvfyZksPH3YOIYFin4vdqot4YVMnP1k0i6mlQb75wgc8vaEN05Ic1FjJhXPHMb20EBOIpLIkLDCyWUzL4o4VTTy4fjvjCgNcv3AWlUE//ck0hpXLAVE1Purq54mm7SAl8ypL6YwnuWHhPEJeD21DUd5q7eTQhloyhkWh142lqJiKim5IhENhe9wOHix2uxFSIlQVyzAIaBrtvb2f4ZnI83ni6AMu5gc/PYnaxiE8XgfZlIHmt9uWFEVSUuGnuMLPnc8chy/oQKi2wTwymKag2IMiwZSWXQURdrVBjDZoqey2fy3BQhevPb6Zg740AUWCgmqHCMqdludyJNsj1wqJ4MiTJnHXL1fw5rPNzJ5fgyqsnF3dbuGyvSYj/zMBk8oxAf702smcf9SjtgCxRnJLFEqLPQx1JYkMJAkXugmFvAiR84WNDugyQQGP10NVrYOR5rLq+gCTZpTz9IMbOP/bB3P26Zcypm46rR3raG5dTmvrNra3bmPugnKG4llcHkcuNSWHACmt0erQho2dTJo07XMtPnbm4P3P46D9zv2r/XW7PVx81m/p6W3n7fcfZdXat7l3yUfsdWAthTNL2dYSoXFcmA+Wd/KXB3/Maaf8+DN6B3nyfBxFU1C0Ty6Id8U2dgXbtm0DYL/99uPxxx+nsPCvb5LkyfPPkM8B2cXEezr43dnHsH0wRstwkq39UfqTGXriaQCuPWgWx0yu4qOOAd5vH2BZ2wCruobImHZryPSKQvapL+WAhjLmVhbx+LpW3m0bYH3vMGt6hnFrKsdNquGceRNpCHmR0sKy7Lu6KCqmYbC6Z4hLX/uQrUMxTp5Sz/fmT8HpctmjexFIBK82d/DbFRtoidgC4rj/x955x8dRnG/8O7N7Rb1Ltiz3XnDDxhhjeu+hhk5I+JECBAglQCD0AElogUAgEAgkkFBDx/RmwBhs3HDvRZLV+93tzvz+mNm7kyGFxCAb7uGz6Hy3tzu72jvNs+/7PM+w/jy/Yj0Te5Vw0x47gZTcPGsh/1i6knsP2APcEL2ysoh5itqOLgpzckh4ijtmz2bWho2MLS/nvJ2n4LgusXicpq4u3qiu4dl587abyU8GXy2WrZrHDbf/iO/+eBTxLkV5ZTZZ2VHaW7toboxRUp5NJOqihWlN1FqxdkUTvfvmEo64JmRTCLA2u9pey9Yrjqv/bwYzHlvCjNU/5LOPqpm6V1+zY2Uk6AKjwQoyRAJIJIdOeRCt4e/vnUA47OBJB18acmOE6CkSEzhfoaG9oYuc7AihkLS+W8YuOKIkvu/RWNdJW1OCsvIs8vOz0CgQppVLSQctUtqU9DEBrFrWzBMPzcNLSMoqcijrHaWoNEppeTZFhdlUlWQT9SRhbVoyDZ0SCK2N0kXB7//4EXvscxbTdj9q6/9Cexib6zZy3yMX8enc+ex14ED69SsgJCT33/kxPzvvOiaMy+hBMug5BDkgNTceS37WVsgB6UxQcfHfezQH5J8hmEZm/tZn8GWQqYBsZeRW9OHRGsHsj5bQJz+L3nlZdHk+Wa7D8LJ87pz5GZfPmAOYiuro8kJOmjiIKX2Kmda/F6VZLp5SzFzXyLkvfMxzS9bT5SkGFOZwxR5jOXr0AArCTirk0KacA8R9xW9nLuS+ucspikb4/UFT2XNAJdr38ANLXCHAV+wzpB+LNjfx6uqNrG1pZ9bGzYQdyc92GosvXRKJBK+tWsuUynLys7PxEp5pXXFNqrRSPlIIVjU14UpJyHFICIH0feJKkRONQiJOW1sbeXl5PfTbyGBbwtCBY/ne8Rfx4D2/4uSzx1OzoY0BQ0PUbGylV588Nle30mdAgZnnC4kQUNkvj41rW+g3uAQhFFIL03glgvv+hgwsmFXL+Km9eebBhfzkkMc55KRR7LxXX0M6pDa9WLYtKxBapYiI5uCjh3PLVe+xdGE9iz+t4ajTxprQQuHbxkNpM9g1aG2qK2gKCqP2dQ3aSe7D1xopJeWl+ZQWe2yu7qCpoYHyynwiEVLvCZDsn0q5dg0cWsAFV08nHldICV5CEwoLHEcitARfEQs7kBC4nnHoUmjwzFE9+dwSwjn92HnXI76y32lPoqy0kp+f/TALF7/DvX++go9nbmDyLlXsdeAgbrntCm75zSRKinv39DAz+JbDaEC2hgh9KwxmK+O+++7jlltuYdmyZQAMHTqUc889lx/84Ac9PLIMtgdkCMhXgKeuu4hP/3In3330Xda3dCafb+iIsVNVCeMqixlXUcjEyiJyoxFTvXBcdCIBwOEPv83sjQ1khxwOG9GXY8b0Z0qfUjuJwgjHk9a92tw3lQ5/nr2Ee+cs59ChVVy62zgKXSOGF9JJCuClkHhaMXdDLQ/OX86OvUrpSPhUt3dy8dRxVOTn4SU8PqqppyWeYO/+VbTH4xSFbUghChkK0ekpXCFojyfwlCIvEiYei5GVk4OTSJDwPPKyc6ivrc0QkAyS2HWnw2luaeJvf7ifA44dSM2GNqQUdLR7aKXRStg/tOZaD4VDFBZnUV/dTknvLCsoB1D4nqJ2YzO9++UTcgU3X/w20hHMn1XNOdfsZumJIRgKcHRAWjSbN7VRWBQlEnX54K11FBZFiEQdfn76Cxx49Air/JAoK1oPXLi8hGb1sgaGjCyx4wgIA6jA5hcHJXzCvmn1cqSgV2Uujzw4DyEFO03rg0CgJEQjLpWV+YDGF6RVRAyeeHgB9/9uDs/MPJFolpPanzBHJrSm2YvjNPs0NsVQWlFf28H8eZvp6Ixy6RV3f+MT10ePmM4t173Oa+/8mYf+cgd9+mUzZEQRN/7mNK6+4mmi0ayeHmIG32Z8wzQgAS6//HJuueUWzj77bKZOnQrA+++/z3nnncfq1au59tpre3iEGWzryBCQrwClk3an33N/4rCRfelfkMWUfqWMrigiP+Iahyylki1TJuVcg2fIhxIOp04ayqlKsf+gXuSE7a9ISPxgXaVQSDMl8lXSmveEMQPonZ/NvgN6W5Lioy1pUYAWLirh0RDzufSN2RRnRbh6t4ksa26nVzRCeU5W8u7w88tWkxNyGVRSjNDgCxdfGn2H7/loIcnKinLTPnvzkxdfoigrC6U1WikcKen0PKKuw+a1axkwePDX/0vIYJvFwfucSlNLHW889zSrljbywt8X89TsU2hrjtHa1ElBcTRl8ShMyN/alU3kdIWJZIlkEeP8o55hw6pmnpj3PUZOLON3z3yHnxz8JB1tCQaNCPqSBQQCbKuNmPX2Wk496HHufuxw9jxgEKPHlfHrX7xFrMtn1dJGBgw175VKoSSIZFVCcNkpzzP3/Y08/9kZRKICJdLzRmzQIT5Kgval1YyAUoIH/zCHJZ/Vs8OECg46bBgTdqokvzBMr145SCmQ2sFP2gUbV6zS8hwGDi2kZmMbibhKe81HaEHYkYRDEi/uk5cf5uH7FlCUX8Xe+57LjpP2+9bYYQoh2Ge3U5m645H8/OpDcQoUwmnjZxfvy49++GvGjJza00PM4FuKb6oN71133cW9997L8ccfn3zusMMOY+zYsZx99tkZApLBv8U2WNTb/hEpKiM0YCS3HjyR83YdxS4De1MQDdl2Kc/a8gJKmcRmIQ0xESYF/eiRfTh6dF9yc7JMp5UNEVSAlg5aazNB832Tju4YkhJxHQ4Y2pfVTa3EEwmU0vjCwfOUCWD3PHzpcvmbH1Hb0cWv9tyJgkiYSeVFVBbmobQgkfCp6Yjx/oZq9hvYj3jcozg7xwQVeh5scTe1uctoWwqjUZQGrRShUAhfKSJCsHnDhq/z1GewneDog8+ien0H0/YbwE+vmkbfwcUMHV1GQXE24CBwrJsTgEOvvvlUr29Fa5WsgUycXsWqJQ2sW2FyaMbt3Ifbnj6S8j65lFRkWxeslPuV7VJmzI69CEcc3np5FQJJfkGEP/3jGEaNKwNg4NBCjIluoOpIkYLDThlN3aZ2nn5wHkJLZHKMvtWmyGBVdKppCyEV/3j9JK68cS+aG7u48ap3+O7Bf+OofR/h9ZdX2rfooEBDfW0ra1e0MnFKFTf8fj9Ky/PoP7jILgUMGlbMgKHF9BtYRO8+efQdUMhDD81jytTj+MUvH2PqLod8a8hHOnJy8rj60oepqe1ChCUDhudwx+/P5qbfHM/GjSt7engZfAshXLnVli+Du+66i7Fjx5Kfn09+fj5Tp07lxRdfTL7+5JNPsv/++1NaWooQgrlz536p7fu+z6RJkz73/I477ojneV/wjgwy6I4MAfmKULTjHiSUnU34nskdUHYy5Lim+iHobssrDZHQWqOURiUSKByUdNHaTrss6QhsJrXWvLt6E7/7aAlnPP8hO93zLBe9NgdHSJDSZH1olSQpd380n/c31PLTSaPYoawIX0gSSLyEjy8cfATvrN2E0jCtXx8irklud0NGRCe2aERt6ooBloDYKZ7jOCitCWtNbYaAZJCGxuZNPPHcb/h47qtkR3PpO6iA4/5vHGiFG5a2WcpUEXTSNUoTDkmKSqPUbmjDEBTY7SBTWXv3xdUEqoodp1dyz8tH272ZxHRhLXe1MGQiNyfCTrv25d3X1hAIvwuKsvjTP45i8PBiKvvmGeMsFFKnE27NtAMGMGJ8OX/6zUd4iQSm6mEk7lprGuo62FzdTs3GdtZvbmHTxjY2bWynZlM7tTWt7L5Pf/7+wvG88M5J3HD7vuxz4BD6Wd2Lsg5dEsdURBxNQ107Lc0pC+D0r2whBVqaVi4loLAoi1fefIwHH7mMhYs+pKZmEwnb1vltQlFBFTdd+SzFhQNYOL+WyTv3IZrXwlVXXcUf/3A9TU01PT3EDL5FCCogW2P5MqiqquKGG25g9uzZzJ49m7322ovDDz+chQsXAtDe3s60adO44YYb/qvjOumkk7jrrrs+9/w999zDiSee+F9tM4NvFzItWF8RiidMY8Hjd1NVmGNIQJABonW3DBDhuGgvYSodnmf4iHAA6/bj+0lzHCkdlPJSbVjC3NUtjUb4aGMdszfWk1CaK3Yda/YjTVsImMrEs8vWct+nyzhgUB+OGj0UTymUb+7SIh10wtzpfWf9JnrlZFORk03ITniCRGntJXCkDVqTkuaYqYAUZ2WhLMHKrepL+aBBRKRDU0vLV32qM9iO8Mbbj/HurKdwnX+Qm+cTcSR+QkEEujtBGdNbjbLmt4L8omw62lpoaWonvzDKoBGFVPbP550XV3L8WeMtWREMGFJCEDpoOrCEcb1O2/60vfvx7murWbuihf4D8xHap6g4i/ue+o7VkZvsD6l9lCL5WRJC8v1LduLC457j+UeWcMQpo9AolNJsXN1GTq5Ddm4Ix5EoX5OjHIQwn7NwOA/XNfuv6J3NyDG9OO7kMfZ4A8WJIUtFJVkUlWYDmliXx6b1bZRWZJObl512NrV5hwDPV0zftz/Fxdl88NZ8Hn/qQ5qbPRrqOwk5gh0nTGb/A37MwIEjv8pf7zaDwsIyLjr7IRYvncX9D1+OVm3suuc46tYv4OcXHcQ+ex3OIUdcRDQa7emhZvBNRw9pQA49tLsL3HXXXcddd93FBx98wOjRozn55JMBWL169X89pPvuu48ZM2aw8847A/DBBx+wbt06TjnlFM4///zkejfffPN/vY8MvrnIEJCvCG5eEXkjJtC6cp4Rmgekw+o+wFY6vISZIAn7vJTgpYSowrFaDq1RnmesR4U0BMRXxH3F45+t4f31dYwoyafT89lvWF9DJnwPE4PmsK6hhRvfn8/o0kIu23Vi0jnLCYXwEgmENBOf+s4u5tfWceiQgWilyYm6qdwSK+uNug6NnTGyEolUBSQcptPzkKEQY//vDDY1NtHQ0MAa6xmeQQYAC5a8x6hx5RRXZFNUmoUbljanA5s4HqSXB9cb+Mk0ckVFVQ5rVzSRlR0hFBZMP3AQT94/n442j+wc19JlM8kXaaLz4PnAbGqXPfsB8N5rqxj0/YmYioukV5881q1qpqDcfhYFIFJhgiDZ87AhDB5Vwh9v+pBDThiF60ramjvIznUoLs9G6hTRiSSkFcJjWy8dkuQouU0n7bE9FYDGATwiUZd+gwpYv6YVL6EoLI4SkLWO9gTN9Z14cUVZWTa5eWEOOGQorj3Qjo44NWs6qNlUw+9u/yEF+UUcfsS5jBu/+7fCMnPEsJ248aqXePeDp3n0sd9QXh5h+kEDWTTvdd4+70WOOOpM9tz71G/FucigZ7AtaEB83+exxx6jvb09KRj/X7FgwQImTpwIwIoVKwAoKyujrKyMBQsWJNfLfLYy+GfIEJCvEL0m7cbiRR8bAmKhlW+qHbY9BO1bd6s0goKfFOEq5aG0qYho7afauID1HV2c+8KHzKtt4qiR/dmxooguX6ESfrKKovHpjMW55M3ZIARXT59IJBSiqyuOpxVhIfGUwvUSSEfy7PLVaGBqnwpKoxG0lMQ8jUoo4kgjfteaOAKtocP2euZlZ9PZ3GzaxmJxXNclOzubFhtUmEEGAEMGj+Tjea9z0m59CEddNq5rJb9EYhLKrU2u0IEXgrHjRSXzPoRwKO+dR2NdJ+WV2ex64AD+dvdcZr2+jj0OHUgqr8NM0AUShELo1CRfa8XIUWWUlGXz/tvrOPn7483zStnWJwflKYiYbUktUAKzXa1whOQHF0/hklNf4OXHPuPg40eSnRuhZkNQ7RNJW90EijAC0zbm88WkI1CnkAwoNKnpXtJ7U0pF3wF5rFvdjOO4ZOdKNq5rJeQ6lFZkEw2Fk0RHCw2WfGVnh5F0suOOvdl1WhWfLW7g74/8kueezOX0M2+nsuqbbxAhhGD61O8wZceDee7lW3lxxmOMHF3C4JElvDjjHl5981G+d9o1DB0yuaeHmsE3ESahdOtsB5Mvko5IJEIkEvmCN8D8+fOZOnUqXV1d5Obm8tRTTzFq1KitMBh44403tsp2Mvj2IqMB+QqRNWZnfC3wlUILx5IOx94A9ZPaEOG6bGrt5JQnZjLtDy8w+Q8vscPvX+DWD5cBwlRAkuuG0Frz5OK1HPbX11je2MpN+0zm6unjmFrVi0OH9jf7Ct6D4LqZn/JZfTO/mDaB/EiIDY3N1HR00dQVZ0NbB7XtnaxvbWdDayvPL1/LmNJiRpWXExcuMU/jIfERKF+hfB/hujho4r5PRyJB1HURacTI6+pESmkISKYFK4M0HH/EL5k4+hAe/P1cOjs9fCVwww4iEIt3y8MwTxhr20APosjKcensiAGSybv1JxJ1ee/lFXb91HWYnNZr8IUPNh1dY+yod55exYfvrkf5hqC42uwpK1uS6PAQtjIjCHJEjEJDAPsdPZQBw4r4ww2z8H2FGxL4nkb75qaCmXM4hmcgAc9K0mVynEGNR1uCpYWtuCST2oNKijL7FoKq/gW0t8VYu7KZ4tIsevcpJBJx0UIZ0hYEvicF8JKKPtm0tsRZtaqJ0uIsLjh7ClPGFnLTNafx1CPXU71pPf8sj1ZrzZzXn6Czs+PL/aK3QYTDYY489CJ+e90r5EZG8dbbaxg5poz+A0Pc+NszufePZ30jjjODbQsiJLfaAtC3b18KCgqSy69+9at/uu/hw4czd+5cPvjgA370ox9x6qmnsmjRoq1+jOvWrWP9+vVbfbsZfLORISBfIWR2HpXjd2ZjU7shG5Z0iDQnKSM498mLhBldUYQrJZvaOqnKz+JHEwdbh6zUNju6Ypz90mwufHUOAwtyefzoPTl4UG9wXEqiYSJSgABPKWKez/3zlvHiivUcNXwAI0oL8ZSmPCdKv6I8yrKzqMjOojQnl+KcPNY2ttMUi7HvwP5oBMr3wXFM1UVrnKQQXZAbCtEeT9CeSJDtukkiBdDV2IjrumRlZdGWqYBkkAYhBCccdSF+QtJQ1wFS0dHmGcmTWcGuaashtu3PTPyDz41DNOrS2ZEgmiWZtHsV7728OkkYumlJtI9AIpOuWr51x9JM3a0fjfWdLF1UB/gmV11LcvMitDXHEL4Cbd9rW8C0MGTAcSRn/HwKq5c28NLfl4GQhFxBW7PJ/UkK3wmOIUU2wLH0ABCurfqk0tVT1Cn969nGIUpBr8ocBg4pIjcniqmcSnuOQOCadYVIto9F88JU9Mph4KAivIRPa2uCnXes4sIfTqJpw0xuu/ZELvnJXjQ11nX7XSUSCf547Vk88ccbuOaHh7J84Sdf+ve9LSI/v5D/+97NXP7zR6muzWLxZ3Xsv+9gNqybzyUX78/m2rU9PcQMvkkINCBbY8FM9pubm5PLJZdc8k93HQ6HGTJkCJMmTeJXv/oV48aN47bbbtsqh+V5HpdffjkFBQUMGDCA/v37U1BQwC9+8YtvpflFBl8eGQLyFaNkx+lEQy41HfHkc9r3jLWucIj7gr/OXclu973Mbe9/Ro4riTiSWw+YRMiRoHyEkCghWNvSxXFPvM2LKzby44nD+csR0+mVk0V7wmNzaxsbOmKsbW5jTUMzm2Mezy5fxx2zFjKlTxnnTR5FVX4u+dEISoboinnEcUl4NlXaV8zd3IAEJvUuRzoOTV1dVhtikH6xuNIEGm7oVuEwX5AdNbW4rksoFKKjo+Of3l3N4NsJ3/dpafKoqMqjd7986jcbkmrm3sG1IiFJOKStEgTVDZ+isiwaN7cDgl33H0j1ulZWLrYTaK1AizSLXNOK6GOqBI42DnQ771IFwEfvbzD70uB4PtGoS6zL6FCEdc4KBO5gAgc1gv2PHcmgkcXcevnbzHpzNTNfXUdLU1daFcP8SAhrGOGkWfaCba/ykmNM/d+64eHZ/VriZOsq5v+mNU2kpbkLgu11d8vCVlaEFBQX59DS1oVUmsK8EN89bAd+efbO7DqhjD/cfHbSSMLzPH530XHIpuX88sSdOWGXCu69+gwev+squrq6WDL/I/584zk8fP2Zyfdsb+jbZwiXXvAoJ51wJW+9s5GikiyGDc/j8l8cRU3Nmp4eXgbfFGxlAhLY6gbLP2u/+iJorYnFYlvlsM466yzuuecebrrpJubMmcOcOXO46aabuO+++zj77LO3yj4y+GYjQ0C+YrgjJlGan4OnFDWtXbQmNG0xRUfc45E5y9ntjy9x4ctzKM6O8PCRu3DhtNH8fLcdGFyUh49DQhmL3HdWV3PEo6+xsrGNX0wfy2HDqtjQ2kFzPEFHwiPbdembl0W/glz6F+SyqaWdG99fwMjSQm7YfRI4YeKewtcC5fkIN2RyPcA6BWne37CJ4SVF5IXDvLx8JQ8v+Ax8P3VT2t6ZVZ6H4zh0eR4bW1uTOhDtGTF7rKUF13FQShEOh2lvb//6T3wG2ywWL/+I4nJJKBRKCRR1cA8/QEqkre2E30zYjbYpHAnheQqtNdP2HwDAey+vTr6eLkbX2jeEREhLaUxmx8AhxZSWZ/Phe+uRSuFqB9e2WWXnSrpaE8mWJokN5ElWGwSuCz+/eU/qqtu5/MwZNDR0oLTA9zUqqe+w+T4iaKUyI0g/UiNJtzk/wgjPDdEQqcpI8l3KVjm2mPSLLR9/MemPRiSJdp/OuA/CMWRKafbZZSCdTetZucyIRz+d+Sq01/G9vYfhShg9sJTLT9yJ9lUzOf+YKTxx6wX00euoW7eYp++78Qv3tb1gx4n785tfvYaWfdm0uY3x48q47poTaG/PVG8z+N/RUza8l156Ke+88w6rV69m/vz5XHbZZbz55ptJi9yGhgbmzp2bbMlasmQJc+fOpbq6+j/a/iOPPMIDDzzAmWeeydixYxk7dixnnnkm999/P4888siXO0kZfCuREaF/xQhl5xIaMZlen86kKZ6gobWDfyxezwNzV7GhpYNBRblcu9dYdhvUG+ErWhOaA4vyaeyIE/N8uhKKhxau4oG5y6nMzebe/XZkbK9SI5IFkA7KOmxpAZ6C6s44F7z6IeU5UX69505EwxE866wlHJProX0Pacy0QMNn9Y1saG3jiEnjeHfdRu76eC4DCwrQSuGGQsRjCdsHD0JKtFK8vnoNvtb4nseq1laypUT5Pi1r11CJudOdn59Pc3Mzubm5PXD2M9jW0N7eyh8euII9Dh2IQNDVliAnO2Kk49pWHEzXVVL9oW0bVnenKEluXpjW5jj9BhfSb3Ah7728ilPO3dGu75r1hYPQfpKQqEAFojVawE479+Gj9zfYfZqQQ6kcCouzqN3URkV+GN+RdiS2hUoAWjD3/Y1c9aNX8H3NprWtNNd3UVwSpaG2nbJeuWBdrLQArAheCz/JDRTKkpOAZGyp/cA+Tgpj7Pu89DSQ1MtKI7VECIlQvq0ACZshYty3hID+fQtYt6aZ4rwI+Vkhwo6DIySFhfl0dbYC8PbT9zG4dz6e5xNyzXZyoi6n7DuCY3cdRDQSBq3ZeUQFNzz+FP2rerHjgd/7Xy6NHkU0GuWnP7mHO+86h+WrZ1NaEeWP957DT8+9v6eHlsH2DleaZWts50ugpqaGk08+mU2bNlFQUMDYsWN56aWX2HfffQF45pln+N73Up/Z7373uwD88pe/5Morr/y3249GowwYMOBzzw8YMOBbGYKawZdHpgLyNSA6Zmeau+I8/OlqDn74Ta57eyEF0RB3H7Yzb35vb06ZOJx+OVn0zstlcH422a5ESIeWWIKLX/+E++csZ++Blfzj2D0YV1GcvGustcb3FZ4WxLVDPKHp9HwufOUD2hM+v9pjMsVZkW5tVGiI2zBD17WaDil5ZdU6QlJSEAnz21mfoDSsa20jLhzi8QSedIgrm6ugFJs7Opm9cSOOEEQdh5eXLsNxjMA33tSE0Brf98nNzaWxsbEHznoG2xqUUvzm7v9jxLhsxowtQ/g+iZhPKCy3qH5gDKfQxtFJaFtBEFYHYtbNK47S1GBEw9P2H8An723k05mbePHRJZDWrqWDligNShg9k8QBqdlpal8213awZlUjwddhyFeEQ45xztY6Oe0XKdU4oBg/tQ9/m3Uqx/3fOISApoYO8gqy6GhP4PlBoGKqwqGFgy9BOaAcxxZTAvLxeaLR7YxojEuYBqEFQoFUEsdTuL4k5IdwtMBBI3VAPkwVSYggD8hkAzlhh8F9C9C+ZnNDJyvWtpDwFFHXp7XZ3P0cOHAwMz5Zz6crNqOVTWi3ZCkaDRk+40J2bhan7DuCZ558ZLtvtRRC8OMf3gY6l8peeXz00UesWvVpTw8rg+0dW7kF6z/Ffffdx+rVq4nFYtTW1vLqq68myQfAaaedhtb6c8t/Qj4AfvKTn3DNNdd0a+mKxWJcd911nHXWWV9qrBl8O5EhIF8D5LAJTP/zW1z/5nyGlOTx8FG78NLJ+3Dg4F4oEUZZwZbrOIQcSW44xKyN9Xz3yXeZW9PIlbuN5c6DppAXCaG0xvN8PKVJ4OApc6dY+8ai96YPFrCwronLp41jZHkJYFqjpGtaP15csY6753xmBqZNT3xHVxdvrdvAlD69aY977DdoINmuS9R1WN/UhHYcI0hPu9vqacXPd5mKrzXlOTlM7N3L+PVoTay5GZTC933y8vJobm7+ms94Btsi1q5bQX3davY7aDAuxpg21pEgJ+qkaT9SVMR0EqXansDqMWwAnxsKoYEHbv6YtpY4fQbk86PDnrDVB01KQ2Ksd4OU8aSmQsCOO1cC8NH7m1j8WS3p9r3RbId4u2cqfwocpZHWSctAkpvvcumte/Hgq8dRUp6NRlNSkUNdTaepcCBAuMkU9uB9qWpOcLSp9qx0q16hFdIK4Y1ZsYlnDLQfWmh7xgIxOltsF9LbsbQIesoEZWU59KnMp6p3DqvWNjG4qpDH/3wriz6dyRFn38AFv/kzL8yr4415683vQUhwhLEndoOWOMXgPsVEZYIFs9/+F7/97QNSSn7y41t4+63V7LHbAB68//KeHlIG2zvEViIf21iexpw5c3juueeoqqpin332YZ999qGqqopnn32WTz/9lCOPPDK5ZJDBFyHTgvU1IJKVzcXfP5nh1YsY36vI2uR6Jh3dS3eLUCR8xcWvfcLTS9YztDifP+87kWHF+fiej68Ax02+VycCDYeZuPx10Ur+sXQNJ44ezP6DqtImdRDzfG6aOYeXVq7noMH9SIgQXjyBpwWf1DbS6fnsWlXJlH59+WjjB4Qdh6v33J3mzs7UlFBrpOuiPI+y3Fw22spGdjjMTpWVNHkeSmtUIoEU5o53bm5uhoBkAEBLax0lRQU4wkFpRWfM45F7P+Xgo0cwalw5vra+UcJMstHCTpjT/GUBQ12MjW1+UZTdDhnIMw8tYPVScz2OHFdhVtO27RDHTv7NxF9hiiorFzUS60qQkxPi6ccX8eTfF/K3fxxrFB6+Jjc3TGeLR2FOCC3NZFvZhHS7A+wwGT+1kglT+6K1T25ehPraDpTSSBmQAxetE6Z62a1Q4JNsFyNolUpVb4I8kLraDsoq8vic9gMgrdrRDdq2tWELSABK4ShrD6wkwldkhV0G9S8iPzuM5yvuvOEcxk+cSP/RBzJxryNoX/mKPe3aOms5ZoN2qEJI9pvUm3/cexUjxr9MyLrlba8YOHAMY8eOJ9a1mVWrN7Ju7VL69hvW08PKYHuFjTnaKtvZhlBYWMhRRx3V7bm+ffv20Ggy2B6RISBfE378vdOov/8G6zhliYPvJ5POAWPl6Uh8pTlj4lB+MnEYITeELyTa9xDSTQnH09sd7J2R0aWFHDqsP2ftONI8L01Y4PKmVi5/azZrWtqSb03EEwjXRcc9qnKyOXbUMHYoKwOtWd7YxJCiQirzcijLihoBHN3nTb42OSAAg4oKzTCUshM189j3fXJycmhqatrKZzOD7RG+38HqlfX8+or3ae/opKGhk1eeW8qqZY2cc/kuDBtdZtfUX/AzvUXJ2Ns+fs8caja0cejJo7jr2aM5dY9HEAJyi0LJ9UWgqxCglY+DZMWSeu6/9SP+7+yJXPuLt/A8xXvvrOX7Z05EaQ1S4mpNbnaY+pomislOGuo+cd98li6o5ZKb9wQUQgSi9PSQQUFefpjW5hhFRbloPBoa2zj/lOc4/gcT2P+wwTgIAo1IygkrvTISBBX6vP3KGn54wjN85/jRnHHORAYOKUp9/jUI5ZnWNK1wfCPBl76mtrqTH/z4WS46fxd232WAJXWWzAmjBZNaItA4jqaiPJtepQMY2KeQux75mEuuf5jv7DqEE/cYQlNHjLq6BOWlWeTlRwDHZP84hlBNGFLOnKV1/O3Oyznp3Bu20hXTczjuu7/g+mtOYOLY3rz1+h856bSbenpIGWyv+C/ap/7pdrYh/OlPf+rpIWSwnWMb49TfXGQNH4eIZtF9Gp/WGqE1ibhHwtPcsPdOnLvTGEKhMCiFDkgHnycd9s0gYHxFCb+cNhYpBXEcumIeCQ2Vublcu8cUJDCkMD+lIfE8nJBLeU42J+0wiqyQQ3NHB7UdHQwpLko1hyQSSQeOoM/bSyTw7ON++QXJ8ShthO4m0R3y8vIyGpAMABi3w55ce8Xj3HTNizxw90c8+9hC1q7ZwC8uuo0XHluO5/kpnQVpZk7Jy97E6ykEQjgs+qSGv/7uE7yET3HvLO56/kh23nsASbos7IRbB7a1IFAkEh6P/2Uhn8yq5p6HD6OkNButYaed+9qdGscqaVPIHaWRSuMql/VL6/nbH+ayZmmj3U9QeXCSg1ZocouiNDcl8IWHFpJIVoimhi4u+8nLrF/bbI/OI71NrFvblNV7oKD/oEIOO3oET/5lAQdN/TNLFzYgNTjaxbFNWcLmmEhbHQJBTpZLTXUbZ/7kOTZVtxAQD5M34iM8jGWx1dUIjB5scN8CDttzOE/c/B1uuWhPxo7uRZ3n0W9wIRtbusBxwJHWsQtbsYKT9h7Kirlv8dKfrt3u9SB9+w2js81n2MAi5s75sKeHk8H2DFekhOj/07JtEZAMMvhfkSEgXxNEKEzWDlNs37SB1ppEwqcrATHPwfMECpP9YUILfXDTilTp3z++T3VnjDs//ow7P1qI72u6lCSOi6eEqZRojXRCOELwlwVLEUJw0ZQJ9MnL/dwmA6H68sYmAIYUFdq7u0l+A8JoTRACpTVx3/R1RB3Twy+1RkuJ9n1iDQ2AISCtra1b81RmsJ1CSkmfyv7k5eUhpUn2rqioYI/pBzOw/w58+PY6o3RI59nJ/wVC7ZQWZNoBA+hsT7BqcSMtDXEGDi/l0t/taWiK1ghtJsjSEgUlAByGjSwhvyDCrPfWU1FRwH1/OYKcnBA7TemN0LaCh0D4CgeJVMJ2H3mc9pOJOK7kwVtnYyosru3EStd3aNyQi8JPajUi2Q43P3AIXsLngtNfxPN08jh08kjTsj40SO0igUGDivj17/fjzbmn83/nTKa4OEyqQhJUebaAUOTnR/jTPYfR1NzFb26bmXxJK430pf0qCt5rdSXahCHuOLKM3qXZrG9opyEWZ+DgUtywQzTbpTPmGXLnKJA2vd2BSCTE2YeNYeEHM/jNz46lZsOa/+Yy2WaQm5NFUW6ETRsb8H3/378hgwy+CHIrLj2MAw44gJkzZ/7b9VpbW7nxxhu58847v4ZRZbC9Yhu4pL89yB4/De0Z3UXMl8SUi3HHtRN7bf+gp0OlzcY0JJTilZWbOPPFDzjokZe5d+4yBhQWmN503zfVkjSSg1YsqW/i5ZXrOGzYQAYW5XP0yCGpKYu9U6kTCaQQzKutQwrBwNJSOuIJfA3KcfGVuZssLNnQWqNtVSQUNj3fUspkwnNXoyEgubm5GQKSwb/FAbufwLJF9YAioA2wZaSFCQfEvjJlrwG4Ickn76yjtaULjSYUctOuf5P3EZgnCGtJG3JC7Di1Dx++tx7wGbVDGX99/GhKy7JtmxJgm6RcR5JIeEhLZnpV5nLId0fyzF8/o3FDJ9j2J2GJA4FNL6Qshe0xDBxWyC9+uxdzZm3idze9Z8IJbf2ie7uZsm5f3UMKK6vy+NkvdqO8V+7nUz5spUhrPxk5InzB2JG9eebR4/j+KRMB11Q+lKkEGS2HsSNGGaF+QPJycsIM6lfIkP5FDKgqTH5flBfnsK6uNdmqhgyO2VRFigqyOe87Y5nSR3PTOd/hod9eRPXGdV/mUthmIAS4rkN+Tpja2g09PZwMtlf0kAvWV4FjjjmGY489lpEjR3LxxRfz2GOP8d577/Hxxx/z6quvcvvtt3PsscfSu3dv5syZw2GHHdbTQ85gG0aGgHyNiA4bSzycTyKuUJ4lC1p3b6fyPKSbJuK0Og5PS2KexvcF5Xm5aK0oyYoiBUzuVYxwUr9KsQWJ+d3HC8gLhzht7AizSa1wQi5Kg+crfOHg4ZBQsLCugYGFBYSQhvs4RnciHKfbNgWQsHcFg1dcIfBsKnJHbS1SSnJycjIEJIN/i5LiAcTa06uDKlUZSCMgqa8sQW5+iAnT+vDuS6txHYeEF2RpBO+16R9apdVOjM5iyq592LC+lbVrmpA4TJzcG1MrsW5P+AggKydEZ0cCtI/0wfUlZ569I4m4z8N3zbaOWD7dyjYa0IpwxKWrI2aqGSbKkKNOGsX+RwzlD7/5iIVzNwGa+rrOtDPR/XMWbCtoxxLKQyrXZJsocJTRe7i+Q0iFcH2BoxwcLZBa4CjFLjv2Y+yQUtyEh+s51qI35TwmAm15YAksnLRzJTBFKVvtjDj0Lstj5cZmEyIUlKiUn/y3cATTR1dy9UlTKGlfwm9/eiR3XXgMKxbP/4+vh20BAkkIQUlRFutWftrTw8lge8U3iIB8//vfZ+XKlVx++eUsXryYM888k+nTpzN58mT2339/7r33Xvr168fHH3/Mo48+mhGlZ/AvkSEgXyOE45I7bgrC3cIlRgiauuLM2lhn7ixqhVKQwKWry6fLh4SvUb5COC7zq+t4f8Nm+hfkMry4gIJIGO371nGHZCI5wKur1rOwrpFTdxhOTsjFExIPh3jcw3fD+AiU76OUIq5hdVMTw0pKPz/2QDdihfMIYaoigLQZAVIIfEtA2jZuxJGSSCRCe3v7dt8TnsFXi7zcQto7OjAkwLF6DVMZkAA6UGYoUkIRya4HDGLdiiYa69tpa+5KaT6EYyfNtkXIBvEpodAKpuzSD4BZ724g1fpkJ+RBZIZ2yc1yaG/zrIWvmaAPHVbCXgcN5tH75tPRErPrgqMUrpK4WiI15OdFaGuN22qG+VwIIfnlzXuRXxjhvNNe4MWnl/LKs8uSBAPlI5VrNSAiudegymK0LH7yuaBaYnQfgRWv3VcaWUv9Z8X82kf6CqkkQvupqpGQoO12dHAiTBuoOTsuuVku2WGHlra4qdD6liAJx1r1OhB2yI46HDipP9edOJnRpYoHrv0Rvz7rcD595/nt4vsg1hkjJxJiSP8iFs55vqeHk8F2Cu2IrbZsCwiHw5xwwgn84x//oKGhgcbGRjZu3EhXVxfz58/nN7/5DcOHD+/pYWawHSBDQL5m5O24K9pL4AuHP89bwY9e+JA9H3iBqQ++yEPzVxLHpb3LJ4bES3jmD7VM3a18Y80mbvpgPlMqy/jNnpM5YIiZSBm9hxM8BKAl7vG7j+YzoCCPA4cOJuGD8pTJ9HAcVCIOWuOETGrpqqYmfK0ZXFiAlIH+4/MTBSHMNMbXZqLjSIF0XRwp8e36seZmM6XTmnA4TEdHx1d0RjP4JuDVtx+iuCwKBHqKtD+2otsPAjIBmmkH9Adg7syNdDR7GMJi9BTpE3+FCeeTwuRpjB5bSm5emPffW2+3qa2OycGxmSECn2g0QiyWsPsTyXF8/ycTaW2O8dT984j4EFISGfQyoRDCITvXpaMtTrI6YnlTSVk2v7n3QNavbeGGS99m/epmpHbSSI5n9xOQiSDVPTWG9DOi/+28pLvxhVACqdIrLY4hElqbKoY9Yyl5iCFyyfOpHcoLc6ht7EwLbBewpWWyK8DRhEKC6aN7c9V3J7DPsCgv3n89V/7gQN574RG8pMHGtoeurhh52WHwNH489gWvd20XRCqDHsY3NAckQEFBAb169dru7bcz+PqRISBfM7KHjsbJL8QRcMiQPrTGEjTHEgjg9PEj8eKe6XT/glnFu+tquPT1WQwrKeDGPSeTEw5x3KjBZt6gIZHwiOMQxyGWUDw0fxkNXTHOmTzOWGZqjbRfEiJdJ2JnEcsajFvV0OIipNP90lBpEwVt28aCdivXcVCJBG4oZNYTAi8eJxQO43leJgskg3+JZSs+5cVX/8rkXfri+56Vc6ek2cFUPPWJSAmCB44ooXf/fD54dQ1a+/h+oGMweoh0ByyzTZNI7jqSyVP78P67a+1cO9BxdA8IFMonHHKIdyo7ERcIXHbepQ87TKjgoXvm4PvQsLkNEYjSwVQytCAnGqG9uRNHS+tYpVmyoI4bL38bL6HYtL6VtataSLVxfZ5gJGf56e1YGqM/0aYdKyAVUikcz8HxJNLzkZ6D9JQNQrcGF1qTdO7SyphdpFkdi0DxGsytlU71aVmDDNeBrIhDQ0tH0L9lxpn82tAgXPNayIGQWWX8oFIuPmoCJ+9Sztzn7uayU/fm5UfvpqOj/T+7WL5GSOGg4op5i2rZec9TAOjoaOeDp+/hqXuu5fyjJnPvL07JkJAM/iW03HpLBhl8k5C5pL9mCOmQPX4aCzc1cdqz7zO7up7++Tns3r83QwutO9UWf9AE8P6GWi564yP65edw54HTyHIdPC2Mi5YSxEWIhBJGW2Idsp5YspLd+vZmh4q0lipbtdC+l2yrCrCkro7CSISSrKzPjSG4+xLkljhOqiqjfIWQ0mhFQiHQms7qahyticVi5OfnZwhIBv8Uf3nqKg44aiBDRhSxZmUzsU5lr7egcpBWQQAMCTBVECEEU/fpz8dvrycUlrS3xVFB6KAQVu9gNCHatmcpm8o3bff+bFjfyupVzZAMKrTzaaUQ2uglCguitDQHOg0JeAjhcvqPJ7JuTQsP3/UJt137Po4vcXyPkJKEtMBFUF4RpaE2ZsiQbQkbMaaUJ944nouu3o28gghrVjWmSIUlGAIHoY34XWqN1MJa7EJAZSQSqX2rMREIlCEkKCvWT7VrOQocT+H4rg0ltLoNHdj4knaOtwg7FIEZgJ9yBRCSyrJcaho60IhklcScIitOF9ZUw3HM4hqhOhIGVxby40PH89MDB1E9+wkuP3k3nrj7WhrrN//3F9JWRsgRVNe043sQ8uH+y47nshOnMfe1v1Iz/1UuPXYiy5cspH7ztjPmDLZBCLH1lgwy+AYhQ0B6APFRkznxmbfY0NrBjXtMYp8Blfxg/IjPrRfMu95fu4kLXptFZW42tx0wnZB26NIOcV+jpINWJn0cUlqNu2bPA+AH40Z1q3aItI271uJXCEHCV8yr3czo8lJEKIzn+SAlOmjJ0BphLXaFY0LIXLvduPKTX47a99E2DT0sJV1dXZkKSAb/Ek2N7fTpm0c026XPgHzqatrsxS9IF2ULgvmvTtreCi2Yum9/ujo9li+qp7UxQXoOiA582URALqwGAskuu1UB8O7bawDSLHFduyeTrZGbG6G1NW4IjDIEYe6H61n0aS3DRpZw9y0fEXIkEpXWNmUqCY4jyS9waayP2aqFRiiIhkL83zk78sYnp7PHPgPssbmpY0yz8CU5JmUrLKYdK0kbBCS/yoMP+BZzlfTbCcIWQNJ1NgirO0ki0M+Y9ixT9XTMepZgCCFxhTbb67ZTe45FMCyd2rGDbc0yFZPepbmcsu9ofvHdSbDhA679vwN44JensXHtCnoSSin8hE9hTpjyLJfHfncJA3I7ufbkKZx54BjOPGA0fUpz6Vuex6pPXunRsWawbSNTAckggy9GJgm9B9BvzFj22GEUPxzci8qcKC3xBAWRMDhuMiVda43SmnfX13HJ64Z83LzvdPIcxySYe6k0dem6ydwP4bq8s3Id766v5uQdhtM7NxvtJZCug/KM2FRr33Sqxz0S0sWPeyxsaKQj4bFDeQV+IpHaJqQeB1UQKXGkxLU6kZiXmri4QuALM01ypSSRSGTS0DP4l2hpaSE3P4IGQiEXZSe8hkyn52soky1oqyPCOlBN2WMAjiOY9eZ6qgYV0tLcSV5BFIlECY1jtRk6zSZXoRkxsoLSsmzeeWsNJ582jlT7kWen5Q5oH0dDYU6UzkaPvMIw4DJxcm9mfbCRZYvr0RoKi6N2nCI591baR+JQUpTNmhWNlBZkIWVArMzP4pIoP/vFNMxXcXcRebowPgWdVhhSZg1l2s2EBq3SxOvKN4RFm7YroR3Q5tiEDo7V9m+SQAQhhQEN0qq7wET7hoBYvUw8kSAcsv8WThqBSVWTkofRLdzF7idNhlKYG+bIaYM5aMe+vD1/I7dddBJ9e1dwxDk3UTVw2L+6fL4SLF4wi96l2aDh6L2HMaQg1zTyJdvSAK05YFJf/nD/LWTl5TJm2uFf+zgz2PaxtQTk24oIPYMMthYynLoHIKXk7ovOpbIgD8CQD0ArRdzTdGqX9pjmrTW1XPL6h1Tl5XDbAbtRHLZuNJ6HSA8oTGuXaovFuP3j+fTLz+WEMcOS+hDl+3hOiFjCI4HAc8J4CDzPQ2uYV7sZAYzt1ctu8p/3NWvfxxECx7puxX0/6boVkjKZXhBUZfLy8jIEJIMvhO/7dMU7kRFjDauFJjvboaMtEH47BAF5qZv7dhKufZSvyS8MM2ZyL2a+vIpbfv42DbWxpGNVMNE3b0mz5xWmG2ja7v147+21JmhOpNYRGHcoiYMDlJZk0VDXniQ9AsGZ50zm9j8eRDjiUFycZcaqjfZDagdXg9Q+joD8gizaWru2OPr0r9/gmNI0Htq0gRl9h4ejnKS2xNGOaatSrrHcVQKpzRal1kYXoiVCe0abojHPJdU0Mq3KlBpCknj4AWnxUy1awgEvjvA1vqdZW91KQV7UuGTpIFckrSojLJERwrwmRffWrCQsGZGaaMRhv4n9uPbEHRnbS3Dbz0/lr7dcQltry393gf0XqF63kgdv/imH7zGERMJHS4mIOOiwCELjk8c3pLKQHx00kr/+4VoevfUnKKX+zdYz+NZBbMVlG8Jpp53G22+/3dPDyGA7RoaA9BBKp0xHewm04xLzodVzaOr06fQhEU8wc90mLn/nIypzs/nt3lMpCLnd/2inE4S0L6Y/fLKI+s4Y503ZEe1BXAsS0uhD/IQhG8INoWyVI8Dc6hoGFxWRH7VORL6fJDkBGQlIhlYKJxQiFFRAfC/pnuNKSdwSj0Sn6ZvPy8ujwSajZ5BBOlpaWnBkGCHd5Lw7vzSLutoO+2+dzKBI12gE0+hYp8c5Rz5FV6dHV5fH3Pc3kl8cTuo9BA5aKyNEF4ENrULZSsTuew2guTnG3DnVYLM6zMcpaKeyWTeOS3Z2iPaWToQPjnKQvuaw74ziL08dS/9BhQTZISTfl7rFH426xLq8wCQLoQRCGRtcRzsIray2I/Wfmfj7CKGTY0lv0Qr0KKnKDXT7Mug2YUl73baSaWvHm8r90CktR7KtyxIVRbJ9TCnN6g2NVJbmUZgbtpUPnfoprIVv8hclUmORMuXo40j709r3ok1rlqNxHZg+pi9XHTsWt/oTrv7e3nz81gv/ySX1P2HT6iXc8vMTOWLKQCYMKUd5CulKPBczXkeaFrLgmHzNoNJ8LjtqIks/m8uiT974yseYwfaFb2oLVmtrK/vttx9Dhw7l+uuvZ8OGTFhnBl8O29gl/e1BzsChdBX1YXOrR4cnSFhygBPi1dXrueKdj6jKz+O3e+1CUTRiJgHi878urcHzFJ4WzKpu4Lllqzlk8ACGFeYbq12rDzFBgpa0WLKgPA8hoL6zk7XNzYytKAdgXm0tdR0dn7vhov3U3b30O30xpZP/DodCJDwPGQoRb2nBdRyys7Npafn67mBmsP2gubUON2xIgS/MZN8NuXaCZyfC9rpXWxAREGTnhrjyDwfQ1eGxfmUzI8eX09HspQmrg7YgS2e0Rmsj5FYopu85EIA3Xl1DIpGgpSUGOGnkx5AYqRTlxbk0bY7hIpC2OgKKnXbuze77DkodlE5VaNACoR2yopKuDlOBcEhO7U01ZwvtSFJD0e3rOf3TGOg9RLJaom3lJDi+L6qmEJwPFdxQtaOwbVtbdnsFehtTQtUIZchKQ3MHxflZ5GS5tkUrpdVp60jw3MzlaZUQ224V6D+C1HSUJRt2Iq81dS0xPlvbZGzHXQekIisS4phdB/Pjg0bx/B+v587zv8OSeR99Jc5TqxbP45aLTuToXfsxZWQvREIhPG2zYrt/985duZkDf/EMHTFT781yXHYbW8nbz/9hq48rg+0bWmy9ZVvCE088wYYNGzjrrLN47LHHGDBgAAceeCCPP/44CXsTMoMM/hUyBKQHUb7TNHBD1jrUoDXWxV2fLGRESSE377UzJXk5ae/QNr0cuhLKBBQKF+OyKXhz9TrKs7M4feIYs7bv4wTe3F9UMdEa1w2xrrmFiOMwsVcvNjQ28fvZH7Okvt7khdjtIKWZ5IAhM0qxqL7e9pNbi1/XDSSyqESCltWriUSjRCKRjAg9gy+ExqOrs5Oaja1mQiwgFksgHZ3mHGVcsYKqRzCZ7urwWbOskeKyKL9/9juU9c5h5IRyhPDx/JQOQYvAB0uihQkNXLF0M62tHuUVWewwvoJXXlrBaSc+jVIChY8WQTXE6FAEklBIEE/EmTu31gxe2cm8AsfTSOXgKFPNSAnKzftdN8yi+TV0dMTo/rUbVElEcEIsISBpI9zW4jH7w3VIbbJGpK9wfCcZJOho17ZjhVLtWMpBxxWLl9QjfFO5CE5l2slPIx2aQHje0dHF3M9qzDiCMQrTIodWNLfFKMyJQty3JEcREL1352/i1F/NYGNdm6l26DQ9SLLaoVKpzo4R1yPh+kc/4jtXPmtoX3rVRDj0L8vjkmPHM7oMHrvlAi4/ZQ/+cfvFrFy8YKu0PX32/ovcedlpnLL3MCYNKkd4PsK3rmm+MmYcaR1rs5bU8O6iTd1aY6YOKWP5qlUsmv/B/zyeDL45UM7WW7Y1lJSU8NOf/pQ5c+Ywa9YshgwZwsknn0xlZSXnnXcey5Yt6+khZrANI0NAehCV03ZFJUwbVoDcSJTf7LULN+65M3lh00riK4jj0tbl06kECeHg+xpkSnyOEJy941h+u9c0srrpQ8wf59kbNiFtArvo1sqlGFdRwR8OPZjirCxumTWLjkSCxfUNpgfcpp6jUiRD+6Yvetb6DWgg5qe759jNak179SbCoRDhcDhDQDL4QgzsN5LjjzyHv92ziNbWLsDBDUlCYZfVyxppaQp0E8F0PmUZe9YRT3DB8c8B0GdAMXc+8x0m7daX/KIozfUx27olECLI+DBtRzPfXM/+kx7ktVeWc/LRT5CI+zQ3d7FsSQOFRWE72U6vRpggQ43m5xe+xg9/8Awo0zAV0uBqkbTBNYwkaI0Kxg1zZm/gR6c8x1/+NI9UroewmhGZ0o5gghId7Vi5geDcnzzPaSc+TX19OySzRhRGH2Mtrbq1YwH4/OHRT5l4+P2sWt+MwKSzGxJjqxraN2RJ2JmNr8H3eWzGMiaf+BDvzd1AoAkRvg+eR0NDB1luCJlejRKpmdEBU/qx/NHvU1mWY85fUOoJzkXQlhW0Yimbwi4dLvnuJO6/cF+EsO1cTiipDSEMbthh93FVXHbUGM7YawBq0zweuf5HXHjkJH5/8UnM+OudbFix8Etfg5+89gT3/eYyfnTQaEb3K04SM+EpvC7PGnfJFNnQ8H8Hj2HdQ98jOysMQiAEhLTkhO+O4Uc/vJDf3/fklx5HBt9MaLGVWrC2sQpIOjZt2sSMGTOYMWMGjuNw0EEHsXDhQkaNGsUtt9zS08PLYBtFhoD0IPL7DSC3qi9KpaoTKpGgb0E+jhOmXbs0dyo6tUMs7hmzGmFyOIBubQhGEykozc7q1qyhteaRRUu49r1ZoJVp2Yon8AXEpUtn3Me3hOSujz8m4fsURqMsrqtDhkJmXwERSdvnJ5s2UdfZSbbr8szSZbTF48nXwqEQcd8n1tREyHEQQhCLxbbp1OMMeg6HHfB99tvzaO689n3+9oe5zJtVQ3llDgVFUeuEFbgzpWoSaJi0W1+WLaijvqYdtM+IMb2Yvt9A8goidLQHydUiaa9rNNYO46ZUEI44zHpvPbfcfRCJhM/6dS2MHFWG3bRd11RDlJDGeUsIDjlsGGvXNPPp3E0krWrRCG3JigZhtRJCSaPz0A4TJ1YwakwZ9981h0Qi1RYWtF4l7XCT9rup6sN5F0ylpSXGr659J/k+e2jdkWzHMnfudxxTAcBHn9qxJluxhBWl240oH3SKRDz1+lL6VuSxy5je4PsIX4GWCK1pao1RWZpLUicisFUO+w/hUJQbSg0oaLeStvSU3oIVHIMQoH3KCrPYZUyVISSOC9ozLVquY9qyhDJmYY6gX+9CDp8ygEu+swNXHDOeKWVdNMx5mjsvOZWrTt+XZ++8hBWfzfu31ZF3X3qcv919PecdMY5BfQpTlRd7bnoX55CfFUq2iRF8V2sozI10P/c5LuMKCzn8piP586wHjLFBBt96fFNbsBKJBE888QSHHHII/fv357HHHuO8885j06ZNPPjgg8yYMYOHHnqIq6++uqeHmsE2igwB6WH0mbabqSJ40E6IJs+lMQadHngJHxwHP83mNp2sQFpnVXpIkX3ckfC47t1ZPLJoKb7WtHYm6MIhhoOnBF7CBAdqX9EVT/CjKVMoz8kmJxSiMi+XxvaOtE12//ZbXFfP3gMG0OF5HDd6NAvSwrgiUhL3fbqamowtr++Tl5eX0YFk8E9x5IHncs9N73LQrhfw8dub+fSDahJxTShk7V2Tf4VTE8ope/QF4MPX1ydbnUAjhGOtaY2oWmpLEuw62dlRdp7el7deXUVxSRYPP3E0lX3yGDmmFC22IARbVEMOO2I4jiN4/PFFZh1fIz0Hx5eEPE3Id3CVwEHiEFgJK4QQnHX+VKo3tvLU35eYA+j2kUq5dXXXbnjssENvTjltLH99eAFzZ9da8bqT1G4YpyxlKykBuXAZP7yccMjhrVlr7eYNyRDBTEYLWwnBto2BEC7X/XhX3v7DcUghk6GFAekz9siWSEhrwRuMPyATgduVtEnr0kn9O2i5Sr7Hnl8nTZy+JdL1JMKGGqIgJCEkyMvPYsLwco7bdQjXnrQTp0zrhbfxU/5244+48JjJPP77q1i3YsnnyMjLf7uHlx68kQuOHG9J1RZQmqLsMBUF2UlSiaeT58wcgk79Htt9ZNxjXNVySrKaPvedmcG3E99UEXrv3r0544wz6N+/P7NmzWL27Nn88Ic/JC8vL7nO/vvvT2FhYc8NMoNtGpkckB5G712mM+svjyCFMCwEkK6DVr69MegjQyHwjKhLA6ubWnli6XJ+uONYchzjYKM9DyElnqfRviLuax5dvIKWWJxeOTlUt7eTEIKQvStndBx+UlieHQrhC8GKxiam9+vHyTuMocva/WrPSzlhCdP0ceKY0byzeg2vASPKSumdnZ08Jldr2n2fRHs7Ugq6WlvJjkTYXFNDcXHx13VqM9jOkJWVxdRJ+9O7YgDX3no63/neMGRJxN5bd6wo3Nxtl2jGTqkktyDCezNWctB3h9tpstEdZGeH6OpQ5GanT3hNZUHhs8f+A3n71dUsXlzHqJHlPPTEUdRsaEtb1wE8K0PHFAq0T0lJLlN36ctTTyzml1fuTVhqJMoaRVnyonWyESp5O13DAQcPYuCgQn5/ywccc9xIHBnCZI6kkxzHOF9Zu19rtcTFF0/n6ScXc+WVb/DC0ycmxxm0YAnhJMmZeewRjYZ56NeHMKR/oRFRq6BVy7dv12niamnNKTzGDC43LVfB8K1zVlfMIxJKb+/0U6QjeQzBmHVKm64hWS0K7pgEJgNJrY4lNMrDBprYyoh9nPw9pKonQgobWyLM95NjzseA3kUMqMjnCASNbZ28+9ks/njF89S3xhGOi/ISRKMRCqKSC4+aQH52uDsZDLQefrBPSwgDrd7ndDSaprYY6xvbqeqTz6KP13Dknvsi5TY2Y8ygR7C1qhfbWgXklltu4ZhjjiEajf7TdYqKili1atXXOKoMtidkviF7GHmVleT178+yplR1QOtUAwakqh4LN9dz9Tsf8OMZb7JgcwNZ0kFhbHZjuMQ8je8YfYgTCnH8qOG0JRJ4SjGgoICuROJzNxi18pN2vGubm4n7PkNKipFCkB0I2NPXTxtkMBlp74ohHNsaJgThUAhfKbTn8eF11zH75t9S//bb1KxZs7VOWwbfYAzoO5xxYyfx8Xsb7PUm0Xik2pMMQq7Dznv1Y+Yra1B+MElNOWl5iUS31ivwrR2vZK8DjGvVay+vBDRDhhWz6x79k9vWeKYaInRyshxUUA4/YjgNDZ28/tqyVFUBCFLSpQInAa7nEk5oQp4k5DuEpeQnP92ZVSub+Ptf5yO6kQ/AWjikyEdyyxQWRvnNr/djn30Gpk7UF01IBMk79Forjth3GGOGlduJvF3SEwCDqkuaBZbAkgOljOOFMm2Ynq8Juf9MCRsEGGLOmXSs3sNNey3QyJAiLkFpJRlkGGhKLIGRIiVYx7RqpfhkEIKoDRET2JwRkdxHUX4Wh04ZyJUn7sQtZ+zCLafvxO1n7spVx0/g0mMnGvLxzw4HrC4GQz403clHAA21zZ2MrCqitqGDVXPrOXDy6f/kPGXwbYNy9FZbtiW88cYbX+h21d7ezumnZ67/DP49MgRkG8DyPlXMWL4ieXNQ+75tVTAQQrC6qYU3165nTVMzGhhcXERMhOjywUt4xrHKSelDBPD+ho2saW7huNEjuHDnyTiA80VC9GAcDY0ADCksTGk+PC8pPEeI1PalQ8QSly7lm0qN64LWaKWSGSKxlhZIJAgLqF2/fmufugy+odh751NZu6IFmWYfbaog3cXhex46mMa6TubO3Ej615nveziOi05rvRKBlkQoqvoXMmJMKa+8sBxfKJQQyQhCRNAKlF45MXfwNXDAwUPIz4/wt0cXJfUlIHG0zQfRwsQnah+0RKCNQF1IjjxmOFV987nv7rls3NjCnE+qUwdt3a9UeguWrxHKRSjNoYcM59yzdzGfL2UDCn2B9I0rndGc2JYvG8WYTM7TGrStkgSVEq1tVcQ+l+QDJohQaJudYs+HlNDSHqeuqZOOrkTaebKEJaiWpEQUJMMOhbRLGoHR9nsu0IYkDzpd4B6obwUJX7GpvoN1da2sqG5h8bo6FqxrZM7Kemat2Mx7i6t5c956Xv1kDS9+vJZX565j7orNrKltYU1tC6uqW3h/cTXPzVrNuws38e6iamYtqWXeqjqWrWtkfW0r9c3m2JTSqSElScgWF6mvkpoQKQRKa/oW59K/MIfn/3TJv77AM/jWQImtt2xLePDBB+m0WV/p6Ozs5M9//nMPjCiD7Q2ZFqxtAEcdcwztL3YP2fKVxtHG18aP+5TlFRAKRajt6KRXbg5DCgtNjoeTatcSQtoWFfO389GFS+idk8OeA/oZ1yxITj6CDBAzBzHvWVpXR34kTEVubrL1S3keypIQ5QUtYuZxxJKZzoSX3GaqbSLVsuVKSUipDAHJ4D/G4AGjiXUIXBeChiZtE8jNlWWu490PHIjrSl59agWTplcBAiEkygeZvGNo2o58fDsdd1D47H3gEO789Qdsrm6nvFeOmedqF9N6FWRxmP0iHJQw7y8syWWvfQby/LNLaWjspKwwD/NJNe81Yw3+r9DaPvY1EcflnHOmcNGFr3Dzrz4gHJLsOH6/pEsXOmS3ldKtCJ26qbBlhUQkqyapSooQVsDdTcwuEUm3LJLfA8nQQCT4CTPZ37JMaolFdjREVXku8USCxtY46+s6KC3MIuIIWjoStHXFCTmSkoJs8nJCyWNILkJ37yNJVj2wWoq0fydbv3zWVLfw3me1fLxsMwV52YSz8wlJTUgKQjlFhIQi5IZw83oRUg2EygYTkoqOtmZW1G6mad4aCOcQUjEqBo+luG8uMRGhqXYFnQ2ddCUUnS2b6YzF6ezsojMWoyvhIYWgOC/CCXsOY1hVUWrcGlMdUprX5q6nqiSH/r3yWVvXxuDKQo7bZTA3PTmHj155kMn7nvqF13cG3x5801qwWlpabN6QprW1tVsLlu/7vPDCC5SXl/fgCDPYXpAhINsABgwYwOTJk2lcscJoOUIuiYSHJ4yYUyufDzdt4rmly9izfz/G9aqgJGJaB9KFjspPEYA3V65mQ1sbP508Ecd18f1Ekmwo+z6tdKp1CljW0MCQ4mIC1yuVSBgSkkh0JxcWEVsl6fBSZVjpOCjPw5ESTynCloCEHYeadeu+hrOZwTcBkUiE4pJcVi5uYvDIUgL3plSDvrkOcwuj7LJvf158/DN+duOuhEIhND6+r3BdCcJF66DVKaWZAMG+hwzizl9/wCsvruDE740FwMczuohAg5DmToUlKEJ4HHnUKJ5+cjFPP7WYk08YSyzmkZ+P3YeZSJsqREDGXSQen86rYe2aJkaNKuOZfyzh4EOG0d4WIzc3TKA7SYdIO9buhCJYIWih2rK3EpLOV9jHaVvt9lOnv0ebsSeJSdr7hUN2FLKjDoX5AqUF9S1dNMfi5OdF6VWWSyLhsb62HSE0udl2YiJTOhi0b//tEASimv0GBCrQjzi0t3fx1zeWsra2g+mHnsIvL/ouBYVpROArhud5LJ71Cn+67Rdcc/IU3CC53WpBtNL8/d0VFOVls0O/AnYd3ZuaxnbKi3M4auogHrrnNoZMPJCiksxk7FuNrSUg30b6VQoLC5OV0WHDhn3udSEEV111VQ+MLIPtDdvIJZ3BwN12x/c8CIXwbUUhaHla0djIvR9/wuCiQk4btwNT+lYxuMj8IVaeB0Huh9ZIxyHmeTy84DP65uexc98qOmIeMQWedPC0sEREJcmHDIWo6+igobOT4aWl3QeWRjgCrUggSA80IJ3x+OeOxxUSXymUb0LhYp5HfU3159bLIIN/hjOOv47n/7KMjvY4Wmg0CoW2aR42iULAYSeOonFzJ+/NWM0jv/8EoSWOI0kkNKYikWq9CqDRjBpfTmXfPF5+bjmm3UckXavM3Dy99Sr4z1RHpu7WhwEDC/nrX+fzk7NfoKPTkJr04MJ0YTl4IBzGjatg4MBCVq9uoqMjQTgkqaluw/dUsgXLSCU0QtnwT+0YdytfIX3reKUkUgmE7yGVNCnl1gUL3zPtUwqSAQLdJvnKtnhqIwLXGqF9hLSaL2X0I6ZdKk2knu5oJUBKQVlhhMryfHKzQwihCYdcCvPCxJM8KY08Bfa6kKp0gHW1wrYzGWeshas3c80jn1I2el9++ae32f+4H32t5APAdV3G7HIglZV9+cMLC5m9tJZYrHvPe07E5ac3PgyF/blvxmes2thMS2uMnYf1YmzfQh649vtfSWp7BtsPfKm32rIt4I033uC1115Da83jjz/O66+/nlzeffdd1q5dy2WXXdbTw8xgO0CGgGwj6Dd1arLaEEBIyaa2Nm7+4ENyw2HO3WkyYccB3ycUSXnQm3IoJBR0xTyeXr6G+s4uThgzmoRv2rmk66J8/wutIVUiwZKGBgCGl5Qk9w22Vcs+1lvYWIYDnYdtBUuu77q4aOJas6apiRfXrKUpJ5epe++9tU5XBt8CjBmxE7vvcjh/uWM2ShmBgratOUE7Qme7x8TpVRQUR7jnhlm8/ORSQBHJcoh3mQqASmtDUgEhECCFZL9DhvD+2+tobuqCJLnRlugYIbr5KdDSRQvo7Ipx628/pFevXOJxn+eeW0pJSYQU2TBjTCFoMzK2uSefMIHXXjmZCeN74SUUlWW5bN7YaYMCHZvdZ4INzU9jLyxx7HPmp9GWBOTKPGcm8Fb4LWTaeoGmxWwdP3WTg8A9TCXMTxnoR9L1GDolyA9E48lAxcDhymwv7Dp0dW2Z+bNlBSZFNtAqWQ2JJTR/eXUpj769hjMuuYXvfP/nhL7ADOPrxBnXP8Kkg05n1jqfyx+axbrNrYa0Idhzh0pevu9KTrriPg7//sU88d5KPl5WC8Cx04dSs2kjb/3tlh4dfwY9CyW33rItYPfdd2ePPfZg1apVHHHEEey+++7JZerUqVRWVvb0EDPYTrCNXNIZZBcXUzZ8RDdxeGNnJ79+/wN8rblg5ymU5Bqveq1Ne4CHIC5d2mM+nTgkhEOL5/PskqWMKi1lXO/eyW0Fd+G0UsbWl+7tW0vrGwg7Dv2tZ3c62dgyhFArBVLi2n8nlDY6kVDIVG08DzcUwvd9tNKMmziBP73+Oieed/7WPm0ZfMNx/OHnU5TXj0fvnkc85llpdcpNqbMjzs+Of5aWxhgLZleTkxsGBNGsCLHOmE0WtxPs5ATctFMpNPsdPgTPU8x4cRlaSLTUKCnRNpNCB61XCAJtRlZWiJNPG0ttbTvLljZQWBjFCbko6aCEIS2BXXB6l2sw1QefwYNKeP7Z4znu2FHk5mbj+R5dsZSLV4rI/Juv6OAjnCZc1zoIKt3SLzb4qZNv1loTT3RfT2ArHVv6zUo3rXJhTC9SPMuGDaLIyXJp6egiFo8nB9jRlSCeSJj3C5lqG9OYyocQrK1p5dqHP4Dycfzi7lcYssOUf33sXxOysrLY+ZBT+clvnuDkH1/G756bz9rNrYBmv/F9WbJ4Mas++5RJ+x3DaedfwzMfrmLeqjryssKcss8I/vbwn2ioq+3pw8igh6CF3mpLT2PevFS4Z3NzM/Pnz2fevHlfuGSQwb9DhoBsQxiw665JAtISi/Hr92bS3NXF+VN2oio/H8/zUdJMdBK+Ju7rZJig8owT1csrVtKWSHD0yOFf6HQFKXKR3hqwpL6OIUVFhII2K6sLCaoyJjck5W6FUsmLRwCeEEYzYsmKA3hKkRcJU7Nx09Y9URl8a+A4Dr889y/0L5vCn2//hK7ORNK5FaC4LJt7Xjyaw04eDUBOXgjQhCOQiEEQThhM0LWtgYBEC5iwcxVlFdm8+I/ldLvbj06XT9v3ufjCJKP37lvA0y99l9E7lFNamm2cnER3MbhBIAZPHpH9KXBdya7T+gE+vXvlUr2p2e5MgPYQ2kz4hZYmTFH7CG3ye4Qvkb7J0TDuV0bgLXQg07f5QIELFqaGkjwqa2G7akMT85fXUtfUZkMYgzV8tHRI5nWA1W/IdCZlXpOpc4Z0EI5kQGU+Gxs7WbWpieXrm6hvjrGmuoXW9jQSggJPgZbMXLCB3z23lKPP+AUn/fT6f5kt0JMYu9dRnHLBr7nj+QWs2dxGOORw+JQBPPbbn6G1Zsyuh3Ds987hjy8vYt7qOkb2K2b0oBIWvPloTw89gx7CN8kFa/z48dTV1SUfT5gwgfHjx39umTBhQg+PNIPtARkCsg2h39SpIATNXV386r2ZbGxt5azJkxheXp6sLviesdwN9BhgWqiQksbOLp5ZspRxFRUMLylBJRI4loR8UetVYK3bEouxsbWN4aWlyRYw4bpgSUW6VkR7nnWsEck5iBSCRDK4zDzrAFpK8sJhGpubv7JzlsE3H1JKzjzpGoYMGMvzjy5O0yWZO+ihiMtV9xzA+TfsRk5BxDhYCYHSQRUiqIFIO3cO7u4LHAf2P2IY776+mqamLlrb4iihUUKipEY5EpXMlvAg2fKkKS7K4U8PH8ZhRwxPjlVZghNQGJNQodDCsY+DbQRjMzbD4XCYcEjS0ZFIa5ky6wq7NWGrNwI37blgPGnP2cwT04JlCZjAkCRpdR3aRwtJv975FBdE2dwUY+naBpo70/JHtKYrnmBTfTtrqltobo/ZX4hj9qQDRU7qu+XTZdWsq20lGnEZ2DuPqop8BvYppG9FLoP7FLGhrs1ktqSZCrw5dy2vzK3lwl//lfG7HbbVrpuvCjtM3YdTz7mCO19YwIa6NnYaVoHX2cKs5/8CwLTDv8+Z517K/TMW8/DrS1jd3kFW3yE9POoMegrJewr/69LTBwKsWrWKsrKy5OOVK1eyatWqzy0rV67s4ZFmsD0g44K1DSFaUEDBiBFcdOttbO7o4NwpUxjXqwLt+ylbXEsQVFpKOQBS8rdFn5FQipPGjkluUzgmUCyw0BVSJolH8Piz+noARpSYlPLAZjcgHkH6eVAVCdYJSI0jjEd/txwS+56w46B8n66urm32rmYG2z6EEPzwu7fx8+uP4dMPqhk/tTdoja+0ucZRnHLuTjTXtwPKTMIlaC0QQlm7Ws+qGoLJv7kDc+B3hvPwH+by978sZO3KJq6+ZV9SjkxWkK5NdUAl7W/BEz7lvQv5zrEjzTRcSJtp4Vhhd0BFDHHQWiMDcpAkIal08vLyPDZsbCanfyHpTl/JHQYI2q0w7VamIuSb+wKYCqew6/m+wnFk9/emuWC5rsPAqkI21LbR0RGjpqGDgqp8tNYs39CE1JryohxKC8OsrW7FDblkRSRdcUVze4J4PEF2VpissEQKOOvXr9PWmeDv1x+GFJq8rBDlxblgc+JdRyCdECjf2odL3pq3iVN//gcqKvv919fH140xu3+Hk5wc7rj5Yi44Yhwn7TGU393zG7xQLtP2P4Kxe32X6yYfxMyn7mRqFkza6cCeHnIGPQRParytICDfGtv4X9G/f/8vfJxBBv8NMgRkG8OIPfZg/N/+zujSEnYoL+vmyZ9ejQBId6hCa/Ye2J+BhQVU5uWhfQWORCVSAnHt+2ZyIiVaKUMuHIfBhYWcNHYHhhT9E5cZO4YgYFB7HlopIo7DmZN2pF9uHgn0F64DkC1gw9q1DP4Cy74MMvhPEQqF+NmZt3PZjUfTd1ARH729hgdu/Zj7ZhxLVq7JwygoiYI2GoxQ2KErFicajeAJz3AD4bBqyWZ+e/k7/OSSqagEvPrcMoaOLOGB33/C7vsOQKHs9D/IsnHwpWmvuu/O2az4rI4bf7c/jgbhKFQyXdxP5nIYBDkYgnXrWvjJWS/w84umscsufZPrmE+WAhxCIR/XcejsVGRlBe9X3H7nLObNr+VPdxyStPYVVpFvROYuIrAa1iSfW1/dyJFnP8XlP9qFw/YcYnM2PKyFFWhl2jCFoE9FLug8tDJE5q4nP+WXd8/kvl/sz+C+JaB9+lcWsKa6Da0VkXCI/ByX4vw8Oro8mtu6AMFPjh5HdlaEIVWFKOWzvraVts4YuVkRcIyRQEdHF5saOknEE4Qdl7iOMmDo6K/lGtqaGLfrftSvnMs9Lz/OWQeN4fzDduDOu65i8/x3OfxnvyY3L5/9TskEEn7b8U3LAUnH0qVLefPNN6mtrU1qQwJcccUVPTSqDLYXZFqwtjH0nbIzJ04Yzw42yGfL1qkvaqUCk+8xuLSU/YYOxfcVWkrT6iCdZAUlSUSU6tbCVZqdzX4DBxK2zlqBNiTYl0okuhGhACHHYdd+/ehbkI8fj5uqiuOYLBPHMXeAXZe8cJi1ixf/j2cmgwygslc/TvrOxTz1wGdk5bgs+qSGX1/0RkAVIJmWLghHw8TjPloE7YGGHOQVZPPGCyt58ckljJ1UTml5Lss+q6d6Qxu9qvKt25YVWFtBuSEWivradh77y0JWr2wk0HPk5IZpaeuw1RVTZdHSQQmFkhKFT1FRFqtWNXHJZa8TT5hGMJFWiQgISVFxlObmDlKieY3nKZ5+ZjGvvbWGwN3KMA1l27K8NFeqwD7Xo7ggG6UUp1/2PMvWNFrthWPcrILtWCG51sb7SzguSMGoQWWUFGTxnYv+wZX3vgdC4DiSQX3yGVxVQlV5Dvm5EcIhQWFemMryAirLcjlu35EcOn2Q4TiOQ3lxHg2tMfM70RrPV6yva6NfeQ5DqoqZs7SGspKCf/q9tq1jz5MvZMyUvbjj+QVo3+f0PYfz2Udv8fJdV/b00DLYRvBNc8EKcO+99zJq1CiuuOIKHn/8cZ566qnk8vTTT/f08DLYDrCNXdIZRHJzqRyfEnAl3aUskuQgrRIirV5D+yZ3I6hwmPX+9a84XageTAFU4HaVXmEJqiCeh3RDZt+2hSuRtl5AdLTvEwmF6erqIi8UYs2yZV/yTGSQwRdjr+lHUlE0nA1rWvnumeN58v4FzHpjrbXO9ZMScDek8RIpIbmymoqSiiiTplXx8lPLUGh+cP6O/PKWvRACevfJhbQqhrZ1EIWHAk74wQSEEDx4z1wrSBfk5GfR1p4wOg+BneB7KaG1gNzcMNdesyeLF9dx5+/fJ9WaBen9VTnZETo6Et2e++H/7UhVnzwuveo1EglTxQyqMzrpfmUqF4azmLFnZzn87ZbDEUJwxFlPUNfYsUULFnZ84nPLbjtW8egNh3DsvsOZ8eEqox0RQT+7zRERNhNEWnG740AQ1me/V8Jhl1g8dS4H9y1hSFUhobCD68IBO/Vn1dqNtDQ3/Y9XRc9ACMFhZ/+K/KJSXpu/kbCU7DmqkpefeQI/rWU1g28v9FYSoG9rFZBrr72W6667jurqaubOncucOXOSyyeffNLTw8tgO0CGgGyD6L/rtG7/Vp5nNBcB6UjTcSCE0XdonQoKTLPaVYlEkmSkk42AXCQTzu1za5ubeXLRZ4bQJEmMdcByHLs/k5COUiypb+DZJUtwpERtcRczEg4R933yQyFWZyogGWwlCCE47ejL2Lyxne+eOY6yXjnc9LM38a20QwtjsStdl7jvWb1TYMdrJoUHHDmCdauaWTinDg0c/4Nx3HjPAfQZUISPZ9QZwk6shWuJBVQOyOWAw4by94cX0NzUCWiiWYKuTkX31quAvKRyRQ49bBj77juIW275gGXLG4zTlAgqNsFnUxEKhejqitnnBNlZIa68fC+WLm/g3gfnmY89EnBMNIcNG5Q6oBapz+GQfsX87eYjiCd8Vq5rxlROxBYVTW125Tho7Ru7TykpKsjiT1cdxDv3n5gU0tudp5n5Wopm05412rScSI12oKG1g4K8iHHdEg6uoxHSWAIgJTn5Wew0vJC3//6brXmJfK0QQrDv6ZewYE0jORGXwRX5xBM+LS0tPT20DLYBbBUB+jZIQBobGznmmGN6ehgZbMfIEJBtEFWTJuOEw6aNyTGCVuV5KdIRVBy0TrZVmX+mVSIseVjb3MxztvqQ3kqlt9CPCMehpaODW2d9xNzqarMPrY2eI62qIdPauAAeXbiQ11atRmmddMIK2inCQMz3KYhG2bBm9VY/Txl8e1Fe3puudkF2XoQfXDSZFYvqmfveOpJfaUIgXfB9o8HQtjJimpoEex8+CCkFzz3+mXGnEi6HHj+SSdMrk61XRsxuW5zAtmHB6WdNpKM9wV8emIePRgsHJRUJLfEFpvVKOKZSIJyUVa0jueGGfQiHHc466wUSHhjdSHrmhktZWZSa2o7kaMHh8EOHMG3nvtxw67vU1Xcw/7MajNNV4IKVVslMPjatWnvtPJDFz5/BTmN7g3Cse1UQLBiQJSNoxw2SziWOK/G1QoScJAHDCWx3fUAZ615hqx+B25awWxSSpo4ExYVZZttBkKEUKVcfDfvvNIB33nyZ92Y8tpWujq8fwyfuitKCxesbyXUcuhJ+jwcoZrBtwBNbb9mWcMwxxzBjxoyeHkYG2zEyBGQbRCgriz6TJ6fcr9Itd5WiW8ZwOpHYAm+vWcvV77zLxpZWwFZAAtKiVJLMCCnxEgnu+PgT6jo6WNvcTGcayfkiaN9n1qZNrGhspDUeZ/bGTXiBCM0SEAloKckPh9m8ue6/PR0ZZPA5VFevJhHrpKgkwk679eWMi3di2NhygpYnDThhSTyujDWukCg74dZSU9Yrl5336MtLTywxKeu2PSvVrmXqEh4KH4knBB4evpCMmdKbSbtU8eA9c4klfLT0iURdYrGYnXybFi6RdLoyInPQVPUp5FfX783cT2u47bYPWLmykTlzN6ZZ9/pEoy5SQGencbzTGCe666/ck7a2OJde9wY/ufglM15tHbWUb2+TmmwQtJu2Xx/HCfJAVJJgpCyCu2d7aAHaFeZ8SUzbluMS5MNrhCVVIvU+bYheqrJiCJxSGukEVROVbOUyf3lM1ai0MIcLjpvI83+5ldf+futXcbl85RBCsOsee/HBslo6YgkkAvlPcpgy+Hbhm5QDko4hQ4Zw+eWXc9ppp/Hb3/6W22+/vduSQQb/DplvyG0UA6fvlnysPI9OpXhh+XIufPU1WrtiydfSxZtBi1Xc9/nj7I/549y5xH3fuFPYlqpuLlqpjfD88uWEhKAqL4+w47B48+buq9htBy1bnlI89dliBhQU0L+ggDfWrCFhCUh6loj2PKKRCF5HB21tbVvvBGXwrcXMmc9y/fWnsddeA8gLuYwcUcqx3xubysOzgXvBHXwz2Q4CCHWSYBx47AiqN7Tx4cy1+MLBEz5aCNtqFNzNl6aSQVAtUEgcvn/ORGqr23n28aUAhKMhYgnPNiQZIbqPbyfrDtpa7yrhc+Sxozjk0GHcfMtMLrr4VT5bvNluWyZDBCsqcthU3UEgVu/oSFBb28Feu/dnzvxqPltWjyE5pq1MiMAdy7RzGVesoOUscOMKbiao1PEFEI6pTAS2w/jEPEE47CaJEa5r084tkUn+tNsMKjZBBQSIhh3aY8o4YDmOzUmx2xCGCKF9SotzuPC4cbz5/CO88cyDW+dC+Zqx8wnnsXBDE8LXhKWgYXNNTw8pg20A39QWrHvuuYfc3Fzeeust7rjjDm655Zbkcuutt/b08DLYDpAhINsoKidMwI1mUdPWxp/mfsrZL7zIowsXAVCSk51cT6UJ0YOsj6Z4nAm9e1EUjVKRk4NOb9tKQ1BZEUJw2LBhjK0oZ31rK+dMnkRTZ1fyNSC5bTCakLZ4nJ/vMhXHkURdlx9NnsTmllaCfBGEQHsejuviJRIU5+ezbtWqr+BMZfBNh1KKD2c9x/0PXMrPLtyXJ5/6FSeeMoLJ43olb8D3rsylobaTRCJweDLvdUOSzs44EIiotSEEEvY6YiiRqMPzjy5GJ1PMDXUIvhpN/STQlZjJsyd8djtwMAOHFnHP72bhC4EbgVhMoWWgFwlCD832kmRASJYsrmP8hF4MG1bCu++uZdmyRlITeFOxCIcjZGc5tLUZLUh2dohYzOezxfUsXd5AV8yjpTWW1nqVdiMieVNCBE988YkV2GpIsG/S2s8kyk8gQ04gRSGpH5HK6j0Cxy0LGUpr8VTUt8RACtbVNKOEQDuAK9CuwJeajXWtxHwfHRLgCApzw5x37I68+uS9vPviw//5BbKNoKKyL/16lfLhqs2M7F3AzL/e0dNDymAbwDe1AvJFAYSZIMIMvgwyBGQbhRuJ0G/qVMpychhXUU5pdjaOECbhPNBaOI6ZbGwhRC/PyqK2vZ3Gri6+M3w4Oa77xUL0LXy7P6uroyASYUx5OXsNGgiQ8va2E4vAZrc4L4+CaJS45xFxXQYVFJAfCYPWRgRvtSIh6eApRV4oxMqFC77Sc5bBNw/NzfVcf8NJvPDCr8kvWM7Jpw7m7J/uhAZKSrOQysyfQwh69c1j05om21JlUF6ZT111e8odS5jQP5DkFoTZ/eDBzHhqKV1dHgplNRzWQjeY3CerIqCFqaBIB047Z0eWL27gtReXE812LdHxttB0BBC2OuLTt38+Sik2bWpDa1i23AjhA8tfLVw0HiUlOWyu67TVE8kBBwzm/Te+zw+/vyOOI9hcH7OOV459n0ALgRI+Wgbidsesk9ZilYKtikjXvh60oBkCJxyB52lT9XAEWigjULdWvTi2YmIF5iZjxNx8WL+5g4TnU5AfISvqsGJ9i3GFEhItBas2NYMUbKhrZ3V1Owml0SFBYWEW5x27A8//9XY+eP2prXchfU3Y88gTeX/5ZnYbWsH7b7zaXWuXwbcSnhBbbckgg28SMkGE2zD6T9uF2S88z0PzF9DpeYwpL2NkWWlKHB6km6e1VWmtaU8keGbpMoYWFzO1qg/je1UgpGPsO9WWEyNT3fC15rPNdYzv1QtphecIkcpjTmvfEo6DSiSsy5AJJAwQVGKCP7yuI/F8nxwBqxYt+qpPWQbfIDQ0bOCKXx7DtF0r2WPPnUh4PhvWNRPrUPSpyCEqQrgxRUfEtP1EQw5FpVk01LZR2isHkLghha+CdirbhhhM2IFDTxrNjCeW8sZzKzngmGEEk3mhUxa6piphJ9e2lUshOPyEkdx944fc/qsP2POAQXgKtHBN6CGOrSyY94s0sXl2TpizfroLp5w6jjvvmM3rr65MBRIKkdxXKKTIywtRU9NJr4oshHDIzYFfXbEnJx6+A+EQduLvJ8cGmBT45HN+2jpp2GIuo0VQoUk+Q1lxLrWNbfQuzzVvCbRj2hAbLTVCKdA+qWm2or0zga8UVWWFgCIrksfi1Y0sW9eEKwVKQ2lBFvk5UeLxOPVNnVS3dNKnNAehoLggyrnHTeKmP96ErwTT9jniv7yCvn5MPuJ0/nTHrZTkRok6irVL5tN/xNieHlYGPYitVb3YFiog559/Ptdccw05OTmcf/75/3Ldm2+++WsaVQbbKzIVkG0YvceN557PFtMaj3PBzlM4ctQohhUXmxf/xZ2155Yuoy0e54SxOyCEIDsUMnkBkCIW6SRDSpY3NNDheexQUW5IhhWsbxla2A1CEPd9wlImqzH+FgQn5DgklKIgHGbNkiVb5bxk8O2AEFF8pdh9j0EgFFqb1PGQK0jENcpXSC1wvJSuOb8gSntL3FZBrB5CBK5v2jY6+bZNymHqvv0oLs/muUcXJe/+p34KNNJqOiS+UPjC2k0LTTga5cwLd2LRp7XMeG45Tz6yCKUShnx0Iy9Be5ePofOGZBQUZHPpZbvy6N+OTjtqW6m0TKC0JJuOzpjJ/9DBTQYYN6aMqj75yefQKkkCzHPm+LWQ1vVKWLcvkiJ9E5goUFiHKmkdroRECcjNC9ER92lpj5vtotCuRDkaJXwCy2MtzQ0IXyk21Xeysa6NKktaAFxXUlqchXQEWkqEFNS3drJuczNN7QmiWWF6l2abCoxjKiRlhVHOOWYHHrj9cj6e+cpWuJq+HkSjUSbuMJq3lmxicv8SZv4lI8b9tiOoTG6N5cvgrrvuYuzYseTn55Ofn8/UqVN58cUXU+PSmiuvvJLKykqysrLYY489WLhw4b/c5pw5c0hYjWd67seWy9y5c7/0ecrg24dMBWQbhhMKsct++3HgwgUMKS7+YgE5pq0qeL6+o5MZK1eyU2UlQ4qLky5ayvNASqSUpkJh08q176O1Zl7tZgQwrrISIJklohKJz7URBPtTiQQx3ydsyUdIOiR8n7AlNdr3kUrhKUVRTg7zli//ys9ZBt8cFBWVUFHehxUrGhgytJhwBAYOKaGjM0as1WPd+g4qBxcTQuNpM4EWWpGTG6arI0Z2bpjASldriRDaWtQGJMDHdV0OOGY4f7t7LnU1HXR2xOk7qNRUQZLT9KC64BJY8qIdNB5HnzKW+26dzW3XvU9zQxfnXTYVrXVSMqFRlgoEWR9GKC4wbVYIh5LybJQGhINQfrJCE5CQivIcNlV30r8yF3BAarQGgUQEehWhTP4h2GPTKacpISCoAmlbJxHBP7VppeoWOmptfbVmQFUhazY2Ut/SRSQkCbmSSNgl5LgkYnFQPo6QtHcmaG1PUF4cpXdZid1Qyh64oiSHirJcs+MgMVFI8A01MkHp1vY47ODHFP3Kc7jg+Mn89teX8NPLsxg9cdeteHV9ddj/+xdw6wXf5+L9x3DbG7M4TqmMI9a3GEE+6NbYzpdBVVUVN9xwA0OGDAHgwQcf5PDDD2fOnDmMHj2am266iZtvvpkHHniAYcOGce2117LvvvuyZMkS8vLyvnCbb7zxxhc+ziCD/waZb8VtHOedcQbjKio+93y6+1XgOgXwyPz5KK05dszoZLtVEGSIUihLPIBuFr9za6oZVFREblo71ZZVlm5OWBZxS0CU5xFyHeI2ayRYx3FdFJDjOLTF4nheNxPhDDL4l5g+/SDu/+McrrpiJr++cSYfvL+WaFaEnPIosTC0xDrxpE62CTo4ZIcdYu2pUEDpkrzurCmvJQTmmcNOGYPva+696UPuuPJ9QwwsNIH4nGQaukbi49PS7HHBD56nrTXO2pVNJBK+dXqypMUK0ZP2tCJIIbHZIiKtKmIfp6x7LVsQmpzsCK6jaWn1CGx9k+uJVOtVclfJPqrg612nhORpmvVUS4fu5hQWuO1oISAk6d+3kD4VuRTkRwiHHbpiCRpaOoglEsQ9n/ZYnEjEYeiAIhM6aOtMqUpSQORsVUoH4nVtyJSUplDkBi5cko0NHSzb2Myg3nn84ODh3HXdWSydP+tLXTs9hSE77kJuVhZtXQmKow6fvv5cTw8pgx6EEmKrLV8Ghx56KAcddBDDhg1j2LBhXHfddeTm5vLBBx+gtebWW2/lsssu48gjj2TMmDE8+OCDdHR08Ne//vUrOhMZZNAdmQrINo4RkyaxsKCArubmbpUOlab/CFql5tbW8uGGDRwyfBjlWVlGlG6rGCqtciKE6HY3ZXN7O+uaWzhqxIhu7wnuigbrpxMdMBkfnlKEQ+YyCglBhw0wTI7NtnlJIcgPh1m3ejUD7R2ZDDL4d9h7r++z156n09XVRU3NOh78y+XMmTuHKbv1JhZPMH9+DWW9cokrBWHJyAnlZOWEaa5uRepsfK1QngDpmhYk7dsgcNM/tGD2Ju68ciZDdyjl2YcWcdAJI9HWLhewZEHZEELzmdNCIZUgt9DlxvsO4ffXvsu9N39kQw8VQrhpmouAUKRVT5JaEp2kCsFjU/kInjH7Vyh69Spg5Yo6CvJK7WueeU0opCUhRmseVE+C/aZb8EorGg8qJsKIyoPnHWGqEVqitCLm+bz14VrufvgTfnbGTkzbsS9CQ15eNijf6tpN1cl8QaSctHRQYhGBiixoiQNfa1paOtFaUJgXMc6+QZVJgvYVeXkREp7HuoZOJo0oo7FlMH/41bn89Op76DdkzFa7vr4KCCHY6+DDeWfmy+w0oJRHbrmW8Xsf2u2mUQbfHmwtAfn/sg3f93nsscdob29n6tSprFq1iurqavbbb7/kOpFIhN13352ZM2dy5plnfuF2jjzyyP94n08++eR/Pd4Mvh3IVEC2cUjHod8uuwDdSYd0XSOq9f1kvseCmhoqcnL4zogRyfcnReeWWGwJrTXV7e3khcPsZNuvgv1o3wfbsgUk7XWD8MJ4PE5Vfj5FkQjSdQk7DgmvO9FJR2EkzLJMb2gGXxJCCLKyshgwYBhXXPoo06cez5J5kvXLi+hoyadmXTEdtQNZuSDOHVfO4r1XVtPWkjD5eQBK4TpmGrx2RROrlzbx2tPLqdvczqhJlZz40x1Zv7KZ9tY45X3y0FbfIGyaubA6EIDmhhhzZm4gUGtLV/PTK6dx/7NHUVyShdYaH89OwF2rNzHtWs8/u4zqmnaU8FBCWlcsU5YwFD+4HyTS/q+or+9kxqvLyMmJ0NbehZneG52JSKuAJDNBktURh3v+9gkr1zWSIgApIX0yoT1ps2trF1Lx4rurqNjxNo4443Hem72eUDgIEBQgbUVFGmcs09IlkqTj6rtm8tBzi4glPECgFNQ3dbJiXTPL1zaxemMzvq/QvsfyNXU0NXegtWL2whp+dO0M5i6rJTfLoSPmE8lyQTpMH9uHPceV8rvLv0f1mm1fSzb99AuZt7GZjU0dNDS3pNwEM/jWQdmmy62xALS0tHRbYrHYP933/Pnzyc3NJRKJ8MMf/pCnnnqKUaNGUV1dDUDFFt0VFRUVyde+CAUFBf/xkkEG/w5CZ3wCt3nULFzIK1dcbh2oXLT/efer4HFbPE5eVtbnnt/yMVKSTEPH3qO0Kena9xG2ZStJYOz6gZ4k3RErXWdS09ZG78LCbuvUxWIUh8MsrKuj3157c9Y113x9Jy+DbxU2123ksRd/zZtvv86O0/syde/+NDd30ndwIY11nXhK09IY4+hxD3D82RP58VXTyMpxWfhhLecc8QTn3bgHh54y0lYIzd17EwhuCMM5RzzFok9qeGnp94lGIgjl42oBOCz5ZCOjx5UjFfY5kNZNa9PGdqZP/iNjx/fi708dSygkANcEBmoQhAAPqSyh0Knqyw9/9ALPv7iUl585meKCMFWV+bi+SVuXnq1a+CCDOa6Ve9TWt7PDwfcRDTs8fffRTBhdaS15JWZYCi0wGhlh26WsSH3hknoe+PunTJ3Ul/2m9yc3JwxaILU2REelqjf4gdxE09iaYMqxD7B6YzNVFXlcduZUdpvcj+KCHIryQ7b6ZEX6ylRLV65voW9FLn98ch7n//p1BvYpZP7jp+Na6ofWENdU13ewdHUdL8+p44Kb/kpJeeXXcEX996iv2cQb9/+WweMmMeGg7/b0cDL4mtHS0kJBQQHPNp1LTn7kf95ee0uMQwtv/dzzv/zlL7nyyiu/8D3xeJy1a9fS1NTEE088wR//+EfeeustmpqamDZtGhs3bqR3797J9c844wzWrVvHSy+99D+PN4MM/h0yBGQ7gFaKJ37wfTobGrqRiPTwwaBt6nOP3RDKS7VOyVAoWTWRrmtas4KWKWvtmyQXUiYJSLDNzxGPtH0hJbWtrZTn50PaOvVdXeSHQtS2d7AuEuHONCeODDL4KtDS0sRzr9/Ly28+xqCRRRx0/EgScY/WphhlffM484DHWbmonjueP4ahO5QgBKxc1EA8lmDEhOAPskn7lskWJnj7udWce9RTXHPP/ux12GA6WxNEZAg3pIm1eFT1y0UocJVpfZI6aIWCv/1lARecM4PT/28CV1+/pxVbaKQpR5gJvcLqI8wEXQqHDesb2X3PBxk6uJg7bj6IYUOKcZVAIJGeMiRHa6MdxwEVZJH4zFtcy+FnPk5Ta4xbLtuHU47cwXyuA3G+MOLvQB9ihuKitZemJwmE+JibENp+9rGFEy2Qyq6nNb6veP6tFVzxu3dZu6mZJ2//Dnvs1B9SlMVsTxmhfU19GzlRl9xoiNqGDlo7PQb3KTAdWcnwdk1dbSsh4TJvRS2vzqvnktv/QXbOF4tlM8igpxEQkH80nbfVCMjhhbewbt068vPzk89HIhEikf9s+/vssw+DBw/m4osvZvDgwXzyySdMmDAh+frhhx9OYWEhDz744P883gwy+HfItGBtBxBSMmCacYBJb2tKz/RQiYSpUgSPCQhKipQghNF22JYttaUgPCAidjuGpIQ+t6/0dbolpEtJSDrEYrEUURICRwh8rSnOyaG6puZ/OxkZZPAfID+/kBOOuJA7rnmFxk1RHrt3Hlk5YeJxhURy0rk70lDbwQevrCQeM7kbg0YVW/IRJIMH+omUMcOuBw2k35BCHrhlNi2NXeQXRYlEBV7Cp6xXFlalbsTuwsEXngk2BI47cQwnnTaO+++ZwzNPLcPI2YMWLAspQKTZ4uJT1aeQa6/ek0/mVvP3JxbS3hknqZkIyEqyLSvIKzEBhWNHlPP2oycxbmQFZ189g9dmrrHaDKsMCfrUJAQvaHxwpG2r0nbrKrk/Lf3kXw6NRAuNEsq2lIHjOBy211A+ePRUHrrxMIYNKKamvpPgHYEDGVqDVoQEdHX6oKG8KJvBVflGwC+lFcSb30MoGiKWSLDb+L6U5cLyBbO34hWTQQZfDRI4W20Bkra6wfKfkg8wLdexWIyBAwfSq1cvXnklZXEdj8d566232MW2fP8nePzxxzn22GPZeeedmThxYrclgwz+HTIEZDvBgOnTge5EQActVEIkQ8KE45j2qTQnqmT14ousIG16ejq6E5MtnLAsAdqSvAQJ6dFohLhS3bJEHCHQjkNUCtq7Omlvb/9vT0MGGXwp5OUVcMPP/4bXFWL222uRSJTymXbAYAYML+a5hxfR0RZPrh84QRlYF7mkK5WDi+b4H05gxWf1bFzRQk40TEF+mIryAiKuk6oKCON0lRKDAzhcef3ujB1XwYXnvsTKFY2YfqmA7EC3r2SRevzd40az5x4DuPOej1i3rtkSAmzGh5nLKzxIprCn9tu3dyGvPHAcD9x0GFPGG4Jl8juSg7XuV4ZwGD9f81NLLBnBalls6KBjTChMWKmwY5X2pzmD0Yjk4N0HUVmeT2dnnIbGdlC29VMFbmCCovwsGps7UMpWgbRdB2XGoIyYPi8nTENbF10xj8riHGrWZ2y9M9j2obeSA9aXzQG59NJLeeedd1i9ejXz58/nsssu48033+TEE09ECMG5557L9ddfz1NPPcWCBQs47bTTyM7O5oQTTviPtn/77bfzve99j/LycubMmcNOO+1ESUkJK1eu5MADD/xvTlUG3zJkCMh2gtJhw8gtL08SEOE4SQcstO7WFqU9rxvZCN6T1HZA99e3qHz4afa8gXtWUpAe6Eks8QkE6cH+HaXw0yoownFwhSDh+UZM7Lqs+Oyzr+w8ZZDBlohGowzpO4G6Te3kFoVo3NyBAI4+cxwrF9Uz/8Maa7Xr2PvzwrpeBQgoiY9EMnWvvuQXRfnjb2dhJKYB2Uh/j9jip3kcibj8/r6DcRzJ/53+LB2dCbuHdNIgQQuEMtUM0y7l8MvLdycrK8RPzn8ZL2GdtQKnKZkSoScrDEko3FCIIw8cSl5edopgCYWWgd+WHYOTGrIisOQ11rha6KRFL5iAQ9KCEAlksiJYUp6//Svz6IxpNtY0kUh4aVbBZtXepfms2djEps2trF3XRE1NK20d1qpYCrpicdbUtJKdHSXsChrbumjfvPqLf+EZZLANQSG32vJlUFNTw8knn8zw4cPZe++9+fDDD3nppZfYd999Abjooos499xz+fGPf8ykSZPYsGEDM2bM+KcZIFvi97//Pffccw933HEH4XCYiy66iFdeeYVzzjmH5ubmL32eMvj2IUNAtiMM2G13QzzshD+Y9P8zbGxtZUHt5m7PJW0/vyDQUCUSLGto4O+Ll6TyQoKAt0C0HgjVlUI6DjHPY1lDg9m2ELhSkojH03YocKTEt0ns+Y7L4o8//t9ORAYZfEkkvA4Ky7JJxDQdbWaSvvO+/ZGO4KO31ljHq8B617GuV6mvR5HWhuWGHU49ZyLvv7GWj99bbyfioIXNCRHCul+5tgUraJIy2+w/oJDf/u4AFi+q45pfvk1AeVLkIT0vJMj8UAwZUsTPztuFT+dVc+vdHwEeXTGPFEGyn2478ddpS6BnSc84SUcgPg8qPQpMOxjCTn6CtjBMG1ZQRQFj5WsdsnSydU3avA83eXxV5dnkZofZtLmNZWuaaGzpNDcpkOTluJTmhcmPRskKSVo7ErS0xFi2poGV65tYV9NKn6Is+lbk8dCry2iV5Rxw2i++9HWQQQZfN1TyM/S/Ll+uAnLfffexevVqYrEYtbW1vPrqq0nyAebv9ZVXXsmmTZvo6urirbfeYsyY/9zieu3atcl2raysLFpbWwE4+eSTeeSRR77UWDP4diJDQLYj9J+2S1JXESC9kpH++M01a7jirbepaW/rHloYVDTSsjqC6sai+npumvk+65qauonMk25YdjvB9rTWPLtsGU99tji5fSkEygrc7Uo4QpikZyDfdVnwwftb8axkkMG/x9KVn5Kd4xLr9NDap3pdE9HsEBN368tbz6zolgQeVASC6qJQIHwP13dQcY+Qlpz8wwkUFkf53dXvI7RGBtUICVpq+xkJWrBMO1M6oTjw4MGc+r1xPPinT3ntlRVUV7ezYUMLSTKRJAMkWUTYdTjkwMHsv88gbrr9PeYsqOWaW96xwnEHJW0VRfvW3ldYLuDYb/pg2yLZtmW9usxzVm+h8K3621Y8nKA9KxiKsfjFkWg3kI6J1HhJy37WKYKkgYL8HPpXFjC4Tz4JT7NsTRObG9tQCvJzouRGQ5TkR6kqz6OyLJuhfQoZVFnAkKoCIqEQb81eTV2nw1nX/IloNOt/vSwyyOArh4/Yasu2hF69elFfXw9A//79+eCDDwBYtWoVGW+jDP4TZAjIdoTigYPIr+zTjWgoz0sSA5VI0On73PHRbO77+BPivo8UaW1TtqKR/jOw0P100yZ+O/N9Yr5PXUdHcvvplRIZJKjbL5eatjZeXL6CBbW11LS1mbEE4vS0ti8nFMJLmKpIWV4eKxZv+z7+GXxzsHzVAhrrOhg1oTdK+1T0ySe/KEJFVR57Hj6EjauaWfppNVgtg7ZtUAKNi8QBHAQCn4bqTopLIuTlhfm/n03ho/fWM/ONdXQPGUz91EErVNrcQWsNGn5x5W4MGVrMeT+dwRW/eI0Vy5uTkhCpJGgfoU31QyKROBTnZ3HFpXuQlxvhrAtf4MXXllti4xuiYclBii6kBxIGBCKVjG5E5MrqPqQNJjQDNrkegRaDpDBe2W0ElR97VOa/oKVLBL1ctqIjpbXv9UCbGxUVhTkM6/f/7J13oFxF2cZ/M+dsu73lJjftpvdAIFRJ6ITQu6CCKBYQBBGwYEdUigrKJyhVaYJSlF6k904SOgnpvdxed/fMfH/MzDlnb4KiBJLAPnrI3d1T5pS7933mfZ73rUIKyXuLWlixpovmti66e/OkfUG2O0tPV45VazqYu6iVBUubyCR8yqsHkEwmN9LTUUQRHy1y+Btt2Zyw5557ctdddwHwla98hW9/+9vss88+HH300Rx22GGbeHRFbAkoEpAtDMOmTys0lDtCYbGgqYnBlRU0lJXhCYHvyVBG5TIafeVXnd3drOzsZFxtLYPKy1nX3R2SGh3LZvSd1bjxtddR9r2HFy4sMMK7niFIabqhY6py1SYTrGltJd+3AlcRRXwE0Fpzw+3nMXV6f5K+QChIZjzKytOAZucZwwB45Ymldgvn6VBWFqXCbIRSmt6egDJbUvPzX5tCv/4lXHzu0yito+AeZ1y3hB3AdjQ3VEYhESxf1skXjptMVWWau+96lyVLmjFH8mLjcL+rJqsQBPB/f3yesrIk78xbx6IlrYS/zqEfwxrFbTbE+UgMoXBMSMa8GpaIoIyEShSSFHM+GiU0mgDhSbSMkQ8Z+V1EvMQWUWleAru+Nau7cxNCUFuRZszQKirKkmgNnT15FixtZXVLL+vauihJeYwdWk0q6TO4voz35r5bnGEtYotBgNxoy+aEK664gh/+8IcAnHTSSfzlL39h/PjxnHPOOfzxj3/cxKMrYkvA5vVEF/Ef0TgtqoYlE4mw+pQrszuxf3+WtbWxtquLg8aOieZjN1A21yGTSLDP6NHMb2mhobycQ8aOoXkDlariZvbFbW2MrKqkJpNhTG0tyzs66M1mjREdMx+s8vlw4lcKgdKalO+T8TwWL1iwka9MEUUUoq2tmZ//9sssWvIOO+/ZiAoUiYSr1KTwkAwZUU1NfQmvPb+iwOcB1pQd6o4Ubet6qKhKYDpweGQykm98d2dmv7ySRx9YiEbS3WlK5EaejvcnFKmk4MXnlzNvXhNaw9Kl7fazvlILHcbzVdUpTj1pZ7587NaUZBLkcoqFS9cBEhkAmI7lhgYE4bk6KZgIsyKxanpgshuusITLdhATU0lhuq5LidbWq+JUlipq22g0aNoSH+sH0XZbtK2A5eScVrMmBUhJWcanpjJNQ3UJo4bUMLS+jMH9yqkszQCapC/xPZ/yRI4n7rnxv3gSiihi02FTmdA/akgp8WMVND/72c9yySWXcNpppxUzlEV8IGxeT3QR/xFVQ4ZQM3IUYCRXzoiucjnQmkWtbTy/bDl7Dx/O4ePHM6a2FohlL7Q2ZIVCz8js5SvozOXYZcgQDh4zhgr7BeL6hYSGdAApGVpRwcFjxpDXippMmrNitcOTnkfWrusyKJ6U5IKAhOdRkfB544XnP9LrVMSWhxVL3uHBu67mhit/xOW/+RKdnR3/876CIODk7+6LV7qCk3+wMxVVGRKJJD3ZwJBwSyoEmsk7NvDa88sROoevJVKb7uaeFkgNnvbxNHQ091JVnbaBdoBA8tnjJ9AwuJyLznmKe257ixefWU5ENhwKCYUxbwuGNlZy1Z8P5tZ/fJYJE/qxdEmbNXhH1a+codtVjRII+ten+MJnJzHrqa9yylensmxFJ6DQToIFRL1L3LHjWc8gzETokIg4wmGbDgqXESEqy9vH7G7rSphJEIwB3ZTMjXYplO2cru25uE7oOjDvWTJjSIzzrVgDu9aEijAEdZUZunM5vrjvBO67+Y+8/GSxoWkRmz/URsp+bG4E5P777+epp54KX1966aVMmTKFz3/+8zQ3N2/CkRWxpWDzeqKL+EAYuvNOBb074kTi9rfeIu15HDh6FNLz6FdSst72LpMR75z+7JIllCQSbFXfz7wnbRDSp+u52VCFsq/efEDa8xFCkPQ8hBCkPY+uuIxLa3wpCbRGCkG5ELzxwgsb/8IUscVixbL5/Oacr7B63p0MyLxHT8dynvjX/z7LLaXEkx6HfG485aVJfGWC45r6UlrX9tiw3scHJk7tz8rF7bSs6ebNl5cZQ3lYicoH8rSs7aW8IomUoiBT4vmSk87aniWLWvnp6Q/T2dkLGAlWJIPKm47oWiG0RGjXXdz8Du+yyxAefPhYvnDcZByxiVe/ipoiAgiqqtK0tPdSXVXKT747nTGjqgHQofRKhD4WJ8GKiEis/DbKNj509MJ2UQTTX8RlQyxxCMv1ShFlSER8O2lFWJE8FG0zHorwPMIMCsJWyVJ2csNmYTSgNATaHCDIQ954W4bWl5HN5vnKjDHc/IcfM+vpqJFaEUVsjshpf6MtmxO+853v0NbWBsBrr73GGWecwf7778/8+fM544wzNvHoitgSUCQgWyCGTZtW8NoZ0Re0tPDKihXMGDmS8lSqwOuhrQ9E+n5IKkIS0dPD7FWrmNK/Pwm7junvYWdd4x3W+1TC6s3nSfpewXESnkc+7h1RCs/zyFnCU11aytuvvPpRXJoitkCsXbOCi3/xdY7YdwRHzhzPtO2GcuCeo3jkwVvCYgb/LYQQ1NSWWLIhQ9dBZUWajrbekFjceuVrdHfl8DzBmUfdyZuvrCbmrAYUWmtamrup6WeqLsUzFA/dvYDf/+JZujpytLX20tWZwxELYx0xvUOwvTz6di13ZMbzJDvt1FhwDloH0VB0gHF4G2KS8j2yPXnWretl+cp2lPJidahsFoPCTumExEpG2czY2QrhGYmVcERGE2VJTJZDocLmh6ZniAiraoV+j/iOhR87h6iUt8mICEyVLGG7sXs286HCDI1ZzxradYDn+QwfWIHSeb5x4CRuuvSnPH3/3//D01BEEZsOn1QPyIIFC5gwYQIAt912GwcddBC/+tWvuOyyy7jvvmJ2soj/jM3riS7iA6F8QAPVw4cXlLqVvs8/33mHtO8zc+QIQzRsMCATCfNHXylUPh+SEEdEXlu9hu58nu0HNmzweAWVsGKG9LxSBFqT8vz11vV8n1xvb0hmEkKQs+V+a1IpVre0EGygF0kRnz78/crvsOs21UydNBAX8A8cUEn/as3Tj9z8v+84kPR05ewLiZLGi5ROJejpzoGGnfcewq2XzyEINLOfXc6u+44EHSAUeFriK0X3uizVVUk8IS2ZMOZ0gWTfQ0ZyzwtfZO8DjSyyuzMP5C0TKJRBFRReCCtIOeO4QKjAVr+ymRKbTZAkCPIKYWVMAkV5WZLOzoBBDWVsPXEgUga2jG7kAQFob++O8ak8IQlxEskCsmUyHwhBT2+e199cDTGJlsbIqczEhDTHUxqhdZhJAcjm8oRGc5W3VbmkHX88ExOTfwlpq2c5j47rh+I6qztSZcha44BKcvmAbxwwlrv/cgF//+PP/8PDUEQRmwaGPHgbYdm8wrVkMkmXrZj50EMPMWPGDABqamrCzEgRRfw7bF5PdBEfGMOmTUO5TIbvo3I5Dhk3jpO2246yVMrq3HWBPySUUMX6ggCMqa3hy1tvzeT+/YHIL+IyH7pPNgMM0ZCex5k77chOgweF75uuzJKUEPRqHRKehJTklEJKSSaRIC0lSxYu/IivUhGbO1pa1vH223PZbfuhJviVwjx3OuDgfcdyx+1X0dPT8z/tO8gGtK/qItGbRyjrNQDeeHkFX9/vbyxf2MbgYVWcc8W+AIyaWMuAIaUASCd/0oLmdV1U1piqWb/7+VOc/Y0H7BHM71FtvxIuu+kQLrxiXxK+Fzq3hVKGUCjFsoUd7L/nDTzywAI87bIVidho12886DIlF/72CfY/9CbmL2hmxco2mpq7kZ6gta3LqpZ02IvDSa80ihVrutjx8Gv59ZXPE5W8ypvjCGKZD0yfD0nYXPDm295g132vY7/Db+LOe+aSzeXCccYJmPYEStjMh9a8OX8dkw66iidfWGivHwgd9S4SOEN6jIwIj96eLMecfSf/97dXjZQssBkfZb0iLpOjzM+plM+owdVkcwHTJg7ihuuv57YrflWsjlXEZodAy422bE6YNm0aZ5xxBueeey4vvPACBxxwAADvvvsugwcP3sSjK2JLwOb1RBfxgdG4yzTQ2mQyrEl8RGUl2/avL/CEFMD+cY5LqQDKkkn2GNZIOpUqWD30iPh+aEQPvSBCILVmSkMDg8vLI4KjTRO2tO/TazMcjoSgNVprUqERvegD+bQjlUpTU1PFPY+9F3kMrPl5UEMZY0dkuOW6H/3X2TKtNd0d7TQOqWTF8g60ECSURGjwfZ/Zz63glaeXksvm2euQsXzh1G2YNnNEbA+CVcs6WPBuE7X9MnieBC1pa+nhrpvfomVdD3HDt9CKw4+ZxOe+NAlPSTwt8TR4WuMhqK9P09mR5ZyfPE42m8N89ebDY22g8JX9N095WZKXX13Bs88vp6oihYeguzOPJwUC39WSsvQqkl71q04zeWw/fnLRE5x32dOxTIjNvkjbgBBJ2O8D0EKz34xR/PC701i8pJWvf/Mu7rj3XUNahEDJmHxLaddCBITH4P7l5PIBp53/MPm8KeWrnQndVcdymRAhDbFQAalkkgXLW7n0llcMC5JGchX2E9GBkXOF31se0pM0NlQxamAl15+5B/NfuIfrzv3K/yzbK6KIjwJ6I1XA0ptZuPaHP/wB3/e59dZb+eMf/8igQYMAuO+++5g5c+YmHl0RWwI2rye6iA+M0ro6+k+eHL5+v47o8S7o8dlB11QwTkRULhd1Rhci9IgUkA+bbQmbEm4gOwKmElYuFjQKIRC2FG9CSkqAN14sEpBPOzKZUr533j9Y1lbB1bfMpqc3RjQEHLTPaFYseZWzvrk3t9zwC1avWviB9rt69QoqSktpqC6jWyl6e00vYa0CGkdVAtDbnWfZojba23o4/ZfTOfKEySY2V5pVS5pJ+0mGj62moqrESKRQHHDEeHI5xSP3vGePZPtZFEiKFIh4JSxJOu3zo5/tynvvNXHNVa/aYNxuojRCRSZ14/MQxgyv4cQTpjJuTC3n/OoxenvzVFeV0TCglKGDq4G8bR7Yh8RohedLbvjtQRw+cyw/v+RpfnLx41G1KVcUD+3MKlZkZT7qX1/GGaftzKvPnshtNx3JgTPHuh2b/wppMlbhvTL9fipLM5x3xu6sae5i7qJmwn4jYQbGLS5rEl2zi87YnW8dMxVclkS6ynuW4eggIjEqD0KSTAiGDChndVsPpx2yNR2rF/Knn36dbDb7gZ6TIor4qJHViY22bE4YOnQod999N7Nnz+YrX/lK+P7FF1/MJZdcsglHVsSWgiIB2YLRGCt9G+/vUdBocAMERPTJaLj1hIyqXrnsSrzaVnx/YWneDcARIKEUyq0fBCSkR9Y2UawuKSlmQIoAIJMp4fQf/Zmq+olccPmLLF7Wah4zBeUlSU750vacdsJEsu0v8csfH81FvzqeV1965N/OdL/15n0MGphEKIHOKRKJKOjuP6gCgDUrOxk2spbOlm7WLu9i4JBygt6A5fNbKUknqO2XLJBDgcc2O/anYXA5/7zpTXukwq9QU+BKmvhaKZtYMFKsA/Yfyy7ThnDRb5+lpakLqZ053nRZj0iMM6mb9zxP8IPvTKepuZufn/+kDcTB+GUgLGOr3PbS7kOQSHhc+5uD+PwhE/jNFc/z/fMfRWvFvY/ON94NC6W1Gbuw/g77v0RCssvOQ0mn45W0BKjAUAnP/ccUxtJojt5vIi/e9EXGj6w14xExauP6gTgS4giQhF2mDOWkz06JcZTAmtY9WxXLnZslW1aalUn51FSWsLqlm5NmjifTuYhLTj+Y7u6uD/D0FVHER4tPqgm9iCI+LIpP9BaMoTvtjOca/sQ8Hi4T4aRTQEEfDx0nH9bAbqpeWc9HjHiEpEXEKmFZuOxKtE5ETgAy6TTdvb3hsVMJn6z9rDqZZE1ra9GIXgQAnudx7Dcu5rNf+gl/unE2s95cbQNT01+iX00Jh8wcwznf2Z1tJyjuvvUczvnBocx7d/Z6+2pra+Eft1/PTjsOZtXaNqrrM3i2UpMUUF6aJF3i07quByEUDYMrqa5Ls3RBK8sXtzNgcBnVtaZ8tXYyK2FeeZ7k8M9P4Pknl7J4Xgsin8cLfGRe4ec9/LzAV5qESpjCTphwXiCQQvPjn+5Oe3uWP/zhRSJiEwvsHZxJXSvQku2mDODYoydz7V/n8OLLyxHaZEec9EoIY04PmwwKQEgE4PseV/xqP7581Fb837Uv8/Xv389pP76fjq4spu9I/HdQGDmWNYJrEWVF4pkMba+n4UGBIR+e6fIuhKahX5n5VFhPjCMfoRE91vcDiMzmAnzPEg93LYLoMx3P4NgSvQhqKlJ4CcHylm6O32sMw6olv/n2Z2ltafogj18RRXxkUNrbaEsRRXySUCQgWzAy1dX0Gz/e+DGsNEp4XkgenBFdJhKFWRHeT5rVV4hObJ1ottkRHWX36SRbIdmx2vIk0OsyKYkESSnpseQmk0iQkcWO6EUUYpvt9+L0H13D3++ZR3N7ljAKtV4C6WumThnEt07cmb2nVfOn33+TSy78HM88dSetrS2sWrmYi3/zBXaYWsOoEdVkhSaZ9EFAZ3vWtq9QlJQk6O7M2xBYUFKaoHFUFUNHVJNM+mitTHPwcDFVnKSWHPn5iQDcefPb+AikziOxwTesV2I3PAFg660HcNDBY7j66ldZsbw9JBlCm+Z8QkukNmVyhfbs6BS1NRm+ety29Ksr4cwfP0QQuImAvv4RW0JXGEO6lrbru+dz6c9ncurxU3n6pSWsXNPJXQ/OQ+u86zuItuMtKNBrSaCpUmUlWyi0Zz8TwhjXhYiaEGpnCrGyKeF6gzi5lyUmIYVx5XetEV8Hdq4kkrCF5EMrI79S7jiE+2moKyeZ9FiytpPDPzOc7QdJfn3KgaxZufS/eQSLKGKjwog/N0YG5P3/PhdRxJaIIgHZwjFsF9MTJC6p6iuPCr0Z/6YSltlHZE7vS0ocgXFVtcKMivOKuPWFCCtkJT2PnGt6mM/jex5KKbRSpDyPMt8ryrCKWA+Nwycw86Avc8Ntc6xBGsCjpbWXBUtaWLGmg2wuYOtJ/fn+6TsxZrjg/rt/xw++sy8//8nhbDWhlBl7jUAApemEKcWrIenJsKl3pjRBd0cvUvsIHeApga8lCaHxte/CZ1f4lXh1qiHDK5m640DuuOWt8LEPO4q7AFtb0m5n6oXKI5VEKMX3vzudbDbg0ktfMlWhEDhDu0kyuIpYTpYFiYRHXV0JPzhjF+a8sYorr33VxPGBRgQusyCjfYRypygr8vRLi7nn0fdYuLQVgFvueCPyoYAZg9C2F0hc3mazItLtWUfbCA2eK6Hrkh1up/bihE0I3Tai8HNi/U4wpbrx4sRKx75ffDseEUqwnAQMpaivLqG8JMF7K9vYZ8oQZk4ZyG/O+DxLF7xLEUVsCnxSq2AVUcSHRfGJ3sIxdOedI89FjFSIDRAMiMhI30pY0QqxjImUZlbTldCUfTqjW+lWvPlYX+mWJyXKriN9U8VGa03S8ygpdkQv4n0weNgE1qzrAqHIKcXcBWvJZnMMGVxJWanP0pUtzF3UxJLlzfSrK+NrX9qKc3+8Gz89ezd2mzbcxN4Ish15UkikhnTGZ+4ba/nXP+biJyTZ3oC/X/0KzWu6MAG7C/z7Zi8cot+Xg48cz6L5Lcx+aQUiEHgBeAH4gUQqjac9O28vwyyLIzGjRlVxyCFjuf7GOaxa3UHh17AXk16B1kbeJJD0ry1h912GM32nIZz72ydZtryNy69/1UivwoaD2CA9DkNupm3fyKx7v8K91x/DN764Le8tbGbd2i40Ai2ibIPSQejLMBV8VKSGctdBOvGXhMD2KPGwpIeCteM5lYKshoj/LHCFelHWwB+/BcJWzdL56BqBKdOrtFkAlKK6vIQBNWXMX9nKTmP6c8xODfzurGOY99pL693RIor4qJHXCXIbYclvZiZ0h3nz5vHAAw/Q3d0NxCcviyji36NIQLZwpMrL6Td5K+D9f/EL5FYuGyKtzCOseiVDgqByOaSfCLsWiw1UzIrj/SphASSFoNdKs7RSJKQ0RnTPo6akpFgJq4j10NnZwV8u/zHHHjkJLSQt7VlqajLU1Zfg+Ri51PBqRoyoYdjIOoaPqqS0LAFC4ye8UBa0bEUbvvCoKUvh2eqvYybUcul5z5HtCZj94gqefXQxNf1K1iMcYRdyDSIIkMpDBHlkIPCU5JBDxuB5gvv++S4+LlviZFgxMtCnGaEhA4LTv7UjPT15/vjHl3DVr6Q2jfuE1Xq73Iiw+034Rhp28S9mkM9rvvStu/jL3+fYAUe/d9oF6aEh3XktFL7vsdtOQ/jNj/di9sNfo6IihZbGV6EF9mdbnAtt/CECCqt8GbIWWslj/UOwvVzC8rlgiYxblC0n6ipgxUr0htdI2+skwZMh2QnPUeWjVZ1Z3ZX0tSb3soxPQ10p761sZWJjHV+bMYE/nXsqc55/7D8+f0UUsTGxMUrwumVzwrp169h7770ZM2YM+++/PytWrADgq1/9KmeeeeYmHl0RWwI2rye6iP8JQ6dPY1VHB8taWnhk0SI6ensLzOcqJp9CG4kFSkUZDWkkHCqfj0r4xgKavrTDraPyeRscbAhmq5Tn0R2Th6VTKdMfRClqUinWtLYVjehFFODay05mm4lljB7eD0VAa3s35ZVJtItDJdaYYUrHhh4FIQmkIhDm2U+mfDIZH6kEUnvGFC4kp5y9MyuWttO8tpuTv7+TjYwD0yBQKzwtYxIsz1Sq0kHMMq2orS1l512GcO9dc2PEfwMTADpv225YMqABrRk/tj8H7D+aa6+fTXtrD48/vrCP9Mpbf3/ahCBXXPcK40bX8s68dSxf2Y5QEuHogHCjDKCggpfLksqC3aZSKUNztPsdVGbCwl5f98uvLHFyfzEsZQE0oTc2/C4w+9Ox47qMSsiHcPt34xHRh9rtS9nvoXgzQnt+2hnlsT1DHDmJpF2lmTRDB1SwcFUboxqqOG2/0dzw6zN47q5r1r9PHxO6urrIxQp5FPHJR6C9jbZsTvj2t7+N7/ssXryYkpKS8P2jjz6a+++/fxOOrIgtBX1z9UVsgRi508401NTw5qpVXDtrNoltJaNra8lISdr3SXoeMtZEMKxk5fweSnH5K6/Sr6SEIyZOAAi7rOsgKKhypSks+bu8vZ2BpaWm2aDbd8yQmpSS1lhJ31Q2S1MuR2VpKaWJBGkpWDR/PiNGj/74LlgRmy2effIuVixfzBdO2hEI6OrN4fsS6dkZeltByc3Tx0N0FQa3Zh3fEwRBgCaJFgGeFog8zDhkJGMm1jFsVBVjJ9Zj5ihN0C7wiRoEulK45t/ovTwa2P+g0fzgOw8z+5XV1NZkaGysXG9doZ111PkeCNc59eSduOfeuXzz9Puoriph990aQzmjDgmPZ0veGjLROLiaIw4cT2tLL7NeXwVAT2+WdMrlYWzmIMwiGJhMhhcRDeEhMCRBa0viwuK7DhJNYPMwUcbDnINACZA65gcBtLQ+G89McoTWDRmrgCWEsY+F10VYMqMioqEtkXCVs8LkiLuOMQ+IOycdxHqHAFqTTkgG1GRYsKqFEQNrOPPQKfz+r1fS0Qt7H3kCHwcWvvwsz95/J2+8+Cxrli9DSY+SsnIG1FRx8p9uprKm9mMZRxGbBkpL1Ebwb2yMfWxMPPjggzzwwAPrdT0fPXo0ixYt2kSjKmJLwub1RBfxPyFZWsqgbbdlYVMTGhhfW0v/TIZUMklnLseqzk5WdXWxprOTls5O8lYm5aRZeaV4fulS2nt73rehIRD2XXDbdeTznPfkUzy2ZElMuhX5QmQiYWdTTQNCrTWelARaGyO671Pm+7zx3HMfw1UqYnNH07oV/O368zn+qAn4vkB5kjVru6irLwln47XQkdxHCGa/vpKunrwxTYtCr0Eur/ATnvEzKzCOBk0Cj1PP3olvnr0zUTrAGazj2ThtTdrKtrMQyCDADzy623o4YP/RCAF/uepVfvbjR0Ofh0HUxyPcV3gYxezZq/j5Lx9l5IhqHnp4Aem0h1Cuf4fpDBL1B4kkXZ4nGN5YyUXnzODBmz/H5HH1LF/Vbg8R2PRQXHoFUQfxIJbOtETFNUTURsJprqsrHhyXXDlrSuwa2+stPImSAoVCCWW2s2Z2U9I3fpct0QgTMRqkNsRSuDHHsjYuSwI4YRhS2qyXPWfneRHSeELCalnmOpSXpqmrzLBoVRv1VSV855CJPP3PK/jHxWd85Hr1R/9+Hb897cuI15/kiCEZzp0xhV/sOZlvTh5AZU8b9/zpoo/0+EVseuS1T956OD7csnnNF3d2dhZkPhzWrl1LKpXaBCMqYktDkYB8QjBs2nSWtrVTkkhQm8kghCCTSFCTyTCgrIz6khJqS0rwhaAlm2NNZyddNpOxoqODvNYMq6oKsyPxsr7OkB7OziqF8H10ENDa20tnT29h6V/XT8QSlnQiQTYIwixIwvPIBgG+lJQJwetFI3oRwLo1K6itStLQv5I8AUrkCTSkUn5EOsDq/eHPN8xi/0Nv4q573o1Ji5x0SRHkhZkgF86JEUkY9j1kNGMn1png3pEMDUJpZACekshA4SmTG/EwsizPzP2zYnkXhxxwE8OGV3H3Xe8yaFA5fVzTAJGB256A0IZkbL31QM49Z0+y2YBcXpFJJ4hX2orLpsII3hKFfjUlrF7bwWemNvL0P45jQH0ZLpltPCiycB86H+7LmchDp4fWlugUBuI67CXixbIi8UpYyhSXiG2BlGhfoKVEhfK4mNnc7i8cl5TGayMModAxL4d296SgTFeckGhzTZ0xvSBTYsbVm1csXN3GvGXNrGnppqunl/auXqrKSzjrkK14d87z3HDRD/5tQ8sPg+t/dAoP//kSTt9tIjPGDmRIdTlSCqSEqpIk+4yq56l776Szo/0jOX4RmwdcBmRjLJsTdt11V6677rrwtRACpRS//vWv2WOPPTbhyIrYUrB5PdFF/M8YvN12rM3nGVxREWYoRKwijRACKQQliQR1mTTVmQw9PT2s6OjgnSbTrGtYdU3YwyNe1lf6fmhID8v42mwG2C7KMR+H7NMhPe379MRkW2nf5/mlS3l26TL6lZXzxosvfiTXpIgtC8NGTmbFmiy5IEBKQZA3AXxYhY0o+AW44uqXGTWihkMPHoeTXcUNDlqDL3xAI5QICbQIFF4gTdPAIE9CSzyIeT9kHzO5pq+ZfNSYKi6/+mDWre2mpyfP2HF1GOmW8zIYI3jkG9Gx/ZnsyORJ/XjovuOZPm0o6bSrHtenJC2efS/qpeF7HqXpBB0d3XiepCSdsceLZwqia6Vts0EthC2xG/NfYH9/ceSq758ElzWxhnghjMwJYTOkwhrL7XEFJhvlMhTWbG7WEfbexWRUrpyuvc5a2e7nAjNeJ8NynpCwhK89XSEKSAfSAylZ09rNktVtNFSXMmpgJaMGVTNhaA3lmSQoTUkqyekHTqLl3ae54ntHb3RfRktzEy888Rin7TyS2tKUqSycFPhJ6AjyeEmPmvIShlckeOPhezbqsYvYvKA3EvnQmxkB+fWvf83ll1/OfvvtRzab5bvf/S6TJk3iiSee4IILLtjUwytiC8Dm9UQX8T/DT6c55OCDGVcb6YmV9WG4bEW8Z0cykaAqnaahooKkkAwsLwcV0NzVZf/wR1Irlc8X+EUcpBCMrqmhOp3+t5WwfK3ptURG5fNkkkleWLqMOatXUZdOsaat7SObhSxi00FrTVdXV3hvc7kcixa8y5OP3MSsFx9cr/hAIpFgQP8qHnxiPp1dWRK+T0k6wcJFzbS29ZgZdeGFPuSxY2qZsc9IkyEJZ8mjfhhKKYTUeMozmQytkMpjxcJW5ry0HJV3fgkV+zeOWOZB5UHDe3PXMeul1Ugt2GpyPTf89UhKShKMHVsX28btLwi5RC4fcN/979LRmY1kT0BtdYpbbziGww4cY0mGsBTGyZECFi9r4V+PzQehQhJSV1fK2qYuy7nydn/RuYNGa8mf/voKK9e02qGZcxQ2g+CumRRm0sH44w0RmD+/mcsuewGt7cV2Eiyk/V5xsixrnPfMuQdaccm1L9HU0h3K5PA8s0gJQscIkA4bTCI83liwjjsen2fGiERIV9XKXlNpb4b0wu8j4wPyOOUPjzNr3horyYKm9h5GDaomlXDjd2RHW8+IIpnwqSpJMOv1t/i/732R7u6u93uU/2u88eRDjG+oJuWBIEAmJZ4neHFpE4dd9zjduTxCQjKVgnTpRjtuEZsfPqlVsCZMmMCcOXPYYYcd2Geffejs7OTwww/n1VdfZeTIkZt6eEVsARC6WLT5E4MlLzzP4xdcEPbqwPouCsrtQsHPjhRI3yfI5ejJ52nP59FKUVVailNyOoN5PCsSN6M7uPej8r4CIQSrOjrol8kgLRla2dHBwKoqunt6uGPhQi69626GDh/+cV2qIj5itLY2cemvv8byZUvJKw9UDikU/euraOifobmlmxVr8my77RTGTNqLQUMnMKChkdUr3uOBe67mlZef5KhDxzBlcn96lWLx0jaGDq3C87Ez8PFGdqZXRThbbgPrhYvaGDKkHOmZYDXnC7RQXHThM1x8wXO8sfSbpMpTziASTsrLACQ+6CDs5YE2QfHMPa4jk/G58+7P4UjLk08sZaut66isTENoYrfmaBNj89RTSzniyL/x+4tn8rmjJ1miYRoTmiyBybqY9d05mEzJEcfdysuzVjLn8a9RVZZGCGNMX7a0jbrqUkrSXmgUjyB5b9E6ph70ZyaPq+e+644mUxr1EVASK3syAX1eGumkEhotFT/6yaNcceUrnH76Tnzve58xJEULhNZILSJPTR4j4dJGsvb62+uYdthf2GXqYO7805GkfQ8hPNvPxHlOdMwvIxGBufgzvvF3nn9tBS9deyxjBldZeVwA+ZgZHWzPDxlKtJauamf3M27j5EO24owjtgGtmbusjRH9K/FERPbQylZBjqponXvTC+w2sYGVLb3MW9vLNy+6lcrqD28K/9OJhzFKdrDjiAEIz1QcVHlFT0+OVNI3DptA8JcX5rHTST9ih30P/tDHLGLzQltbG5WVlZyw7G6SFR+eZGbbOrlm0IG0trZSUVGxEUZYRBGbFpsXpS7iQ2HglG3wU6moepVSoRwq9HFQaC53/NORhkwiQf+yMuoyGbp6eljZ0UHO7gui7EZY2tfuy0mzCsiHO4ZSJH2frCv5C/hSks3nSXoeZb7PWy8VZVifFCx6bxY///6RTBzpc8EPdueiH0/j1z/ajQt/tBffOWl7jj1sAqd+eQe+e9K21GRW8OqTf+Ka33+VM07chYcfuI7dZ5xAIpGhsiIFCPyExPOgJ5u1SQlbEhZrSxbOO+DeMcikJd3d8RJNZhp/4fwWausylGUyeIHCC4RZNHjKj5m/sVWxIl/FdjsMZPasVfT0ROR7+q6DLfkQhFIoFSC1sGQCPvOZQQweVMHfb3mDSI4VnUeYvRCRxMyY3wVnf2saLa09XHLFy4a42ApZDfWVrFzTRlT1CpxUTKMYMayWy8/fj5fmrOCkH9xvM0gilj3QCCFtiV3zWtsg/6c/2Y0jj5zA7373HL/+9TNmnFpZNVZklneqEG37gkwe14/f/WRvHn9+MWec9xBKytDYb7qrK0OgQqmaPXetueIHM/Ck5Lc32oaB2lbucl3RndRK2m2sGX1w/3LmXvdFzjhqaijBaqjJsLypMzyvkJx6lgTZSls//uxUdp04kKN2Gcl2jWWc/80jWDL/w3dNzwpBRUUKLymRninvLKWmtDSBJ8yEkLBm/aVvvvqhj1fE5otA+Rtt2Zzw5z//mVtuuWW992+55RauvfbaTTCiIrY0FAnIJwheMsmQnXYqeC+e4CogIxtA+Ln1d9SUlFBXUsK63l66eyOjuV3JdkpXpteIzY5AIcFx2zgfiCvT614LISgTgrdeKnYp/qTgmcdvZsetq9hn+ghcwzrPk0ir4zfhYEBlRZI9dhnG8UdN4jvf2ImfnD6Ncvku/3fhl9huq0qGDalCSc26pi5SmSSlZWl7hLjMyZm1Y0Zl+6/nJchms+FrqUwp3jfmrGHCxH5IgtAUHu2nbxd0+/ujTLnZ7XcYSDYbMGf2mtgYXHTsCtXGqkfZdaQUHHnEBJ5+ZglLl7ZFsimtbPYDoqyHO00T5G+/bQMHzRjDpde8wMrVHeHHvm8nD1RgZExWshXtQ3HUAeP54WnTuO3et7nwsudj5xr3iBDKqRwf8n2P3/1+Xw47fBwXXfQcV1/9MsuWt/PIYwtR5G2+qY8/R3poFF86emtO+eJU7n1sPq1tXaHfxJAXazbHnntgz1nDsIGVvPG3L/Gzr0+3l13aLJIr0evuUbyslv3O8VzpXiOz6urOkfatz0V6Nmtmjykhqp7lxqaYsU0jR03tx+/PPIY5T97Hh0FJVQ3ZIA8iMMfyJDIhDfFIJcw9kIJtBtfw1MMPFrtHf4LxSTWhn3/++dTV1a33fn19Pb/61a82wYiK2NKweT3RRXxoDNtlWkHn8zgKshjO02EzIwUkIlbtKpFIUJ/J0J7P097dXbDvvmZzZ3p3JCN+zHQiaRoQYkhJ2vfD17UlJbz23PMb5fyL2PQYMHgrOnsUhSVtPRvs2qpIwuj+tTByICUgkZLsvsswfv6d3Th45jgQEASKltYs9fUZQEfGZGxzPBEnEOZdh9bWbpuZsN4HDe3tvcx9dx1bb9sAYGah41+D2gT0QoHUPkIFpiIW4OGxw/aDAHjl5WVgsyMReSH6V8R+1gq04KgjxgPwz3++aybkw47ncfIUJxB2Rxp+cuY0erMB513ytLVfmH1XVZSxpqkrpBPhPmIFKL538k4cOnMM5178JHc8OBctJeuau9Cxxn/aHkoKYT0ZAs+T/O6Smey+xzB++KNH+NnPH+fBh94zJn1pxhuvTqat/wIJ539vD5685TgqK9Lmc0cO7GmGfbeJOyEAAQAASURBVEnce5agDKwvp6EmHd3XeIf00HAeZXAoeAYAnSenBG3dOfrVlMbujyUw8edPq5gJHtAB24zszykzJ3DjJT/j4X/877O4SQKySiOTCbzSJF7CC78fZcLDL/GQacHI/lXozhbeevqR//lYRWze0NZAvjGWzQmLFi1i+AZk042NjSxevHgTjKiILQ2b1xNdxIdGw9ZbkywvD1+7mTXnvRCeZ5uCGRkAQpiGYbHGg+YPdYxoCEF9WRld2SwdPT2I9zGbxzXoBdkSszLaHlPlciQSCfKWqNSXlLBi3briLOAnBPUNI1m1pi0MgqPg2P1rglEttK2WJMipPO8taWbZmnbmLWnh3cVrWbColfcWNNO/voyoGZ5y3SAs3E9O0uMBkt7eLH5C4MnoORbA7Fmr0Rq23XaAJQECqZxRXeNrDx/XgyMf82OY8Q8aVE7//qW8/PIKKCBYQexfk1IwUipXHlczenQNkyfW848730KEZANCwmHN6VoHoARCGx+KQDJ2VC3HHj6Ja2+Zw3sLW8yYhEdNVYKOzixhosddD61CoiI9weUXHsBW4+v52pn38OKrS/nBLx813hdhsx6uz4rNIBjZGSSTHhdcMIOJk+p55tklPPzIAqKWhFaSZTMf0YU2hutB/d33kLv37h7ZrIStiwW2Z4cWdvjakjIdIynOQK4iwhCayokIl5AsW9PKwLoyu727tDEjekhs7LFDo7tZubG+nO8eNIFnbrmMG8/9+v9UICNVV0+vMGRDCIFICGTGw6/wkVKB5+Gnk5SnJDs11vKnn57Fgjfn/NfHKWLzh9ZiIxGQDU8sbirU19czZ876z+zs2bOprf3wPqoiPvkoEpBPGKTvM2SHHcKf6ePxcN6QONno23Aw3DYOrakrKaEzl6OnT8lKt31oSrdNCQuM6EDC9+nNZiMjuxAEWlOZThPk87Q0N2/ci1HEJkHj8IksXdUVhu02nxabqbZN7rSppqTRrG3qoqY6Q+OQakaMqGHEiGqGjaxm1OhaSst9O2uuY2TGBZcueHRBriEAqZRPkLcZAe2yHB6vvLQcgClT+scqTpneHv+2B4d7JQTbTm3glZdXxI7ZJ/sBoXyqsDwuHHLwOF57fTXz5jfFKFlgR6GReHY8Rk4V9fSAH5y2C74nOfd3T9nY2ZjcB/avZMWaFtb7Ohf2fIRHaYnP3y4/jMqKFF87817+ed87ZHuVzYJYP4fWMTmWWdraern++lmsXtXJ2jVdLFzYwrz3moliIYlW+ehWaIHzfRdMKEhpvgtsvxWCAB3EJWwQltgVvh27PUcIv8cir4+9r454hNkM6M0F0XNiq3u9s7SJ7t4cSPvceJ49tAxJsCEm5juxujzDWQdNpnnR2/zf9770X1fIylTV24avCpkSyHQCL+khPInMJO1paBKlKfYY1cCug8u56JvH8sIdN65XHa6ILRtKeyi1ERbt/eeDfYw45phjOO2003j00UcJgoAgCHjkkUf41re+xTHHHLOph1fEFoAiAfkEYtgu00zVqny+IJuxIaIBbNC74bIbIibVkr5PXUkJzV1dxphu5VuueaHbjyM1YQ8R2/k8k0zSa30fYBsUKkXS8yhPJnnrlZc3/sUo4mNHWVkZmUw561q6Y+86qYsX5clkZESu71dKe2eeVU3taGlNy252Wpj14kIruwPC7tj4fT4VZnbfBu8rV7bR093Liy8sp7GxkgH9yzBBv10XKDCF2wpW2sqnInLis+22DSxf3s6qVR1Q0NvDzZT3DRRsnwzhcfBBYwC48563EeHRRWwftsRtOKZI4zSooZwTj5vKrfe8xauvr8YV7S1JS8yvehBuI+z1MzaTgEDDfY/OZ0B9KUuWt9Hdk+eF2ctQ0vwOa/KhsM1kpwDpUVGR4Yc/ns7Lr36d6647lAP2H80TTy40mQthM6nuPobyOG2zS04qZipohXdGOYO/Oz/rx3AkI8hHP7sx2WfAPENO+kbYM8TsylzHkYNqWNLURW82AKVZtraDnmyejl47QSKdBDA2XuEIsgg/T6USnDRjHAPUSi74ygzWrlrOB0VK5OnJKWTKRyR9e43MnREeyBIPWZbCL/OorE+z++TBzBjTj3/+4QJO2nNbLj3lc/z9gh9w2Wlf5KcH7MgPD9qFHx+6O+ccOp3VS5d84HEUsenxSZVg/eIXv2DHHXdkr732IpPJkMlkmDFjBnvuuWfRA1LEB8Lm9UQXsVFQP3EiqViZPufViJfNjXs5Qm9In8pVYKtdCRESCs/3qU2naertNXp8R1RsViMkIa6HSGyfSc8LfR8AGd+ny5KXCt/jzReLRvRPCur7lbK2qdPOMsdIB6YHg2tmp20gK6XH0CFldOfytLT1RqQZQklQ+IbT8QOR7CpPocxLxD6H7u4cxx77D158YSnb7zAIrTVB3jb90wqhJUJZOVbYkNB0CI/Ih8loTNlmAACzXl0ZO2ZMpqPySOXIUZRjgYDhw4wM6+775ppxxzwNmiCMh92YTJZIhKKws07cgcryFD84/xG0Vrwz32QNSzI+HZ05u7m2XhsN0sP0DpQc99lJnPil7Zg8vh6Ap55baj0cCiWEzTIJQ1uMcSP08fgJyT4zR3PVXw7luOO2MrRPqdC/orVChJ3JY+RBYLMeAW5I4Z8dK8NCawj6NAJ0WSsho/WVsnwzbwiLO4A2WR73zPhC01hXxrJ1HSCgoTrDyIHVlGaSsXHZTIjLfkhbIYt4iWCNlJKjdh7JHuNquPCbR/Hem7P5IGjv6qKsIoVI2gxLSkJaQkpAxpKShAcJD5n0qazJsMfY/pw2fQxn7DaCuvYleG88zYTsCg4fXcsXxtRy9MhKGrw8j9109QcaQxGbCbTYeMtmhGQyyd/+9jfefvttbrzxRm6//Xbee+89rrnmGpLJ5H/eQRGfehQJyCcQ0vNo/MxnwtehFEJrpJ8ofI8ou+HeC43oocZaF8i2UqkUFYkka7siWULf7Er4WutQzuVLSV4pIweTMnwN0C+d5rXni0b0TwqaW3upqkpZiX5g/QbxzICyvgFDFgIC8ASDBpSzZl23tQQItLRE2G2m+24fl0x5xLMiyYRHT48JbIcOreGFF5dTXp7ipReXc+o37kcohcQ3gbPdTyR56ptRAUcUttq6PwCvvrqawmpcZl4/CmDdgGMGbAQH7D+a2XNWsXjxOhtYmOBd2iBDhLIkl4X0zPVDUFud4fun7MwTLyzhN1c8z2+vehaQVFemaGrpsYdwUiaXUTFIpXyOOXwCD99xLI/e9UXq+2WiwN1xDjTSBeSxMzCLGY/0PDuTb0RjSoS0x0xcaPv7L6X1i7izj167e1hwc0OpHOa6qCD6N1CFZCSsiBXLmign0zKFBJIJH6SPl/ApzyQoSbk+KM73Yr0oInbNfAlCIaRv3rOkZPr4QRy/80D++P0v8sJD/+Q/YfXSBQyoyph764PwhPGDJH2EJxFJYS+9RkgPITWpmjTVA0pprC7hgMnD2HvCILYZUsPQmlL6l6ZoKEuz67A6nnng7mLj1i0In9QMiMOYMWM46qijOPDAA2lsbNzUwyliC8LmVVi6iI2Gxl2m8fZddwGE5EEIgcpbb4bLXEij/XbZEddwUPoJVN4Eb+s1HRSCTMInrwKaczmqE4n1DOnvW+pXCJTWSKUQvo+nNXmt6V9ZyeMLF2zsy1DEJoDWmnVNzdRWl4J0TetMBiC2lnlPCDR5M/suQeBRX5fhvYXrqK0tpao65dIgNkgUtLf3kCnx8TxHOiLpUbRIqmsyNDV10TCwHE9qhjVW8e7cdcyYMZJLfr+vJcZ5K1cygWcUH+djPwdEDQYFFRUZRo6qZs7sFXR05Glt7WLQoApcBSoRH5O2hEZrXHPCg/Ybzfm/fpp77p/LDtsNYuuJ9aQSriJWXNJl96GiTudLV3QwbHAV40bVcuXNs5g8th5QpFM+gQKtNMKTlgwEUQZK22p3aLTUbLN1PVO2HoCylauEkKYoAMo4bZSK2WBMsC+0+9zBeHk87Cy/il8/0IHp3WyUTlau5QieAhFYaZXwECrvNrKZH3vNdL4PkXJMyZXnFbH3LenSAd1ZRUnSZljiZFDEJ1es3E3aiRbpGRLj2RMPbAbKA4KA8UPr+PYBaS674nxWL13EAceftsGKg11dnSx69w0O238iwpM2CyVB5Y0Uy/PCaycSKUjm0dkEZAOkpxHlKYKeHCIrzbDyPtrPk89BTgvyPV3kcjlSqdR6xy5iM4S2X24bYz+bGZYuXcqdd97J4sWLYyXPDS666KJNNKoithQUCcgnFP3GjKGkro6e1lZUPm/M50RSKSAkGTKRYN7q1Yyoro4Rib6zvxHc9uWpFM3ZLF25HKUxH4kzugPrdVBPJxJktSYtJTqfJ51Mks3nqU4kaOvuRill+0UUsaUim80iyeN5TmMfD9Lce0aApQAtbfBvg9PyijRlFWlWrm5n/sIu+tWVUlqRIJcLWLqsDc+TtLbBoMFVdlfueYkHm4rSkhSrVnaYrIIQjBxZzZAhFVx91aEkEqBCMzyhbEhbI3ihn0NhyAe0tPRyxz/fYvjwama9uoL99r2ef9xxdHhM89/AuEssaRD4mMaGirXrusikU4wYXsXfb3+Ta/86h+cfOcEcR0S/N8L6OaIu7Oa69a/L8Po7q5m/qIVsLmBIQ2V4ZUtLPDq6AsrKhfXXOB9MEAviDRFy0iolNEgfrY1ZXmOVHrFmhYQ/mXspPNPbAKWiPJFSSJd0yRtiGfk8gMAZ6rUhHxg9llAqMpoXeHpEdG+tHyeUa4XrOckXsW0C0B5KKRK+85fYcw+7qetYwsoZ9ePFDCwJ8zUo21/ESgYbqkv47gHj+NODf2XhK49x1Pd+T/9BQ8Nr1NK0lku+exzbjaqlvrYsknh5MZmXEJC3FcB8aQiYJ9AJ470RWpjHzoegK4ur+pUTcP2cJXzxR+cVyceWBOWZZWPsZzPCww8/zMEHH8zw4cN55513mDRpEgsXLkRrzbbbbruph1fEFoBipPcJhZCSYdOm22zG+/FME1y8tXo1v372Od5duy78ROXzYRASSrMsMdBKgZT05vNc9fLLvNvcHFa7cj1AnBekoBoWxgfSk82G+/K0Ce18KUlJj5XLlm3sS1HEx4xUKkVtv/4sWdViPQZOxFNISDTSmLxxATbhOkIIBvQvo3FoJc0tvSxf1s6SJe0MGFDGkCEVBErS2dljA+m+pXijQLKqKs26dZ2A4NgvTOaaqw/GyJONtEdogcTDAzzT4SK2P5PRiJvKq6oytLX18NC/5tPU1ENJSYK6uhIiOZAfU1tFlbBcGF9RnuI7P3iQZcvbefvddTQMKDMZirASVnQGLhti/jV7SCRS/ODUXXj69i+y/dYNtLQ5o79HVUWK5tZOu6qw/gz3OxzYhIFHQICSEiXNvdAib+RS2pnlrRE9DMyjSlzmvCRaByaj6nkooUwndGEzSS4b4TYL26W7cruRJDQcq7DlajUmUI/3DQk1YH3IbFiW11Xfk+F19yTkA2ssDxsfuh05hCme8HkxSj7T50R4pmpVWL1NAklJeWmaMw6azLiqLL/+5pH89dwTuf1Pv+Tqn53EeV/bj50GJzhi2miEsAZ534wJKSyRUZDE+EIE5rxRCN9DlqfM+QcKLwHJygR4Gi+T5K63FzNm4kR2mHkIRWxBcBmQjbFsRjj77LM588wzef3110mn09x2220sWbKE3XbbjaOOOmpTD6+ILQCb1xNdxEbFsOnTgEI5VIH53AYCazs66MzlSCf6EJVYBSzh+1G1K2lmP7uU4rXVa1jc0kKPdrOTURYkrK4Va4qWTqXoDQKyQUBXLkfSk+TsdlWpJG++XKyE9UnA2HHbMO+9ZhOs2lKokR/AFNTNB5rzf/8MCxe124lvhVYuaDSZCc/zGTK4nNLSBMOHV5JOG21+WVmCzk5nXHZZitjsufWEVFdnaG3NoXWeffYeQSadCmfTRcG2Lsi3UikHjZFAKRDKBLPfPHUnZuw7AqU0e+w5jCjSdmZ4WL+Mrzn7ZCrJtVcdwg7bDSKbDRgzspZ4uV3tTOlOdkZEHgRWxoPHxNF1PHbTFzjzqzvg5FqpZIp83l5DHZnDtZTm9146b0jIDIy/JHaqZtiSgr4eBQUATP8WF8YrnTeVbT1MUQoRjjqqnOv+a6uJufMgCEx2R3jGw5HPg7YyKBE7dtz7EY3U7tyZz2WU7RCCspIk7V3ZaNVQxucIhTuvOCmx2YowG2KyNCQEJGJlexPGV7LnpEH85PDJVHQvpmTZM0xKr+KUfcey91aDDLn1fYQvzfefdOMMuOmJuSxc3QaeD74HSXuFhEBIgSyTiJRvO6dLEhUZZi1dy4Ien+MuuIoitiwIJTfasjnhrbfe4vjjjwfA9326u7spKyvj5z//ORdccMEmHl0RWwI2rye6iI2K2pGjKB8wAK1UlAXZAAFp6ekFoKasLCQrwvPAekcQAm09IM4/IjwP3zU5RNDW3RPud71yvzoKZoQlKtfPnsOvn30WT8qw7n1dMsmSd97ZiFegiE2F4SPGsXR5O6EMyJU+DcuyanL5HJf/5WVOOuNusCZsYSUopuqTIbpCSCqr0vbRFfR053jr7VW88MIyCo3tUEhGAoSQVFQmaGnpIfRVFGwTCz5dLKoChPKMSV1LpM2MCBsMC6G55A/7MXRoJXvsMSy2ryAWG5vMiQ5L+0aVsDLpNH/9y2HsvMNgxoyqs6Nwx9eWqrjmfsZfoQMzQy9coA1I6fGFQyfh/BGagIqKFK0djpgJOruzRIG2/d1XyiYfnA8ibg4XaIxcs6U1R0HmI0ppmDEJ4+FQAgJXIldrmtq7Tazvcjm2t0bovVABqFgJZOtxCfKKVetaKayAJaLvD6Ujn4nzFVnp2MvvriQfKJyvI9DaPi+WwEgvyqzE+MvCVa08/cZKCrqyu0yICMD3EJ6PSPiIZMKqtgQkJK8sbaY047P/1OHMmDKU7cfUM7iunMi8jiFZYVEAQWtXL8ed/wC/u31O9OwJCb6TaWmE7+GVp8z3bqBo6enhlteWc9L5fyKVTlPEFgYtNlIGZH2/0aZEaWkpvb0mdhg4cCDvvfde+NnatWs31bCK2IJQJCCfcAybPh0wkqqwNwgRwUBKdhk6hLN23pkSKcOsRbwzelzCFc+glCQS/HC3Xdl5yGA8Ab1OR9+nh4iy/UIcUr7PLoMG8qWttw6PJRMJajIZ3n3xhY/qUhTxMaKsYjDZvGcM5kAUBFtoyKR8Lr1wf87/6R6WpDjJUmCkWS5edqVeMUVxv3nafRx55K2ceda/UCof+hnW779hAua62gxNTd0h0b388hc4+uhbyfUG1rtgTNBSg9S+DZvjTQAjOdDJJ93NL899gsrKNH++9lCmbjeQsBKWdqfhgtnI2/DUMwvZY59rWbS4BU2eknSCm649nL12a0Ro+7sYZgjctoZMfffnD3HUibfbaxBRhZCghOcKZaUZOrt6QHjMW9jE1BnX8Pc737bXMSCQNhMiwZywzXYIbTOV5jx/8fMnOHDmDZa4QRScu1FYuZbneoaA8gXvLlzHNjOu5uqbZ5nzUAqU84N4UTbJeTmUDsf+7T88yU4n/o33lrZYoiDM54E2pCXMhBT6U9Y2d7DHWbcz+Ws3smhVG2hFKpEgl7ekK5wAif0rPBAe1zz4Nsf/5kF6e+NEzUm54pkoZa5XWoIHi1a3ceT599OmFKQFJL3I3+H2r5XNOgXm3wRUVJXx6MVHcOJBk81+fW10qKlUtL0Gkh6yKgFS8vKideyw884MGTORIrY8iMDfaMvmhJ122omnn34agAMOOIAzzzyTX/7yl5xwwgnstNNOm3h0RWwJKBKQTzgap00PCYTK5XBlcV3Qj1JUpVJs3TAAKUTYXDCOeAWsePleT0rG1dZSm8lQmUrR3qdDelxtjVLIRAIdBJSkUvQrK6OxshLheXieR29PDxXJJGuamjb6NSji40c6XU5Pd7f1L1gNvQht56FB+aB9xjBlcoOVXQlbxtXJYGyYK9zaGqUUZWVJPnfMZO6951ikdMGo82usT0aEEAxoqGDFijbA49FHF7JocSupZMqUvsV1znaVruISHS/2Myxa2MILLywHJBMm1uH7iYLPRTiO2O+Q1pRkErz2xmqef26FLfsLFWUZRgyrNmRH2H4jIuZ9sBmV6so0Dzw+n5dfW2WIQijRcn6VyLeSTnn0ZgNy2RxDBlZSX1fKt3/0AIuWuWyUDbKtDElbQ7YCk9Gw57zrbkNZtLCFb3ztHvJ555GIS5+MtE6hLCkyHpChgyuZNK6e03/xEA8/856VYZnjOaN72P+jILsCn9trHC0dPex26i28s6DJkJUwMyEJ+8G46lX2GtdWZLj823tRkkqwYGUbIGx5W4lypXl1LPPlfCE64KzDp/DQ+YeSSrr7KKPLH8q2XEUwbcbuewwZWMkzvzuKqsoMwk/YYl4eJCVkfOvxSEEmASnfEhQfIRTTtx7C+JH9IJ2AhDRGdPJm25SAtCnLi/Twq1Isaull7G4HUcSWCaHlRls2J1x00UXsuOOOAPzsZz9jn3324W9/+xuNjY1cfXWxV00R/xmb1xNdxEZHdWMj5Q0NUYPAGN63VG7o3XAmUL2ekT00pNt9+FISZLOR4dz6QFwTQ2dQl75PUghy+XxIhNKpFDlLhNY1N2+sUy9iE6KkrJKuriw4M3NIOUwwG/qKrclauF4YVnwltPEySDcj7BwbnuR3F8/km9/cjpEja+zRLMHBredIgHvPo7QkSTYXkMtlefGl5ey80xAiv4ZD3wpwfcmEZODAclau6CDMesQJT0GSIAhlSALN1pMGkkn7vPDyUgwBs5meAqJi5EFh93Xj6uakL25HWWmSX//xmdi44v86b42Zda+vLWfNuk6SKZ+rLzqAQGmOP+Wf5Hpy4fGUDlCu9K7AVmty+wvYbfdGfnbuHjz+2CJ+cc5jfa4LOC8IUhL4AiUUgdYkU5JrLz2EEUOq+Nzpd/D24ibyASxc3hJt6zqdC1ueVitQmp0n1PPQRUegtea2J+YS+TrcsfuY0IW5BkLA5/YYw8t/PIbdtx4cykxLMz5dveYZLDSjR7uoKE0yrH9lbLeRfyZ6pLxIxqUVeAIvlaChvgx832QwkgKSEpH0EL5Z8JTJakjbud0DEphMimcOoIVAJ310Omk/T1iyIhAqgIRkaVsbA0YXsx9bLJTYeMsmxiWXXEJPj8mK+r7P5MmTASgpKeGyyy5jzpw53H777cV+IEV8IBQJyKcAw6ZP36D5XNteHFAorYrco9F7Kp9HWMKAlJEhPUZsfM83JVh9P6x2E3pGNlBa1zXT8rUmGwSkfJ98Pk9nZ+fGOfEiNhnq6wfT1KIp6N8QwsmM7KKidZxvIHzyhKvmBE5Slc0qQ0zCWXAVWsrtRrFjRj0kKspTvPjSCjo6suy4w6DYOiLcT0RmROx1lGVoaChj5coO+ztU6BuJup+7czCvBR6JBEyZMoAXX1oeC6gB67dwGZ9cFtas6aSltRdXRaumKsVJx23DXf+ax6w3V1nJmRdtS0zyJTzKy3y6e/IEgWL0iBp+/8sZvDJnJT867wm0VGjPNtkjnknQ9jq6sQhO+OrWfP7YSVzxp5e5/da3YvcgTvA02votREKiPElVTYrbrjoS35McdsptXHXrq9z35IJIlhS/S64/ii1zO3XsABbcfALf/dx29vZY70g4zvj3lIr2F/p6LKERPmUlKTp68hQ8e84XEveYuG3C58F+5krousyLsJfaStasYckYyROe7e9hs1MJaapc+aaZpk6YMrt4EpI+WipUQqCT0r4nUBmJtkSGEs9kSIRmh1H9ufH8M0K9fRFbFj5JGZAzzjiDtrY2AIYPH86aNWs28YiK2JKx6Z/oIj5yDNtlWgGZKIAlG44MOJ+I8LyC5oQA2r6P6xViJVuOhPi+R6B1we77Nupy5X1Tvk+vzZ4khCBv16tKpVn07rsf8oyL2NRIp9MIoenucTPYkYFZE4RKl5BquCyHVigCo8ISwihuwpjVPFsrVnQwoH8FwjWrAxAaLZyZOv4MRrr/qqoMTz+zBIDtt2+wVZsckYmTDTdeO6bw2JKBDWVkswFNq3sQKrC+Ea9P+V5rBgmPbGROO0wdyFvvrKWtPW/HKe0RzLb5QLBoaROplE97R5Z1zd2h5+PUE3agrDTBeX941u7V9Qnx7c9mnK5iViqdIpc35XU/e8hETvjCFK649hXuvHsukKe9rQdtzeeBDKwEy10L868QHr88fy+mbtfAWd9+kNdfW80tf3uDkJAJI9tyV08DWhk527ARVfzt0sNYuaaT3177Is/OXmaIpsYG9qZhIK4PiLJmbSFIJjx8T1pi6sXIherzPWbvn5BEDQtd9iJviJGT6GlnRvetxNRlOhxJjt3vUHHm1nHG9wCEX7he6A+RJhOSNhIqfGGyGx6GjNhyvlr4RrSWSICtOqiFQFsypBNe1IelxIe85qCpQ+jvtXLV9z9fIIEtYsuA0BupCtZmQEAGDhzIbbfdxqJFi9Bas3TpUhYvXrzBpYgi/hM2/RNdxEeOikGDqBoyBCCUPbleHaEXxBGReN8OrcPyu6KvLItIquXgS0mgVGEPkT6GdDeGtO/TkzMEx5MSZY9fJiVzZ836CK5CER83qqtSNDV3E8mwZDSBDrgZdPNk2GyIENgIzBqVNVImwmAxlzUz7+mMF83Wi3gJXbffuJDfHND3BW++uYaqyhQjRlQTRZpxz4eI/QxRcG/ISf8BlQCsXt3uRGGs7/mQLhpHaA9ppVXbTx2MUppXZ7teN3EvB6xr6qBfXSmVlRmGDCqjqytg1RpznNrqNCcdN5W7H5rL7LeiWcdCk7/Nunjg+4ps3r2vOe/He7HVxHq+ddZ9PP/aCi74w3P0JgOySZ/Aj5EwEZeVaVIpjyuuOZDy8hRf/fKd/PLcJ1iyuLXwRvsaLQVKQt4TBAKWLG/nwsufo7snz6LlbTw/Z3lUxEda8oEzbTufhrKlee2zIAWR38MNyV1rl8EgJpkKovfAZM6cfygs7Wz7xog+z0h4H/qQjoLqWBLyOXAd3KV9nh1x9e1+3Hedh81iuetq9+sBwpJnz7OkMUAnfLTQKKnMzwkBdSlEOsUXdhvN6qULmf/WHIrYsiADf6Mt/w3OO+88tt9+e8rLy6mvr+fQQw/lnT5VJletWsWXvvQlBg4cSElJCTNnzmTu3Lnvu88f/ehHnH766YwYMQIhBNtvvz3Dhw8vWIYNG8bw4cP/p2tVxKcLRQLyKcGw6buCEKYalu+D1mH2Im5Oh0KysF4G4318IwCeF2VA+pKTgjnpXI5MKkVPtreACAnPpyzhs+TffAEWseWgvv9wmpq7CrIBBk5+FfduRB4OaTMGGqw0Jx9+kvATltRa34OGqFO2jO0zvl9FEBhz9bx5TYwdV2ef6zhJIba+24cX+9wQqPp6UwZ19eru2PpQSFQCm5mI5GMCyXbb9gfgpVdW2E2t50MpUJKu7jzlpQmcEXzIoDI8X7J4WQcIOPXL21NakuC8PzwVk0rFxy/t8SQVZSnaW7tt7z5JMi245o+HoDV856wHeerxRXasRqKkpRd6cvrerbbWXj57zERSKZ/VqzqZPWsVhb/Rrm9IAJ5GS01DYwW3XHE41//uEHaY3MD8pS2saemyMiVtY/G4NMq3GveoYEF0S1wAb4mEI0uOnEjPVpty18ILr7kKXEWqPs+ZlLFt4tkQOxbR53ObnQtfKixZip5bcz4i2pfN3Ggnj3PH9FxWR6N1YEzoidg6nrQd6q2sK+MhNUwf38ATtxfNvVsahPVzbYzlv8Hjjz/OKaecwnPPPce//vUv8vk8M2bMCCXOWmsOPfRQ5s+fzx133MGrr75KY2Mje++99/vKoL/+9a+zdu1aZs+ejdaaf/3rX7zyyisFy6uvvsorr7zyoa9bEZ98bF513Yr4yNC4y2eYdeMNqHw+zEq8L+J+kVgGQ0OYFdH5fNQh3X4mg4C8Xd8RHWVlIM6s7iReOgiML8QSoWQiQW+2lzLfZ/WKFRv79IvYBKitG8y65ncwMhptu56DCcli5nQhQShcOV0TNNuysEFggrEwQaJtUz6X9QjsvoxXoNAv4oiI4IYbX2PYsBrmzmviC5+fbNeJvBSFJEQR945EkPSvLwVg9eoOCrMfkU9EhIE9mM7oAShNv9pShg2t5KWXl1tzulvXjF1phedZw7Kdga+rLmFVtoOmpix1NWlOOm5bfnv587z29lq2GlcXSZkA1zxQK0WmJEnX6g6c56GzJ+CmW16joX8Z7761Dq01bR29lJb7aGFIXkI5cqCt28JOJkjJ6lVdLJjfAsCc2as48OAxsfMGLYWx1CuBZ6+5TEgOO2AcR+w7mueeX0pbV47+lXlDNKRvqlzZ44XVudbLXNl7Y30dUUYkljkJ73cQIxKCTDrBmtYu5i1rAq3IpFP0q0yT9J2vQ8dunYztzrFfJ89yP9uV44Z2ZfehrQzLZfHQZh3nfZPuiqrC/RRkneyzYMskq1yA8CVUetDrs+Okgdxzw+M8fd8t7LzvEcgN+OqK2PwglNgoTQTFf2lCv//++wte//nPf6a+vp6XX36ZXXfdlblz5/Lcc8/x+uuvM3GiKXJw2WWXUV9fz0033cRXv/rVDe63vLyc8ePHc8011zB+/HgaGhr+txMq4lOP4jfYpwRl9f2pHT0aIGwkCBSYw0Nz+gayHHHtsbY9RcIMipVc+S4DYrXcYbbFGtKlk3PZY/pCkLX7TUhJLggoTSZZtWzZescvYstDff9+rF7TAdjg2On1RazTts2OaKejd4tw5nJDcGWo79exDIgoWCLyAX2D2YaGco7/8j8YM7qGVas6uOT/XrSfx8v2xrdx5AQiQpKnX78SAFav7qSQfMQhomBWBQglaWruYtmyDrbZegAvv7rCzHy7ponCBLcCYhWwTBAs8Onfr4zm1k6y2YDTTtjJZEEufZpnXlrKy3OWOZqAm3V3krZ00iObs9LGtMcpJ27P54+eRF2/EoJA8/Kc5aaClRegpLQE0OzD+GnMfkePqeH3l+7LMy+cwPFf3pp33mkiygq562OunfY9Ak+Ql3mULeurpeAz2w9lxMha43WwJXk1WPIRz1DYAN35Q2KSKtN00BGBvoQxRmbt+UuhGdZQzaghNYwaUk1VaYJlaztZsLKN3qwliMJmT8KEmM2siL7mduy18XFVu1wvEUNGHOkA8n0yI85z4q6XciWBHbFWIQkPMzoCSESERVSnKUun+NaBk3nhH5dyzgn78tydV9PV1UURmzekkhtt+TBobTXSyZqaGoCwqEE61tzS8zySySRPPfXUv92X53mcdNJJYUWsIor4X1AkIJ8iDJs2Lfx5Q1WpXLYjzGzES+q6TIjtjO6IRGhCt9Vq3M/h/uNSij5yrrTv02v3m0wkyClFWTLJuuamjXbORWw6jBq3D4uX9RB16rZBqpv1FWDkO1ZCpaMsQghBLAg0enxhAzrTsVuH+9PhrHnM0wCAYvKkAXR15Xj7nXW0tPay7759Ncqqz79uVtod25xDZWUpvi9Zt64ntr4Xjl9oU+nJuDH88Hza23uprEwxZlQt65q6eeOtNdxz/zs2dvcMedLSxsH2989mUoSQDGkoZ+mKNupqknz9C9tyzyNz+cLpdxIowmOY6xRNHqRSPp3dveF1qaxMcdrJO/Hkq1/jN1fNpL0ti/sToG1Hc/DQwgX6hb+vg4dUcN6Fe/GHP+6/wc9dxsmU5xXkk4LAh7wEoazsSojwFhnVXCybEH4/iOgWhBWwBAVm9DicPMt5RkSMFOroepRmfIYPKKOhtpzlTZ0sWdNJPu8yKoqw34f9jjN+JLs/Rxi0JS5OnuUquEmvT2bE3r8ggHweU1XBt9kNs55GR1mTeGWu0B8j0ZYcqRSoCsnQ/lWcvv94jtm5P6/+6wZ+cPyeXHz6wdx7/YW8OevZYgXBzRAbW4LV1tZWsHyQ6mhaa8444wymTZvGpEmTABg3bhyNjY2cffbZNDc3k81mOf/881m5ciUrPoAKYfLkycyfP//DXZwiPtUoEpBPEYbu/Bmc58IZy8NKV9YX4spOFnRBj2UwQukUEYlxpnYpRFhNyyGeTQlJjN0u7fv0WiN60vPIBQElvk93T896+yliy8PgISNZsbbDzMJbIhHKrGzg7siDEAK0qXwkYmREaEAFlqTYYNGZ1ENdlhd9VtBzRIb/NjSUUFdXwvjxddxw/eFUVqZpa+uxn7vsioxt616751fwzjvrePPNVdTWZlixoo1f/PJJ2ttzoANMB3Nw5WmFlWcJOyMfBJrb/vkWLa091NRk+OLX7mDlyg7T+0Q7KZZ75u0MuI6kQKmUT2lpmvP/8AxX3zwL35OsWtNpGtbZI2sdhL4ZjaK8Ik17e9ZcopiEqBTBwZ+dwIyDR6Gw/UBQ5IUgEHkC22BQOXIX/pkwTSXLy13TvhhsdkujYgV67a1KSIKkRHnKLMpku4QgkigJGWUNhM00QIwMuFvjSIrLjsSzIVa+FPeMAGETQiFAeqSTkuEDKqguSzB/RTNdPTlLMAoqJBCmseLV1tw+QzmYG462mQ+3mTsfESMrOSIPS5x4uKNFHea1zRzhC1Ou15NQlkQPSKGqkowdUsVJB2zFhcdvyz5bVZJd+jQPXPtTfvjV3Xj56ULpTRGbFjLvbbQFYMiQIVRWVobLeeed9x/H8M1vfpM5c+Zw0003he8lEgluu+023n33XWpqaigpKeGxxx5jv/32w9tA37C++OUvf8lZZ53F3XffzYoVK9YjRkUU8Z9Q9IB8ilBSU0P/iRNZ9frrYfYCDPl4cfESRvWro9KW3BVuHvbfZDDikDEyA4T7d3KvAlmXK/krBEGQB1KQz6O0xksmSeTzrFu7ln719Rvr1IvYBPB9H29gLQubexjevwxfu4Dcmq/X09cHsRnhwupH7qdcTtugOzJ3o3VszYjkREE3gGT//UZx1hm7UFmRpLw8yYIFzfi+pKQkQaHnY0O+EM2wYTXsvsefSaV8nnhyMXvuOZzy8oQtjxlvSBiE5MGVpZVCcviBY9j7kBdpauqmqambCWPqYsRDRyepAqIeIi6bI6mvTXPEARPYfspAvnLWPfT0dpkRilgfFGl9C8IjnYJcLrBKJjseIUgoD0Ee8NHCVYUCbX9PjZNG4wthT8OJseJZpb6w10AAntleaYGnNObQCqRAewKZ0OicQtjxiDjBcNfAZRq0jt0GFQXwmig7Et78WOYk9IRA3CcTcRVBWSZFY/8EK5s6acyko2PErSX02d5K1Ahy9lii8HNnFFb2+ZEAviXRQC5nmg2GXd1llA1CEzYtDLMy1rgeBCgJEg8yApIJdGeWRDLJxGE1TBxTj/YlS9a284erzmPkhO2oqq57n3tVxMeJjdXDw+1jyZIlVFRUhO+nUql/u92pp57KnXfeyRNPPMHgwYMLPps6dSqzZs2itbWVbDZLv3792HHHHdluu+3+43hmzpwJwMEHH7xenzEhBMG/KVhTRBFQJCCfOgybNp1Vr79eQCY6czl+/+KLHDpuHIePHQNEQccGMxjWdK6CgMcWLqInyLP/2LHve0ytjP7fZVRUENCdy9mKOBhTu50VDbJZyktKWbN8eZGAfAJQMXQs/0TwuXSKwd1Or266aIsCeVMUaGrif7ik/b/JmEiysUfXeUncrLTtAxIGkIWSpAvPn4HwTGAqhWDYsEoWLWpn4MBSjAzare+2KSQkqZTg/PP24rNH3wrAccduHZ6PHTiGNPgxEmEM94mEoKQkzY1XHsreh9xIWWmSAf3LCIIAT5oMjBSYgLQg0I+M2EII6mrSlJXW8ewdX+L40+9ExBrwibCzukKoACUFFeVpWju6qajOmP1KQ8yklgQib4ft/DYBeWmnHjRopW32xGQGXD+TmGuMiDXEo3ZtztrXKOWhtUYnNQnTW9F8lkyiVR6hAyPZQllu0SdQc9mMuDzP+SW0JZhhcYN4RiGesdDr788zmd5UUpDL5wnyeTzPPUdObuU2j3k8Co6HIRz5vOnzEUrFBM7XIbRGB3mb5XOPiPX9uCyNG1OBBC3midHSJkwEOquQQqL9AF2TtMox46nB1wzuX8buU+q59uKzOO2cP69XxbCIjx9CCeRG6GLuTOgVFRUFBOT9oLXm1FNP5R//+AePPfbYvy2NW1lZCcDcuXN56aWXOPfcc//j/h999NEPOPIiitgwihKsTxmG7rwzQsqCP0zz1q0DYGR11XrrO2JQALet1jw4fz4vLl8eGs6dHMsZ08MeI9YXovJ50Jo/z3mNi595Ft/3yWWzoBSJRIJAa9IJnzVLl35Ul6CIjxFD6gYzct5KBnf3WsKhLGnQ5PMBPzn/EV6evcLM4FsJTxQu2rKygc2Y6Dyr13ZTV1uCmTuJBZthnwcVyr0Kg2JpswARqfA8yZAhFSxb1oZSNnOwXgNCR0pMoL/bbo0cfNBYxoyuYacdBxJ5P4znw4SU8dlyM4Zczhilx46q5U8XHchunxlKbXUpy1e0Y6phGR9UNpstuH46HJPZZ3VlCb29AeVlCe67/vOMG1kVHQvz+2oa2wkQmsqKJK1tOaJZdUPSElmQWlpdufWPSGkDY432pG2O565FQGH2I+61ofAzu51GoIQ1dAuB9iFIYtukOL+ItE36iO3HZgJM6sje07gkJGYQLwja+3qHiCpUCVfYwD0nhvRqHVBRmqI9G8Q2dCS2TzYk5i1RSjNnQRP3vbioIKtCkDeLKpQDOrmgEHD3E/PZ5Ut/paWjK5SuhddY26aMBdIyI4PLB4rOIE+Q1OAnooINvrLNDkEnPfbZdTjdbQt49J+/o4hND6GFrYT1IZf/sgzvKaecwg033MBf//pXysvLWblyJStXrqS7uztc55ZbbuGxxx4LS/Hus88+HHroocyYMeM/7n+33Xb7t0sRRfwnFAnIpwzpykoGbLX1enKqUdXVjKyqCslGWKpXCFAq8n+4viHCmIGHVFayVX1/sORC9CUc8SaGMV3poIoK+peW4kuPwB7LA3KBIgWsWb78o74URXwMGNLQyKJlnXRJH6WdNMoacWXAbXe8xS13vmXKjqLCHnSFDeWM/EBpTXd3jrKyFEGQ4+o/z6K9rddkHHQh2TAm35inIianeuONNTz11HyCwGQm+vUrY/XqLgorWsV8BYAjAE89tYRjvzCJb5y0fRjjmlC7j2ldYAJSDZ2dPbS1ZbnvgXl0d+c5cMZIfvXDvaiuTJJJ+yxY3E5Xd45kwiObVdEx7TWY/eYKHnh8Ps6rMmRgFStWd6BUnpKSJJGHxflQJAJNLq+56sZZNK3rIAgMSVM6jxYS3x5GFIxdhcK2t15fxQ1/mYUIA3sXzcdUUmGKIEIuF3Dxb59lXVMXCFASAmHKBZhbYbt9+6ZxIfYyIQTPv7uW3986y3znOAmWkzEJl2XxYs+GrbIl4ICz/8m5N7zIulZbHCD0gWBN346EuNGbz/7y4NtMPeVmvnTBg9z7wkJjJneNCN0x4hkRd555zfbfvJmTL3mE1s7e2GMjws2cB8QY8K1HRMFN979Ja0ePoauBfT/IW2YW84wUZHEUy9Z0Mu24vxqrlO+um5XfCQ+kj9YK4Uu+cOgk7r33n+sR2iI+fshAbrTlv8Ef//hHWltb2X333WloaAiXv/3tb+E6K1as4LjjjmPcuHGcdtppHHfccQU+kX+HJ5544t8uRRTxn1CUYH0KMWz6dFbMngUY/8fkujq22mN30KbEadi/AwoyFwVeDq3RWnPyDtsbYuJ6gWhQWiMtQSnwfsSCxEPHjUUHAZ1KkQ8CUphSvPkgIC1EMQPyCcHOo6fzf/+4iZqakRy38k37jWMIgud7PHL3sVRVloShr0GcCBDq5H1kWJ72gQfmcfYPHqaiPMVRR44P5U46NP8SBuMFmQ3hceNfX+eGG2Yz/73TAElFRZqmpi6yWUUy2fcMnAnbBMDfOPke9th9GP/3+5n2c+f5cKs4kuU8HB7NLT289c5qTj7jfh6544tM3bo/tbUZAOpqSygvy7OuqZfVa9oZ1L+citJk7BoIzvz5wyxf1cHrD48wfeo8zZCBFSxZ0cGIIZWx84syLxp44+3VnH3uI3zhyMmcO2p3KipTCOuR8ZQhHsZKYQmGlQ4prbn8dy9xz23vMGJkNbtMGxJ5VYSHJt7TJVIqCeCdt5u5+DfP8uLzS7nhpiNMcWEJOgGBlgil8W0DRpIJI1+yyZVLb32FG+5/i9auLD/+4vZGXhbPfjg5lHtt/R2tHd305gJ++udnOe/GF7j1p/uz/84jom21tkG9CkmBu2H11SVMaKzl5XdXcUtZkv13GIYrxIHNyhWYze22qVSCG7+/L9uPH0BlaZowW6LBNRMk0CDy9uJYf5OWXP3DfckFecozaUuUHS8StjxzwrzhGjVa30tjQyVX/HxfhEyYMXmgPVcW2JJfmzgZUFfKqMHlPPmvv7LXAV/q+1AX8TFCbiQJ1n+7D10wKbNhnHbaaZx22mn/03h233339d6LKyuKHpAi/hOKGZBPIYbsuGPY9TxOLOLkQyZilW7sl0q8dK/bPlrFrJOUgu4YeYljQ13UPa3DDIgvjcwg4/usWVYkIJ8E1Nf2o7q3mwPenkMqgLDfhgbQ1Pcrx0+64Nd97iDp7Mrzxtur6OwyM9vCyoau+cts6mozHHLwGLuukRcJa9wWfWbmw9K/OuDdd9cycmQNvh89z3V1JTQ3d4THjXp/QFy+VFGRpLW1NzqkVqA9U2xBm+K7LmvgKmH19gZsu9UgAF57Y1WMrBgfTDqVYFBDKRPG1FFZUWKPKcJr9MUjJ7NoaSuPPbsQ95WdTqUoKfFY15INz09DWAELKZkyqT/HfnYrbrr9dea8vsZev8AkKKWPDAxxkWB/x8010gJ+ctEeDBxSzqkn3suaNV2GdIQnrULGoUX0LkgmTq7jRz+dzmOPLuIPl7wQXjkjCwvAE+R9UJ7NxgB4Eu17XH72vhy552h+dvWzHH/eQ3R2u+tsTf1hEiaIlb2FqrIUD110BC/86XMcsesoqioyhL00nNlb2CyYKwNsy9vuM3UYV56xJ0v+9jX+/L197fuyz/aOvMafKcWR00fSWF9BRL/cOpY8KB1eLgIQyhCFjC+oKE0Z0hDY8gHSjyXbcrZQh9tvVIlsu4kNJjsUlga2z7Xvm9kfEY1l312G8MAdV5PL5Shi02GjyK/ssjmhubm5YFm9ejX3338/22+/PQ8++OCmHl4RWwCKBORTiFRZGQOnbBOSjA01I4xXtIp9GP3c19xoX6c9L2wuGO+U7rYXlri4zySQt5WyfCCHpiSZZNWixR/mFIvYTCCEYNrAalYsXGdm0UNDLxR+/bj3gthnioRvTMy9vUboBJq/3fIaTzy5iK9/bSrJZIIoQ6E2sD+nwScM8ObObWL06Br7mfGSlJYm6ex0Y3PkI25CB7SioiJNS0uP9Xx4oT1bhMeKTPGagJ7ugFTSZ1RjFemUz2tvrjL0SMSlT2bbVNonnXK/Ky6T4nH4fmMpLUlw4z/eiE4CTf+6UtOgMG9n111wHvNm/OSsXclkEvzywidQWoP0UB5oESC1k27FLo4lFxXVJfzuugNobe7h1BPvRWk33g3AejGU5UxfOXFb9t1/JBee/zRPP7vIkhrtFGnmTkmNTgi0FKbpoVakUpKbfnko3ztue/764FtcdOus2EFUFHS7rIZWxDuobzduINf/cCafmTTIZkr8mJIuKOAJRn/mEyhTkMCQHEdUFBHJcj/bSldSxkiKjNYNDejWa6JV4eMt7fPh+osoHXsmvbAyYKhAVPaYYbKmT1W2ApmY2VHIazGVzAYNKGdQfYZnHv37hu9bER8LNnYfkM0F8VLAlZWV1NXVsc8++3DhhRfy3e9+d1MPr4gtAEUC8inFsOnTIkKh9PoruKaCMagNVMSKrw9GRpW1M26m6lUiNKQLKdE244JSCN8n4fvktUYHAZ7NxKQ9j66idvkTgwkTd2f+0lZT4EhBGKytV71I9nkNyaSgsryE8tKoc3QuBwcdOIZTvrEdhcRDEvkh1jdHCwTdXYqVKzsYMaLarmOIthCSRELQ2xustx06MJkXoKoyRWtrTyRJins+XNZCaYSSSCXI9waUJBIkfJ/xY+t44+01fc7TXg+7Tfx9l0EpK81w6L5juPPBubR19IbnKIRHQ/9SVq7tLhiLsPJIhEe/fmm+c+rOvPDych58ZCFRZgZ8pWyc7TqRxxs+KiZvO5Czz92Vp59YzGW/fwGNYvmy1ti4nbcm3swPhBRcdMm+DBlawckn3svKVW0gNMqTBF6A8jQCbTMRVq5kdyVlwK9O2Z1ZN3yRk4/cBu17pmIVRLIobTVbUkSZCkSUGQjvXWAzHrHtC8zsAelUgq5sPrxeUbneWMbE8wk7oxcUPohnPpyRPu4ViXwz7vjC9QoJrE8OgVBBmB0xsCQmyBOyuvA6u2uuo0M4Eiaij7UtJDBzt+Hcc9sfi16QTYhPagbk/dCvXz/eeeedTT2MIrYAFAnIpxSDt98hzICoYAPZDgozI0BEWKy3o6DqlSUnnjWhC2nKSqp8LuyOrmNmdun7hoxoHZXj9TyEEKR8n46uLor4ZGDMhF1YsLgJEEbwUzCbHgumwiC60A8yZEgZWsPatZ0EARz3hUn8+YpDSCZispVwX/EMSqT1d/tftLgJgGGN1fTNwJSWJujuzvZ53wslVQDV1SU0NUdVZFDGWGw6oAdWgqWRaITQpBIJerOmCtWkcf144501aGUNx+uNNUbIRCSr0gR8/vBJdHXn+Of978S2g9ISY1ppae81M9+CWDBsgt0TvzyVQQ3l/PTnj5LN5XFduAWeTVwGfXqZuEBXcdzXtmbvmSP57fnPcOc/3uHSS16MXc/4tS38rqisSHPF1QfR1tbLySffS3d3wN9vfQ2BQPseQQJrQrcz+X7SGNSl8ahMHFlPTWUKpEY7kiEA8rHs6wZIR98mhGhCM7rLdEBIMIQUVJenWdfeW0hWwm0tKXH9OOLPlY5nPkRsXM5zIqJhxNIvwjV8deO1eTThTOkqiPiFa4IoPEwKyXWpj11687TZ3dvqZdY3MmxwNSOGVPHAHZdTxKaBzG+8ZXPCnDlzCpbZs2dz//33841vfIOtt956Uw+viC0ARQLyKUUik2HQ1KnRG/YPqA6MzCDeLd2QDPOeq4rljOnxMrvOPyI8q4mPd0q3CI1xcQmXe09rkp6HLwRdvb0fyERXxOaPIY1jWLWuh97eXCxzZiQw8WA6kj2tH9QuXNxCMpFk5IgqnORKOD9JONMc31f82TFdrp94ciFLl7YBMHRoJVHAb8aRSiXp6MgSBdZmnzqKIqmpTtPc3GMIt4q7TaKgPT72VCZhsyqCieP60daeZfGyNkRBha5YxSYgJGKuV4SA6Ts2MrihnJvvfCs8O41CC4+BDaWsXtdlJFZ9MjMCSKYkZ53+Gea918R1f32dfD5g+YouIEAqPzqmjl9zI1lSnuTnv92TyqoUF134DPPnNcWut4jJfgrLJwNMnlzPOT/fg6efXsLXv34n9z/0ngmObalk5UvyCVsyWOXRwgs9JYYoeGHgrz1HQlywH5n0sZ6X9cgDxORQcYIQy75pRW1Fmu5snnnLmpi3rIWFqztpae8yqignfYrLs9bLfMSJmCbq7h7XfBUSEhH3ljg5WQj7HWuJicmY5KPHUvjWY2LvcwFJcdkQEe730L1H8si9NzD3rVco4uPHJzUDMmXKFLbZZhumTJkS/rz//vuTzWa5+uqrN/XwitgCUKyC9SlG4y67sPjZZxGubwcm66GVsgVmDPmQnocKAiOBdhWy7B/zAimWEAWkIV4Fa71u6PH1MJWzCAJTCUspJJre3l7S6TRFbNnwPI+hQ4ezcGkzo0bW2nclqDy2zyBqvbmQKMDMB4J02qeyMmF92dYsjZsSdMGcIyQb8oNonnhiMY89sYi62hJuvfUNFi5s4vOfn4yRYXmUlkJbm6ClJUtVVQKbhqC9rZumdT0MHlhJXW2GbDagszNLRVkJUQUq6zS2JMp0QPcQNoAVaCaPN401X39rNcMGV5ttwkC40PsS94YASCk4+uAJXHTF8yxd2U5VZYbSEkOcpBT0qy1jxaoOBjVUWn+78zx4aBkwc8Zwrr2xP7/+zTOsWt3O5Cn9GdAwGk8FBBKkkLZUroqNAVatbudnZz7MurXdrFvbTS4bBf06Gp7ZRmubWTGEoGltFyWlCaZObeCll1dQXZVGS40S2lQG0pjvHl+YYlFCGUrjeaYJog5sJSxLSqU0QbedBAkD7pjHzDXsi1R4cSIa83KEla7MtR3Sv9LuQ5HLB7R0ZJm3oo3hDWUkfM8E/TqI7TOW+XD/hmPpK+eKbRMSTW2kco5gCPP9JxzJwk7cSK+gAjHCQwc5hDDeKFQehIfAyFjxbO8cHRY+proyxXGHTeSK353OpK134cjjf0hpaRlFfDwQEFV//pD72ZywYMGCgtdSSvr161f8m13EB0YxA/IpxqBtp+IlkmHWAmC9poP08X70MZb3JRWuBG9f9JVzxffpW9KB1vi+T15pSvwETWvX/s/nVsTmhVGjJ7JgcYuVqEfldHHCdR0PugulUT09vaSSPq7PhdAyZtoVgA0Ow2Z5bobeLXlAcfBBY5gzZxVr13Xx5ptr+OxRk2LHMkRhQP8y2tq6WL60ExXkDXVQgp6ePPMXrKOqylSpWr2mizC4VdpMwmtDOKSVbbksR9L3yGYDJo0fAMBrb60BFPm8CYKdv2T96lvRuEBx9CET0Rquu3UOZ57zr3DsGqisSBAgaOnoRnvCBuJmf0JLFi1u5dCDx5LJ+Fx66Uu0tPaCNEFw6GeJT+QD4FE/oIzLbz6M6289nPET+7FsaRu5XK4P+XC3KiYtQlFTk6aiIkUup2hq6mbBwha6O43USXumP4gJyhUkPVMNC+NfCG+LttdDCjQaLaMAHreedE0UYwNyyQetbKYtdn2ddwRBZGq3z42QJHyPflWlDO1fyoKVnbR35+3zZY3nwh2T6HnTKvosXro3TILo2AsrsXMVuizREpbwusabLnAVuHtpJWQKUIGRZ4U8e0NSOHdNJBNH1/Hjk7cj0fsmP/3WDOa88jhFfDwQauMtmxMaGxsLliFDhhTJRxH/FYoE5FMMP5ViyI47FLynN1T9CtYruxv/Yy9jla3iBGQ9o3rBgaJIx8dagaUkIQR5AX6QZ9WSJR/4XIrYvNE4cgrLVnZiMh9G928V8UC8IhAUVBVya2gdBYHO7Iwpeyu1IyIi+jxc3B4EW23VQGNjJSUZn8v+sB8J3/ZQCHVEGik8GodUUlHhs2hhC729isqqJMMbqxECsllTYGHBgmZeeXUZ+RwItKUcAWFlK2GnrAWUZnyWLGsjnYTBDeXMem0VJ33nPnqzvVHAWoC+REzz5rtruebm2Uwe348bb3+DlrYeK8ECVwFrUEMpq9Z2orWwV9VmJLQmkfK58+65LF3aRjYb0NrcQ+hYDhToPuV4w/OQKKn4zF7DuPexY/nVb/empSVWhrhgnLG3LUOZMXMUDz54LNdeexiTJtbz1rtr7cjso+BLmwRSFDTgExp835TvteMo+MyLNSQsCPZtkO4qSElJ2NQwJAM2+xGu635WYXYNFOmkz6iB5TS1dbFsTUf0XBZ0iJeEkieXiYtXrJIeoW8kRs6i4drPnMQqvIjCLO47NAgM0XWPFpLQUO86p2vsuXoFx3H/ppIJjpg5lq98dituuuqn/OUPZ9Db20sRHy1EXm+0ZXPA888/z3333Vfw3nXXXcfw4cOpr6/n61//evG5KuIDoUhAPuUYNm36eu+tRzagcHYRoj+MWPkUhnAorZHayCUcAVnfTyIKuqMnPM/UqlcKz0q8SkpK6Gxt3UhnWcSmxuDh27JybRZw8hiBwC8gIyLmLYhLqUpLUnR12V4GbkZcg+kc7TInEWGJ4MhINLV/4AFj+MlPdmPkyH64QF+E9CWSHpWXpxk8uIJly9pobekhlfZ46qklzJvbDMAVV7/K7Xe+zZIlzXYmO671d4cMENojk/HRCvY87AbKy1LMemMly1a0hwbyqOt33D/iiIAZ2YQxdUwaV8cb76xl4ZJWGgdXmuA2JAwgpUddbQkr17ShXfduaUr+bj25gcv+bz/OP28vysqStLT0hoG9DL0J2gS9BWOx5XNtvHvMcZPp16+UsIiAjhM+wokFwz9MYK6AmfuO4qEHjmPs2H7hIYQGLRQqEbtDtuqV2UsAUpvbLQHPj+5wmBpww7RBuLDZDSdtc30/wmxITKYntCU9GqRPSC5cNgSQnk9VaQbpyJGIna+MkQ8rdytgES4T4jIjrnSukPZ4WK9HRE6ELc8rXO8TjbPjmGpZ8UyJK3qgJSIIkFqYmZwgbwsjRPcjuggwYkgFZ5+4Hfn2t/ntz46lvb34PfuRQm/EZTPAz372M+bMmRO+fu211/jKV77C3nvvzfe//33uuusuzjvvvE04wiK2FBQJyKccDVOmkCwtLXxzAxIqlcshE4mo6lWMXBAEkRnd8yKtti3lq4Mg8pPY9dzPOgjwfZ+gj7TLR9De3PzRnnwRHxvq6xtobm4jn8+HoZDQGk/ZoEk5/5D9Kxv+sTUBtCd9VODedEFatJ7pMRLPehSWkHZk5BsnTeWEL03BEZZI+gSF5AGSiQQjhlXS3RmweFEbe+w2jDvuMeUlH3l8AV/8/FbU1pSxdHmbzdBgnntlyRUAAUGgqSwv4cqLDmDB4haWr+xg712H2SBRxsbnxq1ir20eQ3ocf8xWXPGb/fE8wdDBVTj/SRSfKKqrSujpzdPW7iRi9pyURkjBl764DY8+eTwTJtaZyl0oPK0tEZR9ji3DfShhaZ5w+YvoXqz/Z0SGFBKtENJD2ZtVWuLbWFgXdrFIYAiRVrYSlr3LAhOsS4EW+dhnmLF69joLN1b3QLjnKNYPRMalUXHCaLMkzuDuDO1SonWeNa1d9KvKmPVcLxJp71P4MLt925GFPUqwXiefsIpWKD90t8cSP0ealDbfnUTfh+H9UCZLIxS2lK/tX2LlXBJ3WCMnM78XNuMTY2yppOTYQyYzoVHwq7M/y8pl71HERwOh9EZbNgfMmjWLvfbaK3x98803s+OOO3LllVdyxhlncMkll/D3vxd7zxTxn1EkIJ9yeIkEjdOm8eLSpdw1d25htsIaPsOSurmopG5fcuE+E0oV9ivcgKckhF3RkzIkIFprhBB4WtHeUiQgnxR4nsfwEcN4c+4aExQpEzCBmYEXSDztmT+y4QNkZpS11gQqj+cJRFj1p+8RbB5DuyDP+UHcfgzq+5Xaz1V0nFCGFfRpMKiRQjJwYDmDBpZSXVXCr362BwDbThnAmJG1VFYkyKSSLFnSavzAuEyKk4uBUhohFZPH1/Prn5o/3PvsOsqGg31liu7EYk0QRfT66EMn85ffH8TI4VXWL6Gi2Xc7Oz9kYAUtrTmWLGsjF+RRwhCCsook7e3dDB5UxUGHjAECE+sKzyp+CqJiInIR9UEX2MaBcQIS3g9z7V02S4SfG/mQtp+b1QVCgvJEdBt8gXL+Fc8LVUWhpMllEjzfmrXtffZs9sIRrlAC5TxADioWg4vC991boZQKurMB85a3Ul2Rwk/4ltQ4khG/VvZ5koAUzF3ezJI17fZzm5UJcoSZvXA/8WGo6Nl1l15pK72ypDB8bQiFUJiqxNorVByaB8OSYRX9ToUSRpNBEWj2220EM3ap49c//xIL5r1OER8BlN54y2aA5uZm+vfvH75+/PHHmTlzZvh6++23Z0lRPl3EB0CRgBTB0J0/w19fe50Xly0ryFYIWykmXlI3TiiElCxpa+OG2XNMp2QhkEIQhA21oICNQIFpfamVWHlShjIuMKZ0oTXtzS0fwdkWsamwy57H8cKrqwEbgylAufKtds5b2y+lWJnVIDDZCLOWrS4VZjxwUSoC38SA2nTj+E9kBLuO6dvh95FhufVMEJ5IetRUpTn6iInss+cIPnfkRDw8JIL6ugzV1WmWreiM9gthYF5Wkqa9oweQfOnorfjOyZ9h4piaPmNxx4zkP/QhMtqe/yEHTGDGHiMo8B1YA75G4HkeQ4aUUlWdYcGiFpqau9FKUV6apr0jC8oQj6hfiDKZqHDcgb129iYVJIY0Wsc8DLFL6YJrHWsEKbSRCEmwxauUsVvE7puWhgQ5dZL5jlA2y+D25HwdAnTekiAVEZSQhLkRxUrmhh4QL/pXx6N1GXvffD81tXWzbE0bwwZUUFtVhutw3tqRZWVTB4tWtjJvWQtL17TT3N5FoBTZHCxf205bZ5bB/SrsPu1JxXuECI/OnoCe3ry93TGPiJNeuYtqyaNQIISMdcU2ZXqFrSZnpFkSAkvzgsD4BrQZtzm8818VkrKdpg7h8weP5vcXfINZL9xJERsZnzAC0r9//7ACVjab5ZVXXmHnnXcOP29vbydhv6+LKOLfoUhAiqD/pEmIsjJmjhxV8L5WTucce69P1aubXn+DpxYvJrDZEilEYQ+QvgTESrcefO89znvyKTqyWbPP2HqeEPhC0rpu3cY8zSI2MabuOJP5S1q46qbZPPfKMppbelAB3PKPt+hu7YF8jCSETd6cdMT5NSAMjCHKemgTiBmYYN6RERMbx8iI1mHWJQziCMI5e4MgOkwQIAPTYFAg+O0v9+aogycSZSkE5WVJ8vk8QV6BChAKWw0LfF8XxJQ/PWN6dAwg+hru+1qEMiaTYHCEoXA9l5/QrieFEIBHeVmCoYMqUFoxf1ELLeu66O21RvlYhSwAz0qAQnKHpqvTzdqbLIz2TJYkohdxRKyitbUHjURrYQiJ0CF5Cbd0GQzHEYQin1csW91hOp9LYYhOLBOiVYCWIkq2OFmVkDz2ylI6e3rNDbPZrEiW1QfuM+Exb1krdz7zHr05m8mx5u6SdAKtjfTPPDMB61o7ae3MUpZJMKC2nHOve4FjzrmX4371IO8ua2HRqhZ8T9KvKmN7q7qMhiVTwmRkLrrpRQYceBkzTr/NjEdhq5HFL2eUaUZrUAHvLVzDNsdeyyMvLrTWpsB4RZSGfN5wtEAbaRZWvqU0a9a2c+Sp/6C5qcs8Hq68Me5SKcaPrefrx07gz1f9iuamNetfsyL+Z4hAbbRlc8DMmTP5/ve/z5NPPsnZZ59NSUkJ06dHXtI5c+YwcuTITTjCIrYUFAlIEXi+z2XfOYsdBg1c7zPpeQWvnSwLDLn46jZTOGWH7UlYaZbATur12S6uZRa+z+7DhvGN7bejNJEoqJalg4CE7+N5knVLl268kyxikyOVSvHL3/2Lnfb8JvOW1/D7K1/mu794il9c/DTnXvyUqSSlPSMtCaNcaXpa9PFIaK2Zvs9f+OMVL5rgrSDOtBkBDcbgniggIzfd9Bp77HMdrS1diPBAztiuQUnj49DEAnLzjB557K1c8ZdXqKzKmENpbSsTeVRXpWlu7rWxsWuqaH4Pnn1xKVvt9icWL2m1GQIXnLrfmPhXsSEY2rqPj/za7Zz1s4fDMYDzQQSWdEBkRrcz/zrguReXMWmnK1i4qIWRI2rJpD2END0jnA/B/GyvmnZjVnznq/fx9cP/abMdJvvg7P5IbapTOT7hrpsQvPrSCnbZ9mqeeHyBc69gBVcIK7cDYWRBIt68UHPyOQ+yx7F/Zdmq9tDgrVEg/OhSEYCfIF4Va01zF/ufeTvDjriKX1z7Ai0dtqu5M6q7zuCu/4czSuiAa+57g0N/eCcNh1/OD658Krx26aTPgJpS5i1rYfnaTuYvb6UrqxlSX0pZJkkq5fHSO6vI5gPGDa1m3NBqRg2qpKM7x4Ca0nBskZrNSbcUg+pKOWTaKH5z6q5RNkYDgYpKMiu7fsw4P6yhgsaGSkYMrDDvKzAlqO2hVB6kNJW1wkIPUF9ZwpcPnkRnd9YeT6JVVIBBYtYdOqSK3XYeynVX/bDYBHZj4hOWAfnFL36B53nstttuXHnllVx55ZUkk8nw82uuuYYZM2ZswhEWsaWg2IiwCACm738A/3r++fctwyuECIMF6Xlh48KaTIbasjJ0EJh+Ila2pXK5sGlhvHmhEAKdz5NKJplQW1tgbBdSoq3kyxeCbD73MZ19ER8XSktL2WGXA9hhlwPC93p6evjxmQewam0XtfUZm0kD8NHazIwbPusCZElrazdvvr3WdhmHKDi3RZ3D5ImTJ5l1BB7Llrfz2hurSSZtGVowWQuMrCf2pFOYbVCsXtNhDefKBnhmTEIrqitSzF/URr+6TJTRs4Fe/9oyFixpZdbrq2kcVGnPxZVM7SsRcx4GDUKSzeZ5/JlF4fWKytLGs0QuYM+bbaVk3OhaurtzXHb5i1x9+WCqq0sor9UoIZEolBD2XM2+PKVQVsq01dQB3Pm3x7jvtrnsf+QYE0BLUFIgczafIUyRKgloLVBoxo7rR2VVmu+d8S8efvx4ykoT1v+so6DWESZtfCBaa8jDl4+czG33vc0hJ9/Gv645mpqKEivRM13vhbA9MArK8kK/mjT3/PYwfnXtC/zkyme49t43mP2XYylJJ83BhKucFlUVw5b9/ckXd2D7sfXc9NA7vL5gnSlhbOVk5SVJSlJJenM5fC9DMpkw+5DmPN647rjonmjNqqYuUgnPrBf3yLh7acnE0XuN4+h9Jtj3HEm199IRQ6Ej6ZbNzHie5J8XHBzL7AhQOZvNUGjXH0cI0+TQ3jMhPQ7aY6zJIOXz4HlWBmcltlIgdIDXo9lvm0ZO+ulzPLb13eyx70EUsRGgFfGqkR9qP5sB+vXrx5NPPklraytlZWV4fSYbb7nlFsrKio0ui/jPKGZAigCgfvx4Smpr13tf5XIghGkcKCVCyrBxYdwv4j5DCLStJqPy+XD9sPqVUiHpcOZ1rRSe56OCAGEN6Wnfp7u7ZxNciSI+bqTTaaZuvyuzXltpMxlmNt0F056XsB6h6A/w0uXGPzRoYKV9xwaWOo/T7ESZizih0HR2ZhECMhkXKEZBqaEjXmyfFlohtMfAAeUsW95m5ViFWQ4hBAlf0NuTN5kD5WRegh22aUAIePW1lXaH7lzeX4bljr7jtgN5Z9461jV1m2MJGdveNugjKOgJAoqqqhKOPXoyd943l4WL19nZcUHo17BHEHYGXmibBSLgmK9uxejxtVzww8fp6szZDIaRWSlp3CaI6OoKNFILSkt9Lrhob5YsbuPC85+OiILG+hGElV1pa3rX4To7bTuI6357IG/NX8feX/4bq9Z1sLKphxWr24zfQ8YCHR2YylLCZIP22G4o/7rkCJ694hhOP3pbMiUpQg1d2P0cW4kqunbpdILDdhvD339+AHf+6mA7FEfKJJ4HJZkEyaQEsaFyz4JcXjN3aQu+5zOovtKsI12lLFG4vsuExH1ycWma3acZus2MKI0p12s/tc0jhTOuK/MMCq1MFkWZ4wsEKAH5INy9iMnTQqLtiKH0eHuuBD2Ky/94M0VsJMSldB922YxQWVm5HvkAqKmpKciIFFHE+6FIQIoAQEjJ0B12LCAU0hnJXNMupYy/w/fXL61rP5OehydEGEaFcq24frVPyV3AaL7te4HSpD2P7u7uj/y8i9g8MGL01ixf1W4M5NpHBML6GjRSKluC11U1UqxY1QFAwwA30yYiOZFy5EDFOEsUtPd05ynJJGy2Dhvcxb4KC6piORmWaTTYOKSCJUvbCv0MTu6ljVG9uSVLoaFdUlWZZviQKl55bQVRyVXRZ2x9ZVhmRnuHbQcB8Mprq+yxlPFYoNEiiEiHiPZjQm/FSV/ZFoAr//wqoEyPHm2uloj38hGghfGuaA2JZJIfXrg7K5d1cNXFLwKaXC4Pwpb9lXYG3c6kh2G5hum7NvLZYyZyzZWvMuuVFQgpUNJ2hreZVHPlYsG8FGgJ++8+ir9fcihzFzUx82t/57YH3+LPd7wREict7b8aQ/KE25MhRDtObOCUI7YxI3K+Cx1Q0DOlwGyho/dkTLYVJypCRl64kKBE27d2ZOlXlaGuKkXoXQolVzESFCKSj8Wfy8IxuRsTq1yllMl2aPu+isla7fGEzSwZP5SI9hXk7XNsE0J5R5yt+d3kxLj9IUllaT+WLFnK/PfmU8RGQD6/8ZYiivgEoUhAiggxbPr0kFigVFR2FwpTyO9jLAdACFKeR86a1R3J0LEZv0iKEf8DaiUaQhBoRTqRoKenmAH5tEB6GYRIWgWKCaakndX1pCAIQk0VIFm9uguAutoSuwcjsxGOiBCfYbYN4hSgNPm8xk/EZubDSlngsiRRGdnCSlRDB1fS3ZNn7douEwDbqkQAgoDy0jSdXa4LsJthNgRlqwn9eXnOytjvT2Q2j84h/r55ve1Wxpv10qzlZo/CM7Px0pXoDY0GNty12RDh0dhYw/4zRnHjza/R3pFD4Bvi4bql2wpJQmvQwlj3hQACdt6jkb0PHMlVv3uJd95cyxUXvQg6CBsJKmE9HiIqyuvyNj8+Z1dqajOc9e0HyObydmzW/+HknJaDme+PKBOy3+4j+fvvD2X+0hauvGU2V982i0BhImdpeqKEiQXXuVx4Zv9erBmgiF3TuHwl3lW9AJqonHFQWMVXx+5NXAJF35/t/XFV2sKfg+jnAg+Q6rNdnJQ6xLJ4KiY/s1Ir4YiWIpwpF0GUNTHEUJgGhVbWJaSIJV4MKZUCzv56wDmnCL53Qj23Xv39sN9TER8CnzAPSBFFbCwUCUgRIerGjKGsvr6w0lUM72cs71sZKyE9et17BVmO93/cXNgI5m9i2vPozWX/21MoYguFUjkEMc+P1bULJFLEdPvWL3HgfmM454e7MWpEJeGUeNijIYocBZ6dLTYEV+CRzQUkE7bsa6i/t5tqJ3UpmCY3enolGNjflFddvqzbzkubylMilG0pykrTdHRm6Ws233nbgbS29/LeomaiA0JBz4/wPM1rAdRUpxjeWMVLs5bbYbnZ6yC2vS1LG0qsHHFSnHjCVNrbs9x882soTFbHSHAENrJHhsRDIQObSULw/fN2R2v4/okP8Pbra3GVuEzGRBPIcFWUFYNJoKYmw8/O3Z0331zLlX96mTtuf5u167psQKtD6ZQGk/0QdmJCCgKlWLi0lYZ+Zbz53lqWrGznvifnmbSLM917XqhUit0l63tw5FKBTISfFZQ9dukasb6EJCIwXvgcFsqo4oRJUVWWpKk9S0gUYt3pCyZr1tPwu88sCQmzJm570Wd9JzO0ZMbtOwii4FQRER8tTWU57XiqvXGWwAgdFMi5BBJZKikrVeyz2whSfjs3XX3OBq5PEf8VbD+WjbIUUcQnCEUCUkQBGqeZcnp9yQb0kUyZN6If7fpaa5KeJLsBEiP7EpDYH+dwDtVW0vKlpDdXNKF/GpDNZnngzmsY0ViNkJ7x+CpXmtn80TWPSvT8VFZkOPWkHUn4Hq48bhjRhiV8wWQzzLx8V5filG/fzbp1XSDgVxc+xYsvLwljPoEsDPmcPCuQSFudaNgQQ0AWLWmKrWSzNlaGVV2eoKmpN8qgCBPc7TzVSKlenLWcqI+JOydHGCLPgCZAS0Netpk8gFmvrUJrQRCoMKtS2K8EoqBVh/vaeadBTBzfj2uum4VG8Mabq0Npj2ePLdA2wHFiNMmShc2cfdL9CAFvzFpNW4vL7BBmQeK0z8mzzCgEhx02lt33GMavf/0MP/rxo6xd1wVS2hYjykg4nQ/EFqAAjedJjj5wAhd8Zw9O/vy2jB9RyxW3zA6fBVM9S8UmNNxzEkn0TFpHgs6bRoUiKmBgbrYjKbHvqbAPSJw0RKWW4xK3qPO5OWdPaMIO6vF9FnQIJPo5zKLExhzev9i9FK5OTJ+sTdhs0b2tTJ8QJ9EKAoRSsd6Jtm+IChBZJ8+yGalwiDZ/ljbTQSccNpm5sx/mgVt/SxEfAmHRig+7FDMgRXyyUCQgRRRg2PRpAFHjwTjp6EtAYt+H8QaFnpRh6l7FiEjcvC4TCfOZEMaMns/juWpZCPxEgt6u7mI5yE8guru7eOzey7j3H3/irlv/jz/86vP0r+ph2naDw6AuetLicqR4wB7EshVAKPDxCoM7HQWAZaUJhg6u5F+PzKetrZdnnlvM9lMHhsfR8cyDVkjbaFC6AB2PYUOrAFi4uA00BPk8aNMgzqiRAtKpFEGQN0QhRlAmj6snmZA8/dJSlApMU8DwDOIyLBeYmpnwppYutpk0gDXrurjln29ww99fj2Vc+prW3bbgyuAK6XPC8VOYO6+Jb59xH488sshaJ6zQLE5GwsBcMWRYFVf+4zA+99WtkVLQ1tpjrlFcvUNM/YORQ1nKyA3Xv053d46qqgxr13axem0nwvbE0I66xL9ePM9kcBBUVWY4aK9RXPz9vZj1z69yxc/27eMbsVkvz7NmdOfTMKV9dcTjCglpKMuyhEGIKNOhbVYjLpuKI/wu0rGfFV09OUozPoXSOrGBn+ODssNwZCm8CPE/yRpULsrChE0E49/Ddn3XJT0GYTMhQmvIa8jnCJsexoiq0CADIKeN/0qbvaZ9+Obnt+OJh+/k4Xuuo4j/ESrYeEsRRXyCUCQgRRSgZvgIKgYOCv+YxgmAq4ilgwA8DxUYU5yQMvSLhB4SrU2PAmdgt4uTa6lcDqdXLqimJUwZTJXPk0ynCd5HDlbEloeOjlZuvf58fnDqTN5+5U46lz1Idu1jjBvu8bmDJ8QqNGGCLhugRQbx+Eyxk1itp8OhMEBzn5syrCeesC2lpUl6ewN+8J3poGNd1W1ULcLSqHEjMSxY3ITAEJm35q7m5O/eH4VyQsfGGVBRXkJrWy+uXG9Tcy9r1nWz9YT+PPfyMo74+u3k8vHyu3EZljtPQ3r+9OeXufG215g0rh8nnnkvUyYPMJ+75orh9lYP5Rp0CCNTuvOet7nl9jcZPbqGm/72OtXVaRuHm21kHzKipQyvbqokwffO342bHjqa+oYysPkmBAQu9sWUcrVTDiEJOfaLkzj8yAn0dJtM5pq1XaFLBSFQWOZim5cas7hAaddN3dENTf9+FVFGKfzEzCxrYbuzu8pY4edx34e2JnNRKLsSJkMVEVUd+5dCGVYoBYyeCa01a9uylGYS0f5CKVasvK7zIYUZDPu+dvJBN+x4JsuZbVT0WuvoX6VspjD2ZzzII4RvRmkzIa78OVqGr8mb7UVeI5TJpkgkKGdWN9/dlWVJvvW5rfjXHX/khUf/QhH/PXQ+v9GWIor4JKFIQIpYD8N23TXKVthu6NK3f9i1NtmOWPdyrRSyT2WsdCpFNpcNSQZah00NC+RddvZPCBN4OAmWkTUI8sUv3U8M/nnDL1g9/zG+95UpfPmIKRy81xj2330ke+zciO/74JkAWmOCSemaAxa4gxxUgeSnIDB1M9d9MiQAVVVpvnzcNuw2vZFddhqMq9cWNcpzrfIsCXGRnBZUlqfY/eDrGTignAceXWA6ZXsydoQoeKwqT9DSGlXDqqpIcOL372PZynZWr+tixep2aqvK7O9QXxmWmel2JOHsb02nob6M199eQ211hq0mDoidq1nXhM8K1wldu2sEHHzAaI79/NYsXNiC1lBTk8ZVRMIdyZIRXxOa6nUY+MKUHQZx6U0HEXZ8FBgSIS0PshkFFTsuQnDcF7fiyadP4LDDx7NubbctAKYhXoY3Dq0QnstCgPCEWS/sbG6lKK4kr5VzuY7ofcvzmvfjB7BERThCoMx9lhDKtgTReYbXmFgmxdxVrTWLVnZQW56kpCRjjx/LUoQNNJ0sLG42j2dynJwqbkq334IuleO8M7Yr+v+zd9ZxehT3H3/P7POc3+Us7glJiAPBkyDF3YsVL+600FKK1IHSFisUKe4FgrtrgoUgCUmIy8XP9Xl25/fHzOzOPncB+iuUAvvJ68k9z8rM7Ozec9/PfL4Sk3jcKRQS/AwuyRKBIHKzU4iMrqAuAqkD2AN0pW2ldPcdWURHgMgoRKtPZUkhBx4wimdfeIwE/w/YOiD/6et/pA5IggRfFxICkqATBk6cGKkZJv2uJSQQJxBu7IeLPM8L40Cse5Y9JlYVXVqPc0NAzDalFFJAJokD+V5AKcWH099n3x1HUNGtEIUiCGPFdQrQUO2w9h5+zJDSBpf9LEODUNBF0K6C3NS61kXrtBM246JfbGPOc4xagrg5HPiIwDN9QFV5AX+/fHc+X1DLutpW9t51hL04crO7plJpSopTrKtrBRPXcPuVe5JOe6ytbWXzjfoQqR65blj2ejTpl1Jwy1V70q9PKdtPGqjdmBQIUsYQNUTLJoUIV+sjcnPIgaO49479KS3No7KiCGwwunHriakgvq9nVURjCgiinP/CzogJHndEKCUEKiRxejTdexRx3T925+CDRxl1xFI1TVoUApuGV38FBChTJV2hlYvwvgiTTleg42NyvELtvQ4XR7oK5raDs2qJsO06xxgSE5IbaU4SniF5iiVrWigryaO8LN92bH4GOe8tebDE2CXUyiHZOee4pCO6OOcCLKlR8d2g1Q2lTExIAJksOvOZvq8ii6kPEm9btyz074uSyEASKJ9hG1RRW7uGlSuWdjHhCb4QiQtWggRdIiEgCTqhvH9/ygcOBOwq6PrRKTDdIM+LMmGJ3OBzl4CECkhEUKxS4glBe5KK9zuNIAhYUbOMF5+4lZL8LFWVRcZlR2nXlzAoODpHmNVt/TREKXDJ/SzA1sPQ0G3pf052KywZ0QpD9+pCNh7fk8iQ06450mQDitrKDQ6GbbcexOk/3ZSS4jQ/mjRAH6MsCbIGvwJ8qitKtBuWMYKrKoq577r9KCpMsfHoXoQqRxhQ7v6u2UrpGtWVRdx+7d7suuMGzriNi5iSuohgYI1TnJ+B+eSx3TZDeGLKoQwaUBYSNGFnRwmEr1fi0yqkIoSuaeGc2LY1YQsdkoQgwAehCAyRc81wgJKyAj1XniCQxvAWCiXN6nsYu2L/NwRRGXHBulm5rk0hQVWOaoEhCcadzahCYfyDMKqDrZWh/BxVxLlMq+6AUV0UyBR1TRmkUFR2K4qUl7gU4bxNOe9NG4JInQldu1zC7D7T5vdEuPPvqjLkbLcKDDr1rst3AhXu1wHqChGgi0RmLZHWhFDXHVGkMoriethiSAXvPHcDCf5N2Ofr63glSPA9QurLD0nwQ8SgiZOonT8fIIrPMMit++HC5vhPCZ1Os6tjck6InQcghSAIFJ6QtLW0/KeXkuBbwhsvPMi/br+ckpJC+vYqZP9dhmlVw9iMK9e08tKb89lyk/4MHFBOZFT5CGvUKcj6AakYiY2CxeOL2+4f6MigFTHDTG+JGXFA5PZiDUE/+iycVWgVcNHPJlNZXkxBfppQ+lChKR4afJ6nx9DR4ZvKwD7jRvbiH5fuxqhhVbS3d5Cfn6/7iikWATbVrkChggAlBZtu1IdNN+nnzBMIkQoNE32mROBrYx2cFXI9l6M37G5cpfRYtXeTjxTaIM142lXHywRk0+Z30cyVskqLXXkPAqSy7VulQdcVUQTG7hfh1Oki6CqkiXbNXxhPI+kb904VRM1ZF04RBZgLW+1eKK0SSOMHZgsOht9PNo5EmefJmRNrzNnOQ4VCOu8tHMInYPW6RppaswzsVWrITBCd5zx34cMZjtccK73onts6JmC25biGKedaLNlSgSY1Khvti8XGmHMtlC5gGD4TWR+RErqeiiWY0j4L+vkVvr4HgQr0goBSjNmgO0+9M4e9SPDvQMdv/OdKfhIDkuD7hoSAJOgSAydOZPqdOvOJSw6AGBlZUlfHawsWsP/o0eTbYHMikvJVs1gJ41NtTgoNlfaEgHwncfu1v2T+rKmce9zm9KgqChdklRE73vt4BQ89u5Ctt9mN2x5+iYF9PQ7ZdwwF+TK0Sm2AeXNzG4VFKSJDyxp6liRAXK1IEakHcSUkCi53CY02TiP9wFrMCl1t2p6jyUheOs05J21mjjNFAcNn15xqgo579yxi+cpGBvWvNH35HLD7hjQ0ZqhrbKdnvv0KdgiMMeSV6VO7+1tikbsy7oefBUrHZnmWOKGPCQmANHEXgSY2Sm+TYcyJj/A12UkJiW+MWRkea9pVdpUcAj+ITF+hCFQQZtNSymghAqSJK5Fhqlt08oogIKUA4RGYvrSxrBUF61qmlECkdE0XpfS1CwW2In1UR8gYzEE2Nq0KtDuSsGRPE7cg0NclYq5QFnYOrQSj365ryjBiQCVr65ooKcwjnUohpSU30fXFanWE90Gwal0jny5YSzolmTS+L7HnUznPprBxL3rO2zs6ePLtRRSkPXbfeiiRG6Jp36bgte3YsQjJgy/PorpbMdtNGAAi0HE4QRbhSevFZ+Yh+kUVQnDUb5+hvDSPv537I4b0LWPxkllkMhnS6TQJviK+LvepxAUrwfcMiQtWgi5R2qsXVRtsoD84KkUIsyL92eo1vLV0WZTdypITpchLpegQgiCTQabTeqU1lSLIZAiU4up33iXT3o7wPETgEyAQUiLNqqbKZmhuaPivXXOCrw8rli2ie3kePatKHIogIICmJp8HnviMcy++lYOOOJ/f/+1J1tVL5i1ci1A2DiQyBFuaM5QUFhAZ3brFp579nHfeX2aOcl2notV4p0oFdhV74aI6/jVlJk3NHdrQigWrO4HERj0QjpH/wqsLeOmNRdGFKh9UipA4CLsCroPJC/LzCQLFspo6brlvBk3N2jAuLUnp/sNg8ChqIkaupOCZl+bx1rRFWN1AH2lXxK3BaDJaGdcxQcDy5Q3cdOt0OtptgIqJjVCWIEU92/NTgd729usLee6h2UbgMVmRwnm2Lwhs9itjKNc3tPHXy9+muald/w4L48olFCpQmlQJc3+VVSg0Xn17CTfe/SG2RkionBrSpGyBPWGNff0jmw044NxHeOKN+URVzCUxlysCFL522Qt8TXCE5M5nPmX04bdx3nVv8Or0pWSzuZm0zE9LDIRHftojk/UZ8uNbKdzhGlLb/o07np5lnh1LIIwig9LuTFLoeiQSrn3oQ3Y440GO+cNztLRlzBjdtUBXFbHXDA3NWQ664DH+dOc0bBrqmLocupFBjJwouPu52dz57EwsGxPC0252CoQfZcJC+bqGiLn2/LTHhoOqQArSeWkG9MxjzqzpJPg3kMSAJEjQJRICkmC9GLTNNghDGKSt0WFVjkAbCT8aOIA/7bwTBakUIpWKLSCmpCTb0QGGhCBlGMxe39bO8KpKPENMUnl5BCpABQFeOk2QzZJfUKjrLCT4zuG0X9/IghUd/PmWt/lw1ipq69t1YoEAZs5eyegxm9Gn31AA8vLyqOzen8DX7jAKWzQNOtp8mpt1nQWRE49w9i+f4/a7Z8T6VW7QL6DVC5vaVv8Bf3PqEk484wmW1zQChLEQYdyI8ZUXgVE4nNYvuvRV/vaPt8Ix6NAD+4y6cReRW01hYT5vvbeM0y98jvc+WgZ4CCFIeZKOjozuQ1kVxe1TG+k/u/gFrr/tfWcc1hVHn+MG24cFBZXg3feW88sLX+S9D5aFq/duxXa96q9ASaNQKO1+lRX89bK3ueQXL5Fp8wmN3cC9Lk18JIQGPgJmfryKKy97mxv/8R6WCIb0zxrLSpnCjh4y0KvuKgi4+e4P+Nlvnue1aYs1UZFx5TWkS3alXwmQKVaubWbOonXse84UTv7js8aoN/MXc4my98ba7QFlJflUlxfy1/veZ8ezH+LRtxbo65W2nkxu3IVPWVGK+sZWLj5mKy48egvOPngTfjTBcY1zlazQdTAiJ4fuNJInr9ifF6/5MUUFaTOX1k3LPK9uOl6TJat7RQFv/ONgXrjqQNOkOV7k9uGOQV/nrb/alb+fvb2+h4GKnrXAku8UneJ9VMAN5+/ISQeOD+dhxMAq5nz0Ogm+OlTgf22vBAm+T0gISIL1YuDWE1HZrHaVyGaR6TRhSl1H0SgxaXpVVkv6Fql0WpsgOUUNVRBQUVjArkOHhiab9hWPzA2FDkLPtEfVlxN8d1BcXMr5f7idYWMm8fZsxV9v/4BzL3+Zv9z2Ic+8Np+Nt9w9drxQbfgZ64+v3XmaWjpYuryB/n1LQ5csESocAe0dPvn5KaLg5ciBSgenWxelSMEAj25lBQDU13cQMxYd4hAv9Bf53o8a0Z2PZq0OszXpLu2xInSzcf3wu1cWMah/NwCmfbAcq25UlhexZl1zND43FsCOQcHIYVXMmruGiODY/ZIovgVszRFpiMEWE3oDMP2jFbiESI9RIgKBDJzoF6UJVUoJTj1zc1avauGROz9BBpiSjERjUEE46wipBSsl2HriQLbdYRA3XvM+a9e2m4KOAgKhszIh9Iq7UCZOJHJvuu7SXenXu4yTz3+a+saMvh5P6npCYdeaDAkb26J8+vauYNqdP+G0gzfmpikfsekRd7JibbMznxBmz7LKltCP2r7bDeO16w9m1ZMnMeVP+7Dn1kPMCfa5yM00JSgpTNPSnuGcQzbmN8dtzV9O24Z+PUqdvoTpw57vugEGjBxUwW5bDWRAz+JwW+QrZp9X+0y6qhhsNaYf+XlpZ5sh2zIV3cjQnc8qSB7lJWkKrLuf8MAPwFdRULpvlBiFSQJh3iv0c9KRBT9g+MBufPaRJeAJvhISBSRBgi6REJAE60VxdTXdR44MZf5YPEdubIc9xokPySUV7gpoLqRw0vCavpIsWN9tVPcayEHH/YEzLrydy258nUtvfI2DfnoZex98OhtvsXN43Kcz3uTzz2bRv08ZOuTZI/ADalY1Mah/N204CdB1vSN/+SBQeCY9amj3CyKVDmu2eSgTRA0+FeVFANTXtRmXJWNsKrsibONNIIrF0GRi4zG9WFfbypLljc6VRsHzdhhR3AikUpKqikIG9evGuzNqsHEspSVpWtuzZLPWDcquQMeJyIhh1cxbWEtHuzESQ0vTKj1hzirCsAUkfXqVUFVZyMefrnJ0CM+43QTROVbN8I3NTMCO2w5i1Jju3HDN+9Cu+5CACAJzjFEHlPaIkmBc2RTnXTCJpqYOrr9mmlNOQ2dbkoGKqsYHWr0RSi9SlJXlc/2lu7JoWT0nnf8USilaWjvClLx6nFa1Me5HUitbRUWFXHneTjx8xT6UFuezfE2jvt+evZeWSOj3SjhuVkJRWVbAnpOGkJ9nyY7UKogtXii98HNeOk1Hxsk2Zcdm0/VKS0BshfUcw9G6zuHMY0h4cvdZd0C7Pfe704lTQcXbtgpOrH+p42MsuTCFEIUCMj7CR5ORwM1MJlBCIoKAwT0rqFmykPZkYegrQ/kdqGz7f/7yO77tS0mQ4GtFQkASfCEGTZocvldfpSq5SzjIIS0ucjJjuQQEjOOEEHQkf+i+NygsLGSDDTdmy+0PDYNY161ZznV/O5fjDtqI7t0KMZHN1KxopHdVCSkhI/sxqnoHCDIdPp6n4zqiNLsQGmkCEF50CgAeFeV5ANSaGh0axpg2cSK2+GCkZOgMSBuP1UUAp39cY051i8pZM93GcESuVIWFeWw8phfvzqgxAdb63B5Vxaxe22QHSxirYfYLYMMNqvB9xecL6sx2QzyUzf6U46ikAEMwRm/YnZmfrQFr6Ad2rvSxwh6r0ORPSVCSlPI4/bTNWLyonqenzEb4PsIXpHzThwgIVKAVFFM8FCUQAYwf15s99xnO7Td/yKqVzSxe0ICnTKxLIJA2psxMm1IRQdh2q4FccMZEHnt+Djfd9yG/ufINsh0qEpektLcqunfKtKEUe2+3AVPvOIKNN+xp9tl4EGO8S8/EeJhYD5Ey7Qo6xVMoHx2bYd36bBu6HT/QcT6h+mDdvZRR3my6X+s2ZomEIkedcUiMJRMi5agZWLYQqSphjFJOJjc7JnsN7vMdEjjbriEfVlsMbDrpiMRa1zuhAggkqZSkf+9KFsz5kARfEUH263slSPA9QkJAEnwhBm69dVTHQ6fCMW/XQywgLE4owY0ljv2Bz60N4hIQaVJ3eoKEgHzPUVRSztANRvCPez7gLze/z413vsfDT37GJ7NXU1vXSkNjRscJ+Nr4C+08FDtuP5gtNu2LVkCCnJZtdRBjhBkyAgHV1VoBWbW6xR5qlA+rLpiCm4YACIdMjBvdAyHgg49WmlVkx71LgIoRaxuQrKjsVsDIYVWsWdfCwiX1pl+f0pJCmlszBIEyKoWbPlWfv+HQagDmzDNuWKF7f1zF0AZ+YEajYwlGbVjNnM/Xkm3vCB229NHmmpU9VhuoIgiQgUIi2Xf3EQwaVM51V79LXgYyrRkECs9XCB9SKh4PklK2fZ+f/2JrOtp9Lr/0Tc4+82kswVDmH0AgtKud8ryomKGQnHvy1myzeX/Ov+wVbrxvOtNnrUBXdzfnGvXCtBKNIUwAAKGbFY69HaonlrgEjjrguLLFiIhr9BkygaS6Wx5rGtsJU+qGBNgZTywew72nPlGwujsGnLEZWUwYicm6+wmM6mMUoHCoDkkSKaLaIo57oauw2T4D44albN8mpsitL6L0zRK+dt8b2qeIzz95kwRfDUr5X9srQYLvExICkuALUVhRQc/Ro8PPbhX0GBymERYXxJiBXdQByS1gqMlK5IIVoPBIXLC+7ygoKOLsC27hzAv+yc77ncXwTfYn6w1myfIOHn52BZde+w63PTADW+jPpqQFwZ0378t+e48iMvAiQ1CFBq+FRCmfGR+vpHZdK54nmLdwHedd9CLZjHW7sgak/UMfT48qlKS0OI/RI7oz7YOl4TjMAeFx1u3LbSM/P82o4ZpIvDN9OSibMjWgvCyf2vr28HxtDEZfzRtuUAnAZ3PXOGpFlD1LL5orw7OkUTh8ROAzakR3MpmAefPrwMZxKO0GJcNVdF+TkUAhjYsWQDrlcerJmzHr0zU8/fhcrvjtW6AE6cAjHTguX35AKrAZujzqatuZ+sYyttyqH+9MW8aixfWabEAspkNIQaCLT2ilyhjRL765gMqKQspK8mlrzzJtxnLdkc2MpZR+bwpW6irlQaSQxFyuMM+NSTcr0Aa9MKqIuYdm6SPyqootkOR+fwWkPKlT2cZIi0uCc1Upq0zktBsLdFfGhct26ZvxCjr9qZZ6HOEc2P1SRNcXjsEqgk6NEUO6dUYyPyIhPpA1geqG4AoUwihEIvAZ2q+CeR++RIKviEQBSZCgSyQEJMGXYuDESeH7XOIgzB/5wI++HAOzCiuCAF8pXUBJiDCLlvA8HdSeSoWB7MrXhpvwTCExKSkQcMNll7Hb2LEc86Ptv/kLTfCtQAjBBiPGs/mkvdhtv1M45vSrOPPCxzjnwnvZde+fkmkPWL2mCalco899DqPK6WGsh7NarGMIApRQDB5QwX6H/Yv+fbvx4COfkZeWpFNpOqXrFTaIXRD55WvXp6027cf7M1bQ2trO9E9WmnNyV8/dwHcgCNh4VE/y8zymTV/uKCeCyvJC6hpazCebkSsyZruV5tOnZwmz5qxF4qE9Ie1YtVErwn/RSndzs8+oYZr0vDd9Odf8Y6p2gQpE2IfNLCZdtyyAbEDN8kY2HF5N9+5F/PWKqSyaX0s6q8+TSiF8hedLE6AeXWdltwL69S9l9uw1zPu8Vmc3kxHB0PfDVvCw1xIFx+8wcSAH7LohfXvpwO53ZiwnUgpE2E7olqUvQMOm6rXPh5SGTCjjcqVTA0fFJa0Rb58Rq9IEEQkRUXOG/dHcniE/7RBQ62rVJZznChxiZLKLWQ4Skg7rfuW6FLrkxhIZ5agn9rqtX1sXZCd8nu04JZGroXETi12HS2Kic4f2q2TB8rqvXOPphw6dwSr7NbwSBSTB9wsJAUnwpRiwxRaIdFpnw8pkwsromkhkcIN+LYGQ6bQmK/allP6slHOuk2FLynCfZ1L+juvViwM3GMq23atZsWrVtzwLCf5b+Netl3Dy4ZtxwRm78MazN7P5+N7UN+iMVWExPCerkK0tEZp/rl1oVsIDKVCeR2m3NH/8zY4sXFxHU3MHR/x4LI51GTUQ1gYxCgEKSPHo07Pp26uEtvYs+xz9IDPnrtKOYQqEkibTE0SZs5T2NUJQWpTH2A17MO3D5QSBZOnyBm3/CkHKS9HR4fjvGyJSW9fCsuWNbLhBNZ99voZLrniZOZ+vyTEwXVImsBm8Xnp9Pj+/6AVGjajmN5e/rm1zzHp/ACiJUClkoLdp97YAoQQekm7lhdx6+3RWr27hs1lryE+nSNnzAkGerzNuIXSNDuELPKPM7LDDUF58+UgmTR6A7wemzoSdTxOLIawK43h3CoUnJAfsviFvPHgkz95xCFUmaYC+RXEXJxEqCNblyiYqsHNi42UUuthkrssWRoGxaoSK2rMkxO4zz1VTa4bmtgzl3fKJKx3OexuELkUX+82NsGqHU+sjHjRu69VDVN/DzqFz/60qGFZ6Ny6HofsV0c/cWBcUYUC/iaPR40k5bmJokiL0sUX5aboVSZYtmU+CL4fKtn1trwQJvk9ICEiCL0V+WRm9x41DBQHCqBWWhLipeZEyVmzQS6cJfL9TGl4gigHpIqbE9VzO8zxS0nV1SfB9xkvP3M3H01/lsvO2508/24oLz5jEsMFVlBXnaTtJKaRvAtNjq7nGcBTxrzRtjga4xev22WsEu+44lE037s2IYT3RBercVWa3toZrYAb079uNS699G88TvP3eUrbetJ/WDIQ+K4KNG9FbMx1Z3nxvGWM37MFHs1ay3wn3s7SmIWy/ujKf1WtbiNUAQVBRVsgpv3qGhUvqaGnN8uCTnzFqeE9nWOa67fCV9aOBvXfdkI3G9GTm7DWsWdvCHjtugFVzhLH6XSUGk5bXqiOleSluvHZP/nDJj0ilJOk8D6EE6YwiFZisWEpCoN2ybLVzFIhA0au6hAfuO5Cf/2yr0CYOTWKhUGFsgzR3CuenPnDyZv258tc7hfdVBRAGlCt7tHLasefmGNk2O5V0YnVCo990FroqRTMbU9WQ1DW2sXhlAwN7V+rvM0kYGB97r1ONmb7dcdnYDfc7TTr+/SbSxY7PucvhseFVm+dV2ixv1kXR9CmUc6ZNphBExCskrRL8bHR3hAcqi3URBOO+ZjKBKXxGDurG9Nf/RYKvgMQFK0GCLpEQkARfCWE2rFzZ3SUOOYHldp/ogmR8YTsmfW9c4s/9nOD7iBefvJk9fjSI/EJtHAoUK9c26dVmhU4biu8oIREBCV2vAH2mT6z+g1UNVMDlf9iBE47ZBMgSZdAy7laxlXLbnDbyNh7Xm39cvhu+r+jTs4TB/cuJjLwu4j8MMcnL85j+6QruePAjSkvyefO9pUwY20erEcKjuCifto4sfjbjjAWEUNx4+W40NnewaGk9u/9oA+KxKWgffnfR28ZxBAGXX/QjNhxWxbAhlQwbWklU8NAGjJvQ9EBFsxlIdHHCFNIXnPTTTZly30H061OKVIKUSiGUJjIpX5GXxdT7UOAHyEAglUTikZIpjj5qo7C3eHCzp4erQCpTaSQAKd2Ac+m41XUmhSL2WTjGftyAdyYrVAuUzWCV06Z50AjT/MoUIFi8soHmVp8eFSVIYZ8tz9AB+wxZEmMUkBxXMCWicVhSE1Evl6JJp/K7fSZFNA9Cj0lZ8iI9EyMDYQyU9KJfEWlrkdhny75c1cbE1bjKh0jptnShF6PGCLaZMIDXXnqWbFIo9kvx9bhf6VeCBN8nJAQkwVdC/80312pHDrqq89GZKKxve+5hOSqHc7zMqSmS4PuJA4/8NY++sIBMJmuMd0lBQRrfRwfCGgildJ2C0OffIlrV1QadG1CulTqBoF+fMg7cdxS2+rnIMcZE+L81mKPifwfsuSG/PH0rtt6sv9nnGJ3OsREbClBKcOQBYzh039HUN7SzxUZ9yMszxq8JAq7qVmxUEPc6BL2qSrjh0t0QAqNiGHPeDwzx8ELFRpj2hBIIJSgsyOe2q/Zi/z1GhMeGY1OEhCDuNqYD0lE+0tRG2XqLAVz8i21CAuj5Pl4WUoHUblhoVcqzRMhmejIuXVZV0kqI+WyCzwObhheTFjjMBIUhaDJSbKSjcknPUZ2sq5x2mwpdscJ6HznGtueFREQb76koXqSLdLzLVjdTmO/Rp0cxVeX5IARKBUa5sAQiMKTJc7IWOQQqfFpkaMiHSRVMULxyjtLPq83ilqPuhMTC/c4MwjP1cSoK3LcM1T0+bNLOt3IIov69UkFWt+HJ8CpB0bO6lP5VkndeuocEXwylsqgg85+/VEJAEny/kBCQBF8JecXF9N1kQvjZrWr+pQgXqf//BEIQBbcn+P5i4812YMjwcTz+4lzAQ4mA8rI86hraiLkbCaf4nt0ucIwkSzggDNQOtCGm/0Urz1Eb+mdkjNuVbdOPY7v96syJ/PzkLVCxr1D7fOZWRodMJks6leaa3+zE5hv1YdJm/cPjbUarirJ8WloyZDKGwKjAKBMeu2wzhAvPnMykTfsRVjwPiYcxvFWAjuvQ1qmO9QgYPaI7558xCWuE60X4KKVs5Ofvm6KCUWYloQSer6uY62RTStv4ykOGIQcCmVV4yrplKVC6ar39h9LeR1IJQr6hQCjfuG7pGASdAlYHtQvQSQeUjemI7mt4n0WY1Dd+H0I3Jz807l1CaOM+LFFRys95HiI0tXSQ9X2qK4qMIhERBqtyKKHCfcr2b1W4kBA7ZLkTabbXZ5810750MlcJtBrjpg8Wwim26F6/Ta3sKjI2riW65bFCi24bhkSFMSF6oyFp2kVri7G9+fjdF7ucswQRVLb1a3slSPB9QkJAEnxlDJocFSUMVwljblVdnJSranxBHZHcDFs5exMF5AeCg4/5Pe9+vJaa1fWgIOsL0nlpbKpTIVKgzMqy605j3GG0fRs4RpeGktZIxLysgWizAeE8w9YYjGcTUlYJkSlGj+iujXwUsfodjkuWVR3SaUlHJiA/L8V91+7PXjsOc86JFJPePUpYsbLRuOp7kVoA/OLkLUnJFCKI6m2EtR1UpIC46+hWGdHZs1VIXoSKMmFpooOO5wjPg6imiB6Ldsvy3HAa8HWFc8/sBw8RxpKY+VMB0o+yb0nr9iXQYxFoAz4AW/ciMuLjCJ2VwhiKiIbGGKJxdYpup1US3PvkR3EbLqEVMowZaenwqVnTTL8eJdjnoamlnYbmDA3NbXRkTHV6ZZ8D26MMnzEzmfGrCJMIuMe7z6a5CGV+SuPOpXwy8eJKzvlWwdFEw1JtXavSp765jZB0SpeFxB58wmxY0uP9Oav46z0f6Jk0RR21oiMY3KcbCxYt63SPEsSRuGAlSNA1EgKS4Cuj36ab4uXnx7bNXbeO2z76yNTw+HKC4MaJdPh+nHR0RUCcmiKJAvLDQGlpGXsecCJTnp2LEJLWtg4K8gVhSXOljVodymD95LWhLkPlAuKGlY3HiOJAtP0rDEnQBpmwwbphRiCrMERxIplsQFijITQAo2KFkbuN8d83MStKBWSzPr26FzNmRHci4hHFjBQVplGBoLXVFKwz16BURC60sqEI4zfC7Q7CSzcEBamnKoja0RNi4zUcu9eQlLa2qGq69H1kECAJwj8aIhB4PlFcThAgsj5NTRnTjpnbQEakIxyf7j9KyAsZP2DNuhbne0BEMR3mHgl7bfaeKk0035+5wnw/OEa1XbCwMRO2hojzZ2/xigZeenchKGVmVkXPCLBqXTMD+pTjeVoxW7KqkdrGdto7Orj6/unc8vinvPnRUuYta2T56iZa27JExNV1d7L9B9z3wmx2OfMhdj79AVatayXKamWPtcHi5hpNnZOVta1MOPIuxhx8CyvWtWKLIEYuXpZ0WxctFZKSwy95ivFH3EFDc1u8L0sEw0kVoboiCPjj7e9w+R3T9O9JKqVVEfOgVJYX09HaQF1dLQm+AEEWgszX8EoISILvFxICkuArI1VQQL8JmwIQ6GIEBEqxsLaOhvZ2nVbX1vZIp1G+dnOw9T8QIsyg9c6SJZz69DOsbWzSq492n5NlK0zf63n4He2JAvIDwuaT9mH2/LW0tnUgpSCbDRBBoO1+JRBKsvVOt/KHy9/QqoRRRxS2qCDECYheoVdC8cJL8xg14XpmfrYaFRruTlVxZQ1vaxhGhOTwk6Zw6ImPELp85cYLYFfStVFuycsLbyxgm4PuYOr05USuXfbrN4r3AOjbq5jlKxtQxoD/0SF3cfrFz5ljHZewwMRNQLQtdOuCv904jZHb3KDduPyAaI3fuLH5Jo7GNUgDwA/Y47B7OfW8p3Qfxi1Lu1zpOA0vC5715gkUBAIv8HjxxQWM2vg6Ppm5CuH7SN+oLBhCF0RjFQg8k0ZXBYofn/AwB58yBd8SCeurJW38gXYxw40TQTBr/lomH3UP+5/9CPWNrfp+uTExKroPuIY68Jc73mXnk//FLqf9i/dmLY8pCCApyEuTyfo0t2f5fGkdJUV59O9VSl7a4w+3TuPUy1/gmN8+Q/fyQspL81i0osGIDJY8mZd1eRNQ39TO2rpWSovyKC1KmecWHVNiYzRMJXdbaFAB1RUF9Kou5sg9RtOz2qYmNs+Dp4Pllc1yFSpEmugdvNOGnPuTTSktySNKN+wSERs0H3fDuvPiXXnmqgMQUuo6FPYxlR5CwMjBlcyY+gwJ1o+vJf7DvP4d/OlPf2KzzTajtLSUHj16sO+++zJ79uzYMU1NTZx22mn069ePwsJCRo4cyfXXX/91Xn6CBOtFQkAS/FsYNGkiIpXCJu4fUV3NJdtuQ3lBgSYYtraHqRdCEGjVw6TqtUUHB1RUMKyykqLCAr36qJQmH9lsmOLX9qF8n1SO8pLg+43H7v0tkzfrR0F+im4lBTQ3ZxGGFgjjwjJ33jpaW80fZWVrJlh/fCerFUaFQCCEpLSsgJWrmpm/QK/cKuvpYmJGhDFURegCoyEQVFcV8trbi2hrN6uRYfpUaY5w3Wq8UHXZYFAldQ3tvPDGIiLjz7p5uYoNpFJpSorSNDS2IRDk56WYNn1Z1J/ScSF2VPb69emR8d3e7rNkeQNtbTlB8SZrlo3NCAlJEBjbWTBkQAWPPzeXxoaMydpqCh1mlXaxUiLmcuUZ23TCuF4EgeKav78b1gSx7Qs7S4Fvgs1tJioQQrDHjhsw9f1l3P3wJ8QUBKXvhXKUq+imKEYMKud3p03i6TfmM/mou5m7aA2xGxfCKgRRfM8fT9+G350yifdmrmSPMx5i6cq60PNJoSgs8Ji7tJa19e0M6lNGRZn+nutWks+a50/lpet/zF/P3p6ysgIKC/NJ56UdUmoJlIgMdwEn7jeO9+48gocu25vCAiexh1SEhTPD5znQ7UmJ9ARPXLU/vzpuy+i4kHCInKdIOUQkYO/JQzj1wI0Q1s1L0llxDp9l86woRXFhHhuN6KXnXWCIn1VeFFuN78PbLz3UxVwnsPi2CMirr77KqaeeytSpU3n++efJZrPsvPPONDc3h8ecffbZPPPMM9x1113MmjWLs88+m9NPP51HH330656GBAk6ISEgCf4t9Nl4E1J5efqDQyrAca+yblNfENPRq6SE87beisJUar3HuG1pLrL+9hJ8vzDns0/ZeoLOMpVOC9rbMzG3HV8ogkCRSqWMt4nOsCSNr7rOUKTQNT58lLKr/wGDh5QDsGBBHVJIbLreyBnIzXzlEgrYYfJgWtuyvP3uUggiSkSsvgLmHLvqLRjUr4IRQyt58c0FxGt9WESuRiif7hXFrFnbAgg2G9ebmXPX0NjYgXC+srWHTgCBIQPCqi7aNam4WP+eNjZblyibNSsq2hi2oay5rwnMYfuNpr3D57FnZ5tztXrhBTLKaqUCZNYnqoMuqK4s5icHjWXKE5+xcFGdvjd+YGxv89PEoIRB9Cb4/JhDN2KTsb341aWvULO6KVKnVDhQPUU2qxOE6uk5R23OY1fvz/LVzUw+6m7qG9tDIhFzhXLnXQiKC9Ocf+wWzH30BG68cGf69iiN7r8nKSkpZOSgSvr3KiOdSmOeMJQUFBWl2WZCf/bYZhiKgPZMBv11pqI+pX02nOB1k45XeaauhjQFC71U5D4lIUyjawmrIGondNHCUWx8h1jI+HFCoIStFxJEj5wZQ4zwWYJmFQ/lR9m0RCqaPykYPriKdauXULN8EQm6RpBtJci0/OevfzMI/ZlnnuHoo49m9OjRjB8/nltvvZXFixfz/vvvh8e8/fbbHHXUUWy33XYMGjSIE044gfHjx/Pee+993dOQIEEnJAQkwb8FLy+P/lts4bhAfAG6ClRfT1B6l/u+bHuC7y3W1TZSWVEIQrBqbStVlcWhGx/Sw8/6KKU9T8ICa0YBkPZrTYrQYBMhvZBUVxXQrSyfOfPWxtfJw8fMcZ0xxryhwWy39UA8T/D8q/PMsVbJkOaIuCKiDUFdWG7nbYYw/dOVrKtrIvrqtZ36UawGkEqlKCvNY11dC5uO64VSMP2TFUTkSEWL3Cjt5hQoI+doxaGkSBOQlpas6Snn615ZF66IQtjUuVtN6E+/3qXc/9hME8fhuKoFOgZF+iJURwBE1kcEijNP3AyAq/8xFQKJJGUUGxnyNBs3YgPglQiQHlz3p11paung57970S7Cm6uN7pQILXT09Qo9Z7tMHMzbdx3BUfuMQYSr//Zcl/RFBMRmsarsls8+229ogttN88pHyoD8gjyse19ovMfS4upt6VSKrLHjFTamxPQoAvNS2s3KqAlh7IbnhXOvYUiAEIbY2ufEdSuEWNrgMNOX1W+EKWgooiD2WAFEc79j2okMlWedXcvAz2JdyWK0WXqMG96Dme+/QoKu0d7eTFt703/8am/XykVDQ0Ps1d7e/pXGUV9fD0BlZWW4bdKkSTz22GMsW7YMpRQvv/wyc+bMYZdddvn6JyJBghx8yfJzggSdMWjSZOa//LL+4/cVAsNjqXq/iLh0QVTcP7uJAvLDQH19LUK1kZ+nVYmGpjaG9agGtKqBglWr9R/d3j2LCWuBCNetyb50cLiOXxcopQPCR43szsczV6MIqG9op6JUHx89YdEzG8V0KLqV5TNx8/48+cLn/OH8HYgcX+xyuxNnAETGnc8ukwdzza3v8eyr8zl0n7E5/WilxX3CqyuKmL+4ni037gvA29OXse2Wg7QGpOyxSseKCInAd7ZDSbF2W1y9rpnFy2vZdssBUePK/ieiMSiMq5NCSsGP9xrJ3256h5qVTfTpWWJ+PY3SpGxwtIKsXmWX6NStA/tVcNDeI7n7X5/wizO2Jp2WIZmMXNR03IcmP5Er2ugNu3PuiVvxx2vf5P7HZ3HInqNMdi5zbyUo38a52NgKsJmbhg2s4LKzt4uuU0hDkqLK9OFqf3iuaSdMTZwLe605rlU5SoxEEQQm7a9NHRyelnN+7na3b5uFCkNUQlc55165x4Vfm2ZuhSHb4fepG+RuyIUS+pp8W63dqBtBNiQgymS9ijJ52X4Vynz3C+Wz4ZBK3p7+MjvsdVQXc/fDRV5eHr169eLWR7++mIqSkhL69+8f23bxxRdzySWXfOF5SinOOeccJk2axJgxY8LtV199Nccffzz9+vUjlUohpeTmm29m0qRJX9uYEyRYHxIFJMG/jd7jx5NXWoo0Llf/VnC4m+FmvfuI/niG21RCQH4AUErxz6vPYZstBoBSNDa2U1JoXP6Qoa3Vs3sBp/50ArvvPBxthOcGolsDzH1mFB0dMP3DVYwb15OZn63ivAtf5L0ZK4wJnPts2hgGa/jp1eO9dxnO/EV1fDp7hTb+ITRmhZsBC4CAdXWtLF7eSO9epVR0K+DxFz+P9WGPi6/zB0gpKC1Jk05Jhg6s4O0PloWEX4Sr+qbehyl6Z8d70V9e4+mX5jKgTxlHn/0YTc0d0X4VRPavUkYxia7Vbv/x3qNQCh588jOW1jTT0NCOCAKkclyjApCBrbFiNJ9MwM9P3JKOjM9fr53KKT9/BoFniEQ0X1oJMYa6MmORgp+duDnbbjmAzz5fgwgUAT7xxYlojsKYjtCAd79DTLa0cF6Nexp28E47TpazLjpyjsvJtOX8CQ0AaUmZrZfhfH/F3KZCpcL8dIPOrZJhyIeyx9nq7GEci5tpS0bX57YlRdzlytQVUUKFcSbhThU4aokdtunb1yqedhOz49GkZcTASuZ89kmSJCQHBQUFLFiwgPr6+q/ttXTp0k7bzj///C8dy2mnncZHH33EvffeG9t+9dVXM3XqVB577DHef/99/vKXv3DKKafwwgsvfFPTkiBBiEQBSfBvQ6ZSDNxqK+a9/HKX+0Wsom+4ERszoj9/SScJ2fhB4vEHriDbupTdt90IELR1BNqVyKgcUmizK51O89sLtzc2ozXGAkKTSuSu+qZQQZa8PHj2uTncc9/H9OhezF33fcTvLthGJ7rybYpZa8za811DT7HnTsP4+SUv8Nizc3noidlc8rNttFGm7Oq+Cs+tWdUCKqB3jyLSqVL22GEDpjwzm9a2DgoLPHBdtkTguODotnpUlfD5wrVsOb4Pj780F98HTzo+/1oaJGZQq4AzjtmUzfa+jZWrmykpzmOHSYM0eZH2SrQhKkLC5hruIJRg7PDujNmwO3c+9DG33T+Ddx47JiJk5ndZm8ra/U2ZrFyNjR3MmVfL5M0H8NrUxaxe2xq6bxmvL0S4Km9iQMJbpcjLS/HU7QdrOzewDnXGoUnZETjfIyoy5eOZnex+VxVzj3EVDHLmPiA2p44KFhEP9xlRNLd2UFyY5xxjkfss2ufE025YwiolqSjVqgCBVgB1gHngbJemyrr9mkw536vSIWu538Iymgt7jP39CayS4hAi68ql7C5D9BU6BZqplF5YkIcSHr7vk/qymL4fGAoKCigoKPhWx3D66afz2GOP8dprr9GvX79we2trK7/61a+YMmUKe+yxBwDjxo3jww8/5IorrmDHHXf8toac4AeCRAFJ8P/CoEmT17/Tjf1YX0D6v7lalgShf/+RyWR44akHOGa/0UhjAKVTkkwmJ+4BYWIIIO6qZwvc2eBbV12IDLtzz53MhE36sLymiS0360dhQZSJTdmsWUrHOURpVBUEPouXNfHKmwsZNbyaJ5//nBdfX0DcsI2ISmNTB9lslt49S0in0yBg7x2H0dyS4cU3F9LREZCxiW1sgcAwi5VezRZK0bOqlHEje9DQ1MF7Hy/jX0/ONPaxh3X7Cn8zzOfqymL+8YfdANhlm8EUpNPRtYBWDEy624hUENrd9Q0tHHzyFDo6fNbVttHQ1EE67UVjRWfRCuddgfBBKEW30jStLR28/3ENs+aujfiRMufExIfACANWlRFRKEOAo2SZkHRbb0i4MR2+o1Q5q/dCRrcjJAu5CoaDMFBcmPe51crtucr5HKkgq2tbKC+N1Dpbe0QJhRISJWxMiDK9B4Z8mP7IOoKGRAmraChHHTFJE+wVSA+Fr3mZDR53q55bt7Uwa5Zxt3LnKEbQHAIdxpYAaVMDxJNRbFU4joC8dB4dHR0k+N+BUorTTjuNhx9+mJdeeonBgwfH9mcyGTKZTOjJYOF5XlJzK8F/BQkBSfD/Qo/RoykoLwciFyz709YIyWazkTlmvtBsTRDla/9i+1l4HiqTCdP0ilRK5543NUH8jq8WaJfgu4tPP3ydQf2qKC3OA6EQCAI/IOVFBpM14BSBTimqjPuRMUzj6+OuDzzGtcRDyoB/XLcX/fqWst22g9DFRaRuz7gzCaUDs0Wg649owiMZ0LuEhYvrmDlnDR/NWkW/PmUY69DY8BEJUUqQl2fSrJpg6x0nDaWsJI8HnpzJsec+gZT2eHuN1k1Ihovm739cQ0tLhnRKcvbvXzTB6CByU9LGqpsrdtl2KCcevjH77jw82m4M/rCoY3iuzYSl2ygvK+afl+9Bj6oiVqxuYkDfMiICKOP9mixaEhWG4Ry61xhe/9eRjBxWre1rPzDEI4jO8W0RRM+5frvcHtW/sPpGVCxSGBJkq4Pb040qFP5Zi8iGiKkW9pnIrV5v74UhF7EUyxauYmUzQwn8QP/Mz09rkiCUIQo5ZEdiyIXNiGWHZN2aiALG3a5dhins8I3yJwGpUNLqf+4zZQmtIRSe495lyIcKiZSZIxE9y8pDn2MLEIbqCLo9qa87JTXZTvC/g1NPPZW77rqLe+65h9LSUlasWMGKFStobdXZtMrKyth2220599xzeeWVV1iwYAG33XYbd9xxB/vtt9+3PPoEPwQkBCTB/wvS8+i/+eZhrQ+ZSumgRFsjREodEGuzsLiZWqwyEgR6v1KdCInKZDRpsbVFPC9RQL7HWLd2NS89fh0bbWgytChQgVYlApvuVjmrckIbRdpg9hwXosg9Je5qI8Ck5AVJZWUBt9ywNzv9aKg+SgltoIfeKdYgtaqBCo3zX5+1Db//xbYADOhTRow0hP1BaUmKhkZb6VqwtraNP1zzGhuN7smns1fzzozleF4UOBy65QBRhirYbFwfHnp2NplswPSZK9loVC9nxZ/QfSaKP4liPf543rbstv1QZ7s1yG2shzCL7LZSuSVtPqUleTx684HsOGkw/XuXoV3MiI4xKYD1/GtyFyohKEYOreS1B37CT/YfozOTBWYM5nJlOMeGQJpzJZ6uFeLEUAijdMRjOL4gaDw0vpUxpq2h7SohOfVRwnP1OCOCYVUF+10mzf3yse5/LW0dFBd2rlWkBSkTDyKdPpRRNsL+bdC6VRaswW/ZhlXFrKuVjXuxxxjyIEG5BQVDcmN/6tiPKGA9Is/6ZbJ1oYkmMqVVGk8/w1rJCVDCJ4xNwSoiCf6XcP3111NfX892221H7969w9f9998fHnPfffex2WabcfjhhzNq1CguvfRS/vCHP3DSSSd9iyNP8ENB4rCZ4P+NwZO3YfaTTyI8jyCbRaZS+mc6TZDJoJRCGoJht4WqhqNuWHVEePqPmHAk4WhbQkC+b1izegXvv3IvH7z9PKtrGxg/opxNxwx018KpLC9k3uJ6ysvzYvELigCpIPCV9kcPDTTpmNHWKLKGmgcm+FYEMGEjnV1KqQD8AP11aGopBDLnXInrcnLW8ZtTVJhHJutW2BaGwATaKBfaiK9vbKNbaR5VFYXssu0G3HjPhzQ2d7DFxn2icYVB6L5DBPTP0uIUj994INscejdLahrYaGTPcBwAAk9fgzBjdGI9CgsKiPlW5aoXKkqvG8169PtXWJDmwev24/V3lzjnRa5QwhC78FRMNigzXyWFBfzuZ9ua7RD4QbgAr8+xhMi6JqmwPRW6VkVHRB05LkNCRN6esfgHm+VKONtdUurCbV8QIyLh3LkuSrYb3Ud+Xprahjag2JxmlByXNLuQ4YSF14A7l53G7Y5ZOORDOdsVOh7EpMwVjiuVyh2/qw6aZzhUkWw3Un83W68zaRSbcN7NPfMVgUp1cuVJ8O3iqyQF6NWrF7feeut/YTQJEnRGQkAS/L9RPXw4RdXVtNbWdrk/cFKCrjfm48u+JJPMKt8rNDY28M4rDzP1hbuprW9hoxGV7LNtbzYYMBaRwmTn0ccKtD9yyhOoQGkDR0Gg9MqzXqHNYg13a0xJPPxwhdlVJqK0q0LZfQZCaMPN9B0Zv9ZoyzUkU5zwk41ob88SN97d8yU9qoqZv7iBbqXarWziZn156vaD2fenD9KvV1k0LmO8h30Kha3uLpD07lHKfVftx2FnT2HYoEoioqDHJlCoIDcTlONGlBuoHpKXXEPbXkc4EeTnpdhx4iBnlz3XbNDL/I5JrxC+iUuQ2vVKWUUnXNVXmvwEATadr5uiV1+T60olzPzYlX3br1EnTH0KEabAtTDzIbXbllJ2ll0DvCuy4SQUsK5+5LYbGf95aWjPWlVAdeYFsaQITl/Cbce6QFn3MhVXMBQ5yodzfWEbWXNo4DznRrlRhmyEirQIs6qFRR/NLCuj8mhOJ0AJRBCgAktszDVJBUqigjYSJEiQ4N9BQkAS/L8hpGTQxEnMeuJxs8H8CXNiQmROdfT/L7RxkSgg31X4vs8Dfz+Tae+8w/jhvdh/u4Fs0L9S22XSuseAIGUMMJP5RwUU5KVobQ8oSomc58iHQBi/dq1qqNCVxLUA7cqyNSpxDDIQygep4028UAXRq7+RsWpdY2wtiSzgkZ9vXWRsBfJwrR8AKQVlpSnW1bVSWa5XxyeM7cOzdx3CC28sIHKx8c15frRNCu1eZYzaCWN6cfvle+L7gUn36hrOKrzSWLYpIR3XIxUZ56GbjjQGbeCIAoIo25SjLtk4EeGZdiRR+uG4MmBd5rRGoszh1qBVpjvHcFZKx9koPf6I3GiCoZQNVneDnx3FQtp4IEsYulCu3PocISzZsM+ISzhNXzGD3yUp0RjCFgVmLLnELyBOdlwlRuW8XLXN6Td0+7LTZq9HoP+UZ81cmOfVkrJOfdt+7UPipjE2+8IsW8b1ytPlLoW5p5pzalInEFSWl7B6xRJKNhhJggQJEnwVJJppgv8IgyZ3zoYVOjsoIgLyVZSMro5JFJDvPJqaGrjq4qOprZnDH06dyJF7jmLYwAqEVAQq4KM5q40AYB1xlEMkoLQ4j8bG1kglsCu7CqRy3VSUUUgMcQjzh1oyYgxHZf3cdSyANrsMCbHZsjqpGtalJjLEI0PUXU13oY3J6ooS1tWZFWIRoASMGtaTM47ZjNA4FWhf+7DvINruKBrjR/Zg8fI6gjBDVzTWiJp5sYXzUFUxSkUsLVWoZthgZWG2BcSSaQeAcgPAlUM+7P9OYLcwao5vA9RtGwKhPBtKHh4jAhBhWt9OkddEmZ0sCXRjDiyBEkaBMMUAw30mhkIpk2ggOlepwMQM5Rr89lwRne/MNcDaunbj5uIssgg7LznxMvZyhGT56mZeeW8xt0z5hOWr6p3jbF9du221tHZw95Mz2fu0h3jg2dnOHkuI7XtHXRGA8HjmrXlsd/y9PPPmAmJ1PmLPrz43pLJK8OK7Sxh/yC0sX9WgiUyAUT40YVMCAk+nmV4y/4Mux50gQYIEXSEhIAn+I1RtsAGPrVpN4BIFq4BgYkCgkwIyf10tz89fEF+M7ApOKshEAflu4pJTDqc36zhh91Hk56dR0sRZSMHrHy7lor+/QXNrJudZsB88Cgs8mlszod0s/AClAm647QM++GiFqSHhuB6FNSpcgz5yY6lZ3sI/bvyAFauaILCuPzLWp44XwRi0kcH2/GsLueNfn0T92OB445oUf0I1uZAS2juyXHj5K9SsbDLKgGuk2nHbLEZetF3Aky/P4Z7HPjVzkUf3qlIWLK3TVbfD8y2BMAY4koVL67j0+rdobcuEv5M2Q5Y7xWEch9L7Al9xzyOf8MrUxeYSXHctozLYLGExwzxg0fJaLrrqddraMpFLlFlFl4AIVFR80IxBGnLwyHOzufHe6dH0Ba4SEjiOU/EA8qaWDg4+51E+mbtSqyWxe2mP14RUhXOvcfdTM/nRCffzwayVne9H7HzXlU+rOMP3uZHKba9h1P438eaHS3O+4lREmgzxsO3cMuUjdjr+AU787TNcd/8MtNEfpeiNfyVGWaw6Mj7HXfQ00z6uoa0jo8cZ1uuw35NRPFE4BgWPvfI585fW0bOqOEcdUuH5ysRWhfFI0qPDDyguyqOsOB1pNFJE4zSphUcMruCd1x4hQYIECb4qEgKS4D/GpjvvHCMgNqg85oKVo2R8uGIFd378MW3ZDF+IRAH5TmP1qtW8O3Mte206BNrR7iHWIBOCbTbtz5RrD6KkJM8Y/JG/v1UcUqk05WUFzFtUy/xFa5k7bx3169o47zcv8uyLnxs1xBqpEhmuctuvN/enYPGSei665GWmTlsWGdAqQAQeQqSMgerEmTjZlm67fwa/vvxlMh2auAgbcI6t4QFx1yiwJv5fb5rGDXdNp1Ma2zCuwSgQritUAP+4Zzrn//lVOjoygKKsJEX3ymIWLmskTjrs3Gl8OmcNv7nqdV55ezFh1qswQ5ZVG6IVcGGUEyklF1zxKrf+a4a2YUVU7yMiLY5K41zrzM/XctmNU3no2c+iawsCx1WI6N7m/Pm546GP+MWlrzBvUS2hW5WlHQKUsPEKRikwj8ny1c288f5Sdj3+AWYtWAvCqmjSMeYj0hupI9CRCfh47mq2OOJODj//MSKD3B1bZ2Uikw244KdbcsguG9KjosikinZIcOh2letyJTlolw15/Nr9+fCho7nopK0I40aEGV94R+w7PZ7ysgKm3XMUy186hSP3HkMsK5Ydc2yeNRlR+PzhtMnMefRENt6wpxU3YtcTZvkKP2u3rF23HsSbtxxKSUGe3uZ5COVHCpu55Amje9FQv5aZM94mQYIECb4KEgKS4D/GCUceSUpKZ2U1Wqdcn2oxsLycXsXFZL+k4FH0hzhRP76LuP+++6jo2ZOZK/MQxV5o8ygUSorQlUOv3BpnHqXixepQVFcUMnRgBUMHVtGrezHTpi8HYMNh1QgknhJIJUzqZmlW+oPQ2LauRQLFRuN7kpfn8c67y8KUo+AoAXYVPXDT6+qBH7z3aNbVtfH86/OIDP6uXLFcY1S7XE3evD833/shjU3tYY+RekHYhnJdyoDjDx7PyrXNPP7S52F7ZSV5lBanqFnd4PRp2wQI2H7LARTkp3j8xei8uLtWvNheQ5N2ExNCsNGonnzwyYrYNcSDz3Ndk/TWnScOZGDfbtxwn1UyrNtWdFbYjpOkQgjB3y7aCc8TnHbxMyZoPXD0AHOkiX1R5r4oFMMGVfDMzYfgB4odj7mXGXNWGaJBqECEbkXmubDk5Nh9xzL7kZ9y1uGbsmx1Ew1NGboOyI+PIy/tcc4RW3D9BTvz8j8PZYvxfc2Y3QfXzpHbimL4oAp2mbQBo4ZWk87TmdlskUFNvCwJcZ8tPZ7xI6rxvBSxP90xhaUrAgUVZYUU5FkNKRXeA6QAz8Zd2QB1R4FTNlW66UcF2gtREqXmlUDaY+8dBjDlzktIkCBBgq+ChIAk+I9RPnAg3fr3D5UPC6UUmKKEgSlSpcznTXr24HfbbUtRyuRBkFLX+3DS8+oTtS+zn/kSpSTB/yTWpuaxxZllrDqikI5SQZCShB5ToXEviAfB6n062JnYSxFQVpbPzLlrABg+tMJxQ7EtZB3DNVeBS1FQIBk3pgfvvr/MiAzGt90GHiuzam8NSOOaJJDsut0QysvyuWeKdomKBufUXsglJEYBOPbH46itb+OWB2aY4+wKtuNKFVuZ1jEgu287jD49Srjxfsc9CUH3ylI6OnwamtqjvhxSU1yUx86TBvPES5/jZ7POPic+wpn3pTUNLFhSRzYbsNm43ny+qJY1dc06u5ay9T4suYqMYheel+KEH2/EtBnLmTFrJTZeRKB0UJjCUWMs9NgH9i3jwtMn8srUxfzrqdnmWCeWwrrE2VsqlE4NKyRjh1fz/C2HIaVgn1MeoqMjUiAimhPKN+aSdcxKZXkhfz57O165+RDKStI5c+mOUebsi7tlxY53y7kjqW9sZ86idSxYVkt7NjDczagOsUB1G/zujHe9LmEWNuYj57ObhhjTj5DYiuvKHqvcPiJXMX3PDCHJzeKldJIGhQrdvkYP68nKNQ00NTWRIEGCBF+GhIAk+FowaJttNOEQIqzjoYRAOJ+BSOYXgvyUk4TNFh20P/3IT1sFAUImCsh3EVtuvC1rljZSnp9laX+P+h4+jVUCFSpjriHlrtxqg0e7OeFkQdVGo1SK7lVF9OtbDgQm3lyFq+06OiEVumVFRq9OtTth4958MnMVzS25xMcW9bNbtQFpM1vl50t+vNconnzpc9assy5QbnA0zs8oc5MANhnTm6026ctVt7xDW3vWOc6Jo1AYVy6jjAhIpQXHHDiOV6ct5tO5a3Hdrvr37saqNS3ONVhSo+d1351GsHpdC29/sAxbuyMiSHbs+tyq8gKkECxf1cRm43WNkhkzVxERDt85N/f30RrLAUcfMIb8PI/r75lu5s0UKQyt3tx7H93zU36yCaOHVfOLP71EQ0MbnUiOdauShoBg3bIUo4dV8cJth3DM/mP1ir4wblwSkB7KzcgXKixdBZ93RTbca4zea0Kk9xcWeNQ2dJjdemxKKRpb2lnT0MawQZWUdyuksTlDRFAdt7RQBbRB9MJQN5skt7PiFJGcaH5yJozwnofphM1mqTOkKWUKQeaYAwpBzAXWN257sSB2PV4lQErF0IGVzJ31DgkSJEjwZUgISIKvBYO2nqjfKKUJg+fh+z6pdDr8DIRkRNrPxhBVSoXbciunKyCVSv/XriXB14dxQ7dg1dwapApYV6BXwPPaBUpa48sJ7HUMpcC43ygCAhEgpEQIDxEECBVw+rFbcOMVe1BRlqfVCaGDmQUK6VtFwhb1062DNBmYUkzeeiDZbMCMGcuNmee4gNksUsZgFrHVbsnh+40mkwl46KnZvPL2IhMMnuu2A7lfr4UFKc44ZlNWrG7mtgc/dva4q8/WYLQGv/5dOP6QjclLe1x9+7vOWARSSkpL8li1tjGnT93m7tsOJp2SPPzMZ6Cgtr7D6ddZdQ+gR2UxmY6AtrYMJUX69622vg0Rq9gdERaNwNmn+6+uKOLHu43knsdnsqSmjtsf/hA3jiZ+ve4cKdJpj2t+szPr6ltN4L3MOc4Sjsi1CWEVBcHwIdVcdPok49rkTrF1gDJnuWKQcPN9OYpLbJ5y99v3kdLVp3sJ9U3tLFnZxJKVjcxdXMv8pQ3UNrQyoFepfn5j57okJ4irgML0a8iTjmuxvxP2gBxVInxO3XsizGNsVUbnXhoyKEyq4yjzmvPdLGV0nmV+xjVRf5dHJEoJj6H9i5g9/VESJEiQ4MuQEJAEXwvK+valcvDg8LMQgkA5WbCc7V1B/xlbzz6lTN2DBN819Orem9JUIatmraY065ORkM0PyKSsOWhewvWV9026VIybCtiVVmFcRlIpGDO8B42NHeivsRQxly7fN3aYNeRt7Qpt6G2/7WD+eunObLZJP4TywKblVdZQg8jYtepGQBD4TBjXhxFDKrn5ng85+fynkNLNPGTjDIhncQJ6VJUyZkQ1E8b24s//mEprm0sGCNuIzF1DRoSiZ/ciDtlzFPc9MZOVa5qjeSOgZ3UxTS0+rW3WzYpwDBVlxeyw9SCmPDeHC//yKp99vtrpzxrBeq6lkAzoU8rHn61mzboWAOYuqOXXf3vdXIXrD+eSiOga7Zz97NjN6Mj4HHHuE0ybURMerz3M3Pm1r2iFf6tN+vPi3YdxyF6jwuMiM9+LyINwZ1cQxoaIHHJi9wtplBNzbqiIuFfgGu+57lWWsDnbZUSOhJAM6lNKVVk+PSqLGdq/nCEDKujfu5x0Og0EtGd88vMcY98dQNi/Meyl48YlRKi0xI8NB0I0Me54c1RFYe+3o4RZVzD7M/b8i+g8IVDKZr+SDiEy8VwCqiqLqWtIihImSJDgy5EQkARfG3JrgigwlXjj29YH4RgC4Z9a8wdPdnItSPBdgBCCw/b6OW88Op/5n65l2mfLmfbhcpata0LFDCYI6wsIbSBpY9VVFSKjByGpqsxnzdoWvU/5od2P0AveAg8RCKTykCpA4mmygaCgIM2Rh48jnSd0IUJjZEUB4FEqXg1tlNU3trPPsQ9Q19jOkpoGCvMt8bFZtyQoL+xfQ19DXp6ksCCPc47fkppVTdxy/4fcdO+HJngZM4bo+Oi3RbdzxtETaO/wufbO9/F9xZKaZuxXeN+exSxfZVUQ3ZbvK/54/RukU5LulYVc8c936NOjLDxHz5kxQs2CeH5eigF9unHseU8xdEA5V9w8lZ6VhUTLA7mqRS48Pvh0FQef/RjdSvN5e/oy8tP6fipDJKI6FHH1I3LxCth0XB/KuxVExMMoHBE9U+Fz4HxyLt8htEKYvqPV/VBt6+L4uJLguhvZa7fE1CVQ5mwhKCrKJy9PIoSkI5M1KXP1MZ6UZP1c1SJXMVvPt6TSJEeEqXbdcdlxqEhBjsWWuD9dNyw7p+ZbN3RbEyD1s60C5zxlYk2iSpfmd1YR4FNakqahfm3X40+QIEECB4lVl+Brw8CJEyMWAUYB+WqPWKDUehWQrpSUBN8dTNxsN/r3Gc5HbysWfVbB/AVp7rxvAef/9VWeeGUOgGMgCpTyzWcZZitSAp2G1azSKgLS+WmQksC3VcSFcdGy5MXXJMAGlCulCXFgCAue8SxxVAMv5Zh/5hjhoczKcUW3Ah74xwFssVEfGps66F5VRGgAKvvqYgUZAEGv7sWMHlbJlhv34c83TuP8y16mrd0cbyuNh4X2jPGrdFzKmGHd2XP7Dbjh3umcf8VLfDpnZTjS/Lw0JUV5rFzTFPbteYITDt2E5Sub+HjOGoSAvj2K9HwEYCvBm6FhjdrNx/Xk9CMnMG9xHR3ZgIP3GBUdF5KEXETqzyaje/DsLT9mzLBqQGeMUkh972Kr+LlEy3XxEuZH4IxNgTTmsqmxEZIKYZWRiGwoadPwqrjnmMk4ZVfyQ+PcjVWLxfY4x8TGSs7x9lqiY9IpScqLFIhuJXnUrG5i3pJ6ZsxeldNGLqmw/UZKjS4WHzjP6PqUD5zthlR0GcviKisuUXFc+QRmnqSO6TM8RDdliYsmz6Ul+dTX5V5XggQJEnRG6ssPSZDgq6GkR0+6b7ghq2fNMlK+9s3P+XMX+2xXnANzrHucReDWE0nwnYMQgjOPvanT9nXr1vCHn+/HVhv3o6K8AFs0LTIUVXi+Mpl8tNEYGVilRSkamjOUd0tFK/RKIYRZ41Y+QkiUHxm7Oig9CB9EGQseD2wTiJg7VuQmWJCf4u5r9+HsS17QFc5D4qANRmXHAcSNVshmFTfcM4MVq5vp6MjS0pqlrd2nMN+4uSirBFhEz/0DT31Kn54l9O9dxjV3vM9OkwY7x2lXrHmLGqgqzyeV0qvXVeX5PHvrwRxw6sPMmr+WdNqmcI0nedCz6WEN7l+fOpHHXpxLnx6l9KguIgpGduMW7PWRs03Su3sZz95yKOde/iJ5octRV8YxIem0K+uuY1UUm+C0IZ05EugsXWFryukmcBJgaKKifFPDIvxiMoqBMqqHlOGKv+jSYI+UOH1r7LhUuFvZtLqmjVQYK6FjXEYOqQJg3pI6Z06DnPfuL4JLCAJHKo7fx2he7Tl2k3U/tHPeOfBeCfO8O8eE8eoypedYRtMlTNxMdEcVKOhWUkBjc1cENUGCBAniSKy6BF8rBk0ybljrKSC4Phcs9QUqh4IkBuR7iMrKaraavAMvTl1I6PZiU6tKCH2pkBAEhqzGjbGS4nyamzqMgeUGBXuhfUmg3a90Liw3EBhEYA0yk5LWFBbUioY2IG2hQQ09BiklV/12F847ZQvC+g1mbJ2fVDten7w8yZ9/tT377Tqclladmrq11caCuNmpLJRRAQJ2njSEZSub+HTuGpTCrKy7xEDQs7qYpSsbwyVqgaS0uIDHbjiYEw/ZCCedGFZxsFnCIgSkUpKb/rgHJx66CVaJiX533TZkzk97HQHptOBvF+zI6Udu6vRnz1fhcSH5AE0SnLiUzgZ156D3KE6IaF8YH+K4fplihEpElnSsCGDOVcZJQO747Q/HsBcifBtXQhzSJbSK0NSSoaQoz5kHV0FxVTOLXFcvQ4LceQjPd/vzsEHkYcyGECBSxKqmKzsT0fnhM+Fn9TMSCISS+hQ/Uj6idiEvT5DJ+mRN2vUECRIkWB8SApLga8WArbYi8j/uAuGyWnx/oAgJiE3nG52i8BIF5HuJnQ84i+mz61m4tNbZqn3vreGohCEmYR0DsEZaXlqQzUZVyaWKYhSk0TYkkigDkDXkcleanZoj+CBMYG24YuxUAw8hGLthT7SpppxjcfrC+WmCvaXHRWdO4u6r9mbUsGra262xZuMQcleQtXtRt7J8Hrx2P35z5mSkFKRTbrV3fWZJcR75eR5raludawwoyBf8+pRJztyZ63RjB3JcoSaM6cVePxoKyidKY2yNY+PS02U6ZXucvt4eVSXGiypSnez1akXLzrNRNmxCAGcmI5ckt0aGJX02JkN0MqLdZ0bZYVnxIxbE7hAJE1Adrux3RSQ6kZ7AGPGu5OvEjwhnrEKSl5a0ttmih3af219cOYvD3Fdhj+7K/Qpz3Tazlo1nylWvRNSk2a//6SKPYUFHnec6rL0iMa5YfuAQL4mQHiVFiro69/c5QYIECTojseoSfK0oqqyk5+jRxodFOEG9X4yASAEJ1x0dQrK++JAE322UlZXzk+Mv4s5HP6GlJRMaOqGhJKMMPNYws7EiEBAECinjKoAuJGgDrLW7lbatZNi+UAoZKENRDHEISa5tx5IBV2lQUfyE9vHSfcWOWd/XavS7kJ9OscVG/ZhywwH0rDYGeqha2PgP26ZNxwsIyS9O3JLHbzyQqvICOhv+Ab27l9DQ3E5zS5sxUKMAiLAf5Y4zd7zGADa1IYRzfifSEnPNyiUIQczmtRnMol4Cxyh2jHvDFDT5tNuNWoLvNOGMX2ACpx1SkWP0u3MULpIYIhGSEzeQG2vcx0mnsvE+7nYbgwLmObL3zVEmjFLm+1nW1LXTkTHqj9N2HC6xcPcZlcwJALdB+Co83iofGPJuVCbpmfH5TtM2xsS0JxVI5964KXp9c+3SQyhTJtKqIeZZ7FZaTFPDGhIkSJDgi5AQkARfOwZN3oYgm0V4XljVPPdnkMnEVQ4EOMdITxfNUkqhpCTI5KYsTfBdhVKK+vp66urqqKurY9DwCQwfM5k/3/wBK9e2mpIN2qVDw2S+shCg06taN5pIOVD4iDC0TWiCYFyotCktbbi6JhGhMa2NPB0aEESGtUgRZTuKFAehfJM9y2oD1iC1xqJr3Od+zeoL615ZSDbr45kgZRG2ZVzCwjZNu+a6FbDD1kMYuUE1kWEaJyID+5SzfHUTbe1ZY+S65mlX7j3RuDq5gMXcf8R6ftpj7Iq7Ow/RvYsRElvp3g14Dn/kEisZxgHFyZB7rLlG6Rj97mXYfizBUfYZclzMhEOgpCa9EQm1R0lnjLlkw86zIThCOW3qca5Y08yqdc0ArK1rjdqMKVAuXIIGjc3tNDS1O/3oOiGhZiNlRNREpMK880kNi2vqIBbEngvXfUsQBHD305+weEWTrmMiBAQSslk9L7bQI0oTOQElJfnU165cbw8JEvw3sd9++1FRUcGBBx74bQ8lQQ4SApLga8eALbdEptPrJR/K95HpNG6ciAp8ZEqfo6T2+Rcmi40KAvIKC7+9C0rwtWHOp+/z51/9mEtO24Hfnb0HvzlzVzYaNZDb736QbLadz+atBiRCSYQPZG0shlFC3J9AOpUi05El12CNYj2sQmGNRE0kmlvayWSsC4xRRgIn65Wya/BZtJ+7ac3PUlvXFvYvQsPRKjTWYPdBWCKkCc6K1Q1ks3GXoX69ylhaU2+UQvuKE4Ag8Fm8vM7Yhk6RRHt9QERS9LmeB317lvLRnFXMW1zPvCUN1DW0hYpkaMJnHeLkED7QyR+itnNIQqfg82jMNaubwnmI1CrnaGH+s9nKTFvtHRkWLqk33TguTgLthqelKyA30F8ydfoyfN8x5KVECTeOxHG9swRWSGYvWMf9T39KNrBkwydSS5RzWdYtyZyL5FdXvcZVd7/LC1MXsmJNs3FZSpm5dJ8JV+VQvP7+Ui666jVOvOQZTvntc2SyPlFiBXdO4+rLuvpWNt7/Vqq3voodjr3HuQ/KUS9s/RxN1JTSZOOk3z7HxCPu5mdXvBTeLiVF+MTRKbWvHsM9T8/iqAuf5sVpC7WiEqiQAwolEGG9HfPsiYDiImhYN48ECf4XcMYZZ3DHHXd828NI0AUSApLga0dBt270HDfuCx+uBz75hNOeeSb8rIjslCggPXLh8rwkYdt3HXdceSp3XH0Wk0bn8dMDx3P2Tzbm50dtyrnHbsEekwfyy+O3YtvNB5ijdfYqISUou1ptiwXq95vufAtnXPAMBfkebe2BsYus64nj3x7av/rNhx8vZ/gm1/H0iwsIjVNhgrGNsiFk5/gKUBx9zhPsduR9jutM7sq3LfIGqIgYfTJ7DWN2upk7p3yCu4Kel+dR0a3QFBe0/bmGoOCnv3yanX5yLy0tmZy6Ol245oTZjiQfz1nDTkfex/SZKxjYp4S2joC5i2pZva6Fjg6feYtq+XjOakIjNtBGczYrGL7jDZxy8XNECkBuvzKnfz3mZ16fzwY7/oM33l9KZ/UnCK/bthu5OEkOOvkR9vnpAzQ1dzj95RKciGRZzJi1gh0Ov5eDT3uY5pY2XNVGhW04aozwsO5ZNz84gyN+8QQb7nEDl948lbW1LY5aYvrxPMK6IeZy29o7+OeUj/j5FS+z28kPsttJ/zLPqFs1PCA+VxrNLR3UrGmipS1DUUE6VMDi15VDmoCKsgKG9K/gZ8dszrW/3smZE3eOXLWKMIZjz2034LKzt+WmS3ahE6Rw7oXbv+LQXUdwx+/24Oi9R0c9qQBkKjrazpdxS+vogMLSfp37SZDgW8D2229PaWnptz2MBF0gISAJvhEM3Hriequeg15wbmjvCFdZ3Vof1lzArNAFSuF53vqaSvAdQENDHW9NfZeDdx1BZXkRfXuW0LO6iB7VRZxw8MaceugEXUhPaUNGKcL0sK7xGwSKppYO1ta2kU5J3pi6mNa2rFEWiK1gK6yPf3wledSIHqTTHg89NjNnlNbY84waYgxIFWi3LhWw1YS+fDx7NW++t9Sc47pfWSKSE0sCjBrWneFDKvntVW/Q1NyONaQVUFVZRGtblrZ262boxoAEHLrXSBYvb+CP17/lzIQbVJ8LvX2TUT0Y1K8bF175Gpks9KwuYdjACjypWLqykdbWDBsOqdL9KHueIpVSbDa2N1Oem017h2/cwuzLDVh3+9djnrjJALqV5HPJ1a+jVIAICSNOPy6ZiMjCaUdNYO7CWk6+4BlHHM11uzL9CutyB+M27MXvf7YNT748j52PuJ9lK5uJFBZLQi0VsYqE/vync7blrj/vTd+epVx07Rtcct1bREa8GbcyKWhlVIW9ID/FipdP5fMnj+fxvx/ATb/b1aT8Nc+bsCONsk9ZHHfgeN578Die/MdBXHXBjibFuCU47nemfX60aieE5KGr9uePZ23LFuP65tz7OMkJNxnCtce2G3DOUZtRXlbg9OG4q4V8Mv7seqk0h+22YfhdLqSnXbGyWa2uSBBSj9G6TDa1BpR2606C/11cd911DB48mIKCAiZMmMDrr7/+pedccsklug6M8+rVq9d/YbQJvq9ICEiCbwQDttiCVDq93v1pTyKFoN2ka4wREKXCgleWoMiEgHyn8c6rU9hybA9GDqlmaP9yiosLjI2jV1qlJykqyGPdumYTrYGx5wMEEj9QLFjSwMJlDTQ1dyCl5OSjN2Fg/3KGDCinpMjWt4BYlitbhDA0nD3y8gR77zaMZ1+cT119q7EUtaFm40hirlkA6Of0J/uOpawkj7/f8T5hJqjQ1cYYrSpAl1hS+nwlkBIu++X2rFzdzOU3vG22R0HafXuWsmxFk2nLjQER7DR5KAfvOYorb32XD2fWdHI/iq7ZNGa2p9Mef/r5dixcWs/Vd7yDNXAryosZ0r+c0pJ8078NflchQTh0z1HUN7bzxEufO9fmkis3BsTOr09pcYpfnLAlr7+3lIeenRMWDLTHagEkMBxCRTwGyc7bDOXXp0/ioadn85ebpjrXZUlDpJZoQ1/PvxCCs4/bnLuu3JtZ89aw9QG30dzSbkiAo9yIwFxl5HLmpSQ/3nUEr95xGDMePobLzt7GHNvVn8Z4/QwhBAP7lrPLxMFMGNU7UndUjhudE+geZeoy9WlC1zuHZAmrojkqXoxwum5/ECkfdnwO4XZS7UbPTe55XZBY+2CGz3+kPCkbn2Xrp/jK3Gf9e9Da0kxBUVkX85fgfwH3338/Z511FhdccAHTp09n8uTJ7LbbbixevPhLzx09ejQ1NTXh6+OPP/4vjPiLMWHCBMaMGdPptXz58m97aAm+BAkBSfCNIL+khMGbbbbe/XsMH84Zm21GoSEpCkICEhgCohcx9R/aVCohIN9lzJvxLMMGlhN35fFoa8+waHk9cxetQwgoLkxjjazQBgoCVq9uxQP69y6hV48yKrrlceSPxzHltgNJpaR2vQqNOGtYYVZ43QBxTS4OO2gsbe1ZHnr8M8CaZI6BKaLgY71Pu4KVlqQ58oCxPP7C5yxZXgcYpUYpIOV4DmWNkR0ZlpM378/+u47g6lveZd6iWqJgcEVenkdpSZpVa5vo/LUc8OdfbU95aQGnXPQs2YxrmLoKhCDKQqW377btEHaeNITLbpzKslXNzrVCr+piVqyxhE+fawnJbtsMoWdVMY+8MNscnbvCHjg/XWNYcMphExg5tIrzLn+RpqY23nhvSXid+gjblluTRRvXvzxlS/bacQMu/utr3PfYp3QmPNbQNoaz0HEbCjhg11G8fO9P2GXyENo7jLuUlCh3PsMYEhUqAfaWjRzanaKiPMMn3TgMF3E3JUUO2TCH6ABtYXa5yoYKm/D9wFF21xcz4qhHne55fN6jnw55sdch7VzYeZM5lyYi0iHc79qoL2Vd/ESA8AzBdqfFFP/sVlZE/brE+PtvQsezfTX89a9/5bjjjuOnP/0pI0eO5Morr6R///5cf/31X3puKpWiV69e4at79y9WurbbbjtOP/10zjrrLCoqKujZsyc33ngjzc3NHHPMMZSWljJ06FCefvrpL2znwQcfZOzYsRQWFlJVVcWOO+5Ic7P+Pnv//ff55JNPOr369OnzleckwbeDhIAk+MYwfNvt1rsvP5Vik96RfBuSDuj0J12hSCUxIN9pDBr9I5bUNBMVT9OG1uKaZnpVFzNsYAX9epVQUJCio0NpNyXh6bqECqq65VNSkqZmRQvz5q9l0eJ6Vq9uwfc14VCmkKCwRhIQdxFy4xgCtti0D4MGdOP+KXYFzxjvwr6kMdjIOV9w4uGbopTi73e8x+X/eIv2DluHJBuqN6GKY9e8zZj+9Ivt8TzBz/7wEoHyaW6J4h16VJXS3JKhqbktZ/Y8ulcW8edfbs/0mSu54p/TiIxPa5i6LlGRUiCE5Irzt6ejw+e8S180xrEeYUF+GqUUmYwbpA9CeKRSad564Eh+c8ZkZy7d+cxVYKKYDVuAcNnKJs764wuc/Yfnc65HmVgWt4K5HrOUKf55+R5M2mwA0z6sibUbvc8xup06IuNHdufGP+1GZXlBdN9EbnyDcc0KXEIUNadAExVbsDDWZ/w6QOgH1H53hfNL2H4IKcOYDKSH9KBmdSMr1zQ7yQnMvXOLGobphLWCF12+q5TkjDO2D+IExqoiufcSdKC9TR6Qax5o9QYvpWOgfAikQqUk9l4qoaiuKmDFss+7mK8E3xQWLFjAQQcdxIwZM77wuI6ODt5//3123nnn2Padd96Zt95660v7mTt3Ln369GHw4MEccsghzJ8//0vPuf3226muruadd97h9NNP5+STT+aggw5i66235oMPPmCXXXbhiCOOoKWlpcvza2pqOPTQQzn22GOZNWsWr7zyCvvvv/9XTvGf4H8XiVWX4BvDoC224P0bbyDb2gpfEA8CkQuW9oYx7lhChElXZKKAfKcxYtw23P7SPShTCRoCWtt8igok+Xn51De28MGsFXw8t5aFyxvxvCwnH74Jg/pWAj4FKY+8dCFVZVrRyKiAxmafBYvWUVSUhxSKiopC8vLTYPzuEdJYhH7nRWoBt/19L9aua0UJS2C0YiGMERatWZv0uCKgtTWLlAE7TR7Co8/PZWlNA784cWviRMcjWsV2jFgl6N+7lF+evBUX/+11pjwzm5feXsTff7s7dlV/QJ8y5i9uYHD/fFKhYafdjw7ZexQPPz+XP173FntsN5RxG/ags4FsiUnkVjN8cDXnHLcFl93wNoe/Mo/V61o4ar+xCAKqK4pYXdtCnx7FURsmwL5frxJnxlxj3KzoK4gbsVpd6shkqK4sZNdthvDujBrmLakjk/FJpyM1Q8VW7xXCZGtCSEqK83j2zsMgRlbdObWIu53ZNkXseJ2ZCSFQgeqSRkT9CE0STAySiKl1nec5TBMdoEmIO1WxxARWhXOv2ae6spjK8mLqGlpZubaZPj1LcfJSOedBrBYH0ig5TgV5V+0QwiHhOe3IlI7NCbtxnhWrioT7clQiIRCeRAUmM5xUCCEJAh3/IUza4v69S5n+4TPsvOexXc729x2TJk368oO+AQwcOJCNN96Yfffdl4svvpjx48d3OmbNmjX4vk/Pnj1j23v27MmKFSu+sP0tttiCO+64g+HDh7Ny5Up+//vfs/XWW/Ppp59SVVW13vPGjx/Pr3/9awDOP/98Lr30Uqqrqzn++OMBuOiii7j++uv56KOP2HLLLTudX1NTQzabZf/992fgwIEAjB079osnw8Euu+zCBx98QHNzM/369WPKlCls9gXeGQn+e0gUkATfGPKKiug7YYL+8GWrFY4CEoSuK0b4V4pUav3xJAn+9zFg8HBS+aVceecHLK6pQ+GxdEU90z5axtV3vsMfbp7O8sYqdjzwfK646RV+eubfuPG+mSxdUY91g5IKpAoQSpBKpagoS7PBoArKi9OU5BeyaGk9HR2+USNE+IorBWDdlDYa14sdth0M0o9WpoVdATbHGSKsCY1HfoHkzoc/4fnX57NoaT35eSm0Aeeu5Zh0vo5KoEehyc1Zx2zGhkMr+cPf3+Kpl+fhGqae59G3VzFLamrJrakhpODaS3airCSf485/ivaOLOvq2k0frsHZWUP85YlbMHRAOade8iznXvqyqSMhKC3Oo7m1g45QBbHnCueFcXNyVtpD4zWe6UoR4KUkH85ayczP1zB7wTqy2YD5S+pix4QB0utVGFTOfj9nH7H51ad35SJm40y6+P6Rbv0Pe06uC1JXmakcIhEWMxTaCA+VlcBqX87xLokDhC6iWdmtgJYO37kym0TBJWBu7EduVjIzNqFJcjhv5nmOj9+PyEkYtwExVcQhNQp0fAdoJckmiPAUeJJAKP3oC6v+wMZj+lBTs5L5cz/KnfEE3yC23HJLlFI88sgj/PGPf6S+vn69x+YmiFHO39/1YbfdduOAAw5g7Nix7Ljjjjz55JOAVji+COPGjQvfe55HVVVVjEBYMrRq1aouzx8/fjw77LADY8eO5aCDDuKmm26itrb2C/t08eyzz7J69WpaWlpYunRpQj7+h5AoIAm+UQyaNIlFb7zxb52jlELaisbKeOInCsh3GlJKfvXnx3j7lUf4xz1Xkmlvo6yiiiFDNuBH++3M2M12JZWKvo7GbDSJw0+4kGuvv5AtN+7LThMHUVQcFRgUSoCSCF9RXJjPgiW19K4uZtGSWgYNLDdtmexDoQuLPhcCbdoJgQjrL1gj0f0j7CPsSroAZdLzXnjmJMaN7MEJv3jKEBCJDlJ3g4NzjURtSDY1t/OzP7zE5wvryPoBqZQkCPzweQdFUWE+pSUZlq9sok/PUlxDvGf3Eq65ZCcOO+sxLvrb66yrb+OqC3ekqNBWRbdKRERIgkBx/5OzGT28Ox9/toqaVc0srmlgzLB8APr0LGP56iYG9alwxh2N3SoTKGXUIFMvg1yVQBMsKeEn+4znoN025IZ7P+SyG6Yyd2Etw4dUmSl21AlnnAJMKltiRnCcFEFnNcGeo0K+IcLzbCtupimM+4avM1cFbnvWXc6VAlwFQ4ZGvsCkCRcKnQ7KqiLxcUWB8Nblyxlb6GKlNAkO3MKHuc+Qo9R0ChzPUU6EjQFxyIayLmOglES7LKLvR0wxEdh4jvA/GV23kkRE3R0/oDxIIdlt+/48eNfFnPebKfzQ8Ma/+ffu60Amk2HEiBEceOCBXHzxxYwZM6bL46qrq/E8r5PasWrVqk6qyJehuLiYsWPHMnfu3C88Lp2TjEYIEdsWLjwGuc+0hud5PP/887z11ls899xzXHPNNVxwwQVMmzaNwYMH/1tjTvC/hYSAJPhG0WfjTcgrLaWjsRGZTusK6LYSujR/FIUIq6PLdBq/tRUvv4iFa9fyeV09bdksgwflfduXkuA/hBCCrbffj80m7Ul7ezslJSVfePwmm+/MBhtuzhMP/I3f/f1ZevcspT0DmUwbQwdVsMnonvTpXsp9T87m08/XMGFsd3bfcQOWr2hkQL9uhEZcuAqsDbtAAPgopIlFcANts0hSZr9eMRbIyEAzWbn23XkEwwZW8rPfv+ic7xqOEK0qW+NQUFKcxw1/3JWdJg/hvD+9SM2qJtbWddC9Mp/IbUi7Ri1aVk99YxvdSotwje79dh3BkfuP5c5HPqGusZ3TjpjA+JG9zX7f6Vtfk5QBe+8wlI8+W8lTr+gCcYuXNzBmeC8goKhQ/241NrdRUpznGMiu25M1tJVDSAI9hzlxPdaWz89Lc8ZRm3L0ARuxYk2jSQjgEhubfYtwu6U3nZFjIMfgEj9hxuMcKxQq8Lt2vwozVjkEQ+W6ernH5JIDq4QoBB6BIatR+l/nkgWgpHPdcVc/beg7XSD18Ey2NN2bCucnSnAQJ4xRZ/raOxMWo/Yp5551Os9eNyGJV2CEPY/A04qPTpVu/wmd2YuATcb25r7HXulqxhN8A1i4cCGPPvrol7om5eXlMWHCBJ5//nn222+/cPvzzz/PPvvs82/12d7ezqxZs5g8efKXH/wfQgjBxIkTmThxIhdddBEDBw5kypQpnHPOOd943wm+OSQEJME3ilR+Pn032YSFr79OkMno6uZORXTtr6zCbUEmgxICfJ959Q1M2GcfBgwezLgtNv+2LyXB14R0Ot1pVWx9KCsr57Cf/oZd9jmJNauXU1hcBkg+nf4Cj7z4DMuWfsAOuxzEkWeewu8vOIhxKxqpqixg+YpG+vQuAxQENgbEGNSKcBVe23rG6jNGX+D7upA0AiVMwLQxuPUKuyYho4dX88hNBxA31EPrkXiRQtf4lhy423B2njyQS658g7W1TXSvLCAeNyLo37uCBUvWkk7JkCSA4M6HP+HZ1+azrl4Hq89ZuI7xI918/IJco7KyvIi/XrATxx88nvMuf5lFy+pxV9j79iplwZIGNijKc5JBREHioWuQcNoWGBISKSHKugKZTwClJSlKSyuwhnKkSknnsCiFrEB1oYRY5Aa924NsJrL1GOTm9hlHN0L3tlgaXPNeevo7SQUIe99j7dn7iTHwLanwnSPMMxO6NJn2jUqjj4lIQUF+mpbWLEWFKSdzW7zH8KdpV4USRa7S48bG5D5/Zq5i8TAiUnFi8T3mcOlFtEdqUh2Ao3zo3xM8rRL6gJcSeF4emUzmK/+uJ/j/Y9iwYV/52HPOOYcjjjiCTTfdlK222oobb7yRxYsXc9JJJ4XHXHvttUyZMoUXX3wx3Pbzn/+cvfbaiwEDBrBq1Sp+//vf09DQwFFHHfW1Xksupk2bxosvvsjOO+9Mjx49mDZtGqtXr2bkyJHfaL8JvnkkBCTBN45Bkyaz0MjSQkpUEIRExIXdFq4rpjy2/NGP2PS/sMKS4H8bVd17U9W9d/h5wMCh7LbviTEDZ7e9juO1N2/kxKM2ZcGSWurr2+jWrQhF1thJ2ujUrj5+uNgboO2vuPFmDDX7vOZmNDKr/gX5eXRWPnDe2/iQrPkcHVdWUshff70jnQ1mvV9KGNSvnPmL6xjcv4JUClA+R+w7hs3G9OGiK1/l8Zc+Z86CdXRtIFtlgrCPkRtU8/iNP2ZtXQvWKFb4eJ6kqjyfVWub6VFdoklIGD9j3JLC1XQHoYFujfAu3LdkfP0+Wl3XZNB1LIpUDBN3E/bnxkLEWickE1bpCuM9clb9JSYQXUXNSWmGbIhCSEgcoiOM+5fyHaNbGYXMjkmA1OpLdPVdjTWuLmDcuKorC1hS08TgvmWkUnY2DDEQzr1V5rkM5x1DmAyxdtUo4W7PvXfKHYEzLtu+mQpPF+VUns4K53tGpRFGWVIQpHIyZnmAkhQWBDQ3N1NeXk6C/x0cfPDBrF27lt/+9rfU1NQwZswYnnrqqTDAG3Sw+rx582LnLV26lEMPPZQ1a9bQvXt3ttxyS6ZOnRo775tAWVkZr732GldeeSUNDQ0MHDiQv/zlL+y2227faL8JvnkIleQyS/ANw89keOi4Y2lvaECmUgTZbOSOZRSQlU1N9K6oIMhkWN3WRlV+Pi/X1HDmVVez8VZbfduXkOB/HEopLrvoUCZvks9GY3uTUQE1a5po6/BJpyTl5fmUlqWxhrJeSYaYKgJIPM1TsFW0lVm4VsjAGIUmEB4wLlwWue5Xua4tut3INcuNFcjNmkR4TEtrBytWNzG4bzlCSGMw6r7enr6MD2eu5OSfbGZchzqvnkdjs+qFWUEPd2lDVSjJ3IVrGdy/HM8ToZ2swKgiXayk2/5C+zZacVdCoeMGcvpz2lLGuNYJAzpnborOcRUk25kdg+PnpOxsr2ce9NJ9NIfGpY7AFoU09ySw99+63jl9mOvU10e4TWFEhNh1ivA64nEpEUHMZALSKY+GplZaWjP07l4SNRpTZ1xI5xjnOkNlw/XlCiJ1I7cNe91dtG/5pyLQBEQospLQuy8QgkAqSOkscuFdCTw8X3DNTdPY74g/s+GoCSRIkCBBLpIsWAm+cXjpNP27SK+3Ptg0vApI5yWxHwm+HJ/OeJmW+uVsvGEPlB+QSkG/Xt0YOrAbPbsX0tKSZf6CWq18QOQCFBrtDkWQYAsRWu92hEdgixPaCtad1m6sMewaf/blGpNuVeuAeKyIG2sAoCgqLKCyWxGLlzcQxhaYEW+1cX9OPtw18FwCZF92e2SAKvSKtmvHKgJ6dC9ixboWx8jG+Pm77XexZmVVAqyTlR9buQ9dh6xrGxgDXr+UCGJVQaIrlI4hn+sulWNQG1YZKilafjHvBShJVAQx90S3D6sMOe0Ld/z2nC4UIUxXws5DEGWRMve3vrGduQvXsGBpPfMWrWPWvNUEQUBxYZrmlqyjIbntu/24dTzc7GX2sl1S4gTo515yl2mJnXutdNYrH0z1cxEWPw8EBCb/gp0pZTKBBULX5OnXtxsL503v1EOCBAkSQEJAEvyXMGji+nOjKxOInotAQSrxH07wJVBK8fj9V7P7toPxTMpbAhCBVjby89P07FFIeXkRa9a2d2U+A9bE03U3LOkAgRBCG9TS00YWAXh2KVgQGfnohzasjB4FrutMSzlpWENYEuSqCvYFKJ/y0gIK81OsXNMSbQ8Nz1wyZElOVENEw7ZpjdecsUhJaUk+7e0m65cwcTGWJGCIi2O2RimLTYYkG0Mgo2tQYRxEdE5o0JtxKSnByyU65qdSxAPDpVEkIvakwqKC9jTneEMWbcIBYWJ5UAF+NsD3c4x463YVpuN1Mmg5V7F0ZbPO3GOVH2Hoj+NtpacrCEmcIuCz+ev4cNYq5sxfi0JRXJRGeuClUuTlS5pbOwhJGtZZStHe4fPoC3P4801v8bu/v6kfqZA42ZiU3GdMb39l2iKO/tWT7HbiA6ZKvBtIb4lv1JYlXwuW1rHj0fey7eF3m+QNhlylPJAKJRS+VPr+2XYEtGYVr7+zkBkfPEeCBAkSdIWEgCT4r6DnmDEUdOsWfp6xYgXPzpsPQKAUXpcEJCCVn/9fG2OC7yY++3ga7S2NbDSyNwqFFB4i0MajRGIrUleU59PQ2E7NikYu/v0rzPpsJcL5CtRHmUrTUqLIRm4zhoQ898o8fvu3N1CBNuK1cWjqfrhx06HAESCUpKExw6kXPs30T1cR1QiJDPD4inrgvAQvvrmQo899guqKQtra26lrcCsGd/69cVfajzz3Cd79qMZst+l5c1fVI7VFKUUQ+Dz8zBzOu/QVQhXFhiSE4zTEQ8rQAFfAmvpWDjvrUebMXwO2doiI+lMYcuIUuFPmWv/15EyO+vnjdGTdQH5bUd4axxgyEpGuhsZWdvrJvTz50ud6e2DmVGHIoEDYOXdUEoHknw/OYKN9buW+pz4j6wfRzROR6R/NT/SsBIFio/3/Se9truVHR93Dp3NXgjLRFPZ6w5gK06Y5/aWpizjiZ4+zz0kPsd/JD9O3p/1eDCjIT5HJ2ngbe9kShVbdDj7rUX595Ws89uJcQ1TcZ8Z1EbPj1dueeGUej700lyH9yp3aNXZOvdj5YUyIl8JHMndhLT/Zfwx4Qme/kqBUlgBBIAW6Enzg3EvJ0mUNLFxcz7Jla0iQIEGCrpAQkAT/FUjPY8DWW4ef3122jEfnzAHAt5XPc1xaAqWSDCoJvhSP3fN7dpvcX1MFI3+IcMVcaRJi3PX79y5h6dImbrjlA66/+QM6+8U7cRRSEFhyobRh++rbi7n8urf58NOV2KBsrQr4zqq5NnhFaDwrOjIZHnthLif+6ina27PGMHaD1xUmejdnPIqZ89Zw/5Mz+eUVrzCgTzlra3WsgIYbNA+uOtLaluHN95ZwyJlTWLG6mUixMW5KQRDGRNg2pBSUFOfz6rRFXHP7u9z7+Me4Wa+0AmQUixz3LQQ0Nbfz0lsLOfysR2lp93Ncs6xbVqSWaGNbk5wFixv41xOzOPa8J/V25/qEJRxKjz68CgWNTRkaGjs46JQp/PHvbxPE1BAb7+GHKorrxta7RwlKKY76xeOM2/sW3vm4JtynlR+3Nnn0rGSyPr8/fRv22HYoa+paWb66WfcTOGpUeCsd1UhK9t9lOPdfuy8PXb8/d16xFwX5EdlqaOqgtNi4nYaxMnq+8vNTvHbPT1jy+qm88/DRlBbbxRmrYESEw1WlwOP8E7Zk2Sun8/cLd8UlnNhn11GrrOKi8NlgYDfmPHcCxx2ykVaMPF0HJJBoIiIi1SPkhwRsMLgbV/5+Z6qqy0iQIEGCrpAQkAT/NQyaFGWz8oNI9QgsAclBoFQSA5LgC9Hc3MzymlWM37AnwgZDmwVs6UeuKVIJRCDIz8tj3Ohqdt9lGA9MmcnipfX6WFLEg3eN+42whrNOGPizE7ekW2k+F17xKoEtQhcGtdv3VhWJnunulWVcfdFOfDx7Nb+96lVnn+ty5bpiRbEjpx25OcceNJ5rbn+fG+6dzsC+3Vi2sp5MJopfiRCt1vfqXsp9V+3PmtpWDj37Udo72nFdiURMhYnO7VFVyEmHbcym43pzxsXPMXdBbTQuERBV2wbXsEbAoH6V3HjpbnwyZw0nnv8UQeBH82OrzSPJ+gELl9axcGkdK1c3oPA595QtuODMiTz01Gccfe7jpjq7q4RI4jEwurl+vUp4+d7D2G+X4fzumjf48elTqG9sdUcXUz6idL2CvX80jBmPHsttf9qDkqIU8xfXRS5VsQYs9Pb8vBQnH7wxt/x+Nz565Hh22mqQPlw68xkjENFAhg+pZO8dR7D79hswfnRPFNDalmHR8jpSKYnnpcJjwz5NwPtm43vTvarY7LXXoXCJiqs4WXWjqqKQwgKrfJg2ZTx9dBjzIqV2MRQeSI/8wjRIpdUOT2ALLtpXgE7LGyhl7pE+N52WdLQ25E5gggQJEgAJAUnwX0SPkSMprKoCIE9KyvJ1zQHfumDlkJBAKbxEAUnwBZjzydsMHdAdKW1eIy90qxII8KOq4Nb4LMxPc9KxmxAEikv/+raxMbPErU1rzHnGBSYLUlBZUcDPTtyCl99axLOvLbB2rQNrFOYSiiz77zKKw/cZw99ufZdX31kCQtDSkqtkuP752k1GiIArL9qRHScO4pw/vsDTry6gf+9yFi1rCFf7I7gB74rNxvXk2kt25u0PlnHqJc/rCtjOWAUmPkXZc0FKj57di/njz7fF8ySHn/UorW3t2GJzUVC4G+wcXf1eOw7jgtMn8uBTn3H+Za/oIGwZTVRrewfzF9fRvaqQYYMrEVKwcFk9CMn5p0/iwrMn8fDTn3HEOY/T3uHWVzH3RKkcm15QUpTH3Vfuy+9/vh1Pvzqf7Q+721Q7FznkA2M5RyqFJz0O3XM07/zraA7ZY7TTX0RgI+ITJxOx7FImrkSErl5ubIVLFsKDQQg6OnyWrGike3UxA/qUOX1b5KpcKodZuffD3S+IiHBubIgeSxSGLp0eVXgtyvdRnp02BYFRhExsixAydFdDQiAC8AOEr5g5cw1DhowgQYIECbpCQkAS/NcgpGTgVtoN6/CNxnOOyYy1PgVEKUilklI1CdaPtasWsXh5PQ88OYsPZ63E97NOAHKAF0jNLUJlRCGVx+bj+7DfHsN59MnZ1JmCfvacyFXJwjrzKBCSU47ZjAF9yzj/0pfJZJVzrHX1UjntReTibxfsxMC+3TjmvMf5bN46/nbLOyZA3QlkjwVca2M0nU5x91V7M2Z4NUee+xjTZ66ge1URS1c0OsfZn3FD84h9x/Lzn27OXY98wp9vesvZpwPpBV5opNs2KssLGT+qN787ZzIfz17NOX94ibb2LM+8Oo8oBiROfqImBL86dRLH/Hgcd035mPlL1obtNjR1sHRFE4P6d6O4qAAFVFYUaLVDBCgRcN6pW/Hbc7flmVfmc+8Tnxoj2cZw2OD/nE7NvP/suM144qaD2HLjvrpN1ZULl70EPzxPmH1xuOqFo0Y4z4YmcM65ypj1QphTXTLhdhARkqa2DiorCiks8EzsUe6xhMfGn0vpHJVz30Uu2XGJk1U+rHIi6UwkVcTd7NFSvwvC4ZlgdQUIGfJSAWQyGV6ZWsMeB/6SBAkSJOgKSR2QBP9VrJkzh6d/cZ42BgzpqG9tJT+dpsDzEJ7Hivp6enXrxgOfzuSOqVOTQlYJ1gulFEsXz2PWjNd47/X7qS73OGK/0eClHPcpY3tKwJM6uxOSjz9bwevTFnPC0ZsipbOa78ZABzbWQCJUoD2QEEx56jMu/POrvPqvI+heXog1EIUNgMYUvIuteuv3735Uw/Y/uYfxI7pTWVHE4zf+WI8pzLpkB+DHzgPB8pVN/Oiwu6lraOP52w9h2aomBvftxoZDexCLX4n1qznOoWc9wqMvzOX2P+/JwXu4VYSNISm9nHMl6+qa+PVfXuPWf33EIXuNpLK8kCsu2EGrNMqOzq2rYu4LkPUVH85cxabj+5htAQuW1NKvdznpdMQd5i2qpXfPEgoLdZ0WoRRCCT78pIYNBldRlp8iTAZg74dDf8KaH4YHCOtCZdUIFLaoha41ou+1rvQhopNiBQydB0AR7uu8TKLbVSZmCGFmwwttdOcs+4zF79Ha2lakFFR0KyC0+sP+ur6fsRGoLvZZ70C3Hk04IGcMYeIEh05KgZK6urmSEAhQKUFWKl33wwOFRHk6MYOt5UIAXiBZPHcdT70wj4qqoZx8zs1djjlBggQJEgKS4L+OKSccT0ttLUEmg5CS2pYWClIpigoKCLJZVrW20qOwkIcXLOCON96ktLT02x5ygu8AOjo6+MtvjmBEvyy7/2goILV3ujB1tQWhYYWUrF7TTDpfUNbNBPMKadSIOLRCYFbSFYaESDIZXeRQBCpUEYQlAQpj7DqGLJK1dS1cctVrvPDmQhbXNNCjsogFr57iGH+uX767Mm23S+YtWssOh90DCHbYeiAjN6jixEMnUFbiuitGx1sDtqW1g12PuZ/pM1fy+E0Hsd0Wg5i3uJahAyrAJREiamP1ukYefmYO/3zgQ5bWNLLRqB48edvBUTchC4hIS2iMO0axMsesWdeMlCkqyvPIBlBb10Jbe0C/viVmrs15VrEy7FH4+r0wRnREJMwKvnJjbiLiZ88P27JtQ45Nvx4D3yED9qg47HmeJrueQEldpFAZt6T1Q7e2el0zKU9S0a2IGAnu1Kd7fRHp6nJcgXUac0mwSabgunTl1rMRYAPvERCkNJHz0/r3JhAKlZb4BPgS8FQ4pOamDPfc9TGNDfnstf/JbDlxT6T8wglIkCDBDxjJt0OC/zoGOsHoFuGfVuePYaDA87xOxyZI0BXy8vI47Zc38t4na7j9wY9Zu64ZaVbUQ5tTKbzAAz/ASwmymQARGBeeQKKzV6XM2rh+b5bdTQMiLDKXTpvVdYkpcGiIQ6cMV/a9oqq8gEvO3IYDdxtJYX6KmtXNrK1rdQzIXPLhBqhr17ChAyt59OYfIyQ8/dp83nx/GavXttLSliEKFrftRcZmUWEeD113EAP6lHHwGY/w5MtzufQfb4XHRLEL0Z+FspI8Ojqy1Kxsora+jU/nrnHG5GniEcYbaJUj8nEi7NuOS0pBoHyQ8PmCtXgpQZ/exSHx0bqRIKoRIqLp0DcQlKnTYl9hdiujOgX6Pgsw7lGCMODevb7wvbSdR5+VCJu32cyiGh/RPkLXLV/v99HKi62oHjFLOkM3UlyYx5p1LWSzTryGkx/AamlRp/H7GmeNURa0ToQsdO3zou0CQxZtMyJ6C4hsgBKadGs3K6mpqjSikR2RUtx+xwwWLMnSQTsPP3Iljz16LQ0NtV1cd4IECRIkBCTBt4BBk+NFCbU3lrNe52THSghIgn8HpaXduPivz9F3xB5c8c8ZPPzMLFpaskg/Ui4UPhJJeUk+tXUdRq2wAbuuAhLgEoKwZog1sLsQj10TsVPAstlTVV7E786ezGfPn8zPjtvCZF4ysRgBYBUXhSEyth3tt79yTRN/uu4tVqxupra+jZenLqKyIp+lKxppbTOZrmKGb2SIdq/M57EbD6Qgz+PCv73Gc68viAWma6M9cs3Jz0tx+tGb89Ezx3H2cZvh+9plKJqbyCDW9rslJC6BMMHuKqClNUtBoVZqevYopb3DR3rW2pbEMmxJQ2hMM0oqM+Xxaudu5iWUSUKgZJhiWNh7oVyXNvceBcQLF/qOauLeY7vaL3LasMTEEiKIMlS5/cT7Xr6ymUzGp7AwRd9eZSyuqTdt5MgfRrFTyE5tOEzI6UdoNyo345UlpQKiZ9ppy7iPxbap6FEXSpnaNwqRNc9XYK5RSIQQbLxxLw46YADHHTeSIw4fxrKlz3HpZYeRyWRIkCBBglwkLlgJvhU8duYZ1C9ahJCStc3NlOTlUZCfT0dHBw2ZLJX5edw3bx6PTv8wCURP8P9CY2M9j9/zO959Zyo/2rI32201gFQ6pb3/PUkgAtaua6O9I0Ov3qW58cURXDcXawBbA1WBUNK4BgWYSF0dLxIa9p1dsXKDfq11qAiMoGBcesKOcyFZuHQdDzzxGfc/MYtfnTaRfXbYgEVLG6muyKe8rDAauNNIJuNz2Y1Tufn+D1mxphmAtx88ko1H9STKlGRjGuLjbGhqZ0lNA/37dKO0JJ/4+pVvCEjutenPCoESgrZMhmU1TQwZWEYmG7BgSR3Dh1bFx6m0u1DozhYopJIQ+JpEKlPbI/e+uG5W6KiGcOpC/zLXJcnGQTjvQ2rTxXFhO7mwxntguImns0G5goshZfb+NjZ1MGfhOoYOrKJbqSZkS2saqKooprAghY3JiK7Hvcacvq3ak3t9CkOWjCuaVdJi5PSL40sQJrw9BYGU+GntWpZN61S8gUS7NLrjEtr9TynBXQ98SmX5phx91G+7bj9BggQ/WCQKSIJvBYO2nhi+d//UK6XChbhEAUnwn6C0tBuHnXgFv/rT/SyrLeK3V7/FtOlLEYHQMQUKqisLyGR8su2BViDC1W1rsGnEa2a4cQQ6qD0QAUqmTIB7ACKFCmsrdHbFsq3i9ABB2I9SPjYFsIapSO6Ma1C/Ss47aWvef/wYdp40mFRaMmRgGXWN7aytazfnxdPuptOSX528FTf8flf233kEeWmPZ19b4IxRRSMLU/zqNspKCuleVUxdg60n4jsvSwTcuYtUTR0PEVCQ71FRnsfylU0sXNLAgH7dnGMdV6BwlV7pGhT2szF4lbHs9TiJu1mZ9kR0Qrx9121JxV2O4ndFrndPBGvsm3trlBCJrVtC5M5lSIwCiovTjBhSSbeyNNaNraQkj6aWdjNbuc+GjIaMSxdUp//DsccyYblJDZxxfxH5ME0KQAQC6QfIrI7H0TUlLVk0qrVxTwzdBYVivwOGMePjF3l72pT195EgQYIfJBICkuBbwcCJUVV0TTo6u2CBcN4nSPD/Q/cefTnpvNs59Rc3884suOwfb9La2h4ualdXlrK2tsW46CjCatbGDUoYcoAJaAeMR4shE0KYlf9saCAGZHXAO6BkgAozXOUatLluNY4LkkkTq7t206a6KXd1zIVVJIT0GNCnG43N7axe1+Ica9uXSCnYZZsh3HPlPix49WS22Kg38XSxjsGbM7bulUWkUp5pW8aPD4PBrUHrxN4Iz8RMC8rLi2htz1JYmGbV6madOtl1JVJ2bk3bAabehHGtkl40pNAly86LcaOLubDZdo1rlf0cZB31wEnX64w/JBd6dYTOcGWYQD8rgTknTM9r5QEZkg0hBcWxSuZQUpSnK9wLQVSF3f7rnCQgjA2JPKbMNjsXqvNf+FCSyXXdyiVnOQhUjJanAoFUChlg1DrlzJrJjgUUFBSw34HDeeLJ67uYuwQJEvyQkRCQBN8KuvXrT/nAgfGNSmkyQlwJSZDAxeIFn3H3jWdTX7fu3zpv0NDRnHvJXfTsuyEzZq0K66elPUUm6+sVa6WNXVt126HFRO5BaOUDx7i1/wtPV5GWJkBbYlbA3TiOKBVs1y4wMjT2hAoi95kwsD03QB2nLYXwYGC/bnRkA2pWtxC5CNnjLBRV5cVsv+Ug4kanTxRMHo3J9tW7RwmtrRlWr2sK28GqPQ5p0cHkEP9F1r/XQaDo27uYkpI8Vq1pc/rIrcFioWuEKAKdAUui1aaQIMa6IFIvjHKkU6CFhAUTDxSd6/4pjEWAm/mz4+qsjtnrdU4gvKc2UttcQ5zEWPcuo8IIwdr6NlSYNMGc7xRpDb2qnL5cEqLNf5cYCkOKjTtbWOTSvVb3+ct9T/h7AiBMOIfNRuZLQRRbo1BC6ExZ5r4HKqD/wEpWrmwi6CLDXIIECX64SAhIgm8NgybrbFhuIUKrgOhtyeOZIEJjYy03X3s2V112Am2Nc7n0osNYs3r5v9WGEILNJx/EjFmrtJtMIMnPT4GCurqW6EBljcV4MLUOFo+MOG2XuW5VgTHyfJSpQ2EzNinhOevOriFqyYg1fG3Gq6jvKAOTIRrueyDKbBQpNH16lJDJZKmtbzVGrWOQh8e7JMp113EDYvzwOGEuekCfbrS1BdQ1tMXnSLjnqPhLgDDXVdGtiMXLmli7ro2S4jxzhFEwhLPib0mMJRVSx5LYzyqsym6v3X1vlACVBRN7oYWKINoXzl8uMXD32QD2HGWkE2ySgmhfGMQeZwnO+yBUD6QnGNivGyvXNofeXMr5hxAopWhs6kBJ0TmBV6iEOAQGBULS1NrBJ3NXhvchgqO4xZ5DfdC62hbe/GCp3uILrXgodFKHrEI6hEoJcz8EvPn2Uo776aMo3yed71FSBstr5nYxZwkSJPihIrHwEnxrGDRRZ8NSLgExCkigVJJDPkEM99/xG4KOuVxw+qYcus8YVtQs46wTduOdN5/m38mlsbxmJQ1N7YApTKdgQN9y1q1ro7U146gVEKkfGr6fZf5io7xIoqBrZU0+pQ1ea3eKQKshUvLR7JW0tAfheSr29esqIrZfjbb2DK++s0h/sFmy1gvH5UrAnIW1LFpeT21Dm2nTjduwK/tWeYjaaG5u4813Fztjsz8j1aBf7zLW1bVS39hq9ioIFNM/WemUU8klBYDyqarMp6JbPkMHlVNakgfAuvoO3n6vhmilPlqNV/baDDnRdnQQxoe8/M5ifN8nUhjMzzANb9R/GJsBLFhWz7NvLiC6z64Ck3t/IIrJkZz0u+e4+O9vcNcTn7K2thlNJqRz68x8CUBZIiq499FP2e3I+9jux3fz4aerYlNUWVFAQ1M7ynfcp8xUrFrXzJBtrmfTvW9l6YqGeDex6c79XQg47GePsfcpD9Ha/kUZqXJJmOCia97kuAufRvkRgZMZkMqodL7TnQrQWQIkH3+8kqefmsvatW0osvTsW8z8hVO/oO8ECRL80JBYeAm+NZT27k3VBhvEttn1uGyg8KTo8rwEPzwsXzqfTz5+n/33GE66KI0KAvbecQTnHr8pLz76Ny46aw/efOHOL3XzUErxl8t/z8PPzDZkVyIDbVYP7FfBihVNrFnbFrlfhYXaAsDj+HOeZLdD7qWtPYt1i4p88z3jmoUmJgJt/CrFspX1bHvwnZx60VPGRlbaWIsFf3flUiX47TVvsPtx9zHl2TlafQl8hzjYzu3P6Ct9TV0LB58xhaPPfYIZn62gubWDeCpXZVb2A0dx0NbueZe/wu7HPsALbyxwZs9x80KrSYP7lbOurp3Gpg5A8s70ZUze/w6uvPkdM3+WnOl5tJm9hJCUlRY6iwyC8y5+nr0Pv5dnX/7czI9Zy1dEsWBmsrU3lZ7rdz9ZwS7H3c9pv3vBpBS27lOhhoJzcsxg/831b7LnqQ9x1mUv0dLaQdwIF117gwlBR9bnlXcX88ebp3LMhU/zx5unRX3ISPXSNWHs3AkQio5MQFNLB43N7bS0ZXNunaSoMI/2rM0qZuM8BNWVheyyzRDOOX5z+vXuFo7RPn+5tCOqHwLnn7g1N/5+VwoKUs7z6lwnED1/lrwFXHvBDjx13YFajQ6UzggcgMwGpNog7QudBc4SU3OtRx49joVLz6F7z0KyQtC7bwlLls7vYjITJEjwQ0WShjfBt4qZjz7KU9dcTc/SUlCKpY2NPDt/ASWlpQwcMIC/P/HEtz3EBP8DuOrygxnaX7DtVoMQfoDXYcwmKcEPmLeojmdfn8fq+hS77nssE7c/oMv0zW+/dDsvPXELpx+5OXn5NkbBw8c3IoDHqrWNtLR0MHBQBVrTsAHZAc++PJ+Djn2IP/5qe07/6ebYpX5twpnq46GdKyEIQn/5i//2Kn++YSqXnDWZX5y0pYlDsBXLXYvQrsZrI7a+McPux93Hh7NW8s8/7c7Be45yjjdxF7GMR3YsAc+/voCfnP0onpT85dc7sO+OwygsSDt2tYllMW5NNuB+5dpmdjn6fhYureeh6/fjR1sPIjejlnUkC5Rk/uK19O5RTFFhmgNPnsLzry/g+XsOZfON+xr3Id2PCuuEWMVHv1coVq1pYZ+f3M+ceeu49tLdOPSAUWYOTRpe5Ye1XLTqJBAmYcAvLnuZq+94n/OO25LfnznZGaLrDpUb/wDNrR38/IpXuPmhjxgxqJJ//m43thjbJ7y28N6GH5w2FDS1dPD50npGDq4kLy+FjdtQAuMupiJy4ISghKOS1vU0GqdOx1tIYYGtbB/dW5EjzsW0JeVsc+SRyLnVDCL2zNrBWAIcxI5zSyDa8SoBSuo01kGe3tdeAIFU+BLnHmsS1S7hs8/W8P5bTfz65w+RIEGCBJAoIAm+ZQycaNLxKoXwPJo7Ohg1ehRPfPRRQj4SAFBTs4h5C5ew1ab9gADpe3qdXklER4BUgmEDyzntJ5tzzL6DmPHazfzq5O144cnb6ejoCNtpbW3h4ftv44DdNiQ/37rUCHQVa4zq4dOzqojiogJWr9EB3LbmBwp23nYwW2/Wj7/eMI3mljZs4T2926Yf1e3aWhrKEygRcPFZ27LvLsO55MrX+ddTs5m7cB0fzKxxTDw3Va9VRQTdSvN58uaD2HRML475xZPcdN90BPDhzBqz6iyJ4lVcBUWx0+RBvP7AEVSUF3DSBc9ww70zaO/IhsfpMYIpaGIvkx7dS3n6tkMZ2LcbB5w8hVemLnLGF41NAFIKBvfrRs2qFlrbstzwx93pUVXEUWc/ztra1kgJsXapzTCW45rVo3sxTz1wGJtu1JuTfv4kDz4+S/cjI+VEG/FGFQmJoeDSc3fg8L1Gc/k/p3LVne8RunEZ9zdM/E3Un1Z6igsLuP7CnXn06gOob2pn8pF38/d7P9Aaj7SuYNKoW64covcVF+czfmQv8grS+nirfNlbmhv74WRR0+RD0dDYRmtbhkzGZ119G4FSFBamI47puFTp2I8o/kOFz1rUTVzhsBEkTvIC04ZySG70zOC8j9wPw0QIASY9s40H0ttloPB88HxTc0Rpd7TAjL9n/xIWL//34rUSJEjw/UZCQBJ8qyiurqbvmDHh50ApRBL7kcDBU0/8nUmT+iIKJUoJpO8jAg8R2s4SAg8Cn0F9Kzjp0E046dBxzH3/AX51ynbcdf25vPvm0zxw+58YPbSMwf20+0rcnJSxLd2rimhsbKO1pUOTYxNQLkWKC86axJq1LVx36wfYIN/om1S7akWBvMbIkxIhA26+bHcmjO3F8b98kkv/MZUnX9aBudadKIx1CEeoGy4vK+TJmw9h+y0HcsZvX+B3177Jz//0EqvWNjkr3m4MSRRAMHxIJa/c9xM2GtWD8//8Mude+hLtGb06rUKj2hjO0sYeBPTqXsjTtx1C/96l7H/Sw7z89iKn3dA6Rigfz5MM6lfOshWNlBSnuP2ve7F8ZRNHn/0YmWzAwqX1oWUc92pylRCo6JbPI3cdxE+P2IgeVUWE7E4IwjS8bnIKM0VSwg2/24XdthnCuX9+mTse/YhYgL2w8SN6spQT/A2w2zaD+fChozliz9Hk5cnQeI8C4gPnPD0/IXmzqX5FpAohiFQQVJSAyyYDUOD7PvMW1dHcmqG2ro2a1c20tWXo38e6Vznz3IlQED6uYYA62DqYrgBi4JILl3h80Xetm1wBBFoREUrq6fRBZhXSDxBZS+FT2AQEAUGYsau4ohA/I2hqauqinwQJEvwQkbhgJfjWMf3RR/jk1lsRnscnK1bQXF3NNY8+9m0PK8H/AGbPms2Zf/kpR/11ZwqK8hlc28SomtbIi8e4GoFEycBZpdbG1aq1Tcz8fA1zF9VR39TKyYdNoKjQumaZauPG915Xr46UgUxWsXBpPYP7l+OlpDbOjUG271H/IpMNePLug4n7zdu4A+smZN+rcN+ipXXsfdyDNDS207dnKW89fCRR3EIAShLVo3BdqwQdHVl+esHTPPr8HHw/4IJTJ3L+SRONgYxjT1rXruhzW3s7J//6We57fCY7ThzE3Vfuzf1PfsZxPx6HDOOt7HlWhZEsX9nAbkffz+LlDTx43X7sMHFQzl3SY1TCI9ORYeGyBvr3KeHWf33Mz373AqcfuynzF9Vx0xW7U1qaHxrTnVftbZ/OPTQxNMYDTpNOU93bTku4T0FLq8+hZ01hwuheXHzqZIfuGGVJ+ZoZSGGIg3l+hCaweg7jc67PMwqV0G0oJRBepODoCuceIUmxBMRxv9KHakLSlvH5fOE6BvXrRnFxnnMhtu9oDDFXMAv3r7bNfuy6ZIXuWMJxQ7P1UkzbDieJ1AynN6XdBxU2Isr8ntkMcF6KIOWjBPhCEeR5+NKnvVDPgi8DslKn5e1IS2679n0O3eM3jB+zDQkSJEiQLDUn+NYxfPI2oeqhFIkCkgCApqYmTjv+TIb1H0VQWEh5W4YBLRl0yLhZDc9kwTcr/8ISAWtEKXpUFbHtFgM4/scb8bPjtnDIB+jUrI5rig5owJpx6bRHv94lLFparw3XQGGzJE257UDuum5foq9Q02/uoyuIkYN1De1c/o9pLF/ZyKq1LUyfuZJlKxsJXbCEABGYNe64KgOKFWuaqS4vIp2SZH3Fzfd/SDabRYRz4hIwYuMryE9xy+W785uzJvPCmwuZeOCd3PavGTz87Gw6Z9aKsnH16VnCM7cfxsC+ZRxw8sM8+9p8QDJ1+rLY+ITySaclg/uXs2R5A0cfOIajDhzLbQ98xNMvz+OVtxYhOlvkhKqIivq0BCOMYLBsxaZ6hbh7lGmvqDD9f+yddZwlxdX+v1V9ZVx3dtZ3VoBdnOAuIbi7hJAAIcRIiCeEkBCCJZBACAQN7u7u7r4LKzPrO+5y7+2u+v1R1XJnl8j78nuD1MNnmCvd1dXVDXOePs9zDvdcchCnnrgdeNpUIROJoDrszQLx6zB6jxRsSWmYxpQGDqN8WwY4FdODsCSujsoVJyClTdhY74TdK5uW1FSVJLhBcV4oJiFx9sNsaoscJLeX8XmEd38szdKWDJn/NsIcjcYY+VdlNYlzF7EDJM4VKbsMlsz5oZoshdQYGVYBZNgP0srYAhS148tY1DoHBwcHB3AExOFTgPK6OhqtDMuolUf/MXb4IuLU7x3HV9ZNc3B9FVvOaWOjjj7SOrCqncCUAw0wRER51lwrCSVQRd2ZVylNmpCh2EpFEs9EujqwwbyiNJtiTF0Ji5b2mahOW++DENRWZxmtlY+fTIdP1yGqjAXU1WT52x92pfm573LJGbuzwxZTePCphYkdRUJiJOJxbYQ5eXwlxx6yAb8/aXsO2GVN8gXF3Y/NIzZGh5mB0bp+8yRfCI+fnbAlt198IINDeT6Y38F5l72SnHi0bfwaxo8t5eFrDmPG1FoO+e5dXHbj6/zu/OfiNbTbCiCVkjRNrOHuR+bzwbwOhoYKKKV5/LmWeERVTDaKg+qkfC18aa+XCBsShuem0MpGu5bsJfMGWhqxlJFEqURWQica+n3Md0JGI4X9LbRQUeCu0cbjkDyWsDKosFu7SvTk0ERkQUhBKi0Tq65H/YYo8E/eXjKUW1liEW1nSYflYua9jjMxxOdXdBwRys08igsZ2N9SmHMZfX/YBpnC6r6ECqt2eaY3iLB1sbRGaYUvoLahlI6OlTg4ODgArFomxsHhv4Cmbbal9f33TU8QlwH5wqO7q5s33lvEnb/emOqyEYKhFPl0GpWREPi2I3MAIoXAB62tr9nKaaIAK3ydeKI8SuYjIllJUKSZDztKV1eWoBE0L+5i6uQaI1eSsdY9HlMmnuKPrrgUdoEwJKayooSjDlyXow7cgHzet7Q79BrYB8wqsNOJjyWExzprjGGdNer59pEbm7XqDRsomqfTWkuEVhgjdTi3UI4l6BsY4e5HP2RlxyBaw5sftPL48818eeupRduFY4bn0zimnIeuPpw9v3ETF17zBvMXdbN05QCTxlUktje9VdJpyUF7zKJxTCmPPd/Cjfd8wBPPtZjrBOCFwa5ds1Hd0kM9UagQFjaw1wqkECYQVxKENT0j0FqBJ9AqvL52TA9UoBBS2OJZdl1UsoSyidQ12sxN2WtmiUf4nfbsayHMdvZ6RxIyEa6ZttmamDCY5dTx1LSO2518HIo4aEjCKLqdwyyKsI0KheWPlgeY+SV5YjSkl5i/isYWRfexPZ/kccKBtEIIL5IWSl/HBCkjEHj4wmckbUhQ9Zgy5i6Y+09O1sHB4YsEF+k5fCowZYstEJ5HoDWeIyBfeNx8/a3U1jXyfG8pQZmHLGhKBgRlXRo5qKz0QxBp+pHmaWzYhbzoSW6yz8aqpCB8ymxiOi8RqMV6+ZrKDA31lSxZ3me/GuVVCBFVJ0qYhSNple0PIT10JG8JrOlZJQzh4UDhyH7ic0VxdkJQW11CUq4Vt93TiUxDvE9VRZZLztid5S9/n/uvPJSfHr85L76xNDFm+DvZlM/g4afn09kzzEfNXSilufm+94vWM5yxQJJKSbbdbApfP2hD3nrwWM761ZcZHi5EiicRraOda5S9SRxTJOYTBtb2rQ49OUKhRWDfh9uEZM7+ePYzYWVZtomhKQ0M2M+jMaVGhe+j78zEzT+h7C9ptjbHVBLjJxLmvgv8gJYlPSxY1E3Lsl4KtsdHLqfIpv9ZU8nRCO9hS6BCcpTJ1SugAAEAAElEQVQs5Rua0Ucn5MJlFcRjhN3dQ+KUIN/FSBr/zYZR4kcFpoCaCEsQQ0oJUr5ABAE5WyVOCI+GpmrmL2zB930cHBwcXKTn8KlAtqqK8RtsUCQ3cPjiYvHiJ9ltX8XmO2p0WQY8D5QPuQJeoJCBhlwov7E3TRS8GqlRnJEIb6jQXA1RkBUGcDKMbG3mwz4BT5borSxPUVaaZWXrgCnNGz1pXw25ETqSr2ghTTYikgkl20eHx7HRtUgEpFFJV/uEnzDED7MUYWYj6X1JymgsoVLhGInzRlBTVcJOW03jtB/vyDGHbEBrx2BiTmG39GIp11f3X4+HrjqUM366A1tvMolb758bjRf/jh/Np1KSaZOraesY4stbTaHM9iARStvliB7vE5V6Tcw+/BVJq4Qhd+aUhJVYEZE3I0uysqEwGCfxnS04EFYdw0sQPSntOotR7yFZbhnPkklRPIYCtGe3kyJa6WWtQ9TXljFjWh1j6kpp7TAZq2xWMpI311IpzdBwwTa4TGBU5qKosleSZEfVr2JpWSwVI7qPtI6vZfhdSMyKslBFhCScSILoWKGssAsroqykIZ+BCMhnwNOYHi4qoKK2lPFTanjprUdxcHBwcATE4VODpq23AUb9IXT4QuLnv/4bHV0VXH3FW/T2DRsza4+PyGsbgylTESmvEQHWiJ54qquDRPyUDGzjgLfocTrC3naSVb0IcZWrsXUlBAH09I8kZhtXjFr1eGEGJpRohfuYrIi2/Sm0JTtm3qn4Cb7wbFBpK3TJ5DGT5EAnPg/nYrJB8barRJXRMSc0VuAHitaOgVHnHXpqYqwxrY6Tjt2Ux647nPuuPBSlwnMMzz0ZHEtSKUHTpGqWrRhgeDgsIgDCGhQiY7q2ob9Wo7JQRNdEgzU2x+Sk+NKGx4/N52Htp5DQmQxIQm4XR9I22xEG8cnXcUfyKOsSZk+wwb6X2E4K8AQDw3kCpamsyACaivIswzmfvoEcfYN5mhd3s6Clm0VLe+nty7GidYAFLd2x9CyxBP8SkYl+FCGLSMho0htnSqLVDbeNCHGCWCfGD+8xgZH7AaaCcyARgSKfNkN4SRKpNWtv1cC9z13yb56Qg4PD5xmOgDh8ajBp001JZTIIR0C+8KiuruMXJ1/HtMkbccYlr/G3697irXltqJyCEfuT6OgstUAUdKRHxwbxISLTrlRoKa3pWBkvhw4scbEEJvReqDCwTxrKBePHldPWOYyvirMNxUjuGz7dF8XkJpEssJO0v+Kn4KZMsEgEgskoMPlbFg+S6AkisGsVivgVdp2KCdPExhpLQhJVuYr8I8nxDUkZU1uOlB6rk2uZczWfmUxIDctXDjA0mLNH1QilIIhyDpaERAMUS7KSEqFQIhVuJqPisHYLK3+ToEScFYhkXJFEKZTJxVWi4myHTkjq7L4JY3osfVLR3OLXiuGRPCs6Bpk8sTw2hqMZHMzT1T3M9Ck1lJdlmNFUS9PkatJpSaA0DfVlRf8PFOE1+6cIV1DYSxOb1LXNyMQZpARlDZNVyfe2g7uO7oEQRQwkWmUd+lqkZwilgpSSqJxpTqiAvCdRKMZNraGzve9fnYyDg8MXAI6AOHxqkCkvp2T9DWgYN/6/PRWHTwGklBxw3B8559pn2fKgH/DU3G5OvuolHn6lhcHhAhSUyXxoTOZAaIQKo0VTmjYK+EM5UxjIR6/9RPD4cWRCJGRPGikFk8aVs2hxN0EhDvRjJIN0IwMz4Zz1pgjPVnKyHb7Dp/hCJvpHyFHzsuepFKFZ3QS7VntflIEJEWcuoifpSsecp6gSlQlJJzZW4QfCyrHi8QoFxeLlA3R0m27nOsw0RaVnk4QrHFaT9HWkUoKpk6pZ3j7AwGCeWMYj40xImI1axQgdZkKKCUCUnbDrFfkfpFnUmFAkmZ4w+0YLI+IxVkliJchPlFVIEMnocyuzS3RC7+zOMX5sJV4qBQhGcpqhkYDGseVMnliN50k8T7KidYD5Ld1oDTOm1lBVmWUV/JNnMnEGLSZUCTWiPQ8dy8LC9UmOmSAi4RcCc90vuvENevrymHvQSBTjY2jC3jlCBSgZoDKSzo4Bdtnual5/ejHDKbNGAsiWS3JDSULr4ODwRYWrguXwqcJv//pXlwFxKEIqlWLTHfZi0x32YtmiBTxx04X87rpn2HzNsey40VRqtYDyNDplqz/5oNOxFCisPwWAVvQN5CnJeMb8HUqWImISN5OLPQDJgMkIespK0oxrKKdlSS9eWlBTXUJNVRnFfgxLCmxQq3yNJwUmaDfzM7Myzf+0jCtpaR02tjPHzuUDsilDKJKtPrT2KW62B3FaJWB4RFFaksZ4WwRJoiLAVIySSf+KZmJjBctae1m0tIupk2oAzNP5QDE4FJDLw8hIDpBUlKcZU1uO58VkJQgCPC+Z2Akj4YBUSjJ9Si0tS7pRSlNVmY3IkEJTCCCdsWsTBsQaVvEnJDieUhodaDwJSinrzdYoqY1B2kqrlA79PDraV2uFUhrPS0o/izNnubxP/0CB0qxHSUnKNKUERnIFSrIponts1P+26mtLWNk2gNICpRWplCDleQwM5qisyFBelmHS+Ep6+kZYY1od/wpdPcOc9/dX2Gyj8eyz65qrLkdyXSLyCmjNSb99jLffb+XJW7+KqWSti/oOJvNhYZU4jeYfd77DSWc9zuxp9ey4xVTicloSU3HOCtyUySpKLdG+Yt68HubN66JzOMcUYTOOSNJZyVCu/1+eq4ODw+cfLgPi8KmClNIREIePxcSpMzjq53/m+N9cyg8ueZ7n3lsKfgCDBUwna4HUHgRhoOQloliPcy97ienb/o3bH/4oziIQ9wzR0noErO4lIh/2qff1d7zLmX99AQ2Ul6eZMa2WSeOryOV85jd30tUzyPCIb30RZgyQjOQCDv7m7Zx7ycsonSBEkWfDS7y2TQUtUXn8+UWsu+tl3Pvk/LgsrPCsJ8QbNVYcVQaBYtev38Cxv7yX9q5BYvIRV4eKMiPmJKN1fuWt5XzlqJu55f45hH8mpk6swfc1NZVZZkytZfqUKkqyHs1LuljW2kOhkKdvYIgdDr+OG+5+l3hUbSVu8UP5pok1dHaP0NUzHAXP1972Pjvsfw0fzuuKtgxLIROtWdJAba5ZR/cI2+9/DQ8/vRBSMvY8SGmlR5ZyeBItvQQhgguuep39v30H/YMFYmoSZ1n8ABYvG8DzPPqH8ixZMcj8lh7een8l6+1yOX+7+nVzPYsyCmb80pI006bUMH1qLTOaapg6qZp0WnD1re8yddML+dWZT5JKScbUlbEKexkNDWnpcdm1b/DKG8s/frtEoie+rIKqyiwbrdNo7nEvvM/NqcZmdRHtZ0zpsMGssXxt33XZfrMpiXVPkvXwGAqkZxIiAYwbX8ZJv9qStTccR1r5hiwrReuifsaNG/fPz9XBweELAUdAHBwcPnNYY92Neeu9D3l/2RD3vNiMKASIQYXwQQQ+0hcILRE6sJkEE9BXlpew+w4zWWtarZVoSWtKDgPAoEj+FGcXTGD/3CtLOO+Sl+kfyNuPTbnZxoZKmiZXA9Ddk6NlSR8LWrpZvrKf/oERfF+TyXqc+sdn+P7JjzAwNGKkWJFbIRK1RIQplBNVlKcoyaQ45Lt3stexN/PO3DZA8eo7K+kfGLYkanS/Eyj4ii03msiN937A+ntcweW3vE0Q+MTSrDATIkapyBR11aVIKTj6x/dx2PfvoL1rCCmhaVIVK9oGGBopIESK6sosM5vqqSrPsmjZAO2dI6RTkmN//gBnXfwSWpuu23EZVyO7klLQNLmGwaGAtk5Tfau2uoQly3rZbt+rufrmd0yFM63i0LxIkkWUsfADRa4QcNgJd3LnAx+ayljSrqDQKE9bs7gCkSzRbLrdP/ZcMzsfdQPLWmNvggZ8X7FoWQ8Tx5dTW5Nl3NgKmiZXMrOphrH15UyfXMNPz3iC/b95G109w6Pu0IQETIAQKQYGfQoF2GeXNThoz9mM5EZ7az6ehAigsjLL3Be+zem/3OFjtyvaIfFz6k+35U+n7Rx7UYp8H4Y8aRk2YDRkWwvYbP2JXHba7qb3DSLaNppzSEI0aBUQSIVKC2ZOruNnJ27F2EnlSCSeUkghmfd2G1tssPO/nr+Dg8PnHkKH5TYcHBwcPmMYHOjn3B8fymZNWXbdsgnlCXSZNA3phEBZ/bkJrGKZTKR1N81DrIcglEYVS5VieY3gyRda2PtrN3PFuXtz6L5r2yfFoYClOEDWWjA8kqd/IMfgkCLwC1x81Ztcdv2bTJlYxZ1XHMhaMxvMbHRxXBdnMkx/k1wuz4VXv84fL3mJ/sE8h+61Nuuu1cCipT1c8NtdVilpmyw5/NYHKzjxtEd55Z0VbLzuOM4/5Stsst44LrvpLb552IZEEjDhEVdKUgwO+Zx+4fNccNWrVJZnOOOnO/D1g9YjUJp35rax9swGSkvip+BaC1o7+unsGeb3FzzP3Y/O46v7rcOFp+1KJht6VRLrg3n6vqJtAK01E8aZPivHnHQfL76+jAP3nMVf/rAb1dVZ0NqudbL6V0zYurqHOeDrt/H2e61ccMaufO3Q9eJCWNL6SewaGfO7/Ux43PPYXL7+o/sYU1fKfVccwhrTamntHGJgsMD4sWWUl2VGXV9zbQIF513+Er/783Os0VTL83d/jdKSTDQvHd1fBgODebp6cowfW0Y67ZHPa4RQpNMe8fUejfjz4k7mxYj9LP8EoY0GQJku5cIqBSOarSVobSqUoUBLu93ouYXX3fw3E3aFV1mJn1LkSgVKBHSWKgZLDRkLhOaqM1/ip0ddzoymWf9isg4ODp93OALi4ODwmUZvdwd/+uE+7PyliWy3wWRUiYaUCXiDlICUCa9UqFCyHaONYskjMoKL4iAzelIefS4IAs2We/+Dvb6yBqf8aFsjDSryUMS+jdFBmgoUzYt6aFncw6nnPsupJ23LLjvMIJJdaaLXOvRs6CQ5kbR3DfHHv7/AJTe8yYwpNXy4sIuHrjqc7TabUrT/aDKklObqOz/glPOepLNnmKP2W49X313B707chn12nhXNOTJtJ4Lhtz5o5TunPMyb77ey+YYT+POpX+GNd1eQTqU4eM+1KM1miuadKygWLenhilve5q9XvcY2m07mhgv2Y0xdKUlyZ8rYmmxTe8cgQyMFpkysIgjgzAuf55y/vcC0KTVc/dd9WG/tsdz36Hz23m0Ne01GGR60pq8/x+HfvJPnXl7CPy7YhwP2mQ1KIQk73YMMhL2yhoBIPNABr7y1gv2Pv5WpE6u55s/7UFdTSl1NWbh6iTUNZUrhddfc9dBHPPF8M3/+7VfwPC9ex0jfFu6r6erJMzA4TKGgyGRSFAo+5eUZGseUJ67W6slINGYR0Ujcp8ndPw5JEhLe9hqEjk35Igi9M/Y/GBWYXh6WKMcDJdZECAJPGaO7VPRWa1RKMpj2GcxIAhTKS3Pxyc9x/q8eoLq6+p9M0sHB4YsAR0AcHBw+8+hsW8affnok+20+jk3XmwhZGQVDZFJG8x6ZzY2xXNvqPVGPDUKDeCxn0qHZNiGRGckV8NIpUqmQbIzeV1DcvTyWcS1b1ktdbVmUORAhSYk8EjKSZEVPqhMhpgDyec0vznqcy29+G99XTJ9Swyt3f900+RMe5sl1SFyShMgYmX9/4QtcdvObVFVkyaQ93rjnWOpqSu0WKlHlKQy4jQH94ute4/d/fZ7+wRzbbT6VliXd3HThfqw1bQylJV4i6PZQymfpin7ueuRDTjn3GSaMreTWi/dn3bXGEsrL4ipT5n1Pf47OriGmTjYVop56YRHH/ug+evpy/Ohbm3HXQx/x8kPfIGwyaNzU4dqaFRoe8fnNGU+xz+5rsu2WxregVUI5ZJ/4S5JZERgeLvDym8vo7h1h753XJJ1OlsNaNXOjtKa9e4jBwTyeJ5kysdpORSQyZkl/jz1wkerZjNvWOUx/fy6x3qbSWnVVltrqkiJP3MdlQT4+AxLO38xLRIPoBAkRoGx7QUmU9SDQ0TpJZQ88WgZnz1ELCCSoNCgP8iWCXCqgrwwCoclLjZ9KccHPn+eS0x+lrKwMBweHLzYcAXFwcPhcoHVZC+f+9BCO33sdpk+sQZd66JRECQ1pQKQM8RAY7bothYsYHdgVP11PSrDi4Lk48F0VSVISvlbMb+5h5rTaoh4mFL0KjfOBeQKtlDmWFoQlUOfMb+PVt1vp7Rump2+Enr4ce+w4gy9v3ZQYyZ6QSlbTMk+x739yHt/+zcO0dZqO3IfttTZXnbNn0exjglC8JkuW93HS6Y8xZ34nCxf3cPwRG/K9r23ChMYKyspC+VF4PI+Orn6efHERP/r944zkfC47aw/23XVNWruGGVObjTIG4ToPDOdY3jbElPEVZLMpWjsH+fqJ97CydZD5Ld3c8Pf92WvXNaOMhvEgBEVzNIG2Z8dUNkbWpkKTsEF0AXp6h+jpzSG0IC0lE8dVkkqFJ530ZMQZkJBGtCzppramlOrKEqSUie0SGbXVyLZWvUdWlzkzBQS6ekbo7c/ROKbcNjL8d2VYCdnWarYTiS+ieyWU8CVIGRo8ZeYpAnu/JktnJYomaBSBZwhIkJb4aQiEz8pKDWmNLzxyUnPuSU9y419eJpVyBTgdHL7ocP8XcHBw+FygcWITR/3wHK7+26855aiNSXkSoTQiJU3oKHy0ECZmFUEcsCVjziL5kQ0m7eswQBR4xiAdEpmibVRi/zDoj58aZzIwODRCeVmJJSGhpyHpO4n9G3GWICYSs2aOYdbMsYiwJ4NJlSRORIL2zbhSolVo5NYorVhzWj13/P1g+vqG6R3I0defY2DQp6I8E26VkJUlpUeats5hVrQN0tefoyTrcdmNb3Hg7muBgHENFVSUpxProRlTV8YeO86kcUw5Pz/zSY448W5+/K3NWWt6PZ4nOGzfdYuOU16WYeqkFIuX9TJ2TBnzm7vp7B5hfks3AOdd/BJ77TLTzCY67xBhrig8Wz8mAlKbEr1AZ/cQ3d0j1FWWMH1qNaEJX0bXILwHVg3fu3tH6OgZpnFMGVWVJYntEmytyKciEj9hhiwmTPERgiJe4XmShvoyqiuzdHYP09E1xLQpNf/Eq568b1cjyUp8FHpTBAKltbXKmznqMFMkbDloMMRXGlJcVAM6WntzvwipkAp8PyBfolEpQUZo8hp8AoaDFFJmHflwcHAAXAbEwcHhc4Z/nH0iVfmF7L/9THTGg7SpNmVKtNqqV15coUgJHTWr0zqwpW0hJAJajM5kmEBSyzAIK97eIBnIxsG872talnQzs6kGoQ1hiaQxieZ7cYyZIDAaExhGhCI0UkNRYBslbFJo7dv3iW3FaHJBcRwPo3wt4Yzip+r5QsAiSxJSnqQkm2LRsl5qa0qpqSq1oXUo+/EYHhlhXks3f7nyVW66+wM2XKeRXD7g1fuPQQhN0rCt7aosXtZHeVkaIQVvvtvKG++s4M13V3LyD7dh3dkNURPCkGQY4mTXPezObb8byeXp6s4zPJinsiLD2DEVCDTCN8RDaGxwXdx/BWAk59PZM8zQUIHKigwN9eXIVMhcizMc/1oKNfreCrfXtklkce+ZcKiwUlhDfXnivIqZxeqOvbqsiEn5xfsVGdGltAb1AGGN6ijwtK2YFoy+UUzhAo0iSJv/tgpp8DOCkWxAX6nAFwEFCW39Abec9z5XnvnY6hbIwcHhCwb3KMLBweFzhQO+eQq/O2F39ttqBniBiZGkhwoUeKaSko4Cd6N312hsrVbCoHJVEUvytYo5hkgQhCj6h1WCPjSeJ8jnCrR3DNEwxurgoyhUFT15FlZCJKK+CyS2Ma+1CDuI24A23E4LmwUh9hCMJioRCdEgV/ccKpaOxSdl3mcyaZomVbNoWT/jGsrxvDRNk2tYvLyPXF4zbky5tRqYDEFJSZqpk2s48ZhN6O7J8dyrixkcKnDvo/PYe5eZxF4OEfVubJpcy8r2PnIjip22ncbO2zfZ5U0WCDBrbmRPiQyAzWQpJVjW1k8hV6CxoYLx48rQWkRSIp0S4Jtmg0Mjiu7uQdBmjYQQKKUpyXpUVWaZ2FhliFJY0pdwPRPBfOThCYlpcddvnch0RNcqXGup0UoX3T4hTxhbX868lm7G1JclPCGruWarzZCMln/poo+0ACHtvaMVQgq0CpNvKZM5BPNd5DEKxwoI+6xozH9CWioCaciLwuyjZEB/X55MVaJ3iIODwxcarg+Ig4PD5wrVdQ2MmzCFj5Z0I32J9EEUArw8yLzAK2jzOvAQWpvYOyzLGilLkpoV+3nUBdpAFG0mVrONwjzjCWVZpuzq2rPG4ivFirbBxCAJOYvtQ1IcXiYlPuaJsw5fFzXuFHZ/kSAc8fa6KJMTnWDiGEkSpjEBtKboHOyapNMe0yZX09oxQE//EEIKpk6uRkhFy7JucyxJ1NixqjLLa2+vYNKEStafPZbysjTnXPxCYg62A33ip7GhgtqaUha0dDKS8w15tPMtrhImiQsAmHMLAliwqIuKMo+mphpKy1K2+Z4msBK8QMHKnkEWrewnCAKmTKpm+tRqZkytZdrkamY2mUaTVRXZUesQzjkoWhvQiQsXZr+svAlMli3sDyJXE4xLuwbxbtFI1VVZOrqT/UaKmYaw44++qh+r20qOL8L7KczjCHulTV+c8HtdlK0KMz5G6icBEUDeg0JGEHiSjPZIBQG9ZGkbElRXTVh1Hg4ODl9IuAyIg4PD5w4bbbEDr73zALOmNUBeQdZGWsqUCjUP/m21KGGUO9rG7Vrbj0dlMnQY8I6O5TSJp++MUl+Fjf/CJ+EmmzG+sZL2jkEWNnfT2FBOeXkWvxCgFQSqQGfXMLm8ebpcX1NKbXXWHtYOHCUMJCjrZwkDV6TR61sPS5wlUTY+VomxRCI8HS2vCU8ilBsliIrNxnieZNqUWhav6KcQBIypq2DsmHJ6+nIsWNTLlAk1ZDKhN0Zw1EHrsVPrIE2TqlFK8VFzN7l8QDabNuGsXNVUXlGRZkqmmiXL+qivL6emKmPPZ5TvIcpqCbRWNC/pYfz4SspK7Z85kTgfKejpGaGrY5jamlKmTyvH0xKhlM2OCIQIzz25LqOzQsUZLpPVCC9Ocr9QElZ0Y5EkiKELJWyaGCmn7OZj6kppXtJDRXma0pI0SYoRzWH0/Rmd82g6EmbXBPGBLGHSCi01ShiJmhfO3UuhfT++d8JKacKcg5Jm7iklCQJtevBYZCmQ6xuitqoBBwcHB3AExMHB4XOILXf/Gr+7+0aWL+9iQkOVCZYkJsD1NJAGZQPdVMoE7ArwQrMtJrBKms11WN3IvgaEsIZ0QIiUkT3ZKFITVhRKeAOEjghLw5gyaqpLaWsfYEXbIClPkPI8pBDU1ZZRVppGa8WClh5qq0sBhdaKgcECA4N5hkbM03cBlJamKSvNUlbikU4nCEMkUdIIjJwGjARNjApKzRRjn0uR/CshJSoOezVCwNRJ1Sxd0cPK9j7GNVRQU5WlNOvRsqyL8WMrqCzPoNGkMx5BoEBopCeYNbPOjqL+ST5ekMmmmD6tnuUr++jvzzFpvMm0hHPWsWYIECxrHaCyMktZaViZa1UpXWvnADOm1pIW1n6ujYlarOJ9gZA4ChRahbI1EX1evH0imI+OnfTrhHNJ9F6xpMbcJyYTZWSBOqY5UjB5QhUtS3qZPrUGzyteMFOtbTVyq1XmaJs6IhJ8JZG1i3iaRHsKHXiWrPsI6aF1YBo5EhgiowObHbHURGgygcTP58mXSHzpIaRGDwyTLR1Nch0cHL6ocBIsBweHzx0qqmvY56gTuenphSgtEEoiFMhAIwMPWfCRvkBoDxEESCWRSGQQ4Clp3gemAZvZ15bFFdIYdJHmRwdIPCQeQpvgPvzfqsk7jDKRK226TVvVTtoTTGysZObUWqZNrmHy+EomRk/tRTTGi68tRmtTBndgME+VreA0Y2o9TZNrqKooJZ8vsLx1gPnNXaxo7yPvFwzhkphqWMnMQqgYsxIbbO8PbScW5xWKq2sZ+U0odZKJH8GkcdWAYOmKPrS2pGFqPZ3dw6xsHwAh6B/Ik06nrLwn0bRvNWWNdSI0F9rI1yaOr6CqKsP8lg6GcoV4DwGhl2bJ8l7a2gcZGCiwsLmTxUt6CAN6bc8DNDVVWQYGC8YuYwfRXnhpQiKR8KZEr5ISu4R0LvxOj8p8JPYs/vGIHB9idH8Qe4OIWLqFEKTSHuMbK1i0tJfVlo8Z/WHY0RxBoRAYGZsUMRmWxW0Mk+IyU+xAMqe5jTc+WBEl+kQi8xNdIwFCCTttgRKaQw+/nb+d+RKgUApKK0soDK5mzg4ODl9IuAyIg4PD5xLb7H4Ybz91Bz+57EVmTqhixqQKPCkIBASeMRgrNIE05UiVAoVCaUGgNYEO0EqiFPj4BEKiNOAXUEqitECpPEp7KAXpVMCh+6xDdWXWBnix7EkkKk9pHdjMiQlUg4Lmnbmt1NWWMWlcFelULIpq7RjijL++QFlWUltVQk1NKePHVgKGHGhASo/yMkF5WQVhE8O+fp+lK4dADFBfW0plZYk1OYMMfSCRxCj525KOqLywzS4USZHiMruEM7U2mXENFXR2D7FoWQ9TJlXheR5TJ1fT3jnE/JYuAKZNqU0ci9U8BrMBekJKpKMn+VBVlaW0PM3Spb1UVmQZU18RETW/UKCvP8eYMWVMmlAFQHNLD4Eyzf2SyOUCKsvtuiDiWgIyfJ2UV0FxQ8HEPBMVxeIMRpKchGuaPLrNjIiw7HIQ7Rd6MCJrd5Q1kQQqYNHSXhrqy2le3E3T5JpR57W6DIhg7vwODvzarWy+8USuuHCv4rlIjPndZjB0dPtJWjv62emQ69lq44nc/vdDUDqwakMdExFhKmGJ8F5XmtbhYV58bgkbbjMBqTSehMraDC1dK3BwcHAAR0AcHBw+pxBC8L1zbmVgoJ9577xIy+sPoUrrkDKFCHqQ5Y14Xoq06kWWNCClh1R9yJIxeDIFagAvW4vnpUAN45XUmH31CKlMlWlAp/Ok0hVImebdNx/jqlse4wdf3xjhJYNX40n42elP8NwrS+jqGeaMX+zIPl9Zg+dfW8Jjzy1n0oQxDI70s2Ll2zTWp8nnJb0DOYYHh1myrJvfnLQtE8ZXGnITBraWJOhkbwahAY+qKqiqrOSuBz9k8sRqaqqzNNRXUFmRNcp/pWJpmA10jRXABPlLV/Zw+Y1v8b2jN2VMXdjvAoqbpiSDbxOQaqW44MrXqK0pYbcdpjFz2hg8DxrqjSxLetKWsNWW2ISjaZYu7+P5V5Zx2H6zST6XjzIcVhoG2hjgp9XQ1jpE86JOXn19OXvttgblZRnWWWMMKpJjaQKFCdKFon/ARwcBBT/ADxTdvcN8OG+AjdYfh0IjfWH6PkptlzmUqhVXs0LAVbe8zUF7zrL9U5IRffG1x0rZwspr9z4yj4eemM9mG01g96+sQUN9ogt9tF+4wpJQQtfZNcAG219G/0Ce73xjY07+4dY0L+5h2hRDQiLqEfNXM45WfOfHDzA07HPCsRsnvkv4Q6SI6icYIiLQEm6+dw5DwwVO/eH2aAJbLQsi/5SdtxlGolLGC7JkTi+lZSnW3Wg8eQ+kENTUZWlrn4uDg4MD4PqAODg4OHwS0FpzwZlfZ1rjEDtvOz3UqxBmEU7549O8O7eN0pI0R+67Dq+9u4Km6bPZ7/BfM3HyDADy+TxLFs2loqqBFx69gicfvYsVbQMcsd867LDNVLJZI80ykqIgofkfXfJV0t45wAZfvgzPk1x81m5sssFEBoZyZNIeNZVZKkuzxvMdyn+i/iIel1z/Gied9hjlZWmOP3wjvnXkxkyeWAHAm++18qV1G0k2KfT9gEAJ0inYcv+reXduOzOm1nDSt7bkiP3WJpNJm/nKpEciJjBawE9OfZRLr3mDw/Zfm3NP25XKilQsP1olS6MtF/J4863l7LTvtWywbiO3XHEwY8eWoaWOeuZ9OL+DiooMQ8MFyssypNOSlJRUVKTZ66CbaVnUw+N3f5Upk2oRgUIqGT3dFwpMB/rYLC6QvPnBCrbe/xrWml7HZX/cg43XHx/fB+GLooyHbWop4fzLXuWsC55nYLDAsUduyJ9P38WuZRCfrw6pSFha2Qz2q98/ztprjmWPnWdSX1tC/0Ceru4hmibXxMcuyhyZ8eYv7ERIyfRp1aPmNQpaGt+JDm9fj7kftTF7ej3o4n4g8ZoY5uJLUFkIPMlIqWZY5WkvVXglGQoo8jLFRT95livPeIyysrJ/MgkHB4cvAhwBcXBwcPiE8NJz9/HWM3/n6APWLpIXCTyU9lmwpIf7H5uPTx1HfOM3zFhrg48d68KzjmWLWQHjxlZw2oXPc9yRG7HuWg3RoIaAQEw+RpmeUcyZ18FR37+HufM7+cm3t+DUH21HPh/Q0zfM0KCf8HiY/aoqsoypLUVIj7feX8k5F73A3Y/MQ0rBfrusyQlHfYlb7vuADdcex9cOWJ++gRF6+nJIoZEyhdYBExoreOCpBfzirKdYtLSXnbaZylkn78TsNceAgMHhAmWl6cgfEwbNhULA6ec+x58veYUZTbVc+de92XC9RkabuoeGA7IlHtKLpU+33jmH7/70IepqSrjxiv3ZaIPxhi4I6BvIk0oJSktS9um+PV+t+WBOO7vvfwOTJ1Xz4C2HU1tdYhrxKW1WWZvXEREgJgUPPbOQb//yIbp7hnni1qP40rrjiAhVJLmy2Z7wpQ3+fV/x0YJOpk8bQzYbzoni/cI/zaMzFpYYmMyDZmXbAJm0R31taYL8jDouSblbQv7GaviIFogA63PS1pdu1kz6NmulwtYxIjqWkhrlSZQI6KrV+GnBsBfgS0GAJpfOcNNf3uC4Pf/A+rM2Xf1N7+Dg8IWBIyAODg4OnxDeefMZnrzrTL512AZWK6/IA2/PWckTLy4nH2TZfc8D2OrLxyQayq0ev/3Rnnxtn6k89nwzr84d4hsHNbHB7MZYBSVSgM/qfBzJykeDQz4n/vohbr5nDkcfvD4X/P4rpLxUFFAT7qklXT1DdPWMUFudoaK8hGxGsHBRD5dc/yZX3fwOg8MF1ppex7yWbs799c4cuPua1FaX2IpMHoNDw6xoG6KuJktJSZpzL3+F8y55CSEEPzh+U37+va356WmP8+ff70IkqRIJIoLg8acX8q0fP0Bvf47f/mw7TjjmS1ZiZILgeQs7GRjKM31aLVWV2egcXnt9BYcfdye9fTlOP2VHjj16A2PCF5As0Vu0RlrxyOML+Oqxd7HJRhO445qDqCgrMdkgBTKsXqVA2OaGSV9+R9cQl93wFt84dH3GNVRE444mICbLs5rzFfF1IhTFFe0XkpOQYMYFDSLhndK0LOmloa6ciop0MfkIh0LEc7I7jq7dFblslLC2E4kIm2Jq0y1ehpxXS6RKGO4FKClRHvieYqBS48uAoQyMpDyUhJwHT97xEU2VW3Dkbr/EwcHhiw1HQBwcHBw+Icz/8G0uOud4ttl4EuMbKlmwqIfX53QwaeIYdjngJ6y7wdb/kniE+PGxW/KdIzfi/KteY+asNdloTcnG6483/gQxqi9HkTk6CRvsasHJZz3JBVe8yg+O25Q//HwH6yExT9FFIguitaC7d4jhYZ+RfFjZSzAykuO2++dw9W3v0do+SCbtcdslB7Lz1lPtsUJvh2ZF2yC+HzBhXCXNy3v58WmP89gzzaw5o46Fi3q4/uJ92X3nmXY/K09KjNHaPsQJP76fJ55tYeftp3HRuXvQOKbCypgkLYu76OkZYVxjJeMayyPysnLlAMd+715eeGUpe+22BheeuweVVWk79OhytDZzpAW33vEBp/z+SW64dD8222iiDbKNGd1Utir2c4QEIpRq6aLZ87EyJ5OFCKt/hZWuZLRnLLda3Z/lZNd1ba+bOZAKFAtaupk2pYZU2oynkyyFxCnYmasisiMQVmqmVWA7koQw/VEAhB9mPsALismTQlMoAZWWDGbzDJcIfKEZynhorchJyZvPLoWVM/juEaevfoEcHBy+MHAExMHBweETgtaa9956hoUfvcnSBa8xdY3N2PrLR1BbN+Y/Huuemy/guUdvYvK02eT9QXbarIK1ZtQZw3AYiFqPSXFjvLhPSQRhMhxX3PgG06bU8uWtp8beD63iikZFz8JD07c5RlfPICef/TQA48dWMKGxgplNtey4xTSSZvQwUB8Y9Fne3s/kiTWks5Jb732fMy54gQUt3TRNrubVR48hm00VP6mPInmBUoq/Xfkavzv7GWqqS7j43N3ZecdpgEdPzyDDIz6d3cPMXmsMQhq5kECQ9wPOPu95zvvby4wfV8kVF+7JZptN4vqb3+XIQ9dLrFl47oaI9feNUF1Zaj6LsgBYEhLPbXVyrKITEDGZK+7BYUlGIgsRdfkIvUJF13UVWpNASJ5iedTgUI7OrmGmTKom2ruIgOhEdkRYj0ziGKHvRAvzE40iQdn+7QqkrVvs+cXZJIUiKPFQ+AyUKgbLNVpIhtIKBeSF4KP3Olj4gsdvv3clDg4OX2w4AuLg4ODwKUShUODcXx/Kzvscxy03nMcPj16bmpqSyHwdmZZDiAQR0aOCV5EgJeETdh0HkHGcGo4xuuRs8rsENKavSaIUbZwJgUIQsGh5P5m05A9/fZ77H59Pd88IAL/8wdb84ofb2IOH+4UzEVG24+33lnPc9+9n3oIuvnf8JnzrmI25+PLXOOM3OxLuiZAJOZA5/+dfWsLx37+f1vZBvn3sl7j+lvd47dlvUltXXnxuYcyfiP2FxkqRBELbwNuua2R9gKhkbSKxQDFhSK6JlUHJUENn1jnK/hT5NlY3RpLYJIoOJBIdLUt6mNBYabvPJ/IlYUEEOz+V3Ck6BiR7mJg+jzHRMcQDPGUIiQh0PIQALT0KaZ8gJSh4mlwJFGRAfwZ8T+ALaF0+wAPXzOPvv3kCBweHLzYcAXFwcHD4FKOnu5OTf7Arf/rVl438KuqbYSVUoccgUS0plueEIWJojg4D2PAbWfT9qs4AoIjmJLIsBAmDcrif7ZpNbNxWApa19pFKScY2VDCUL9C8pIe58zvZZcfplJdnGe1hSVa5goDBoTw/P/VJrrv5XWatNYaWlh7eePZ4xo2vSMwtSWKMRKm3J8cPfv4QL722jLb2Ib593MacfuqOxacihJFbhX0swrLCGpsJscZvlchW6EQ39FCe9HFyrORrOXrNQ2KiSfZlKfZvhFg1KxVdH9sxfWi4QFf3cNQDJSRL8XraI4vkHBLcKXlQbe4YY/Cw0isNXsEKtKJ7LCZS+TSotDGjD5doAuHTVWL8IYFQFJTHhT95nuvOfxbP83BwcPjiwnVCd3BwcPiUwvd9Lvnjd9l9m+n2SbuIOUcRWdBGSqTDYDTpC9GJbeIe3wbJ75Ndz2H10h+xylsdZUwk6CBBW3SUTZjUWI2UHkuW9lOWTrH2mo3su9tatLYP09WTs3vIaL+4M7o5x/KyDH/946786qfbkM/7jOR8/njB88QN/5JrEXsr+odyIARt7UMAXH71myxo7gknTkxYwuyJIU2GEAi0DF+DktrwDgFaKEMGMVxEyzg3EcupiLIdydejr0n8PkkBktchud/o87QkRpjjlZVmyRcUvp/YbnVsRo8eK9wsSVJ1YpYajUysT9gwMSyjbMivF4AXeHgFRaAC8h6ktaEnnoZ0SlLVkGbZikU4ODh8seEyIA4ODg6fUtxy+S/pXPIGxx60EQqFzgAi7ClRLO+Jn44nn5SPCrAjhBW0kkj6P5IyLBL7J70idlwbrwqbrYglWcXjKqB3KEdH1xBTJtUgM4YOLV3Rh/RgfGOVMVzI5JxjX8nr76zkr39/mTkfdbCwuRuAV546hilTalabfQgzRJ2dwzS39NCyqJs58zqory3liEPWNXK2hAQq0cov4fdIyLHCrzWmkMBoOZZNQBVLs4r9IkmioaMs0ShpHLBqJa3k2o+SYBVBMtCfo38gx/hxleGFiY5nyFOxP8S8DiVsMlbtRWthfnvKZrd8SCHMmiSJsAAtJEFaEIiAoVJFkIKcp+gvAS0EvpQ8dMMH1KXX5nuH/3E183dwcPiiwBEQBwcHh08pbr3iFAba3uKre80GIfFTWHG+tCogVcwJQgO6fQq/qjcjfJoeUOzzCAPa1RGW1VWP0rFfIArWzXbFBCQhiUKgUAzm8ixvHWLKxEq8rAcedPUM09M3wpTJVXipVbMwKnxpUSgEzF/YS0mJpGmqISA6EdwXZ4C8KDMjECitWNE6SL7gM3FCFanUxwkBZCRtEhor04rPN8yymPehNEuvQlASqrjEaiSuiUiud9IHsro5JXu+sMp+4bQWtnTTNLkG6YlonNAHklzL4uSITNxPZrx4Ch5eYI+nbDleLawvpDh7lE8ZGZafluQyipF0wGDKZIkKUjAyEnDDuW+z57ZfZ+8vH/0xa+/g4PB5h5NgOTg4OHxKsfeRJ/PRkjxzm7sBhefrWH6lVLGCRwEqSLxW9ruQKERf2NGTz54SjQzDJ+ERdPF7nTA/2/4QJkBXCWmYzcIo+8RehQIfKM9mmDKhksXLelF5Q1jqaspobKikuaWHkeGw9K/5MQFz0i8gSKc9Zq1VT1NTTexxAGIjd0BcnSqIFFcKjRCCCeMqaGgoZ9GSPrq7R6Jx45/oBKPMAUIR+mw0ygT0gBaBkSAh0EKjPZunENhtYzmWThAAs80/e/4nR/0Or0W4xqNhCaaQVJRnGBjyY/YzGkmGI8K1TpCZonkJe83NfWB4rjDd5qPeIka6paVJYEkk6UJA3jPrlbb3aEppSjKSg767Prc9chFvvPfMPzl/BweHzzMcAXFwcHD4lKKkpISjTvg119z9Dh1dI4hAIfIgtIfUngn+o3/C8FkUf6Y9hJIILRFKgxIJgmJJihIx8dAiEUGHCL/DxOVhmdpQf0QidNd27PALVeznkEBJymPKhCoWLe0hP5RHBJrysgxNk2tYtmyAvr5hu/3qZEZh/Bwe0TMEJTRWC2EJiySmPTJxOuZ9WWma6U015PI+LYt6yOfDIDskXDGpUcSEQhF6QYTxgti4X4nAbqONdyR8jf0cOy8RVsMShJ4LHa1g/CquSGXPsSiTFa9nvCI6+r6qqoT2rqGoGNooOoGR8SUFa5FmrGjDOENi5HKx98NKtaSHtpkPpLknpPYQCJZ2DZgKYoHpSC+FF9HKqto0e399ff52zW8ZGOjDwcHhiwdHQBwcHBw+xVh7/W3Z74ifccF1b9HbVyClNKIQAIGRGlnjeUwcdPwTddGOMx8xUZEIPPva7q+UJS3J/UPCYitDAZH3I/IjEMfAYdwejjWq3G1og8+mUkybXMvS5f0M9RcQgSDtecyYWk931zDdXcOEYqpQ2lQ0UHSwIHGOiUBcxAF6lA1JmKhBIgSMa6ygcWwFS5f10tY+SLEoOTJEoBGoMMMhhOFxESkRaGm6nUfkSJgj4QmQYVYmiEiLyayElctCx0XoDyGRvUhev2KfSDHJis+2pMSjujJNd89w8mQYGMxHYwq7Hmb8JPEqxp//9hK773+DbYCpRxG5cG5YwuSBCmhe1MXue97AU48042lppFpWDieEB0oxZWYVa21ayZ+v/94qx3RwcPj8wxEQBwcHh085tv7ygey8z7Gcf90r9A8WkHkNBRCBxlOe0eRH/8iYYISyqDBqjEhD+DQ99ILIOMjXGqUUbR2DiACTdcEjLEcbkRwgkueE9gsNCxd14xeKpUVxZiR8oRECUlIyY0oNHV0jtK/sp711ACmhaVINA/0+3d0jaK3tH6pExiN8rc37/oF84vvoRC1xUEWvw0aAGsgXAoaGfUpL00yfVkcqJVnQ3MPAYC4xXkhCEvInoZm/sBOlQ4mWlWOhKPiGKChBcXUsKUBIWpb08PIby1m2sg8/CBJjm0UsJh/J84Xb7pnDrXd/wK13z+GNd5YlZGYwOktSUpIilze9Yu64bw67H3QjG25zGW+802q3TxjPixDP4/6H5/H7s56lrrYErYNICqciiZtn+Vk4T0NslizpY9myfhBQSCkEGqE0WgcIlJmplmy713Tmz5/LkmULcXBw+GLBERAHBweHzwC+vNfRbLnzUfz1hrcZGVak8tr0pggN1gEJn4fHG++t4Igf3E3z4m4IMxx4cXYjIhMKoRUSafMdklvv+5AZ217M/sffwq33z6GQz0MRDbAkJ0w2aGn61WnBXsffyoStLuDQE+/iz1e+wnsftodJhGh/IPpMCsHUiRVcc9vbrLXN3znsuNu558GPGDumlM72AS64+FUg7sRtzjf0qmh6eobZeqd/8OvfPcHwcC5xFCv4ETJx8ERZXAEXXPwq2+x8FU8+0wJo6mrLmTa1ip6eYZYu6yUIRlUKs8RgaLjATnteywZbXsKpZzzNG2+tQCmFEIKTfvkIgyO5mCMlfRsCbrz9fXY94HrW2eISxq75Z2ZtcRGXX/tWTJYithb+NsUB8nnFsSfey3E/uJ/jfnAf3zrpAQKtbHYlJJOxRKu8LM3AgMl4fPBhJyvbBvnGVzdg1ppjKM6kJDMqqkiuNWutMRyw7ywu+dteNrsTRJKzkHIZUqLtfSXQQjJ9Sh2nn7YT668zDmkzbRJBSockyVyHVCrFxjtM4a7HLsPBweGLBVcFy8HBweEzhDuu+SMfvnovPzhyUzIZD5XWJM3GSprgsmVZD7scfROnfH9rvrrfetZzEAp9kmVcw2pYcWZkzoIOrrr1HW6+bw6tHYNccsZufO2ADSgyKqvQlGz30wFKwe0Pz+WhZxby+AstrOwYZMaUGt68+xgyWeMXMGbucBjjtdAC5i7o5PwrXuHeR+fR3TtCVUWGA/acxb2PzOPuGw5j2tQqKspKUfjWg2HkVP2DBU4+9XGuv/k9Zkyv5W9/3p1NN56QWLHVd3BHwJNPt/CjXzzC4iV97L/3Wpz+mx2j8rUDg3lWtg7RUF9GdXWGpC9keLjA7XfP4fa75/DsC0tQSjO2oYwdt2vio/ldpFKSm/6xP7W1pcSZBmPOXrSkm7ffb2P58n6WrehjQXM3hx+wHvvstgZxLxQ16hoJgiDgg486QAq0VowdU07j2Mr4ukU9YGK0LOlhbEMFAk221EOIFIogImRaFJMOITyT6ZBhQQKdII+mrLHnW/KplFGQBSCkbYqpNMoDLQW+CBiqlPj4jGQg8FJofHIChH0dACPDmr+f+hwXn/YYVVXVq7vlHRwcPodwBMTBwcHhMwStNTf+/RRWzn+F7xy8HqmMh05LoopNnhfJZYZHRijJZsx3njULB+DhoUUYiHoQBKO8yCYQ9n2fF95YwRYbTiSdKZ5H1AFdJ9+bOQhM7Lp4RT8DQ3nWXqOhWAolwu7f0WDR68XL+3nqhWbufXQ+HzV3Mb+5m59/fyu+dth65H2oq8lQVZ1Fe2HwbCb+yBPN/PBnD9HePsS3v7kxv/zJNpSWZuzAodQs2UXczGdwyOe881/ib5e+Qjbj8dMfbs3xx2xENpNCa1i+sh+/4DN+XDWZTNh9PiQjmrb2QR56bAGPPdHM088vYsK4Sj6c18kaM+u4/bqDmDSxxl44+y9hj6+tNIloKET0SdhlPFlOWETrG2sXRnlCrMQtvDaFQkDLkl6mTzMleSM5mEg0HAxN5EIkiGwsCSPMPCFAa6SWeIEaVQEtLHmgUEKAlBS8gJGSgJGsIJCavDRE2UcTpMKjCAIBD980l5nVe3DYPt9d9YZ3cHD4XMIREAcHB4fPGLTW/OMvP2Wo9S2OP+hLCAkqg/UZCNCKQAJSIgNF4GmEfaotfQ/PN9WMlPWPC+0hbCneWAaUrLqUNIEbsmMaW4SBtCBqdFEUFAu0sgGziAmKtgG0DpvvJav8Innp9cV8/9ePMmd+BwCVFRnefvKb1NSU0NE9xMBggYaGMsqrMuGMCICevhy/+u3j3HzbB8yYVstf/rgrW20xleLeGeFx7Lwx1Z0++qiTX/7mCZ5+bhEzZ9Txh1N3YucdmwAYGS6wYuUA5eUZGsaUIaNmiQkvDJoz/vgcf7rgJSZPqmKD9RrZbecZHHHIuomjjiIMOjTqi1gWF2aqokpj8b6m2lSyB0hxliTeL8ykaHr7RhgYzjFhfCVJOxAivr6xnIqERi58YwmXMveFCMDTAhkIWw0trJCmorNTAvyMxheavnINnsYHCimTdQlQaM+sgQ90tQ9y83lzuPTsx0ilUjg4OHz+4QiIg4ODw2cQSiku+cM38PLtfH2f2egSj6DUdPaeV11GZXoYjwJaCdIFqBxOk/I1WikyBQ+FQoSBtDaSHx1VkkrCRKRCJYmCqXYUd2O3ASoQdfQWYdBqSJEOpT4yGQTbZ+3JJ/qW1GglmDO/lVffXsmKtgG22GQC2281zbgdtKa1fYCRkTwTJlSSLUlheoYYP8QjT7bw4188zPIV/Xz9qA049ZfbUVWV5d3321hvnbEJ2hA2MLShttLc9+A8fvP7p1iytI8v79DEaafswKw1xyAQzJtvJFBj6yuori4hSdD6B/K88dYK1l9nLLW1ZRQRDXvuIpF5SRI7uUqJXbufCggt3nHmI8yMJLM5q8lYJIjGipV9FALFuHEVcaNHEe8XlhiOCcdohMc0MiuhDAlBabzAyvA09h4KCASojCSf9hlJQZAGhWI4JUBCgEZLD2W3RaS49eLX+comx/GVrQ5fzfEdHBw+b3AExMHBweEzikKhwN9O/yaVso2dt5xK/ZRKhjNpLq+YwNot75DOD1NWm6GmooSq6gzZPKQCQfmgJOWnEGGAq608xtd09wzRPZCnr38EtCaVSlFSIllran2k0An9CTp65i1iL0gkeQr9HdKqd6yB2fPQKrCbmoBVJ/wpEYEJ42mgo9t2Sp9URTrtRSFyPu+zrHWQbKmkcWwFUkoUCi0lfX3DnHbms/zj2rdoHFvOWaftzDU3vMWZp3+ZmTPrExkHEhYYk4kYHipw8WWvc/6FLzOS8znq8PX5+Ulb85OTH+WCP+7G0HAe34cJ48pJpUNz/qoZEQNJ/EdWRVsWEb2i5MMoqVjYzFGuhrwUvU7Kp2Titfnd259jZdsgU6dUk86kicsUS1NiNyIfybFXPReUQpikhsm2KImniPwnWki0hHzKx8+Y0sXDGU3eUyjpEUhtsyQKhCGNBQHz3uvkvSdGOPMnN+Hg4PD5hyMgDg4ODp9h5HI5brvs58z76CNW9HTSV5qhu2os0xsrmJAqMNQ/RFdXOxUVgv0OXIsZk2oRSlDeAxnfi/waL725hDse/YiKylpqa+uprvAQ6Vp8P0/78vmUZiVf22c2tdWlFAe/9rdW8duIoCQQNawb9dtCSyvJEsmAOgyIBcO5PEtXDtDYUEZlRYkdW4Hw6O4boL1jiLHjKqiqzMSjCnjp1WWc9ItH+PCjTiaMr2D6tFruuu2wxDGKjxP6WoQWrGjt5+xzX+D6m96ltCRFXV0pW2w2mb+fvwdDw3lWrBygtqaE+tVkPKLzSszFMLCkUTw816RRfTWyqmjcEKPmuwqSEjEzvkYxNFKgvXOIyZOqIwmWRoCMCxCASNjSddj73L4VpuIZgArwlKVTPqS0JZP2NLXU5EpMs8a8VAyXGXJYAPBM9kMLI9cKAF8ILvrVi5z1k5uZMG7yas7JwcHh8wRHQBwcHBw+J8jlcvi+T3l5edHnWmtefPlBbrjhdPbbfybrrt1IbaeRBA0O5bn27vfpz1Vy7A/PZdyEplXG1Vrz8N2X8+jdl7P3jjPYcsOJyLDyUdIbEvpHNCA80DaQDk3PYfdwiPoXxmTFNgkMkyhi1Sf+gRIsWtpNdU0pdTWl1q9itvMDzYqOQQqFAhPGV5POxD01lizt4ehv3cNbtgfGRX/ZnUMOWYdVA/w4K5AkVHPndPDDnz7Mu++3kcsFXPn3fdhnzzXRaDo7h+nryzGusZyKsswq1IyEzCuUlxV/n1gMW1I5ri72cX+eR2c7VpcZibcNCYUW0LKoh8bGckpLs/H6idBPokKXTkSYQtmYwEiuRDgQGi+w2ZwAZLhcQqKkISAFzxjOc2nFSEahhcAXmO/RiUaOGl+mePyej6hWs/n2wWd+zHk7ODh8XuAIiIODg8MXBPfceSFD3U+w545rkhrReIHmitveobxuJkd+93w8z/un+y9e8Ca3X3seHW1L2G+nqWw4axzFrcNHBfFg3kfZD/NJgODD5k6efW0x0ybVsM2mkyjJZgwBERItVPEDfwstJJqAZSv6SaU8xo0tL8owaDTDOZ8VbYNkspLGseUgJTff/h4LFvbQ3jlEe6fpdn7FJXtTUrJ6w3OSRCjgqqve4tbbP2BouMDIiE9ZaZrbbzqYurpy0ArfV7SuHEApzbhxlWTSKcKgPV4dYQN9Ea3ZamVbRXKsZCYj6fv4OLlXcltzJgorgSMAISgUfBYt6WP6tBrjARLmWsXZKB0XBzCLHr0WWiBtd0WBMt8pTVoJmzUycwjQYY9ChjKKIKsJpGYobTIeke9HmFVSQlAQmp7+gGv/8AaX/uEhSkvLVnttHBwcPh9wBMTBwcHhC4Knn7iFee9cw+F7r4dQAXPe6eCuZ1r5zZ/uIp1O/9vjfPjeq1z+5xM5/uANaJpYQzHpUIyWIZkAWKKF5v35bTz4dDN5qthpj68yf87LvPv2y2yz8Vh23W4GXlpE3cpNcGxIkSbRnwJNe8cww7kCk8ZXI2RxBS6FoH9ohNb2AWprS6mpKUFIk4UxjfRG+ybijIKymRoTc4dEIQ7Qpa37FAfoJjAXwPBwnpUrB6msylBfV2rKHUO8JlE3dW2zC0kHjTkvUVQdKz6nVSVXq8t2JOHZnh+J9bPljzu7h/ADTePYiqiQMXGeZlR6JmmWt0RDERvqA0ipFBAgVSz6CosNjKS1ISAoBkpMtsUH4wUiMK+tHC8vUtx/7bvMHLc1R+/x639ybh8PpRTvvPMhLz37AoubF9HX20smm2H2erPY/svbssYaayCE+NcDOTg4/H+FIyAODg4OXxC8+cZj3HfT7/nhN7dECs1Zf36OQ775R9bbcKv/eKwnH7qeuS/eyHEHrUccCI/2IxhPh9aat+a28tALSxCpCvY84Bg22mKfKBDsaF/JTVf+gs62xRx9yNqMrS+z8qlRCq8ENNDbl6Ojc5gpkypJZzySGQAlFBpFZ3eOnr4RJoyvJFuaIqzIRVT5KWkWDyLZVpE0K5JjGVnZnA87mDihkqrKbBEPkHgoHdDZNUxfb44JjRWUlqZj3jFaVpYgOUaelciMJJoX/mvzeUhMzLYq+b0I10tgesWYzZoXddM4toKS0lFZoNWRj8ijYgViCqQOO6CDCDRSCaQmIo8aCDxB4GlyGUUuHRBIie+BLzBZLtuZ3peCAIUvoKMjx41/fJPzf30nY+rG8u9CKcXfHnyEm659ABF4TEiX01AyhNSapS3L2Wynjejq60Qg2Gfffdhqq62QcjVpNgcHh/8TOALi4ODg8AVBoVDg7386AV1YztEHr8edD8+lomErDjryF//xWPl8nl+esCONdVm8dJaM9Nlt25k0Tay0W0iU0rw5ZwUPPLuIktIS9j7iV6y70XarfQKtteaZJ2/jzhv+xF5fmckWX5qAkLYxn0x6HnRMErRmJKdZsqyburpS6mtL7XYike2w1bJWDJLKSsaNq0SGBnhhsx1R5kSNCsBHzdFu2d+fY8HCHmprS5k4sQLPk6Y1CgJhXlAoBKxcMUhKCsaPq8CTqUSWI0Qsx4rIiQ6zC9jKUoYAxGKuf/YnW5pGgGhWZ04PDeJI6BvIMTRcYOzYinhN41mtBtZAr0HgQaCQ2hIkrUxfkGiRzPoWUoDUFIQxoRdkQE4CXtiI0jZMBAJpzjAPvPzYYvoWVPHb713+b2Ur+ob6OeqCX9FLngN2PIRJKwdZ3LyQjo4OBgcHeeWpN8imS9joSxuw2fab8MHc9+nr7WOPPfdgu+22I5vN/stjODg4fLJwBMTBwcHhC4QgCLj8gpMY6pvDIfuuyzkXvsjv/nQvNTUN//FYnR0r6O5oIwh8OlYu4M6bLma7jcYwtq6UD1t6+GB+G/WNTex96A+Ztd7m/1YwuXJ5C5dc8EPqKkc4dN/ZlJWmR1XMSgF+Iksh0SqgtWOYfF7RMKaE0pIMWoTVn3yzm5T09A3T2jFIQ0M51dXZKCsQ+iBUqC9aTabBkB6J0AJNwPBwwPz5HWRL0qRTAulJGhsrKMmmAdMpHAT9/SO0tQ0ytr6c6pqSRLfy0WuhV3kZBvSjPSE62r84M6Kincz5jPbjGI+N2Sbn+yxZ2s/ESZW2w/vqMVqsZqRYHmiNF5jZoCVSCUuYzLx8BYtW9DFpWjX5tGI4E+CnBQqJL0NJmBnSB5SVyC2Y3824mXVce+ZLfPvAM9l43W0/dm4A/f39/PiP38VftxQ5dQb56+az4bRZbLTRRkyePJnq6mpyuRxvv/Eut15/G+++8y7rrrMe+xy2J80tC5k3bx5bb701u+yyC+PGjfunx3JwcPjk4AiIg4ODwxcMSinOPusopkwY5tXXVvCzX17HhIkz/tfj9vZ0cePFJ6FIM3vDHZi94faMG/+fl1QtFArcft2veO2VZ/nqwesxc1otGmmzHmFlrXDrmCwMDuXp7hlhJK+pqU5TVVlGOm0rcElAa5QWrOwYZGBohOrqMmpq0nietCTH9ioZRUCiqlCjPh8aKrBiRT+TJlUhBCxb1k99fSlVlVnrGwFQaAWtKwcoFJTJmEjPNPKzwXoxHQklT2G2xIuqY4VHN1sUS7NUlFGA1fpwCD0w5lyU0PQNGAlbVXWW+rrSeNOQcWhobu7mqqvfZmXrAJdctCcCEXlehJJIZciWsBMTNjN11l9f4JKr3+CeOw5j2tp15KUiV2J8H3mITOomKyMJgLa2Ab62+XUc99ttWWuTRt5+qJ/zfnnbxxLX4eFhTj/996y51lrMn/w6rz/SzFnHn8X609b5mDsL2traOf3kM3ju2eeYPXttjvj6oXT0tHPfXfcTjGiOO+EYdtt7VyfPcnD4/wxHQBwcHBy+gOjr6+aUUw6kvq6e35x66397OqvFB+88zxWXnMKmG9Tyle2mks1mzZNziL0NGq6+6R0OPWA9SrLGpB4o6BsYoad3hJQnmTCuAunJKNuhkCgCnnl+CY892cxRR67P9Gm1iBQ2s7K6Ph4x+dBac/rpz7LPPmsxe/YYlizpZeLEGtJZwYrl/aBhwvhKpBebWASSgcEcd98zl8WLevnWcZswpjYO+sUqGYvYByIArRRHn3APm35pAjtsO5V1Zo3FkwlbehSj2/LIIZFBcdFlr3HrnXPIZDy01lx4/h5Mn1GLFqbk7rIVA5RkPcbUF1eemjOngx12vBqAww9fl7+ct6s5TGih0QLpgxeVETaSscHBPJvt8g++tOE4LrtkH4bLIPACCp6RgBUAbWVYgYizNwUtOGD25ex25Noc89vtuObMFzl6n5+x9QZ7rfb++Otf/4qQArFOK089+hJ/+8l1jK1t/LjbqQitK9o4+/d/5OmnnqGmqoYFS+Yxvn4iwpaK3u+AfTn++8dRW1v7b43n4ODwn8EREAcHB4cvKNrbFyOEZsyYqf/tqXwsBgb6uO6y7/LBB/PYatOJbLfFFCor05HP4O3329hur6v59jc25sxTdwLCqlWm6tPAYMDKlb2Mqa+gpjodNzxEc+oZT/PXi19lzJgyjj5yAw49eG0mN9WYjEjYPaPIkG6wZEkfX975Gnp7c+y//yx++pMtUQgmT6kik/EY6M/T3jpI/ZhSqqtLrD8EEHDKr5/kssvfoKQkxZGHr8v3vr0pkydWJ/3iFklPiGBlaz/7HnoL8xZ0AVBXW8q2W03h60euz/bbTmPVSmTha7jq+re56745FPKmGeFFF+zBmmvWm62k6cfRvLCb8eMrjSndzkVrzaWXvM6uu81kWlONGTKcpxaIwNAdEYDUgmRZ4baOQdIlacpr0wxmAoKMkVrlU6Ct30MJk7VRwsw4QKOEyRwFEt55bin9zTX8/OsXr3JfvP7661x33XXsdfjO/O2Ws7jgZ9cyaWzTf3JrATA4OMipv/otF1x0PgW/QMpLs8aUtchmShgc6mezTTbnxJ99j9nrzKK1tZWZM2f+x8dwcHBYFY6AODg4ODh86tHZ0cpD91zE228+ysknbYuUsS/jxF8+yI23v8+Lj36DGdNqjHpJxJKlIIDO9mFGcnkmTKzCS4dZAskzL7Twh3Oe49XXlzOusZyvHrE+hx+xHuMay0ilU7ERo0gEJejqHuQv57/MP658C601R31tAw46ZB1mzKihqrIErTTLlveTTgkaGyuMkV4JBIq332zjgr++xIMPzcfzBIcdsi4//sFWTJpYabMIq6+WJYCFzd08++ISnnluEU89t4gdtpnKFRftm1ip1ZvPQ3mW6cdimj8qDPnQAvJ+wMoVA0yeWh3JqUb3lpTRYHZmgcCzthlPiVWOGaDJlWp8T+OnzfuRtCnFG0Dk7QmsBydAo6RZZx9Bx4oBHrmihYt++0DR2Pl8np/+9KccdPBB3PTgFex/4P7s/KV9+d/A932uvupqzjj9TBYuWhB9XllRSXV5LRMaJ7Fw2Uc88+wzzJ49+391LAcHB0dAHBwcHBw+QzjntCPZfEOPL60/nrC7+uBQjutufZejDtuAktK07Z1nA/Ewg6GMR6S9fZCKyixjxpQRypWU1jz2ZDNnnfs8b72zkgnjK/n60Ruw115r0tBQxpw57Wy+xRSSmYWwytaSJb2cdeZz3HH7HKqrs3zjmA05+NB1GT++gpKSFEsW9zJufAWZTCqah/FRwIcfdvDHP73Agw/NR0rBkYevzw++sxmTJlahFCxs7mKNGfXmkJEnJCYnSpk/31IWB/8xZfBGSdaMRM0QEo0S5hyUAC01zQu7aZpWa5YsYXsH681PvEfbrEeAqYalbNd0u+4KjUrBSMY0ISx4kLeNCJUUBJEczmZBwn2Eh7a9QrT2+OtPnuTac54tqlR19d8upCtfYMyUct5Y9hTnff/6T7S3x8KFC7ny0n/wyuuv8P4H77F8+XKklKS8NFIIdt5uV4779nHssfeu/1H/HAcHhxiOgDg4ODg4fGbw3tsvcOt1v+TH39k8SkqEATUi9EOsrndGHBy3dw7R2zdCXW0pddaHoRForXjo8YWc/afneff9NqZOqeZb39qYxx5byKGHrMN++89KzMSW+gWQkrffXsHvTn2KF19YypQpVXz/B5uz9daTyeUCNILZs+vjXVXY1E+jteaVV5Zz6aWv8+DDhogcceh6fP+EzTj2O/fw8N1HkE5b8mLlWMV1qRKpiqLzxRr3KfouNNRrhJFASUEh8GnvHGQo59M0tbo4mI+OSZQNiZZbC1MJSxOV55XKVAkL0OiUYCQT4KcgJzV+WuALjbJNCg2l8ghEYOYmbJNH4VlZluKW81/nq18+lc022B6AlcuWceL+u3D0n/bgiruf44Jf3MikhqZ/+/75T7Fo0SKuuuoqLrvsMpYvX47WmimTpjBz8my6uzvZaOMvcfx3j2GTzTbB8z6+mpiDg0MxHAFxcHBwcPjMQGvN2b/dn+mTU+y283TzmdBomwVI9pcw7w3ibuP2tVa0tQ8zOJhnbGMZFWUlUZlaBdz/4Eecec5zfDSvi7XWqmfZsn6uvmp/Nt1kHNmSLKHRO1QrmaBe88jDC/j9755hwYJuttxqEr8/fUf+9McXOeucLxsplp0BSlsjt/mkp3uEd99r47bbPuDW2z8gnZKM5AJ+8N3N+c0vtyeqbJUwpscIKzaFs4nPNfawhORDRERN64BFy/oINNTUllBZkymSrkXlf3Wix0dYFjgkHUogle1Xr7EkRaI9Td4LGEmD9sCXkuGMxpcK0wzSbO4LOzcBKpyjTGN6p8Nrjy9Cts/gxCPPRCnF7357MrPXaeLlofuYXr8+39/nD//5TfQf4pFHHuHCCy/E8zz6+/spFApst912rDN7Xd555T3S1ZKVK1vZdNNN2HrrrZk1a5brtu7g8C/gCIiDg4ODw2cKAwN9nHbywey1yzg2XLcRrUHJZMOM0EQuCBsWRvWiEp5ygaDgB6xsHSDwYdz4cjJZK6kRikDBiSc9wO13zcX3FWvPbuDvf9+T0tIMY8eWU1ISBv4ChTA6JSHJ5wv848q3OO9PLzIwkGfixErWXa+RK6/ah6Jshf0lbUnewaEcrcsH6OwY5OcnP8H7H7QjpeCumw9l6y0nR8eKSUhxWeA484ElHhJCCRbWRWKlVwhJb98wIzmfMY3lVgYVoMKkiR0oJiH2eNGczWdeKMNS8XZYmVUuE+CnDKMJUPSXgBICLUPplZldmPnQwmQQlK1EpoDezhGuO/slDtvjewwN9fL2+6+z0R4zuPumJ7jqdw+TSf/fNxHs7e3lxRdf5PFHH+eph5+jaUoT2++8LdUNVXzwwfv09fWxwfobsNVW27DOurMdGXFwWA0cAXFwcHBw+Mxh2ZL5nPOHo9h0w0Z233kGXlpGXb7DYDwuoQtJ/4MJlHXiOxgZ8VnROkAm7TGusQrpwSuvL+X+B+cjPUilJF5K8pWdpzNr1hhWtg2S8gRjx5Zbf0cYVIto3OXL+zjh+Pt4842V+L7i8iv3Yc+91qSo0UZY0tZqyQYHCpxx5jN0dg2jAk0+H9BQX8a5Z33Fej3sfjrM6pDwhYQERMSplVFVsTQKJTVaCFrbBqmoSFNSngIhCEISl1y2IhIiIkVXaEiXNgMi7OE9baRdhbRGS8inNUoIcmlNQRrPSd6DsAO9QtnKV9b/gTGoC/sZQG/nMPdd+S7dbYMcfcrW3PK3t/jaXj9jxw33/J/cOp8oOto7uO6qm7jvzvsoBHkOOepAps+YTmtrKxf/6VK232l7zrngzP/2NB0cPnVwBMTBwcHB4TOJ/v5efvXj3Tnm8HWYPr3G+AoEVoKlbSBeHHxDsRwrCtClkTf19+fpaB+mpEQydly51fWbsXT0iN+U+R0aKtDaNkB5RYYx9WVIaT0M0ki8rrziTV55eTndXcN094yQzXjcctvBlJVnKMpcjJJjqUCzeHEvtTUl1NWUgQqlY6OaCxZxqPCcNQhT5Sr+NswIGc+HslKzFSsHqKjKUFaVsQSA2EeDzXIQ2WtiQqLMTAzpMD4QGfpa7LTyKaPLCoSmPwt4mrwA5Ql8S0TCswow10yLsBSvGSdZzytQoAOFyKS46tw3+OYev2SbdXb6V7fI/ykWtSzimsuu59lnnyWfz5MbyrPvgfvwi1N/+t+emoPDpw6OgDg4ODg4fCbx/jvPcP0/fs0vvr8FOmWyDwod9fkg7J6OwvgMrD9EBYmIOoQJ4E1krOkfyNHZPUKgfKqrSqipLkGmUiACQs9F6Bnp7cnT2TlAfX0ZNTVlRjxUNH5SKrU6WG+HNh3OhRYo7bN86SDZbIqxDWUIS1KSGRBE0hMiYjN+YjtNgnBJa+OwHoxCUKB5SS9TmqptaWJbM0t6hsrowFS4slW7olMKy+9aMiIA6dvt7JkGQhF4kM9q8mnwpSYnQKdMP5Cw3K6Kjhn2BhGJXE6iw7s25+8juPHG5Ww/5csctd3X/70b5b+A+R/N56nHnuaQrx5MVVXVf3s6Dg6fOqT+2xNwcHBwcHD4n6C7cwlj60oNsbAwAbANvldXOxYd9cEIg3NDJZQJsIVphldRlaG8KovSmt6eIVoW95AtSdHQUEYmEw+qgZqaLFXVWTraB1mwsJOGMeVUVGUsB1qd/j9JSGzX81C6pUELhUAwaXIVrW0DLF3ay6QJVfERw121ijwukcE8gdADo3VcvsrsatYlnUozYXwVixb1Mm58JaXlKeMa0YEx9QuJ0gqh7NhhRsRyOGnTNiIQxYXHAIRA2A6MSmm0Z94HkMhwWLJosy7KEiNl91d2fUTifb/KMJSpoX844NOMmWvOZOaarmmhg8PHQf7rTRwcHBwcHD592Gzrg2leOkJPb8Fqr0zQLZKRcPjY3ga6RB0n4gpWYcCrCX0c4bcKKQW1daVMn1FHTW0py1YMsLC5j+ZF3bR2DJIr+PhCI4SmYWwZU6bWMDRcoHlhNwMDeYpN4qMnFcI+8xfS9l8PS+UqGseWUVaeomVRN2rUaWHPODq/6FPrn5Da6KQkcUBvO42bPQPKyjJMbaqhtW2A1tYhAq0ModMma2S8ISFZSNjcQ6tLEbGJ5yRsZkMiEEIgrYwszE4Z9ZaMqo4lK2PpBPlIEj2NYERmqCzzaO4dwMHB4bMLR0AcHBwcHD6TyGQybLnVDjz3UgtCe2gdFcWNoZMvBLZgrJUrRaEwURZCCCutEjZYV1HQXVaWpmlqNdOmVTF5cg0lJSlWrhxg4aJeFi7robN/mEKgaBhXRlNTDb09Iyxd0k8QBImJWKlXKBFDsXRpL0ODBdBBKKQysEF5bV0pdWPKWLioGz+IywuLSFOVPD8zf9NlPCRSIfnQ5jthSl2ZLuiKlCeY2lRNplTS3NKH0sKSDTtvAUpGLpLYDBIeNSIhyUyUwFPg28yS1KbPh9Tg6dBfoqy9pZh8FAq25LAIr5E5gC8A4VFTn2JhW/+/cYc4ODh8WuEIiIODg4PDZxZf2fNbvPx6K4MDw4jAWDSSOYe4dGwy3xE/WY8zIwEkyQiJYD3yV8R/Mj1PUl2ZZerkGpqaqhgzvoKc0ixf2Udr2yDK04yfUkltbSktLT10dw/bPWOHQ6hZqqzMMG9+F+3tQ5jsRTz7cJ6VVRkaxpXTvLiPQqBImuoJTy9mI4Z6CIm2laYM+Yi3UUgQXpTZEEJQVV3CmLGlLF/aa03hkiDMeghhGwhqlAYtY69GdEYyQUI0BFKTRpL2NdLXpJRGBNoSEm19JWY+oaDq0Rs/4PgvXc1Izo9OTQkjzxJIshTIjBtH80crcBZWB4fPLhwBcXBwcHD4zKJ+zAS22GpXnnimBQ8PT8uER8L8ipRX0YdBVEY2KsfL6olGNECYEbCEZWAoF+dUtCCb9ahvKGXSjFq8rEdzSy/dvXlKK1JMm15LIa9YuLCbtrYhBgYKicE9qqtLWGNmHctX9LNkeU+CgISTtJ4JpRk/oZxFi3vxlV88uUSTQrNbKOXStLYN0t0zHGV4FNqUrTIFbzEZEoEQHuWVGYQn6OsbRgt46tEWWtsGrZ+EWI6FjnocRhwuMe1rb36XTTe/nD+e9QKekng2IxJGHXEGiiiFEgjBU7d+RE/HEOlsGhWJ6ez3aCQBDRPKEdLj+bnzV7kfHBwcPhtwBMTBwcHB4TONvQ78AS++vpxczkcJZSU+Yffu2GqeTD60LOrhhO/cz1tvrRwlYQJ0EMmURnc812jmftjJVltewWOPNdvsgUc6VFkJTfWYciZMqSRf8Jm/sIvlKwbJlHhMmlzF6b9/mq23uJx77/mQZKPAsvIS1lyzjs7OYZpbuk2p3Kibu2bO3E423uxSbr3tA8ZPqKBlUS+BSjKtYiIlhGfOXcOZ5zzHhl+6hF/+6jGaF3VH8qzlrQNE9nupbaZE0jihgvb2IZYu7uG4g+9ky7UuZfsNL+fkHz1mSEjKlNcNmwlCIlejzWq/P6eduroSdth6isl6COMH8ZSRX3nRbEVi9oKDf7QZ3/3LVywnscQqOoKhiPWpXsZvOZ3zb3vQZUEcHD6jcATEwcHBweEzjaqqWqZNX4uPFnYYX4SQ1uxMTEJ0HCCHDfWefraFzs6RhKVBJczdYTbB+EZMk0Pzu76hlNq6Uo499m5eeHGp3U8aEhKYwVIZj/rGMqbNrKNmTJahkQKtrUMcetg6VFVlOf64+/jG0XfS0T5ojxNQWppm9uwx9PXnaVnUG04VgIaGUtZfr5Gf/PxRfn/mMzQ0ltGyuIcgqnClzbkDWBO5tGH+147agF12mclVV73NVlteyXdOuI83325jzgft/OG0Z9FWOqVt+WDppRg/qYqh4TzX3nsQP/rN1qyxdj1DIwGBEgg8tBQEXiy50hTToNN/tT1P3vc1ttxyMtqToEBpTUonsiU6lIOF66xZd5tJ7Hjo2hR7ZQxSQCk+tWKAtXcbT8tAG7+46fb/9HZxcHD4FMD1AXFwcHBw+Mzjkfv/wZJ5t3PIfmujEQReGJiHfg4LKxvSwLsftDJzRh2lZWl0JL9SgBe7EgSAZ/pzR9WmNG2tg+y79010dQ1z972HMWt2A2H1qYIMou1MPsD4Hnq7c/R0DjG2oYyLLnydv57/MtXVJZz3l13Ydbc17AQ1QaBpbR1kwoTKoiaFhYLm5F8/ztXXvM0uO0/nz3/ahcH+Ak1Ta/CkKE7iAEhpjeYBCli8tJe/X/waN1z/LrmRgDXWqmPeh12cdf5XOPRr65ljh2ouoK1tiHRKUlNXknCaazJ+bIBP+ZpUQZDSpleItJzBHBd8T6NSEAjIZRS+hLyEwIOCgJyUBFImKl8JW6Y3cTIkzgkINOR1hntWbMCLf7iLi0/6Bduuufb/6v5xcHD4v4UjIA4ODg4On3m88sJDPPPon/jW0ZuAVvimg17INyIyorVGCBHVhyoq0xsZts2YEW1JlI5N9vVoXtjFnnvcwKzZY7jjzkOjzzUC39O2P0noSTGP/nNDPiuX9jF+fCULPuriOyfcz8IF3Xz9mA057fc7kE57FD/9F6C1qSIFoDSXXPIavz3taTZYfxyXXrwXQsPUydV4VloVnpYvjNZJYwgBJhFBV9cwt9z4HnfcNocP3msnnZZcddsBbL79ZNuEMDAEAk3LvF6aZtRYRZpnKnVpSAfmvSwoMkogAmFM5rYxobbH0tLMI5/W+GlNwYO8J1BCMyxBSUlBSjSGLBHOdRT5SEIDgZb06jIeeaeC965+km/ufyjHbn/4f3jXODg4/LfgCIiDg4ODw2ceF55zPOtMG2KTTSZFhnEjm0qQB5uNQFlO4CVEPgm7gQqd1cZqDQkiEvkebJC8cEEXfX05NtxoArFsS6IJ8KWpFmXcEsK21NP4ecXyxX3U15eS9iSn/PJJbrrxPTbYoJGrrt2PceMqRp2dtJkQHcnF7r33I777/QcYP76Sqy7fh/LSDE1TqhHSdA1XaPBMpSxli34pW2I47wf84bfP8vJLS6muyVJZXcLkKVX85LRtkCnPZCCEQgEDPXl6e0eYOLkSiTGThwuY8sELJKlQduabTEi4RMqW79USCinwhWIkqykIKHgwnDKmeB/PlNjFdKsPO7V/HAkx10xSAPI6TXO75JFznuAfv7qBcfUT/ie3j4ODw/8xHAFxcHBwcPhMo6+vm1//YFdO+/H2pLICnQLTxdu069ba5AU8RVyySRuJkPJ01MxC2awJyFhyhXkf2dCFjLMkIkFOIkulioJnLRS+DcLDjuWGu0hU4LNscR9VFVnqasu49ab3+PlPHqOqOstV1+xHZWWGvt4cm2yaCKhVeBQz1osvLuWoo++ktDTNVZftQ2NjBVMmV9kMDyhhMihKaLSM567t3BUSJZTpGG+/CyTWpG77iaDpah/GDwIax1aQskxNKBA6wAsgrexZBZAqgGdN/8pONRCaXAa01ORSmoKEoTQEUpIXoIUHAny7vlFzwggxEYldIWE5LUUg4JVHFjHQrDnnhBv/J7eQg4PD/zGcCd3BwcHB4TMLrTXXX3oKW35pAtmMMPxCS4RSeMpDKs+UyS1I0gWPdEGY5uBK4gUCryDMbx9kgchELpGIIg90XHFK4iG0wHTRC4PjZH8PQBiyEXojQJDsQo7nMXFaDcM5n5WtAxx82Lrcde+heFJw0P63cMFfXub22z4IBwObP4nmIgRbbjmJu+44FKU0Rxx9J83N3Sxd1sdH8zqJ0jRCR2MYQiHsbDWIuNCtISbSEBOtTAbJ7lHbUErgQ1fXCD6gdWCkWEiUFBTCMry2QlbYsDCqiiUEKWXWPaz8m1UCrW2n9FgQZ34XPRYtLgtQRD4ALUxWZtOdprB82RKen3P/x90qDg4OnyI4AuLg4ODg8JnFUw/fSMeKuey14xpoTIUmoZRpSqg1IlDIAkhlWvIJrZGhnxyNp8ELjHk6hSEi+NpkK7SHUKa/RqS6UuZfkRxK2VRKorlhXP7XiL7SSiMD2+hQaAICEAotNA2TKvFSkmXLe1lvo0bue+QIJk2u4rnnFnP33R/aruBhAeCENMmOv966Y7n3rkMpL0vz9W/ewwsvLeXnJz+ODit6JZlAIpgXyETYb3wrWljqIGR8LGHOdtykCoaGCvT05qxcCltpS4In7GcSpMBPJfNAZo200kYOJ0EID6k1WoIQ2sxEi6L5SVYNUBKrG0HZuYuUx7aHrs0lN/3Jdp53cHD4NMMREAcHBweHzyRefvZe7rvlfI45YG0yQkKgQAdIX+ANg1cQpAuSVB5jRMD8lnmMT0LURiV5ZQDCB08JUr5A+CCUQmKM1Wjz4+GZJ/k6GRBrkmV7te0yHv6J1dY9IZU0vEF6KEJjuKBqXAklFWkWLOjmH5e/xcoVA7SuHKS7a4THH2uOfShSR1QkknkBM2aM4e67DqWurpRz//ISL760lA8/6oq9LaF6LOlnibIhprSwkOFciTwr2MpUWpqO6I2TK+jrGaa3O2dJhoU2xML3VEQ8lBf3lhcIpNAQKNIKCAIKniSjDCFUaLyPqXyVxGhfSFQ1y/6eus5YKsdmufmZi/7pfePg4PDfhyMgDg4ODg6fKWituefmv3LX9X/iB1/bhIaaMqQvSOUFXl7g+aYZoQgJiRKIggIFqb4CqYLAZ10GSg5nOLsrmjSeD5mcRiiNp8ALjKcBawuRKpRSJeRZCvNaMarTuhr1Y7IvUqvYKSI9As96MqSgvKGEmsYyjjx6fd6eewI33HIABx+6Nk8/3RLlPQDjaQHrZYllSy+8uJTysjQLF3bj+4qHH51Pe0fcwdxkNWJnRVggOF7TAHM20ZcmhxKmfYQAKZgwrZqR4QKty4fwPUGgAzM/bXImhucJM7YMeZtGBAItZUJIZqRsKW1EWEoHUe+WcJNiH4j5Ikmf4h8Rvd58nzW5+6Gb8X1/lb0dHBw+PXAmdAcHBweHzxQevv1CXn/6Fr59+CZIAbc/Opf6ylK223QyFVUZtIqrRVHQSK2NXaN1CFlRQr5mHD3jvgrClrsN+qjvutJkRTLgZ61PQhgjt0qZ48bVsozcShGY4NrKmZStuGWCfQ0EUeAflZYVmgJQyGhjttaCVFimF8lwxzAD3TmmTK7C9xXLFg8wfXo1xXTBGtrDLIwGreCll5Zy7/0fcv8D85k5s46//HlXyiuz1NSVmKyJsBkOW2lKCRWdUwAoT5gKVAKCcM5FCQkjNZNBwEDXCH1dI0yZWk1WS1K2wzlIhNZ4hUTFLIQxomcVgdAU0pKC1BSEZiQFyBTDmJK8RKRHY8RZ5rUhI5IgMZdkA8MkObnt7Bc48cDfs9EaW/2nt5aDg8P/ERwBcXBwcHD4zKB1xWLO/sUR/OKYLzE0kufS2+ew/qY7oYICr77wOGs0VVKSzVKahmmNNazTVE95iQc5UEsHIFdgWGXo2e4kUhVVZtBghDELL0NkcviVEr/ERN3aM1aLQGi0R9SLL+ypYR/82wpTAJJAKktskn4KZUvbmj4jSgoCoch7pkyv0hoP8Gzb86H2EYZ6ckydXMui5i4mTaoknTJdzQUeUW7ASqtkwhMiMBmiN95sZcONGmlZ0suYhlLKKzL2+KbUrUqWuxVmvABjItc2+xGW7dUiGtk0G8SY/PMDBbrbhpg6uYa0EkiFMeir2GsjQ3ImQEnFcFYTpAyxGPHM2AMpQU6aBQ7PQoki5lNEQKJ+9XabZK0AjeSDZxfR8twAF/z0RtKp9P/0VnNwcPj/CEdAHBwcHBw+MzjvZ/uwwfRSmsbXcNHtb3HECb9n4612AaC/v5c5bzyCr1IMdi1i/pz3+WjuB9SVwbhsKQ2lKWpTHosWjCAnr8fkvfYjncmQTqeoHZrL9OANVHUGlYVcFjAxf1Su1zzgN2kBhUYIjema7ttSu2HfjaQ8ypbDtdmHQGi09GxArskLReCZ7UUAGQRCC1pb+misKUEiWL5sgNqaLLU1pUgpErkQY4CX2mqmkiTEvvCVpnlxN5MmV5PKyGgextYiLLnQEVlSKHzP+urxCAjsuZkmhFKD0LaniVZ0LhmgsixDdWWJyYIEkNKhcd9UvrLdVyikjfG+4JnmhMNZSV4qRlIp8mi08OxxWQ0BMese2DM0BAlC839/7wgrF3YxY6MJaK157Io3mFK6Lj898sxP6M5zcHD4JOEIiIODg4PDZwJLWuZx8W+P4mdHb8rZ177FEd85nfU22f6f7qOUYsnCj2hbPJ+2pQtY+OLz9ObLyedzpKdMQ5SWUigUGG6bRzDQwoyJVcxcq4Ytt5yETNmeFBLbT0RFREPYsrbamrcVgfE/CNs9Q8hEE8TAbqdNBkQI/FRISgQ52xkcIZCBIq2ht3MEkdOMry9HK+hsH2Bw0McTgokTq/BSMqowJaIQPyYhobxMCU2u4LN4aR9Tp9UgPRFJq0yfjrgjvLbzDvuXaGGkUyEpEAnpl2eJklCaJR92MXNaLZ4QkXfGQxI2fTTleiGQCi01AYIgpShITX8GRlKSHKClR6GguOKUZ1ixqI/f3LyfzW4I+1taQZeMe4bY76895UnuPe9Fru35Bam0h58rcNc5L3DEDt9lz20P/ITuQAcHh08Kqf/2BBwcHBwcHP4dPHf/VWy9/nj+cfd7bPWVg/4l+QCQUjJ15iymzpxlPvjaDz52276+Xua9+yJPPHQxLR0fcuR+s0xwr4FAI6Sgq22IP1/6Mqf8fDsyGYlS5qm+FKCVRlneobVCK1sgSgi0ggDNu++2M9CfZ/PtJuF7JotSUhDkUoYsCCEJlCIjBYN+gYLQpCRUVmd59tnF7LHHmrQs6mbChErKSo28yIqjiJRSQFTlSgtee3U5uXyAl/aYMrUKgZlL7FVJwnhaPK0ZGClw3qnPcdzPNqN+bJn5WgiTKQkCUmiEgPqGMjrahxjfUG4IjSe59JLX+fCjDrbYbDLrrjOGWWuPidIyEgiUIEhrShTktSYtJQGKFx5eyM1/eoU9jt0geRVt/kOYedu5m9kaWVbt+EomzhpDfiQglU6RymbY4zubc/XZf6NpwgzWmbHhv7xXHBwc/u/gqmA5ODg4OHwm8NE7L1KWztDZr9nrsBM/8fGrqqrZeOvd+MEpt9LZV879jy80JWQVSO3x2psr2Xqvq7j4H2/wymsrAIHU0vQKQSLwbOUsiUAitYfQMiqBK5Tm5z98hO8edx+FYU3KJ+puXlIwP0JpMlpSWZmhMKIYGfJRwHXXvMP3T3iQJx5fyNSmGlas6GdwKA8SWzQ36YQIe5JogiDgV794ghOOu48lzT2sXDFocyVeXBVLEGUWhDaOdo3mnZdXcNOlb3PgZtfy9AMthG6LfD4P0gT+UkF1TZb+Qd+0TwEQgsXLern51vf5zon3s+9BN/Pe++22QpY5ui/Nb9OX0PhgALbacxp/fPhQTrp0V8JKWcYSrwlQSLyoVLCK2Ra7f2czznn9BEoqS2xVLEFJfSnbHbsep1z6A4ZHhj/x+8XBweF/DkdAHBwcHBw+E9hk+/247amP2HqXgxCjPAKfJDKZDN//+aW8/OZKVrb3mw91wHMvLqKiPMsjtxzOdptNBt/KkbRGBgqUMjQkwPQkAaTWoccbT3r845p9OfFHm5PJGNN5xjfExNOSjBKU50AqhdSCtAJPGGpz1Nc3YK1Z9fzqZ4/T1zfC1KZqVq4cYHDAkIHiPuxxAVsvJbn62v0oK0vz3RPup6W5i472oQT5kLbcrnXVJ6pJbbnDFG564ggqq7N876A7+fFX76d9xQD3XP8BSxZ2I4UksEb96uosvX15Q4W04ve/3ZH5c7/HYw99lb+ctxvrrNOI0IYsBSJAopGByb9IpUwlMNOQhC/t3GSvr2fdKcJmeFKoqA6WMISpKIwRiR9DCieu1cC4Nep45JV7PqG7w8HB4ZOA84A4ODg4OHwm0NfXw0W/+Rrf+s2V1NaN+f9+vL+e/TU2niXZYJ2x5gMBShspVhilKy8svWvrXoX9Dq3J3DT4DvMTdjsZbyts4K3sfiktCbSPDjTNzT1Mn15vehqieefNVvbe/Qb23nctLrpkTwJfsWRRP2PHllJekTVd2Qm7eURHRAnN3A87OWDfmyktTXHh5XswY3Y9VbWlRCVupbT+EW3nayp2IWAk5/O3s1/myj+/Rml5mo23nojWmktv3R+UIVJqxKd96QBTp1QjtSVhhFW5MD1B0BRS0hrRFTkPcimPgl2nPNr0R8Ez1cFsaWJDrkxFAJMLMY0eA8J+714iIzK6PC+0Luji9euaufI3d/x/Ja4ODg7/PlwGxMHBwcHhM4Gqqhp+8Zd7/k/Ix4plC1kwbwGN9WXmKbsCEYDUAmGbEgo8pK+RPhBg5FhBuJ1pZugFpjKUpyGljURLBpAKhNlWG8N2Spl+JWhNCo+UJ2kcW0F76wBSa6SGDTcaz7e+swl33TGXt95YScqTTG2qoq1t0GZCsOQh2ZUdEB5rzR7DdTcfQF9vjh9/7xEWzu9laCBPWEDLnKCOMiGmn7uxt2eyKU46dWtuff6rTJ5ezYK5XTz9YDOPP7jAdupQpNMevgqzKtpWsbLHl8ZrUvDMsXwpCDzTJ0RHhXVNxkILASKw9CE0mYfd2W1lLaGj4wpLTVJ2rsIUCY7OQCMZO72BQdHPewvf/v9+3zg4OPx7cATEwcHBwcEhgaGhAf569nc4cNfpTGioBKUQWjB3fhe33vchF1zxGrfcO4f8cM72uvDwlG3AZ+iDqXNrq2VJLUFLI9HSgrBtSMr2zjBdxKXtAxLWdRIMDhSorCyJQmu05tvf3YSqqixnnfEsAFIKpkytoa3NyrHC8rqE+Q/ABu4bbjSBK67dlxXL+jn5h4+y8KNORkbCjuHCZhpC8mL31cJ6NGBpSx8rlw6wZGEPAGf+7CmGc37kdxfCI1AabX0tpt+IGSuQEiEkWit8z5COkZRx7HtIAm3K/Wqb0TAzMmkUaXM6YU8RtDH5e2hSCKBgOsqj7fzjUsUCiRCCtbaeyj0v3PJJ3yoODg7/QzgC4uDg4ODgkMBt1/yBtaak2XT98SCgs2uIsy9+kfue7mDymnuy/1fPRpauxzkXv86ipT2AQGiFVwBZUIgAvAKIgkYG0pCUgorDYiGjJ/VSCSOdsqkIETYfAQp5je/70XuBQPmKgw6ZzTNPL+bBB+cBgtyIz9SmGpsJyVkSEvcEIey0rjVbbzeFi67Ym4/mdnDqz55iwbwu8gWFHxg7eNLKbqCQNsuw057TeLb5BJ5f8m3ufvkoTv3zl+npyqM8iUJTXZ2mt2/EyqdsLxEp8IVCSSOoKqSEpQwQiADQFISHkik8rAxMmOyGyWwYS7khIHGRL3NeAq3DTI0ilRBqaQJLWEzmZOZmk3jlzRfJ5XOfyD3i4ODwv4PzgDg4ODg4OFgsmPsKfz/vR5z8vS3IZiVdvcOcf9Xb7LHfCWz/lcOLPARvvfYk1176W7bZpIFdt5thGnPbwD8ASDThDoRGeRItbeAtibIi2rO2cQ/iMFuhtOKjDzuZOXMMqZRAa1i4sJOxY8vZavMraWwsZ9/9ZjF77Xp2/soMlNIsaumznpBMzCSibuxxQ8Tbb5vDSd9+kM23mcSvz9qeJx9p4Vs/3tzM3+5npEya0B+uEQQiHlOoAM+ecioQ5EcCetqGmDSx0mROQp+MrX7lS206rQPDKdOPJCfA9zwQmgDPVMWyDRGFnTd2HmF1K0gTEET5ETANFQVpNIZ++KSNhyWcLpKHL36R/b50FHttftD/8i5xcHD438JlQBwcHBwcHCzuuvkC9t6piZKsRCu46tb3+fKuh7LDLkesYmDecJMdOeWcO5jT7HPL/R+itcKwCIkU0kbeHuAZY7aSeL5CFkD44CkZ+SwkGNailH0hEALSmRReCkCjlKJQUDz+WDM77zKN4RGfc85+nsFhn+Fh3/Q8aaqirW2IgYGCLQhlyIzA+FJCcrHfwbM4/dwv89KzSznlh09w7SVvEVWQihqK6KimlPGmi9iVoZUlCpgqXwKyJWmGcr5tcAhaapTVmymhCTwTcoxYr4pAo6Rt6qhFojFiYHIxmkieJoAUkrRxk+DZ12lE1BRR6SCSYiU6o5jx0ay11VQefuG+T+5mcXBw+B/DERAHBwcHBweged47tC1fyKbrTQANT7zQTEnFeHbZ5zsfu09NTT0/OvVGOoequeaOOQRBWCZWMTQ4wvtz23jjnWXk80ZuJPBIkSKtU0gVWE9DWM43TKAYI7jvK1KpmPQIAdmMxwYbNvLqK8tZuKAb31estWY9y1f0WxIimNpUQ0f7EH19+XBPCKmOjoPy3faayd4HrkVn+xBtKwd54almQoZiMh/WGA4mi6JVQp9lJV5CojzwMcQhnRHk/YCwMwnCVKgKDeiBHQsNORHOJUCJsJe7Z2VoktC7orUPOiQmgpS1l8cFdwNSBAh868ORGJGXjweYDiKKies2snh5Cys6l//nN4eDg8MnCtcJ3cHBwcHBAXjwjgvYeaupCAkr2gd4/KVWfn3mzf+ydGtJSSkn/uJyLjv/B1x07WtUVZXQsmyYoeGApqYpSBlw630vs/7aNcyYVoOQAukJampKaRhXRrYsQ7K1ng4UeJJUKpUgNMZwDtA0rYZ7Hzicbx5zL88/t4S6+hJqa0tZtKiXyZNqyGZNx/OlS/oIgoDaWtPF3BCC0FwOLz+/jKGBAsuXml4nTzywkHU3bKSqtsQeMSFh0gohwtK4gBAorWLHiidRgaa8MsvAQIFUnQRt2h36UtoyvIqCxGY5dGTS90OCJIw5PaYW2pIRK8PSynSWt1kQSOHjWzeNogSPAhqlC2SFRwEr5cIz+3iCqZtM4IHXbufYXb//H98fDg4OnxwcAXFwcHBw+MJj5bKFLPjwXb62+zaA4P4nFrL3fkdTP2b8v7V/Op3mhB9dyCN3nEnFmLXZf9ZmjG2cEJGXvr4enn/qH8xvmQOihHyhi87uFaxY2UVlhWDCxDK22nIy02bUGGmC0gRCJY4Q+iEMampKuOGWA/jZjx+juqaEVFoyeUo1Sxb3MK2pBs+TTJ5SxbJl/RTyg4xtjEmIqcwl2HOftdhjnzXp6B7m3js+5MM57fR2jyCkoKK6xHTc0GE+xvrDEUihbedyQWDzJB4a5QlKarJ0LO6nuj4LQpPXge2N4uELz9Qo1oJ8ChDaZD9sH49QamW8GzKSUsWVwUBrQ8iEMG0JPVu7K7AZmzQBI1bcIaIsTkhoFNM2nsgLtz7vCIiDw38ZzoTu4ODg4PCFx5Xnf4+GklZ22W4afQM5/nDRK5x18ZOUlJT8653/F9Ba09a2grnvP8Cdd13P2utUsNdea5BKSQKhWdjczfTpdYTUYcmiXiZMqsDzZFwSirjp3tCQT+uKAaY21eDZjEl72yD5QsCEiZW287myDRJNvkFJ23hQaJRWLFncR3VdKZU1GTO6jg3pSoAOx4ioiTC9SixJWDy/l8lTqkhJY7pHaHwgsFzAF5KcZ5oM+gKUkCgRZj6IzksTdjQXVn4VkjBzXJ3YVkUVvAQF0uZckAySDR02Zl8tueHnD3LJz69nQv3ET/6COjg4/FtwHhAHBwcHhy80urq6ePetN9l200kAvPTmcjbefIf/7+QDzJP8xsYJbL/TcZxx1n309Vdwww3vopQxYWdKUgyP5O1DfI2XFvi+SpAPSBbOLStL09BYwdIlfaFLg4axFWQzKZYu7UfrAMsJQJveGibRYsrtSiGYPLWKvp4cXe3DdlQZtzbUGAO6lT0Zd7ohMQHG41HXWEZrxyC+p9HCdmOX0hIeQUFqG3zEdapil4pGaOMRkVrYHEtgzzLc2hzXmOPDOlkyXCIEPh6CFJCxAi8dyrmEpmmjcTz+5gP/+4vn4ODwP4YjIA4ODg4OX2g8cvdlbLXhWEpL0mitee715Wy/69H/5/MoKyvnpJOuQ1PPpZe9QW9PjqrqLL2RmRxSnodfSAoXRvtTNBUVKcrKU6xcOQBAwVdUVZdQXp5myeI+lIr31VoXVciS1jExaWolhULAgrmdpsyViGmORBpPCDaI0KZvh5LgC0FZZZbW5QMMDgUoAXnbl0QDvjRmepNxkXhCIwmiXiWDvTlu+OOLXHvGizx9x4cAeJZemH8nu4HYClkalPb5w5F3853N/oEKDHkLtLKVs3I2Z2KoStOXJvLsG09+AlfMwcHhfwpHQBwcHBwcvrDo6e7g5afvYsctpgAwd0En1TUNTJk2678yH8/z+MlPbmTd9bbjootepadrGN9X/ObkJzn7jOfxPKz/wiDs06EILeMeGqhvKEOjWbGij68efjtnnP4MtbUl1NaV0tLcQ6GgEJZ8CC0RtkM7yvYiV7Dgg04O3vEm7rxhjsnI2LK+mripYqLdoXktBTkCzvzV0xy47bW881Yr2vNQaHyB7dcRujtCk3k8Rm/HCH//5TNc/pvnuPnPryC0rb6FIs6xJPcz1MQTHuOaath0j5l4nhGMeWi0Nib1ND5h1mT8Gg0sb1vKyh5XDcvB4b8FR0AcHBwcHL6QCIKAy8/9DjttMYmqyiwCeOrl5eyw2xH/1XkJIThg/99xyCE/54Zr36W/L8fzzy/h7bdbQQqCQBVtX+yFCNC2pG3j+Ar8QFNfX8olf3+dp55YTGVFhgkTK1i6uJeBgTxhDxKhTYleI8kyTQRnza5n/KQKTv7eI1x90evkcz7JfuQhaRHIWM6lQXqCo3+4Md2dwxy+402ce/JTDA4V0EJYH4dJg0hh5hsQ9h7RjGuq5P627/JIz0lc+NRhkXtDGDOJzYLE9EWjos7px/xhB47+3Xb2O4XJf4T1xcKZC4SUTN5wAk+++ej/3wvp4ODwsXAExMHBwcHhC4eRkREuPvMYSmUvu2zTBEBrxxBLV/az6Tb7/3cnZ7HN1gcwe/aXeO2V5QwNFSgrT0cFncKsh7ZZBaLXNi9hmwmOn1TFiT/anClTq/n+9+6ntXWAkpIU06bV0NeTZ9mSXpQKwq4diER2paGxghsePJS11x/Lmb98hnN+/Syd7f3GpxFavoUwEiqLUOa0095rctkDB7HTPjP4x59f46s73EgQBMbTETVbN5IqKSTS0gPP86iqK6W0wsPzTHUsE6gEkdRL2PdhbSuhvSj7I5B4SLuXB8I0MAw/CQhQwLQvTeSZNx7/5C+ag4PDvwVHQBwcHBwcvlD46IM3OeOn+1CZ6uSYg9ZD2GpRT72yhO13OYh0Ov1fnmGMtWfvTF9/ns72YaqrswSBRnoiqmJlsh+C0NaNiHqVm6bmUrLGWmM4+9yd6e/Lc8LxD1DwFVIKJk6qoLqmhJaFPQwNFgj7soOyla+grraE6+49mN33X4Nr/v4WP/3mQ8x9r50gUDbzodE2+4E2NCCsVjVz3XpOPG1bLn3wQLbaZRpaCdNKUEikVgilbV8R0/09rmPljVoFGY0bvzcLYEZQKO1Z8mN+PMKO8ljJGEVjjF9rLIuWt9Db3/sJXq1PDktaWhgcHPxvT8PB4f8bHAFxcHBwcPjcw/d9Pnj7RS49+1tc+efvsu8OEzh877VNOVsNLct6eWtOBzvsfsx/e6rFEJpAKQ48ZDZ777cWBT8g5SVIhtnIkhAAZTqNQxTca6HZZoep/OSXW/Pyi0s54/fPRv1AKiqyTG2qpr19kLaV/aBV1JFdIPG0oKwsxQX/2Iuf/HYbXnhyMd89/B6eeKCZocFCXL1Kx26QsFeH50mypR5rbjiWk/4fe+cZHkd1tuH7nJnZrl4sF0nuvWAMxphOwGB6bwktQIDQS+g9IYReEkILEEKH0MEEML0XY2Pj3iWr97J1Zs75fsxKmFBCkQPONzeXQNLuzDm7o+tinn3f533+tB0yuH7zlLdn40tTr4zeqoZHz6tU671WsiOAv0j30FnB8oVBXeIgs9UZ7xlur2dF9O6tdHARS6sW9tml6ivuvORizjrtNE444QTOOvBAWhoafuot+fj0OX4OiI+Pj4/P/ySJRJyPXn+Mzz94juVr6hjUL8ykUSVsNWUQVtDovYOva+rmrw/P5bDf/JFJm+3w027637j/4Uupb3ifww6fABqqVndQPjgXslUbR+jeukXP/8zFFw1Vnj1CZBPWlebk38zi2aeW8pc7dmO//caQsRWmJUFo2lpTtHekGFSei2kZOGSnX4kv2rvee2stZ/z6RTo70vzmzM045NcTWLG4janbDMKwJEp4+SVaeDkfLi5rV7ZTPqwQLXVWHGWN80L0VnG8L5k9rkcofCFHdDZ3RPfUM0SP3BK4mF8kvAM2hnfu7HnTmIhsTcTuTSsRfPLEQqbm7cChOx21Qa6d1poPZ8/m9cceZd2q1YSCAWIFhVSMHMG4Laczfvp0YrHYl4555fHHueqc3xHKyWXCTjsx//XXGRiLctdbb/eGWvr4/C/gCxAfHx8fn/8ptNa89fxdPPvPBxhTGWHiqFJGDy0kHAusF3Ln3agvWNbMg88v5pBjLmbzrWb+pPv+d9LpNCeevA2HHz2WkaOKcFxFzdpOKofko6S3f5Udf4vu+RkQGqm8m3QtDITqCQmUJJMZ9p35CCuXt/L0rEN5/pmlnH/R1lkfiSCZsKmt7aK0LEokJ5gNCASkFz6I8IINz/rNv3jv9Sqmb19BQVGIiZuVcfTJU9G4uAKUNDxDPNDVZdPRlmDA4Pxs2khWPAiyLWO6d7pWTyr6+sJkfbJDexHrhSFqjKz3BVwkrhC9lY40EhczWzMx0ehservF4vdWkVjqct3Rt/f5tdNac/b++zP300+/9XnFeXmMGDmCaXvsSUdjI/fceisIwTX33MPkbbfl0ClTaG5vZ6eZMznrppsIBoN9vlcfn58CX4D4+Pj4+PzPoJTiwb+cQ9XSjzlqj3H06xf10riNL396bDsuL7+3hvcXtHPi2TcxePiEn2bD38ITT13DR3Oe5aTTpyKFoKkxTsAyyCsIobIp5j0VCvDcDzJ7I67QGIrsDb5CaIGhBVoIatd1sPsODxCNWjQ1JlhRfWq2MuF5OFxXU1PThWFJ+vWPeuIjO6VKC89/4miXe2/9lOsve4eBFbl0tKZ4/I1DqBiSjxDZgbnSS03XKFqakyQSDv0rYlkxw3oiQ3j7FN6sKk9YGL0/96Sfe7WPHmFj4IpsI1Y24FAhsLMTthQSB1AEcVHZaEKj9xwOkOjK8Oylr/PoH54hGon26bV74b77uP7SSxk4oD8nX/lHSsoH0dXSytrFi1k+bx4rP/+cqnXVJFJp74CeEpaA35x6GoeccQYAqxYu5Pg998BVmvzCAo4/9zxmHHSQXw3x2egxf+oN+Pj4+Pj49AVaax667SJaq+Zyxi+nEIgYPfenaOXd3Sngk89ref7N1QweMZHzr7qd/IKSn3jnX+XzRR/y9LMPccIpU5BSYGdcursyDB5WgF5PfAC9N/M9okQCCIkrQKpsS5PU2ArcjMP998wjJzdIQ103qZRDXX2csv5eK5AADENQUZFHW3uS1Svb6T8wl2BEZjM8vPBCKQXDRhVRXpnH6hVtADxy9wIOPnoCZQPzCIZ7AgI9MVJcHKWzM0n18nZKB+YQiplobaBQCKHR2s3uXCGF59pwdda1Ib5IQde9tQ2yA3mz+8mKHonh5aQIicLyKkTrjw5GonFRCEI5QQZt0o+n3nmUX83oW+/P6sWLALjs7/cxbORI75fDYdIWW/Q+R2tN9apVfDp7Ni2NjRSWljJ++nRGTPhCDA8dN457Xn2NP/32tyxesoSrzz2XmjWr+fW55/Xpfn18/tv4FRAfHx8fn/8JPnlnFrMe+CNnH745gYj5xQ261lTVdbJ4VSvvflZLSf8h7HXI6YwYu/lPu+FvYP7nr3HDLeew217DmD59EGioruqguDhCMGJ5PgkhUGjPm5G9v+4Zy7ueNvG+155HBClBu+iM4uF7F3DDVe/R3pbirr/vyfY7DyUUXN/M7TUtOa5iXU0XwbBBcb+It64EhKBqbTtrVrazekU7a1a00ljXzR/+sisdbXGCEZPi0hyk9CSDI7z4QdtxaahLYJiS4gERkFkRkX3cm961fjWE7NBfzxmv8F6k5x/paeby5l45CFwhsx4RSRrT84cgcbPtaj2lBgeBIEBzTStv3PohT135Up9WFV5++CGuPv8Czv7jlcw87Jd9cs7lixZx9qGH0tXZyd9nz6Zi2LA+Oa+Pz0+BL0B8fHx8fDZ64t1dXH7SLpyw3zgqy/M987Hj8PL7a3lnbi0FBYWMGD2OrWYez6CK4T/1dr+RD+c8y+13/p6Zuw9my63KEULQ2ZEm3p2h34AclOwxafNFC5PAEwXZ73u8E180VYHRMyoXQGuEC12tSa678l223aGSUaOKGTAoh1DQyprYs7cG2XvylpY4HV0ZyspjmAEDLSRK9Hg1vpgv1XND0dmRoaUpTklZlFhOqDcM0M36yjs70jQ3JSgdlEsoYqB6jPM9GScCEAaeEBJZ34eB1g6i1+fhmdaz8goFJDDQ8gsDeoIgYH7R1oXIntHAyf73xT+9yVn7XMSU0X0nSDs7OjhkyiZMGDOSq597qc/O+8Sdd3DrH6/iwhtv4Bf77tdn5/Xx+W/jt2D5+Pj4+Gz0PP23C9l0ZBGVg/IAaGlPcsvDnzJ87Gacd/WfKek3cIOt3dXVwbPP/oF1tavIKShizOitmDR2dwoLi7/Xed5693EeePhaZu4xhGlbDkIIzxTe0pSgfEj+F+Lj3z+oXy+IEMi2LGUrItmHHQFCKcyexw1BXlGU31+/EyiJ42RYt7aLoUMLkKJnhpaB1l7SeFFRDuGoTc3aDvKKwuQVhrPryvVW8aL+EILc/DDhHJPmugTtrUlKB8QIWAZSg6slublBwlGL2qpuIjkWBSURtNRobUBPG5n2WuaEAEPo3swRhMbUCidrJ+993QhCaNLKQEkvcV0istGDAjc7/rfHCwJea9eQrQbyz3ce7lMBkpuXx6RRQ1m6fCnLPvmAkZtN65PzOrYDQCgS6ZPz+fj8VPg5ID4+Pj4+GzWNtWuYO+cT9th2KOD11j/31gqmbbU9R59xywYVH/PnzeLC83YlEV/ClM2jFJa18+GnD3D+FTP57e+mc8MdR7F05Yffeg7XdXng4d/z8KPXsuvuw9h86gCkFMS7MtTXdtO/MveLjwu/lHr+RcUD1quGZH/uieLrbWMyDOze8EKNayiv0iAVZtCisF+YdTWdXySr4/aOt9W4hEKSoUPzcdIOa1e34mR0NnxQZ9um3N4Edo2LYUj6D8qlqDRGdVUXDQ1JtBJeKrmGgGFSOTQPiaZ6ZRvK7mmW6pEOTu9NiiAbXojXUgZewrmlPYN99oUg0IRQmMrB1qJXHumsD0Ssd8aeyknllArmzJ+DUj3vXN9w8k1/JWQJ/nTSUbQ01PbJOQ3pmewHDPv5VvF8fL4LfgXEx8fHx2ej5oX7/8j2m/YnHPESzB1H8dnSJq459+INtqbrujzxj7P58JP3OfyQcVSMyKcdhyEByebbDEKjaWlLsXJJC9f9+SR+efBZbL/loV85T3d3F9ffdDTCaGGf/UcxYlQRlmXQ1pakoyPNwKF5SOOLvAxYbzxtz3036z2WLUb09lYLsubs7G+kJKMVAZV1QxgaV4HUmty8II6jqaruoqI8pzddpKe+4Z3PoKQsSk7aobaqg2hegMKSMF7lI7tgb3Cg57uwwgYVw/Ppak+zcmUrBUVhCgujaO3iAkXFEaI5AWpXt5NTEKSgJIzSjrduNjVdZ80tPQb1nuZxIcDS3rhfVwmUl6CIRBJBkdAOWoTQWQnSUw1R4AUgIgmEDPKL81hbs4Yh5UN/+B/FvzFwxCgOPHBfLr/tXjYbN4ppk4YRKwijgyaTNp3M4cdcRH5+6fc655Sdd4arrybZ3d1n+/Tx+SnwPSA+Pj4+Phst9etWcd25B3PFb7ciGPI+U6tpjnPvc0u59C+vbZA1m+truOvKo4nkS/Y7bCyyEOYsrOefDy/CMCSDh+fTvyKHskG5jBhTRHtrkrtvmcMZJ97KuNFfTEGqq6vmmhuOZvS4MGPGFlMxOB/TlDS3JEkkMvQblIOUAqU1994+l18ePZFQxETR45HwzvPvYqTndwpI2y7zPqqjfGg+/QfEvmh7UGBpmRUmnjldKK+G0NqSIN5lU5AX4pF/LODYkzbDkF71QKFxpcqa4BUtbSk62tKUDIgQiQXxbu5dHrzjMzrbUxx56hRvIADehCpbO7Q1JUh0OhSXhonkBelxrGjtsnZFGxf95mUOPXkyO+03EmmYvZOvlND0hBGSzfpQ2RG9CMXNZ73BioXNbD5zBPueObXnZdJKFITlmeGz0khmJ3C5wB2/fJiCgXkcs+fxHLDtwX36t6K15oSD9+Lufz6Pu97dVjRisc8+47jrb+8RDoe/1zkbqqspHTTIH8Xrs1Hjt2D5+Pj4+Gy0vPXUX9l+k0EEA2Zv71Fnd5pYbMP0yCeTCa45+2SGbHEYBx5/O2b+SOwAvPdWNb877Tb+euO77LL92cTMTfj47QZuvvI9VixpYftdh3LjX0/iuZdu57W3HuCFl/7K5X88hK13KGb02JJe8dHUkiSeylBSkQuWl7lx6e9e48oL32TWM8u+LD56MkDWywLpoUeUNDfEOWnfp3ju4UU4ki9asCTYsicqMHsOKdFCUlAUpqAoyt9un8OVl73FLde9jxYaFwclXU/3aK+EUlQUZdDgHNpbk9RUdWI7NgBzP6jllt+/x55T7mPW40uzk7BcMARFZTn0H5ZLa1ea6jWd2OlsTUcIujsc6td1cd7hszhg03/wyj8XoZXXSCZ7Ywiz9RXtYmh67OvkFIaoW9PBs7d9Qlt9NwIDF5nNJfFyQaTngskKNK9t69j7DmHS7mP4rGZOn/+9CCG447Hn6OjqZtbzz/Log/fwwgvP84crfwuGyydzn/ve5+xXXu6LD5+NHr8C4uPj4+Oz0fKXCw9h2zEBxo3yWlm0IfhgQS1L1imOvfDhPl/vmZuuYlVzC4f89kwQ4Bj/wmYBv7/obf5224cYhvGl569cvYCHnr6E6qp1bLltOXU1XQRMA0MIJkwsxTANyitysSxJdVUHCz9vxIxY1K7rJBKxmLrlIG78w7vkF4W44A/boaXoFR1fYj3vRw89YmXpomZKB+cRybFACAxHE+g9gUa6ZG/LvzjQ0JJMJsMJv3qe119ZzfV/3YX9DhmX9YQYWX9Idg0JWgqSiQx1td3EcoIUlYZ5a/Zarjn/TVYtaWX8ZmWcedU2bLpNJWjXW0ZAOuXQUusFLBb1j2BIScZxefGhJdz+x/epq+pi8KhCDjt5E/Y+cjxWwMj6XnrcHd6/3d7pWQLbVpgBkwQBEtLAEQE0GocQKZ2tpnwpG0RQNb+GjvfSXH/in3/kX8h348M5r3DTn8/i0MN+zV4zTv+vrOnj83PCr4D4+Pj4+Gy0NLe1U1wc7TVgI6FyQC5LV6xh5dLP+LGfsSmlWDz3dd587i7efuF2lra1UT5pC9BpFC+g+ZxXX1zJmDHDviI+AIYNmcDFZzzF6SfewJz3migtjbLfwWP4xcyhGAFJcf8IMiSZO6+Bv978KS3NQcgMYYctTmTIoB34x98+Y5f9RvK7P2yLMv5NfKxXCfk6en49YlwxsRwLLbz6gW0KbNGbuoEyJLbsGaQrQIIjFUbA5K/37cmkKWWce+orvD57FeuLj55bCIFEKEkoYjF4eCGmJVmzooOJm5Xx5IeHc8ktO1Nb1cmvd36c0w98itXL2tDC82EEwwEGDMvHzLeoWt1Fc2sKEbDY+8iJPPv5rzn/ph3RrubmC97m84/rPTM6xno3L953UgsMJIY2sAIGAgjgENBu1tAusMhgZqWHxMy2cHmvOZwXormt6Qf/nXxfHn35FmwDpk3Z97+2po/Pzwm/AuLj4+Pjs1GitebUw6ZxzenTsUwDrTUffF5PfXM3pcVRXvtwLfGky7ixo5n5q8spG1D5vc5ftWoJd1x1HLGQYGD/IrSTptOOMnP7LcmtqOathTW8804V/foN5sTj/kx+/rcnqnd3d3Ly2TtyxG8mYEhBLBZgzdp2Vi5tZ8GnTZx1+pVsMn7XLx3T2dnOLXf/ho54Hb86fpNeo/3XsX4FpMeorgXYAAZkwAsjRGBoBVoTdNf7JFIJrGxeiEJ5c6KUpqMlwYG7PErtui6uvW0GYyaW4tqa4aMLcYSmuz1DJuOgDYm0JIGghREQtLUkSXTb5BYEEAGD+26ewz9u/gQ77bLvMRM5/uKtyC0NgRC0t6TILQzQ0pwk1W7TrzxKIGARQGOnbT5+p4YJm/YjtyDUm/ze8zpd8NzoeC/UxSWTnRYFki4CpGQYF4VLAK0lKUBgZUWYS7I9yb+ufpPn/vTyt/9R9AELVs7j/D8dxcTJI/njbx/b4Ov5+Pwc8SsgPj4+Pj4bJSuXzKG40MKyTJCCl95dwxufNrOsViOjg7jw+G353dHT6J8b55rzDmTZok++87lXff4eN192BPtsN5izj9yCGUfeyP777cFx+1VQVlbDoppWPni3ntNPvpfzf/fIfxQfACvWfEA4aoKEQZV5xPKDvPnKGuId+dx49fNfER8Aubn5XHj6o4wdOY17bplDd2fmP67TO343OwHLlWALCVLionGEICkFjjRIGgIlvJoAUmIbGlt4PgstFK6hiZVEuO+ZAykujXDBabO5/aaPuf+uz1i7toM1KzvIOC6hWIBgSIJSdHUkWLe6HdOUDBySg6uhpTHBIcdP5OnPjmKvI8bx5N/ms8/Yv3HvNR+RTLtcceyLONIgr18OhYNzqK2J09SUICU0Imgx7ReVxOM2tdVduG5P61VPqofITrTKTspCEFKCnlFZDj2CTKC15wfpMbP31IGC0RAq3rdjeL8OrTXXP3k5aWFx4K5nbPD1fHx+rvgCxMfHx8dno2TF528xekhR79jZOUsbOfL0WyifuDd1agotpaeghp/FtltswVH7jOfeG8/ozXrQWjP7gRu46JfTOWmvidxy1r50d7YDEO9q587rzuLI3cYwetIONA84HWm3IEngBATJAkHIMlGOoKxsyHfe7zOz7mD8piX0r8zDMaCquouuuM1ZJ91JcVH/bzxOCMHRB13L9Km7cvdNn9DZllpvFu+XWf9XLqAMz1zuCo0SAldIlNAIYXh+CQG21Di9sYWgpCQt1/NJSElpZZR7n92fcNTig7eqeeu11ZSWxxg8vJDC0iiRnACx3CAFRVFK+8cYPDwflKB6dQfBkEXlsDyCQYtMyuHEy6bz4IeHM35af26/+B0OHnc3776wimf+Nh+QmMEA/YYXISyLqlVddNsKJUxKyvOI5AVZt6qDTNobDqzXixsU2gsrFNns9IBSpBEEhCBEAqUhnZ2EJVm/XU5gWd6ELsdxvvP1/CHM+ugFFiztwqioYPLQLTfoWj4+P2d8AeLj4+Pjs1HS3tFEXmEIx4TuVIa2bpvyISNJ2worEPBacKRJZ/FujBlaRF5UsuhTbzTvE9efzccvPcZR++3KFZdcTGk4yaM3ngnAU3dezORhhYwaWEJ3wc6AIJx8G3DpyjsWRx/K4CGFDBsS5Z67zvxOPpPm5jpWra5i7KRSDFPS3Z0hFDNxbEUwGPxOr/fgPS9h+6335JF7FuDY6ksi5Es7yAZ3SAGu/iLJw+GLoEIXL4TQExsS2zRISZWdDqV7p2Q5Wa9IImHzjzs/o6k+zrq1nVSt7mDx/CaQar06gjcWVwFSGBSWBCkfkkdXe4q6td2EwiblwwsIBCyskMEV9+/OtU/tS05+CIC/nvMGNVVtOMIztYdLQuRX5tNQ001zV5KUkETzQpQNzmXd2g5s2/liv9mQQQOJ1IaXoi4EEa2QykEiCeJiZl0fii+Ehsju24xK4vH4d7oWP4RMJsPvn7gfbYU4aqdfb7B1fHw2BnwB4uPj4+OzUSKFxBEaNyiYv66F4WNHIIRAa01bWxutra3E43EyKoKWkoqyXBrWfEbdqkV89M5sjtl0MHLITnTkb8KM7bdkwfy5rFq2hPmffsDEAQUs6NqM6to61tWsozk9DMcsAJkLsj9aHcgBe45hXdV8Pvlo1rfus6W1nt/fcChjJhVSOjAGAmxbYVmSgqIQy1d99J1f8wF7XEBpwSCevn8hrvNFy5DQIDU4aZdZDyzi2Xs/R7saqb8QJ6o3jk+iEJ43REgyQtItwTFM4obwPBUYICSuhIxUBCMWF1yzHa8uPpbzr9mezbcZxKwnl6EQaCF7W5x6RgSrrMAxDYP+g2IU9wtTX91JU103sTyLihH5JDsyvPnUMpTWDBiaTyBkcuNJs9FaZKdWSYygRdHwQjq6XOrruklIEAGTfpW5VK/uJJ3S2cG8ngfE+8n15IXwpEUIG1sbKEHWji56c9F7BIxEEovG6Ix3fOdr8X357aN30p0wMXPyOXDzr7bbfRNaa2qrq7n78ss5dc89OWa7bXFdd4Pt08fnv4FvQvfx8fHx2Sh5419/Z/lnj3HY/uO588G5TN/pNLbYag/q6+v585//TDwex7Ztkokuth3ahXSSDJ5yAG0rPmfRp++ztqYDq3IybjiPPLeOmGqioT1Ffo5FOq4Jlk1G55WCytBZ/SZ7zxjK2G3PQos8LLsOKZ5j9tsrsfUIfnnkn752j1pr/nDD/hQNcBg9sYRBlXlorVlX1cm61R3EYhZvvlTFzX985ztnO9i2zQ1//SW2buWgYyZ6v1RgALMeXkLGLiGRylA2JMXU3YfgSkhLAyVFNk1Ds55FIns7rjABS3ntS4arsbSXRK5RaCERSmEp72cEpBIOgbDpeTCy6eJK6KyJ3QVhQHYKlc5WRjo6bZqbuynoFyEnL0rcztBQm0SYBvkDokjLBCGyMsLI7kyBFiRbE8Rb45QOyiHHkmC71KxpJ78kRG5+CK17XCCghEQJTw2lhMSVgm6CtBOjp1ri9E7B0ljAKze8wfl7XcaEEZN+4F/kN7NwzRr2u+R8hKm5+7xL2Grk2G99fiKRYOHChcyZM4fP58+necF8CpJJBubksLi5hYPPOIO9fu1XUXw2XsyfegM+Pj4+Pj4/hHAkhu16VYCqmk6OmbAtAGVlZVx55ZW9z0un09x01h44iW5SzssEExnIKLaYuilHX/0QAE/++UzqVnay9YSBPPveKi66/V8UFH5hLG+sr+aaiw+mofUKfrH1EMI5ARrb4nz4QQ2/OfnUb9xj1boVNNTXsvUu4ygsiYCAzrY08a4MAytzUY7GMDX3PnQ+Rx5y5deO8v13LMvid6c8wu8u2JHP36lh0pYDkQrS3TYLPmvhuqsfpjvewRVXH8i0XQejhUCjEBhkZ0YBRnZwlMw+5gmIlNRYWuAaoLWBob0qCmi0hIxQSOVNygpGTLQwcHARWqCFdzvvZtcQKBAS1SN0hCQ3zyKcl09zXYLO1lYKB+UwcEge8USGhtXtWNEguSURZDAAeAZyhYkhNMGiKDIaoG5tK86ACLFIgP4j8qlb1Y7WgtyCcLYSor05XlqC0IiskIlhk8TFxcRGobI+EAMDhYMMGbSmWv7j+/9DOPGuf4BjsNvOM75WfCilWLlsKbPuvJNFixbjDhzI0GHDGDVqFL85/niW3HQj6bY2AAKGwSN33MGeRx/tBxL6bLT4AsTHx8fHZ6MkmUoTjlheMJ3mG2/eg8EgMw+/kBfuuIDVy1bSr2wooYBB1eo1vc/Z84SrufO8PXl9XjUH/PKYL4kPgNKyci65fhbPPHgFl9/0FsGQgRYWu+/1K0aN3e4b9zjv8+cpLo2AhlDYBA1z3q/hjZdWk5sXZPf9R/GL3Ybz8Tsfcv7vZ7L3br9lwugdyM3N+9bXLqXk3LMe4Mo/Hc78OY2k0w7NTTbbb+8dm5ubRywWoWVVJ4Uj8wgoTUaAFN6n/lJ7PhAhjGwbkldpMIXAxUIJF60UhpBoLQhqL4EDoXAM7whDgRCeAFTCa2cytJcTIoRE66w/RNKbnq4FWMKkdGCUeNKhYW0XOYUBosURykcU0p1I01jThZAGef2jWSHiGccFAjMUoHB4MY2rWnGKBXl5QfoPLaRuXRfpTJySspi3phZI4SkfU2dIawNHGHjWeoVXL5K9gslEYCiTiBH71vf9h/Dmp/NpWrqKYG4efzzwoN7ft7W18foTT/DByy/x+WfziUrJwNwcdthvP6YfehiW5Y1c1loz+pBD+Oy227Bdl/ZUiobGRmpWr2bQ0KF9vl8fn/8GfguWj4+Pj89GyfNP3cCS+S+wanU74VCAi66aRUFBwdc+13VdLv3lVowqCvPW4kZKoxYdiQw3vDiPQCDwvdZVStHZ2Ulubi5SfrOVUinFSWdty3Y796d4YAytIRg2+ed9yzj+iOvI2C1cc+M5TN5iACNGFdDUkKB6VQcNdd1IaZKXl0ssFiMWiVFU2J/+ZSMZUrEZgyvHYZre54edna2srVpCJJJPRfmI3ptWgAcf/gPK/JTJuw3GlRA3pRdGKMCrT2gQEoTRa+SW2s1WQzxXh6UFplYIFFJpDO1N0PIqKQZKu5g62/iUnUamNZj0+EIAoQAJWmWViJFt0ZK4WtHUkCCVdCmuzENZEiVMkimHhrpuQrEIef2iOOt5N0ChlaazqpVgWFJYEsFA0bSuk7BlUlgSzq4scVE4wkQJSGHQKnJwCOBgsr6LwkTz6s1vc9auF7Dp6E2/19/Df2L7k66kqW4Vvz3iIKYPKmLeggUsXLiQeDzOiOHD6XzmGQbk5BC2vGsayM1l7FFHUzR6NEIIlOvy4mmnMr+6mhWtbYweM4ajL76YCVOn9uk+fXz+m/gVEB8fHx+fjRLlOnw4p5Z/PreEU4/d/FufaxgGv736Qa4/aT8qCkJsXlHE60vqaGlupP+AQd9rXSkl+fn5//F5z79yI8KwGTQ8HytgYhqCBXMbsMwgY0dthhCCKy+p4B+PXsDTjyxh5Ngixm1SyvQdKijID+G6mkR3hnjcpqNtOfOXfsbLr91LS2OS4cMrOfSgixlSOZkJ46d/7fojR23Cv2a/zmYKEBDQGkcrlASERGRTzbVWIAJo3N4bfSE0Uhso4ZAWgJaYUmFgYSg7KwQ0CIEtDMDBzFY/kHjr4NUZvCYhhRYia/x2vSoMXkWmpCxGMulSt6qVwrIcrHyDUNBg0JAi1ixvJa804gmlbCVEIzClILeykI7adhrr4pT0j1E0KJ91K9oJRGxi0UCvqOppMQugMLUGYZNGZHfXMwULbK3Qom/H8H48Zy4DU3WUhDJ8+txjNJWXM3LkSA499FD69/dGL2f23JPFDz5I82fzvJ87O3ES3jSu+vp6Hr3+OuZ/vpCZBx3EpaeeSlHJf86c8fH5ueMLEB8fHx+fjZL8gkHUN8YpyAsRtIz/2A8/oHIYp1/7d+6/7ESenltFRf9SyvoP3CB7SyaTPProYxz+m1Fkki5l/XNorO/mtVmrOe+MO3v3OnTwWC4792m6u7t49qXreOnZ55g4uR9FpRFy84JIIZBS0H9AjGWLm5m+bTnjJpSw4NNGrr7uOE4/5feMHjnza/cwbPCWrF15Kc//YyF7HjUOoTRSQEALMlp5xY9stUNpGy1MtOiRC5IMihAGLiCFwsYkjSYkTaRWoHtcFC4IQQavemIiSCQzSNPEDIClvYqJ2zOwV3jtXG5WiBgIQmHJoGEFrFvVwRu3z2XGsZsQK84jt8CiZnUbJRVFCJPsChIbF0MI8gcUEm/ooH5dnGDMoqgil5o17ZQPsQgZnpCyEKQ1pGSAEBm6CGadL1+kvmdSNkEjiKfOfhwdra08c++9fLxkCa5lsddhRzE836CoqIg1zzzN2vfn8uhCGDMhn0wqw45b5zD2iCN4+5wF6Ox0q0/vv59lDz1EmxVgu2nTuPSuvxEOh3/03nx8fi74AsTHx8fHZ6MkGstl62nlXHH2tsx6dcV3OqZ8zGQuePQDtNYb1MD7xLM3UDk0SH5BiFDYorG2m/tu/4xjjvgdY0dt9pXnx2I5HLb/5WwybjdmvXIrH769gva2OMGQQThsolzN7Td7Se6jxhZzyplbcMCh47npz5dw3tnlDK4c/5VzFhQU0t6eYdmiZqSGoAJHeF6QoBDYWuNqjZSeN8LRTrYdS6CR3HnWq3S2JvndvXshAUtIFN7x3sQpiVQuJmAiUMJrw+ruznDC9o8wdGwxl927K7YUuFpgZd0XWni9Wq6QSCFxlQsCTCFJJ21uu/Bt7rrsXabsNJidjprE+B2G0Li6lfzKfMyAl5misnGDUjiE++XQsLKFs6c+wKY7D+boq3agti7N4PJItgnLQ6MxhSCoPTHVI74eOeWfKFczcHx/0k76R133t196ievPOouyYIBfXXsdQ0aPZl2nQXGOwkTz6LxOnpj1MDmxJ3n7pLeBMC+93MSuu5Syw823kE4mueesM5k7dx77HvNrfnXa6YRCoR+1Jx+fnyO+APHx8fHx2SiJxIrIiQWYsukAXnlnNalUEsj/TsduSPGRSiV5YdbjnPS7zejqSNNYH+fxB5ZwwnEXstXU/b712LGjt2Ds6C0Az7fS2dlJR2cTtp1kq2kvcM899zJvTg2nnzCLR545iP32H8O11x/LBec+xMCBXzYkCyHYdeZOBCNrsRwvlxELpKtJmmBqL/BPaYUUXkOSl4fuJWO0NXTz6Sur0QJsDFwMjGwdw0V6mSKGgatdMggM7WIhCMeCTN99OH//4/uEohbn3LoT2pCkdLZ9CkFGuDjCIqgVUho42Zasyon9+Mtbv2T2gwt59bElfPjiKkKxAFvsNZIdfz2FEVtWsubzRoZPHYSBIIXEFIKSocVM2mEIL9z+KWXDCtn+4AnUtWcoyre8cEIhCGjICJcgii4cwEQB+163L25a8fZd76JMxQ9l8eLFPPLMM/z2wgspsCwGZj0c5bmKuhZYvaaG52f/jeKiXK644goAlNJ0xV201ixctIjnn3+efiNHcd/f7qa4tPQH78XH5+eOL0B8fHx8fDZKygaMpKklgZZQWhplxZK3KCs7+KfeFu+8/whlAyOEwxYtTQnee7OaA/Y94j+Kj3/HMAwKCgp6jfUjhk/ilwefz0uz7+T6G64hGrXIzw2x34xp/OlP13DhhZdRVlb2pXPM3PlEfv+nI9hsy4EEcyxMB2wTQq4mbYClIC1BaImBRmkN2YrITkdMIKcojAKEMNFakUFgY2AKjeoZaSsMLEBpQVpLLG1z1OVbE49nePLWuWy6yxB22HcUjhReErsCVxggNEkNhvJyO8i6NcZtVcGo6QM55qZd+OzF5bx433zef3IJHzy9lL3P3pJ5r6zm1IcPpl9lIQqDDJqgFBx32140VLVzz7mvMWyTMvpV5hKOBIgFPd+JQKN1kA4RwdSQQqIRWEETO50gXZdm2ogtf9A17+jo4LbbbuPgQw5hxPDhnvskK3KFgP7F0L9oELNnv0IwGCQY9Co5NbVJ1q5ZxJ13PksymeS3v/0to0eP/kF78PHZmPCnYPn4+Pj4bJRorTn1hOmceeIUauu7eeO9di684umfelucfeEubDY9l0g0QO26LpYuSHHDn17q06rL787fnj32HUpRcZii4BF8PKeBV199lXPPPZcBAwZ86bn33H8KidQqdj9gFEpC2gAlwJYCR+J9eYYQNAYuCld4E7N62rEUGi28FHWtde+EKyE0hvYeVwgMrTEEaO0Q0DZvPbeaTbYbRDgvhpn1bQAkkQSzw3/jBDG1wsQhIYKY2vOUKCRSK4LCpmphA9cd9xJLPqzBCppsedAETrzPG2nrSReNhU2iPcFZk28n2Znhlo+PwbEVA4fmIQyBwMARkhaigCSjJS4hFIolry4lv66Ay4+4/Addj9tuu80b9zzz6/04X4dSmj/e8BoL5r3D+ecezi47bfmtU9V8fP6X8P/SfXx8fHw2SoQQ7PiLmcx6dQVjRxfT0lJH9dqFP+meamrXUFdbz+ixxaA1C+Y28usjLu1T8dHSUkdnRzeDBuWQnxdCy2I233xzZsyYwe9//3s++eSTLz3/kP2vYtGCdhrWdYGGQHYarqU1UnujdU0NhgayE6MMBIZWSO30jr+VSDzDuZfngZBeBUKAFiYCA1cYpBCkhUmHEWHi3pNw8ovoFEHiMkgSgxQSR5jECdFEHkkipEWABllAN1HSIkATMWwsOkSURvIoHVbCdoeOJ7cogp1yeO+R+ayeW4NeL9E8g0U4P8p5zxxGsjvDNYc/TW5pmMZ1XYBEC4WBIkIK8PZuo3CAzqYuBg8a/IOux7p161i4cCE77rjj1z6utUYpxfqf92qtufefS5g3/wMe/scVzJyxVa/4UEox+4PPueRvT3L2nY/yp0ef47U583Bd92vP7+OzMeILEB8fHx+fjZbd9j6Xlau6qK7tZOvpFcx67safdD8vvXY7YyeUkEm5NNbHiYYLmDBuqz47f2dnGzfdcgzb7VBJMGhmgza87I9NN92UY445hvvvv58HH3wQpTw/QyQS45BDfsPD/1hIJuEglGdIR3stWIaGgFagXMR6yecim51u4iK0S3YxwMCLHXSzY3U9Z4gjVDZjxECJABqz92eNQYogaWHRIcIoLUhikREmaSQdRFDaq7Z06hCuDtOqc0jrAK4OsFr1o2KzCn552fZsdfB4Kib049U7P6KtoQPvVsbzqNhYDJ44gGNu3pXF763jn9d8SDASoKG6HVd7O1ZZEeQNBQaBRaxfAfWNjd/7emitue+++9hxxx1726r+/fG1r7zMG2eeQeuSJV71SMPrH7Uy61/P8Ncbz2DgQM/rkUwmefGVV5l5xIVcfsvjzH5zLivmfkLVh29y6/0PMPW3p3L6w4/Q2tnxvffp4/Nzw2/B8vHx8fHZqHn/nSd45V9/5pgjNuGq69/l0j88Q0nJgP98YB/T3t7Mab/blSN/M55U0mXux7WMGbE7++115g8+p+M4rFj6IYsWvcSy5fNYXVXH9K0HsdOMISAFQoFwT6NHhAAkEgkeeughAE499VTy8rxU9bvvP5W6hoUc8uuJaNNrv3Kl147lSnAFOMLEzU7KEpggNKonL0QYZBBoIbPpGgAWDjo7VldnBYlCZ1u3erABL+5PgTayVYueJHIDnR2Mq7RBhgAqK4LSBAlo2yvZCE1YZ4ikWmlr6KRgcCEt1d2E88KE86PelCuE51LRDjcf8ijvPb6Qy2YdxojNB5JJOuQMLCKNgY1JSgexkSgsGpbUU/3yGu47/Z7vdX3eeustZs2axcknn4xhGF95PNnUxLuXXQpKIS2L7W+8iYRtcNZVT7PTFpWcesxufDx/JU8++wqt1XPJyclhTWuA6tYkQ8eNZViZJBJvYu3q1UgpWQkMdl36DSpDjguxz8SZbDJ8kw06VMHHZ0PgCxAfHx8fn40arTXnnLEdhx4wiqp1HXz0SRM7zjicSCSXYCgH23bIpFsJBqIMHjaFfv0qN8geLrtyT0KRNHvsM5Kami4++WAd06Yczk47Hv29z5dKdPHUnefw/txPKO0XoXxYPkOG51M+JJ9QzPT8FwpQM0BMoCfurwelFLNnz2bOnDmceuqpDB8+HNd1+cPVh1A+1GHbXYfgmuAIT4Ao4QkQW4psOjpkhMDOhgeK7EBbLQQuwpuCJYxsTcSLHHR7qwoOGlBaemnjome+licyUjoASAQONgE0XhJ9WkOGIGlloAgBLlpDmjACm6hIkSZEoehCtTdhd3RTNDifptXtRPvlEooFIJvKHhYOyc5uzpl8G4mOFLd8ejzJRIZgJEC4vIwUJkkdzoof6KxtZ+7fP+WJix79zteotbWViy++mOOOO45+/fp97XO6amuZe/NNOKkUg/bYn+G/2JbXVin+cu11vPHoVZx17eN88M47mFm3TTCnjH1mbslxh2xPTiz2pev51icfc9msBzFaWikwJLLDwVUpBvcbzN577M3WW2/je0h8Nhp8AeLj4+Pjs9Hz+ux/8PH793HsUZOZN7+BVWvaSaZsbEdhmRLDlGTSLqtWtzFq9Gh22vl4Ro6Z3mefHL/y6p089cxdnHDy5rR3pigoDPPKiyspK5nIYQdd873OVbdmObdedAQjh+ez1fQKckrDBAosbEOjDE94GBocRqDkntn5uuuRNYkDLFq0iCeeeIJ9992XGTNm0N7eyKVXHsr2M0oZP7U/ruEJD1dm790FZITEEbo3fdwWBiobGqgFKIxsfJ8mLSxMYYL2mptcDC/QENcLSvdiDD3RIkxMbffmbyQJ4GLiIHGRKC3JYBF3LFwZAwQZrXF0wLtOWmEKjaMFMZEk2lFFqitJcWUe9StbyS8vJBDsCRlUBLGpnlfDhdPvoHxsCTOOm4zrwlYn7pj1jBg4WCgEnY1dzL19Dv+87LsJENu2Oevww5m6665suemmhAoLSTY3k2xupnD0aKRhoLXCTWdAa4xgEITgvYYIT74/F6NpBUPKSnju6VlEIvmcddz+7Lb9pO+U+bGsejULqpfTXl3Hys+WUF29DoDc3Bx22H47dtp5F/Lz87/jX5uPz0+DL0B8fHx8fDZ6XNfl0gt2p6RIU1GRRyrlELAMCgpCFBaGCYdNOjsztDQnaO9KM29BA64r2Xe/k9hyq4N+lBCpq1vJxZcdwr77jyQ3P0j54DyUo3n2qaUUFozliMOu/87nalyznOtPPZBpE/uzuKmTtpRDt3C44OytCOcHEIB0BK4xENs46MviI/u/cw3U33kjsS22IdnYhJi0KQ88+BCVgwdz3HHH0dpWx++vPpRxmxSx027DUCGJkxUgjvD+q4XAEaLXw+HiZt8j4SWBZKsf3pdCE0QLjUCitNMbOOgN99WYOAjA1gKQILxMkBQWdeviLHm/lnXLWuhqscmkXRxMwv3yKNlkJIO2HksgJ4jWFhqBgY0QgpBIkdu+EjeVIrcsj+ZVbRQOL0ZKz6Ni4U3WeueBT7j1iCcoGpTL1L1GMuPsHSkYXERaB7MCBLpbE7xz05s8/4fn/uM10lrzh9/+ljUffMB2FeUIKdn++huo/eB9lj32GIN3nUnljBksuOtOUq2tTDnzLIK5uWgND1bn8sz9tzAiV/DpZ6uwhMlL/7iKosK87/w38u+sXLqIlx+/jPcXdaFlIULF+fVBM9lu79/4rVk+P1t8AeLj4+Pj8z9BOp3m9dl309S4hlgsn2SyjZamWlpa20kkusnPLyBgaVZX1XLAfmPIyQny5NNLyc0rZo89z2bc+C2/1w1bc3MDzz57Ne+99wabTxvA1ttWkMq49OsXo762k0ceWsihB13MlCnffTTrnaccjBWvYWFbN/sddx5bzjyYi87ankP2G82A8lykBOHkkhI7oANDPQGS/d+4qFuMzi1BttZhvfF3WqqTNHUoRE4exSedx/Mvv0xjXR2nnHA8ef36cfu9x7NixQq226mSCVsOQIe91isF2BKUECghstUUiZsVJ+uLEM+s7rVX2QjAAO0gBb2VDoHMzqkCtDfi10XQ1pLmtUeW0t6YYca0fdl2wk4MKiknHA7jui5L1i7njvf+ycdz5zH8gG0o3WQYUihcLQgIG0NCrugi2LIGN5kmnB+hoyVB6dDSXl3WurKeR895noWzl5PsyjBkchmXPn8IRjiAyi8hrkOAQdp2eeZ3T/PKDf/CNL89Iu3v113HKw8/xE6DBmEKQf7IkWx66mkArP7XvyibMgXlOHx45R8A2OTUU8kfOgwlJHER4KQ/P0zT8vkEAjn89uB9OXb/Hb7z38e30drSwDsv/IVnn32RdHgMEwsL+N3Nt/TJuX18+hpfgPj4+Pj4/L9i7dql3HDtMUzepIhJE/tRV9fNhx/V09GZYqut92KnGUdTUPD1Pf0AC+a/yZNPXEV1TSOjRhUxbmwJY8aV0NWdJhQyCYcs3n5rLfPnt3HVVa99Z1ETj8f53c6TGZQbYdIuu7P7GVcCMOvp61i74jUOPWBcNr/jIJQx8IsDUx1EGj4h0jwHw02jMg7YGrs7Q1dNgkRKsaxWM+xXR/Pe/IU8f/99nHHDLUzbeQZr1i7hkScvYu3aarbbqZKxWw1ABjwh4uWFiKyPwxvQqwSeH0R4uR/rOw40ZKWGV91AQMDVIMBFE9AaJaAjbvP+i2tY/HEj+888jgN3POpbvQsL1yzjt3ddiTmohGH770A0xzOvB0QGBAwy6zFTHbTVtBHKC+M4mvwB+dm9uSQaO3nz9nd49bYP6W5LcvPnJ2JoTf7wEmwRJqEDpAjzytX/4ooDLmXyiE2+cS+vPPUkfznvfHYfPpyw5QmVYfvsw+AZuyCE6B21q5Vi2ZNPUrbZZuRWVFDz9lu0rVnDhCOP4qLnPmBtYzPNcz/lk0f/jGVZ37jeDyGRSHDmYYex7LN5PPDmWwyoqOjT8/v49AW+APHx8fHx+X9HS8s6Xpv9dz766BW0spk0sR8DB+SyZm0bCxd1c+75/6C036AvHZNKpbju6gOpXlfLVluVM3xoAR3dabq7MtTWdzN+bAkF+WGSaYcnnlzMoYedz+ab7fWd97TgrVd5/NLTqY+n+Ms7CwkEPHN2MpngnFN24JxTtiA3N4iZjJG0tsUN9CdS9x6RpjmIiAQXcDWkHLTtojMKJ+HgxjMk2tK0tbh0xDWfNSZ4ceVaTrv6WrbdZx8Alq96nSef+Str165l+k6VTNh6ICIgUUZ2dK0gGw4oQPRMuvKW9CzootcG7+LlinjNVhqlv5j5v+CjOl59aiWbb7Elx+52BTmx3O/03mQyGU5/5GY+Wb6UsSccRCzPG/8bNeNIFEOsauxEnPa6bkxDEC6KEs4LAxDAReMSzMT54OHP6D+8kMKBEUQwRMGAIpTWNOlc5j+3kHHuaE7b75Sv3cP8jz/mkmOOYaeBA8jLjtwNFhQw/fIrMP5NRKx/ayUA13GQhgFC8kKb5kPHZPHtd3DzSQex2fhR3+k9+D44jsPiTz9lwtSpfX5uH5++wBcgPj4+Pj7/b9FaU1W1lA/efZiPPn6bwgIYO7qYOXM7uOLKF3s/mddac+2fDiaRaGDzKQOYM7eOmtouEJLBg8sIR/pRX7OYww4dz4svrSQ3bxgnnHj792rpalm3lsuP2I8JEydy3E33fumxh+89F7trMfvtNhqhwOpWyJREJpLeGpYEpbC7bV78qIo1Ne2MLc1hYr98olqgU5pUwqa12aa2HeY1d/NOfSP/nL/gS3tctWYuTz79F2rqF3HEuVMxQgZ2ry+ErADxKh1utjlLCIHSXgXE6BnEqxSGkKAVVrYqUremk8f/tojfn3E/5QOG/aDrdfUTf+exeXMZd/KhhMNpDBSGVKjWRsqMKoIRA7ulE61cCiuLMAIWeBnoBHCIkcZB07SyGdfWFA0pRgQDJLVFzTqb929/hxf+8MxXKjJVq1dz6r77sFVxMWXZ6VRFEyYw4djjMLNC8T+RnSzMXV2St1/6Fx9fewUnnnYJfzr7yB/0Xvj4bMz489p8fHx8fP7fIoSgsnI0Bx92Odfd8Cp5+RU0NScwjRSfznm593nLl81j+fIVDB9ayDPPLmOTTXbnokse4/Y7PuL8C57jtNPuoq0tTdA0WLiwiaOOvul7G4CLBlVyy2tzviI+APY88CI+nd9Ic0Mc6YIygJBCFQRRUQutobMjw3VPfUYzRWz9qwupEWVcNWsRB935Jgfc+ybKhWjEIBqE4YUxMuk0Lc3NX1pn6ODJnH363YwcOo2X/r6Qx2+bh6nB0iCz07eklt5kJ41X6VAaUyssDUK7GK7ihlNf5Q/Hvug9rjUipXj5kSUcue+5P1h8AJyz35EMyymk9vV5pLoKSSbzSaZjzL7gQZ6+9FWM3EKEZREpCNO0pg3b1mgkShukdIAkJghJYUURWjnU18VZMbeJz19cSv6gAqJluTzz7peN6N3d3dx4440cef4FlPeM2xWCvG225drrrvuPe9Z4Nh0B3NoJq8w0zWvnobXijU8+o6s78YPfDx+fjRW/AuLj4+Pj45MlmUxw7lm/YOpmZbR35nLy6fcBcM9dJ9PduYJlK1o47oSbmDTpq+nm5/9uF0aPCDH71dUcfNChbLn9MRQVlfbZ3l574a+88sIDHHvgJAYVxpBKZ4MIFZ8vaeKhFxezw26HsMuvzuoVP67rcsaJx/HOi89z6uZDmVbaj+60Zl2X4IGFy7jy4YcZtckmX1lr+fIFHHf8nmSU4u7nD8ia0r/4MrJVDc8EDwKNyLZaSQ1P3LOAcMDgF7sNo7Upwcfv1RCWIznj+D//6MlMNU2N7HLReUw+/jxksVeRSbbWE+sXZmThEiwRJ76ymmhRlO6WNLH+eQRzggRw6W5qh9YOCgfn47a109ricPfJz9G8to3LF5xDXbPJB7e9wT8veoD83HwymQxXXXUVQ4YMYeeddsJOJnn/91cw4ZhjyR82jKamJkpLv3yN9XrfaKDFhafaTGTQYYWVQps2YCDrLbpnzaVz1UfstsP2bDJmINttMcafXOXz/wJfgPj4+Pj4+KzHn284iAFlmtffqub6m98kGAxyyfkzmDK5gLfeWcuUzbfj0F/96Ss3im++/gjPPHEj+8wcycpVHcxd0Mieex7Eznv+8CT0f+eD2ffw2IO3s9m4MtJph7a2FC2tCaS0OPLkPzB8k+2+9rgF777F3WccT8QMUBAOUZnTj38uW8El99zD+GnTvvL8tWtXctsdR/LbM6diW5A0szfW0ptu5QqNi9eWJTRYCmxHsfbzFpbOa2TNsnbStiIYDFBYXMCIYRM4ZK+LCYcjffI+nHHP35nf5TJ45m6ARpk2RNopjq1jULgGS9k0r6onUpZHV0Oc/AEFWBGDlpVNFPWPkm5sI2raJLuSfPyvNTx89gv0G1HMfrccSsoxaf+ogZP3PoGXZv2LslgxBx98cDaLRKO0RgjRe/01moQWhAApPBvOQ0mNHQ8jpKbGTBG30uhgEmGl0W4QlEGsqT9myiD+6TLaViyiY90K0vEWSkuKCEUK2GqzSsaPrmT61HF9blT38fmp+fZZcz4+Pj4+Pv/PyM0rx7ZXM2pEPtdcuQdH/PqvNDa1IGUBm0wqY+XyD7n4wl048sjfM2LUFr3Hbbv9wbQ1reDRp59nyKAYBbkBcgpH9unepu30a0ZP2Zu3nr+VAYXlTB04hsLSAZT1L//WT85XvvUKzYk0g4pjLOo3jG323Rd52aW4Sn3t80tLB9DanEY4YEmBFt4EKwdwpffRvqW9liwFpDozPHDTHIqKytli8wM49qC9KC7+5kliP5bz9t6T3c+4jMiUA7ALMgg7SCbURYtdTLHVimkqioaW0lLVihW0aFnXSsGQfoRL82mu7ySKoC0h0bbBpnuMJBgL8dj5s7ht5p/Z8sTtmbj/Flw9+zYO2XRPdp60zRfvrRDI9d5nDazF5i7RidGdz36WRbGpWOqAqRWpnGYwXLAyCCPjTcoSGrrzSIW7scwQkc1HUDRqAoFugd3QRKq7lWRnM2/PXcczLz1P2HqC66/4DcOHlW+w99PH57+NXwHx8fHx8fFZj7q6VfzpysMZP6aAjs4UK1e1M3lSP5YsayGZcDjwgLEAPPnsYo75zYVM3mSfLx2fyWSY++GTrFz+OfsddtF3Srfe0Nz0q/2pWraEUCyX4Ha7st122/HcQw9x5PHHM3HKlK895pyzt+XwX42laGCUdDaF3TW8x1x6xu6CcOH5BxcRby/mgnP+/h9zNPqKgy79M7psDP0nT8cJ2ygzgyqtIhxuZWR4JVK6SATtDZ10drloV5NXnk8kZOEqRbKmAUsojEyacP981syt46NHPyVYEGOny/bH1SYHNG1PmK9eP40mgSKA4C+BWtrMFCodRKXyMJDYgAh1odEgXQzDRgqF0iauK9AqiFAmodZ+uAIC8TDhriDBToGZ0gjbBcdF2w61a+ayaM5TDB8ykL13ncaMX0whJ2uE9/HZWPEFiI+Pj4+Pz79RX7uIf/z9CmpqVhMJm6TSsNvuRzFy9FSuu/o37L/fKKyoyeP/XMGN17/5s+7b11pz5OQxbFNWygf1Texx6R9Zt24d69at48QTT2Tw4MFfe9wdf/4tg8s7mLRlmef9MMAWGpX1gwjhGdMBWtbFefn5FbS3upx7ziMUF5dt8Ne1eFUVx1x4M9N+dRlOscQJO+jiKkROC5XBWqJGO1IoTDR11QlkJECyLUm4IEpOYRQTh3hdC211HRQXhSgoz2ftqk6klOhAgPyBeWzVNZ5BqWHrDRkGheLF8Co+kQJwUdpASoVSAscN4KYimOGunhlhSOFgGTYKiVKgdADHsTAEKC2gq4BoWylmykIiEElFrM1ApxVCKYTtoJVD47qF1K6aQ2PNYkpLiug/oIIRQwsJBmMMrsgnLy+PMcP6UVRU+K25Kj4+Pwf8FiwfHx8fH59/o2zAWM654BHq62vIZNIMHFiJYXgf/595zu1cc81xnH7ulthOiq6uLnJzv1uexU+B4zjE0w75oQgdqQzjx4zhtddew7Isysq+WSgM7V9O7eK1bD16IOmwIm1pCAgveF3o3ulOUkNZaZRjjtqEj99cxx8v3Y+zzvsHA8uHb9DXNWZoBbnRYrpq11EQGEF30IWWgRDqYrWqYHS0G1M4CBTFA0OsW95F3uBSums7MIQkWBDG6N+P0tJigm6ChAxTPDRMU3UHiU6XZLqTeZUfk5sZQEgHMLWkS6RJGGlWhhoQdiEB4ZLREkO4KCkIGgmU1Y2tTbQWgMaQrifWtAtCYggbYWjAQisBua10heOEWgZ4HpJcgQjEMDMBAs02wnER0qS0YhKlg8aB7dDZuo6uriY+WxEnnWri1Q/WkkrHSXY1kE7HGTBkKJtvOpoDd96EYZUDf9YC2ef/J74A8fHx8fHx+QbKygZ+5XdDhkxmYHl/6uq6MQKSVCr5sxYglmUxatgwlrR2sklpPy466EBuf/0N8goKvvWT8uET9+Clx5+gaW0nqsCifEAeZkTi2ooMLl3xDGvWttPZmUELzYghhey180giW0ruufVULv7TrA3+2sJCYKXBzEiCHRaZXHDbBqCK6qhLD6AiVIcjMkhpUlKZT9OaVgqHFdNS1U5ACWJFMYQUtFGIamwh1WVj5OcSCijamlPMWyb41JiFNEzCJYWEoxIQuMogasRRSCxtYmsTKVy8mBQXE40rDDJdCYxoCAyNIbJiBJDSQasM0pCgLFwnSCanHSueB4bGNh1M2yJdbGIkBUang5AmQgroTpJXOpTc/AEgJDqdBNdBhwLgKpRyaLXb+GTtGl4893aC0QDnHbcXO06b5AsRn58NvgDx8fHx8fH5nqRtGyMg6IpnyMnJ+am38x/J71/O3DXv09DdzbAJE7nksss49thjmTRp0jceM3jEeA47+XKi+f1wlM2a5a9hu0GCopuCyEAqg5r9D9uNoqzZ/J0XbuXPd7/HQYefSP2s35HJZHrT3DcUW0wZx6crF1EyaBQqbmHHXGRnETqvhRZRQMzpJGYKAsImHNTkl8Voq2kjt7KUjqoWtBvHKs6nbUU9wcIYocoorUvryBtdSW4kTVttF1Y0ipEXpb22nVYtCOblYOWG0UY421JlIKSXDW+gQIAhFHZHN10rGzDHDCZgaIT0Qhq19kYHK+mNL3ZwQTioYAJbCYQ2ScVAGyC0IGgGcKIBrG4wMqBKYhidaRACkegGJ4lyXIi3glYI16bIMCmyKhk1fTOaZBuX3f0sNzz2HBccuR9bbTJug14TH5/vgi9AfHx8fHx8vif1Ta3IfiPRij4bLbshEVaA9lSKEcOGER42DMuyuP322+nfvz+TJ0xgj332+cqn40IINt1m996fx03a8lvX2GGf00mHRrNgwUJyIoV0dXVRVFS0QV5PD7tuPYrZ7zyBdjUYklAiQCaWwW0ciChbTaNdRtioIiMUAeGSk2fQ2SnIdCXIryilcW0rQRGHgEUq4ZDoaENHc0AbuJFc8obl0dWUIFnbjeNIHG0g0oqOFc2Y4RDaihLIi2CFBBKJzv4j0XRWNxDKj2KFwBAOhhBZ876JoV1chPePcAmHunFcE0cD6QhOOANCYGWCJEUaqQWOZSCVJJAEwzQQgA6GIJMElQZhQLbNS9spQKKbaigVipLxh1Gbqub0v97HFhOHct1xRxMKBjfotfHx+TZ8l5KPj4+Pj8/3wHVdajNBUmEJljf1qqOjnRefuZVXn7/9p97e16IyGQCGDB3KVVddRUVFBVpr4vE49911F8/94x99sk5tbS15+fkkO1L/lelf40cPJdNVh7JtzIwg1GniKoUbdBFOCFdb1Kb7gTZxMFFASVmIVFMnLpBfUUyyK+UZxrWLmZ9D7qBSUtpCY6IwCJXkkzu4jLxhFeQOKCKV1Chhoq0YwgrQvbaW7uoW2lbU0byymc6GOG21nUQHDiCnsgyBQUaHcTTe1C1sDKkISgdL2BjYIDSGtNFSoYLdONFWUnktJKMdpKNJ7ICDMhXK1NiWi2sKVMAE04RACETP7ZxACK9NTLtpsDtRdhLdXMsAJ48dNz+FVVUmM0++klXVdRv8+vj4fBN+BcTHx8fHx+d7IKWk5bMInzxuMGFiP049e2vICIZX5tLRKPnFHif81Fv8CunuLgSCZGcX4XCYU045hVWrVvHmc89Rlk6z84EH/ug1MpkMc+bM4bhjj+G129uJRDZ8Zcg0Tfr1H0RH0yoKImNQShLsMkjla+x4EdJKEzcjNNn5lFhtKGFgmoJQTpD21Y2EywrIH1yGk8pgZ1wy7XFa29NEB/ZDS6PX05GxBfG6RjANArEYpmWR6OyGZIL84eU4GQczFMTJuDiJJMJUdDe0Y9tgRiMEQ0EEColX2fBmaQECTCkRKoMrTSwrgeMG0a6XMK9MF6FdbCuNsAWGq5HCQkUNpBFGp11kwMKI5qAdB51JodrqEUjQDtoFrRxEugOd6cIKxtiscg/WBT7n0LOv5aYLTmLLScM2+HXqa7TWLF++nOXLlzNv3jxM0+Scc87xPS4bEb4A8fHx8fHx+R4IIbj8itO54oJLOOTYYqZM7Y/b5bJkcTMjy0f81Nv7WmTAa7dZ//5s6NChDD3ttD5b44UXXmDIkCHeaKw0/7WbwYEDBvLCvWdTXDmWnX59LQYmhm0hgxlSXSVEC9YSVzEijkPU7MJBktMvl0C+Q31VJ8ECTbAgh1BQEMiJYsUzdK6pQ+cVEyrMQaUytK+sIza4P7Yy0RlNsrMbkbYJ5MdACsxQEAGYloHMywEEVixKpitOvKYJOxYhWpqDxiAgbYRwMXDRSFy890porx1LyjSuKyCYQkkFUiFlCEdlEMLCReIgcC0QEYlQQWQ6iJFRiHQYIxRBJ+PoVBzd1YSbbMG1U2ghUG1VyFQ+/QsqCYzdjzOvuJXbrzyJSaO/WYRkMhni8TjNbV24SpEXC1GQn/+T5dt0d3dz/fXXs2LFit7fFRUVobMJ9T4bB74A8fHx8fHx+Z7ssstMNpsyhXfefZCaxs8pLavkd3v9koEDf56fJo+ZNo3X3n6LgSP6Npl9fZYtW8bkyZNpbm4hmFO8wdb5d4YOiNHVWktHSxW/OOZajIxBMB6h20pBJE4ik0NusIMm8lDCJiriJDvjpFSQ4qFFNKxqQ1gWViyCRmBFQuQMDZNoTtC5sg4CFuHSQgKREFIHUFGw8nO8kbkar9qAF8zojdvVgEaZJsGCXMKFuSQaWki2dJJTko+tHIKG9o5HI7RCI0C4WAZobSBMhesYaMNF6QwagdYKZbi4lksmbCBciXQNDCUxMxIzZWAEJNIwkFL0HqNVBjfdjUq14nSsRiOQRpCcYC7jCkZywsnXsMXEPHLzymlsydDRlaQrkaI7mSCZTqANEyuagxnLQVmCjBMnlWojVpzHJuOHc8ZuMxg+aNB/7Xq//fbbrFixgvHjx7P99tszZMgQSktL/2vr+/QNvgDx8fHx8fH5ARQVl7L33mf81Nv4Tux34olsMXMmA78hdLAvGDVqFHPnzmXSpEk0OQ6rV69m8ODBtLa2opSiuLh4g3xCXZAXI5ZXytol7yCUg2mbmEmLoJVDMtaOVhadqTwKIw3YboDq5TXklIRItrZBIEReRSmty+ooGB1BSrC1gZSSnNI8gkUGChMQOFoiBWiFV7nQiqa5y8mt7E+4IBftdU3hucO9CVc9hEsL6VpZjZ2Xj2EFSCTTVP3rfQbvuilWNIIpvINtLTGFgyOl5ykXDgiFFhpl2CjXZMHd95NqaMYMhAkGczFliJLB4xk8fkfAANtAGAZIiUagXBdlx1lXNZc5i9/FlCY7bTETMx0jP9qf7SbvztCRQRYurcfWMQrKCijLK8EqKkEU5lEUrmNQ9zxKiwrp7u4kEe/mI9vlc8fl80wX+1x9MeUVpdx6+CkMLdvwQiSVSgEwY8YMJk+evMHX89kw+ALEx8fHx8fnfxwhBIOGDNmga+y+++68+dprxBrq6TIM/vrXv9LU1EQ0GkVKiZSScDpNes0aKsePZ5/jjmXwqNE/et1QOELlmG3Y9YibENJAIwgkTDqL0wg3gBAZDKnJqDAhM0OgIJdERzdWTpRQyOKZ0+6lfkEVe9x1CnmDS9FSIhG4CpQwkICtNQiQaFwkAnBtxewjLsbuirPpeUcz5ui9MIIBPIeHJ1IEyhMjQhAZVEpXdS0aqHrpXd4/71aMgEnFjpsybK+tGH3A9uhQDlpC5/JVIINEKyrQwvZCH5UnhFbPeoamuZ9+6T0oGz+NIX/ewRvDqwGl0HYalejATbbixOvIZOI0tTbQr6g/QnjVkUw6QVPXUqpqJBmlyKhaMuvSpLVN2k3iiDRhI0HUbmKH7bYjLy+PWG4ueVJh1ddSW7WU8tGVjM0p4KCrTuO0fQ/n8O33+dHX9NvYcsstefLJJ3n22Wd9AbIRI7TW+j8/zcfHx8fHx8fn25n37rtc/OujOfGoo9jkyKNQSvWGHTY1NfHqk08y96kn6c5k6MhkuPv5FxgyduyPWrOuvpEDj76SnQ77I05+GGEIuvJSZGJpksUNKCNFONqOEJqQSJEfaMNrUPJGgf7rosd559pnOHbeXxDBALGyQoyAha1NBAauBhcDA4mjNa42MRA4CprmLuO9826m8cMFRAeVstn5xzD8kF3A8MSCiUL1Fn00Qmi0UqTbuqh6/g3a5i9jxXPvEa9vxYwE6T9tHBW7b0fZlpOZtc/pbP/3P1Gy2aZoZYBrgRtAOBYybUK3i9ueRqQhN9SPsIhhZARmXCE64ujWZpzWKjKty3A61+DJouxOtGZ59VIa2loZOXZThgwfRr+yUopLi6msLGXQgAJKSwqJRCLfWrVKJBI8/Nq/+OSFV5Db5fP5wmUcvt0BHLvToT/qmv4nrrvuOj777DMuueQSRoz4efqufL4dX4D4+Pj4+Pj49BnXnH8+ZWPGUNHVSbq1lQnHHMuaNWt44okn0J2dUFtDJpWiYswYTr/hxj4JK9z/VxczYNSeFFaOBa1JlECyFDLBNOnSdZhWBstMELUSCJ0maqaRQqM1VM1Zy73Tz2eXP5/IyIO2I9XWhdaCQFEhZjiIFiYKEw04SiKQKA0gQYOrBVX/epdP/3AnrQtXkj9mCFMvOZ6KXbfKhhIKlFfD8NwiwquNtK6spmR4CQY2VW9+xvIn36Hq1Tl0rm0AIDKglFRLO9NvvIgh++8BrumJkEwAmQ5g6gCGY2FkDAzXIhS3MFMSI+4i27vQHc04zWvItCzGidd+6f1q7WihvqOGp/71OLFY7Ee//1X16zj5r6cwbeRUXvz0He4440bGlm84v9Hnn3/O1VdfzcyZMznssMM22Do+Gw5fgPj4+Pj4+Pj0GWvXruWaa65h8uTJRKNRBg8ezGOPPcaBBx7I9OnTN8iat9/9LLM/bmHc1P0BUAY0T9I44SROQR2YLkEzieF0kFi6mP5ThiLQSBRozc3DTqJ08jD2ffwiJIJkIk2qPYGbsHGkZ0I3g2FsDECgtRciqDQIBK6WaKVZ+di/+PSPd9FdXU//rScz7Y+nUjhxOIbAq5pohRBeO1d3dR05ZYUEg95tmAYcLWics4L5dz7LikdfRrsKGQywzW1/pGKXmZAJIjERGYnphJGOgZUMErBNpC2w0iZGSiOSGdw1K8jUzsNuWw4q9aX3q7ZpHa6Z4YlZj/WZL6ehuYHLLr6MfhPLiRekufaQy/vkvF+H4zgcffTRjBgxgksuuWSDreOz4fCDCH18fHx8fHz6jMrKSg499FBKSkpIJBI899xzTJ06dYOJD4Bddt6c+jXzkNr1Rg2HAhiOBFejhEZqF43GDJgUThgGukd+mGhhUb7VaGrfX4xQChewIiHyBhSRO7Q/sbICMs0dtK+pxUkkMbJr9ky9IlvdEBKGH7Ib+3/0KFv84VRa5i/nqe1+zbunX0uyuR2Fpm3BKlxtIDQEc6J0N7SglCdmNAIDSaisGG07bHrhcez2wh0ctvJVKmbuAspAagOhBUgBSmMoiZDgmC7K0GipwAAcFzO3GCklRjD/K+9XWdEA6msbeOvN9/rsGvQr7scOM3agbVkDy6oX99l5v450Og1AMpncoOv4bDj8CoiPj4+Pj4/PRs/e+59Jxcg9KCgfiw6aUJhLW1mS+NC1GGYazDQxqxtDuEgyWNKrRADM/dvL/OukO/j1xzdQMH44Aul5P7SFRKA1JNOKVGMHmbRNqKgQKzcKSLypu5ruhnbceAoZiRIqyMHujvPplXey9L5nsHKjbH7J8bQvr6J8u82p2HVLpHBJtbYgMilyBxajAVtJFBYAroKMHQJtot2AlxOSigEC4QiCiZzsGF4TXDAzBpFOC6E0oi2B7O4mXT2XdN2nqEwX8OXbvZrGaqxYgIef/nufXYPueDe7n7UL2lG8edd7GyyX49prr2X+/PkcffTR7LjjjhtkDZ8Ni18B8fHx8fHx8dno2XHHLaiv+RwR78DoaIOaBoQCpYQX+ac1WkscZeHqALYOgPZ8HP2nDAegYUEVBqBReM1VoLI/WUGLvEEl5JT3g1SKjuVrybR3AJqu1TWYQZPYkP5Y4SCJ+macZJotrz+HvV6/l4KRg3n3zOuoee0jPrzidlzlorQkWFiMcgXxpjY0GikEBhqNRmmv3Wu9ub4gHO97A+xACm/IlgvCm37lmBqlNTLj4mbSoAQI7xUBvYILIGNnmLjpmD69BrFojAlOMearddStW9en5+7h7bffZv78+UydOpUddthhg6zhs+HxBYiPj4+Pj4/PRs9eu29Ffc0iXKVxHQWpFKFWgbTDoAIkuxy629M42sTRBhnXIK2CZJSkcMRAIiV5NM1fhcRFZidWSWFjotBoDBQOLmbAINyvgLwRFaRaO+lYUYWVFyVc4IUThvIi5FSWoTIZEg0t5I8ezlY3XUDx5DG0L11D26KVLH90Nq6WKC0JDRxAMuGSaE94o36lwnFBaxNDarxGFYlW2WQRJXv7v1zLAQ1SG2gT3JDCjoBrekpDGAGkGUYY2dTy9YogqUyK0pJ+fX4dJg6ZSmzgIJZ8+ul/fvL3pLu7mzvvvBOA448/3k8+34jxc0B8fHx8fHx8NnqGDB5ELKjobqsip7ASEY5idGWQ6TCudIjXtJKWSYxYPhgKISTKdTBkEBEKsM+TFzNg/ABMCVK5CDRKmGjhEtQKpQ1cpJcFojWmkOQN64/MTsWS2SqFgYuroWDIAJJdKbpXr6Ozuo4h+/yCwvEj6Fi+lkV3/ZMh++6MGZAIQxDrX0pi7TqCOREyhDAwUQi0AJQFCM/2ITXC0ch0EOma3m5EVqQIjTIUpmOgiqJYlgWug+xYhZNs+sr7FQoEWbVyVZ9fh9HTp/PW4sWkzb6/xXz99dcB+NWvftUn09N8fjp8AeLj4+Pj4+PzP8GOO0zjo48/YYQZxHBtRKQEIxMkrboRRi6uskhnQsiQ84WZXBsoNMWTx6KlQ0Y7GEITEApHp1FaooWFwCGAgatdhDSyLV0GCrf3k3gD0FphSgnCIJgbJtMVIn/UEPpP3xQzGsIrQ0hAo4VCKYE0LML9ComvbSBSWY6LQGUT15EOwjEQbhCBRAiQ2kRqme2oEmip0Y5GKklPEqJSDiTaEaEiaFv+lfcqL1bAvDnz+vwahE2TTEcHzStWfKfn19fXs3LZMkzlMnGLaYTD4W987tKlSwHYeuut+2SvPj8dvgDx8fHx8fHx+Z9g1MgKXps9F20ncOMCbecRSRSRMlvQaQGBEEKbuMpAS69aASCEiyEELham1iBcXDRCgCEUkPVTEEQLjQEo5XpVh+z8KrT3nSkdQCLJEDA1wYpcOlsdks2t5EQHghZZL4bIChgF2kRGcpGRJJnONmSsGAgglEAo6c0VzvpVNKCli3RMRPYfpFct0d7ZsGyB0hqcFNKK0usjWY/cWB6LVs//UlhkX5CTm4uTSpH6DxOqVsyfzzW//z3JYBCEoGXhQvKGDWPcpEnssssubL755l85Zl3WVxKNRvtsvz4/Db4A8fHx8fHx8fmfYMG8RQSkRisHlI0QAu1KrNxc7PoEeaMq0a5EaYHERWcliKEFSjsI6eA1X5lo7WCKLyZlITUWKQxloDQ4EkwE4B3jGcItLJlBIJDYaGGC1uiOVqKl/Um3dxKvayanYgBWxPNlaCFxXYEwXcziErpXVZGfE0OJIC4mWptICWgXIx3G0AZIhRYKnJ7bOI10JQYGVsrANVyMlIMdipFaPRuEBO1+6b0yDRPLDLB2zVqGDB3SZ9eg/+DBhIuKqK2r+8bndLa3c/ohB5NWil2OPIpJm23GynffYUVHJ0uXLmXp0qXstt22HHrscb3HpFIpWlpaGDp0aJ/t1eenwxcgPj4+Pj4+Phs9Wmten/0yFf0n43bXIqwYZnIQoWR/0rEgImOiuy1EUAMWSgHCRQpws5UEQ5tI4QAKvJhCtPYM6JCtPgiNEA4BLXBxAOEJEQPAJoCXJWJKB4nCTqUJhmxcXDJtreQNG0S8pgk7GiZSUojWGoHAcQMYUhAqK6VrXQuRgSFsJwDSRTsG0rWQgNCANlCGQjpeurpWIJVE24DWYEiUFNDdgoyU4nau+dr3LGAGaGtt61MBkpeXR/eKFcytr8d1XQzD+MpznrrzTlylGVlZydnnnw/AzjvvDMDy5cu55Nxzufemmxk/cRITpk4F4MMPPwRgs80267O9+vx0+FOwfHx8fHx8fDZ6Pl+wiERnNzmWApVBpTsQaRsjJTDTJtI2MVwLobzUcrREZ9uavI4oLwzQybYxkc3/AIGrDWwt0RhkZ1F5rVhCYUkHS9iYwsbERUuNKVV2nK6LSiRxbEG6vo78ISUEQ1A4rBgpFZ0r16Js1wtGVAKlLKxIFG0E6G7uwAwkQeveIowrFUpJhJYYArSh0NlAQi288by9LVldzaBcdKqVb/q82TRMGhu/alD/sexz/G/IKS9n3rx5X/u4nZND0Wabsc8pp37lsREjRnDaCSdQMmECf7n7bhKJBK7r8vjjjwOwzTbb9Pl+N0aUUj/1Fn4UvgDx8fHx8fHx2ehZvXIV4WAItIPdXYMTr0V1NyMdkI4nPgIyhrJSaGWhlEHX6jrePucvZFIZtBaAxNXerZFGoBAo3WMbF4hsgjpAqr2bj25+hnhTJwiNFGBIhfSOwgUUgkBOkGAsSP6Q/kjDQAPNn6/k/TOuwgwL4tU1uHYGgQQlcJRFdEAxKhHH7owjsoGJjplG2JJ3L/8dNe+/ibQtTG32togJJZCOQKPB1RDJQykHaeUgA1Hqmmt47q0nSaW/8GYEAyGWLlzW59dixm67A/Dyyy9/7eN2Oo0QggGDB3/t49NmzGDGrrsS7+7mhN135/eXX05HRwczZswgPz//B+3pqquu4pJLLumtpGwIXNclkUhssPO3tLTwwAMPsPO2u1JS2I+33nhng621ofEFiI+Pj4+Pj89GT2tja2+7T49ISNcvRKYcgskAeZFyQuk8SEZRyiQTV7x67OUse/BFums6snUNARi42kTrbDVBS8DIVkc0WntdTm0rG3j93PuYd++ruBqU1r1CRWddIBKBYYaIFOWCZaC0gVKS5vmrWPvS+7y49+k4qQTx6hq0beNoCXhhibFB/Uk2NIOdRos00g6S7Gym7sN3efGEQ1g26zFv/K82evqyAOFN7XUVIhrDCMQQ0kBrRWtHC6trVvDU64/2vmeFuUU8//SsbNZI3zFw4ECGDx/OokWL+Oyzz77yePOSJTR99tm3iolDDz2UUQX51K5bx4qVK9lss8045JBDvvMeEokEq1atYvHixcyZM4dFixZhmiZ/+ctfNpgIeeWVVzj++OOZO3dun59ba83pp5/O4sWLKemfT1lhGY8/+M8+X+e/he8B8fHx8fHx8dnoKSopwnEd7wftorWL1ApSGaxUiILcCrQNkbYSEpEqmj5dRPvSKqbfcDa5gweitIODAm1gSRchJBqyU6oEQhjZQEJPhPTbdBgDpo3is7tfYeqZ+4JhoJTnCrGkl6CulcARAi0stOsJE1dZDD1gH8JlA3jj1+fy4p6nsv3dV6CUJKeiHE0ALdIIwyR/SBltq9YSLB1BwMwQKSlgj4eeY/aJRzL7wuOI19ax+eFnI7XItpBpb6+Oi1QaHStEdBWju2sYN2wiOZFc6lu+MIcX5ZewqmYF77/7IdO3ntan1+PII4/k4osu4urLL+eehx4iFAr1PpYzYgTF3d0UFRd/4/GBQICL/3Irp3V00NnezqDKyu+0biqV4pxzziGVSlFcXEwgEEBKybRp0xg+fDirV6/GcZwf/fq+jvLycgA+++wzJk+e3GfnVUpx0UUXAbB2zRqinR288s7LDBjQv8/W+G/jV0B8fHx8fHx8NnoKSwpxXNv7IduWZMcbUcluiCuMtIGZloS7I5COUDJlc2a++Hcq994TVxnYromjBEpbZJSJoySOawEWotf5IbC1xEGgVJDxv96NjjUNrHllXnYXBhoDWxtoLVEEcJTEVgJHW14LlxIoJSmbtg0zX7ifYH4usw85m45la0lUV+PYabQOgDZwZZDY4EGk6tfiOHGU0oQLC5l59+MM2X4P3r/1EhY9ey9mxsTQkmxsiOehN0yI5OC0LUUaQUBQ0X8wU8dv2fueCSGIRXL49MO+/8R+8ODB/GKTTaj/bB7XnHJyb5XFdV3mL1yIEOJLouSbyM3L+07iQ2vN22+/zZlnnklbWxsTJ07Etm3q6upYtWoVCxYs4IEHHmCLLbZgypQpP/r1fR1Dhnhm/sbGxj4972uvvUZ1dTW/+MUvGFBSwvk33bRRiw/wKyA+Pj4+Pj4+/wOUlpX0frIt6MnayGCv+oiA2gJhleKGIGALjEQUEQyQVzkerRxcRyANF+8O3sYUAoXlzcJSGimE13clvPA/pQQOghH77cAbZ9/BggdeZ9ium+FmbLAsDAQO4CpwdQChLYTWZOwgaIlwwiAgt3IEuz79OK8cfDhv/OZCdn7grzi6BuloHAT5oyowTE2ssoTOVdXkFIeRhkEgGGOX6//B0qceYtDE7T0PigbpSJACYQpIptG2jbRiKDeFVEm+zrccDIRoaWreINfkiDPP5LUnnuDdDz7gsosuYsSYMcybNw/btpk5c2afraO15u677+bNN98EPCEwcuRI9t57b4qLiwmFQr1hkRuSnhDF5qa+Nfbfd9ONJByXmTNmcNRRR/XpuX8q/AqIj4+Pj4+Pz0ZPZWUl2lCc8ccT+d01pzB0zGC0hkzzMlRLDUZHN2ZKY9qS/KoCrHiEQEcRIhVBJ/NRdgDHDmA7QdJ2CEd57VKu9r4cHUBr4X1lDepWKMTIA7Zn+TMfsOyVBcz9+2wcLXE0gIHWFo7rVU20CqLRaDuEVCbCMTBSMSI5/dnp/rspGDGCrppmckrLUYYg05Wge1UjWhlghckZ2o/u5hWk0p0o00aagrH7HU5++TAcQ+PlInqtWG7QRBkS6ThEhu9CdMSeGHmjQHx1JG7QCtLR0blBromUkpufe44tdvwFq6qqeOmll2hoaGCbbbbhwAMP7LN1PvroI9555x2CwSCnnHIKV1xxBTNmzKC8vJxwOPxfER/gVZRq3nmHzceO7bNzJhIJaj5fSMfSpSx4990+O+9PjV8B8fHx8fHx8dnoCQQCbPuLrVmyZAkNDQ18tvJj6qqaGVEBTutaRDCEcAZCQQ4RNwh1kM5Jg4hiRxPoRC5IBzecQBgutiMxDDvr+lBetrkWGCikMADNilnvE+lfTLi0gFmH/4ltrz0RJ65oa+4mUpKDGZQgAijHwNUSww2iEaAEVjqazRRxyc8dzp5Pz0JLB21miPTToOsIFhfhuhZSumjTIjJkAMmV1Rh5AgIFBJJRMgEbK2WCKb1MkbQXrEhOCJ0pgeZ60Boj1h+7belX3zcrQPXadRvsuhQUF3PFzTfT1dVFW1sbJSUlvZWCvmDp0qX85S9/IRgMst9++zE1mxvyk6E1uo88Ji0NDVx6nBfGeMBhh7FTH4q2nxq/AuLj4+Pj4+PzP8Gvjvgls2bNorm5mdPOOI3G1noAMs0LsKs+hvYmaGpGOIpYtU3Rh12UfBYkt6oIMxNBZiKQCeFqsB0LxzVJ20FsJ4qjvVRyR1k4WoM2Kdl8HGtf/ph4TRPp9m5EOEprbRe2DcmEScoNY7sCjYV2pTeaVwukHQAtwDUwEhGkG8TMBJBOAGEHCYRyiZYNINHQhLYdtGuCayANg9jw/nR1VpNKdJAOJdHCRVsKLTWOdLOiBkAgCvKgqAyCYYxADpHybRHGl2/+tdaEo//Zi/FjycnJoaKiok/FB8DChQuZOHEigUCArbbaqk/P/UNJx7t/9DlevPdeDtxiCxYvXEjJ5MkccMYZfbCznw++APHx8fHx8fH5n2DChAnccsst9CvszwlHnsTA0goAlB3HTraTXj4b1VCNXrYI3d0BSmF1uRSu0PSfl0/x2lJyagagk2HQJq4bRGnPnJ62A6TtIK4Kk7YjJN0AZn4Zuz9zC+UzvAlSwgxik4Nr5CBz84AArjJxlUBnMzuMdAiNxMUlkAgRdIKYrsS0TaxUEMsJQCqMDOYQLSsjvq7O825os3fEb2zwILoTNSQ66nFCGbShSQUclBAQANvIhpcIgSjMQxb3Q4QiSCtCZMAW2XfLa0tSSmGa1n/9Wv1YlFKcffbZPPfcc0yZMgUhxM8mnC8ci/3oc1x7+eUA/PKkkwhEo7S1tf3oc/6c8AWIj4+Pj4+Pz/8MiUSC66++kdEV4xk8YChSCqSUuPFa7GQ7qdWvkan9FHv1u2TqF6K6mwGFdCEUN4l1xSisGka4rgLRVYBKBHEzAZQKoHQAWwm0CqA1KC3RwSjb33cdww7ZHSOnBKwQwdJBKCeAqzWuY6GcAFoJ0ALXdJFaE03kYCjD87anLKQdwFIWMh1EuCaGHcQKxQjkF9JdVYtwFdo2PSFiQG7lIGzidDfXkAjH0YaLHXZwDRekQAW890MIICeKGDgUokVoIQkUjMQI5HrvVzpBbm7eT3a9fihSSrq7u7nwwgsZM2YMo0eP5pFHHtmgQYDfFS2/6rX5XsdnJ4ZNGD+OiokTQQgWL17cF1v72eB7QHx8fHx8fHz+Z3jq0WfIzykgJ+rdYHvBgd4n4yrdhhISN9OFdtMIM0Ig0YLR3B9ZOBAGDYBQFC01phNEdhZhWzm40sENxtHBJBigCKCdAAYCLVwQsNUtl6OSDnba9dqrMLHTpve9trxwQB1EaoGVioBrAAJhgyEEWms0DsKUmJkgSoKdhkBuPtI06VhdRaS0jGA05mWTALEB/Ug0ttDVUA1l5US6I2QCEFJeoKHWGmxvIpjMiYIahBAmRt4AkmvfgUwHdU3ruPORW3+ai/UjyGQyGIZBIpEgGo2y22678dJLL3HmmWey4447ssceexCJRP6re+ro6KB0s81wf2QlxnVdAKxgkOnTp2MYBltuueV/OGrjwq+A+Pj4+Pj4+PzPMG7SGBKpeO+nyEJ404mEzI7m1QrtpgHQToJ0y+ckqmaTXv0OeuVSAtUdROsNgh0GuAIQGNoikMrD6ipBxPOz1QyJ0gKlDHAttB2kfUUNqYYOtBPEdQ1EJgx2GJRAuhFkxsKMR0BLHMPBSgtC6QBWxsAADGUilcRSJqQDCG0g7BBWKJfYoArszk461lSjMl7OOtolUlCGGbHorqkiFU6hLEUm7GCbLgiBMgDtZbOLnBgiGgMhMGIDAbDMAMn/UtWgtbWVRYsW9UmV4rnnnmPIkCGUlJQAEIlE2HfffTn11FNpbGzkrLPO4qOPPvrR63wfGhoasMJh8gYO/FHnWfCxt+9hI0YQiUTYYYcdvlNmysaEXwHx8fHx8fHx+Z9h0uRJBIIB2rvaKMgtRClPiGSTBL8eDW6iCbtpBbguhj2EsFuI1GEyEYtMKI0TshFKEkzkoxI5ZGIdaEMj7RDKzKAyCaQKYUUKwDUQySiBTBiNwhUOQgIopPKcHMFUgEAyACZI14AUZMIOhhPAJY2QEjMdxg0k0TqIZRrIsgG4yQzdVdWEC0sIRgsQAkKFhaTdTrrqqhH9ygkmwhgBw5uKlRJgaHBBIxDFpejuVmTWqN6vqIxTjj2TF15/+nuPq1VK0djYSCKRwLKs3q9AIND7tf457777bhoaGujs7CQvL49LL72U2A/wS3z00Ue89tprnHLKKV95LC8vj91n7s60adO4//77sW17g5jTtdZ0dXURj8cpKyv70uvsqWD8ELo6O/l9dvLV7sf95kfv8+eKL0B8fHx8fHx8/mcQQnDh5efx+wuvYsqYqQgpkEJ6GRzqm1SIRmU6yDR9RqZpPoHUtoQD0wgRw0wHkLmCtGOgDIU2FSYGVkcJaSuFDtqYqTCZtItKaaxgDsIOYDgmqZZmDCtMMJyHE0xjpSJIx8TISALdQS8Z3dYgwDQNSIIdslFCYCqJKxTYAVTARjkmQmjMkEluZSWJ2kbcrgzRfv3ANQgXFpEW7XTVrsPsNwTtmtgumFJiaonSCmErBAKzfATpdR8irBwq+w/l44Xv8/brb7Ptjtt+63urlOLTTz/ljTfeoL6+nvb2dvLy8giFQiilsG0bx3FwXZdUKoXruhx//PFssYVnfK+rreWoo4+mMD+fP/zxj9/LNK61pq2tjTlz5vD0009z7LHHkpf3Ve+KlJJgOMjAyEAOOOAAZs2a1acCpLOzk9tvuZPHHvkn2tUYhkHGzlBSXEL/Qf3A4mv39Z9IpVI8c8893HHNNQDsusceVAwb1mf7/rnhCxAfHx8fHx+f/yl22W0G1/7hetq7WinILULpb7/R1Vqv9wm2JrP2LYxAhEDhcIzCPIIyjOmY2JaLMlwcy0UbCqNTI8IR3ICLFcjBCsZQ3S6WGQIlcGo7SKUbiY6djCsMjLSB5VgIW5BoaSCnsAzTFmhX48RAKIlQEhBoJdEGXg+ZbSGEi5SaVHMjVn4RsQGDSLW20bG2mtwBg5FSE8otJO200dVYhSgeTCgTwgyAmwbtaLrbqyjILwfXJTh6VzLv34YQgrLiATx8/z+/UYB0dHTw2muv8cYbb1BYWMjUqVPZddddKSgoQMpv7ub/29/+xp133snTTz9NSUkJ9atXkxOJkMmKlJycnO90PdPpNJdffjldXV2UlZVx7LHHUlpSgnIckPJLe/joo4+YOnUqWmuGDBlCVVUVd9xxB5MmbEIi7lVqRo8bRXFx8feu+KxetYajDvk1ISPClFFTQQhS6QRN7Q38Ypdf0J3oprpxNWvqq9nmO56zauVKHrzuOv6vvfuOrqpKHz7+PeX2e5Pc9AQSEnooIiAoIIqggljHUbF37I5txjK/sZex+86MjnUcR8Sx94IdBRUEpfcA6YX03Nx6yn7/uBDJEBUUBHV/1mK5OHWfE1nrPNn7eZ4P3n23c9sl11/P784+e4fG9ksjAxBJkiRJkn5VFEXhgj9M5x/3PEJaID35oanQZRnWll4Zr3z8HF6Xl8ljj9y8I3lorOxT9JRCrPJVOJTB6A4NMhzYuopualSs/Jw3rzqWKXfNIG/0AdhOnVRvES2Va3HrATx6Gvnpe6FXhFHr/QjFjyLA8sCse6dTtehTzvz7N3h1f3JWol1gpG6eoYg6MX1hFDXZN0RRQBUajUu+4e3TpjHutrvoe9RRuFMz0R1ewhUb8WYV4HIG8AYziJpNdNTXomcVoLWBQ+i89eA5lC+fzbm3fY5fD6B7/OjBvpgta3HoTjpCoW7f5eyPZvPgPx5i0qETOeuss8jJydnun4NlWVxxxRXE43Gam5sZOWIELq+XaDSK1+vl0ksvZejQoYwePZqhQ4ei699+lobDYdrb2wm3t/P4v/6FoiicNH487StXsuHRR1gdCiEsi6LJU+h1yCEoqoqiKCxYsIC99toLl8tFLBLjyiuv5N477mfmoy+g6Rq2ZRE3Y6iayuQph3La2afQu2/vH3yWlStWceaJ51Cc14dgSgary5YTTUTIyclhZdlyetcVMvnQwwiW9+Cel95kjVvjL4cc3W3uRjQaZeHsN5j7/MMs+KaSjpAJKBwz7QROu/oaghkZ2/2Of6kUsSVLS5IkSZIk6VfCtm2OPvRY6us2MWLgKFzObpJ4FXhz9su0drRy2hHndAlQHIFeYIfRs4fg6jsOVA3h1En4NWyfSjzezmMn9iFrwN787m9vYysCUzNoLFuGLyULX04ujoiTwOoEqmlheR2Q4gNVUPrN+zx/01QG7Xssv79sJopbx9ZU0AWxgEnCZWC5DCyHiamaW1p2YMYTvDHtcMK11Rz3zlycGUFU1caKmUQq6wjkFOBQvShCJdZYBzhI8/TAG9KpXjqPp//vQIr3msTJf3gesakGEhHizRvYsPRVUjL9PPncY53PL4Tgn397hGeffo7BfffiL/f8CYdz5/YLaWlpYeXKlSxbtoza2lr69etH3759wVZ48uYbcFomDkUlZ+BAJvzuNCo//piUxjJiNhgC1M0zGO5gBvtcdCHZvZLJ3xvXlFNbWc/COYuIdES7vXc0HqGusYaaxmomTDyAq//yR7Jzsrs9dn3peqafcQF5KT0J+FJYtHoBJ556Apdd/YfO2ZclS5Zwzz33cM0117CxqpF/frkAR+MHFBa5KM4fSX7vfdnQsoaWyoXUfLMCPWbjqTdxKy7GH342R513Hi6Xa6e+3z2ZDEAkSZIkSfpVEkJw3RV/YcEXC+nfqwSn49sPPEVRUDWVUEcb8USCYEr65h10BiKKMxVNd2IZYbwlU3HkDwKHjuXUMN0w96U7+PypGznxX1+Q13skQoXm6jVYTkFO9kAcho4astHr2sAysT0u1ISB4nIz+4Wb+ezd+5jy+1vZ5+DzETnpaE4VQxVEgjEsr0FCsTCdCTQFLEARCs3Ll/Lq8ZMpmXYm+99wJ3ay4yCYBu0VVQQzi3E6PdgCQjWV+J1BPO5M3G0aX73yAB8+9UcOOvk2xo04DhGNYpsxWta8xYKlHzBvyefouo4Qgqsvu455c79iWP/hnHHZyeQX5n7vcquf8jNSFIVIJEJpaSnV1dWsWbGOss/nMSY3F12BiOJggwhgGRES6Gi6A01J5rUIIbBsC01XyczNIBFL0NLY1uUeXre3y89+a6ZlUjAkm7LqjUydOpWpU6d2mYmpr6/ntltv4+BJB/POzI9ZtHoB518ynXMuOGuba51zzjkkEgmEgH79+lJY3JvK8CKWvPce6zN6onqcpGohArF2DuzXh8MOuoySEeN2eCnYr4EswytJkiRJ0q+SoijcdOf19CzuyVfLv6A11LWbtGVaeN1+ginpqOrmj0BBsmQvIBJtmJEGhJXAqFhEvGIZhMJokQSukM1+Ey9h+BEXkZ5ajGZrOEwdP+loDQaqoaHEQbcUcOqIWARaWiAex25qZPyEsynZ+wiEbaFEIyg1m7DbY1gOcEU8OEJubM1CQcXqLOQlSB88lAHHncrqF/5D0/LlqJaGhoqqOQn0KCTcUE24pQnd1EnLLaQj0ojREUI4Yd+jL6f/qKOY/dyNVHXUoOYXY7ZV4NJ1PE4vXy/4BoB7br+Pr+d/zfCB+3DuH0+nR6+87w8+BNiWjWmadPd7bWELOkJh4vE4tm13HiOEYOOaclqb29A1B0OHDuWQgw8hVmuT23s06909+cZOY4XhxlZV3P5MUgNB3E4XKGDZFpZtbb4HNNY0dwk+FEXBqTuJxMK0d7R1m/SuazpGi8KJx53MqlWruPrqq/nqq6+wLIsNGzZw++23M3nKZL7+ZAmLVi/gkqsu6jb4ABgwYAAARx11JJMnTyYaDqGXdjC8fy+Gjx1G/7YA+Yme/Puu97jqjy8yaOT+v8ngA+QMiCRJkiRJvwGffvwZV11yNfsOGYuu7/hSIt2Xh+r04ygaix7IBE1DcXuwHBq214mtA4pAsQRGJEwi1o7HE8SFCyUcxm5qwA41oagaQtVRdAciHkFxehGKgqo7wRdAZAUx0zQMj4XhMIn5w9ialextSHKCJt7UzItTxpFW3I9jnn4XIxpF9/pQFBssQbS6GYfqwp+WgyUsQrUbCTp74hMpJJqaePSPI0EIzr/1C1bO/hd99Ciry1Zw5HGH43BqPPuf5xhcvDcul4vRE0YybtJoHK7kO9s6YV8IQTQco72lncXzl9Ha1M6xZx4B0LlcK3lMlAdvfgIhBPm98jjt0hNQFAUjYXDfdd82QXR73UQjEcKRMKZloCgqbqcbARhGojPYcDqd9BnQG4fDQcW6KlKCAY498whye+ZgmiYfvf4Zi75YmqzMZSYwLYN4IoFAkOYPomnbdioPZqYx/ZrTWbduHbNnz6asrIxgMMiUKVNIT0/nn/94mIkHTeK0s07p9v8P27Y588wz6d+/P6qq8uc//7nLftM0Oeuss5gyZQqnnNL9NX5LZBK6JEmSJEm/egdOPIBx48dSunIDfQsGdNmnKAqqqmDbyY/r7n5TbkY2ocabSCzZiK/oQPSsgYCGFrVQTDeqywm6igC8wk24cSOWHsIULny+dBSHG2GZkEgme9uKjqKo2GYMVAd4UqCjFSUaxmHkk+ip4rBViHiI+SIIze5MUXGlp7PP5X/m81uuZtUrM2letZz9r703mVkvFPw9cghX1hBrb8GdEiSQV0RzVRm6oxeutHSO/cMM/nPzJF548DRaa1bT94hzMS2TyqoKZn/wKSNK9k2W1rVs5n28ACOe4IDDxmIYJrPfmstBR45H0zSqNlbz3ksf0dEeQQiBpmu8+p+3aW5oob01hKZquL0uHE5H56xHTXktD/zfwzidOh2h5HkJM0EiEac11IyqaqiKiqbqWLZFLBHD6XDicXvRVA1FUfCn+jjj0pNIxA3u//NDaLpGTn4yf0PTNFweFwP26suapaUcc+oR9B1UzKL5S5k3Zz711Y343D7cLk+Xn29LYyt/v/FR/nDT+fTv3x9FUaioqODTTz5lQ9kGzrtw+vd2I7csCyEEo0aNYv78+dvsr6ysBKB37x9OeP8tkAGIJEmSJEm/CbfcfSOTxk4mzR8kM/htwrEQAsv6dllQt4QFtkDTHCTql2G01eAumYoqbJTGMEpaOqgKuBwgwBGzMROttFsxCLXh8wVRvamYLe0oioIwQ6A6UFQtGTe4A6jCRiRiqK1t+CwfkXwHIkXBEfFiOhLY7gS2AAWFgdNOZc0rz/L1I3cTaaxj/GV3oOtehMPGtm28uT0Jl5XhcPvRdCdpPYppqNpIup2HUGz6jzicTRXLaGurx/b3Jm4tZM4ncxk+cBROhxPL/LaZ3jdfLKWjPUJtVT3tze2EWjswDIOa8rqur8i22bimvPPvpm3S0W52Oca2bUIdIUzTwDANILkMKklBCIGqaTh1R7czVbpDZ8pxk7BtG01PluD1eN2IZJtFAA48bCyKohCPJ3C5nADsf/AY9tl/ODdd9lfC0Q7iRpyAN6XL0rJYJM5TDzxLeo8UPnz/Y9aWruGUM0/m9ttvJ+MHKlOtXbsWgLlz53YbZCxZsgSAgQMHfu91fitkACJJkiRJ0m9CamoqT7/wb6afdgExI0bP7MIfPGdLuV4hBLZtoygqihnBjuuE5j2I4vDjH3Q8tLeiaBpK1IVt26R40hEOg0S8nZamCtyaAzURQdEc2NFmhLBRFAMbG0V1IlrLUAO5oDoRRgKlQ8Xb7ES1HURTDVyGC0soJBwGFhbLH38QMxwh1tqEsCzay8vI7DMEEVdQ0RGahS8/n1B5OWk5RahuJ6n5vWmt3khHopVELETLpo0A1DdV06twOCluB04lvk3XeGEL1i1f3zkzVF5a2TV3YXPiftfTFAQ6CSOGYZlYVgJhm6iKiq7pOHQHuqYTS8SwbAu3043T4eo2JyKQ6qewb08K+/SkR688MnKSpZWFEFx5x0Vo+rdLqrY+f0vw8e3fXZx72Rn858FnCUc7SBhxfB4/Hpe387xNtY18+NkHHHrEJP50/RXsO3bf7crTWLVqFQUFBdTU1HDttddus3/hwoUABIPBzm319fU0NTTz+ktvsnTRUjRNp2TIQA6eMolR+43cJUn/ewoZgEiSJEmS9JsxaHAJL771HMcdOY1UXxoBX8r3Hp+cENnq09qOYcYFxDs271ewWipQfJkomo7qcCMsC8LNKC4vLsVBpj8ToqFkHoewQdgoCGyjA2wDgYqdcCBQ0T1BREsUJbsXSnsMT5uJ1iNANN1At12olk7CFWf4WVcQyC5kwUN/JVRdTkv5WjKKh+CMOxAKWDpoth+tZwHtlWWkZPZCD7hIye+Daqoc838v0L5mJXPfuIf61jrGlIzCskzMWBtWvBlss0tFsP9dltZlpmhLkrytgDsTU/NjWCYIBYdPx5loRcSbMKwElmli2RZm3CSWiJKektml6tQWxQN6Me28321zz62DAcuyaGltoampiebmZhKJBG63m0AggN/vx+/3k56eDFaamppobW1FdamdQUdKto/yDZVE41E8Lg8upxtN1RBC8OYrbzF6v9HbnSQ+YcIEXn/9dQB8Pl+XfZXllZSVlQEwcewhxGMJTMMkGosQjUcozC1GVTV0TeOD8g95+YWXQVEoLuzNBZefy0GHTOj2Hf2SySR0SZIkSZJ+c17+78vcdft9jBg4ClsI3E73D35sJpcMCRy6s/M38AB6oBeuzEGgOVE9geSHciKKUB1gxhAoCKMDVSSwLRPbMhBGFGHGABthW4BA8eaje1JRdTeKw40ayEABLFVF5GcRzgdVA8VUiAaiWIpACQtWvfpvVIeTEYdegCpUVBu0hILpsbFUG8MyCFeXkZpTDG4dYdmEK6pwKx5SrQDR1V+hddRim3GwwpjxCHaidftfpubDdmeTwImqu/D407FMg9dfuYG6unWoioKmqgwoHsSoQfuhqcmP6UgsTDQeISuYs8277zu4mN+fdVTn9kgkwqJFi1i7di2xWIzW1lYikQjBYJCsrCyysrJwu92Ew2FaW1vp6Oigrq6OKVOmUFBQwKOPPkp+fj6la9aTn1XAkcccQd+SYtrb2lm3ppQPXvuYhromHLoDUAiF3V78WAAAIdpJREFU2ymr3cDd/++vDN9nb/5536PsP3EsY/bfr9vmggDTp08nFosxY8YM4vE4a9es4723P+C9t99nyMgSjj3ud7w+YxYb128g4EshFo/idfuoaagiHO1AVTWG9t0byzZp7WilsWUTbaFW4kacQQNK8Hg8TD56MrXVNSxeuIT2tnaeefU/eL3e7f9Z7SFkACJJkiRJ0m/SA3f/nRlPzcDldJFIGPg9fhy6k74F/TFMA5/Hj6IoWLZFVX0FFXVlqJpKTjC3SyK74kzFlT4AzZ2OoqoIVBRVB9vEthLJWQ7bQEEghECYseQf20LYMYRtY8fbQFFQXamozjQcwd4oLg+Kw4WKinB5EG438T6pqA4NE4HhMrAdAs0ExU5+1DvjGnpMQxXJsr2WKjBdgoQRpmNTFe5AOq6MDBQFIo2NmI2tZLTpOFKDWOVrUW2LeFMpiChmpBlhdADq5gT3b/NCUDQs2yBq6aieLDzB3ngDWWhOL4lIC5Vl37Bw/n9pbqqgpb2RrGAOxx9yylb5HkmRWBhVUTuTwp0uJ0NGljDywGHU1tVQVlbGxo0baWhoYOjQoey3334Eg0EyMjIIBoPfGzR+8MEHzJw5k6ysLPbaay9OPfVUPvvsM+bPn8+pp56KEIL777+fcDhMVmYWX3+yFJ/Xj98bQFd16pprqW+qJRaPkpvZg3giRvGQnvTt15fi4mK8Xi9jxowhNzeXTz/9lMcffxyAVV+vxbJtfB4/Kb5UHLoDt9ONpmnougOvy4vb5eHocybzt/v/TqLD5ua7rueOm++kfGMF2cEcinr0YeDgfgzcuz/P/vt5NlZuoG1zGWlN01BVDcNM8MpbL9FvQN+d8c/hZyUDEEmSJEmSfrO2LOtp2NTAF3O+ZPHXS3j15ddwuz0Iy8ahOwnHOhg8eDA33PYXCop6cvC4yfQvGESKL7XLtTRvDo7gQDTdgaK5NgcbcbDj2EYUVbGT1ZKsBAoChMC2DYQZx4w1gzBRdQ+K7sYZKABFRWgOdF8mSiAXVQGRkYORrqPpboQiiPli6DiwVYFQBY6ojmaqCEughW0UwPCD0BUMl0W4qRZV1fGkZ2ErQMQgXl2PmrDxRAxcoQ5sXwpaLI7RUU+sZj6KsJLLsXQPijsTQ2gk4jFUl5dAZh8c/gxi4TYSsVY2rPmc5YveoKJiMZqqkZ9VQENrPSdOPn2b97VFc1sT6akZCCEYPqmE0o2lNDQ00Lt3bwYNGsSgQYMoKira4WVIQiQDvq1zKRYuXMiLL77IqFGjqKyspKGhgT//+c98NOsTXnnuNZYuX0pBTi9URSXgC+DzBEgYcUzLxO1yccn159HU3ERVdRXhcJglS5bg9XpZt6aUM886g14FRTxxzwwsyyQUaSdhJIjEwhTkFOLyetjvwH3o6AixbvEGPpr/Pkf/7ihu+usNneNrbW3l7/c8xKxZ73HNDVcxevRoLMviiYef5J033yU3M49gRjoDBvdl/wnjOGDC+B16J3sKGYBIkiRJkiRtJRqN4na7WbF8JaZpMmBgfzyeb8u23nf7A7z31keUFA/e5lwtUIwrpQCwkvkjigq2hbDiCCuRzK3ABkRyyRMCEBjhBrBj315I96EoKqruwZk5GNWfhaY7MNprUX2pqMVDAANsHTPfjaWqOMKAW8G2QQ/ZqBYowkbETUTQgeFUsJ3Q2liB0xfA6UtDsQWqomIlTGItjViN7bgUJ3p9A3pOPgIFo7WG2KbVKME+OLxpuH2pOJ1+ItFWatYtoKV2Hc2161i38iPaWqrxuLwM6TuMvfoNZ33VOtICQQpzi77zfUdiYRQU6ptr0f0Kt91zCwMGDNglSdi2bTNr1iyqq6vJz8/noIMO6rKE6bUX3+DV51+nubmZyuoKnA4XWcEcemT1RNN0YvEowaw0Bo8ooahvIW6/E1XReG3mW1Ssr0RVNTY11SKEIBwLEzfiZGVk0dTcRH5xDtl5WZimyZVXXsmMGTPYuLySl959bptxVlVVc9G5FzPx0Al8tfArVEUlNzeXe++7d6e/k91BBiCSJEmSJEk7YEPpBk459gxGDxm77U7FgSOtH4qwUJ0BVIcrmeNhWwhhIYwIIBB2sgStsAwQJma8HWEm921LRw/koTm82PEWLCOC6s7Eld4fPTUDO7MXOED1p4BDwU4YaGhgCwjHkrnkqoqtCkj1YtkWTZWrMV0qwgGp+UXoujtZxtYGMxLBTsQQpgUCWqpLibY20tFYTUP5curLltBcs45Ie8O3j62o9Mjrx+B+o+hb0AfNitLS3kTVpkqEEMQTMRRFoXfPfqSndC1p2x5uo6ahivZwG8+/MZPCXj9cneznYBgG77wxi8ceeoJN9fX0KxyI0+FKBmy2iWEaCCEIhdtZsu4b3E4PKb5UTMukV89enHvJ2Uw9agq6rlNZUUlLUyvVlTU8+fQTHDjhQF555VVOPOYkzvvDud3ev7KyisumX8HFV1zIyH1HkJKS8qupjCUDEEmSJEmSpB1Quq6UY6ceT3pqBoP7DOuS16C5gmjuzaVWHT40hx9si+SsB9iJEJU1a1m19ksOOeDE5CyJFcc2w9hGeHNCevds2+b9ee/Qu0cf+vcqAUVHdXhw9xiH6vSi9xsEFmDYKAEvxBJgJPtwrF8xmzlv3sVRp/+DlKL+gIqqqLTHWmizGtAcLnSXG5c7gCIUhGGCYWHZJjOvOZDW+mTJXlVzkJHXn+yeg8jI7kNGVhEZWcWk+YNYpe+huLIw2zcAsHTdImYv/KDLM/TK683RE47rsi0Wj7Ji/VLGTRjHX++/dY/7yBZCcNO1t/Lhex+RnpJBRlpWZ+leXdOZt2wuC1fM4+STT4GYyoyXntomNyUajXLsodPYULkeTVXQVJ2bb7+FY6cdtZueavf6ddX0kiRJkiRJ2kna2tpYu7qUUfuO7LL95f++hmmZfLFkDn0LBqB7/MkdigpYCNtEUbVklStVB0Xb6myNyurVLFn5GSCYNO54hG0DCqruxUqEupS/3VrciNHS3sis8pVsrF7PgfscjBsTo60MT3pf4svmoaVm4kzvgVUfAt2FquuIjjbC9RuoLlvEw7fsz6h9p7HfpAvxegJofh9aYzvYAn/vIZimCZqCpjvR3DoqKoed+yAqOqmpeaRnFKIIwLKTy8kSMcz2aiJr30QYcYiHOsc7qHgIuRn5uF1uXE43lmnicDi3eS6X001GWhaz3plFVXkVM1/9z0/8ye1ciqJw053Xk98zj7Wr1jF79myG9BlGWiAdgCF9hnH/w3ezctVKFEXpNjH+tRffYF3ZahRF5bjfn8hfbrumy7K+3xo5AyJJkiRJkvQ/bNtm6sTjqKkp56777+SwIw4B4LkZL3DfnQ8wsmQ0tY3Vnc30+vTsn/z4VB2gqKjOAIrmR/ekJStibbmuEUfYcT6aM5NFyz+hT+FQjj7kTBRsjGgLCtZ3d2MHTMtk/rLP+XrVfDwuL+OGH0hJ0RB0Xy6q7gYrgTOnP4ozC0V1oqYEIREHFJo2beCjN+9gzepPcTg87L334YwYfgTBwmG8/cbtDBlxDL2GTcLhTwUBiq4gEmYy4BAC4gmEsCEWJbmMzARVI161mHjtPLpfPrZ9mtoaQQhWrF/KvKWf43K5fvS1drXPPp7DlZf+iRRvCiV9hqKrOn+6+1K+/vprFi9ezI033rjNOZeeczkffvwBOZl5zF7w4W4Y9Z5lz5rjkiRJkiRJ2gPc86+nwZuOK5DP4KEDAVi8cDH33HEvQ/vuTWnlWirrynH5HXhSXZTXJpcdCdsAoSBsEyvRlmw8uDVFQdEcTBx3EuNH/47mtjpiiSgoOigqiupIBjF0X15W13TG7X0gJxx6GgFfgDlff0xTWyNWpB4jVIVtJYiUfU6k7GOE2YHZWEGibhnCjJPmCfD742/nzLMfo3fvfVi48BUefexMZvzzZEKbNvDOc39i/ewZWOF27I42rNqq5FIsIRCJGHakHZGIgm2AbSLaNxFZM4t47Zf8lOADIBhIR1U1UgNBXn3xtZ90rV3tgInj+WzBx+T3ymPEpEFcdefFaJqGpmldOp1vLT0zE11zbNOk8LdKLsGSJEmSJEnaysKFC9nw9ZeM2DubAYOPobBXASuWrWD6mRcysHgIHdEQtmLz1fIv0XWduto6Dp90NPlZPXE6XMneHvFkRSvLykFXHck+GlsoKqqmse+IqYwaNjH5QS8sVN21uTmh4Ic+6HMz8jjhkNNoaKknMy0ruVFYWLEmQEFJtBIufQfNl4fZUUu0Zj6avwe6N5ssf4AjJ55G+77HsGLdV6xaPZd4vIO21lpmvX0nXiVBbsEIVE8QUbcONasYVXMml1iFOsDpBlXHFjZ2vHWnvHNVVQmmpNMebuOu2++lqKiI/fbfd6dce1fwer385ZbrmDFzBq+88grTpk0jFAqRkpLS7fE9CvIAGDS45Occ5h5LzoBIkiRJkiRttm7dOv79738z/dzpZGVlsXLpHO6++24uOvcSemYXUtdYQzwRR9h2Z1+K3Lxcxo4dw8bq9dte0DIQwvyfZVUqW5r7qZoDVA0hbIQtQNFQFHVzPsn3U1WVnIy8bvYIbNtG2CZmqBJEMhHd6qgl3rAYO9YEwsavG4ws7kO/oqE0NlXi96eTGshk6YpPsELVGK0VWPEWEmXziG6YgxVpBWEh4hFEqA471oLYkY7p28Hn9uHQHNx64+079bq7wsBBA7nhhhtYv349lZWVhEKh75wBCWakETdizFsw/2ce5Z5JBiCSJEmSJEmbPfPMMxx11FH06NGD0aNHU1BQQGZmJnfdfyeaqhE2QmxqrePwow7rct5df7+D1o5m2sNtXbYLM4KwTIRtYlvm5q0mqCqKpiNsO1n+FlB1J6qqIdCSjQr/x/c0/d5ONgiBGalPLs+KtWAYEXrn5nHRyTdy4VkPcdLvb2BIyXjaO5oQkRrsWBsi0YaINRPd+D6R2kWYkUZsM47VUYVA+947KuqODTozmE1eZj7B1O4/5Pc0LpeLk046iRdeeIE5c+ZgGEa3x40dvx+2bdPa0sLirxf/vIPcA8kARJIkSZIkabOqqipKSkqoqanhmWeeIZFIMHfuXBxuB2HRxulnns6Xi+fwx79c2eU8r9fLVdddzsbq0i7brUQIYUaTsxDCTEYRAkBgWyaK+u1yqy2du4VtdJuILsTOCEJAwcCKNqKpKi6Xm+xgFk4lTrx5JUa8jaz0AqLxGLF4skO7EanHjLUirDhWqIxo1WdE6haS6KjvnF35LsLe8dwQp8NFW2vohw/cQ4wZM4a8vDy8Xi+vv/46K1as2OaYHj17kJ2RQzQW4ZQTTudvdz20G0a655ABiCRJkiRJ0mYpKSm0traSSCTIzs7mD3/4Az6fj8cff4yr/+9PXHTZ+d957uTDJ9Pe0YZpfftRrjp8CCuBsKxkQrqwkn9sC1WxEPbm5VJWLNkPxIqzpWdId7andukP9dGwLRtb2FhW8v5CJKt+YcexO8oxQ1Wkej20tNXS1rYpWe3KjiXHvWUciRCYkS7XTRgJ4kY8ea2fINWfRl197U+6xs9JURT2339/IpHk+7jzzjtZvnz5NsfN/uojvG4fPo+fZ5+Z+XMPc48iy/BKkiRJkiRt9vjjj+P3+2lqaiIlJYXTTz+daDRKfX09RUVFP3j+9FMvZPGixQwsGkxGegEJ1Y0pnARSstEwEcJGERa2sMFKUN9QRm19Kf0LS3BoGojul/D8GKqqJmdSNs+adDcboSjKt7Mt/9N/xLZtmtoaOverqkbAm4LLuW2JXMuyaGr7tjO60+EkxZe2Q00FDdPAskxKK9eS2zOHma/sWf1Afkg4HKaiooI77rgDgGuvvZbBgwcD0N7WzhEHHUNLezMAl11xGedefNZuG+vuJgMQSZIkSZKkzSorK7nzzjsxTZP777//R5VNfePV97nvvidImAq2bZGZkc6mTdVkpObQr88+uHUN2+ggFGpi0ep5HDb1QN589U165fWmV17xd1/4OxoU7ghFTTbKsy0bRQFFVbEt+wevnzASJIw4hmnQ0FJPLBHDtm0GFJXgdnoIRzuoaaxGQSHVn7Z5vRikBdJxdtN8sDubmuswTIM1ZSuZv/QLvF7vT3vY3WTt2rXceuutAFx99dUMHTqUww44iqqaChRF4dzp5/KHqy/ezaPcvWQAIkmSJEmStJVnn30Wh8PB8ccf/6OvIYSgpaUVUEhPTyMWi/HoQzOZOfNlvJ4UnLqT9lATf7z2Ao474Ug2bdrEyceeRtCTSX5Wzx+8ti2SyevbM8Ogqgr25tmPrWc8FFXpMiuypYt3d0uotpwzf9lcDp5yKAMH9qOhoZFnnn4Gy7Lxeb3sN2YMmqoy/8sFdERDpPmDBFPSSQsE8XsDPzjOxpZNDBzVj472MHf9vz2/Ctb3KS0t5eabbwbguuuu45wTz0fXdfypPt795K3dPLrdTwYgkiRJkiRJP5NEIsHnc77GtBL4fX7GjBvZua9sQxnHHXki+w4Zh65t26pNCEFjawPrK9dg2ia2beN1+xnQq4SAL9l/osuSqs22bNO0ZOlfy7S63f/tf8GybdaVryY7PQeBYEXpUnzeAF6vh/fmvt3lfMMwcDgcXbY1bGrg5utu56t58ynK70N2ei6a9t0VsyKxMKZlsteEAQwfPpwJEyZs1/vck23YsIEbb7yRvn378v5rH3PAAQcQ18KcdNJJjBo1ancPb7eSAYgkSZIkSdIeYvppF1JbXk96SjrN7c14XV783gChSDt1jTW4vC5u/usNjDtgLLZt886b73Lr9beTn1lAYW7RNtfTdA3LtBBCsKF6HQ0tm2hpbyYUbmfEwNH0KejXOYuy9SfhhppSgjkp1NXU0dzSzLU3XENdVT0XXX7+DuV1HDXxWELtIXr37Pe9syCtoRZS0gIEClyccMIJ7L333tt9jz1ZY2Mj1dU1nH78mYwbcSAHnzCeL7+Yx5VXXkFefnc9XH4bZAAiSZIkSZK0h6gor2T6qecTjcc4dPLBrFqxhsqKSobvszcj9hnJ6eecjPI/tXg31W/i9Gln4cJLUX7vLvs0XQMh+HLJXOYtmwuAz+PH6XBS0ncQDs1F3x4D8Hn8nUuyDMtg4aovee/TdwgEAqxbU0rJ4IE/6nnuueV+3nj1TXrl9yYjNfM7j4slYrR3tHLk6ZNpbm7mkksu6fa4+rp6ytaXMXrs6G3ew54qFAoxbsQBqKrKXv2HU9dUS31jLe99+g65ebm7e3i7xbbze5IkSZIkSdJuUdirgFmfJZc4be8HdnZONv999RmOmHQMKf5U0lMyOvdZlgUCevfoS11zDRdffDEvPf8KGRnpvPruS7z035d59KHHUYRKVloOGWkZ1DbWcMjkgzu7en9f8NHY2EjFxkr2Gj60szP8FkIIPvt0DrawUX+gs7vb6aYdGDJkCHfffTdpaWmcfPLJqKpKa0srl55zBRXlFWxq2YSqKJimSXZmDtde/ycOP2bqdr2n3SUQCPDNqgWcduyZhPVW7v3nnZx76vl89cUCjvr9kbt7eLuFnAGRJEmSJEn6FXj/3Q+46drbGFkyunOZlKqpRGNRFq9ZyFXXXc7xJx1HRXklXq+XzKxkoGLbNm+//i4fvvcRSxYvIR6P88b7r5KVlfWd9yovK+e4w6fREenA6XBi2RbPvjiTvYYP6TymYVMDE8cewoCiQaSnZuBxfX9Vq0gsTCQe5qzLT+Htd95GVVVcLhdvvfgu6akZeN0+/J4AwZR0TMuielMFVZsqKOxRyFMv/ovs7Oyd8BZ3nWg0ynnnnccNN9zAsYcdz9TDD+Ouv/11dw9rt5ABiCRJkiRJ0q+AEILTTziL6vJaBvfdC03RiCViLN+wiNPPPpXzLp6+XdcxTXOb2YytJRIJRpSMIis9m8G9h2HaJmU1G6io3cD4/Q/kjgduITU1lUvOvoz58+fTv1cJORl52zWj09zehGkaDBo6kH0n7kNVeTVvPv8uuZn56Jq+Tf5JwkiwonwxuUVZ3HTDTQwaMmi7nvHnFo/Hufnmm8nNzSXDlcNbr77Lqo3LKSos4r9vzMDj8ezuIf6sZAAiSZIkSZL0K2FZFlddeg0LvlxIcV5v1lWt5sprrmDaKT++pPD/uu+OB3h+5guMGXZAl+2lFWto62glFGlHUzV83gC5GXmk+YN4PdvfT8U0DVpCzZ1J8Zqmk56S8Z0BjGEafLNmHsOGDefRpx/68Q+2Cz344IPMnz+f3NxcPv/kS0KtHWSkZaJrDsKxDl5/72Wyc/fsGZydSQYgkiRJkiRJvyJCCJ58/CmefPTf3Hb3LRw0acJOvf74kQcR8KTQr7BrbohlW4TC7URiYWzbxulwEvCl4nHt+t/uG2aCJquGs887m8mTJ+/y++2om266iaamJs455xxWL1tDQa9C7r/j/xFqCyOEjdPj4K2PX/vFJNb/VDIAkSRJkiRJkrbbqMFj6JldQOF3dG23LAtbWOia42f9oB6wfy+WLl3KI4888rPdc3t1Nn/c6n28+uLr3HDdjZ2zQwdNnMCdf/tlN2DcXttfyFmSJEmSJEn6zfN6vERikW0aHm6haRoO3dlt8KGoyW070ktke61etpbxYw9ACMHaZcu+c3y7w5Yu81v73fFH8+TMJxi7/1gSRoL33nufj97/ZDeN8OclZ0AkSZIkSZKk7Xbv7Q/w3Mzn2GfwGFwO1w6d+7+d2lVNxbbsnTKuyrpyDC3GuINGs2z5cm688Ub6DxiwU669q1187mV8+fmX+L1+Pl340a9+KZYMQCRJkiRJkqTtZhgGew8cSb/CgfT6jmVYCTNBVV0Flm1SkNML94/NA1GA7fxStWyLQWP6kJaVSmlpKWtWr+aII47ghGnT0DTtx93/ZxKPxxk3/EDiiRgPPHgvB085eHcPaZeSAYgkSZIkSZK0Qx578An+/sA/GFEymmBKepd9raEWFq1ZSIovBcu2ME2TMXuN3+a3+qqqYNuC5GZlpyyZSkn1c9EN5xKLxfj4ww+pqaujurqaYcOGMXz4cPr160d6evoeOcPw6D8e58G/PUQwLcinCz7eI8e4s8gARJIkSZIkSdphl5x9GR998hH52T3pldcbh6ZTUV9Gec1Gjj7maO6471Zs22b8iIMoyu9DVvC7y8xuCUY0TcXavCRLVVVsu/vlWf+7lKvLtTSVI0+ZQsmw/gA0NTaxdNlSysvLWblyJX2K+3DyqSfTv39/Vq5cyaeffsrhhx9OYWHhT3wjP41hGIwZNh7TMrni6ss545xTd+t4diUZgEiSJEmSJEk/yqKFi7j8wquob6jHFhZ+bwo33Xo9Rx13ZOcxzz/zAv984DH2HjDyO6+TTNIGW4jtXnK1I9IyUjn61MMoXVNKbUsNCxcuJBAIEAqF6NGjB21tbVx//fXk5+fv/JvvgH/c908ef+RxhBAsK128W8eyK8kARJIkSZIkSdplOjo6OGCfgxg/YmK3+zVdw7YshPh2ZkPTNCzL2iXj0XSN9Jw0ho8dysC9+uP1enn44YcZPHgw06ZN2yX33F62bTNxzCE0NTXxj0f/zoRJB/zwSb9AMgCRJEmSJEmSdqm9+o9g7LADuq2apWkqoGBZVmcAYtkGmur43qVW3emu38YPUkHPsZgyZTKHHHLI9p+3i6wvXc8xU34PwFP/fZKRo0bs5hHtfPruHoAkSZIkSZL069XW2ob4jlwOoDPnA5IBhG3bPP3Wv9BVHb83AEBrRwtup4fMtCyygjn07zUQr9vXtUqWAsvWLWZt+SomjZ6yTXL8d7Lhq08Xctyxv/+RT7hz9enbh1PPOJVn/vMMV1zwRz77+uPdPaSdTjYilCRJkiRJknaZ1LRU8vN60NzWuF3HW7ZFSfEQUgNBYokosUSU7PRcdE1nY/V6PvvmI5587WHemfs6FTVl386QCNA1nYaWev476ymWrVu03bMnbW1tDBoy6Mc+4k531XWXM3jQYA75lZbjlUuwJEmSJEmSpF3qmwWLmH76BYwavB8up/tHX0cIQWNrAyvWL2HVxhUYZoKsYDZjhx1IUX5vhBC0h9t4/8u3qWmoYkDRIA4efdj39gFRVIUFqz9nzlef7pIO7dK2ZAAiSZIkSZIk7XIXn3U5i75ZxPCB+6BrPz0LwDATrClbxfzlcwlHwwzrP4Lxwyd2lu+dt2wuC1fOo0d2AcMHjqI4v0+3uSGjDxrBJ/M/4PHHH/9V997Yk8gARJIkSZIkSdrlhBCcfeJ5lK4tZa/+I3YoCBkzaR9GjBuGqqkgFKLRGO8+9wHV5bWYlsmcbz5mWeli+hcOZNLoKZTXbaRvwQAWrPiSL5fOAWD/4QcxYuCoba4dzArSZFdz2GGHMXXq1J32vNJ3kwGIJEmSJEmS9LMQQvDHS67my7nzGdZ/BM5uqmJtze1xMX7KGEaMG9ZldkIIgWlaVJRW8ubMWSQSBl8uncP8pZ9TnN+HgC+VCfscjBCCyvpyZn3xJgkjwRlHnkdgc2L71k694jiefPJJLrroIoYOHbrTn1vqSgYgkiRJkiRJ0s9GCME9t93LS8+/ypA+wwj4UroeoEAwM0iPwhwOm3YIqqpuszRKCEFpaSm5ubksm78KV4rO888/z6x336M11ExhXjFHjP9d5/FtHa18/NV7TBo9hRR/6jZjCqT5mXziBJ5/4XnSUoNc9+drqSwtpaq0lM+e/g+3vP7GLnkXv1UyAJEkSZIkSZJ+di/MfJm7b7+b7PRc0gLpCGFjmAYDh/clvziXjo4OotEo8Xi884+u6zidTpxOJ/X19WiaxtTDptJS1cGKNct4/KlHaQ21kJ2ew4mTz9jhMTldDkJ6EyIuWPfZLLJ9XpqiUd5fv0Hmh+xEMgCRJEmSJEmSdovGhkYe/ttjrFi2Ak3VSM9Mp7hvEQOG9CcjI52UlBS8Xi9erxe3241lWUQiEVpbW0lPTycajXLRuZcyIHcIAJZlsWjNQlasX8IZR573o8YUiUVYu3gWg/KycKoqIVvw5Oefd+6vqKigubmZvffee2e8gt8kGYBIkiRJkiRJvzgNmxp46YVX+NfD/2bcsAO77AtHO/B5/D/62o5EiEMv34+XZ3xOaiCV/fYdy8GTJ/LIg4+xbNUSAGbMmPGTxv9bJgMQSZIkSZIk6Rflqy8W8K+nnkB36PTu2Y+Tz5zGo3c+RUtD6069T2avDGwSvPbqawgBhb0KSMn2cfHFFzNmzJideq/fEhmASJIkSZIkSb8YzU3NnD/9Qi64+DwGDUp2L7dtm0hHhAdvfmKX3lsIwScL3ufJGY8zasy2JX2l7SPbPUqSJEmSJEm/GNdccR1Tj5xCSUkJLS0tVFZW0tDQQOnaDUTj0V16b0VRKMjtxVUXX4NlWbv0Xr9mcgZEkiRJkiRJ+kX4fO7nPPzIw7jdbrxeL7Ztk5aWRjwep6amhhVfr6Z/QQl5WT122RiEECxdt4jxB43n1ntu2GX3+TWTAYgkSZIkSZK0x0skEhw0bhJF/Qo56eSTGDJkCEVFRZ37hRBUVVZz3OHTKM7vQ05G3g5dv7x2I4W5RdtVbre9o43VZSs6u6xLO+b/AyVqGcW6cR8BAAAAAElFTkSuQmCC' width=800.0/>\n",
       "            </div>\n",
       "        "
      ],
      "text/plain": [
       "Canvas(toolbar=Toolbar(toolitems=[('Home', 'Reset original view', 'home', 'home'), ('Back', 'Back to previous …"
      ]
     },
     "metadata": {},
     "output_type": "display_data"
    }
   ],
   "source": [
    "fig = plt.figure(figsize=(8,6))\n",
    "#zoom=(535921.5766851009, 598522.1874080556, 4142422.35695271, 4192179.7456047614)\n",
    "zoom=(530484.3434251469, 596827.5282945487, 4142671.14389597, 4192428.5325480215)\n",
    "\n",
    "dzmin=0.05\n",
    "\n",
    "def plot_time(tidx):\n",
    "    fig.clf()\n",
    "    ax=fig.add_axes([0,0,1,1])\n",
    "    ax.axis('off')\n",
    "    \n",
    "    plot_wkb.plot_wkb(shore_poly,ec='k',alpha=0.6,lw=0.7,fc='none',zorder=2)\n",
    "    \n",
    "    ax.axis('equal')\n",
    "    \n",
    "    if 1: # Bathy\n",
    "        if 0:\n",
    "            grid.contourf_node_values( map_ds.NetNode_z.values, np.linspace(-90,90,33), cmap='GnBu_r', extend='both',zorder=-2)\n",
    "        if 1:\n",
    "            # just light contours\n",
    "            grid.contour_node_values( map_ds.NetNode_z.values, np.linspace(-90,5,15), colors='k',alpha=0.2, \n",
    "                                     linestyles='-', linewidths=0.5,zorder=0.5)\n",
    "\n",
    "    data = get_data(tidx) # handles interpolation for velo, salt, water depth\n",
    "    \n",
    "    if 1: # Surface salinity\n",
    "        scal = data['sa1'] # map_ds.sa1.isel(time=tidx,laydim=-1).values\n",
    "        wet = (data['waterdepth'] > dzmin)\n",
    "        \n",
    "        scal_label=\"Surface salinity (ppt)\"\n",
    "        #scal = map_ds.sa1.isel(time=tidx,laydim=0).values\n",
    "        #scal_label=\"Bottome salinity (ppt)\"\n",
    "        \n",
    "        salt_coll = grid.plot_cells(values=scal,mask=wet,clim=[28,32],cmap=salt_cmap,ax=ax, lw=0.5, edgecolor='face', zorder=0)\n",
    "        dry_coll = grid.plot_cells(color='0.9',mask=~wet, lw=0.5, edgecolor='face', zorder=0)\n",
    "        cax = fig.add_axes([0.75,0.50,0.025,0.35])\n",
    "        plt.colorbar(salt_coll,cax=cax,label=scal_label)\n",
    "    \n",
    "    if 1: # Velocity\n",
    "        if 1: # Tracked quiver from cartesian\n",
    "            quiv = get_quiver(data,zoom)\n",
    "            quiv.size=100\n",
    "            quiv.coll_args = dict(\n",
    "                zorder=3,\n",
    "                color='k',lw=1.1,\n",
    "                #cmap='inferno_r', clim=[0,0.8], lw=1.4\n",
    "                )\n",
    "            quiv.plot_quiver(ax=ax)\n",
    "            quiv.quiverkey(580000,4.165e6,0.5,\"  0.5 m s$^{-1}$\",ax=ax)\n",
    "    \n",
    "    t=data['time']\n",
    "    t_str=utils.strftime(t,\"%Y-%m-%d %H:%MZ\")\n",
    "    print(\"Plotting \",t_str)\n",
    "    ax.text(0.77,0.91,t_str,size=14,transform=ax.transAxes,ha='center')\n",
    "    \n",
    "    mask = geometry.Polygon( [[482000,4.13e6],\n",
    "                              [546500,4.13e6],\n",
    "                              [544500,4.1609e6],\n",
    "                              [532000,4.1974e6],\n",
    "                              [506400,4.2203e6],\n",
    "                              [479400,4.2203e6]])\n",
    "    plot_wkb.plot_wkb(mask,ax=ax,fc='w',lw=0.0,ec='none',zorder=4)\n",
    "    \n",
    "    ax.axis(zoom)\n",
    "\n",
    "\n",
    "tidxs=np.arange(1464,1464+8*24,0.5)\n",
    "fig_dir=\"vel_salt_frames_v00\"\n",
    "if not os.path.exists(fig_dir):\n",
    "    os.makedirs(fig_dir)\n",
    "    \n",
    "for frame,tidx in enumerate(tidxs):\n",
    "    plot_time(tidx)\n",
    "    fig.savefig(os.path.join(fig_dir,f\"frame_{frame:04d}.png\"))"
   ]
  },
  {
   "cell_type": "code",
   "execution_count": 112,
   "id": "4402e8c4-ef76-4596-b0bb-9a1065373c55",
   "metadata": {},
   "outputs": [
    {
     "name": "stdout",
     "output_type": "stream",
     "text": [
      "ffmpeg version 4.4.2-0ubuntu0.22.04.1 Copyright (c) 2000-2021 the FFmpeg developers\n",
      "  built with gcc 11 (Ubuntu 11.2.0-19ubuntu1)\n",
      "  configuration: --prefix=/usr --extra-version=0ubuntu0.22.04.1 --toolchain=hardened --libdir=/usr/lib/x86_64-linux-gnu --incdir=/usr/include/x86_64-linux-gnu --arch=amd64 --enable-gpl --disable-stripping --enable-gnutls --enable-ladspa --enable-libaom --enable-libass --enable-libbluray --enable-libbs2b --enable-libcaca --enable-libcdio --enable-libcodec2 --enable-libdav1d --enable-libflite --enable-libfontconfig --enable-libfreetype --enable-libfribidi --enable-libgme --enable-libgsm --enable-libjack --enable-libmp3lame --enable-libmysofa --enable-libopenjpeg --enable-libopenmpt --enable-libopus --enable-libpulse --enable-librabbitmq --enable-librubberband --enable-libshine --enable-libsnappy --enable-libsoxr --enable-libspeex --enable-libsrt --enable-libssh --enable-libtheora --enable-libtwolame --enable-libvidstab --enable-libvorbis --enable-libvpx --enable-libwebp --enable-libx265 --enable-libxml2 --enable-libxvid --enable-libzimg --enable-libzmq --enable-libzvbi --enable-lv2 --enable-omx --enable-openal --enable-opencl --enable-opengl --enable-sdl2 --enable-pocketsphinx --enable-librsvg --enable-libmfx --enable-libdc1394 --enable-libdrm --enable-libiec61883 --enable-chromaprint --enable-frei0r --enable-libx264 --enable-shared\n",
      "  libavutil      56. 70.100 / 56. 70.100\n",
      "  libavcodec     58.134.100 / 58.134.100\n",
      "  libavformat    58. 76.100 / 58. 76.100\n",
      "  libavdevice    58. 13.100 / 58. 13.100\n",
      "  libavfilter     7.110.100 /  7.110.100\n",
      "  libswscale      5.  9.100 /  5.  9.100\n",
      "  libswresample   3.  9.100 /  3.  9.100\n",
      "  libpostproc    55.  9.100 / 55.  9.100\n",
      "Input #0, image2, from 'vel_salt_frames_v00/frame_%04d.png':\n",
      "  Duration: 00:00:38.40, start: 0.000000, bitrate: N/A\n",
      "  Stream #0:0: Video: png, rgba(pc), 800x600 [SAR 3937:3937 DAR 4:3], 10 fps, 10 tbr, 10 tbn, 10 tbc\n",
      "Stream mapping:\n",
      "  Stream #0:0 -> #0:0 (png (native) -> h264 (libx264))\n",
      "Press [q] to stop, [?] for help\n",
      "[libx264 @ 0x5601d78a0500] using SAR=1/1\n",
      "[libx264 @ 0x5601d78a0500] using cpu capabilities: MMX2 SSE2Fast SSSE3 SSE4.2 AVX FMA3 BMI2 AVX2\n",
      "[libx264 @ 0x5601d78a0500] profile High, level 4.0, 4:2:0, 8-bit\n",
      "[libx264 @ 0x5601d78a0500] 264 - core 163 r3060 5db6aa6 - H.264/MPEG-4 AVC codec - Copyleft 2003-2021 - http://www.videolan.org/x264.html - options: cabac=1 ref=5 deblock=1:0:0 analyse=0x3:0x113 me=hex subme=8 psy=1 psy_rd=1.00:0.00 mixed_ref=1 me_range=16 chroma_me=1 trellis=2 8x8dct=1 cqm=0 deadzone=21,11 fast_pskip=1 chroma_qp_offset=-2 threads=19 lookahead_threads=3 sliced_threads=0 nr=0 decimate=1 interlaced=0 bluray_compat=0 constrained_intra=0 bframes=3 b_pyramid=2 b_adapt=1 b_bias=0 direct=3 weightb=1 open_gop=0 weightp=2 keyint=250 keyint_min=10 scenecut=40 intra_refresh=0 rc_lookahead=50 rc=crf mbtree=1 crf=20.0 qcomp=0.60 qpmin=0 qpmax=69 qpstep=4 ip_ratio=1.40 aq=1:1.00\n",
      "Output #0, mp4, to 'vel_salt_frames_v00/southbay_vel_salt.mp4':\n",
      "  Metadata:\n",
      "    encoder         : Lavf58.76.100\n",
      "  Stream #0:0: Video: h264 (avc1 / 0x31637661), yuv420p(tv, progressive), 800x600 [SAR 1:1 DAR 4:3], q=2-31, 10 fps, 10240 tbn\n",
      "    Metadata:\n",
      "      encoder         : Lavc58.134.100 libx264\n",
      "    Side data:\n",
      "      cpb: bitrate max/min/avg: 0/0/0 buffer size: 0 vbv_delay: N/A\n",
      "frame=  384 fps=110 q=-1.0 Lsize=    8751kB time=00:00:38.10 bitrate=1881.5kbits/s speed=10.9x    \n",
      "video:8745kB audio:0kB subtitle:0kB other streams:0kB global headers:0kB muxing overhead: 0.062144%\n",
      "[libx264 @ 0x5601d78a0500] frame I:2     Avg QP:11.81  size: 64104\n",
      "[libx264 @ 0x5601d78a0500] frame P:100   Avg QP:20.81  size: 34706\n",
      "[libx264 @ 0x5601d78a0500] frame B:282   Avg QP:26.21  size: 18991\n",
      "[libx264 @ 0x5601d78a0500] consecutive B-frames:  1.6%  1.6%  0.0% 96.9%\n",
      "[libx264 @ 0x5601d78a0500] mb I  I16..4: 38.5% 25.4% 36.1%\n",
      "[libx264 @ 0x5601d78a0500] mb P  I16..4:  0.1%  0.3%  6.2%  P16..4:  6.7%  4.9% 10.8%  0.0%  0.0%    skip:71.1%\n",
      "[libx264 @ 0x5601d78a0500] mb B  I16..4:  0.0%  0.1%  0.8%  B16..8:  4.4%  4.4% 11.2%  direct: 5.6%  skip:73.4%  L0:39.0% L1:33.4% BI:27.6%\n",
      "[libx264 @ 0x5601d78a0500] 8x8 transform intra:9.9% inter:3.2%\n",
      "[libx264 @ 0x5601d78a0500] direct mvs  spatial:96.5% temporal:3.5%\n",
      "[libx264 @ 0x5601d78a0500] coded y,uvDC,uvAC intra: 74.6% 82.4% 81.9% inter: 15.7% 16.8% 14.5%\n",
      "[libx264 @ 0x5601d78a0500] i16 v,h,dc,p: 83% 12%  5%  0%\n",
      "[libx264 @ 0x5601d78a0500] i8 v,h,dc,ddl,ddr,vr,hd,vl,hu: 22%  7% 59%  1%  1%  1%  1%  1%  5%\n",
      "[libx264 @ 0x5601d78a0500] i4 v,h,dc,ddl,ddr,vr,hd,vl,hu: 14%  9% 13%  7% 14% 13% 11%  7% 11%\n",
      "[libx264 @ 0x5601d78a0500] i8c dc,h,v,p: 61% 11% 13% 15%\n",
      "[libx264 @ 0x5601d78a0500] Weighted P-Frames: Y:0.0% UV:0.0%\n",
      "[libx264 @ 0x5601d78a0500] ref P L0: 45.7% 11.7% 13.9% 11.6% 16.8%  0.3%\n",
      "[libx264 @ 0x5601d78a0500] ref B L0: 85.8%  7.8%  3.8%  2.6%\n",
      "[libx264 @ 0x5601d78a0500] ref B L1: 97.9%  2.1%\n",
      "[libx264 @ 0x5601d78a0500] kb/s:1865.48\n",
      "\n"
     ]
    }
   ],
   "source": [
    "from stompy.plot import mkanim\n",
    "\n",
    "movie_fn=os.path.join(fig_dir,\"southbay_vel_salt.mp4\")\n",
    "mkanim.mkanim(movie_fn, os.path.join(fig_dir,\"frame_%04d.png\"), fps=10)\n"
   ]
  },
  {
   "cell_type": "code",
   "execution_count": 116,
   "id": "41362f55-db64-4561-8d26-cf9af0853e8b",
   "metadata": {},
   "outputs": [
    {
     "data": {
      "text/html": [
       "<video src=\"vel_salt_frames_v00/southbay_vel_salt.mp4\" controls  >\n",
       "      Your browser does not support the <code>video</code> element.\n",
       "    </video>"
      ],
      "text/plain": [
       "<IPython.core.display.Video object>"
      ]
     },
     "execution_count": 116,
     "metadata": {},
     "output_type": "execute_result"
    }
   ],
   "source": [
    "from IPython.display import Video\n",
    "\n",
    "Video(movie_fn)"
   ]
  }
 ],
 "metadata": {
  "kernelspec": {
   "display_name": "Python 3 (ipykernel)",
   "language": "python",
   "name": "python3"
  },
  "language_info": {
   "codemirror_mode": {
    "name": "ipython",
    "version": 3
   },
   "file_extension": ".py",
   "mimetype": "text/x-python",
   "name": "python",
   "nbconvert_exporter": "python",
   "pygments_lexer": "ipython3",
   "version": "3.9.15"
  }
 },
 "nbformat": 4,
 "nbformat_minor": 5
}
